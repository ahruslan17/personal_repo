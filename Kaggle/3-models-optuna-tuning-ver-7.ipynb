{
 "cells": [
  {
   "cell_type": "markdown",
   "id": "a3c0ae60",
   "metadata": {
    "papermill": {
     "duration": 0.017214,
     "end_time": "2023-10-05T16:32:32.446770",
     "exception": false,
     "start_time": "2023-10-05T16:32:32.429556",
     "status": "completed"
    },
    "tags": []
   },
   "source": [
    "<div style=\"color: navy; text-align: center; font-family: 'Georgia', serif; font-size: 32px; font-weight: bold;\">\n",
    "    Description\n",
    "</div>"
   ]
  },
  {
   "cell_type": "markdown",
   "id": "4475fd8c",
   "metadata": {
    "papermill": {
     "duration": 0.015084,
     "end_time": "2023-10-05T16:32:32.478407",
     "exception": false,
     "start_time": "2023-10-05T16:32:32.463323",
     "status": "completed"
    },
    "tags": []
   },
   "source": [
    "<div style=\"color: green; text-align: left; font-family: 'Calibri', sans-serif; font-size: 32px;\">\n",
    "    Hello, dear colleagues!\n",
    "</div>\n",
    "\n",
    "<div style=\"color: dark-blue; text-align: left; font-family: 'Calibri', sans-serif; font-size: 24px;\">\n",
    "    This notebook was made in educational purposes, every model was created by myself using official documentation.\n",
    "    I hope it will be useful for other beginners in ML.\n",
    "    If you have check it, please, upvote!\n",
    "    If you have any questions or suggestions about improvements, leave it in comment section.\n",
    "</div>\n"
   ]
  },
  {
   "cell_type": "markdown",
   "id": "7edadcc1",
   "metadata": {
    "papermill": {
     "duration": 0.016091,
     "end_time": "2023-10-05T16:32:32.510385",
     "exception": false,
     "start_time": "2023-10-05T16:32:32.494294",
     "status": "completed"
    },
    "tags": []
   },
   "source": [
    "# Libraries import"
   ]
  },
  {
   "cell_type": "code",
   "execution_count": 1,
   "id": "f673885f",
   "metadata": {
    "execution": {
     "iopub.execute_input": "2023-10-05T16:32:32.542177Z",
     "iopub.status.busy": "2023-10-05T16:32:32.541831Z",
     "iopub.status.idle": "2023-10-05T16:32:35.660532Z",
     "shell.execute_reply": "2023-10-05T16:32:35.659120Z"
    },
    "papermill": {
     "duration": 3.13872,
     "end_time": "2023-10-05T16:32:35.663302",
     "exception": false,
     "start_time": "2023-10-05T16:32:32.524582",
     "status": "completed"
    },
    "tags": []
   },
   "outputs": [],
   "source": [
    "import numpy as np\n",
    "import pandas as pd\n",
    "import matplotlib.pyplot as plt\n",
    "import plotly.express as px\n",
    "import plotly.graph_objects as go\n",
    "import seaborn as sns\n",
    "import plotly\n",
    "import plotly.express as px\n",
    "from sklearn.model_selection import train_test_split\n",
    "from sklearn.preprocessing import StandardScaler"
   ]
  },
  {
   "cell_type": "code",
   "execution_count": 2,
   "id": "a9cdabac",
   "metadata": {
    "execution": {
     "iopub.execute_input": "2023-10-05T16:32:35.695380Z",
     "iopub.status.busy": "2023-10-05T16:32:35.694211Z",
     "iopub.status.idle": "2023-10-05T16:32:47.637191Z",
     "shell.execute_reply": "2023-10-05T16:32:47.635819Z"
    },
    "papermill": {
     "duration": 11.960608,
     "end_time": "2023-10-05T16:32:47.639570",
     "exception": false,
     "start_time": "2023-10-05T16:32:35.678962",
     "status": "completed"
    },
    "tags": []
   },
   "outputs": [
    {
     "name": "stdout",
     "output_type": "stream",
     "text": [
      "Collecting lazypredict\r\n",
      "  Downloading lazypredict-0.2.12-py2.py3-none-any.whl (12 kB)\r\n",
      "Requirement already satisfied: click in /opt/conda/lib/python3.10/site-packages (from lazypredict) (8.1.7)\r\n",
      "Requirement already satisfied: scikit-learn in /opt/conda/lib/python3.10/site-packages (from lazypredict) (1.2.2)\r\n",
      "Requirement already satisfied: pandas in /opt/conda/lib/python3.10/site-packages (from lazypredict) (2.0.3)\r\n",
      "Requirement already satisfied: tqdm in /opt/conda/lib/python3.10/site-packages (from lazypredict) (4.66.1)\r\n",
      "Requirement already satisfied: joblib in /opt/conda/lib/python3.10/site-packages (from lazypredict) (1.3.2)\r\n",
      "Requirement already satisfied: lightgbm in /opt/conda/lib/python3.10/site-packages (from lazypredict) (3.3.2)\r\n",
      "Requirement already satisfied: xgboost in /opt/conda/lib/python3.10/site-packages (from lazypredict) (1.7.6)\r\n",
      "Requirement already satisfied: wheel in /opt/conda/lib/python3.10/site-packages (from lightgbm->lazypredict) (0.40.0)\r\n",
      "Requirement already satisfied: numpy in /opt/conda/lib/python3.10/site-packages (from lightgbm->lazypredict) (1.23.5)\r\n",
      "Requirement already satisfied: scipy in /opt/conda/lib/python3.10/site-packages (from lightgbm->lazypredict) (1.11.2)\r\n",
      "Requirement already satisfied: threadpoolctl>=2.0.0 in /opt/conda/lib/python3.10/site-packages (from scikit-learn->lazypredict) (3.1.0)\r\n",
      "Requirement already satisfied: python-dateutil>=2.8.2 in /opt/conda/lib/python3.10/site-packages (from pandas->lazypredict) (2.8.2)\r\n",
      "Requirement already satisfied: pytz>=2020.1 in /opt/conda/lib/python3.10/site-packages (from pandas->lazypredict) (2023.3)\r\n",
      "Requirement already satisfied: tzdata>=2022.1 in /opt/conda/lib/python3.10/site-packages (from pandas->lazypredict) (2023.3)\r\n",
      "Requirement already satisfied: six>=1.5 in /opt/conda/lib/python3.10/site-packages (from python-dateutil>=2.8.2->pandas->lazypredict) (1.16.0)\r\n",
      "Installing collected packages: lazypredict\r\n",
      "Successfully installed lazypredict-0.2.12\r\n"
     ]
    }
   ],
   "source": [
    "!pip install lazypredict"
   ]
  },
  {
   "cell_type": "markdown",
   "id": "5e6495a1",
   "metadata": {
    "papermill": {
     "duration": 0.015525,
     "end_time": "2023-10-05T16:32:47.669878",
     "exception": false,
     "start_time": "2023-10-05T16:32:47.654353",
     "status": "completed"
    },
    "tags": []
   },
   "source": [
    "# Data import"
   ]
  },
  {
   "cell_type": "code",
   "execution_count": 3,
   "id": "a662beb4",
   "metadata": {
    "execution": {
     "iopub.execute_input": "2023-10-05T16:32:47.702005Z",
     "iopub.status.busy": "2023-10-05T16:32:47.701315Z",
     "iopub.status.idle": "2023-10-05T16:32:47.801194Z",
     "shell.execute_reply": "2023-10-05T16:32:47.800051Z"
    },
    "papermill": {
     "duration": 0.118935,
     "end_time": "2023-10-05T16:32:47.803810",
     "exception": false,
     "start_time": "2023-10-05T16:32:47.684875",
     "status": "completed"
    },
    "tags": []
   },
   "outputs": [],
   "source": [
    "train_data = pd.read_csv('/kaggle/input/spaceship-titanic/train.csv')\n",
    "test_data = pd.read_csv('/kaggle/input/spaceship-titanic/test.csv')"
   ]
  },
  {
   "cell_type": "code",
   "execution_count": 4,
   "id": "22865640",
   "metadata": {
    "execution": {
     "iopub.execute_input": "2023-10-05T16:32:47.836974Z",
     "iopub.status.busy": "2023-10-05T16:32:47.836514Z",
     "iopub.status.idle": "2023-10-05T16:32:47.874277Z",
     "shell.execute_reply": "2023-10-05T16:32:47.873183Z"
    },
    "papermill": {
     "duration": 0.058421,
     "end_time": "2023-10-05T16:32:47.876616",
     "exception": false,
     "start_time": "2023-10-05T16:32:47.818195",
     "status": "completed"
    },
    "tags": []
   },
   "outputs": [
    {
     "data": {
      "text/html": [
       "<div>\n",
       "<style scoped>\n",
       "    .dataframe tbody tr th:only-of-type {\n",
       "        vertical-align: middle;\n",
       "    }\n",
       "\n",
       "    .dataframe tbody tr th {\n",
       "        vertical-align: top;\n",
       "    }\n",
       "\n",
       "    .dataframe thead th {\n",
       "        text-align: right;\n",
       "    }\n",
       "</style>\n",
       "<table border=\"1\" class=\"dataframe\">\n",
       "  <thead>\n",
       "    <tr style=\"text-align: right;\">\n",
       "      <th></th>\n",
       "      <th>PassengerId</th>\n",
       "      <th>Transported</th>\n",
       "    </tr>\n",
       "  </thead>\n",
       "  <tbody>\n",
       "    <tr>\n",
       "      <th>0</th>\n",
       "      <td>0013_01</td>\n",
       "      <td>False</td>\n",
       "    </tr>\n",
       "    <tr>\n",
       "      <th>1</th>\n",
       "      <td>0018_01</td>\n",
       "      <td>False</td>\n",
       "    </tr>\n",
       "    <tr>\n",
       "      <th>2</th>\n",
       "      <td>0019_01</td>\n",
       "      <td>False</td>\n",
       "    </tr>\n",
       "    <tr>\n",
       "      <th>3</th>\n",
       "      <td>0021_01</td>\n",
       "      <td>False</td>\n",
       "    </tr>\n",
       "    <tr>\n",
       "      <th>4</th>\n",
       "      <td>0023_01</td>\n",
       "      <td>False</td>\n",
       "    </tr>\n",
       "    <tr>\n",
       "      <th>...</th>\n",
       "      <td>...</td>\n",
       "      <td>...</td>\n",
       "    </tr>\n",
       "    <tr>\n",
       "      <th>4272</th>\n",
       "      <td>9266_02</td>\n",
       "      <td>False</td>\n",
       "    </tr>\n",
       "    <tr>\n",
       "      <th>4273</th>\n",
       "      <td>9269_01</td>\n",
       "      <td>False</td>\n",
       "    </tr>\n",
       "    <tr>\n",
       "      <th>4274</th>\n",
       "      <td>9271_01</td>\n",
       "      <td>False</td>\n",
       "    </tr>\n",
       "    <tr>\n",
       "      <th>4275</th>\n",
       "      <td>9273_01</td>\n",
       "      <td>False</td>\n",
       "    </tr>\n",
       "    <tr>\n",
       "      <th>4276</th>\n",
       "      <td>9277_01</td>\n",
       "      <td>False</td>\n",
       "    </tr>\n",
       "  </tbody>\n",
       "</table>\n",
       "<p>4277 rows × 2 columns</p>\n",
       "</div>"
      ],
      "text/plain": [
       "     PassengerId  Transported\n",
       "0        0013_01        False\n",
       "1        0018_01        False\n",
       "2        0019_01        False\n",
       "3        0021_01        False\n",
       "4        0023_01        False\n",
       "...          ...          ...\n",
       "4272     9266_02        False\n",
       "4273     9269_01        False\n",
       "4274     9271_01        False\n",
       "4275     9273_01        False\n",
       "4276     9277_01        False\n",
       "\n",
       "[4277 rows x 2 columns]"
      ]
     },
     "execution_count": 4,
     "metadata": {},
     "output_type": "execute_result"
    }
   ],
   "source": [
    "sample_submission = pd.read_csv('/kaggle/input/spaceship-titanic/sample_submission.csv')\n",
    "sample_submission"
   ]
  },
  {
   "cell_type": "code",
   "execution_count": 5,
   "id": "e865c3dd",
   "metadata": {
    "execution": {
     "iopub.execute_input": "2023-10-05T16:32:47.974993Z",
     "iopub.status.busy": "2023-10-05T16:32:47.973935Z",
     "iopub.status.idle": "2023-10-05T16:32:48.005287Z",
     "shell.execute_reply": "2023-10-05T16:32:48.004251Z"
    },
    "papermill": {
     "duration": 0.054907,
     "end_time": "2023-10-05T16:32:48.008446",
     "exception": false,
     "start_time": "2023-10-05T16:32:47.953539",
     "status": "completed"
    },
    "tags": []
   },
   "outputs": [
    {
     "data": {
      "text/html": [
       "<div>\n",
       "<style scoped>\n",
       "    .dataframe tbody tr th:only-of-type {\n",
       "        vertical-align: middle;\n",
       "    }\n",
       "\n",
       "    .dataframe tbody tr th {\n",
       "        vertical-align: top;\n",
       "    }\n",
       "\n",
       "    .dataframe thead th {\n",
       "        text-align: right;\n",
       "    }\n",
       "</style>\n",
       "<table border=\"1\" class=\"dataframe\">\n",
       "  <thead>\n",
       "    <tr style=\"text-align: right;\">\n",
       "      <th></th>\n",
       "      <th>PassengerId</th>\n",
       "      <th>HomePlanet</th>\n",
       "      <th>CryoSleep</th>\n",
       "      <th>Cabin</th>\n",
       "      <th>Destination</th>\n",
       "      <th>Age</th>\n",
       "      <th>VIP</th>\n",
       "      <th>RoomService</th>\n",
       "      <th>FoodCourt</th>\n",
       "      <th>ShoppingMall</th>\n",
       "      <th>Spa</th>\n",
       "      <th>VRDeck</th>\n",
       "      <th>Name</th>\n",
       "      <th>Transported</th>\n",
       "    </tr>\n",
       "  </thead>\n",
       "  <tbody>\n",
       "    <tr>\n",
       "      <th>0</th>\n",
       "      <td>0001_01</td>\n",
       "      <td>Europa</td>\n",
       "      <td>False</td>\n",
       "      <td>B/0/P</td>\n",
       "      <td>TRAPPIST-1e</td>\n",
       "      <td>39.0</td>\n",
       "      <td>False</td>\n",
       "      <td>0.0</td>\n",
       "      <td>0.0</td>\n",
       "      <td>0.0</td>\n",
       "      <td>0.0</td>\n",
       "      <td>0.0</td>\n",
       "      <td>Maham Ofracculy</td>\n",
       "      <td>False</td>\n",
       "    </tr>\n",
       "    <tr>\n",
       "      <th>1</th>\n",
       "      <td>0002_01</td>\n",
       "      <td>Earth</td>\n",
       "      <td>False</td>\n",
       "      <td>F/0/S</td>\n",
       "      <td>TRAPPIST-1e</td>\n",
       "      <td>24.0</td>\n",
       "      <td>False</td>\n",
       "      <td>109.0</td>\n",
       "      <td>9.0</td>\n",
       "      <td>25.0</td>\n",
       "      <td>549.0</td>\n",
       "      <td>44.0</td>\n",
       "      <td>Juanna Vines</td>\n",
       "      <td>True</td>\n",
       "    </tr>\n",
       "    <tr>\n",
       "      <th>2</th>\n",
       "      <td>0003_01</td>\n",
       "      <td>Europa</td>\n",
       "      <td>False</td>\n",
       "      <td>A/0/S</td>\n",
       "      <td>TRAPPIST-1e</td>\n",
       "      <td>58.0</td>\n",
       "      <td>True</td>\n",
       "      <td>43.0</td>\n",
       "      <td>3576.0</td>\n",
       "      <td>0.0</td>\n",
       "      <td>6715.0</td>\n",
       "      <td>49.0</td>\n",
       "      <td>Altark Susent</td>\n",
       "      <td>False</td>\n",
       "    </tr>\n",
       "    <tr>\n",
       "      <th>3</th>\n",
       "      <td>0003_02</td>\n",
       "      <td>Europa</td>\n",
       "      <td>False</td>\n",
       "      <td>A/0/S</td>\n",
       "      <td>TRAPPIST-1e</td>\n",
       "      <td>33.0</td>\n",
       "      <td>False</td>\n",
       "      <td>0.0</td>\n",
       "      <td>1283.0</td>\n",
       "      <td>371.0</td>\n",
       "      <td>3329.0</td>\n",
       "      <td>193.0</td>\n",
       "      <td>Solam Susent</td>\n",
       "      <td>False</td>\n",
       "    </tr>\n",
       "    <tr>\n",
       "      <th>4</th>\n",
       "      <td>0004_01</td>\n",
       "      <td>Earth</td>\n",
       "      <td>False</td>\n",
       "      <td>F/1/S</td>\n",
       "      <td>TRAPPIST-1e</td>\n",
       "      <td>16.0</td>\n",
       "      <td>False</td>\n",
       "      <td>303.0</td>\n",
       "      <td>70.0</td>\n",
       "      <td>151.0</td>\n",
       "      <td>565.0</td>\n",
       "      <td>2.0</td>\n",
       "      <td>Willy Santantines</td>\n",
       "      <td>True</td>\n",
       "    </tr>\n",
       "    <tr>\n",
       "      <th>...</th>\n",
       "      <td>...</td>\n",
       "      <td>...</td>\n",
       "      <td>...</td>\n",
       "      <td>...</td>\n",
       "      <td>...</td>\n",
       "      <td>...</td>\n",
       "      <td>...</td>\n",
       "      <td>...</td>\n",
       "      <td>...</td>\n",
       "      <td>...</td>\n",
       "      <td>...</td>\n",
       "      <td>...</td>\n",
       "      <td>...</td>\n",
       "      <td>...</td>\n",
       "    </tr>\n",
       "    <tr>\n",
       "      <th>8688</th>\n",
       "      <td>9276_01</td>\n",
       "      <td>Europa</td>\n",
       "      <td>False</td>\n",
       "      <td>A/98/P</td>\n",
       "      <td>55 Cancri e</td>\n",
       "      <td>41.0</td>\n",
       "      <td>True</td>\n",
       "      <td>0.0</td>\n",
       "      <td>6819.0</td>\n",
       "      <td>0.0</td>\n",
       "      <td>1643.0</td>\n",
       "      <td>74.0</td>\n",
       "      <td>Gravior Noxnuther</td>\n",
       "      <td>False</td>\n",
       "    </tr>\n",
       "    <tr>\n",
       "      <th>8689</th>\n",
       "      <td>9278_01</td>\n",
       "      <td>Earth</td>\n",
       "      <td>True</td>\n",
       "      <td>G/1499/S</td>\n",
       "      <td>PSO J318.5-22</td>\n",
       "      <td>18.0</td>\n",
       "      <td>False</td>\n",
       "      <td>0.0</td>\n",
       "      <td>0.0</td>\n",
       "      <td>0.0</td>\n",
       "      <td>0.0</td>\n",
       "      <td>0.0</td>\n",
       "      <td>Kurta Mondalley</td>\n",
       "      <td>False</td>\n",
       "    </tr>\n",
       "    <tr>\n",
       "      <th>8690</th>\n",
       "      <td>9279_01</td>\n",
       "      <td>Earth</td>\n",
       "      <td>False</td>\n",
       "      <td>G/1500/S</td>\n",
       "      <td>TRAPPIST-1e</td>\n",
       "      <td>26.0</td>\n",
       "      <td>False</td>\n",
       "      <td>0.0</td>\n",
       "      <td>0.0</td>\n",
       "      <td>1872.0</td>\n",
       "      <td>1.0</td>\n",
       "      <td>0.0</td>\n",
       "      <td>Fayey Connon</td>\n",
       "      <td>True</td>\n",
       "    </tr>\n",
       "    <tr>\n",
       "      <th>8691</th>\n",
       "      <td>9280_01</td>\n",
       "      <td>Europa</td>\n",
       "      <td>False</td>\n",
       "      <td>E/608/S</td>\n",
       "      <td>55 Cancri e</td>\n",
       "      <td>32.0</td>\n",
       "      <td>False</td>\n",
       "      <td>0.0</td>\n",
       "      <td>1049.0</td>\n",
       "      <td>0.0</td>\n",
       "      <td>353.0</td>\n",
       "      <td>3235.0</td>\n",
       "      <td>Celeon Hontichre</td>\n",
       "      <td>False</td>\n",
       "    </tr>\n",
       "    <tr>\n",
       "      <th>8692</th>\n",
       "      <td>9280_02</td>\n",
       "      <td>Europa</td>\n",
       "      <td>False</td>\n",
       "      <td>E/608/S</td>\n",
       "      <td>TRAPPIST-1e</td>\n",
       "      <td>44.0</td>\n",
       "      <td>False</td>\n",
       "      <td>126.0</td>\n",
       "      <td>4688.0</td>\n",
       "      <td>0.0</td>\n",
       "      <td>0.0</td>\n",
       "      <td>12.0</td>\n",
       "      <td>Propsh Hontichre</td>\n",
       "      <td>True</td>\n",
       "    </tr>\n",
       "  </tbody>\n",
       "</table>\n",
       "<p>8693 rows × 14 columns</p>\n",
       "</div>"
      ],
      "text/plain": [
       "     PassengerId HomePlanet CryoSleep     Cabin    Destination   Age    VIP  \\\n",
       "0        0001_01     Europa     False     B/0/P    TRAPPIST-1e  39.0  False   \n",
       "1        0002_01      Earth     False     F/0/S    TRAPPIST-1e  24.0  False   \n",
       "2        0003_01     Europa     False     A/0/S    TRAPPIST-1e  58.0   True   \n",
       "3        0003_02     Europa     False     A/0/S    TRAPPIST-1e  33.0  False   \n",
       "4        0004_01      Earth     False     F/1/S    TRAPPIST-1e  16.0  False   \n",
       "...          ...        ...       ...       ...            ...   ...    ...   \n",
       "8688     9276_01     Europa     False    A/98/P    55 Cancri e  41.0   True   \n",
       "8689     9278_01      Earth      True  G/1499/S  PSO J318.5-22  18.0  False   \n",
       "8690     9279_01      Earth     False  G/1500/S    TRAPPIST-1e  26.0  False   \n",
       "8691     9280_01     Europa     False   E/608/S    55 Cancri e  32.0  False   \n",
       "8692     9280_02     Europa     False   E/608/S    TRAPPIST-1e  44.0  False   \n",
       "\n",
       "      RoomService  FoodCourt  ShoppingMall     Spa  VRDeck               Name  \\\n",
       "0             0.0        0.0           0.0     0.0     0.0    Maham Ofracculy   \n",
       "1           109.0        9.0          25.0   549.0    44.0       Juanna Vines   \n",
       "2            43.0     3576.0           0.0  6715.0    49.0      Altark Susent   \n",
       "3             0.0     1283.0         371.0  3329.0   193.0       Solam Susent   \n",
       "4           303.0       70.0         151.0   565.0     2.0  Willy Santantines   \n",
       "...           ...        ...           ...     ...     ...                ...   \n",
       "8688          0.0     6819.0           0.0  1643.0    74.0  Gravior Noxnuther   \n",
       "8689          0.0        0.0           0.0     0.0     0.0    Kurta Mondalley   \n",
       "8690          0.0        0.0        1872.0     1.0     0.0       Fayey Connon   \n",
       "8691          0.0     1049.0           0.0   353.0  3235.0   Celeon Hontichre   \n",
       "8692        126.0     4688.0           0.0     0.0    12.0   Propsh Hontichre   \n",
       "\n",
       "      Transported  \n",
       "0           False  \n",
       "1            True  \n",
       "2           False  \n",
       "3           False  \n",
       "4            True  \n",
       "...           ...  \n",
       "8688        False  \n",
       "8689        False  \n",
       "8690         True  \n",
       "8691        False  \n",
       "8692         True  \n",
       "\n",
       "[8693 rows x 14 columns]"
      ]
     },
     "execution_count": 5,
     "metadata": {},
     "output_type": "execute_result"
    }
   ],
   "source": [
    "train_data"
   ]
  },
  {
   "cell_type": "markdown",
   "id": "ad7a626f",
   "metadata": {
    "papermill": {
     "duration": 0.018412,
     "end_time": "2023-10-05T16:32:48.046773",
     "exception": false,
     "start_time": "2023-10-05T16:32:48.028361",
     "status": "completed"
    },
    "tags": []
   },
   "source": [
    "# Feature engineering and EDA"
   ]
  },
  {
   "cell_type": "code",
   "execution_count": 6,
   "id": "d2801a14",
   "metadata": {
    "execution": {
     "iopub.execute_input": "2023-10-05T16:32:48.083534Z",
     "iopub.status.busy": "2023-10-05T16:32:48.082474Z",
     "iopub.status.idle": "2023-10-05T16:32:48.111585Z",
     "shell.execute_reply": "2023-10-05T16:32:48.110451Z"
    },
    "papermill": {
     "duration": 0.051204,
     "end_time": "2023-10-05T16:32:48.114070",
     "exception": false,
     "start_time": "2023-10-05T16:32:48.062866",
     "status": "completed"
    },
    "tags": []
   },
   "outputs": [
    {
     "name": "stdout",
     "output_type": "stream",
     "text": [
      "<class 'pandas.core.frame.DataFrame'>\n",
      "RangeIndex: 8693 entries, 0 to 8692\n",
      "Data columns (total 14 columns):\n",
      " #   Column        Non-Null Count  Dtype  \n",
      "---  ------        --------------  -----  \n",
      " 0   PassengerId   8693 non-null   object \n",
      " 1   HomePlanet    8492 non-null   object \n",
      " 2   CryoSleep     8476 non-null   object \n",
      " 3   Cabin         8494 non-null   object \n",
      " 4   Destination   8511 non-null   object \n",
      " 5   Age           8514 non-null   float64\n",
      " 6   VIP           8490 non-null   object \n",
      " 7   RoomService   8512 non-null   float64\n",
      " 8   FoodCourt     8510 non-null   float64\n",
      " 9   ShoppingMall  8485 non-null   float64\n",
      " 10  Spa           8510 non-null   float64\n",
      " 11  VRDeck        8505 non-null   float64\n",
      " 12  Name          8493 non-null   object \n",
      " 13  Transported   8693 non-null   bool   \n",
      "dtypes: bool(1), float64(6), object(7)\n",
      "memory usage: 891.5+ KB\n"
     ]
    }
   ],
   "source": [
    "train_data.info()"
   ]
  },
  {
   "cell_type": "code",
   "execution_count": 7,
   "id": "9fbaa76a",
   "metadata": {
    "execution": {
     "iopub.execute_input": "2023-10-05T16:32:48.147461Z",
     "iopub.status.busy": "2023-10-05T16:32:48.146412Z",
     "iopub.status.idle": "2023-10-05T16:32:48.169699Z",
     "shell.execute_reply": "2023-10-05T16:32:48.168559Z"
    },
    "papermill": {
     "duration": 0.042929,
     "end_time": "2023-10-05T16:32:48.172188",
     "exception": false,
     "start_time": "2023-10-05T16:32:48.129259",
     "status": "completed"
    },
    "tags": []
   },
   "outputs": [
    {
     "name": "stdout",
     "output_type": "stream",
     "text": [
      "PassengerId ['0001_01' '0002_01' '0003_01' ... '9279_01' '9280_01' '9280_02'] 8693\n",
      "HomePlanet ['Europa' 'Earth' 'Mars' nan] 4\n",
      "CryoSleep [False True nan] 3\n",
      "Cabin ['B/0/P' 'F/0/S' 'A/0/S' ... 'G/1499/S' 'G/1500/S' 'E/608/S'] 6561\n",
      "Destination ['TRAPPIST-1e' 'PSO J318.5-22' '55 Cancri e' nan] 4\n",
      "Age [39. 24. 58. 33. 16. 44. 26. 28. 35. 14. 34. 45. 32. 48. 31. 27.  0.  1.\n",
      " 49. 29. 10.  7. 21. 62. 15. 43. 47.  2. 20. 23. 30. 17. 55.  4. 19. 56.\n",
      " nan 25. 38. 36. 22. 18. 42. 37. 13.  8. 40.  3. 54.  9.  6. 64. 67. 61.\n",
      " 50. 41. 57. 11. 52. 51. 46. 60. 63. 59.  5. 79. 68. 74. 12. 53. 65. 71.\n",
      " 75. 70. 76. 78. 73. 66. 69. 72. 77.] 81\n",
      "VIP [False True nan] 3\n",
      "RoomService [   0.  109.   43. ... 1569. 8586.  745.] 1274\n",
      "FoodCourt [   0.    9. 3576. ... 3208. 6819. 4688.] 1508\n",
      "ShoppingMall [   0.   25.  371. ... 1085.  510. 1872.] 1116\n",
      "Spa [   0.  549. 6715. ... 2868. 1107. 1643.] 1328\n",
      "VRDeck [   0.   44.   49. ... 1164.  971. 3235.] 1307\n",
      "Name ['Maham Ofracculy' 'Juanna Vines' 'Altark Susent' ... 'Fayey Connon'\n",
      " 'Celeon Hontichre' 'Propsh Hontichre'] 8474\n",
      "Transported [False  True] 2\n"
     ]
    }
   ],
   "source": [
    "train_data.head()\n",
    "for col in train_data.columns:\n",
    "    print(col, train_data[col].unique(), len(train_data[col].unique()))"
   ]
  },
  {
   "cell_type": "code",
   "execution_count": 8,
   "id": "000a9f7c",
   "metadata": {
    "execution": {
     "iopub.execute_input": "2023-10-05T16:32:48.204721Z",
     "iopub.status.busy": "2023-10-05T16:32:48.204339Z",
     "iopub.status.idle": "2023-10-05T16:32:48.214741Z",
     "shell.execute_reply": "2023-10-05T16:32:48.213281Z"
    },
    "papermill": {
     "duration": 0.029175,
     "end_time": "2023-10-05T16:32:48.216860",
     "exception": false,
     "start_time": "2023-10-05T16:32:48.187685",
     "status": "completed"
    },
    "tags": []
   },
   "outputs": [
    {
     "name": "stdout",
     "output_type": "stream",
     "text": [
      "PassengerId       0\n",
      "HomePlanet      201\n",
      "CryoSleep       217\n",
      "Cabin           199\n",
      "Destination     182\n",
      "Age             179\n",
      "VIP             203\n",
      "RoomService     181\n",
      "FoodCourt       183\n",
      "ShoppingMall    208\n",
      "Spa             183\n",
      "VRDeck          188\n",
      "Name            200\n",
      "Transported       0\n",
      "dtype: int64\n"
     ]
    }
   ],
   "source": [
    "nan_count_per_row = train_data.isna().sum(axis=0)\n",
    "print(nan_count_per_row)"
   ]
  },
  {
   "cell_type": "code",
   "execution_count": 9,
   "id": "1e4ac75f",
   "metadata": {
    "execution": {
     "iopub.execute_input": "2023-10-05T16:32:48.250628Z",
     "iopub.status.busy": "2023-10-05T16:32:48.250235Z",
     "iopub.status.idle": "2023-10-05T16:32:48.345298Z",
     "shell.execute_reply": "2023-10-05T16:32:48.343944Z"
    },
    "papermill": {
     "duration": 0.115275,
     "end_time": "2023-10-05T16:32:48.348194",
     "exception": false,
     "start_time": "2023-10-05T16:32:48.232919",
     "status": "completed"
    },
    "tags": []
   },
   "outputs": [],
   "source": [
    "arr = []\n",
    "for i in range(len(train_data)):\n",
    "    try:   \n",
    "        arr.append(train_data['Name'][i].split(' ')[1])\n",
    "    except:\n",
    "        arr.append(f'NoName_{i}')\n",
    "        \n",
    "train_data['SecondName'] = arr\n",
    "train_data.drop('Name',axis=1,inplace=True)\n",
    "\n",
    "arr = []\n",
    "for i in range(len(test_data)):\n",
    "    try:   \n",
    "        arr.append(test_data['Name'][i].split(' ')[1])\n",
    "    except:\n",
    "        arr.append(f'NoName_{i}')\n",
    "        \n",
    "test_data['SecondName'] = arr\n",
    "test_data.drop('Name',axis=1,inplace=True)"
   ]
  },
  {
   "cell_type": "code",
   "execution_count": 10,
   "id": "0566dc1c",
   "metadata": {
    "execution": {
     "iopub.execute_input": "2023-10-05T16:32:48.381105Z",
     "iopub.status.busy": "2023-10-05T16:32:48.380710Z",
     "iopub.status.idle": "2023-10-05T16:32:48.674354Z",
     "shell.execute_reply": "2023-10-05T16:32:48.673077Z"
    },
    "papermill": {
     "duration": 0.313573,
     "end_time": "2023-10-05T16:32:48.677308",
     "exception": false,
     "start_time": "2023-10-05T16:32:48.363735",
     "status": "completed"
    },
    "tags": []
   },
   "outputs": [],
   "source": [
    "from sklearn.impute import SimpleImputer\n",
    "\n",
    "numerical_imputer = SimpleImputer(strategy='mean')\n",
    "numerical_columns = ['RoomService', 'FoodCourt', 'ShoppingMall', 'Spa', 'VRDeck', 'Age']\n",
    "test_data[numerical_columns] = numerical_imputer.fit_transform(test_data[numerical_columns])\n",
    "categorical_imputer = SimpleImputer(strategy='most_frequent')\n",
    "categorical_columns = ['HomePlanet', 'CryoSleep', 'Cabin', 'Destination', 'VIP']\n",
    "test_data[categorical_columns] = categorical_imputer.fit_transform(test_data[categorical_columns])\n",
    "\n",
    "\n",
    "numerical_imputer = SimpleImputer(strategy='mean')\n",
    "numerical_columns = ['RoomService', 'FoodCourt', 'ShoppingMall', 'Spa', 'VRDeck', 'Age']\n",
    "train_data[numerical_columns] = numerical_imputer.fit_transform(train_data[numerical_columns])\n",
    "categorical_imputer = SimpleImputer(strategy='most_frequent')\n",
    "categorical_columns = ['HomePlanet', 'CryoSleep', 'Cabin', 'Destination', 'VIP']\n",
    "train_data[categorical_columns] = categorical_imputer.fit_transform(train_data[categorical_columns])"
   ]
  },
  {
   "cell_type": "code",
   "execution_count": 11,
   "id": "1712fe34",
   "metadata": {
    "execution": {
     "iopub.execute_input": "2023-10-05T16:32:48.710167Z",
     "iopub.status.busy": "2023-10-05T16:32:48.709813Z",
     "iopub.status.idle": "2023-10-05T16:32:48.729986Z",
     "shell.execute_reply": "2023-10-05T16:32:48.728697Z"
    },
    "papermill": {
     "duration": 0.039513,
     "end_time": "2023-10-05T16:32:48.732482",
     "exception": false,
     "start_time": "2023-10-05T16:32:48.692969",
     "status": "completed"
    },
    "tags": []
   },
   "outputs": [],
   "source": [
    "train_data['Count'] = train_data.groupby(['SecondName', 'HomePlanet', 'Destination'])['SecondName'].transform('count')\n",
    "test_data['Count'] = test_data.groupby(['SecondName', 'HomePlanet', 'Destination'])['SecondName'].transform('count')"
   ]
  },
  {
   "cell_type": "code",
   "execution_count": 12,
   "id": "5f9a6793",
   "metadata": {
    "execution": {
     "iopub.execute_input": "2023-10-05T16:32:48.765061Z",
     "iopub.status.busy": "2023-10-05T16:32:48.764711Z",
     "iopub.status.idle": "2023-10-05T16:32:48.790043Z",
     "shell.execute_reply": "2023-10-05T16:32:48.788864Z"
    },
    "papermill": {
     "duration": 0.044576,
     "end_time": "2023-10-05T16:32:48.792650",
     "exception": false,
     "start_time": "2023-10-05T16:32:48.748074",
     "status": "completed"
    },
    "tags": []
   },
   "outputs": [
    {
     "data": {
      "text/html": [
       "<div>\n",
       "<style scoped>\n",
       "    .dataframe tbody tr th:only-of-type {\n",
       "        vertical-align: middle;\n",
       "    }\n",
       "\n",
       "    .dataframe tbody tr th {\n",
       "        vertical-align: top;\n",
       "    }\n",
       "\n",
       "    .dataframe thead th {\n",
       "        text-align: right;\n",
       "    }\n",
       "</style>\n",
       "<table border=\"1\" class=\"dataframe\">\n",
       "  <thead>\n",
       "    <tr style=\"text-align: right;\">\n",
       "      <th></th>\n",
       "      <th>PassengerId</th>\n",
       "      <th>HomePlanet</th>\n",
       "      <th>CryoSleep</th>\n",
       "      <th>Cabin</th>\n",
       "      <th>Destination</th>\n",
       "      <th>Age</th>\n",
       "      <th>VIP</th>\n",
       "      <th>RoomService</th>\n",
       "      <th>FoodCourt</th>\n",
       "      <th>ShoppingMall</th>\n",
       "      <th>Spa</th>\n",
       "      <th>VRDeck</th>\n",
       "      <th>Transported</th>\n",
       "      <th>SecondName</th>\n",
       "      <th>Count</th>\n",
       "    </tr>\n",
       "  </thead>\n",
       "  <tbody>\n",
       "    <tr>\n",
       "      <th>0</th>\n",
       "      <td>0001_01</td>\n",
       "      <td>Europa</td>\n",
       "      <td>False</td>\n",
       "      <td>B/0/P</td>\n",
       "      <td>TRAPPIST-1e</td>\n",
       "      <td>39.0</td>\n",
       "      <td>False</td>\n",
       "      <td>0.0</td>\n",
       "      <td>0.0</td>\n",
       "      <td>0.0</td>\n",
       "      <td>0.0</td>\n",
       "      <td>0.0</td>\n",
       "      <td>False</td>\n",
       "      <td>Ofracculy</td>\n",
       "      <td>1</td>\n",
       "    </tr>\n",
       "    <tr>\n",
       "      <th>1</th>\n",
       "      <td>0002_01</td>\n",
       "      <td>Earth</td>\n",
       "      <td>False</td>\n",
       "      <td>F/0/S</td>\n",
       "      <td>TRAPPIST-1e</td>\n",
       "      <td>24.0</td>\n",
       "      <td>False</td>\n",
       "      <td>109.0</td>\n",
       "      <td>9.0</td>\n",
       "      <td>25.0</td>\n",
       "      <td>549.0</td>\n",
       "      <td>44.0</td>\n",
       "      <td>True</td>\n",
       "      <td>Vines</td>\n",
       "      <td>4</td>\n",
       "    </tr>\n",
       "    <tr>\n",
       "      <th>2</th>\n",
       "      <td>0003_01</td>\n",
       "      <td>Europa</td>\n",
       "      <td>False</td>\n",
       "      <td>A/0/S</td>\n",
       "      <td>TRAPPIST-1e</td>\n",
       "      <td>58.0</td>\n",
       "      <td>True</td>\n",
       "      <td>43.0</td>\n",
       "      <td>3576.0</td>\n",
       "      <td>0.0</td>\n",
       "      <td>6715.0</td>\n",
       "      <td>49.0</td>\n",
       "      <td>False</td>\n",
       "      <td>Susent</td>\n",
       "      <td>5</td>\n",
       "    </tr>\n",
       "    <tr>\n",
       "      <th>3</th>\n",
       "      <td>0003_02</td>\n",
       "      <td>Europa</td>\n",
       "      <td>False</td>\n",
       "      <td>A/0/S</td>\n",
       "      <td>TRAPPIST-1e</td>\n",
       "      <td>33.0</td>\n",
       "      <td>False</td>\n",
       "      <td>0.0</td>\n",
       "      <td>1283.0</td>\n",
       "      <td>371.0</td>\n",
       "      <td>3329.0</td>\n",
       "      <td>193.0</td>\n",
       "      <td>False</td>\n",
       "      <td>Susent</td>\n",
       "      <td>5</td>\n",
       "    </tr>\n",
       "    <tr>\n",
       "      <th>4</th>\n",
       "      <td>0004_01</td>\n",
       "      <td>Earth</td>\n",
       "      <td>False</td>\n",
       "      <td>F/1/S</td>\n",
       "      <td>TRAPPIST-1e</td>\n",
       "      <td>16.0</td>\n",
       "      <td>False</td>\n",
       "      <td>303.0</td>\n",
       "      <td>70.0</td>\n",
       "      <td>151.0</td>\n",
       "      <td>565.0</td>\n",
       "      <td>2.0</td>\n",
       "      <td>True</td>\n",
       "      <td>Santantines</td>\n",
       "      <td>3</td>\n",
       "    </tr>\n",
       "    <tr>\n",
       "      <th>...</th>\n",
       "      <td>...</td>\n",
       "      <td>...</td>\n",
       "      <td>...</td>\n",
       "      <td>...</td>\n",
       "      <td>...</td>\n",
       "      <td>...</td>\n",
       "      <td>...</td>\n",
       "      <td>...</td>\n",
       "      <td>...</td>\n",
       "      <td>...</td>\n",
       "      <td>...</td>\n",
       "      <td>...</td>\n",
       "      <td>...</td>\n",
       "      <td>...</td>\n",
       "      <td>...</td>\n",
       "    </tr>\n",
       "    <tr>\n",
       "      <th>8688</th>\n",
       "      <td>9276_01</td>\n",
       "      <td>Europa</td>\n",
       "      <td>False</td>\n",
       "      <td>A/98/P</td>\n",
       "      <td>55 Cancri e</td>\n",
       "      <td>41.0</td>\n",
       "      <td>True</td>\n",
       "      <td>0.0</td>\n",
       "      <td>6819.0</td>\n",
       "      <td>0.0</td>\n",
       "      <td>1643.0</td>\n",
       "      <td>74.0</td>\n",
       "      <td>False</td>\n",
       "      <td>Noxnuther</td>\n",
       "      <td>2</td>\n",
       "    </tr>\n",
       "    <tr>\n",
       "      <th>8689</th>\n",
       "      <td>9278_01</td>\n",
       "      <td>Earth</td>\n",
       "      <td>True</td>\n",
       "      <td>G/1499/S</td>\n",
       "      <td>PSO J318.5-22</td>\n",
       "      <td>18.0</td>\n",
       "      <td>False</td>\n",
       "      <td>0.0</td>\n",
       "      <td>0.0</td>\n",
       "      <td>0.0</td>\n",
       "      <td>0.0</td>\n",
       "      <td>0.0</td>\n",
       "      <td>False</td>\n",
       "      <td>Mondalley</td>\n",
       "      <td>1</td>\n",
       "    </tr>\n",
       "    <tr>\n",
       "      <th>8690</th>\n",
       "      <td>9279_01</td>\n",
       "      <td>Earth</td>\n",
       "      <td>False</td>\n",
       "      <td>G/1500/S</td>\n",
       "      <td>TRAPPIST-1e</td>\n",
       "      <td>26.0</td>\n",
       "      <td>False</td>\n",
       "      <td>0.0</td>\n",
       "      <td>0.0</td>\n",
       "      <td>1872.0</td>\n",
       "      <td>1.0</td>\n",
       "      <td>0.0</td>\n",
       "      <td>True</td>\n",
       "      <td>Connon</td>\n",
       "      <td>3</td>\n",
       "    </tr>\n",
       "    <tr>\n",
       "      <th>8691</th>\n",
       "      <td>9280_01</td>\n",
       "      <td>Europa</td>\n",
       "      <td>False</td>\n",
       "      <td>E/608/S</td>\n",
       "      <td>55 Cancri e</td>\n",
       "      <td>32.0</td>\n",
       "      <td>False</td>\n",
       "      <td>0.0</td>\n",
       "      <td>1049.0</td>\n",
       "      <td>0.0</td>\n",
       "      <td>353.0</td>\n",
       "      <td>3235.0</td>\n",
       "      <td>False</td>\n",
       "      <td>Hontichre</td>\n",
       "      <td>2</td>\n",
       "    </tr>\n",
       "    <tr>\n",
       "      <th>8692</th>\n",
       "      <td>9280_02</td>\n",
       "      <td>Europa</td>\n",
       "      <td>False</td>\n",
       "      <td>E/608/S</td>\n",
       "      <td>TRAPPIST-1e</td>\n",
       "      <td>44.0</td>\n",
       "      <td>False</td>\n",
       "      <td>126.0</td>\n",
       "      <td>4688.0</td>\n",
       "      <td>0.0</td>\n",
       "      <td>0.0</td>\n",
       "      <td>12.0</td>\n",
       "      <td>True</td>\n",
       "      <td>Hontichre</td>\n",
       "      <td>4</td>\n",
       "    </tr>\n",
       "  </tbody>\n",
       "</table>\n",
       "<p>8693 rows × 15 columns</p>\n",
       "</div>"
      ],
      "text/plain": [
       "     PassengerId HomePlanet CryoSleep     Cabin    Destination   Age    VIP  \\\n",
       "0        0001_01     Europa     False     B/0/P    TRAPPIST-1e  39.0  False   \n",
       "1        0002_01      Earth     False     F/0/S    TRAPPIST-1e  24.0  False   \n",
       "2        0003_01     Europa     False     A/0/S    TRAPPIST-1e  58.0   True   \n",
       "3        0003_02     Europa     False     A/0/S    TRAPPIST-1e  33.0  False   \n",
       "4        0004_01      Earth     False     F/1/S    TRAPPIST-1e  16.0  False   \n",
       "...          ...        ...       ...       ...            ...   ...    ...   \n",
       "8688     9276_01     Europa     False    A/98/P    55 Cancri e  41.0   True   \n",
       "8689     9278_01      Earth      True  G/1499/S  PSO J318.5-22  18.0  False   \n",
       "8690     9279_01      Earth     False  G/1500/S    TRAPPIST-1e  26.0  False   \n",
       "8691     9280_01     Europa     False   E/608/S    55 Cancri e  32.0  False   \n",
       "8692     9280_02     Europa     False   E/608/S    TRAPPIST-1e  44.0  False   \n",
       "\n",
       "      RoomService  FoodCourt  ShoppingMall     Spa  VRDeck  Transported  \\\n",
       "0             0.0        0.0           0.0     0.0     0.0        False   \n",
       "1           109.0        9.0          25.0   549.0    44.0         True   \n",
       "2            43.0     3576.0           0.0  6715.0    49.0        False   \n",
       "3             0.0     1283.0         371.0  3329.0   193.0        False   \n",
       "4           303.0       70.0         151.0   565.0     2.0         True   \n",
       "...           ...        ...           ...     ...     ...          ...   \n",
       "8688          0.0     6819.0           0.0  1643.0    74.0        False   \n",
       "8689          0.0        0.0           0.0     0.0     0.0        False   \n",
       "8690          0.0        0.0        1872.0     1.0     0.0         True   \n",
       "8691          0.0     1049.0           0.0   353.0  3235.0        False   \n",
       "8692        126.0     4688.0           0.0     0.0    12.0         True   \n",
       "\n",
       "       SecondName  Count  \n",
       "0       Ofracculy      1  \n",
       "1           Vines      4  \n",
       "2          Susent      5  \n",
       "3          Susent      5  \n",
       "4     Santantines      3  \n",
       "...           ...    ...  \n",
       "8688    Noxnuther      2  \n",
       "8689    Mondalley      1  \n",
       "8690       Connon      3  \n",
       "8691    Hontichre      2  \n",
       "8692    Hontichre      4  \n",
       "\n",
       "[8693 rows x 15 columns]"
      ]
     },
     "execution_count": 12,
     "metadata": {},
     "output_type": "execute_result"
    }
   ],
   "source": [
    "train_data"
   ]
  },
  {
   "cell_type": "code",
   "execution_count": 13,
   "id": "40aafd77",
   "metadata": {
    "execution": {
     "iopub.execute_input": "2023-10-05T16:32:48.826886Z",
     "iopub.status.busy": "2023-10-05T16:32:48.826488Z",
     "iopub.status.idle": "2023-10-05T16:32:49.134129Z",
     "shell.execute_reply": "2023-10-05T16:32:49.132926Z"
    },
    "papermill": {
     "duration": 0.327209,
     "end_time": "2023-10-05T16:32:49.136491",
     "exception": false,
     "start_time": "2023-10-05T16:32:48.809282",
     "status": "completed"
    },
    "tags": []
   },
   "outputs": [
    {
     "data": {
      "text/plain": [
       "<Axes: >"
      ]
     },
     "execution_count": 13,
     "metadata": {},
     "output_type": "execute_result"
    },
    {
     "data": {
      "image/png": "[encoded data removed]",
      "text/plain": [
       "<Figure size 640x480 with 1 Axes>"
      ]
     },
     "metadata": {},
     "output_type": "display_data"
    }
   ],
   "source": [
    "train_data.Age.hist()"
   ]
  },
  {
   "cell_type": "code",
   "execution_count": 14,
   "id": "965cbaaf",
   "metadata": {
    "execution": {
     "iopub.execute_input": "2023-10-05T16:32:49.170980Z",
     "iopub.status.busy": "2023-10-05T16:32:49.170625Z",
     "iopub.status.idle": "2023-10-05T16:32:49.183211Z",
     "shell.execute_reply": "2023-10-05T16:32:49.182052Z"
    },
    "papermill": {
     "duration": 0.032819,
     "end_time": "2023-10-05T16:32:49.185717",
     "exception": false,
     "start_time": "2023-10-05T16:32:49.152898",
     "status": "completed"
    },
    "tags": []
   },
   "outputs": [],
   "source": [
    "age_bins = [-1, 12, 18, 25, 30, 50, 1.e+10]  # Границы интервалов\n",
    "age_labels = ['Age_0-12', 'Age_13-17', 'Age_18-25', 'Age_26-30', 'Age_31-50', 'Age_51+']\n",
    "train_data['Age_Group'] = pd.cut(train_data['Age'], bins=age_bins, labels=age_labels).astype('object')\n",
    "test_data['Age_Group'] = pd.cut(test_data['Age'], bins=age_bins, labels=age_labels).astype('object')"
   ]
  },
  {
   "cell_type": "code",
   "execution_count": 15,
   "id": "4d30bede",
   "metadata": {
    "execution": {
     "iopub.execute_input": "2023-10-05T16:32:49.220148Z",
     "iopub.status.busy": "2023-10-05T16:32:49.219331Z",
     "iopub.status.idle": "2023-10-05T16:32:49.388362Z",
     "shell.execute_reply": "2023-10-05T16:32:49.387091Z"
    },
    "papermill": {
     "duration": 0.188969,
     "end_time": "2023-10-05T16:32:49.390852",
     "exception": false,
     "start_time": "2023-10-05T16:32:49.201883",
     "status": "completed"
    },
    "tags": []
   },
   "outputs": [],
   "source": [
    "train_data['Deck'], train_data['CabinRegion'], train_data['Side'] = train_data.Cabin.str.split('/', expand=True)[0].astype('object'), train_data.Cabin.str.split('/', expand=True)[1].astype('float'), train_data.Cabin.str.split('/', expand=True)[2].astype('object')\n",
    "test_data['Deck'],test_data['CabinRegion'], test_data['Side'] = test_data.Cabin.str.split('/', expand=True)[0].astype('object'), test_data.Cabin.str.split('/', expand=True)[1].astype('float'), test_data.Cabin.str.split('/', expand=True)[2].astype('object')"
   ]
  },
  {
   "cell_type": "code",
   "execution_count": 16,
   "id": "2d628e6c",
   "metadata": {
    "execution": {
     "iopub.execute_input": "2023-10-05T16:32:49.426068Z",
     "iopub.status.busy": "2023-10-05T16:32:49.425418Z",
     "iopub.status.idle": "2023-10-05T16:32:49.435884Z",
     "shell.execute_reply": "2023-10-05T16:32:49.434432Z"
    },
    "papermill": {
     "duration": 0.031581,
     "end_time": "2023-10-05T16:32:49.438652",
     "exception": false,
     "start_time": "2023-10-05T16:32:49.407071",
     "status": "completed"
    },
    "tags": []
   },
   "outputs": [],
   "source": [
    "age_bins = [-10, 300, 600, 900, 1200, 1500, 1800, 1.e+10]  # Границы интервалов\n",
    "age_labels = ['Cab_r_1', 'Cab_r_2', 'Cab_r_3', 'Cab_r_4', 'Cab_r_5', 'Cab_r_6', 'Cab_r_7']\n",
    "train_data['CabinRegionGroup'] = pd.cut(train_data['CabinRegion'], bins=age_bins, labels=age_labels).astype('object')\n",
    "test_data['CabinRegionGroup'] = pd.cut(test_data['CabinRegion'], bins=age_bins, labels=age_labels).astype('object')"
   ]
  },
  {
   "cell_type": "code",
   "execution_count": 17,
   "id": "fd78a09b",
   "metadata": {
    "execution": {
     "iopub.execute_input": "2023-10-05T16:32:49.473906Z",
     "iopub.status.busy": "2023-10-05T16:32:49.473256Z",
     "iopub.status.idle": "2023-10-05T16:32:49.511352Z",
     "shell.execute_reply": "2023-10-05T16:32:49.510505Z"
    },
    "papermill": {
     "duration": 0.058186,
     "end_time": "2023-10-05T16:32:49.513649",
     "exception": false,
     "start_time": "2023-10-05T16:32:49.455463",
     "status": "completed"
    },
    "tags": []
   },
   "outputs": [],
   "source": [
    "train_data['id0'],train_data['id1'] = train_data.PassengerId.str.split('_', expand=True)[0].astype('object'), train_data.PassengerId.str.split('_', expand=True)[1].astype('object')\n",
    "test_data['id0'],test_data['id1'] = test_data.PassengerId.str.split('_', expand=True)[0].astype('object'), test_data.PassengerId.str.split('_', expand=True)[1].astype('object')"
   ]
  },
  {
   "cell_type": "code",
   "execution_count": 18,
   "id": "26dfcccd",
   "metadata": {
    "execution": {
     "iopub.execute_input": "2023-10-05T16:32:49.548255Z",
     "iopub.status.busy": "2023-10-05T16:32:49.547875Z",
     "iopub.status.idle": "2023-10-05T16:32:49.556098Z",
     "shell.execute_reply": "2023-10-05T16:32:49.554815Z"
    },
    "papermill": {
     "duration": 0.028495,
     "end_time": "2023-10-05T16:32:49.558359",
     "exception": false,
     "start_time": "2023-10-05T16:32:49.529864",
     "status": "completed"
    },
    "tags": []
   },
   "outputs": [],
   "source": [
    "train_data['TotalCosts'] = train_data.RoomService + train_data.FoodCourt + train_data.ShoppingMall + train_data.Spa + train_data.VRDeck\n",
    "test_data['TotalCosts'] = test_data.RoomService + test_data.FoodCourt + test_data.ShoppingMall + test_data.Spa + test_data.VRDeck"
   ]
  },
  {
   "cell_type": "code",
   "execution_count": 19,
   "id": "04779a2a",
   "metadata": {
    "execution": {
     "iopub.execute_input": "2023-10-05T16:32:49.593019Z",
     "iopub.status.busy": "2023-10-05T16:32:49.591998Z",
     "iopub.status.idle": "2023-10-05T16:32:49.596483Z",
     "shell.execute_reply": "2023-10-05T16:32:49.595447Z"
    },
    "papermill": {
     "duration": 0.02382,
     "end_time": "2023-10-05T16:32:49.598535",
     "exception": false,
     "start_time": "2023-10-05T16:32:49.574715",
     "status": "completed"
    },
    "tags": []
   },
   "outputs": [],
   "source": [
    "# for i in range(len(train_data[['Age','Age_Group']])):\n",
    "#     print(train_data[['Age','Age_Group']].iloc[i])"
   ]
  },
  {
   "cell_type": "code",
   "execution_count": 20,
   "id": "ad104527",
   "metadata": {
    "execution": {
     "iopub.execute_input": "2023-10-05T16:32:49.632329Z",
     "iopub.status.busy": "2023-10-05T16:32:49.631854Z",
     "iopub.status.idle": "2023-10-05T16:32:49.643852Z",
     "shell.execute_reply": "2023-10-05T16:32:49.642500Z"
    },
    "papermill": {
     "duration": 0.032098,
     "end_time": "2023-10-05T16:32:49.646563",
     "exception": false,
     "start_time": "2023-10-05T16:32:49.614465",
     "status": "completed"
    },
    "tags": []
   },
   "outputs": [],
   "source": [
    "train_data = train_data.drop(['PassengerId','Cabin','id0','SecondName','Count'],axis=1)\n",
    "test_data = test_data.drop(['Cabin','id0','SecondName','Count'],axis=1)"
   ]
  },
  {
   "cell_type": "markdown",
   "id": "26f66671",
   "metadata": {
    "papermill": {
     "duration": 0.01568,
     "end_time": "2023-10-05T16:32:49.678983",
     "exception": false,
     "start_time": "2023-10-05T16:32:49.663303",
     "status": "completed"
    },
    "tags": []
   },
   "source": [
    "# Data Preparing"
   ]
  },
  {
   "cell_type": "code",
   "execution_count": 21,
   "id": "98b484dc",
   "metadata": {
    "execution": {
     "iopub.execute_input": "2023-10-05T16:32:49.713102Z",
     "iopub.status.busy": "2023-10-05T16:32:49.712472Z",
     "iopub.status.idle": "2023-10-05T16:32:49.716775Z",
     "shell.execute_reply": "2023-10-05T16:32:49.716000Z"
    },
    "papermill": {
     "duration": 0.023619,
     "end_time": "2023-10-05T16:32:49.718724",
     "exception": false,
     "start_time": "2023-10-05T16:32:49.695105",
     "status": "completed"
    },
    "tags": []
   },
   "outputs": [],
   "source": [
    "# train_data.drop('PassengerId',axis=1,inplace=True)"
   ]
  },
  {
   "cell_type": "code",
   "execution_count": 22,
   "id": "9ebbc671",
   "metadata": {
    "execution": {
     "iopub.execute_input": "2023-10-05T16:32:49.754636Z",
     "iopub.status.busy": "2023-10-05T16:32:49.753995Z",
     "iopub.status.idle": "2023-10-05T16:32:49.771134Z",
     "shell.execute_reply": "2023-10-05T16:32:49.770016Z"
    },
    "papermill": {
     "duration": 0.037715,
     "end_time": "2023-10-05T16:32:49.773405",
     "exception": false,
     "start_time": "2023-10-05T16:32:49.735690",
     "status": "completed"
    },
    "tags": []
   },
   "outputs": [
    {
     "name": "stdout",
     "output_type": "stream",
     "text": [
      "<class 'pandas.core.frame.DataFrame'>\n",
      "RangeIndex: 8693 entries, 0 to 8692\n",
      "Data columns (total 18 columns):\n",
      " #   Column            Non-Null Count  Dtype  \n",
      "---  ------            --------------  -----  \n",
      " 0   HomePlanet        8693 non-null   object \n",
      " 1   CryoSleep         8693 non-null   object \n",
      " 2   Destination       8693 non-null   object \n",
      " 3   Age               8693 non-null   float64\n",
      " 4   VIP               8693 non-null   object \n",
      " 5   RoomService       8693 non-null   float64\n",
      " 6   FoodCourt         8693 non-null   float64\n",
      " 7   ShoppingMall      8693 non-null   float64\n",
      " 8   Spa               8693 non-null   float64\n",
      " 9   VRDeck            8693 non-null   float64\n",
      " 10  Transported       8693 non-null   bool   \n",
      " 11  Age_Group         8693 non-null   object \n",
      " 12  Deck              8693 non-null   object \n",
      " 13  CabinRegion       8693 non-null   float64\n",
      " 14  Side              8693 non-null   object \n",
      " 15  CabinRegionGroup  8693 non-null   object \n",
      " 16  id1               8693 non-null   object \n",
      " 17  TotalCosts        8693 non-null   float64\n",
      "dtypes: bool(1), float64(8), object(9)\n",
      "memory usage: 1.1+ MB\n"
     ]
    }
   ],
   "source": [
    "train_data.info()"
   ]
  },
  {
   "cell_type": "code",
   "execution_count": 23,
   "id": "8f0a1e4a",
   "metadata": {
    "execution": {
     "iopub.execute_input": "2023-10-05T16:32:49.808139Z",
     "iopub.status.busy": "2023-10-05T16:32:49.807381Z",
     "iopub.status.idle": "2023-10-05T16:32:49.811740Z",
     "shell.execute_reply": "2023-10-05T16:32:49.810700Z"
    },
    "papermill": {
     "duration": 0.024425,
     "end_time": "2023-10-05T16:32:49.814052",
     "exception": false,
     "start_time": "2023-10-05T16:32:49.789627",
     "status": "completed"
    },
    "tags": []
   },
   "outputs": [],
   "source": [
    "# train_data['Count'] = train_data['Count'].astype('object')\n",
    "# test_data['Count'] = test_data['Count'].astype('object')"
   ]
  },
  {
   "cell_type": "code",
   "execution_count": 24,
   "id": "ec6240c3",
   "metadata": {
    "execution": {
     "iopub.execute_input": "2023-10-05T16:32:49.848861Z",
     "iopub.status.busy": "2023-10-05T16:32:49.848095Z",
     "iopub.status.idle": "2023-10-05T16:32:49.874833Z",
     "shell.execute_reply": "2023-10-05T16:32:49.873799Z"
    },
    "papermill": {
     "duration": 0.046389,
     "end_time": "2023-10-05T16:32:49.876955",
     "exception": false,
     "start_time": "2023-10-05T16:32:49.830566",
     "status": "completed"
    },
    "tags": []
   },
   "outputs": [
    {
     "data": {
      "text/html": [
       "<div>\n",
       "<style scoped>\n",
       "    .dataframe tbody tr th:only-of-type {\n",
       "        vertical-align: middle;\n",
       "    }\n",
       "\n",
       "    .dataframe tbody tr th {\n",
       "        vertical-align: top;\n",
       "    }\n",
       "\n",
       "    .dataframe thead th {\n",
       "        text-align: right;\n",
       "    }\n",
       "</style>\n",
       "<table border=\"1\" class=\"dataframe\">\n",
       "  <thead>\n",
       "    <tr style=\"text-align: right;\">\n",
       "      <th></th>\n",
       "      <th>HomePlanet</th>\n",
       "      <th>CryoSleep</th>\n",
       "      <th>Destination</th>\n",
       "      <th>Age</th>\n",
       "      <th>VIP</th>\n",
       "      <th>RoomService</th>\n",
       "      <th>FoodCourt</th>\n",
       "      <th>ShoppingMall</th>\n",
       "      <th>Spa</th>\n",
       "      <th>VRDeck</th>\n",
       "      <th>Transported</th>\n",
       "      <th>Age_Group</th>\n",
       "      <th>Deck</th>\n",
       "      <th>CabinRegion</th>\n",
       "      <th>Side</th>\n",
       "      <th>CabinRegionGroup</th>\n",
       "      <th>id1</th>\n",
       "      <th>TotalCosts</th>\n",
       "    </tr>\n",
       "  </thead>\n",
       "  <tbody>\n",
       "    <tr>\n",
       "      <th>0</th>\n",
       "      <td>Europa</td>\n",
       "      <td>False</td>\n",
       "      <td>TRAPPIST-1e</td>\n",
       "      <td>39.0</td>\n",
       "      <td>False</td>\n",
       "      <td>0.0</td>\n",
       "      <td>0.0</td>\n",
       "      <td>0.0</td>\n",
       "      <td>0.0</td>\n",
       "      <td>0.0</td>\n",
       "      <td>False</td>\n",
       "      <td>Age_31-50</td>\n",
       "      <td>B</td>\n",
       "      <td>0.0</td>\n",
       "      <td>P</td>\n",
       "      <td>Cab_r_1</td>\n",
       "      <td>01</td>\n",
       "      <td>0.0</td>\n",
       "    </tr>\n",
       "    <tr>\n",
       "      <th>1</th>\n",
       "      <td>Earth</td>\n",
       "      <td>False</td>\n",
       "      <td>TRAPPIST-1e</td>\n",
       "      <td>24.0</td>\n",
       "      <td>False</td>\n",
       "      <td>109.0</td>\n",
       "      <td>9.0</td>\n",
       "      <td>25.0</td>\n",
       "      <td>549.0</td>\n",
       "      <td>44.0</td>\n",
       "      <td>True</td>\n",
       "      <td>Age_18-25</td>\n",
       "      <td>F</td>\n",
       "      <td>0.0</td>\n",
       "      <td>S</td>\n",
       "      <td>Cab_r_1</td>\n",
       "      <td>01</td>\n",
       "      <td>736.0</td>\n",
       "    </tr>\n",
       "    <tr>\n",
       "      <th>2</th>\n",
       "      <td>Europa</td>\n",
       "      <td>False</td>\n",
       "      <td>TRAPPIST-1e</td>\n",
       "      <td>58.0</td>\n",
       "      <td>True</td>\n",
       "      <td>43.0</td>\n",
       "      <td>3576.0</td>\n",
       "      <td>0.0</td>\n",
       "      <td>6715.0</td>\n",
       "      <td>49.0</td>\n",
       "      <td>False</td>\n",
       "      <td>Age_51+</td>\n",
       "      <td>A</td>\n",
       "      <td>0.0</td>\n",
       "      <td>S</td>\n",
       "      <td>Cab_r_1</td>\n",
       "      <td>01</td>\n",
       "      <td>10383.0</td>\n",
       "    </tr>\n",
       "    <tr>\n",
       "      <th>3</th>\n",
       "      <td>Europa</td>\n",
       "      <td>False</td>\n",
       "      <td>TRAPPIST-1e</td>\n",
       "      <td>33.0</td>\n",
       "      <td>False</td>\n",
       "      <td>0.0</td>\n",
       "      <td>1283.0</td>\n",
       "      <td>371.0</td>\n",
       "      <td>3329.0</td>\n",
       "      <td>193.0</td>\n",
       "      <td>False</td>\n",
       "      <td>Age_31-50</td>\n",
       "      <td>A</td>\n",
       "      <td>0.0</td>\n",
       "      <td>S</td>\n",
       "      <td>Cab_r_1</td>\n",
       "      <td>02</td>\n",
       "      <td>5176.0</td>\n",
       "    </tr>\n",
       "    <tr>\n",
       "      <th>4</th>\n",
       "      <td>Earth</td>\n",
       "      <td>False</td>\n",
       "      <td>TRAPPIST-1e</td>\n",
       "      <td>16.0</td>\n",
       "      <td>False</td>\n",
       "      <td>303.0</td>\n",
       "      <td>70.0</td>\n",
       "      <td>151.0</td>\n",
       "      <td>565.0</td>\n",
       "      <td>2.0</td>\n",
       "      <td>True</td>\n",
       "      <td>Age_13-17</td>\n",
       "      <td>F</td>\n",
       "      <td>1.0</td>\n",
       "      <td>S</td>\n",
       "      <td>Cab_r_1</td>\n",
       "      <td>01</td>\n",
       "      <td>1091.0</td>\n",
       "    </tr>\n",
       "    <tr>\n",
       "      <th>...</th>\n",
       "      <td>...</td>\n",
       "      <td>...</td>\n",
       "      <td>...</td>\n",
       "      <td>...</td>\n",
       "      <td>...</td>\n",
       "      <td>...</td>\n",
       "      <td>...</td>\n",
       "      <td>...</td>\n",
       "      <td>...</td>\n",
       "      <td>...</td>\n",
       "      <td>...</td>\n",
       "      <td>...</td>\n",
       "      <td>...</td>\n",
       "      <td>...</td>\n",
       "      <td>...</td>\n",
       "      <td>...</td>\n",
       "      <td>...</td>\n",
       "      <td>...</td>\n",
       "    </tr>\n",
       "    <tr>\n",
       "      <th>8688</th>\n",
       "      <td>Europa</td>\n",
       "      <td>False</td>\n",
       "      <td>55 Cancri e</td>\n",
       "      <td>41.0</td>\n",
       "      <td>True</td>\n",
       "      <td>0.0</td>\n",
       "      <td>6819.0</td>\n",
       "      <td>0.0</td>\n",
       "      <td>1643.0</td>\n",
       "      <td>74.0</td>\n",
       "      <td>False</td>\n",
       "      <td>Age_31-50</td>\n",
       "      <td>A</td>\n",
       "      <td>98.0</td>\n",
       "      <td>P</td>\n",
       "      <td>Cab_r_1</td>\n",
       "      <td>01</td>\n",
       "      <td>8536.0</td>\n",
       "    </tr>\n",
       "    <tr>\n",
       "      <th>8689</th>\n",
       "      <td>Earth</td>\n",
       "      <td>True</td>\n",
       "      <td>PSO J318.5-22</td>\n",
       "      <td>18.0</td>\n",
       "      <td>False</td>\n",
       "      <td>0.0</td>\n",
       "      <td>0.0</td>\n",
       "      <td>0.0</td>\n",
       "      <td>0.0</td>\n",
       "      <td>0.0</td>\n",
       "      <td>False</td>\n",
       "      <td>Age_13-17</td>\n",
       "      <td>G</td>\n",
       "      <td>1499.0</td>\n",
       "      <td>S</td>\n",
       "      <td>Cab_r_5</td>\n",
       "      <td>01</td>\n",
       "      <td>0.0</td>\n",
       "    </tr>\n",
       "    <tr>\n",
       "      <th>8690</th>\n",
       "      <td>Earth</td>\n",
       "      <td>False</td>\n",
       "      <td>TRAPPIST-1e</td>\n",
       "      <td>26.0</td>\n",
       "      <td>False</td>\n",
       "      <td>0.0</td>\n",
       "      <td>0.0</td>\n",
       "      <td>1872.0</td>\n",
       "      <td>1.0</td>\n",
       "      <td>0.0</td>\n",
       "      <td>True</td>\n",
       "      <td>Age_26-30</td>\n",
       "      <td>G</td>\n",
       "      <td>1500.0</td>\n",
       "      <td>S</td>\n",
       "      <td>Cab_r_5</td>\n",
       "      <td>01</td>\n",
       "      <td>1873.0</td>\n",
       "    </tr>\n",
       "    <tr>\n",
       "      <th>8691</th>\n",
       "      <td>Europa</td>\n",
       "      <td>False</td>\n",
       "      <td>55 Cancri e</td>\n",
       "      <td>32.0</td>\n",
       "      <td>False</td>\n",
       "      <td>0.0</td>\n",
       "      <td>1049.0</td>\n",
       "      <td>0.0</td>\n",
       "      <td>353.0</td>\n",
       "      <td>3235.0</td>\n",
       "      <td>False</td>\n",
       "      <td>Age_31-50</td>\n",
       "      <td>E</td>\n",
       "      <td>608.0</td>\n",
       "      <td>S</td>\n",
       "      <td>Cab_r_3</td>\n",
       "      <td>01</td>\n",
       "      <td>4637.0</td>\n",
       "    </tr>\n",
       "    <tr>\n",
       "      <th>8692</th>\n",
       "      <td>Europa</td>\n",
       "      <td>False</td>\n",
       "      <td>TRAPPIST-1e</td>\n",
       "      <td>44.0</td>\n",
       "      <td>False</td>\n",
       "      <td>126.0</td>\n",
       "      <td>4688.0</td>\n",
       "      <td>0.0</td>\n",
       "      <td>0.0</td>\n",
       "      <td>12.0</td>\n",
       "      <td>True</td>\n",
       "      <td>Age_31-50</td>\n",
       "      <td>E</td>\n",
       "      <td>608.0</td>\n",
       "      <td>S</td>\n",
       "      <td>Cab_r_3</td>\n",
       "      <td>02</td>\n",
       "      <td>4826.0</td>\n",
       "    </tr>\n",
       "  </tbody>\n",
       "</table>\n",
       "<p>8693 rows × 18 columns</p>\n",
       "</div>"
      ],
      "text/plain": [
       "     HomePlanet CryoSleep    Destination   Age    VIP  RoomService  FoodCourt  \\\n",
       "0        Europa     False    TRAPPIST-1e  39.0  False          0.0        0.0   \n",
       "1         Earth     False    TRAPPIST-1e  24.0  False        109.0        9.0   \n",
       "2        Europa     False    TRAPPIST-1e  58.0   True         43.0     3576.0   \n",
       "3        Europa     False    TRAPPIST-1e  33.0  False          0.0     1283.0   \n",
       "4         Earth     False    TRAPPIST-1e  16.0  False        303.0       70.0   \n",
       "...         ...       ...            ...   ...    ...          ...        ...   \n",
       "8688     Europa     False    55 Cancri e  41.0   True          0.0     6819.0   \n",
       "8689      Earth      True  PSO J318.5-22  18.0  False          0.0        0.0   \n",
       "8690      Earth     False    TRAPPIST-1e  26.0  False          0.0        0.0   \n",
       "8691     Europa     False    55 Cancri e  32.0  False          0.0     1049.0   \n",
       "8692     Europa     False    TRAPPIST-1e  44.0  False        126.0     4688.0   \n",
       "\n",
       "      ShoppingMall     Spa  VRDeck  Transported  Age_Group Deck  CabinRegion  \\\n",
       "0              0.0     0.0     0.0        False  Age_31-50    B          0.0   \n",
       "1             25.0   549.0    44.0         True  Age_18-25    F          0.0   \n",
       "2              0.0  6715.0    49.0        False    Age_51+    A          0.0   \n",
       "3            371.0  3329.0   193.0        False  Age_31-50    A          0.0   \n",
       "4            151.0   565.0     2.0         True  Age_13-17    F          1.0   \n",
       "...            ...     ...     ...          ...        ...  ...          ...   \n",
       "8688           0.0  1643.0    74.0        False  Age_31-50    A         98.0   \n",
       "8689           0.0     0.0     0.0        False  Age_13-17    G       1499.0   \n",
       "8690        1872.0     1.0     0.0         True  Age_26-30    G       1500.0   \n",
       "8691           0.0   353.0  3235.0        False  Age_31-50    E        608.0   \n",
       "8692           0.0     0.0    12.0         True  Age_31-50    E        608.0   \n",
       "\n",
       "     Side CabinRegionGroup id1  TotalCosts  \n",
       "0       P          Cab_r_1  01         0.0  \n",
       "1       S          Cab_r_1  01       736.0  \n",
       "2       S          Cab_r_1  01     10383.0  \n",
       "3       S          Cab_r_1  02      5176.0  \n",
       "4       S          Cab_r_1  01      1091.0  \n",
       "...   ...              ...  ..         ...  \n",
       "8688    P          Cab_r_1  01      8536.0  \n",
       "8689    S          Cab_r_5  01         0.0  \n",
       "8690    S          Cab_r_5  01      1873.0  \n",
       "8691    S          Cab_r_3  01      4637.0  \n",
       "8692    S          Cab_r_3  02      4826.0  \n",
       "\n",
       "[8693 rows x 18 columns]"
      ]
     },
     "execution_count": 24,
     "metadata": {},
     "output_type": "execute_result"
    }
   ],
   "source": [
    "train_data"
   ]
  },
  {
   "cell_type": "code",
   "execution_count": 25,
   "id": "60030e4d",
   "metadata": {
    "execution": {
     "iopub.execute_input": "2023-10-05T16:32:49.913233Z",
     "iopub.status.busy": "2023-10-05T16:32:49.912557Z",
     "iopub.status.idle": "2023-10-05T16:32:49.938615Z",
     "shell.execute_reply": "2023-10-05T16:32:49.937583Z"
    },
    "papermill": {
     "duration": 0.047219,
     "end_time": "2023-10-05T16:32:49.940900",
     "exception": false,
     "start_time": "2023-10-05T16:32:49.893681",
     "status": "completed"
    },
    "tags": []
   },
   "outputs": [
    {
     "data": {
      "text/html": [
       "<div>\n",
       "<style scoped>\n",
       "    .dataframe tbody tr th:only-of-type {\n",
       "        vertical-align: middle;\n",
       "    }\n",
       "\n",
       "    .dataframe tbody tr th {\n",
       "        vertical-align: top;\n",
       "    }\n",
       "\n",
       "    .dataframe thead th {\n",
       "        text-align: right;\n",
       "    }\n",
       "</style>\n",
       "<table border=\"1\" class=\"dataframe\">\n",
       "  <thead>\n",
       "    <tr style=\"text-align: right;\">\n",
       "      <th></th>\n",
       "      <th>HomePlanet</th>\n",
       "      <th>CryoSleep</th>\n",
       "      <th>Destination</th>\n",
       "      <th>Age</th>\n",
       "      <th>VIP</th>\n",
       "      <th>RoomService</th>\n",
       "      <th>FoodCourt</th>\n",
       "      <th>ShoppingMall</th>\n",
       "      <th>Spa</th>\n",
       "      <th>VRDeck</th>\n",
       "      <th>Transported</th>\n",
       "      <th>Age_Group</th>\n",
       "      <th>Deck</th>\n",
       "      <th>CabinRegion</th>\n",
       "      <th>Side</th>\n",
       "      <th>CabinRegionGroup</th>\n",
       "      <th>id1</th>\n",
       "      <th>TotalCosts</th>\n",
       "    </tr>\n",
       "  </thead>\n",
       "  <tbody>\n",
       "    <tr>\n",
       "      <th>0</th>\n",
       "      <td>Europa</td>\n",
       "      <td>False</td>\n",
       "      <td>TRAPPIST-1e</td>\n",
       "      <td>39.0</td>\n",
       "      <td>False</td>\n",
       "      <td>0.0</td>\n",
       "      <td>0.0</td>\n",
       "      <td>0.0</td>\n",
       "      <td>0.0</td>\n",
       "      <td>0.0</td>\n",
       "      <td>False</td>\n",
       "      <td>Age_31-50</td>\n",
       "      <td>B</td>\n",
       "      <td>0.0</td>\n",
       "      <td>P</td>\n",
       "      <td>Cab_r_1</td>\n",
       "      <td>01</td>\n",
       "      <td>0.0</td>\n",
       "    </tr>\n",
       "    <tr>\n",
       "      <th>1</th>\n",
       "      <td>Earth</td>\n",
       "      <td>False</td>\n",
       "      <td>TRAPPIST-1e</td>\n",
       "      <td>24.0</td>\n",
       "      <td>False</td>\n",
       "      <td>109.0</td>\n",
       "      <td>9.0</td>\n",
       "      <td>25.0</td>\n",
       "      <td>549.0</td>\n",
       "      <td>44.0</td>\n",
       "      <td>True</td>\n",
       "      <td>Age_18-25</td>\n",
       "      <td>F</td>\n",
       "      <td>0.0</td>\n",
       "      <td>S</td>\n",
       "      <td>Cab_r_1</td>\n",
       "      <td>01</td>\n",
       "      <td>736.0</td>\n",
       "    </tr>\n",
       "    <tr>\n",
       "      <th>2</th>\n",
       "      <td>Europa</td>\n",
       "      <td>False</td>\n",
       "      <td>TRAPPIST-1e</td>\n",
       "      <td>58.0</td>\n",
       "      <td>True</td>\n",
       "      <td>43.0</td>\n",
       "      <td>3576.0</td>\n",
       "      <td>0.0</td>\n",
       "      <td>6715.0</td>\n",
       "      <td>49.0</td>\n",
       "      <td>False</td>\n",
       "      <td>Age_51+</td>\n",
       "      <td>A</td>\n",
       "      <td>0.0</td>\n",
       "      <td>S</td>\n",
       "      <td>Cab_r_1</td>\n",
       "      <td>01</td>\n",
       "      <td>10383.0</td>\n",
       "    </tr>\n",
       "    <tr>\n",
       "      <th>3</th>\n",
       "      <td>Europa</td>\n",
       "      <td>False</td>\n",
       "      <td>TRAPPIST-1e</td>\n",
       "      <td>33.0</td>\n",
       "      <td>False</td>\n",
       "      <td>0.0</td>\n",
       "      <td>1283.0</td>\n",
       "      <td>371.0</td>\n",
       "      <td>3329.0</td>\n",
       "      <td>193.0</td>\n",
       "      <td>False</td>\n",
       "      <td>Age_31-50</td>\n",
       "      <td>A</td>\n",
       "      <td>0.0</td>\n",
       "      <td>S</td>\n",
       "      <td>Cab_r_1</td>\n",
       "      <td>02</td>\n",
       "      <td>5176.0</td>\n",
       "    </tr>\n",
       "    <tr>\n",
       "      <th>4</th>\n",
       "      <td>Earth</td>\n",
       "      <td>False</td>\n",
       "      <td>TRAPPIST-1e</td>\n",
       "      <td>16.0</td>\n",
       "      <td>False</td>\n",
       "      <td>303.0</td>\n",
       "      <td>70.0</td>\n",
       "      <td>151.0</td>\n",
       "      <td>565.0</td>\n",
       "      <td>2.0</td>\n",
       "      <td>True</td>\n",
       "      <td>Age_13-17</td>\n",
       "      <td>F</td>\n",
       "      <td>1.0</td>\n",
       "      <td>S</td>\n",
       "      <td>Cab_r_1</td>\n",
       "      <td>01</td>\n",
       "      <td>1091.0</td>\n",
       "    </tr>\n",
       "    <tr>\n",
       "      <th>...</th>\n",
       "      <td>...</td>\n",
       "      <td>...</td>\n",
       "      <td>...</td>\n",
       "      <td>...</td>\n",
       "      <td>...</td>\n",
       "      <td>...</td>\n",
       "      <td>...</td>\n",
       "      <td>...</td>\n",
       "      <td>...</td>\n",
       "      <td>...</td>\n",
       "      <td>...</td>\n",
       "      <td>...</td>\n",
       "      <td>...</td>\n",
       "      <td>...</td>\n",
       "      <td>...</td>\n",
       "      <td>...</td>\n",
       "      <td>...</td>\n",
       "      <td>...</td>\n",
       "    </tr>\n",
       "    <tr>\n",
       "      <th>8688</th>\n",
       "      <td>Europa</td>\n",
       "      <td>False</td>\n",
       "      <td>55 Cancri e</td>\n",
       "      <td>41.0</td>\n",
       "      <td>True</td>\n",
       "      <td>0.0</td>\n",
       "      <td>6819.0</td>\n",
       "      <td>0.0</td>\n",
       "      <td>1643.0</td>\n",
       "      <td>74.0</td>\n",
       "      <td>False</td>\n",
       "      <td>Age_31-50</td>\n",
       "      <td>A</td>\n",
       "      <td>98.0</td>\n",
       "      <td>P</td>\n",
       "      <td>Cab_r_1</td>\n",
       "      <td>01</td>\n",
       "      <td>8536.0</td>\n",
       "    </tr>\n",
       "    <tr>\n",
       "      <th>8689</th>\n",
       "      <td>Earth</td>\n",
       "      <td>True</td>\n",
       "      <td>PSO J318.5-22</td>\n",
       "      <td>18.0</td>\n",
       "      <td>False</td>\n",
       "      <td>0.0</td>\n",
       "      <td>0.0</td>\n",
       "      <td>0.0</td>\n",
       "      <td>0.0</td>\n",
       "      <td>0.0</td>\n",
       "      <td>False</td>\n",
       "      <td>Age_13-17</td>\n",
       "      <td>G</td>\n",
       "      <td>1499.0</td>\n",
       "      <td>S</td>\n",
       "      <td>Cab_r_5</td>\n",
       "      <td>01</td>\n",
       "      <td>0.0</td>\n",
       "    </tr>\n",
       "    <tr>\n",
       "      <th>8690</th>\n",
       "      <td>Earth</td>\n",
       "      <td>False</td>\n",
       "      <td>TRAPPIST-1e</td>\n",
       "      <td>26.0</td>\n",
       "      <td>False</td>\n",
       "      <td>0.0</td>\n",
       "      <td>0.0</td>\n",
       "      <td>1872.0</td>\n",
       "      <td>1.0</td>\n",
       "      <td>0.0</td>\n",
       "      <td>True</td>\n",
       "      <td>Age_26-30</td>\n",
       "      <td>G</td>\n",
       "      <td>1500.0</td>\n",
       "      <td>S</td>\n",
       "      <td>Cab_r_5</td>\n",
       "      <td>01</td>\n",
       "      <td>1873.0</td>\n",
       "    </tr>\n",
       "    <tr>\n",
       "      <th>8691</th>\n",
       "      <td>Europa</td>\n",
       "      <td>False</td>\n",
       "      <td>55 Cancri e</td>\n",
       "      <td>32.0</td>\n",
       "      <td>False</td>\n",
       "      <td>0.0</td>\n",
       "      <td>1049.0</td>\n",
       "      <td>0.0</td>\n",
       "      <td>353.0</td>\n",
       "      <td>3235.0</td>\n",
       "      <td>False</td>\n",
       "      <td>Age_31-50</td>\n",
       "      <td>E</td>\n",
       "      <td>608.0</td>\n",
       "      <td>S</td>\n",
       "      <td>Cab_r_3</td>\n",
       "      <td>01</td>\n",
       "      <td>4637.0</td>\n",
       "    </tr>\n",
       "    <tr>\n",
       "      <th>8692</th>\n",
       "      <td>Europa</td>\n",
       "      <td>False</td>\n",
       "      <td>TRAPPIST-1e</td>\n",
       "      <td>44.0</td>\n",
       "      <td>False</td>\n",
       "      <td>126.0</td>\n",
       "      <td>4688.0</td>\n",
       "      <td>0.0</td>\n",
       "      <td>0.0</td>\n",
       "      <td>12.0</td>\n",
       "      <td>True</td>\n",
       "      <td>Age_31-50</td>\n",
       "      <td>E</td>\n",
       "      <td>608.0</td>\n",
       "      <td>S</td>\n",
       "      <td>Cab_r_3</td>\n",
       "      <td>02</td>\n",
       "      <td>4826.0</td>\n",
       "    </tr>\n",
       "  </tbody>\n",
       "</table>\n",
       "<p>8693 rows × 18 columns</p>\n",
       "</div>"
      ],
      "text/plain": [
       "     HomePlanet CryoSleep    Destination   Age    VIP  RoomService  FoodCourt  \\\n",
       "0        Europa     False    TRAPPIST-1e  39.0  False          0.0        0.0   \n",
       "1         Earth     False    TRAPPIST-1e  24.0  False        109.0        9.0   \n",
       "2        Europa     False    TRAPPIST-1e  58.0   True         43.0     3576.0   \n",
       "3        Europa     False    TRAPPIST-1e  33.0  False          0.0     1283.0   \n",
       "4         Earth     False    TRAPPIST-1e  16.0  False        303.0       70.0   \n",
       "...         ...       ...            ...   ...    ...          ...        ...   \n",
       "8688     Europa     False    55 Cancri e  41.0   True          0.0     6819.0   \n",
       "8689      Earth      True  PSO J318.5-22  18.0  False          0.0        0.0   \n",
       "8690      Earth     False    TRAPPIST-1e  26.0  False          0.0        0.0   \n",
       "8691     Europa     False    55 Cancri e  32.0  False          0.0     1049.0   \n",
       "8692     Europa     False    TRAPPIST-1e  44.0  False        126.0     4688.0   \n",
       "\n",
       "      ShoppingMall     Spa  VRDeck  Transported  Age_Group Deck  CabinRegion  \\\n",
       "0              0.0     0.0     0.0        False  Age_31-50    B          0.0   \n",
       "1             25.0   549.0    44.0         True  Age_18-25    F          0.0   \n",
       "2              0.0  6715.0    49.0        False    Age_51+    A          0.0   \n",
       "3            371.0  3329.0   193.0        False  Age_31-50    A          0.0   \n",
       "4            151.0   565.0     2.0         True  Age_13-17    F          1.0   \n",
       "...            ...     ...     ...          ...        ...  ...          ...   \n",
       "8688           0.0  1643.0    74.0        False  Age_31-50    A         98.0   \n",
       "8689           0.0     0.0     0.0        False  Age_13-17    G       1499.0   \n",
       "8690        1872.0     1.0     0.0         True  Age_26-30    G       1500.0   \n",
       "8691           0.0   353.0  3235.0        False  Age_31-50    E        608.0   \n",
       "8692           0.0     0.0    12.0         True  Age_31-50    E        608.0   \n",
       "\n",
       "     Side CabinRegionGroup id1  TotalCosts  \n",
       "0       P          Cab_r_1  01         0.0  \n",
       "1       S          Cab_r_1  01       736.0  \n",
       "2       S          Cab_r_1  01     10383.0  \n",
       "3       S          Cab_r_1  02      5176.0  \n",
       "4       S          Cab_r_1  01      1091.0  \n",
       "...   ...              ...  ..         ...  \n",
       "8688    P          Cab_r_1  01      8536.0  \n",
       "8689    S          Cab_r_5  01         0.0  \n",
       "8690    S          Cab_r_5  01      1873.0  \n",
       "8691    S          Cab_r_3  01      4637.0  \n",
       "8692    S          Cab_r_3  02      4826.0  \n",
       "\n",
       "[8693 rows x 18 columns]"
      ]
     },
     "execution_count": 25,
     "metadata": {},
     "output_type": "execute_result"
    }
   ],
   "source": [
    "train_data"
   ]
  },
  {
   "cell_type": "code",
   "execution_count": 26,
   "id": "07491e82",
   "metadata": {
    "execution": {
     "iopub.execute_input": "2023-10-05T16:32:49.978140Z",
     "iopub.status.busy": "2023-10-05T16:32:49.977766Z",
     "iopub.status.idle": "2023-10-05T16:32:49.982171Z",
     "shell.execute_reply": "2023-10-05T16:32:49.981331Z"
    },
    "papermill": {
     "duration": 0.025318,
     "end_time": "2023-10-05T16:32:49.984066",
     "exception": false,
     "start_time": "2023-10-05T16:32:49.958748",
     "status": "completed"
    },
    "tags": []
   },
   "outputs": [],
   "source": [
    "train_acc = []"
   ]
  },
  {
   "cell_type": "code",
   "execution_count": 27,
   "id": "8cf1ef18",
   "metadata": {
    "execution": {
     "iopub.execute_input": "2023-10-05T16:32:50.021780Z",
     "iopub.status.busy": "2023-10-05T16:32:50.021011Z",
     "iopub.status.idle": "2023-10-05T16:32:50.033830Z",
     "shell.execute_reply": "2023-10-05T16:32:50.032576Z"
    },
    "papermill": {
     "duration": 0.034019,
     "end_time": "2023-10-05T16:32:50.036228",
     "exception": false,
     "start_time": "2023-10-05T16:32:50.002209",
     "status": "completed"
    },
    "tags": []
   },
   "outputs": [
    {
     "name": "stdout",
     "output_type": "stream",
     "text": [
      "4315\n",
      "4378\n"
     ]
    }
   ],
   "source": [
    "print(len(train_data[train_data.Transported == False]))\n",
    "print(len(train_data[train_data.Transported == True]))"
   ]
  },
  {
   "cell_type": "code",
   "execution_count": 28,
   "id": "c766a02e",
   "metadata": {
    "execution": {
     "iopub.execute_input": "2023-10-05T16:32:50.073557Z",
     "iopub.status.busy": "2023-10-05T16:32:50.073130Z",
     "iopub.status.idle": "2023-10-05T16:32:50.077921Z",
     "shell.execute_reply": "2023-10-05T16:32:50.076690Z"
    },
    "papermill": {
     "duration": 0.026786,
     "end_time": "2023-10-05T16:32:50.080590",
     "exception": false,
     "start_time": "2023-10-05T16:32:50.053804",
     "status": "completed"
    },
    "tags": []
   },
   "outputs": [],
   "source": [
    "val = 0.3"
   ]
  },
  {
   "cell_type": "code",
   "execution_count": 29,
   "id": "9e594065",
   "metadata": {
    "execution": {
     "iopub.execute_input": "2023-10-05T16:32:50.117170Z",
     "iopub.status.busy": "2023-10-05T16:32:50.116205Z",
     "iopub.status.idle": "2023-10-05T16:32:50.121025Z",
     "shell.execute_reply": "2023-10-05T16:32:50.119965Z"
    },
    "papermill": {
     "duration": 0.025418,
     "end_time": "2023-10-05T16:32:50.123391",
     "exception": false,
     "start_time": "2023-10-05T16:32:50.097973",
     "status": "completed"
    },
    "tags": []
   },
   "outputs": [],
   "source": [
    "# i = 0\n",
    "# while True:\n",
    "#     X, y = train_data.drop('Transported', axis=1), train_data['Transported']\n",
    "#     X_train, X_valid, y_train, y_valid = train_test_split(X, y, test_size=val, random_state=i)\n",
    "#     unique_elements, counts = np.unique(np.array(y_train), return_counts=True)\n",
    "\n",
    "#     element_counts = dict(zip(unique_elements, counts))\n",
    "        \n",
    "#     if abs(element_counts[False] - element_counts[True]) < 3:\n",
    "#         break\n",
    "        \n",
    "#     i+=1\n",
    "#     if i==10000:\n",
    "#         break"
   ]
  },
  {
   "cell_type": "code",
   "execution_count": 30,
   "id": "01abbc35",
   "metadata": {
    "execution": {
     "iopub.execute_input": "2023-10-05T16:32:50.159443Z",
     "iopub.status.busy": "2023-10-05T16:32:50.159103Z",
     "iopub.status.idle": "2023-10-05T16:32:50.174481Z",
     "shell.execute_reply": "2023-10-05T16:32:50.173367Z"
    },
    "papermill": {
     "duration": 0.036391,
     "end_time": "2023-10-05T16:32:50.177083",
     "exception": false,
     "start_time": "2023-10-05T16:32:50.140692",
     "status": "completed"
    },
    "tags": []
   },
   "outputs": [],
   "source": [
    "X, y = train_data.drop('Transported', axis=1), train_data['Transported']\n",
    "X_train, X_valid, y_train, y_valid = train_test_split(X, y, test_size=val, random_state=280309)"
   ]
  },
  {
   "cell_type": "code",
   "execution_count": 31,
   "id": "a9531772",
   "metadata": {
    "execution": {
     "iopub.execute_input": "2023-10-05T16:32:50.214423Z",
     "iopub.status.busy": "2023-10-05T16:32:50.213551Z",
     "iopub.status.idle": "2023-10-05T16:32:50.223980Z",
     "shell.execute_reply": "2023-10-05T16:32:50.222955Z"
    },
    "papermill": {
     "duration": 0.031631,
     "end_time": "2023-10-05T16:32:50.226219",
     "exception": false,
     "start_time": "2023-10-05T16:32:50.194588",
     "status": "completed"
    },
    "tags": []
   },
   "outputs": [
    {
     "data": {
      "text/plain": [
       "['Age',\n",
       " 'RoomService',\n",
       " 'FoodCourt',\n",
       " 'ShoppingMall',\n",
       " 'Spa',\n",
       " 'VRDeck',\n",
       " 'CabinRegion',\n",
       " 'TotalCosts']"
      ]
     },
     "execution_count": 31,
     "metadata": {},
     "output_type": "execute_result"
    }
   ],
   "source": [
    "features_to_normalize = list(X.select_dtypes(include=['float64']).columns)\n",
    "features_to_normalize"
   ]
  },
  {
   "cell_type": "code",
   "execution_count": 32,
   "id": "8852d0fb",
   "metadata": {
    "execution": {
     "iopub.execute_input": "2023-10-05T16:32:50.262633Z",
     "iopub.status.busy": "2023-10-05T16:32:50.261932Z",
     "iopub.status.idle": "2023-10-05T16:32:50.270837Z",
     "shell.execute_reply": "2023-10-05T16:32:50.269588Z"
    },
    "papermill": {
     "duration": 0.029715,
     "end_time": "2023-10-05T16:32:50.273083",
     "exception": false,
     "start_time": "2023-10-05T16:32:50.243368",
     "status": "completed"
    },
    "tags": []
   },
   "outputs": [
    {
     "data": {
      "text/plain": [
       "['HomePlanet',\n",
       " 'CryoSleep',\n",
       " 'Destination',\n",
       " 'VIP',\n",
       " 'Age_Group',\n",
       " 'Deck',\n",
       " 'Side',\n",
       " 'CabinRegionGroup',\n",
       " 'id1']"
      ]
     },
     "execution_count": 32,
     "metadata": {},
     "output_type": "execute_result"
    }
   ],
   "source": [
    "object_columns = list(X.select_dtypes(include=['object']).columns)\n",
    "object_columns"
   ]
  },
  {
   "cell_type": "code",
   "execution_count": 33,
   "id": "c8faeb24",
   "metadata": {
    "execution": {
     "iopub.execute_input": "2023-10-05T16:32:50.310413Z",
     "iopub.status.busy": "2023-10-05T16:32:50.309709Z",
     "iopub.status.idle": "2023-10-05T16:32:50.330464Z",
     "shell.execute_reply": "2023-10-05T16:32:50.329577Z"
    },
    "papermill": {
     "duration": 0.04212,
     "end_time": "2023-10-05T16:32:50.333136",
     "exception": false,
     "start_time": "2023-10-05T16:32:50.291016",
     "status": "completed"
    },
    "tags": []
   },
   "outputs": [],
   "source": [
    "scaler = StandardScaler()\n",
    "X_train[features_to_normalize] = scaler.fit_transform(X_train[features_to_normalize])\n",
    "X_valid[features_to_normalize] = scaler.fit_transform(X_valid[features_to_normalize])\n",
    "test_data[features_to_normalize] = scaler.fit_transform(test_data[features_to_normalize])"
   ]
  },
  {
   "cell_type": "code",
   "execution_count": 34,
   "id": "b71f0a06",
   "metadata": {
    "execution": {
     "iopub.execute_input": "2023-10-05T16:32:50.371242Z",
     "iopub.status.busy": "2023-10-05T16:32:50.370528Z",
     "iopub.status.idle": "2023-10-05T16:32:50.376879Z",
     "shell.execute_reply": "2023-10-05T16:32:50.375843Z"
    },
    "papermill": {
     "duration": 0.028146,
     "end_time": "2023-10-05T16:32:50.379087",
     "exception": false,
     "start_time": "2023-10-05T16:32:50.350941",
     "status": "completed"
    },
    "tags": []
   },
   "outputs": [],
   "source": [
    "for column in X_train.select_dtypes(include=['category']).columns:\n",
    "    X_train[column] = X_train[column].astype(str)\n",
    "    \n",
    "for column in X_valid.select_dtypes(include=['category']).columns:\n",
    "    X_valid[column] = X_valid[column].astype(str)\n",
    "    \n",
    "for column in test_data.select_dtypes(include=['category']).columns:\n",
    "    test_data[column] = test_data[column].astype(str)"
   ]
  },
  {
   "cell_type": "code",
   "execution_count": 35,
   "id": "7cbbf765",
   "metadata": {
    "execution": {
     "iopub.execute_input": "2023-10-05T16:32:50.417559Z",
     "iopub.status.busy": "2023-10-05T16:32:50.416913Z",
     "iopub.status.idle": "2023-10-05T16:32:50.462182Z",
     "shell.execute_reply": "2023-10-05T16:32:50.460712Z"
    },
    "papermill": {
     "duration": 0.067353,
     "end_time": "2023-10-05T16:32:50.464786",
     "exception": false,
     "start_time": "2023-10-05T16:32:50.397433",
     "status": "completed"
    },
    "tags": []
   },
   "outputs": [],
   "source": [
    "from sklearn.preprocessing import LabelEncoder\n",
    "\n",
    "label_encoders = {}\n",
    "for column in X_train.select_dtypes(include=['object']).columns:\n",
    "    label_encoders[column] = LabelEncoder()\n",
    "    X_train[column] = label_encoders[column].fit_transform(X_train[column])\n",
    "    \n",
    "label_encoders = {}\n",
    "for column in X_valid.select_dtypes(include=['object']).columns:\n",
    "    label_encoders[column] = LabelEncoder()\n",
    "    X_valid[column] = label_encoders[column].fit_transform(X_valid[column])\n",
    "\n",
    "for column in test_data.drop('PassengerId',axis=1).select_dtypes(include=['object']).columns:\n",
    "    label_encoders[column] = LabelEncoder()\n",
    "    test_data[column] = label_encoders[column].fit_transform(test_data[column])"
   ]
  },
  {
   "cell_type": "code",
   "execution_count": 36,
   "id": "f93b35d9",
   "metadata": {
    "execution": {
     "iopub.execute_input": "2023-10-05T16:32:50.502508Z",
     "iopub.status.busy": "2023-10-05T16:32:50.502137Z",
     "iopub.status.idle": "2023-10-05T16:32:50.506086Z",
     "shell.execute_reply": "2023-10-05T16:32:50.505199Z"
    },
    "papermill": {
     "duration": 0.025782,
     "end_time": "2023-10-05T16:32:50.508068",
     "exception": false,
     "start_time": "2023-10-05T16:32:50.482286",
     "status": "completed"
    },
    "tags": []
   },
   "outputs": [],
   "source": [
    "# num_cols = ['ShoppingMall','FoodCourt','RoomService','Spa','VRDeck','TotalCosts','Age']\n",
    "# cat_cols = ['CryoSleep','Deck','Side','VIP','HomePlanet','Destination',\"id1\",'Age_Group','Count']"
   ]
  },
  {
   "cell_type": "code",
   "execution_count": 37,
   "id": "c4567b71",
   "metadata": {
    "execution": {
     "iopub.execute_input": "2023-10-05T16:32:50.546686Z",
     "iopub.status.busy": "2023-10-05T16:32:50.545641Z",
     "iopub.status.idle": "2023-10-05T16:32:50.549967Z",
     "shell.execute_reply": "2023-10-05T16:32:50.548952Z"
    },
    "papermill": {
     "duration": 0.02573,
     "end_time": "2023-10-05T16:32:50.552216",
     "exception": false,
     "start_time": "2023-10-05T16:32:50.526486",
     "status": "completed"
    },
    "tags": []
   },
   "outputs": [],
   "source": [
    "# X_train"
   ]
  },
  {
   "cell_type": "code",
   "execution_count": 38,
   "id": "530982b0",
   "metadata": {
    "execution": {
     "iopub.execute_input": "2023-10-05T16:32:50.590522Z",
     "iopub.status.busy": "2023-10-05T16:32:50.589660Z",
     "iopub.status.idle": "2023-10-05T16:32:50.594392Z",
     "shell.execute_reply": "2023-10-05T16:32:50.593496Z"
    },
    "papermill": {
     "duration": 0.026862,
     "end_time": "2023-10-05T16:32:50.596670",
     "exception": false,
     "start_time": "2023-10-05T16:32:50.569808",
     "status": "completed"
    },
    "tags": []
   },
   "outputs": [],
   "source": [
    "# X_train = pd.get_dummies(X_train, columns=X_train.select_dtypes(include=['object','int']).columns)"
   ]
  },
  {
   "cell_type": "code",
   "execution_count": 39,
   "id": "67e64db3",
   "metadata": {
    "execution": {
     "iopub.execute_input": "2023-10-05T16:32:50.635022Z",
     "iopub.status.busy": "2023-10-05T16:32:50.634331Z",
     "iopub.status.idle": "2023-10-05T16:32:50.638373Z",
     "shell.execute_reply": "2023-10-05T16:32:50.637374Z"
    },
    "papermill": {
     "duration": 0.025728,
     "end_time": "2023-10-05T16:32:50.640719",
     "exception": false,
     "start_time": "2023-10-05T16:32:50.614991",
     "status": "completed"
    },
    "tags": []
   },
   "outputs": [],
   "source": [
    "# X_valid = pd.get_dummies(X_valid, columns=X_valid.select_dtypes(include=['object','int']).columns)"
   ]
  },
  {
   "cell_type": "code",
   "execution_count": 40,
   "id": "8b552bd2",
   "metadata": {
    "execution": {
     "iopub.execute_input": "2023-10-05T16:32:50.680340Z",
     "iopub.status.busy": "2023-10-05T16:32:50.679710Z",
     "iopub.status.idle": "2023-10-05T16:32:50.684010Z",
     "shell.execute_reply": "2023-10-05T16:32:50.682897Z"
    },
    "papermill": {
     "duration": 0.025985,
     "end_time": "2023-10-05T16:32:50.686254",
     "exception": false,
     "start_time": "2023-10-05T16:32:50.660269",
     "status": "completed"
    },
    "tags": []
   },
   "outputs": [],
   "source": [
    "# test_data = pd.get_dummies(test_data, columns=test_data.select_dtypes(include=['object','int']).columns)"
   ]
  },
  {
   "cell_type": "code",
   "execution_count": 41,
   "id": "62b122d3",
   "metadata": {
    "execution": {
     "iopub.execute_input": "2023-10-05T16:32:50.727478Z",
     "iopub.status.busy": "2023-10-05T16:32:50.726479Z",
     "iopub.status.idle": "2023-10-05T16:32:50.747397Z",
     "shell.execute_reply": "2023-10-05T16:32:50.746138Z"
    },
    "papermill": {
     "duration": 0.042905,
     "end_time": "2023-10-05T16:32:50.749933",
     "exception": false,
     "start_time": "2023-10-05T16:32:50.707028",
     "status": "completed"
    },
    "tags": []
   },
   "outputs": [
    {
     "data": {
      "text/html": [
       "<div>\n",
       "<style scoped>\n",
       "    .dataframe tbody tr th:only-of-type {\n",
       "        vertical-align: middle;\n",
       "    }\n",
       "\n",
       "    .dataframe tbody tr th {\n",
       "        vertical-align: top;\n",
       "    }\n",
       "\n",
       "    .dataframe thead th {\n",
       "        text-align: right;\n",
       "    }\n",
       "</style>\n",
       "<table border=\"1\" class=\"dataframe\">\n",
       "  <thead>\n",
       "    <tr style=\"text-align: right;\">\n",
       "      <th></th>\n",
       "      <th>HomePlanet</th>\n",
       "      <th>CryoSleep</th>\n",
       "      <th>Destination</th>\n",
       "      <th>Age</th>\n",
       "      <th>VIP</th>\n",
       "      <th>RoomService</th>\n",
       "      <th>FoodCourt</th>\n",
       "      <th>ShoppingMall</th>\n",
       "      <th>Spa</th>\n",
       "      <th>VRDeck</th>\n",
       "      <th>Age_Group</th>\n",
       "      <th>Deck</th>\n",
       "      <th>CabinRegion</th>\n",
       "      <th>Side</th>\n",
       "      <th>CabinRegionGroup</th>\n",
       "      <th>id1</th>\n",
       "      <th>TotalCosts</th>\n",
       "    </tr>\n",
       "  </thead>\n",
       "  <tbody>\n",
       "    <tr>\n",
       "      <th>4279</th>\n",
       "      <td>0</td>\n",
       "      <td>0</td>\n",
       "      <td>2</td>\n",
       "      <td>-0.275670</td>\n",
       "      <td>0</td>\n",
       "      <td>-0.006970</td>\n",
       "      <td>-0.161901</td>\n",
       "      <td>-0.005259</td>\n",
       "      <td>-0.277197</td>\n",
       "      <td>0.210073</td>\n",
       "      <td>2</td>\n",
       "      <td>5</td>\n",
       "      <td>0.510200</td>\n",
       "      <td>1</td>\n",
       "      <td>2</td>\n",
       "      <td>0</td>\n",
       "      <td>-0.120204</td>\n",
       "    </tr>\n",
       "    <tr>\n",
       "      <th>5995</th>\n",
       "      <td>2</td>\n",
       "      <td>0</td>\n",
       "      <td>2</td>\n",
       "      <td>0.004712</td>\n",
       "      <td>0</td>\n",
       "      <td>2.991230</td>\n",
       "      <td>-0.287849</td>\n",
       "      <td>-0.283445</td>\n",
       "      <td>-0.277197</td>\n",
       "      <td>-0.267625</td>\n",
       "      <td>3</td>\n",
       "      <td>5</td>\n",
       "      <td>1.219864</td>\n",
       "      <td>1</td>\n",
       "      <td>4</td>\n",
       "      <td>0</td>\n",
       "      <td>0.257723</td>\n",
       "    </tr>\n",
       "    <tr>\n",
       "      <th>5723</th>\n",
       "      <td>0</td>\n",
       "      <td>0</td>\n",
       "      <td>2</td>\n",
       "      <td>-0.696242</td>\n",
       "      <td>0</td>\n",
       "      <td>-0.339582</td>\n",
       "      <td>0.194439</td>\n",
       "      <td>-0.283445</td>\n",
       "      <td>-0.277197</td>\n",
       "      <td>-0.267625</td>\n",
       "      <td>2</td>\n",
       "      <td>4</td>\n",
       "      <td>-0.393729</td>\n",
       "      <td>1</td>\n",
       "      <td>1</td>\n",
       "      <td>0</td>\n",
       "      <td>-0.248847</td>\n",
       "    </tr>\n",
       "    <tr>\n",
       "      <th>3478</th>\n",
       "      <td>0</td>\n",
       "      <td>1</td>\n",
       "      <td>2</td>\n",
       "      <td>-0.345765</td>\n",
       "      <td>0</td>\n",
       "      <td>-0.344083</td>\n",
       "      <td>-0.287849</td>\n",
       "      <td>-0.283445</td>\n",
       "      <td>-0.277197</td>\n",
       "      <td>-0.267625</td>\n",
       "      <td>2</td>\n",
       "      <td>6</td>\n",
       "      <td>0.020572</td>\n",
       "      <td>0</td>\n",
       "      <td>2</td>\n",
       "      <td>1</td>\n",
       "      <td>-0.527020</td>\n",
       "    </tr>\n",
       "    <tr>\n",
       "      <th>6308</th>\n",
       "      <td>2</td>\n",
       "      <td>0</td>\n",
       "      <td>2</td>\n",
       "      <td>-1.957959</td>\n",
       "      <td>0</td>\n",
       "      <td>-0.344083</td>\n",
       "      <td>-0.287849</td>\n",
       "      <td>-0.283445</td>\n",
       "      <td>-0.277197</td>\n",
       "      <td>-0.267625</td>\n",
       "      <td>0</td>\n",
       "      <td>5</td>\n",
       "      <td>1.566766</td>\n",
       "      <td>0</td>\n",
       "      <td>4</td>\n",
       "      <td>0</td>\n",
       "      <td>-0.527020</td>\n",
       "    </tr>\n",
       "    <tr>\n",
       "      <th>...</th>\n",
       "      <td>...</td>\n",
       "      <td>...</td>\n",
       "      <td>...</td>\n",
       "      <td>...</td>\n",
       "      <td>...</td>\n",
       "      <td>...</td>\n",
       "      <td>...</td>\n",
       "      <td>...</td>\n",
       "      <td>...</td>\n",
       "      <td>...</td>\n",
       "      <td>...</td>\n",
       "      <td>...</td>\n",
       "      <td>...</td>\n",
       "      <td>...</td>\n",
       "      <td>...</td>\n",
       "      <td>...</td>\n",
       "      <td>...</td>\n",
       "    </tr>\n",
       "    <tr>\n",
       "      <th>3097</th>\n",
       "      <td>1</td>\n",
       "      <td>0</td>\n",
       "      <td>2</td>\n",
       "      <td>0.074807</td>\n",
       "      <td>0</td>\n",
       "      <td>-0.344083</td>\n",
       "      <td>-0.177261</td>\n",
       "      <td>-0.139331</td>\n",
       "      <td>6.632846</td>\n",
       "      <td>-0.144068</td>\n",
       "      <td>3</td>\n",
       "      <td>1</td>\n",
       "      <td>-0.934897</td>\n",
       "      <td>1</td>\n",
       "      <td>0</td>\n",
       "      <td>1</td>\n",
       "      <td>2.350725</td>\n",
       "    </tr>\n",
       "    <tr>\n",
       "      <th>3457</th>\n",
       "      <td>0</td>\n",
       "      <td>0</td>\n",
       "      <td>2</td>\n",
       "      <td>-0.766338</td>\n",
       "      <td>0</td>\n",
       "      <td>-0.317077</td>\n",
       "      <td>-0.286621</td>\n",
       "      <td>2.549193</td>\n",
       "      <td>-0.276304</td>\n",
       "      <td>-0.265885</td>\n",
       "      <td>1</td>\n",
       "      <td>6</td>\n",
       "      <td>0.012642</td>\n",
       "      <td>0</td>\n",
       "      <td>2</td>\n",
       "      <td>0</td>\n",
       "      <td>0.105576</td>\n",
       "    </tr>\n",
       "    <tr>\n",
       "      <th>4158</th>\n",
       "      <td>0</td>\n",
       "      <td>0</td>\n",
       "      <td>2</td>\n",
       "      <td>0.775761</td>\n",
       "      <td>0</td>\n",
       "      <td>-0.344083</td>\n",
       "      <td>0.265707</td>\n",
       "      <td>-0.283445</td>\n",
       "      <td>-0.277197</td>\n",
       "      <td>-0.190184</td>\n",
       "      <td>4</td>\n",
       "      <td>4</td>\n",
       "      <td>-0.605835</td>\n",
       "      <td>1</td>\n",
       "      <td>0</td>\n",
       "      <td>0</td>\n",
       "      <td>-0.177539</td>\n",
       "    </tr>\n",
       "    <tr>\n",
       "      <th>8251</th>\n",
       "      <td>0</td>\n",
       "      <td>1</td>\n",
       "      <td>0</td>\n",
       "      <td>1.056142</td>\n",
       "      <td>0</td>\n",
       "      <td>-0.344083</td>\n",
       "      <td>-0.287849</td>\n",
       "      <td>-0.283445</td>\n",
       "      <td>-0.277197</td>\n",
       "      <td>-0.267625</td>\n",
       "      <td>4</td>\n",
       "      <td>1</td>\n",
       "      <td>-0.508703</td>\n",
       "      <td>1</td>\n",
       "      <td>1</td>\n",
       "      <td>1</td>\n",
       "      <td>-0.527020</td>\n",
       "    </tr>\n",
       "    <tr>\n",
       "      <th>2306</th>\n",
       "      <td>0</td>\n",
       "      <td>0</td>\n",
       "      <td>0</td>\n",
       "      <td>0.845856</td>\n",
       "      <td>0</td>\n",
       "      <td>0.679166</td>\n",
       "      <td>-0.287849</td>\n",
       "      <td>-0.283445</td>\n",
       "      <td>-0.277197</td>\n",
       "      <td>-0.252833</td>\n",
       "      <td>4</td>\n",
       "      <td>5</td>\n",
       "      <td>-0.239110</td>\n",
       "      <td>1</td>\n",
       "      <td>1</td>\n",
       "      <td>0</td>\n",
       "      <td>-0.280265</td>\n",
       "    </tr>\n",
       "  </tbody>\n",
       "</table>\n",
       "<p>6085 rows × 17 columns</p>\n",
       "</div>"
      ],
      "text/plain": [
       "      HomePlanet  CryoSleep  Destination       Age  VIP  RoomService  \\\n",
       "4279           0          0            2 -0.275670    0    -0.006970   \n",
       "5995           2          0            2  0.004712    0     2.991230   \n",
       "5723           0          0            2 -0.696242    0    -0.339582   \n",
       "3478           0          1            2 -0.345765    0    -0.344083   \n",
       "6308           2          0            2 -1.957959    0    -0.344083   \n",
       "...          ...        ...          ...       ...  ...          ...   \n",
       "3097           1          0            2  0.074807    0    -0.344083   \n",
       "3457           0          0            2 -0.766338    0    -0.317077   \n",
       "4158           0          0            2  0.775761    0    -0.344083   \n",
       "8251           0          1            0  1.056142    0    -0.344083   \n",
       "2306           0          0            0  0.845856    0     0.679166   \n",
       "\n",
       "      FoodCourt  ShoppingMall       Spa    VRDeck  Age_Group  Deck  \\\n",
       "4279  -0.161901     -0.005259 -0.277197  0.210073          2     5   \n",
       "5995  -0.287849     -0.283445 -0.277197 -0.267625          3     5   \n",
       "5723   0.194439     -0.283445 -0.277197 -0.267625          2     4   \n",
       "3478  -0.287849     -0.283445 -0.277197 -0.267625          2     6   \n",
       "6308  -0.287849     -0.283445 -0.277197 -0.267625          0     5   \n",
       "...         ...           ...       ...       ...        ...   ...   \n",
       "3097  -0.177261     -0.139331  6.632846 -0.144068          3     1   \n",
       "3457  -0.286621      2.549193 -0.276304 -0.265885          1     6   \n",
       "4158   0.265707     -0.283445 -0.277197 -0.190184          4     4   \n",
       "8251  -0.287849     -0.283445 -0.277197 -0.267625          4     1   \n",
       "2306  -0.287849     -0.283445 -0.277197 -0.252833          4     5   \n",
       "\n",
       "      CabinRegion  Side  CabinRegionGroup  id1  TotalCosts  \n",
       "4279     0.510200     1                 2    0   -0.120204  \n",
       "5995     1.219864     1                 4    0    0.257723  \n",
       "5723    -0.393729     1                 1    0   -0.248847  \n",
       "3478     0.020572     0                 2    1   -0.527020  \n",
       "6308     1.566766     0                 4    0   -0.527020  \n",
       "...           ...   ...               ...  ...         ...  \n",
       "3097    -0.934897     1                 0    1    2.350725  \n",
       "3457     0.012642     0                 2    0    0.105576  \n",
       "4158    -0.605835     1                 0    0   -0.177539  \n",
       "8251    -0.508703     1                 1    1   -0.527020  \n",
       "2306    -0.239110     1                 1    0   -0.280265  \n",
       "\n",
       "[6085 rows x 17 columns]"
      ]
     },
     "execution_count": 41,
     "metadata": {},
     "output_type": "execute_result"
    }
   ],
   "source": [
    "X_train"
   ]
  },
  {
   "cell_type": "code",
   "execution_count": 42,
   "id": "a1715e1e",
   "metadata": {
    "execution": {
     "iopub.execute_input": "2023-10-05T16:32:50.791361Z",
     "iopub.status.busy": "2023-10-05T16:32:50.790286Z",
     "iopub.status.idle": "2023-10-05T16:32:51.251802Z",
     "shell.execute_reply": "2023-10-05T16:32:51.250690Z"
    },
    "papermill": {
     "duration": 0.485039,
     "end_time": "2023-10-05T16:32:51.254522",
     "exception": false,
     "start_time": "2023-10-05T16:32:50.769483",
     "status": "completed"
    },
    "tags": []
   },
   "outputs": [
    {
     "data": {
      "image/png": "[encoded data removed]",
      "text/plain": [
       "<Figure size 1400x700 with 2 Axes>"
      ]
     },
     "metadata": {},
     "output_type": "display_data"
    }
   ],
   "source": [
    "# https://www.kaggle.com/code/kimtaehun/eda-and-baseline-with-multiple-models\n",
    "def plot_count(df: pd.core.frame.DataFrame, col: str, title_name: str='Train') -> None:\n",
    "    # Set background color\n",
    "    \n",
    "    f, ax = plt.subplots(1, 2, figsize=(14, 7))\n",
    "    plt.subplots_adjust(wspace=0.2)\n",
    "\n",
    "    s1 = df[col].value_counts()\n",
    "    N = len(s1)\n",
    "\n",
    "    outer_sizes = s1\n",
    "    inner_sizes = s1/N\n",
    "\n",
    "    outer_colors = ['#9E3F00', '#eb5e00']\n",
    "    inner_colors = ['#ff6905', '#ff8838']\n",
    "\n",
    "    ax[0].pie(\n",
    "        outer_sizes,colors=outer_colors, \n",
    "        labels=s1.index.tolist(), \n",
    "        startangle=90, frame=True, radius=1.3, \n",
    "        explode=([0.05]*(N-1) + [.3]),\n",
    "        wedgeprops={'linewidth' : 1, 'edgecolor' : 'white'}, \n",
    "        textprops={'fontsize': 12, 'weight': 'bold'}\n",
    "    )\n",
    "\n",
    "    textprops = {\n",
    "        'size': 13, \n",
    "        'weight': 'bold', \n",
    "        'color': 'white'\n",
    "    }\n",
    "\n",
    "    ax[0].pie(\n",
    "        inner_sizes, colors=inner_colors,\n",
    "        radius=1, startangle=90,\n",
    "        autopct='%1.f%%', explode=([.1]*(N-1) + [.3]),\n",
    "        pctdistance=0.8, textprops=textprops\n",
    "    )\n",
    "\n",
    "    center_circle = plt.Circle((0,0), .68, color='black', fc='white', linewidth=0)\n",
    "    ax[0].add_artist(center_circle)\n",
    "\n",
    "    x = s1\n",
    "    y = s1.index.tolist()\n",
    "    sns.barplot(\n",
    "        x=x, y=y, ax=ax[1],\n",
    "        palette='YlOrBr_r', orient='horizontal'\n",
    "    )\n",
    "\n",
    "    ax[1].spines['top'].set_visible(False)\n",
    "    ax[1].spines['right'].set_visible(False)\n",
    "    ax[1].tick_params(\n",
    "        axis='x',         \n",
    "        which='both',      \n",
    "        bottom=False,      \n",
    "        labelbottom=False\n",
    "    )\n",
    "\n",
    "    for i, v in enumerate(s1):\n",
    "        ax[1].text(v, i+0.1, str(v), color='black', fontweight='bold', fontsize=12)\n",
    "\n",
    "    plt.setp(ax[1].get_yticklabels(), fontweight=\"bold\")\n",
    "    plt.setp(ax[1].get_xticklabels(), fontweight=\"bold\")\n",
    "    ax[1].set_xlabel(col, fontweight=\"bold\", color='black')\n",
    "    ax[1].set_ylabel('count', fontweight=\"bold\", color='black')\n",
    "\n",
    "    f.suptitle(f'{title_name}', fontsize=18, fontweight='bold')\n",
    "    plt.tight_layout()\n",
    "    plt.show()\n",
    "\n",
    "plot_count(pd.DataFrame({'Transported':y_train.values}).replace({1:True,0:False}), 'Transported', 'Target Variable Distribution')"
   ]
  },
  {
   "cell_type": "code",
   "execution_count": 43,
   "id": "f235c87f",
   "metadata": {
    "execution": {
     "iopub.execute_input": "2023-10-05T16:32:51.295922Z",
     "iopub.status.busy": "2023-10-05T16:32:51.295088Z",
     "iopub.status.idle": "2023-10-05T16:32:51.304887Z",
     "shell.execute_reply": "2023-10-05T16:32:51.303746Z"
    },
    "papermill": {
     "duration": 0.033123,
     "end_time": "2023-10-05T16:32:51.307329",
     "exception": false,
     "start_time": "2023-10-05T16:32:51.274206",
     "status": "completed"
    },
    "tags": []
   },
   "outputs": [],
   "source": [
    "y_train = y_train.replace({True:1,False:0})\n",
    "y_valid = y_valid.replace({True:1,False:0})"
   ]
  },
  {
   "cell_type": "markdown",
   "id": "84f375f1",
   "metadata": {
    "papermill": {
     "duration": 0.019855,
     "end_time": "2023-10-05T16:32:51.347731",
     "exception": false,
     "start_time": "2023-10-05T16:32:51.327876",
     "status": "completed"
    },
    "tags": []
   },
   "source": [
    "# Lazy Classifier"
   ]
  },
  {
   "cell_type": "code",
   "execution_count": 44,
   "id": "119852c3",
   "metadata": {
    "execution": {
     "iopub.execute_input": "2023-10-05T16:32:51.388639Z",
     "iopub.status.busy": "2023-10-05T16:32:51.388252Z",
     "iopub.status.idle": "2023-10-05T16:33:12.418845Z",
     "shell.execute_reply": "2023-10-05T16:33:12.417546Z"
    },
    "papermill": {
     "duration": 21.054244,
     "end_time": "2023-10-05T16:33:12.421216",
     "exception": false,
     "start_time": "2023-10-05T16:32:51.366972",
     "status": "completed"
    },
    "tags": []
   },
   "outputs": [
    {
     "name": "stderr",
     "output_type": "stream",
     "text": [
      "100%|██████████| 29/29 [00:18<00:00,  1.61it/s]\n"
     ]
    },
    {
     "data": {
      "text/html": [
       "<div>\n",
       "<style scoped>\n",
       "    .dataframe tbody tr th:only-of-type {\n",
       "        vertical-align: middle;\n",
       "    }\n",
       "\n",
       "    .dataframe tbody tr th {\n",
       "        vertical-align: top;\n",
       "    }\n",
       "\n",
       "    .dataframe thead th {\n",
       "        text-align: right;\n",
       "    }\n",
       "</style>\n",
       "<table border=\"1\" class=\"dataframe\">\n",
       "  <thead>\n",
       "    <tr style=\"text-align: right;\">\n",
       "      <th></th>\n",
       "      <th>Accuracy</th>\n",
       "      <th>Balanced Accuracy</th>\n",
       "      <th>ROC AUC</th>\n",
       "      <th>F1 Score</th>\n",
       "      <th>Time Taken</th>\n",
       "    </tr>\n",
       "    <tr>\n",
       "      <th>Model</th>\n",
       "      <th></th>\n",
       "      <th></th>\n",
       "      <th></th>\n",
       "      <th></th>\n",
       "      <th></th>\n",
       "    </tr>\n",
       "  </thead>\n",
       "  <tbody>\n",
       "    <tr>\n",
       "      <th>LGBMClassifier</th>\n",
       "      <td>0.81</td>\n",
       "      <td>0.81</td>\n",
       "      <td>0.81</td>\n",
       "      <td>0.81</td>\n",
       "      <td>1.02</td>\n",
       "    </tr>\n",
       "    <tr>\n",
       "      <th>RandomForestClassifier</th>\n",
       "      <td>0.80</td>\n",
       "      <td>0.80</td>\n",
       "      <td>0.80</td>\n",
       "      <td>0.80</td>\n",
       "      <td>1.12</td>\n",
       "    </tr>\n",
       "    <tr>\n",
       "      <th>ExtraTreesClassifier</th>\n",
       "      <td>0.80</td>\n",
       "      <td>0.80</td>\n",
       "      <td>0.80</td>\n",
       "      <td>0.80</td>\n",
       "      <td>0.84</td>\n",
       "    </tr>\n",
       "    <tr>\n",
       "      <th>XGBClassifier</th>\n",
       "      <td>0.80</td>\n",
       "      <td>0.80</td>\n",
       "      <td>0.80</td>\n",
       "      <td>0.80</td>\n",
       "      <td>0.91</td>\n",
       "    </tr>\n",
       "    <tr>\n",
       "      <th>SVC</th>\n",
       "      <td>0.80</td>\n",
       "      <td>0.80</td>\n",
       "      <td>0.80</td>\n",
       "      <td>0.80</td>\n",
       "      <td>1.67</td>\n",
       "    </tr>\n",
       "    <tr>\n",
       "      <th>NuSVC</th>\n",
       "      <td>0.80</td>\n",
       "      <td>0.80</td>\n",
       "      <td>0.80</td>\n",
       "      <td>0.80</td>\n",
       "      <td>2.63</td>\n",
       "    </tr>\n",
       "    <tr>\n",
       "      <th>AdaBoostClassifier</th>\n",
       "      <td>0.79</td>\n",
       "      <td>0.79</td>\n",
       "      <td>0.79</td>\n",
       "      <td>0.79</td>\n",
       "      <td>0.41</td>\n",
       "    </tr>\n",
       "    <tr>\n",
       "      <th>SGDClassifier</th>\n",
       "      <td>0.79</td>\n",
       "      <td>0.79</td>\n",
       "      <td>0.79</td>\n",
       "      <td>0.79</td>\n",
       "      <td>0.10</td>\n",
       "    </tr>\n",
       "    <tr>\n",
       "      <th>LogisticRegression</th>\n",
       "      <td>0.79</td>\n",
       "      <td>0.79</td>\n",
       "      <td>0.79</td>\n",
       "      <td>0.79</td>\n",
       "      <td>0.19</td>\n",
       "    </tr>\n",
       "    <tr>\n",
       "      <th>BaggingClassifier</th>\n",
       "      <td>0.79</td>\n",
       "      <td>0.79</td>\n",
       "      <td>0.79</td>\n",
       "      <td>0.79</td>\n",
       "      <td>0.32</td>\n",
       "    </tr>\n",
       "    <tr>\n",
       "      <th>LinearSVC</th>\n",
       "      <td>0.78</td>\n",
       "      <td>0.78</td>\n",
       "      <td>0.78</td>\n",
       "      <td>0.78</td>\n",
       "      <td>0.63</td>\n",
       "    </tr>\n",
       "    <tr>\n",
       "      <th>CalibratedClassifierCV</th>\n",
       "      <td>0.78</td>\n",
       "      <td>0.78</td>\n",
       "      <td>0.78</td>\n",
       "      <td>0.78</td>\n",
       "      <td>2.42</td>\n",
       "    </tr>\n",
       "    <tr>\n",
       "      <th>KNeighborsClassifier</th>\n",
       "      <td>0.77</td>\n",
       "      <td>0.77</td>\n",
       "      <td>0.77</td>\n",
       "      <td>0.77</td>\n",
       "      <td>0.34</td>\n",
       "    </tr>\n",
       "    <tr>\n",
       "      <th>RidgeClassifier</th>\n",
       "      <td>0.76</td>\n",
       "      <td>0.76</td>\n",
       "      <td>0.76</td>\n",
       "      <td>0.76</td>\n",
       "      <td>0.05</td>\n",
       "    </tr>\n",
       "    <tr>\n",
       "      <th>LinearDiscriminantAnalysis</th>\n",
       "      <td>0.76</td>\n",
       "      <td>0.76</td>\n",
       "      <td>0.76</td>\n",
       "      <td>0.76</td>\n",
       "      <td>0.18</td>\n",
       "    </tr>\n",
       "    <tr>\n",
       "      <th>RidgeClassifierCV</th>\n",
       "      <td>0.76</td>\n",
       "      <td>0.76</td>\n",
       "      <td>0.76</td>\n",
       "      <td>0.76</td>\n",
       "      <td>0.16</td>\n",
       "    </tr>\n",
       "    <tr>\n",
       "      <th>DecisionTreeClassifier</th>\n",
       "      <td>0.76</td>\n",
       "      <td>0.76</td>\n",
       "      <td>0.76</td>\n",
       "      <td>0.76</td>\n",
       "      <td>0.09</td>\n",
       "    </tr>\n",
       "    <tr>\n",
       "      <th>LabelSpreading</th>\n",
       "      <td>0.76</td>\n",
       "      <td>0.76</td>\n",
       "      <td>0.76</td>\n",
       "      <td>0.76</td>\n",
       "      <td>2.66</td>\n",
       "    </tr>\n",
       "    <tr>\n",
       "      <th>LabelPropagation</th>\n",
       "      <td>0.76</td>\n",
       "      <td>0.76</td>\n",
       "      <td>0.76</td>\n",
       "      <td>0.76</td>\n",
       "      <td>1.97</td>\n",
       "    </tr>\n",
       "    <tr>\n",
       "      <th>BernoulliNB</th>\n",
       "      <td>0.76</td>\n",
       "      <td>0.75</td>\n",
       "      <td>0.75</td>\n",
       "      <td>0.75</td>\n",
       "      <td>0.03</td>\n",
       "    </tr>\n",
       "    <tr>\n",
       "      <th>NearestCentroid</th>\n",
       "      <td>0.75</td>\n",
       "      <td>0.75</td>\n",
       "      <td>0.75</td>\n",
       "      <td>0.75</td>\n",
       "      <td>0.04</td>\n",
       "    </tr>\n",
       "    <tr>\n",
       "      <th>ExtraTreeClassifier</th>\n",
       "      <td>0.72</td>\n",
       "      <td>0.72</td>\n",
       "      <td>0.72</td>\n",
       "      <td>0.72</td>\n",
       "      <td>0.03</td>\n",
       "    </tr>\n",
       "    <tr>\n",
       "      <th>PassiveAggressiveClassifier</th>\n",
       "      <td>0.70</td>\n",
       "      <td>0.70</td>\n",
       "      <td>0.70</td>\n",
       "      <td>0.70</td>\n",
       "      <td>0.03</td>\n",
       "    </tr>\n",
       "    <tr>\n",
       "      <th>Perceptron</th>\n",
       "      <td>0.70</td>\n",
       "      <td>0.70</td>\n",
       "      <td>0.70</td>\n",
       "      <td>0.70</td>\n",
       "      <td>0.04</td>\n",
       "    </tr>\n",
       "    <tr>\n",
       "      <th>GaussianNB</th>\n",
       "      <td>0.68</td>\n",
       "      <td>0.68</td>\n",
       "      <td>0.68</td>\n",
       "      <td>0.66</td>\n",
       "      <td>0.03</td>\n",
       "    </tr>\n",
       "    <tr>\n",
       "      <th>QuadraticDiscriminantAnalysis</th>\n",
       "      <td>0.50</td>\n",
       "      <td>0.50</td>\n",
       "      <td>0.50</td>\n",
       "      <td>0.33</td>\n",
       "      <td>0.05</td>\n",
       "    </tr>\n",
       "    <tr>\n",
       "      <th>DummyClassifier</th>\n",
       "      <td>0.50</td>\n",
       "      <td>0.50</td>\n",
       "      <td>0.50</td>\n",
       "      <td>0.33</td>\n",
       "      <td>0.03</td>\n",
       "    </tr>\n",
       "  </tbody>\n",
       "</table>\n",
       "</div>"
      ],
      "text/plain": [
       "                               Accuracy  Balanced Accuracy  ROC AUC  F1 Score  \\\n",
       "Model                                                                           \n",
       "LGBMClassifier                     0.81               0.81     0.81      0.81   \n",
       "RandomForestClassifier             0.80               0.80     0.80      0.80   \n",
       "ExtraTreesClassifier               0.80               0.80     0.80      0.80   \n",
       "XGBClassifier                      0.80               0.80     0.80      0.80   \n",
       "SVC                                0.80               0.80     0.80      0.80   \n",
       "NuSVC                              0.80               0.80     0.80      0.80   \n",
       "AdaBoostClassifier                 0.79               0.79     0.79      0.79   \n",
       "SGDClassifier                      0.79               0.79     0.79      0.79   \n",
       "LogisticRegression                 0.79               0.79     0.79      0.79   \n",
       "BaggingClassifier                  0.79               0.79     0.79      0.79   \n",
       "LinearSVC                          0.78               0.78     0.78      0.78   \n",
       "CalibratedClassifierCV             0.78               0.78     0.78      0.78   \n",
       "KNeighborsClassifier               0.77               0.77     0.77      0.77   \n",
       "RidgeClassifier                    0.76               0.76     0.76      0.76   \n",
       "LinearDiscriminantAnalysis         0.76               0.76     0.76      0.76   \n",
       "RidgeClassifierCV                  0.76               0.76     0.76      0.76   \n",
       "DecisionTreeClassifier             0.76               0.76     0.76      0.76   \n",
       "LabelSpreading                     0.76               0.76     0.76      0.76   \n",
       "LabelPropagation                   0.76               0.76     0.76      0.76   \n",
       "BernoulliNB                        0.76               0.75     0.75      0.75   \n",
       "NearestCentroid                    0.75               0.75     0.75      0.75   \n",
       "ExtraTreeClassifier                0.72               0.72     0.72      0.72   \n",
       "PassiveAggressiveClassifier        0.70               0.70     0.70      0.70   \n",
       "Perceptron                         0.70               0.70     0.70      0.70   \n",
       "GaussianNB                         0.68               0.68     0.68      0.66   \n",
       "QuadraticDiscriminantAnalysis      0.50               0.50     0.50      0.33   \n",
       "DummyClassifier                    0.50               0.50     0.50      0.33   \n",
       "\n",
       "                               Time Taken  \n",
       "Model                                      \n",
       "LGBMClassifier                       1.02  \n",
       "RandomForestClassifier               1.12  \n",
       "ExtraTreesClassifier                 0.84  \n",
       "XGBClassifier                        0.91  \n",
       "SVC                                  1.67  \n",
       "NuSVC                                2.63  \n",
       "AdaBoostClassifier                   0.41  \n",
       "SGDClassifier                        0.10  \n",
       "LogisticRegression                   0.19  \n",
       "BaggingClassifier                    0.32  \n",
       "LinearSVC                            0.63  \n",
       "CalibratedClassifierCV               2.42  \n",
       "KNeighborsClassifier                 0.34  \n",
       "RidgeClassifier                      0.05  \n",
       "LinearDiscriminantAnalysis           0.18  \n",
       "RidgeClassifierCV                    0.16  \n",
       "DecisionTreeClassifier               0.09  \n",
       "LabelSpreading                       2.66  \n",
       "LabelPropagation                     1.97  \n",
       "BernoulliNB                          0.03  \n",
       "NearestCentroid                      0.04  \n",
       "ExtraTreeClassifier                  0.03  \n",
       "PassiveAggressiveClassifier          0.03  \n",
       "Perceptron                           0.04  \n",
       "GaussianNB                           0.03  \n",
       "QuadraticDiscriminantAnalysis        0.05  \n",
       "DummyClassifier                      0.03  "
      ]
     },
     "execution_count": 44,
     "metadata": {},
     "output_type": "execute_result"
    }
   ],
   "source": [
    "from lazypredict.Supervised import LazyClassifier\n",
    "from sklearn.model_selection import train_test_split\n",
    "\n",
    "clf = LazyClassifier(verbose=0,ignore_warnings=True, custom_metric=None)\n",
    "models,predictions = clf.fit( X_train, X_valid , y_train, y_valid)\n",
    "models"
   ]
  },
  {
   "cell_type": "markdown",
   "id": "482f043f",
   "metadata": {
    "papermill": {
     "duration": 0.020658,
     "end_time": "2023-10-05T16:33:12.462369",
     "exception": false,
     "start_time": "2023-10-05T16:33:12.441711",
     "status": "completed"
    },
    "tags": []
   },
   "source": [
    "# Catboost Classifier"
   ]
  },
  {
   "cell_type": "code",
   "execution_count": 45,
   "id": "987a85e6",
   "metadata": {
    "execution": {
     "iopub.execute_input": "2023-10-05T16:33:12.506514Z",
     "iopub.status.busy": "2023-10-05T16:33:12.506118Z",
     "iopub.status.idle": "2023-10-05T16:33:14.005592Z",
     "shell.execute_reply": "2023-10-05T16:33:14.004634Z"
    },
    "papermill": {
     "duration": 1.524085,
     "end_time": "2023-10-05T16:33:14.007960",
     "exception": false,
     "start_time": "2023-10-05T16:33:12.483875",
     "status": "completed"
    },
    "tags": []
   },
   "outputs": [],
   "source": [
    "from catboost import CatBoostClassifier\n",
    "import optuna\n",
    "from sklearn.model_selection import cross_val_score\n",
    "from sklearn.model_selection import train_test_split\n",
    "from sklearn.metrics import accuracy_score\n",
    "from sklearn.metrics import roc_auc_score\n",
    "\n",
    "\n",
    "def objective_cat(trial):\n",
    "    \"\"\"Define the objective function\"\"\"\n",
    "\n",
    "    params = {\n",
    "        \"iterations\" : trial.suggest_int(\"iterations\", 100, 5000),\n",
    "        'learning_rate': trial.suggest_float('learning_rate', 0.01,1.0),\n",
    "        \"depth\" : trial.suggest_int(\"depth\", 1, 10),\n",
    "        \"l2_leaf_reg\" : trial.suggest_float(\"l2_leaf_reg\", 1e-8, 100.0, log=True),\n",
    "        \"bootstrap_type\" : trial.suggest_categorical(\"bootstrap_type\", [\"Bayesian\"]),\n",
    "        \"random_strength\" : trial.suggest_float(\"random_strength\", 1e-8, 10.0, log=True),\n",
    "        \"bagging_temperature\" : trial.suggest_float(\"bagging_temperature\", 0.0, 10.0),\n",
    "        \"od_type\" : trial.suggest_categorical(\"od_type\", [\"IncToDec\", \"Iter\"]),\n",
    "        \"od_wait\" : trial.suggest_int(\"od_wait\", 10, 50),\n",
    "        \"verbose\" : False\n",
    "        \n",
    "    }\n",
    "\n",
    "\n",
    "    model_cat = CatBoostClassifier(**params)\n",
    "    scores = cross_val_score(model_cat, X_train, y_train, cv=10, scoring='accuracy')  \n",
    "    \n",
    "    return scores.mean() "
   ]
  },
  {
   "cell_type": "code",
   "execution_count": 46,
   "id": "41e7137d",
   "metadata": {
    "execution": {
     "iopub.execute_input": "2023-10-05T16:33:14.050746Z",
     "iopub.status.busy": "2023-10-05T16:33:14.050354Z",
     "iopub.status.idle": "2023-10-05T19:17:14.592055Z",
     "shell.execute_reply": "2023-10-05T19:17:14.590887Z"
    },
    "papermill": {
     "duration": 9840.586273,
     "end_time": "2023-10-05T19:17:14.614836",
     "exception": false,
     "start_time": "2023-10-05T16:33:14.028563",
     "status": "completed"
    },
    "tags": []
   },
   "outputs": [
    {
     "name": "stderr",
     "output_type": "stream",
     "text": [
      "[I 2023-10-05 16:33:14,052] A new study created in memory with name: no-name-73543844-ef0d-403e-b3f4-465c6e271821\n"
     ]
    },
    {
     "data": {
      "application/vnd.jupyter.widget-view+json": {
       "model_id": "11fb4d37b0c943f4aa92c9ee8d866484",
       "version_major": 2,
       "version_minor": 0
      },
      "text/plain": [
       "  0%|          | 0/100 [00:00<?, ?it/s]"
      ]
     },
     "metadata": {},
     "output_type": "display_data"
    },
    {
     "name": "stderr",
     "output_type": "stream",
     "text": [
      "Training has stopped (degenerate solution on iteration 94, probably too small l2-regularization, try to increase it)\n",
      "Training has stopped (degenerate solution on iteration 156, probably too small l2-regularization, try to increase it)\n"
     ]
    }
   ],
   "source": [
    "study_cat = optuna.create_study(direction='maximize')\n",
    "optuna.logging.set_verbosity(optuna.logging.WARNING)\n",
    "study_cat.optimize(objective_cat, n_trials=100,show_progress_bar=True)"
   ]
  },
  {
   "cell_type": "code",
   "execution_count": 47,
   "id": "bc2802d9",
   "metadata": {
    "execution": {
     "iopub.execute_input": "2023-10-05T19:17:14.659960Z",
     "iopub.status.busy": "2023-10-05T19:17:14.658973Z",
     "iopub.status.idle": "2023-10-05T19:17:14.664629Z",
     "shell.execute_reply": "2023-10-05T19:17:14.663705Z"
    },
    "papermill": {
     "duration": 0.03116,
     "end_time": "2023-10-05T19:17:14.667124",
     "exception": false,
     "start_time": "2023-10-05T19:17:14.635964",
     "status": "completed"
    },
    "tags": []
   },
   "outputs": [
    {
     "name": "stdout",
     "output_type": "stream",
     "text": [
      "Best parameters {'iterations': 3328, 'learning_rate': 0.01325100623667744, 'depth': 5, 'l2_leaf_reg': 43.41524302678372, 'bootstrap_type': 'Bayesian', 'random_strength': 0.5040719838233967, 'bagging_temperature': 0.38294034331046656, 'od_type': 'Iter', 'od_wait': 43}\n"
     ]
    }
   ],
   "source": [
    "# Print the best parameters\n",
    "print('Best parameters', study_cat.best_params)"
   ]
  },
  {
   "cell_type": "code",
   "execution_count": 48,
   "id": "b8d8c5a6",
   "metadata": {
    "execution": {
     "iopub.execute_input": "2023-10-05T19:17:14.710166Z",
     "iopub.status.busy": "2023-10-05T19:17:14.709325Z",
     "iopub.status.idle": "2023-10-05T19:17:23.897962Z",
     "shell.execute_reply": "2023-10-05T19:17:23.896829Z"
    },
    "papermill": {
     "duration": 9.212248,
     "end_time": "2023-10-05T19:17:23.900209",
     "exception": false,
     "start_time": "2023-10-05T19:17:14.687961",
     "status": "completed"
    },
    "tags": []
   },
   "outputs": [
    {
     "name": "stdout",
     "output_type": "stream",
     "text": [
      "Accuracy:  0.8090490797546013\n"
     ]
    }
   ],
   "source": [
    "cat = CatBoostClassifier(**study_cat.best_params, verbose=False)\n",
    "cat.fit(X_train, y_train)\n",
    "y_pred = cat.predict(X_valid)\n",
    "\n",
    "print('Accuracy: ', accuracy_score(y_valid, y_pred))"
   ]
  },
  {
   "cell_type": "markdown",
   "id": "5e4f7e8e",
   "metadata": {
    "papermill": {
     "duration": 0.02057,
     "end_time": "2023-10-05T19:17:23.941468",
     "exception": false,
     "start_time": "2023-10-05T19:17:23.920898",
     "status": "completed"
    },
    "tags": []
   },
   "source": [
    "# LightGMB classifier "
   ]
  },
  {
   "cell_type": "code",
   "execution_count": 49,
   "id": "3134c7c5",
   "metadata": {
    "execution": {
     "iopub.execute_input": "2023-10-05T19:17:23.986298Z",
     "iopub.status.busy": "2023-10-05T19:17:23.985524Z",
     "iopub.status.idle": "2023-10-05T19:17:23.994071Z",
     "shell.execute_reply": "2023-10-05T19:17:23.993167Z"
    },
    "papermill": {
     "duration": 0.033793,
     "end_time": "2023-10-05T19:17:23.996384",
     "exception": false,
     "start_time": "2023-10-05T19:17:23.962591",
     "status": "completed"
    },
    "tags": []
   },
   "outputs": [],
   "source": [
    "from lightgbm import LGBMClassifier\n",
    "import optuna\n",
    "\n",
    "def objective_lgb(trial):\n",
    "    \"\"\"Define the objective function\"\"\"\n",
    "\n",
    "    params = {\n",
    "        'objective': trial.suggest_categorical('objective', ['binary']),\n",
    "        'metric': trial.suggest_categorical('metric', ['logloss']),\n",
    "        'max_depth': trial.suggest_int('max_depth', 1, 15),\n",
    "        'min_child_samples': trial.suggest_int('min_child_samples', 1, 15),\n",
    "        'learning_rate': trial.suggest_float('learning_rate', 0.01, 1.0),\n",
    "        'n_estimators': trial.suggest_int('n_estimators', 50, 5000),\n",
    "        'min_child_weight': trial.suggest_int('min_child_weight', 1, 10),\n",
    "        'subsample': trial.suggest_float('subsample', 0.01, 1.0),\n",
    "        'colsample_bytree': trial.suggest_float('colsample_bytree', 0.01, 1.0),\n",
    "        'reg_alpha': trial.suggest_float('reg_alpha', 0.01, 1.0),\n",
    "        'reg_lambda': trial.suggest_float('reg_lambda', 0.01, 1.0),\n",
    "        \"random_state\" : trial.suggest_categorical('random_state', [17]),\n",
    "    }\n",
    "\n",
    "    model_lgb = LGBMClassifier(**params)\n",
    "    scores = cross_val_score(model_lgb, X_train, y_train, cv=10, scoring='accuracy')  \n",
    "    \n",
    "    return scores.mean() "
   ]
  },
  {
   "cell_type": "code",
   "execution_count": 50,
   "id": "4d9c198f",
   "metadata": {
    "execution": {
     "iopub.execute_input": "2023-10-05T19:17:24.040843Z",
     "iopub.status.busy": "2023-10-05T19:17:24.040420Z",
     "iopub.status.idle": "2023-10-05T20:34:08.583782Z",
     "shell.execute_reply": "2023-10-05T20:34:08.582664Z"
    },
    "papermill": {
     "duration": 4604.568115,
     "end_time": "2023-10-05T20:34:08.586058",
     "exception": false,
     "start_time": "2023-10-05T19:17:24.017943",
     "status": "completed"
    },
    "tags": []
   },
   "outputs": [
    {
     "data": {
      "application/vnd.jupyter.widget-view+json": {
       "model_id": "1c4b58081c18481bb9523f50c4a141ba",
       "version_major": 2,
       "version_minor": 0
      },
      "text/plain": [
       "  0%|          | 0/100 [00:00<?, ?it/s]"
      ]
     },
     "metadata": {},
     "output_type": "display_data"
    }
   ],
   "source": [
    "study_lgb = optuna.create_study(direction='maximize')\n",
    "optuna.logging.set_verbosity(optuna.logging.WARNING)\n",
    "study_lgb.optimize(objective_lgb, n_trials=100,show_progress_bar=True)"
   ]
  },
  {
   "cell_type": "code",
   "execution_count": 51,
   "id": "2f445f91",
   "metadata": {
    "execution": {
     "iopub.execute_input": "2023-10-05T20:34:08.629707Z",
     "iopub.status.busy": "2023-10-05T20:34:08.629271Z",
     "iopub.status.idle": "2023-10-05T20:34:08.635825Z",
     "shell.execute_reply": "2023-10-05T20:34:08.634676Z"
    },
    "papermill": {
     "duration": 0.030858,
     "end_time": "2023-10-05T20:34:08.638019",
     "exception": false,
     "start_time": "2023-10-05T20:34:08.607161",
     "status": "completed"
    },
    "tags": []
   },
   "outputs": [
    {
     "name": "stdout",
     "output_type": "stream",
     "text": [
      "Best parameters {'objective': 'binary', 'metric': 'logloss', 'max_depth': 8, 'min_child_samples': 15, 'learning_rate': 0.08205670985912164, 'n_estimators': 120, 'min_child_weight': 3, 'subsample': 0.3018963569497683, 'colsample_bytree': 0.5840440437116645, 'reg_alpha': 0.3073697044900262, 'reg_lambda': 0.5209897312371835, 'random_state': 17}\n"
     ]
    }
   ],
   "source": [
    "# Print the best parameters\n",
    "print('Best parameters', study_lgb.best_params)"
   ]
  },
  {
   "cell_type": "code",
   "execution_count": 52,
   "id": "b749a991",
   "metadata": {
    "execution": {
     "iopub.execute_input": "2023-10-05T20:34:08.683574Z",
     "iopub.status.busy": "2023-10-05T20:34:08.682909Z",
     "iopub.status.idle": "2023-10-05T20:34:09.595858Z",
     "shell.execute_reply": "2023-10-05T20:34:09.594300Z"
    },
    "papermill": {
     "duration": 0.938802,
     "end_time": "2023-10-05T20:34:09.598981",
     "exception": false,
     "start_time": "2023-10-05T20:34:08.660179",
     "status": "completed"
    },
    "tags": []
   },
   "outputs": [
    {
     "name": "stdout",
     "output_type": "stream",
     "text": [
      "Accuracy:  0.8086656441717791\n"
     ]
    }
   ],
   "source": [
    "lgb = LGBMClassifier(**study_lgb.best_params)\n",
    "lgb.fit(X_train, y_train)\n",
    "y_pred = lgb.predict(X_valid)\n",
    "\n",
    "print('Accuracy: ', accuracy_score(y_valid, y_pred))"
   ]
  },
  {
   "cell_type": "markdown",
   "id": "d6ec9546",
   "metadata": {
    "papermill": {
     "duration": 0.02203,
     "end_time": "2023-10-05T20:34:09.644041",
     "exception": false,
     "start_time": "2023-10-05T20:34:09.622011",
     "status": "completed"
    },
    "tags": []
   },
   "source": [
    "# XGBoost Classifier"
   ]
  },
  {
   "cell_type": "code",
   "execution_count": 53,
   "id": "22956467",
   "metadata": {
    "execution": {
     "iopub.execute_input": "2023-10-05T20:34:09.689388Z",
     "iopub.status.busy": "2023-10-05T20:34:09.689024Z",
     "iopub.status.idle": "2023-10-05T20:34:09.696832Z",
     "shell.execute_reply": "2023-10-05T20:34:09.695632Z"
    },
    "papermill": {
     "duration": 0.03378,
     "end_time": "2023-10-05T20:34:09.698983",
     "exception": false,
     "start_time": "2023-10-05T20:34:09.665203",
     "status": "completed"
    },
    "tags": []
   },
   "outputs": [],
   "source": [
    "from xgboost import XGBClassifier\n",
    "import optuna\n",
    "def objective_xg(trial):\n",
    "    \"\"\"Define the objective function\"\"\"\n",
    "\n",
    "    params = {\n",
    "        'booster': trial.suggest_categorical('booster', ['gbtree']),\n",
    "        'max_depth': trial.suggest_int('max_depth', 1, 15),\n",
    "        'learning_rate': trial.suggest_loguniform('learning_rate', 0.01, 1.0),\n",
    "        'n_estimators': trial.suggest_int('n_estimators', 100, 5000),\n",
    "        'min_child_weight': trial.suggest_int('min_child_weight', 1, 10),\n",
    "        'gamma': trial.suggest_loguniform('gamma', 1e-8, 1.0),\n",
    "        'subsample': trial.suggest_loguniform('subsample', 0.01, 1.0),\n",
    "        'colsample_bytree': trial.suggest_loguniform('colsample_bytree', 0.01, 1.0),\n",
    "        'reg_alpha': trial.suggest_loguniform('reg_alpha', 1e-8, 1.0),\n",
    "        'reg_lambda': trial.suggest_loguniform('reg_lambda', 1e-8, 1.0),\n",
    "        'eval_metric':trial.suggest_categorical('eval_metric', ['mlogloss']),\n",
    "    }\n",
    "\n",
    "    model_xgb = XGBClassifier(**params)\n",
    "    scores = cross_val_score(model_xgb, X_train, y_train, cv=10, scoring='accuracy')  \n",
    "    \n",
    "    return scores.mean() "
   ]
  },
  {
   "cell_type": "code",
   "execution_count": 54,
   "id": "d99e6320",
   "metadata": {
    "execution": {
     "iopub.execute_input": "2023-10-05T20:34:09.743513Z",
     "iopub.status.busy": "2023-10-05T20:34:09.743159Z",
     "iopub.status.idle": "2023-10-06T00:08:14.292161Z",
     "shell.execute_reply": "2023-10-06T00:08:14.291022Z"
    },
    "papermill": {
     "duration": 12844.594231,
     "end_time": "2023-10-06T00:08:14.314881",
     "exception": false,
     "start_time": "2023-10-05T20:34:09.720650",
     "status": "completed"
    },
    "tags": []
   },
   "outputs": [
    {
     "data": {
      "application/vnd.jupyter.widget-view+json": {
       "model_id": "200208f72d1f4c4596edaee7051ae909",
       "version_major": 2,
       "version_minor": 0
      },
      "text/plain": [
       "  0%|          | 0/100 [00:00<?, ?it/s]"
      ]
     },
     "metadata": {},
     "output_type": "display_data"
    }
   ],
   "source": [
    "study_xgb = optuna.create_study(direction='maximize')\n",
    "optuna.logging.set_verbosity(optuna.logging.WARNING)\n",
    "study_xgb.optimize(objective_xg, n_trials=100,show_progress_bar=True)"
   ]
  },
  {
   "cell_type": "code",
   "execution_count": 55,
   "id": "0f044a41",
   "metadata": {
    "execution": {
     "iopub.execute_input": "2023-10-06T00:08:14.359225Z",
     "iopub.status.busy": "2023-10-06T00:08:14.358875Z",
     "iopub.status.idle": "2023-10-06T00:08:14.364075Z",
     "shell.execute_reply": "2023-10-06T00:08:14.362902Z"
    },
    "papermill": {
     "duration": 0.030631,
     "end_time": "2023-10-06T00:08:14.366972",
     "exception": false,
     "start_time": "2023-10-06T00:08:14.336341",
     "status": "completed"
    },
    "tags": []
   },
   "outputs": [
    {
     "name": "stdout",
     "output_type": "stream",
     "text": [
      "Best parameters {'booster': 'gbtree', 'max_depth': 5, 'learning_rate': 0.012827674002275684, 'n_estimators': 2032, 'min_child_weight': 6, 'gamma': 2.1467393868783556e-07, 'subsample': 0.9839914105438529, 'colsample_bytree': 0.5582591242743564, 'reg_alpha': 0.012646883008678979, 'reg_lambda': 3.478687466221373e-06, 'eval_metric': 'mlogloss'}\n"
     ]
    }
   ],
   "source": [
    "# Print the best parameters\n",
    "print('Best parameters', study_xgb.best_params)"
   ]
  },
  {
   "cell_type": "code",
   "execution_count": 56,
   "id": "98d5e343",
   "metadata": {
    "execution": {
     "iopub.execute_input": "2023-10-06T00:08:14.412559Z",
     "iopub.status.busy": "2023-10-06T00:08:14.412202Z",
     "iopub.status.idle": "2023-10-06T00:08:24.004879Z",
     "shell.execute_reply": "2023-10-06T00:08:24.003542Z"
    },
    "papermill": {
     "duration": 9.618348,
     "end_time": "2023-10-06T00:08:24.007249",
     "exception": false,
     "start_time": "2023-10-06T00:08:14.388901",
     "status": "completed"
    },
    "tags": []
   },
   "outputs": [
    {
     "name": "stdout",
     "output_type": "stream",
     "text": [
      "Accuracy:  0.8002300613496932\n"
     ]
    }
   ],
   "source": [
    "xgb = XGBClassifier(**study_xgb.best_params)\n",
    "xgb.fit(X_train, y_train)\n",
    "y_pred = xgb.predict(X_valid)\n",
    "\n",
    "print('Accuracy: ', accuracy_score(y_valid, y_pred))"
   ]
  },
  {
   "cell_type": "markdown",
   "id": "26f56763",
   "metadata": {
    "papermill": {
     "duration": 0.020768,
     "end_time": "2023-10-06T00:08:24.049052",
     "exception": false,
     "start_time": "2023-10-06T00:08:24.028284",
     "status": "completed"
    },
    "tags": []
   },
   "source": [
    "# RFC"
   ]
  },
  {
   "cell_type": "code",
   "execution_count": 57,
   "id": "af3bb02d",
   "metadata": {
    "execution": {
     "iopub.execute_input": "2023-10-06T00:08:24.093098Z",
     "iopub.status.busy": "2023-10-06T00:08:24.092437Z",
     "iopub.status.idle": "2023-10-06T00:08:24.099505Z",
     "shell.execute_reply": "2023-10-06T00:08:24.098414Z"
    },
    "papermill": {
     "duration": 0.031561,
     "end_time": "2023-10-06T00:08:24.101649",
     "exception": false,
     "start_time": "2023-10-06T00:08:24.070088",
     "status": "completed"
    },
    "tags": []
   },
   "outputs": [],
   "source": [
    "from sklearn.ensemble import RandomForestClassifier\n",
    "from sklearn.metrics import accuracy_score, f1_score, confusion_matrix, recall_score, precision_score\n",
    "import optuna\n",
    "def objective_rfc(trial):\n",
    "    \"\"\"Define the objective function\"\"\"\n",
    "    \n",
    "    params = {\n",
    "        'max_depth': trial.suggest_int('max_depth', 1, 15),\n",
    "        'n_estimators': trial.suggest_int('n_estimators', 100, 5000),\n",
    "        'bootstrap':trial.suggest_categorical('bootstrap', [True]),\n",
    "        'min_samples_split': trial.suggest_int('min_samples_split', 2, 15),\n",
    "        'min_samples_leaf': trial.suggest_int('min_samples_leaf', 1, 15),\n",
    "    }\n",
    "    \n",
    "    model_rfc = RandomForestClassifier(**params)\n",
    "    scores = cross_val_score(model_rfc, X_train, y_train, cv=10, scoring='accuracy')  \n",
    "    \n",
    "    return scores.mean()"
   ]
  },
  {
   "cell_type": "code",
   "execution_count": 58,
   "id": "c9732c75",
   "metadata": {
    "execution": {
     "iopub.execute_input": "2023-10-06T00:08:24.145409Z",
     "iopub.status.busy": "2023-10-06T00:08:24.145062Z",
     "iopub.status.idle": "2023-10-06T04:10:50.453151Z",
     "shell.execute_reply": "2023-10-06T04:10:50.452000Z"
    },
    "papermill": {
     "duration": 14546.354779,
     "end_time": "2023-10-06T04:10:50.477665",
     "exception": false,
     "start_time": "2023-10-06T00:08:24.122886",
     "status": "completed"
    },
    "tags": []
   },
   "outputs": [
    {
     "data": {
      "application/vnd.jupyter.widget-view+json": {
       "model_id": "ca018413a5914b02906d5b2a3f212a5d",
       "version_major": 2,
       "version_minor": 0
      },
      "text/plain": [
       "  0%|          | 0/100 [00:00<?, ?it/s]"
      ]
     },
     "metadata": {},
     "output_type": "display_data"
    }
   ],
   "source": [
    "study_rfc = optuna.create_study(direction='maximize')\n",
    "optuna.logging.set_verbosity(optuna.logging.WARNING)\n",
    "study_rfc.optimize(objective_rfc, n_trials=100,show_progress_bar=True)"
   ]
  },
  {
   "cell_type": "code",
   "execution_count": 59,
   "id": "943d0922",
   "metadata": {
    "execution": {
     "iopub.execute_input": "2023-10-06T04:10:50.523012Z",
     "iopub.status.busy": "2023-10-06T04:10:50.522671Z",
     "iopub.status.idle": "2023-10-06T04:10:50.528682Z",
     "shell.execute_reply": "2023-10-06T04:10:50.527617Z"
    },
    "papermill": {
     "duration": 0.03176,
     "end_time": "2023-10-06T04:10:50.530761",
     "exception": false,
     "start_time": "2023-10-06T04:10:50.499001",
     "status": "completed"
    },
    "tags": []
   },
   "outputs": [
    {
     "name": "stdout",
     "output_type": "stream",
     "text": [
      "Best parameters {'max_depth': 14, 'n_estimators': 1255, 'bootstrap': True, 'min_samples_split': 12, 'min_samples_leaf': 3}\n"
     ]
    }
   ],
   "source": [
    "# Print the best parameters\n",
    "print('Best parameters', study_rfc.best_params)"
   ]
  },
  {
   "cell_type": "code",
   "execution_count": 60,
   "id": "786eb77d",
   "metadata": {
    "execution": {
     "iopub.execute_input": "2023-10-06T04:10:50.575414Z",
     "iopub.status.busy": "2023-10-06T04:10:50.575069Z",
     "iopub.status.idle": "2023-10-06T04:11:01.522172Z",
     "shell.execute_reply": "2023-10-06T04:11:01.521109Z"
    },
    "papermill": {
     "duration": 10.971543,
     "end_time": "2023-10-06T04:11:01.524306",
     "exception": false,
     "start_time": "2023-10-06T04:10:50.552763",
     "status": "completed"
    },
    "tags": []
   },
   "outputs": [
    {
     "name": "stdout",
     "output_type": "stream",
     "text": [
      "Accuracy:  0.8059815950920245\n"
     ]
    }
   ],
   "source": [
    "rfc = RandomForestClassifier(**study_rfc.best_params)\n",
    "rfc.fit(X_train, y_train)\n",
    "y_pred = rfc.predict(X_valid)\n",
    "\n",
    "print('Accuracy: ', accuracy_score(y_valid, y_pred))"
   ]
  },
  {
   "cell_type": "markdown",
   "id": "7c730d3e",
   "metadata": {
    "papermill": {
     "duration": 0.021114,
     "end_time": "2023-10-06T04:11:01.567361",
     "exception": false,
     "start_time": "2023-10-06T04:11:01.546247",
     "status": "completed"
    },
    "tags": []
   },
   "source": [
    "# Optimization "
   ]
  },
  {
   "cell_type": "code",
   "execution_count": 61,
   "id": "bf9ed18d",
   "metadata": {
    "execution": {
     "iopub.execute_input": "2023-10-06T04:11:01.612064Z",
     "iopub.status.busy": "2023-10-06T04:11:01.611724Z",
     "iopub.status.idle": "2023-10-06T04:16:36.264373Z",
     "shell.execute_reply": "2023-10-06T04:16:36.263361Z"
    },
    "papermill": {
     "duration": 334.699104,
     "end_time": "2023-10-06T04:16:36.288242",
     "exception": false,
     "start_time": "2023-10-06T04:11:01.589138",
     "status": "completed"
    },
    "tags": []
   },
   "outputs": [
    {
     "data": {
      "application/vnd.jupyter.widget-view+json": {
       "model_id": "b40987b054724d1cb13a40a9ea673a54",
       "version_major": 2,
       "version_minor": 0
      },
      "text/plain": [
       "  0%|          | 0/10 [00:00<?, ?it/s]"
      ]
     },
     "metadata": {},
     "output_type": "display_data"
    },
    {
     "name": "stdout",
     "output_type": "stream",
     "text": [
      "Лучшие веса: {'cat': 0.6026190822236179, 'lgb': 0.24319080722252817, 'xgb': 0.5485656248612903, 'rfc': 0.8457587896847433}\n",
      "Лучшая точность: 0.8101993865030674\n"
     ]
    }
   ],
   "source": [
    "from sklearn.ensemble import VotingClassifier\n",
    "from sklearn.metrics import accuracy_score\n",
    "import optuna\n",
    "\n",
    "def objective(trial):\n",
    "    weights = {}\n",
    "    weights['cat'] = trial.suggest_uniform('cat_weight', 0.1, 2.0)\n",
    "    weights['lgb'] = trial.suggest_uniform('lgb_weight', 0.1, 2.0)\n",
    "    weights['xgb'] = trial.suggest_uniform('xgb_weight', 0.1, 2.0)\n",
    "    weights['rfc'] = trial.suggest_uniform('rfc_weight', 0.1, 2.0)\n",
    "\n",
    "    voting = VotingClassifier(estimators=[\n",
    "        ('cat', cat),\n",
    "        ('lgb', lgb),\n",
    "        ('xgb', xgb),\n",
    "        ('rfc', rfc)\n",
    "    ], voting='soft', weights=list(weights.values()))\n",
    "\n",
    "    voting.fit(X_train, y_train)\n",
    "\n",
    "    voting_pred = voting.predict(X_valid)\n",
    "\n",
    "    accuracy = accuracy_score(y_valid, voting_pred)\n",
    "\n",
    "    return -accuracy  \n",
    "\n",
    "if __name__ == '__main__':\n",
    "    study = optuna.create_study(direction='minimize')\n",
    "    study.optimize(objective, n_trials=10, show_progress_bar=True)\n",
    "\n",
    "    # Получите лучшие веса\n",
    "    best_weights = {\n",
    "        'cat': study.best_params['cat_weight'],\n",
    "        'lgb': study.best_params['lgb_weight'],\n",
    "        'xgb': study.best_params['xgb_weight'],\n",
    "        'rfc': study.best_params['rfc_weight']\n",
    "    }\n",
    "\n",
    "    best_voting = VotingClassifier(estimators=[\n",
    "        ('cat', cat),\n",
    "        ('lgb', lgb),\n",
    "        ('xgb', xgb),\n",
    "        ('rfc', rfc)\n",
    "    ], voting='soft', weights=list(best_weights.values()))\n",
    "\n",
    "    best_voting.fit(X_train, y_train)\n",
    "\n",
    "    best_voting_pred = best_voting.predict(X_valid)\n",
    "\n",
    "    best_accuracy = accuracy_score(y_valid, best_voting_pred)\n",
    "    print('Лучшие веса:', best_weights)\n",
    "    print('Лучшая точность:', best_accuracy)"
   ]
  },
  {
   "cell_type": "markdown",
   "id": "5f7c6207",
   "metadata": {
    "papermill": {
     "duration": 0.020969,
     "end_time": "2023-10-06T04:16:36.330318",
     "exception": false,
     "start_time": "2023-10-06T04:16:36.309349",
     "status": "completed"
    },
    "tags": []
   },
   "source": [
    "# Stacking"
   ]
  },
  {
   "cell_type": "code",
   "execution_count": 62,
   "id": "87770145",
   "metadata": {
    "execution": {
     "iopub.execute_input": "2023-10-06T04:16:36.374992Z",
     "iopub.status.busy": "2023-10-06T04:16:36.374624Z",
     "iopub.status.idle": "2023-10-06T04:16:36.380127Z",
     "shell.execute_reply": "2023-10-06T04:16:36.379042Z"
    },
    "papermill": {
     "duration": 0.030519,
     "end_time": "2023-10-06T04:16:36.382194",
     "exception": false,
     "start_time": "2023-10-06T04:16:36.351675",
     "status": "completed"
    },
    "tags": []
   },
   "outputs": [],
   "source": [
    "import matplotlib\n",
    "matplotlib.rc_file_defaults()"
   ]
  },
  {
   "cell_type": "code",
   "execution_count": 63,
   "id": "37e0104b",
   "metadata": {
    "execution": {
     "iopub.execute_input": "2023-10-06T04:16:36.426363Z",
     "iopub.status.busy": "2023-10-06T04:16:36.426017Z",
     "iopub.status.idle": "2023-10-06T04:17:06.830981Z",
     "shell.execute_reply": "2023-10-06T04:17:06.829766Z"
    },
    "papermill": {
     "duration": 30.450937,
     "end_time": "2023-10-06T04:17:06.854440",
     "exception": false,
     "start_time": "2023-10-06T04:16:36.403503",
     "status": "completed"
    },
    "tags": []
   },
   "outputs": [
    {
     "name": "stdout",
     "output_type": "stream",
     "text": [
      "Accuracy:  0.8063650306748467\n"
     ]
    }
   ],
   "source": [
    "from sklearn.ensemble import VotingClassifier\n",
    "voting = VotingClassifier(estimators=[('cat', cat),\n",
    "                                      ('lgb', lgb), \n",
    "                                      ('xgb', xgb),\n",
    "                                      ('rfc', rfc)], voting='soft')\n",
    "voting.fit(X_train,y_train)\n",
    "voting_pred = voting.predict(X_valid)\n",
    "\n",
    "print('Accuracy: ', accuracy_score(y_valid, voting_pred))"
   ]
  },
  {
   "cell_type": "code",
   "execution_count": 64,
   "id": "7cc32b5d",
   "metadata": {
    "execution": {
     "iopub.execute_input": "2023-10-06T04:17:06.901343Z",
     "iopub.status.busy": "2023-10-06T04:17:06.900980Z",
     "iopub.status.idle": "2023-10-06T04:17:07.772721Z",
     "shell.execute_reply": "2023-10-06T04:17:07.771656Z"
    },
    "papermill": {
     "duration": 0.897069,
     "end_time": "2023-10-06T04:17:07.774723",
     "exception": false,
     "start_time": "2023-10-06T04:17:06.877654",
     "status": "completed"
    },
    "tags": []
   },
   "outputs": [
    {
     "data": {
      "image/png": "[encoded data removed]",
      "text/plain": [
       "<Figure size 640x480 with 2 Axes>"
      ]
     },
     "metadata": {},
     "output_type": "display_data"
    }
   ],
   "source": [
    "from sklearn.metrics import ConfusionMatrixDisplay\n",
    "\n",
    "ConfusionMatrixDisplay.from_estimator(voting, X_valid, y_valid,cmap=\"RdPu\");"
   ]
  },
  {
   "cell_type": "code",
   "execution_count": 65,
   "id": "a3c43448",
   "metadata": {
    "execution": {
     "iopub.execute_input": "2023-10-06T04:17:07.822193Z",
     "iopub.status.busy": "2023-10-06T04:17:07.821569Z",
     "iopub.status.idle": "2023-10-06T04:19:46.770592Z",
     "shell.execute_reply": "2023-10-06T04:19:46.760654Z"
    },
    "papermill": {
     "duration": 159.01051,
     "end_time": "2023-10-06T04:19:46.807995",
     "exception": false,
     "start_time": "2023-10-06T04:17:07.797485",
     "status": "completed"
    },
    "tags": []
   },
   "outputs": [
    {
     "name": "stdout",
     "output_type": "stream",
     "text": [
      "Accuracy:  0.8063650306748467\n"
     ]
    }
   ],
   "source": [
    "from sklearn.ensemble import StackingClassifier\n",
    "stk = StackingClassifier(estimators=[('cat', cat),\n",
    "                                      ('lgb', lgb), \n",
    "                                      ('xgb', xgb),\n",
    "                                      ('rfc', rfc)])\n",
    "stk.fit(X_train,y_train)\n",
    "stk_pred = stk.predict(X_valid)\n",
    "\n",
    "print('Accuracy: ', accuracy_score(y_valid, stk_pred))"
   ]
  },
  {
   "cell_type": "code",
   "execution_count": 66,
   "id": "1c498612",
   "metadata": {
    "execution": {
     "iopub.execute_input": "2023-10-06T04:19:46.887526Z",
     "iopub.status.busy": "2023-10-06T04:19:46.887140Z",
     "iopub.status.idle": "2023-10-06T04:19:47.799264Z",
     "shell.execute_reply": "2023-10-06T04:19:47.798174Z"
    },
    "papermill": {
     "duration": 0.951025,
     "end_time": "2023-10-06T04:19:47.801581",
     "exception": false,
     "start_time": "2023-10-06T04:19:46.850556",
     "status": "completed"
    },
    "tags": []
   },
   "outputs": [
    {
     "data": {
      "image/png": "[encoded data removed]",
      "text/plain": [
       "<Figure size 640x480 with 2 Axes>"
      ]
     },
     "metadata": {},
     "output_type": "display_data"
    }
   ],
   "source": [
    "from sklearn.metrics import ConfusionMatrixDisplay\n",
    "\n",
    "ConfusionMatrixDisplay.from_estimator(stk, X_valid, y_valid,cmap=\"RdPu\");"
   ]
  },
  {
   "cell_type": "markdown",
   "id": "98f6fc2a",
   "metadata": {
    "papermill": {
     "duration": 0.023481,
     "end_time": "2023-10-06T04:19:47.848258",
     "exception": false,
     "start_time": "2023-10-06T04:19:47.824777",
     "status": "completed"
    },
    "tags": []
   },
   "source": [
    "# Prediction"
   ]
  },
  {
   "cell_type": "code",
   "execution_count": 67,
   "id": "f5ba1a63",
   "metadata": {
    "execution": {
     "iopub.execute_input": "2023-10-06T04:19:47.896320Z",
     "iopub.status.busy": "2023-10-06T04:19:47.895974Z",
     "iopub.status.idle": "2023-10-06T04:19:48.831757Z",
     "shell.execute_reply": "2023-10-06T04:19:48.830643Z"
    },
    "papermill": {
     "duration": 0.96273,
     "end_time": "2023-10-06T04:19:48.833940",
     "exception": false,
     "start_time": "2023-10-06T04:19:47.871210",
     "status": "completed"
    },
    "tags": []
   },
   "outputs": [
    {
     "data": {
      "text/html": [
       "<div>\n",
       "<style scoped>\n",
       "    .dataframe tbody tr th:only-of-type {\n",
       "        vertical-align: middle;\n",
       "    }\n",
       "\n",
       "    .dataframe tbody tr th {\n",
       "        vertical-align: top;\n",
       "    }\n",
       "\n",
       "    .dataframe thead th {\n",
       "        text-align: right;\n",
       "    }\n",
       "</style>\n",
       "<table border=\"1\" class=\"dataframe\">\n",
       "  <thead>\n",
       "    <tr style=\"text-align: right;\">\n",
       "      <th></th>\n",
       "      <th>PassengerId</th>\n",
       "      <th>Transported</th>\n",
       "    </tr>\n",
       "  </thead>\n",
       "  <tbody>\n",
       "    <tr>\n",
       "      <th>0</th>\n",
       "      <td>0013_01</td>\n",
       "      <td>True</td>\n",
       "    </tr>\n",
       "    <tr>\n",
       "      <th>1</th>\n",
       "      <td>0018_01</td>\n",
       "      <td>False</td>\n",
       "    </tr>\n",
       "    <tr>\n",
       "      <th>2</th>\n",
       "      <td>0019_01</td>\n",
       "      <td>True</td>\n",
       "    </tr>\n",
       "    <tr>\n",
       "      <th>3</th>\n",
       "      <td>0021_01</td>\n",
       "      <td>True</td>\n",
       "    </tr>\n",
       "    <tr>\n",
       "      <th>4</th>\n",
       "      <td>0023_01</td>\n",
       "      <td>True</td>\n",
       "    </tr>\n",
       "    <tr>\n",
       "      <th>...</th>\n",
       "      <td>...</td>\n",
       "      <td>...</td>\n",
       "    </tr>\n",
       "    <tr>\n",
       "      <th>4272</th>\n",
       "      <td>9266_02</td>\n",
       "      <td>True</td>\n",
       "    </tr>\n",
       "    <tr>\n",
       "      <th>4273</th>\n",
       "      <td>9269_01</td>\n",
       "      <td>False</td>\n",
       "    </tr>\n",
       "    <tr>\n",
       "      <th>4274</th>\n",
       "      <td>9271_01</td>\n",
       "      <td>True</td>\n",
       "    </tr>\n",
       "    <tr>\n",
       "      <th>4275</th>\n",
       "      <td>9273_01</td>\n",
       "      <td>True</td>\n",
       "    </tr>\n",
       "    <tr>\n",
       "      <th>4276</th>\n",
       "      <td>9277_01</td>\n",
       "      <td>True</td>\n",
       "    </tr>\n",
       "  </tbody>\n",
       "</table>\n",
       "<p>4277 rows × 2 columns</p>\n",
       "</div>"
      ],
      "text/plain": [
       "     PassengerId  Transported\n",
       "0        0013_01         True\n",
       "1        0018_01        False\n",
       "2        0019_01         True\n",
       "3        0021_01         True\n",
       "4        0023_01         True\n",
       "...          ...          ...\n",
       "4272     9266_02         True\n",
       "4273     9269_01        False\n",
       "4274     9271_01         True\n",
       "4275     9273_01         True\n",
       "4276     9277_01         True\n",
       "\n",
       "[4277 rows x 2 columns]"
      ]
     },
     "execution_count": 67,
     "metadata": {},
     "output_type": "execute_result"
    }
   ],
   "source": [
    "sub = pd.DataFrame(test_data['PassengerId'])\n",
    "sub[\"Transported\"]=best_voting.predict(test_data.drop(columns=[\"PassengerId\"]))\n",
    "sub[\"Transported\"]=sub[\"Transported\"].map({ 0:False, 1:True})\n",
    "sub.to_csv('submission_weighted.csv',index=False)\n",
    "sub"
   ]
  },
  {
   "cell_type": "code",
   "execution_count": 68,
   "id": "d8156a93",
   "metadata": {
    "execution": {
     "iopub.execute_input": "2023-10-06T04:19:48.880937Z",
     "iopub.status.busy": "2023-10-06T04:19:48.880523Z",
     "iopub.status.idle": "2023-10-06T04:19:49.826235Z",
     "shell.execute_reply": "2023-10-06T04:19:49.825022Z"
    },
    "papermill": {
     "duration": 0.972412,
     "end_time": "2023-10-06T04:19:49.829140",
     "exception": false,
     "start_time": "2023-10-06T04:19:48.856728",
     "status": "completed"
    },
    "tags": []
   },
   "outputs": [
    {
     "data": {
      "text/html": [
       "<div>\n",
       "<style scoped>\n",
       "    .dataframe tbody tr th:only-of-type {\n",
       "        vertical-align: middle;\n",
       "    }\n",
       "\n",
       "    .dataframe tbody tr th {\n",
       "        vertical-align: top;\n",
       "    }\n",
       "\n",
       "    .dataframe thead th {\n",
       "        text-align: right;\n",
       "    }\n",
       "</style>\n",
       "<table border=\"1\" class=\"dataframe\">\n",
       "  <thead>\n",
       "    <tr style=\"text-align: right;\">\n",
       "      <th></th>\n",
       "      <th>PassengerId</th>\n",
       "      <th>Transported</th>\n",
       "    </tr>\n",
       "  </thead>\n",
       "  <tbody>\n",
       "    <tr>\n",
       "      <th>0</th>\n",
       "      <td>0013_01</td>\n",
       "      <td>False</td>\n",
       "    </tr>\n",
       "    <tr>\n",
       "      <th>1</th>\n",
       "      <td>0018_01</td>\n",
       "      <td>False</td>\n",
       "    </tr>\n",
       "    <tr>\n",
       "      <th>2</th>\n",
       "      <td>0019_01</td>\n",
       "      <td>True</td>\n",
       "    </tr>\n",
       "    <tr>\n",
       "      <th>3</th>\n",
       "      <td>0021_01</td>\n",
       "      <td>True</td>\n",
       "    </tr>\n",
       "    <tr>\n",
       "      <th>4</th>\n",
       "      <td>0023_01</td>\n",
       "      <td>True</td>\n",
       "    </tr>\n",
       "    <tr>\n",
       "      <th>...</th>\n",
       "      <td>...</td>\n",
       "      <td>...</td>\n",
       "    </tr>\n",
       "    <tr>\n",
       "      <th>4272</th>\n",
       "      <td>9266_02</td>\n",
       "      <td>True</td>\n",
       "    </tr>\n",
       "    <tr>\n",
       "      <th>4273</th>\n",
       "      <td>9269_01</td>\n",
       "      <td>False</td>\n",
       "    </tr>\n",
       "    <tr>\n",
       "      <th>4274</th>\n",
       "      <td>9271_01</td>\n",
       "      <td>True</td>\n",
       "    </tr>\n",
       "    <tr>\n",
       "      <th>4275</th>\n",
       "      <td>9273_01</td>\n",
       "      <td>True</td>\n",
       "    </tr>\n",
       "    <tr>\n",
       "      <th>4276</th>\n",
       "      <td>9277_01</td>\n",
       "      <td>True</td>\n",
       "    </tr>\n",
       "  </tbody>\n",
       "</table>\n",
       "<p>4277 rows × 2 columns</p>\n",
       "</div>"
      ],
      "text/plain": [
       "     PassengerId  Transported\n",
       "0        0013_01        False\n",
       "1        0018_01        False\n",
       "2        0019_01         True\n",
       "3        0021_01         True\n",
       "4        0023_01         True\n",
       "...          ...          ...\n",
       "4272     9266_02         True\n",
       "4273     9269_01        False\n",
       "4274     9271_01         True\n",
       "4275     9273_01         True\n",
       "4276     9277_01         True\n",
       "\n",
       "[4277 rows x 2 columns]"
      ]
     },
     "execution_count": 68,
     "metadata": {},
     "output_type": "execute_result"
    }
   ],
   "source": [
    "sub = pd.DataFrame(test_data['PassengerId'])\n",
    "sub[\"Transported\"]=stk.predict(test_data.drop(columns=[\"PassengerId\"]))\n",
    "sub[\"Transported\"]=sub[\"Transported\"].map({ 0:False, 1:True})\n",
    "sub.to_csv('submission_stk.csv',index=False)\n",
    "sub"
   ]
  },
  {
   "cell_type": "code",
   "execution_count": 69,
   "id": "0182626e",
   "metadata": {
    "execution": {
     "iopub.execute_input": "2023-10-06T04:19:49.920431Z",
     "iopub.status.busy": "2023-10-06T04:19:49.920089Z",
     "iopub.status.idle": "2023-10-06T04:19:50.852481Z",
     "shell.execute_reply": "2023-10-06T04:19:50.851103Z"
    },
    "papermill": {
     "duration": 0.979976,
     "end_time": "2023-10-06T04:19:50.854796",
     "exception": false,
     "start_time": "2023-10-06T04:19:49.874820",
     "status": "completed"
    },
    "tags": []
   },
   "outputs": [
    {
     "data": {
      "text/html": [
       "<div>\n",
       "<style scoped>\n",
       "    .dataframe tbody tr th:only-of-type {\n",
       "        vertical-align: middle;\n",
       "    }\n",
       "\n",
       "    .dataframe tbody tr th {\n",
       "        vertical-align: top;\n",
       "    }\n",
       "\n",
       "    .dataframe thead th {\n",
       "        text-align: right;\n",
       "    }\n",
       "</style>\n",
       "<table border=\"1\" class=\"dataframe\">\n",
       "  <thead>\n",
       "    <tr style=\"text-align: right;\">\n",
       "      <th></th>\n",
       "      <th>PassengerId</th>\n",
       "      <th>Transported</th>\n",
       "    </tr>\n",
       "  </thead>\n",
       "  <tbody>\n",
       "    <tr>\n",
       "      <th>0</th>\n",
       "      <td>0013_01</td>\n",
       "      <td>False</td>\n",
       "    </tr>\n",
       "    <tr>\n",
       "      <th>1</th>\n",
       "      <td>0018_01</td>\n",
       "      <td>False</td>\n",
       "    </tr>\n",
       "    <tr>\n",
       "      <th>2</th>\n",
       "      <td>0019_01</td>\n",
       "      <td>True</td>\n",
       "    </tr>\n",
       "    <tr>\n",
       "      <th>3</th>\n",
       "      <td>0021_01</td>\n",
       "      <td>True</td>\n",
       "    </tr>\n",
       "    <tr>\n",
       "      <th>4</th>\n",
       "      <td>0023_01</td>\n",
       "      <td>True</td>\n",
       "    </tr>\n",
       "    <tr>\n",
       "      <th>...</th>\n",
       "      <td>...</td>\n",
       "      <td>...</td>\n",
       "    </tr>\n",
       "    <tr>\n",
       "      <th>4272</th>\n",
       "      <td>9266_02</td>\n",
       "      <td>True</td>\n",
       "    </tr>\n",
       "    <tr>\n",
       "      <th>4273</th>\n",
       "      <td>9269_01</td>\n",
       "      <td>False</td>\n",
       "    </tr>\n",
       "    <tr>\n",
       "      <th>4274</th>\n",
       "      <td>9271_01</td>\n",
       "      <td>True</td>\n",
       "    </tr>\n",
       "    <tr>\n",
       "      <th>4275</th>\n",
       "      <td>9273_01</td>\n",
       "      <td>True</td>\n",
       "    </tr>\n",
       "    <tr>\n",
       "      <th>4276</th>\n",
       "      <td>9277_01</td>\n",
       "      <td>True</td>\n",
       "    </tr>\n",
       "  </tbody>\n",
       "</table>\n",
       "<p>4277 rows × 2 columns</p>\n",
       "</div>"
      ],
      "text/plain": [
       "     PassengerId  Transported\n",
       "0        0013_01        False\n",
       "1        0018_01        False\n",
       "2        0019_01         True\n",
       "3        0021_01         True\n",
       "4        0023_01         True\n",
       "...          ...          ...\n",
       "4272     9266_02         True\n",
       "4273     9269_01        False\n",
       "4274     9271_01         True\n",
       "4275     9273_01         True\n",
       "4276     9277_01         True\n",
       "\n",
       "[4277 rows x 2 columns]"
      ]
     },
     "execution_count": 69,
     "metadata": {},
     "output_type": "execute_result"
    }
   ],
   "source": [
    "sub = pd.DataFrame(test_data['PassengerId'])\n",
    "sub[\"Transported\"]=voting.predict(test_data.drop(columns=[\"PassengerId\"]))\n",
    "sub[\"Transported\"]=sub[\"Transported\"].map({ 0:False, 1:True})\n",
    "sub.to_csv('submission_voting.csv',index=False)\n",
    "sub"
   ]
  },
  {
   "cell_type": "code",
   "execution_count": null,
   "id": "7f4eafba",
   "metadata": {
    "papermill": {
     "duration": 0.022722,
     "end_time": "2023-10-06T04:19:50.902191",
     "exception": false,
     "start_time": "2023-10-06T04:19:50.879469",
     "status": "completed"
    },
    "tags": []
   },
   "outputs": [],
   "source": []
  }
 ],
 "metadata": {
  "kernelspec": {
   "display_name": "Python 3",
   "language": "python",
   "name": "python3"
  },
  "language_info": {
   "codemirror_mode": {
    "name": "ipython",
    "version": 3
   },
   "file_extension": ".py",
   "mimetype": "text/x-python",
   "name": "python",
   "nbconvert_exporter": "python",
   "pygments_lexer": "ipython3",
   "version": "3.10.12"
  },
  "papermill": {
   "default_parameters": {},
   "duration": 42443.15918,
   "end_time": "2023-10-06T04:19:52.214676",
   "environment_variables": {},
   "exception": null,
   "input_path": "__notebook__.ipynb",
   "output_path": "__notebook__.ipynb",
   "parameters": {},
   "start_time": "2023-10-05T16:32:29.055496",
   "version": "2.4.0"
  },
  "widgets": {
   "application/vnd.jupyter.widget-state+json": {
    "state": {
     "0068753239f140ff96cbe745ae46ea97": {
      "model_module": "@jupyter-widgets/controls",
      "model_module_version": "1.5.0",
      "model_name": "DescriptionStyleModel",
      "state": {
       "_model_module": "@jupyter-widgets/controls",
       "_model_module_version": "1.5.0",
       "_model_name": "DescriptionStyleModel",
       "_view_count": null,
       "_view_module": "@jupyter-widgets/base",
       "_view_module_version": "1.2.0",
       "_view_name": "StyleView",
       "description_width": ""
      }
     },
     "04053d9d11794ddb90996ddaee7cc839": {
      "model_module": "@jupyter-widgets/controls",
      "model_module_version": "1.5.0",
      "model_name": "HTMLModel",
      "state": {
       "_dom_classes": [],
       "_model_module": "@jupyter-widgets/controls",
       "_model_module_version": "1.5.0",
       "_model_name": "HTMLModel",
       "_view_count": null,
       "_view_module": "@jupyter-widgets/controls",
       "_view_module_version": "1.5.0",
       "_view_name": "HTMLView",
       "description": "",
       "description_tooltip": null,
       "layout": "IPY_MODEL_dbcf3a6480bc42359ca09291aea4f46d",
       "placeholder": "​",
       "style": "IPY_MODEL_31ca80f003674a718725089497d9c05b",
       "value": "Best trial: 23. Best value: 0.806743: 100%"
      }
     },
     "04d4cfadfb3f4bb4a1deb7f56e9aacce": {
      "model_module": "@jupyter-widgets/base",
      "model_module_version": "1.2.0",
      "model_name": "LayoutModel",
      "state": {
       "_model_module": "@jupyter-widgets/base",
       "_model_module_version": "1.2.0",
       "_model_name": "LayoutModel",
       "_view_count": null,
       "_view_module": "@jupyter-widgets/base",
       "_view_module_version": "1.2.0",
       "_view_name": "LayoutView",
       "align_content": null,
       "align_items": null,
       "align_self": null,
       "border": null,
       "bottom": null,
       "display": null,
       "flex": null,
       "flex_flow": null,
       "grid_area": null,
       "grid_auto_columns": null,
       "grid_auto_flow": null,
       "grid_auto_rows": null,
       "grid_column": null,
       "grid_gap": null,
       "grid_row": null,
       "grid_template_areas": null,
       "grid_template_columns": null,
       "grid_template_rows": null,
       "height": null,
       "justify_content": null,
       "justify_items": null,
       "left": null,
       "margin": null,
       "max_height": null,
       "max_width": null,
       "min_height": null,
       "min_width": null,
       "object_fit": null,
       "object_position": null,
       "order": null,
       "overflow": null,
       "overflow_x": null,
       "overflow_y": null,
       "padding": null,
       "right": null,
       "top": null,
       "visibility": null,
       "width": null
      }
     },
     "05accbcb2b61432384c1d53122f07455": {
      "model_module": "@jupyter-widgets/controls",
      "model_module_version": "1.5.0",
      "model_name": "HTMLModel",
      "state": {
       "_dom_classes": [],
       "_model_module": "@jupyter-widgets/controls",
       "_model_module_version": "1.5.0",
       "_model_name": "HTMLModel",
       "_view_count": null,
       "_view_module": "@jupyter-widgets/controls",
       "_view_module_version": "1.5.0",
       "_view_name": "HTMLView",
       "description": "",
       "description_tooltip": null,
       "layout": "IPY_MODEL_6a7d876bbc354eaeaa8347dcc688aa52",
       "placeholder": "​",
       "style": "IPY_MODEL_28a4faf5300847a2b16623f71eb176ee",
       "value": " 100/100 [2:44:00&lt;00:00, 82.86s/it]"
      }
     },
     "079004856bc14e62bbdd05769633f85e": {
      "model_module": "@jupyter-widgets/controls",
      "model_module_version": "1.5.0",
      "model_name": "HTMLModel",
      "state": {
       "_dom_classes": [],
       "_model_module": "@jupyter-widgets/controls",
       "_model_module_version": "1.5.0",
       "_model_name": "HTMLModel",
       "_view_count": null,
       "_view_module": "@jupyter-widgets/controls",
       "_view_module_version": "1.5.0",
       "_view_name": "HTMLView",
       "description": "",
       "description_tooltip": null,
       "layout": "IPY_MODEL_e4435d86ec5f46f8814bf87a6f22b0cd",
       "placeholder": "​",
       "style": "IPY_MODEL_33086d634cc544e4b56e33f2de4b8432",
       "value": "Best trial: 51. Best value: 0.811177: 100%"
      }
     },
     "11a249de7bbd438db87a084cc8f1f9f1": {
      "model_module": "@jupyter-widgets/controls",
      "model_module_version": "1.5.0",
      "model_name": "ProgressStyleModel",
      "state": {
       "_model_module": "@jupyter-widgets/controls",
       "_model_module_version": "1.5.0",
       "_model_name": "ProgressStyleModel",
       "_view_count": null,
       "_view_module": "@jupyter-widgets/base",
       "_view_module_version": "1.2.0",
       "_view_name": "StyleView",
       "bar_color": null,
       "description_width": ""
      }
     },
     "11fb4d37b0c943f4aa92c9ee8d866484": {
      "model_module": "@jupyter-widgets/controls",
      "model_module_version": "1.5.0",
      "model_name": "HBoxModel",
      "state": {
       "_dom_classes": [],
       "_model_module": "@jupyter-widgets/controls",
       "_model_module_version": "1.5.0",
       "_model_name": "HBoxModel",
       "_view_count": null,
       "_view_module": "@jupyter-widgets/controls",
       "_view_module_version": "1.5.0",
       "_view_name": "HBoxView",
       "box_style": "",
       "children": [
        "IPY_MODEL_f250e5a06de9493d867d8bdc235fae68",
        "IPY_MODEL_5e24e22e4cd645ce8c23890b54608784",
        "IPY_MODEL_05accbcb2b61432384c1d53122f07455"
       ],
       "layout": "IPY_MODEL_1e52d237fe1c45e3a0b57c8214aded93"
      }
     },
     "153af87b9f9049eab13b198303050eb6": {
      "model_module": "@jupyter-widgets/base",
      "model_module_version": "1.2.0",
      "model_name": "LayoutModel",
      "state": {
       "_model_module": "@jupyter-widgets/base",
       "_model_module_version": "1.2.0",
       "_model_name": "LayoutModel",
       "_view_count": null,
       "_view_module": "@jupyter-widgets/base",
       "_view_module_version": "1.2.0",
       "_view_name": "LayoutView",
       "align_content": null,
       "align_items": null,
       "align_self": null,
       "border": null,
       "bottom": null,
       "display": null,
       "flex": null,
       "flex_flow": null,
       "grid_area": null,
       "grid_auto_columns": null,
       "grid_auto_flow": null,
       "grid_auto_rows": null,
       "grid_column": null,
       "grid_gap": null,
       "grid_row": null,
       "grid_template_areas": null,
       "grid_template_columns": null,
       "grid_template_rows": null,
       "height": null,
       "justify_content": null,
       "justify_items": null,
       "left": null,
       "margin": null,
       "max_height": null,
       "max_width": null,
       "min_height": null,
       "min_width": null,
       "object_fit": null,
       "object_position": null,
       "order": null,
       "overflow": null,
       "overflow_x": null,
       "overflow_y": null,
       "padding": null,
       "right": null,
       "top": null,
       "visibility": null,
       "width": null
      }
     },
     "1c4b58081c18481bb9523f50c4a141ba": {
      "model_module": "@jupyter-widgets/controls",
      "model_module_version": "1.5.0",
      "model_name": "HBoxModel",
      "state": {
       "_dom_classes": [],
       "_model_module": "@jupyter-widgets/controls",
       "_model_module_version": "1.5.0",
       "_model_name": "HBoxModel",
       "_view_count": null,
       "_view_module": "@jupyter-widgets/controls",
       "_view_module_version": "1.5.0",
       "_view_name": "HBoxView",
       "box_style": "",
       "children": [
        "IPY_MODEL_079004856bc14e62bbdd05769633f85e",
        "IPY_MODEL_bd86e9a9e3e14415811e3aaf056009cc",
        "IPY_MODEL_41e2e0df384f4e088091713c118b1244"
       ],
       "layout": "IPY_MODEL_7318610e4369474893d7c4cb1a93cb89"
      }
     },
     "1e52d237fe1c45e3a0b57c8214aded93": {
      "model_module": "@jupyter-widgets/base",
      "model_module_version": "1.2.0",
      "model_name": "LayoutModel",
      "state": {
       "_model_module": "@jupyter-widgets/base",
       "_model_module_version": "1.2.0",
       "_model_name": "LayoutModel",
       "_view_count": null,
       "_view_module": "@jupyter-widgets/base",
       "_view_module_version": "1.2.0",
       "_view_name": "LayoutView",
       "align_content": null,
       "align_items": null,
       "align_self": null,
       "border": null,
       "bottom": null,
       "display": null,
       "flex": null,
       "flex_flow": null,
       "grid_area": null,
       "grid_auto_columns": null,
       "grid_auto_flow": null,
       "grid_auto_rows": null,
       "grid_column": null,
       "grid_gap": null,
       "grid_row": null,
       "grid_template_areas": null,
       "grid_template_columns": null,
       "grid_template_rows": null,
       "height": null,
       "justify_content": null,
       "justify_items": null,
       "left": null,
       "margin": null,
       "max_height": null,
       "max_width": null,
       "min_height": null,
       "min_width": null,
       "object_fit": null,
       "object_position": null,
       "order": null,
       "overflow": null,
       "overflow_x": null,
       "overflow_y": null,
       "padding": null,
       "right": null,
       "top": null,
       "visibility": null,
       "width": null
      }
     },
     "200208f72d1f4c4596edaee7051ae909": {
      "model_module": "@jupyter-widgets/controls",
      "model_module_version": "1.5.0",
      "model_name": "HBoxModel",
      "state": {
       "_dom_classes": [],
       "_model_module": "@jupyter-widgets/controls",
       "_model_module_version": "1.5.0",
       "_model_name": "HBoxModel",
       "_view_count": null,
       "_view_module": "@jupyter-widgets/controls",
       "_view_module_version": "1.5.0",
       "_view_name": "HBoxView",
       "box_style": "",
       "children": [
        "IPY_MODEL_276b4349023c46f88a7f6a28952d415e",
        "IPY_MODEL_dab770f93a204cd8bc94dd3e3a12c09c",
        "IPY_MODEL_ea2c7338346f48f6a172636bbedcec46"
       ],
       "layout": "IPY_MODEL_ea355ae48f1b4bb3a8c2eb83f02178e5"
      }
     },
     "22935e65490f466292cf6896276a8614": {
      "model_module": "@jupyter-widgets/base",
      "model_module_version": "1.2.0",
      "model_name": "LayoutModel",
      "state": {
       "_model_module": "@jupyter-widgets/base",
       "_model_module_version": "1.2.0",
       "_model_name": "LayoutModel",
       "_view_count": null,
       "_view_module": "@jupyter-widgets/base",
       "_view_module_version": "1.2.0",
       "_view_name": "LayoutView",
       "align_content": null,
       "align_items": null,
       "align_self": null,
       "border": null,
       "bottom": null,
       "display": null,
       "flex": null,
       "flex_flow": null,
       "grid_area": null,
       "grid_auto_columns": null,
       "grid_auto_flow": null,
       "grid_auto_rows": null,
       "grid_column": null,
       "grid_gap": null,
       "grid_row": null,
       "grid_template_areas": null,
       "grid_template_columns": null,
       "grid_template_rows": null,
       "height": null,
       "justify_content": null,
       "justify_items": null,
       "left": null,
       "margin": null,
       "max_height": null,
       "max_width": null,
       "min_height": null,
       "min_width": null,
       "object_fit": null,
       "object_position": null,
       "order": null,
       "overflow": null,
       "overflow_x": null,
       "overflow_y": null,
       "padding": null,
       "right": null,
       "top": null,
       "visibility": null,
       "width": null
      }
     },
     "25d94b37033c4a50bff01103ffd207d4": {
      "model_module": "@jupyter-widgets/controls",
      "model_module_version": "1.5.0",
      "model_name": "DescriptionStyleModel",
      "state": {
       "_model_module": "@jupyter-widgets/controls",
       "_model_module_version": "1.5.0",
       "_model_name": "DescriptionStyleModel",
       "_view_count": null,
       "_view_module": "@jupyter-widgets/base",
       "_view_module_version": "1.2.0",
       "_view_name": "StyleView",
       "description_width": ""
      }
     },
     "276b4349023c46f88a7f6a28952d415e": {
      "model_module": "@jupyter-widgets/controls",
      "model_module_version": "1.5.0",
      "model_name": "HTMLModel",
      "state": {
       "_dom_classes": [],
       "_model_module": "@jupyter-widgets/controls",
       "_model_module_version": "1.5.0",
       "_model_name": "HTMLModel",
       "_view_count": null,
       "_view_module": "@jupyter-widgets/controls",
       "_view_module_version": "1.5.0",
       "_view_name": "HTMLView",
       "description": "",
       "description_tooltip": null,
       "layout": "IPY_MODEL_b1515a8ec43e4973aea3b39fffac5c80",
       "placeholder": "​",
       "style": "IPY_MODEL_0068753239f140ff96cbe745ae46ea97",
       "value": "Best trial: 97. Best value: 0.808549: 100%"
      }
     },
     "28a4faf5300847a2b16623f71eb176ee": {
      "model_module": "@jupyter-widgets/controls",
      "model_module_version": "1.5.0",
      "model_name": "DescriptionStyleModel",
      "state": {
       "_model_module": "@jupyter-widgets/controls",
       "_model_module_version": "1.5.0",
       "_model_name": "DescriptionStyleModel",
       "_view_count": null,
       "_view_module": "@jupyter-widgets/base",
       "_view_module_version": "1.2.0",
       "_view_name": "StyleView",
       "description_width": ""
      }
     },
     "2ebe612cfab0485a88285631e843a571": {
      "model_module": "@jupyter-widgets/base",
      "model_module_version": "1.2.0",
      "model_name": "LayoutModel",
      "state": {
       "_model_module": "@jupyter-widgets/base",
       "_model_module_version": "1.2.0",
       "_model_name": "LayoutModel",
       "_view_count": null,
       "_view_module": "@jupyter-widgets/base",
       "_view_module_version": "1.2.0",
       "_view_name": "LayoutView",
       "align_content": null,
       "align_items": null,
       "align_self": null,
       "border": null,
       "bottom": null,
       "display": null,
       "flex": null,
       "flex_flow": null,
       "grid_area": null,
       "grid_auto_columns": null,
       "grid_auto_flow": null,
       "grid_auto_rows": null,
       "grid_column": null,
       "grid_gap": null,
       "grid_row": null,
       "grid_template_areas": null,
       "grid_template_columns": null,
       "grid_template_rows": null,
       "height": null,
       "justify_content": null,
       "justify_items": null,
       "left": null,
       "margin": null,
       "max_height": null,
       "max_width": null,
       "min_height": null,
       "min_width": null,
       "object_fit": null,
       "object_position": null,
       "order": null,
       "overflow": null,
       "overflow_x": null,
       "overflow_y": null,
       "padding": null,
       "right": null,
       "top": null,
       "visibility": null,
       "width": null
      }
     },
     "31ca80f003674a718725089497d9c05b": {
      "model_module": "@jupyter-widgets/controls",
      "model_module_version": "1.5.0",
      "model_name": "DescriptionStyleModel",
      "state": {
       "_model_module": "@jupyter-widgets/controls",
       "_model_module_version": "1.5.0",
       "_model_name": "DescriptionStyleModel",
       "_view_count": null,
       "_view_module": "@jupyter-widgets/base",
       "_view_module_version": "1.2.0",
       "_view_name": "StyleView",
       "description_width": ""
      }
     },
     "33086d634cc544e4b56e33f2de4b8432": {
      "model_module": "@jupyter-widgets/controls",
      "model_module_version": "1.5.0",
      "model_name": "DescriptionStyleModel",
      "state": {
       "_model_module": "@jupyter-widgets/controls",
       "_model_module_version": "1.5.0",
       "_model_name": "DescriptionStyleModel",
       "_view_count": null,
       "_view_module": "@jupyter-widgets/base",
       "_view_module_version": "1.2.0",
       "_view_name": "StyleView",
       "description_width": ""
      }
     },
     "36c9aa1a509146f089d452169a86e2f9": {
      "model_module": "@jupyter-widgets/base",
      "model_module_version": "1.2.0",
      "model_name": "LayoutModel",
      "state": {
       "_model_module": "@jupyter-widgets/base",
       "_model_module_version": "1.2.0",
       "_model_name": "LayoutModel",
       "_view_count": null,
       "_view_module": "@jupyter-widgets/base",
       "_view_module_version": "1.2.0",
       "_view_name": "LayoutView",
       "align_content": null,
       "align_items": null,
       "align_self": null,
       "border": null,
       "bottom": null,
       "display": null,
       "flex": null,
       "flex_flow": null,
       "grid_area": null,
       "grid_auto_columns": null,
       "grid_auto_flow": null,
       "grid_auto_rows": null,
       "grid_column": null,
       "grid_gap": null,
       "grid_row": null,
       "grid_template_areas": null,
       "grid_template_columns": null,
       "grid_template_rows": null,
       "height": null,
       "justify_content": null,
       "justify_items": null,
       "left": null,
       "margin": null,
       "max_height": null,
       "max_width": null,
       "min_height": null,
       "min_width": null,
       "object_fit": null,
       "object_position": null,
       "order": null,
       "overflow": null,
       "overflow_x": null,
       "overflow_y": null,
       "padding": null,
       "right": null,
       "top": null,
       "visibility": null,
       "width": null
      }
     },
     "3ebbd10f87ba498ba3bece5028b7ad03": {
      "model_module": "@jupyter-widgets/controls",
      "model_module_version": "1.5.0",
      "model_name": "DescriptionStyleModel",
      "state": {
       "_model_module": "@jupyter-widgets/controls",
       "_model_module_version": "1.5.0",
       "_model_name": "DescriptionStyleModel",
       "_view_count": null,
       "_view_module": "@jupyter-widgets/base",
       "_view_module_version": "1.2.0",
       "_view_name": "StyleView",
       "description_width": ""
      }
     },
     "41e2e0df384f4e088091713c118b1244": {
      "model_module": "@jupyter-widgets/controls",
      "model_module_version": "1.5.0",
      "model_name": "HTMLModel",
      "state": {
       "_dom_classes": [],
       "_model_module": "@jupyter-widgets/controls",
       "_model_module_version": "1.5.0",
       "_model_name": "HTMLModel",
       "_view_count": null,
       "_view_module": "@jupyter-widgets/controls",
       "_view_module_version": "1.5.0",
       "_view_name": "HTMLView",
       "description": "",
       "description_tooltip": null,
       "layout": "IPY_MODEL_7537a41f78d54855812e5b23a0c8118f",
       "placeholder": "​",
       "style": "IPY_MODEL_93686b33ba464dd7b5a02e9a4b996686",
       "value": " 100/100 [1:16:44&lt;00:00, 63.57s/it]"
      }
     },
     "42e1b9409e39462d89998ebf021a4bca": {
      "model_module": "@jupyter-widgets/controls",
      "model_module_version": "1.5.0",
      "model_name": "ProgressStyleModel",
      "state": {
       "_model_module": "@jupyter-widgets/controls",
       "_model_module_version": "1.5.0",
       "_model_name": "ProgressStyleModel",
       "_view_count": null,
       "_view_module": "@jupyter-widgets/base",
       "_view_module_version": "1.2.0",
       "_view_name": "StyleView",
       "bar_color": null,
       "description_width": ""
      }
     },
     "43a918b5b12b41f4b48e474e360e9bea": {
      "model_module": "@jupyter-widgets/base",
      "model_module_version": "1.2.0",
      "model_name": "LayoutModel",
      "state": {
       "_model_module": "@jupyter-widgets/base",
       "_model_module_version": "1.2.0",
       "_model_name": "LayoutModel",
       "_view_count": null,
       "_view_module": "@jupyter-widgets/base",
       "_view_module_version": "1.2.0",
       "_view_name": "LayoutView",
       "align_content": null,
       "align_items": null,
       "align_self": null,
       "border": null,
       "bottom": null,
       "display": null,
       "flex": null,
       "flex_flow": null,
       "grid_area": null,
       "grid_auto_columns": null,
       "grid_auto_flow": null,
       "grid_auto_rows": null,
       "grid_column": null,
       "grid_gap": null,
       "grid_row": null,
       "grid_template_areas": null,
       "grid_template_columns": null,
       "grid_template_rows": null,
       "height": null,
       "justify_content": null,
       "justify_items": null,
       "left": null,
       "margin": null,
       "max_height": null,
       "max_width": null,
       "min_height": null,
       "min_width": null,
       "object_fit": null,
       "object_position": null,
       "order": null,
       "overflow": null,
       "overflow_x": null,
       "overflow_y": null,
       "padding": null,
       "right": null,
       "top": null,
       "visibility": null,
       "width": null
      }
     },
     "4671684be1b34e648c365060d127d576": {
      "model_module": "@jupyter-widgets/controls",
      "model_module_version": "1.5.0",
      "model_name": "HTMLModel",
      "state": {
       "_dom_classes": [],
       "_model_module": "@jupyter-widgets/controls",
       "_model_module_version": "1.5.0",
       "_model_name": "HTMLModel",
       "_view_count": null,
       "_view_module": "@jupyter-widgets/controls",
       "_view_module_version": "1.5.0",
       "_view_name": "HTMLView",
       "description": "",
       "description_tooltip": null,
       "layout": "IPY_MODEL_2ebe612cfab0485a88285631e843a571",
       "placeholder": "​",
       "style": "IPY_MODEL_25d94b37033c4a50bff01103ffd207d4",
       "value": " 10/10 [05:04&lt;00:00, 30.42s/it]"
      }
     },
     "55fad3589d984fe4b3bcea89b75f5fca": {
      "model_module": "@jupyter-widgets/controls",
      "model_module_version": "1.5.0",
      "model_name": "DescriptionStyleModel",
      "state": {
       "_model_module": "@jupyter-widgets/controls",
       "_model_module_version": "1.5.0",
       "_model_name": "DescriptionStyleModel",
       "_view_count": null,
       "_view_module": "@jupyter-widgets/base",
       "_view_module_version": "1.2.0",
       "_view_name": "StyleView",
       "description_width": ""
      }
     },
     "5e24e22e4cd645ce8c23890b54608784": {
      "model_module": "@jupyter-widgets/controls",
      "model_module_version": "1.5.0",
      "model_name": "FloatProgressModel",
      "state": {
       "_dom_classes": [],
       "_model_module": "@jupyter-widgets/controls",
       "_model_module_version": "1.5.0",
       "_model_name": "FloatProgressModel",
       "_view_count": null,
       "_view_module": "@jupyter-widgets/controls",
       "_view_module_version": "1.5.0",
       "_view_name": "ProgressView",
       "bar_style": "success",
       "description": "",
       "description_tooltip": null,
       "layout": "IPY_MODEL_153af87b9f9049eab13b198303050eb6",
       "max": 100.0,
       "min": 0.0,
       "orientation": "horizontal",
       "style": "IPY_MODEL_7c7776a88ffa45089b304ba4f5879d13",
       "value": 100.0
      }
     },
     "60302cfec983430088beb752b5ff10d8": {
      "model_module": "@jupyter-widgets/base",
      "model_module_version": "1.2.0",
      "model_name": "LayoutModel",
      "state": {
       "_model_module": "@jupyter-widgets/base",
       "_model_module_version": "1.2.0",
       "_model_name": "LayoutModel",
       "_view_count": null,
       "_view_module": "@jupyter-widgets/base",
       "_view_module_version": "1.2.0",
       "_view_name": "LayoutView",
       "align_content": null,
       "align_items": null,
       "align_self": null,
       "border": null,
       "bottom": null,
       "display": null,
       "flex": null,
       "flex_flow": null,
       "grid_area": null,
       "grid_auto_columns": null,
       "grid_auto_flow": null,
       "grid_auto_rows": null,
       "grid_column": null,
       "grid_gap": null,
       "grid_row": null,
       "grid_template_areas": null,
       "grid_template_columns": null,
       "grid_template_rows": null,
       "height": null,
       "justify_content": null,
       "justify_items": null,
       "left": null,
       "margin": null,
       "max_height": null,
       "max_width": null,
       "min_height": null,
       "min_width": null,
       "object_fit": null,
       "object_position": null,
       "order": null,
       "overflow": null,
       "overflow_x": null,
       "overflow_y": null,
       "padding": null,
       "right": null,
       "top": null,
       "visibility": null,
       "width": null
      }
     },
     "61bc3573081243ff9f7421f7fe7cc187": {
      "model_module": "@jupyter-widgets/controls",
      "model_module_version": "1.5.0",
      "model_name": "FloatProgressModel",
      "state": {
       "_dom_classes": [],
       "_model_module": "@jupyter-widgets/controls",
       "_model_module_version": "1.5.0",
       "_model_name": "FloatProgressModel",
       "_view_count": null,
       "_view_module": "@jupyter-widgets/controls",
       "_view_module_version": "1.5.0",
       "_view_name": "ProgressView",
       "bar_style": "success",
       "description": "",
       "description_tooltip": null,
       "layout": "IPY_MODEL_04d4cfadfb3f4bb4a1deb7f56e9aacce",
       "max": 10.0,
       "min": 0.0,
       "orientation": "horizontal",
       "style": "IPY_MODEL_42e1b9409e39462d89998ebf021a4bca",
       "value": 10.0
      }
     },
     "6a7d876bbc354eaeaa8347dcc688aa52": {
      "model_module": "@jupyter-widgets/base",
      "model_module_version": "1.2.0",
      "model_name": "LayoutModel",
      "state": {
       "_model_module": "@jupyter-widgets/base",
       "_model_module_version": "1.2.0",
       "_model_name": "LayoutModel",
       "_view_count": null,
       "_view_module": "@jupyter-widgets/base",
       "_view_module_version": "1.2.0",
       "_view_name": "LayoutView",
       "align_content": null,
       "align_items": null,
       "align_self": null,
       "border": null,
       "bottom": null,
       "display": null,
       "flex": null,
       "flex_flow": null,
       "grid_area": null,
       "grid_auto_columns": null,
       "grid_auto_flow": null,
       "grid_auto_rows": null,
       "grid_column": null,
       "grid_gap": null,
       "grid_row": null,
       "grid_template_areas": null,
       "grid_template_columns": null,
       "grid_template_rows": null,
       "height": null,
       "justify_content": null,
       "justify_items": null,
       "left": null,
       "margin": null,
       "max_height": null,
       "max_width": null,
       "min_height": null,
       "min_width": null,
       "object_fit": null,
       "object_position": null,
       "order": null,
       "overflow": null,
       "overflow_x": null,
       "overflow_y": null,
       "padding": null,
       "right": null,
       "top": null,
       "visibility": null,
       "width": null
      }
     },
     "6c7aa4a2dac942888dd41586f8450b6e": {
      "model_module": "@jupyter-widgets/base",
      "model_module_version": "1.2.0",
      "model_name": "LayoutModel",
      "state": {
       "_model_module": "@jupyter-widgets/base",
       "_model_module_version": "1.2.0",
       "_model_name": "LayoutModel",
       "_view_count": null,
       "_view_module": "@jupyter-widgets/base",
       "_view_module_version": "1.2.0",
       "_view_name": "LayoutView",
       "align_content": null,
       "align_items": null,
       "align_self": null,
       "border": null,
       "bottom": null,
       "display": null,
       "flex": null,
       "flex_flow": null,
       "grid_area": null,
       "grid_auto_columns": null,
       "grid_auto_flow": null,
       "grid_auto_rows": null,
       "grid_column": null,
       "grid_gap": null,
       "grid_row": null,
       "grid_template_areas": null,
       "grid_template_columns": null,
       "grid_template_rows": null,
       "height": null,
       "justify_content": null,
       "justify_items": null,
       "left": null,
       "margin": null,
       "max_height": null,
       "max_width": null,
       "min_height": null,
       "min_width": null,
       "object_fit": null,
       "object_position": null,
       "order": null,
       "overflow": null,
       "overflow_x": null,
       "overflow_y": null,
       "padding": null,
       "right": null,
       "top": null,
       "visibility": null,
       "width": null
      }
     },
     "7318610e4369474893d7c4cb1a93cb89": {
      "model_module": "@jupyter-widgets/base",
      "model_module_version": "1.2.0",
      "model_name": "LayoutModel",
      "state": {
       "_model_module": "@jupyter-widgets/base",
       "_model_module_version": "1.2.0",
       "_model_name": "LayoutModel",
       "_view_count": null,
       "_view_module": "@jupyter-widgets/base",
       "_view_module_version": "1.2.0",
       "_view_name": "LayoutView",
       "align_content": null,
       "align_items": null,
       "align_self": null,
       "border": null,
       "bottom": null,
       "display": null,
       "flex": null,
       "flex_flow": null,
       "grid_area": null,
       "grid_auto_columns": null,
       "grid_auto_flow": null,
       "grid_auto_rows": null,
       "grid_column": null,
       "grid_gap": null,
       "grid_row": null,
       "grid_template_areas": null,
       "grid_template_columns": null,
       "grid_template_rows": null,
       "height": null,
       "justify_content": null,
       "justify_items": null,
       "left": null,
       "margin": null,
       "max_height": null,
       "max_width": null,
       "min_height": null,
       "min_width": null,
       "object_fit": null,
       "object_position": null,
       "order": null,
       "overflow": null,
       "overflow_x": null,
       "overflow_y": null,
       "padding": null,
       "right": null,
       "top": null,
       "visibility": null,
       "width": null
      }
     },
     "736d0bb789e542d588cb62e543379bf0": {
      "model_module": "@jupyter-widgets/base",
      "model_module_version": "1.2.0",
      "model_name": "LayoutModel",
      "state": {
       "_model_module": "@jupyter-widgets/base",
       "_model_module_version": "1.2.0",
       "_model_name": "LayoutModel",
       "_view_count": null,
       "_view_module": "@jupyter-widgets/base",
       "_view_module_version": "1.2.0",
       "_view_name": "LayoutView",
       "align_content": null,
       "align_items": null,
       "align_self": null,
       "border": null,
       "bottom": null,
       "display": null,
       "flex": null,
       "flex_flow": null,
       "grid_area": null,
       "grid_auto_columns": null,
       "grid_auto_flow": null,
       "grid_auto_rows": null,
       "grid_column": null,
       "grid_gap": null,
       "grid_row": null,
       "grid_template_areas": null,
       "grid_template_columns": null,
       "grid_template_rows": null,
       "height": null,
       "justify_content": null,
       "justify_items": null,
       "left": null,
       "margin": null,
       "max_height": null,
       "max_width": null,
       "min_height": null,
       "min_width": null,
       "object_fit": null,
       "object_position": null,
       "order": null,
       "overflow": null,
       "overflow_x": null,
       "overflow_y": null,
       "padding": null,
       "right": null,
       "top": null,
       "visibility": null,
       "width": null
      }
     },
     "7537a41f78d54855812e5b23a0c8118f": {
      "model_module": "@jupyter-widgets/base",
      "model_module_version": "1.2.0",
      "model_name": "LayoutModel",
      "state": {
       "_model_module": "@jupyter-widgets/base",
       "_model_module_version": "1.2.0",
       "_model_name": "LayoutModel",
       "_view_count": null,
       "_view_module": "@jupyter-widgets/base",
       "_view_module_version": "1.2.0",
       "_view_name": "LayoutView",
       "align_content": null,
       "align_items": null,
       "align_self": null,
       "border": null,
       "bottom": null,
       "display": null,
       "flex": null,
       "flex_flow": null,
       "grid_area": null,
       "grid_auto_columns": null,
       "grid_auto_flow": null,
       "grid_auto_rows": null,
       "grid_column": null,
       "grid_gap": null,
       "grid_row": null,
       "grid_template_areas": null,
       "grid_template_columns": null,
       "grid_template_rows": null,
       "height": null,
       "justify_content": null,
       "justify_items": null,
       "left": null,
       "margin": null,
       "max_height": null,
       "max_width": null,
       "min_height": null,
       "min_width": null,
       "object_fit": null,
       "object_position": null,
       "order": null,
       "overflow": null,
       "overflow_x": null,
       "overflow_y": null,
       "padding": null,
       "right": null,
       "top": null,
       "visibility": null,
       "width": null
      }
     },
     "7c7776a88ffa45089b304ba4f5879d13": {
      "model_module": "@jupyter-widgets/controls",
      "model_module_version": "1.5.0",
      "model_name": "ProgressStyleModel",
      "state": {
       "_model_module": "@jupyter-widgets/controls",
       "_model_module_version": "1.5.0",
       "_model_name": "ProgressStyleModel",
       "_view_count": null,
       "_view_module": "@jupyter-widgets/base",
       "_view_module_version": "1.2.0",
       "_view_name": "StyleView",
       "bar_color": null,
       "description_width": ""
      }
     },
     "8798499df02b43ca84988687f8878ae9": {
      "model_module": "@jupyter-widgets/controls",
      "model_module_version": "1.5.0",
      "model_name": "FloatProgressModel",
      "state": {
       "_dom_classes": [],
       "_model_module": "@jupyter-widgets/controls",
       "_model_module_version": "1.5.0",
       "_model_name": "FloatProgressModel",
       "_view_count": null,
       "_view_module": "@jupyter-widgets/controls",
       "_view_module_version": "1.5.0",
       "_view_name": "ProgressView",
       "bar_style": "success",
       "description": "",
       "description_tooltip": null,
       "layout": "IPY_MODEL_a60ccde3ba654c27af240cba894e560a",
       "max": 100.0,
       "min": 0.0,
       "orientation": "horizontal",
       "style": "IPY_MODEL_bc17869de4584b97a99a076f6125f856",
       "value": 100.0
      }
     },
     "9098a221145a446ca710e487e78fcde4": {
      "model_module": "@jupyter-widgets/controls",
      "model_module_version": "1.5.0",
      "model_name": "ProgressStyleModel",
      "state": {
       "_model_module": "@jupyter-widgets/controls",
       "_model_module_version": "1.5.0",
       "_model_name": "ProgressStyleModel",
       "_view_count": null,
       "_view_module": "@jupyter-widgets/base",
       "_view_module_version": "1.2.0",
       "_view_name": "StyleView",
       "bar_color": null,
       "description_width": ""
      }
     },
     "93686b33ba464dd7b5a02e9a4b996686": {
      "model_module": "@jupyter-widgets/controls",
      "model_module_version": "1.5.0",
      "model_name": "DescriptionStyleModel",
      "state": {
       "_model_module": "@jupyter-widgets/controls",
       "_model_module_version": "1.5.0",
       "_model_name": "DescriptionStyleModel",
       "_view_count": null,
       "_view_module": "@jupyter-widgets/base",
       "_view_module_version": "1.2.0",
       "_view_name": "StyleView",
       "description_width": ""
      }
     },
     "a60ccde3ba654c27af240cba894e560a": {
      "model_module": "@jupyter-widgets/base",
      "model_module_version": "1.2.0",
      "model_name": "LayoutModel",
      "state": {
       "_model_module": "@jupyter-widgets/base",
       "_model_module_version": "1.2.0",
       "_model_name": "LayoutModel",
       "_view_count": null,
       "_view_module": "@jupyter-widgets/base",
       "_view_module_version": "1.2.0",
       "_view_name": "LayoutView",
       "align_content": null,
       "align_items": null,
       "align_self": null,
       "border": null,
       "bottom": null,
       "display": null,
       "flex": null,
       "flex_flow": null,
       "grid_area": null,
       "grid_auto_columns": null,
       "grid_auto_flow": null,
       "grid_auto_rows": null,
       "grid_column": null,
       "grid_gap": null,
       "grid_row": null,
       "grid_template_areas": null,
       "grid_template_columns": null,
       "grid_template_rows": null,
       "height": null,
       "justify_content": null,
       "justify_items": null,
       "left": null,
       "margin": null,
       "max_height": null,
       "max_width": null,
       "min_height": null,
       "min_width": null,
       "object_fit": null,
       "object_position": null,
       "order": null,
       "overflow": null,
       "overflow_x": null,
       "overflow_y": null,
       "padding": null,
       "right": null,
       "top": null,
       "visibility": null,
       "width": null
      }
     },
     "a690372f91954eb78ff9739be698145e": {
      "model_module": "@jupyter-widgets/base",
      "model_module_version": "1.2.0",
      "model_name": "LayoutModel",
      "state": {
       "_model_module": "@jupyter-widgets/base",
       "_model_module_version": "1.2.0",
       "_model_name": "LayoutModel",
       "_view_count": null,
       "_view_module": "@jupyter-widgets/base",
       "_view_module_version": "1.2.0",
       "_view_name": "LayoutView",
       "align_content": null,
       "align_items": null,
       "align_self": null,
       "border": null,
       "bottom": null,
       "display": null,
       "flex": null,
       "flex_flow": null,
       "grid_area": null,
       "grid_auto_columns": null,
       "grid_auto_flow": null,
       "grid_auto_rows": null,
       "grid_column": null,
       "grid_gap": null,
       "grid_row": null,
       "grid_template_areas": null,
       "grid_template_columns": null,
       "grid_template_rows": null,
       "height": null,
       "justify_content": null,
       "justify_items": null,
       "left": null,
       "margin": null,
       "max_height": null,
       "max_width": null,
       "min_height": null,
       "min_width": null,
       "object_fit": null,
       "object_position": null,
       "order": null,
       "overflow": null,
       "overflow_x": null,
       "overflow_y": null,
       "padding": null,
       "right": null,
       "top": null,
       "visibility": null,
       "width": null
      }
     },
     "b1515a8ec43e4973aea3b39fffac5c80": {
      "model_module": "@jupyter-widgets/base",
      "model_module_version": "1.2.0",
      "model_name": "LayoutModel",
      "state": {
       "_model_module": "@jupyter-widgets/base",
       "_model_module_version": "1.2.0",
       "_model_name": "LayoutModel",
       "_view_count": null,
       "_view_module": "@jupyter-widgets/base",
       "_view_module_version": "1.2.0",
       "_view_name": "LayoutView",
       "align_content": null,
       "align_items": null,
       "align_self": null,
       "border": null,
       "bottom": null,
       "display": null,
       "flex": null,
       "flex_flow": null,
       "grid_area": null,
       "grid_auto_columns": null,
       "grid_auto_flow": null,
       "grid_auto_rows": null,
       "grid_column": null,
       "grid_gap": null,
       "grid_row": null,
       "grid_template_areas": null,
       "grid_template_columns": null,
       "grid_template_rows": null,
       "height": null,
       "justify_content": null,
       "justify_items": null,
       "left": null,
       "margin": null,
       "max_height": null,
       "max_width": null,
       "min_height": null,
       "min_width": null,
       "object_fit": null,
       "object_position": null,
       "order": null,
       "overflow": null,
       "overflow_x": null,
       "overflow_y": null,
       "padding": null,
       "right": null,
       "top": null,
       "visibility": null,
       "width": null
      }
     },
     "b40987b054724d1cb13a40a9ea673a54": {
      "model_module": "@jupyter-widgets/controls",
      "model_module_version": "1.5.0",
      "model_name": "HBoxModel",
      "state": {
       "_dom_classes": [],
       "_model_module": "@jupyter-widgets/controls",
       "_model_module_version": "1.5.0",
       "_model_name": "HBoxModel",
       "_view_count": null,
       "_view_module": "@jupyter-widgets/controls",
       "_view_module_version": "1.5.0",
       "_view_name": "HBoxView",
       "box_style": "",
       "children": [
        "IPY_MODEL_f19d69eb37e24cbeb068a6bc3f7d6c4c",
        "IPY_MODEL_61bc3573081243ff9f7421f7fe7cc187",
        "IPY_MODEL_4671684be1b34e648c365060d127d576"
       ],
       "layout": "IPY_MODEL_d18f1e5fc5b647e5bb7e23bc3efe474b"
      }
     },
     "b599c59d4d9145c9b1ca163204eb12a2": {
      "model_module": "@jupyter-widgets/controls",
      "model_module_version": "1.5.0",
      "model_name": "HTMLModel",
      "state": {
       "_dom_classes": [],
       "_model_module": "@jupyter-widgets/controls",
       "_model_module_version": "1.5.0",
       "_model_name": "HTMLModel",
       "_view_count": null,
       "_view_module": "@jupyter-widgets/controls",
       "_view_module_version": "1.5.0",
       "_view_name": "HTMLView",
       "description": "",
       "description_tooltip": null,
       "layout": "IPY_MODEL_6c7aa4a2dac942888dd41586f8450b6e",
       "placeholder": "​",
       "style": "IPY_MODEL_3ebbd10f87ba498ba3bece5028b7ad03",
       "value": " 100/100 [4:02:26&lt;00:00, 86.17s/it]"
      }
     },
     "b6480273e0364ef99e37c9281873f2af": {
      "model_module": "@jupyter-widgets/controls",
      "model_module_version": "1.5.0",
      "model_name": "DescriptionStyleModel",
      "state": {
       "_model_module": "@jupyter-widgets/controls",
       "_model_module_version": "1.5.0",
       "_model_name": "DescriptionStyleModel",
       "_view_count": null,
       "_view_module": "@jupyter-widgets/base",
       "_view_module_version": "1.2.0",
       "_view_name": "StyleView",
       "description_width": ""
      }
     },
     "bc17869de4584b97a99a076f6125f856": {
      "model_module": "@jupyter-widgets/controls",
      "model_module_version": "1.5.0",
      "model_name": "ProgressStyleModel",
      "state": {
       "_model_module": "@jupyter-widgets/controls",
       "_model_module_version": "1.5.0",
       "_model_name": "ProgressStyleModel",
       "_view_count": null,
       "_view_module": "@jupyter-widgets/base",
       "_view_module_version": "1.2.0",
       "_view_name": "StyleView",
       "bar_color": null,
       "description_width": ""
      }
     },
     "bd86e9a9e3e14415811e3aaf056009cc": {
      "model_module": "@jupyter-widgets/controls",
      "model_module_version": "1.5.0",
      "model_name": "FloatProgressModel",
      "state": {
       "_dom_classes": [],
       "_model_module": "@jupyter-widgets/controls",
       "_model_module_version": "1.5.0",
       "_model_name": "FloatProgressModel",
       "_view_count": null,
       "_view_module": "@jupyter-widgets/controls",
       "_view_module_version": "1.5.0",
       "_view_name": "ProgressView",
       "bar_style": "success",
       "description": "",
       "description_tooltip": null,
       "layout": "IPY_MODEL_43a918b5b12b41f4b48e474e360e9bea",
       "max": 100.0,
       "min": 0.0,
       "orientation": "horizontal",
       "style": "IPY_MODEL_11a249de7bbd438db87a084cc8f1f9f1",
       "value": 100.0
      }
     },
     "ca018413a5914b02906d5b2a3f212a5d": {
      "model_module": "@jupyter-widgets/controls",
      "model_module_version": "1.5.0",
      "model_name": "HBoxModel",
      "state": {
       "_dom_classes": [],
       "_model_module": "@jupyter-widgets/controls",
       "_model_module_version": "1.5.0",
       "_model_name": "HBoxModel",
       "_view_count": null,
       "_view_module": "@jupyter-widgets/controls",
       "_view_module_version": "1.5.0",
       "_view_name": "HBoxView",
       "box_style": "",
       "children": [
        "IPY_MODEL_04053d9d11794ddb90996ddaee7cc839",
        "IPY_MODEL_8798499df02b43ca84988687f8878ae9",
        "IPY_MODEL_b599c59d4d9145c9b1ca163204eb12a2"
       ],
       "layout": "IPY_MODEL_22935e65490f466292cf6896276a8614"
      }
     },
     "d18f1e5fc5b647e5bb7e23bc3efe474b": {
      "model_module": "@jupyter-widgets/base",
      "model_module_version": "1.2.0",
      "model_name": "LayoutModel",
      "state": {
       "_model_module": "@jupyter-widgets/base",
       "_model_module_version": "1.2.0",
       "_model_name": "LayoutModel",
       "_view_count": null,
       "_view_module": "@jupyter-widgets/base",
       "_view_module_version": "1.2.0",
       "_view_name": "LayoutView",
       "align_content": null,
       "align_items": null,
       "align_self": null,
       "border": null,
       "bottom": null,
       "display": null,
       "flex": null,
       "flex_flow": null,
       "grid_area": null,
       "grid_auto_columns": null,
       "grid_auto_flow": null,
       "grid_auto_rows": null,
       "grid_column": null,
       "grid_gap": null,
       "grid_row": null,
       "grid_template_areas": null,
       "grid_template_columns": null,
       "grid_template_rows": null,
       "height": null,
       "justify_content": null,
       "justify_items": null,
       "left": null,
       "margin": null,
       "max_height": null,
       "max_width": null,
       "min_height": null,
       "min_width": null,
       "object_fit": null,
       "object_position": null,
       "order": null,
       "overflow": null,
       "overflow_x": null,
       "overflow_y": null,
       "padding": null,
       "right": null,
       "top": null,
       "visibility": null,
       "width": null
      }
     },
     "dab6c540c0d445f28797d54539e95e4c": {
      "model_module": "@jupyter-widgets/controls",
      "model_module_version": "1.5.0",
      "model_name": "DescriptionStyleModel",
      "state": {
       "_model_module": "@jupyter-widgets/controls",
       "_model_module_version": "1.5.0",
       "_model_name": "DescriptionStyleModel",
       "_view_count": null,
       "_view_module": "@jupyter-widgets/base",
       "_view_module_version": "1.2.0",
       "_view_name": "StyleView",
       "description_width": ""
      }
     },
     "dab770f93a204cd8bc94dd3e3a12c09c": {
      "model_module": "@jupyter-widgets/controls",
      "model_module_version": "1.5.0",
      "model_name": "FloatProgressModel",
      "state": {
       "_dom_classes": [],
       "_model_module": "@jupyter-widgets/controls",
       "_model_module_version": "1.5.0",
       "_model_name": "FloatProgressModel",
       "_view_count": null,
       "_view_module": "@jupyter-widgets/controls",
       "_view_module_version": "1.5.0",
       "_view_name": "ProgressView",
       "bar_style": "success",
       "description": "",
       "description_tooltip": null,
       "layout": "IPY_MODEL_60302cfec983430088beb752b5ff10d8",
       "max": 100.0,
       "min": 0.0,
       "orientation": "horizontal",
       "style": "IPY_MODEL_9098a221145a446ca710e487e78fcde4",
       "value": 100.0
      }
     },
     "dbcf3a6480bc42359ca09291aea4f46d": {
      "model_module": "@jupyter-widgets/base",
      "model_module_version": "1.2.0",
      "model_name": "LayoutModel",
      "state": {
       "_model_module": "@jupyter-widgets/base",
       "_model_module_version": "1.2.0",
       "_model_name": "LayoutModel",
       "_view_count": null,
       "_view_module": "@jupyter-widgets/base",
       "_view_module_version": "1.2.0",
       "_view_name": "LayoutView",
       "align_content": null,
       "align_items": null,
       "align_self": null,
       "border": null,
       "bottom": null,
       "display": null,
       "flex": null,
       "flex_flow": null,
       "grid_area": null,
       "grid_auto_columns": null,
       "grid_auto_flow": null,
       "grid_auto_rows": null,
       "grid_column": null,
       "grid_gap": null,
       "grid_row": null,
       "grid_template_areas": null,
       "grid_template_columns": null,
       "grid_template_rows": null,
       "height": null,
       "justify_content": null,
       "justify_items": null,
       "left": null,
       "margin": null,
       "max_height": null,
       "max_width": null,
       "min_height": null,
       "min_width": null,
       "object_fit": null,
       "object_position": null,
       "order": null,
       "overflow": null,
       "overflow_x": null,
       "overflow_y": null,
       "padding": null,
       "right": null,
       "top": null,
       "visibility": null,
       "width": null
      }
     },
     "e4435d86ec5f46f8814bf87a6f22b0cd": {
      "model_module": "@jupyter-widgets/base",
      "model_module_version": "1.2.0",
      "model_name": "LayoutModel",
      "state": {
       "_model_module": "@jupyter-widgets/base",
       "_model_module_version": "1.2.0",
       "_model_name": "LayoutModel",
       "_view_count": null,
       "_view_module": "@jupyter-widgets/base",
       "_view_module_version": "1.2.0",
       "_view_name": "LayoutView",
       "align_content": null,
       "align_items": null,
       "align_self": null,
       "border": null,
       "bottom": null,
       "display": null,
       "flex": null,
       "flex_flow": null,
       "grid_area": null,
       "grid_auto_columns": null,
       "grid_auto_flow": null,
       "grid_auto_rows": null,
       "grid_column": null,
       "grid_gap": null,
       "grid_row": null,
       "grid_template_areas": null,
       "grid_template_columns": null,
       "grid_template_rows": null,
       "height": null,
       "justify_content": null,
       "justify_items": null,
       "left": null,
       "margin": null,
       "max_height": null,
       "max_width": null,
       "min_height": null,
       "min_width": null,
       "object_fit": null,
       "object_position": null,
       "order": null,
       "overflow": null,
       "overflow_x": null,
       "overflow_y": null,
       "padding": null,
       "right": null,
       "top": null,
       "visibility": null,
       "width": null
      }
     },
     "ea2c7338346f48f6a172636bbedcec46": {
      "model_module": "@jupyter-widgets/controls",
      "model_module_version": "1.5.0",
      "model_name": "HTMLModel",
      "state": {
       "_dom_classes": [],
       "_model_module": "@jupyter-widgets/controls",
       "_model_module_version": "1.5.0",
       "_model_name": "HTMLModel",
       "_view_count": null,
       "_view_module": "@jupyter-widgets/controls",
       "_view_module_version": "1.5.0",
       "_view_name": "HTMLView",
       "description": "",
       "description_tooltip": null,
       "layout": "IPY_MODEL_36c9aa1a509146f089d452169a86e2f9",
       "placeholder": "​",
       "style": "IPY_MODEL_55fad3589d984fe4b3bcea89b75f5fca",
       "value": " 100/100 [3:34:04&lt;00:00, 97.26s/it]"
      }
     },
     "ea355ae48f1b4bb3a8c2eb83f02178e5": {
      "model_module": "@jupyter-widgets/base",
      "model_module_version": "1.2.0",
      "model_name": "LayoutModel",
      "state": {
       "_model_module": "@jupyter-widgets/base",
       "_model_module_version": "1.2.0",
       "_model_name": "LayoutModel",
       "_view_count": null,
       "_view_module": "@jupyter-widgets/base",
       "_view_module_version": "1.2.0",
       "_view_name": "LayoutView",
       "align_content": null,
       "align_items": null,
       "align_self": null,
       "border": null,
       "bottom": null,
       "display": null,
       "flex": null,
       "flex_flow": null,
       "grid_area": null,
       "grid_auto_columns": null,
       "grid_auto_flow": null,
       "grid_auto_rows": null,
       "grid_column": null,
       "grid_gap": null,
       "grid_row": null,
       "grid_template_areas": null,
       "grid_template_columns": null,
       "grid_template_rows": null,
       "height": null,
       "justify_content": null,
       "justify_items": null,
       "left": null,
       "margin": null,
       "max_height": null,
       "max_width": null,
       "min_height": null,
       "min_width": null,
       "object_fit": null,
       "object_position": null,
       "order": null,
       "overflow": null,
       "overflow_x": null,
       "overflow_y": null,
       "padding": null,
       "right": null,
       "top": null,
       "visibility": null,
       "width": null
      }
     },
     "f19d69eb37e24cbeb068a6bc3f7d6c4c": {
      "model_module": "@jupyter-widgets/controls",
      "model_module_version": "1.5.0",
      "model_name": "HTMLModel",
      "state": {
       "_dom_classes": [],
       "_model_module": "@jupyter-widgets/controls",
       "_model_module_version": "1.5.0",
       "_model_name": "HTMLModel",
       "_view_count": null,
       "_view_module": "@jupyter-widgets/controls",
       "_view_module_version": "1.5.0",
       "_view_name": "HTMLView",
       "description": "",
       "description_tooltip": null,
       "layout": "IPY_MODEL_736d0bb789e542d588cb62e543379bf0",
       "placeholder": "​",
       "style": "IPY_MODEL_dab6c540c0d445f28797d54539e95e4c",
       "value": "Best trial: 8. Best value: -0.810583: 100%"
      }
     },
     "f250e5a06de9493d867d8bdc235fae68": {
      "model_module": "@jupyter-widgets/controls",
      "model_module_version": "1.5.0",
      "model_name": "HTMLModel",
      "state": {
       "_dom_classes": [],
       "_model_module": "@jupyter-widgets/controls",
       "_model_module_version": "1.5.0",
       "_model_name": "HTMLModel",
       "_view_count": null,
       "_view_module": "@jupyter-widgets/controls",
       "_view_module_version": "1.5.0",
       "_view_name": "HTMLView",
       "description": "",
       "description_tooltip": null,
       "layout": "IPY_MODEL_a690372f91954eb78ff9739be698145e",
       "placeholder": "​",
       "style": "IPY_MODEL_b6480273e0364ef99e37c9281873f2af",
       "value": "Best trial: 75. Best value: 0.813314: 100%"
      }
     }
    },
    "version_major": 2,
    "version_minor": 0
   }
  }
 },
 "nbformat": 4,
 "nbformat_minor": 5
}
