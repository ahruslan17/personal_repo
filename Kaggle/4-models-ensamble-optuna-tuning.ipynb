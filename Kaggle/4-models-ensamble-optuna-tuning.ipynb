{
 "cells": [
  {
   "cell_type": "code",
   "execution_count": 1,
   "id": "5d437cda",
   "metadata": {
    "_cell_guid": "b1076dfc-b9ad-4769-8c92-a6c4dae69d19",
    "_uuid": "8f2839f25d086af736a60e9eeb907d3b93b6e0e5",
    "execution": {
     "iopub.execute_input": "2023-10-08T11:51:02.132636Z",
     "iopub.status.busy": "2023-10-08T11:51:02.132254Z",
     "iopub.status.idle": "2023-10-08T11:51:05.077009Z",
     "shell.execute_reply": "2023-10-08T11:51:05.075874Z"
    },
    "papermill": {
     "duration": 2.962795,
     "end_time": "2023-10-08T11:51:05.080004",
     "exception": false,
     "start_time": "2023-10-08T11:51:02.117209",
     "status": "completed"
    },
    "tags": []
   },
   "outputs": [],
   "source": [
    "import numpy as np\n",
    "import pandas as pd\n",
    "import matplotlib.pyplot as plt\n",
    "import plotly.express as px\n",
    "import plotly.graph_objects as go\n",
    "import seaborn as sns\n",
    "import plotly\n",
    "import plotly.express as px\n",
    "from sklearn.model_selection import train_test_split\n",
    "from sklearn.preprocessing import StandardScaler\n",
    "import random"
   ]
  },
  {
   "cell_type": "code",
   "execution_count": 2,
   "id": "0a4cfa36",
   "metadata": {
    "execution": {
     "iopub.execute_input": "2023-10-08T11:51:05.107515Z",
     "iopub.status.busy": "2023-10-08T11:51:05.106646Z",
     "iopub.status.idle": "2023-10-08T11:51:16.580541Z",
     "shell.execute_reply": "2023-10-08T11:51:16.579425Z"
    },
    "papermill": {
     "duration": 11.489914,
     "end_time": "2023-10-08T11:51:16.583018",
     "exception": false,
     "start_time": "2023-10-08T11:51:05.093104",
     "status": "completed"
    },
    "tags": []
   },
   "outputs": [
    {
     "name": "stdout",
     "output_type": "stream",
     "text": [
      "Collecting lazypredict\r\n",
      "  Downloading lazypredict-0.2.12-py2.py3-none-any.whl (12 kB)\r\n",
      "Requirement already satisfied: click in /opt/conda/lib/python3.10/site-packages (from lazypredict) (8.1.7)\r\n",
      "Requirement already satisfied: scikit-learn in /opt/conda/lib/python3.10/site-packages (from lazypredict) (1.2.2)\r\n",
      "Requirement already satisfied: pandas in /opt/conda/lib/python3.10/site-packages (from lazypredict) (2.0.3)\r\n",
      "Requirement already satisfied: tqdm in /opt/conda/lib/python3.10/site-packages (from lazypredict) (4.66.1)\r\n",
      "Requirement already satisfied: joblib in /opt/conda/lib/python3.10/site-packages (from lazypredict) (1.3.2)\r\n",
      "Requirement already satisfied: lightgbm in /opt/conda/lib/python3.10/site-packages (from lazypredict) (3.3.2)\r\n",
      "Requirement already satisfied: xgboost in /opt/conda/lib/python3.10/site-packages (from lazypredict) (1.7.6)\r\n",
      "Requirement already satisfied: wheel in /opt/conda/lib/python3.10/site-packages (from lightgbm->lazypredict) (0.40.0)\r\n",
      "Requirement already satisfied: numpy in /opt/conda/lib/python3.10/site-packages (from lightgbm->lazypredict) (1.23.5)\r\n",
      "Requirement already satisfied: scipy in /opt/conda/lib/python3.10/site-packages (from lightgbm->lazypredict) (1.11.2)\r\n",
      "Requirement already satisfied: threadpoolctl>=2.0.0 in /opt/conda/lib/python3.10/site-packages (from scikit-learn->lazypredict) (3.1.0)\r\n",
      "Requirement already satisfied: python-dateutil>=2.8.2 in /opt/conda/lib/python3.10/site-packages (from pandas->lazypredict) (2.8.2)\r\n",
      "Requirement already satisfied: pytz>=2020.1 in /opt/conda/lib/python3.10/site-packages (from pandas->lazypredict) (2023.3)\r\n",
      "Requirement already satisfied: tzdata>=2022.1 in /opt/conda/lib/python3.10/site-packages (from pandas->lazypredict) (2023.3)\r\n",
      "Requirement already satisfied: six>=1.5 in /opt/conda/lib/python3.10/site-packages (from python-dateutil>=2.8.2->pandas->lazypredict) (1.16.0)\r\n",
      "Installing collected packages: lazypredict\r\n",
      "Successfully installed lazypredict-0.2.12\r\n"
     ]
    }
   ],
   "source": [
    "!pip install lazypredict"
   ]
  },
  {
   "cell_type": "code",
   "execution_count": 3,
   "id": "68b7d949",
   "metadata": {
    "execution": {
     "iopub.execute_input": "2023-10-08T11:51:16.610575Z",
     "iopub.status.busy": "2023-10-08T11:51:16.610153Z",
     "iopub.status.idle": "2023-10-08T11:51:16.646592Z",
     "shell.execute_reply": "2023-10-08T11:51:16.645828Z"
    },
    "papermill": {
     "duration": 0.052738,
     "end_time": "2023-10-08T11:51:16.648704",
     "exception": false,
     "start_time": "2023-10-08T11:51:16.595966",
     "status": "completed"
    },
    "tags": []
   },
   "outputs": [],
   "source": [
    "train_data = pd.read_csv('/kaggle/input/titanic/train.csv')\n",
    "test_data = pd.read_csv('/kaggle/input/titanic/test.csv')"
   ]
  },
  {
   "cell_type": "code",
   "execution_count": 4,
   "id": "d6a144f4",
   "metadata": {
    "execution": {
     "iopub.execute_input": "2023-10-08T11:51:16.676237Z",
     "iopub.status.busy": "2023-10-08T11:51:16.675594Z",
     "iopub.status.idle": "2023-10-08T11:51:16.706887Z",
     "shell.execute_reply": "2023-10-08T11:51:16.705869Z"
    },
    "papermill": {
     "duration": 0.046917,
     "end_time": "2023-10-08T11:51:16.708851",
     "exception": false,
     "start_time": "2023-10-08T11:51:16.661934",
     "status": "completed"
    },
    "tags": []
   },
   "outputs": [
    {
     "data": {
      "text/html": [
       "<div>\n",
       "<style scoped>\n",
       "    .dataframe tbody tr th:only-of-type {\n",
       "        vertical-align: middle;\n",
       "    }\n",
       "\n",
       "    .dataframe tbody tr th {\n",
       "        vertical-align: top;\n",
       "    }\n",
       "\n",
       "    .dataframe thead th {\n",
       "        text-align: right;\n",
       "    }\n",
       "</style>\n",
       "<table border=\"1\" class=\"dataframe\">\n",
       "  <thead>\n",
       "    <tr style=\"text-align: right;\">\n",
       "      <th></th>\n",
       "      <th>PassengerId</th>\n",
       "      <th>Survived</th>\n",
       "      <th>Pclass</th>\n",
       "      <th>Name</th>\n",
       "      <th>Sex</th>\n",
       "      <th>Age</th>\n",
       "      <th>SibSp</th>\n",
       "      <th>Parch</th>\n",
       "      <th>Ticket</th>\n",
       "      <th>Fare</th>\n",
       "      <th>Cabin</th>\n",
       "      <th>Embarked</th>\n",
       "    </tr>\n",
       "  </thead>\n",
       "  <tbody>\n",
       "    <tr>\n",
       "      <th>0</th>\n",
       "      <td>1</td>\n",
       "      <td>0</td>\n",
       "      <td>3</td>\n",
       "      <td>Braund, Mr. Owen Harris</td>\n",
       "      <td>male</td>\n",
       "      <td>22.0</td>\n",
       "      <td>1</td>\n",
       "      <td>0</td>\n",
       "      <td>A/5 21171</td>\n",
       "      <td>7.2500</td>\n",
       "      <td>NaN</td>\n",
       "      <td>S</td>\n",
       "    </tr>\n",
       "    <tr>\n",
       "      <th>1</th>\n",
       "      <td>2</td>\n",
       "      <td>1</td>\n",
       "      <td>1</td>\n",
       "      <td>Cumings, Mrs. John Bradley (Florence Briggs Th...</td>\n",
       "      <td>female</td>\n",
       "      <td>38.0</td>\n",
       "      <td>1</td>\n",
       "      <td>0</td>\n",
       "      <td>PC 17599</td>\n",
       "      <td>71.2833</td>\n",
       "      <td>C85</td>\n",
       "      <td>C</td>\n",
       "    </tr>\n",
       "    <tr>\n",
       "      <th>2</th>\n",
       "      <td>3</td>\n",
       "      <td>1</td>\n",
       "      <td>3</td>\n",
       "      <td>Heikkinen, Miss. Laina</td>\n",
       "      <td>female</td>\n",
       "      <td>26.0</td>\n",
       "      <td>0</td>\n",
       "      <td>0</td>\n",
       "      <td>STON/O2. 3101282</td>\n",
       "      <td>7.9250</td>\n",
       "      <td>NaN</td>\n",
       "      <td>S</td>\n",
       "    </tr>\n",
       "    <tr>\n",
       "      <th>3</th>\n",
       "      <td>4</td>\n",
       "      <td>1</td>\n",
       "      <td>1</td>\n",
       "      <td>Futrelle, Mrs. Jacques Heath (Lily May Peel)</td>\n",
       "      <td>female</td>\n",
       "      <td>35.0</td>\n",
       "      <td>1</td>\n",
       "      <td>0</td>\n",
       "      <td>113803</td>\n",
       "      <td>53.1000</td>\n",
       "      <td>C123</td>\n",
       "      <td>S</td>\n",
       "    </tr>\n",
       "    <tr>\n",
       "      <th>4</th>\n",
       "      <td>5</td>\n",
       "      <td>0</td>\n",
       "      <td>3</td>\n",
       "      <td>Allen, Mr. William Henry</td>\n",
       "      <td>male</td>\n",
       "      <td>35.0</td>\n",
       "      <td>0</td>\n",
       "      <td>0</td>\n",
       "      <td>373450</td>\n",
       "      <td>8.0500</td>\n",
       "      <td>NaN</td>\n",
       "      <td>S</td>\n",
       "    </tr>\n",
       "    <tr>\n",
       "      <th>5</th>\n",
       "      <td>6</td>\n",
       "      <td>0</td>\n",
       "      <td>3</td>\n",
       "      <td>Moran, Mr. James</td>\n",
       "      <td>male</td>\n",
       "      <td>NaN</td>\n",
       "      <td>0</td>\n",
       "      <td>0</td>\n",
       "      <td>330877</td>\n",
       "      <td>8.4583</td>\n",
       "      <td>NaN</td>\n",
       "      <td>Q</td>\n",
       "    </tr>\n",
       "    <tr>\n",
       "      <th>6</th>\n",
       "      <td>7</td>\n",
       "      <td>0</td>\n",
       "      <td>1</td>\n",
       "      <td>McCarthy, Mr. Timothy J</td>\n",
       "      <td>male</td>\n",
       "      <td>54.0</td>\n",
       "      <td>0</td>\n",
       "      <td>0</td>\n",
       "      <td>17463</td>\n",
       "      <td>51.8625</td>\n",
       "      <td>E46</td>\n",
       "      <td>S</td>\n",
       "    </tr>\n",
       "    <tr>\n",
       "      <th>7</th>\n",
       "      <td>8</td>\n",
       "      <td>0</td>\n",
       "      <td>3</td>\n",
       "      <td>Palsson, Master. Gosta Leonard</td>\n",
       "      <td>male</td>\n",
       "      <td>2.0</td>\n",
       "      <td>3</td>\n",
       "      <td>1</td>\n",
       "      <td>349909</td>\n",
       "      <td>21.0750</td>\n",
       "      <td>NaN</td>\n",
       "      <td>S</td>\n",
       "    </tr>\n",
       "    <tr>\n",
       "      <th>8</th>\n",
       "      <td>9</td>\n",
       "      <td>1</td>\n",
       "      <td>3</td>\n",
       "      <td>Johnson, Mrs. Oscar W (Elisabeth Vilhelmina Berg)</td>\n",
       "      <td>female</td>\n",
       "      <td>27.0</td>\n",
       "      <td>0</td>\n",
       "      <td>2</td>\n",
       "      <td>347742</td>\n",
       "      <td>11.1333</td>\n",
       "      <td>NaN</td>\n",
       "      <td>S</td>\n",
       "    </tr>\n",
       "    <tr>\n",
       "      <th>9</th>\n",
       "      <td>10</td>\n",
       "      <td>1</td>\n",
       "      <td>2</td>\n",
       "      <td>Nasser, Mrs. Nicholas (Adele Achem)</td>\n",
       "      <td>female</td>\n",
       "      <td>14.0</td>\n",
       "      <td>1</td>\n",
       "      <td>0</td>\n",
       "      <td>237736</td>\n",
       "      <td>30.0708</td>\n",
       "      <td>NaN</td>\n",
       "      <td>C</td>\n",
       "    </tr>\n",
       "    <tr>\n",
       "      <th>10</th>\n",
       "      <td>11</td>\n",
       "      <td>1</td>\n",
       "      <td>3</td>\n",
       "      <td>Sandstrom, Miss. Marguerite Rut</td>\n",
       "      <td>female</td>\n",
       "      <td>4.0</td>\n",
       "      <td>1</td>\n",
       "      <td>1</td>\n",
       "      <td>PP 9549</td>\n",
       "      <td>16.7000</td>\n",
       "      <td>G6</td>\n",
       "      <td>S</td>\n",
       "    </tr>\n",
       "    <tr>\n",
       "      <th>11</th>\n",
       "      <td>12</td>\n",
       "      <td>1</td>\n",
       "      <td>1</td>\n",
       "      <td>Bonnell, Miss. Elizabeth</td>\n",
       "      <td>female</td>\n",
       "      <td>58.0</td>\n",
       "      <td>0</td>\n",
       "      <td>0</td>\n",
       "      <td>113783</td>\n",
       "      <td>26.5500</td>\n",
       "      <td>C103</td>\n",
       "      <td>S</td>\n",
       "    </tr>\n",
       "    <tr>\n",
       "      <th>12</th>\n",
       "      <td>13</td>\n",
       "      <td>0</td>\n",
       "      <td>3</td>\n",
       "      <td>Saundercock, Mr. William Henry</td>\n",
       "      <td>male</td>\n",
       "      <td>20.0</td>\n",
       "      <td>0</td>\n",
       "      <td>0</td>\n",
       "      <td>A/5. 2151</td>\n",
       "      <td>8.0500</td>\n",
       "      <td>NaN</td>\n",
       "      <td>S</td>\n",
       "    </tr>\n",
       "    <tr>\n",
       "      <th>13</th>\n",
       "      <td>14</td>\n",
       "      <td>0</td>\n",
       "      <td>3</td>\n",
       "      <td>Andersson, Mr. Anders Johan</td>\n",
       "      <td>male</td>\n",
       "      <td>39.0</td>\n",
       "      <td>1</td>\n",
       "      <td>5</td>\n",
       "      <td>347082</td>\n",
       "      <td>31.2750</td>\n",
       "      <td>NaN</td>\n",
       "      <td>S</td>\n",
       "    </tr>\n",
       "    <tr>\n",
       "      <th>14</th>\n",
       "      <td>15</td>\n",
       "      <td>0</td>\n",
       "      <td>3</td>\n",
       "      <td>Vestrom, Miss. Hulda Amanda Adolfina</td>\n",
       "      <td>female</td>\n",
       "      <td>14.0</td>\n",
       "      <td>0</td>\n",
       "      <td>0</td>\n",
       "      <td>350406</td>\n",
       "      <td>7.8542</td>\n",
       "      <td>NaN</td>\n",
       "      <td>S</td>\n",
       "    </tr>\n",
       "    <tr>\n",
       "      <th>15</th>\n",
       "      <td>16</td>\n",
       "      <td>1</td>\n",
       "      <td>2</td>\n",
       "      <td>Hewlett, Mrs. (Mary D Kingcome)</td>\n",
       "      <td>female</td>\n",
       "      <td>55.0</td>\n",
       "      <td>0</td>\n",
       "      <td>0</td>\n",
       "      <td>248706</td>\n",
       "      <td>16.0000</td>\n",
       "      <td>NaN</td>\n",
       "      <td>S</td>\n",
       "    </tr>\n",
       "    <tr>\n",
       "      <th>16</th>\n",
       "      <td>17</td>\n",
       "      <td>0</td>\n",
       "      <td>3</td>\n",
       "      <td>Rice, Master. Eugene</td>\n",
       "      <td>male</td>\n",
       "      <td>2.0</td>\n",
       "      <td>4</td>\n",
       "      <td>1</td>\n",
       "      <td>382652</td>\n",
       "      <td>29.1250</td>\n",
       "      <td>NaN</td>\n",
       "      <td>Q</td>\n",
       "    </tr>\n",
       "    <tr>\n",
       "      <th>17</th>\n",
       "      <td>18</td>\n",
       "      <td>1</td>\n",
       "      <td>2</td>\n",
       "      <td>Williams, Mr. Charles Eugene</td>\n",
       "      <td>male</td>\n",
       "      <td>NaN</td>\n",
       "      <td>0</td>\n",
       "      <td>0</td>\n",
       "      <td>244373</td>\n",
       "      <td>13.0000</td>\n",
       "      <td>NaN</td>\n",
       "      <td>S</td>\n",
       "    </tr>\n",
       "    <tr>\n",
       "      <th>18</th>\n",
       "      <td>19</td>\n",
       "      <td>0</td>\n",
       "      <td>3</td>\n",
       "      <td>Vander Planke, Mrs. Julius (Emelia Maria Vande...</td>\n",
       "      <td>female</td>\n",
       "      <td>31.0</td>\n",
       "      <td>1</td>\n",
       "      <td>0</td>\n",
       "      <td>345763</td>\n",
       "      <td>18.0000</td>\n",
       "      <td>NaN</td>\n",
       "      <td>S</td>\n",
       "    </tr>\n",
       "    <tr>\n",
       "      <th>19</th>\n",
       "      <td>20</td>\n",
       "      <td>1</td>\n",
       "      <td>3</td>\n",
       "      <td>Masselmani, Mrs. Fatima</td>\n",
       "      <td>female</td>\n",
       "      <td>NaN</td>\n",
       "      <td>0</td>\n",
       "      <td>0</td>\n",
       "      <td>2649</td>\n",
       "      <td>7.2250</td>\n",
       "      <td>NaN</td>\n",
       "      <td>C</td>\n",
       "    </tr>\n",
       "    <tr>\n",
       "      <th>20</th>\n",
       "      <td>21</td>\n",
       "      <td>0</td>\n",
       "      <td>2</td>\n",
       "      <td>Fynney, Mr. Joseph J</td>\n",
       "      <td>male</td>\n",
       "      <td>35.0</td>\n",
       "      <td>0</td>\n",
       "      <td>0</td>\n",
       "      <td>239865</td>\n",
       "      <td>26.0000</td>\n",
       "      <td>NaN</td>\n",
       "      <td>S</td>\n",
       "    </tr>\n",
       "    <tr>\n",
       "      <th>21</th>\n",
       "      <td>22</td>\n",
       "      <td>1</td>\n",
       "      <td>2</td>\n",
       "      <td>Beesley, Mr. Lawrence</td>\n",
       "      <td>male</td>\n",
       "      <td>34.0</td>\n",
       "      <td>0</td>\n",
       "      <td>0</td>\n",
       "      <td>248698</td>\n",
       "      <td>13.0000</td>\n",
       "      <td>D56</td>\n",
       "      <td>S</td>\n",
       "    </tr>\n",
       "    <tr>\n",
       "      <th>22</th>\n",
       "      <td>23</td>\n",
       "      <td>1</td>\n",
       "      <td>3</td>\n",
       "      <td>McGowan, Miss. Anna \"Annie\"</td>\n",
       "      <td>female</td>\n",
       "      <td>15.0</td>\n",
       "      <td>0</td>\n",
       "      <td>0</td>\n",
       "      <td>330923</td>\n",
       "      <td>8.0292</td>\n",
       "      <td>NaN</td>\n",
       "      <td>Q</td>\n",
       "    </tr>\n",
       "    <tr>\n",
       "      <th>23</th>\n",
       "      <td>24</td>\n",
       "      <td>1</td>\n",
       "      <td>1</td>\n",
       "      <td>Sloper, Mr. William Thompson</td>\n",
       "      <td>male</td>\n",
       "      <td>28.0</td>\n",
       "      <td>0</td>\n",
       "      <td>0</td>\n",
       "      <td>113788</td>\n",
       "      <td>35.5000</td>\n",
       "      <td>A6</td>\n",
       "      <td>S</td>\n",
       "    </tr>\n",
       "    <tr>\n",
       "      <th>24</th>\n",
       "      <td>25</td>\n",
       "      <td>0</td>\n",
       "      <td>3</td>\n",
       "      <td>Palsson, Miss. Torborg Danira</td>\n",
       "      <td>female</td>\n",
       "      <td>8.0</td>\n",
       "      <td>3</td>\n",
       "      <td>1</td>\n",
       "      <td>349909</td>\n",
       "      <td>21.0750</td>\n",
       "      <td>NaN</td>\n",
       "      <td>S</td>\n",
       "    </tr>\n",
       "    <tr>\n",
       "      <th>25</th>\n",
       "      <td>26</td>\n",
       "      <td>1</td>\n",
       "      <td>3</td>\n",
       "      <td>Asplund, Mrs. Carl Oscar (Selma Augusta Emilia...</td>\n",
       "      <td>female</td>\n",
       "      <td>38.0</td>\n",
       "      <td>1</td>\n",
       "      <td>5</td>\n",
       "      <td>347077</td>\n",
       "      <td>31.3875</td>\n",
       "      <td>NaN</td>\n",
       "      <td>S</td>\n",
       "    </tr>\n",
       "    <tr>\n",
       "      <th>26</th>\n",
       "      <td>27</td>\n",
       "      <td>0</td>\n",
       "      <td>3</td>\n",
       "      <td>Emir, Mr. Farred Chehab</td>\n",
       "      <td>male</td>\n",
       "      <td>NaN</td>\n",
       "      <td>0</td>\n",
       "      <td>0</td>\n",
       "      <td>2631</td>\n",
       "      <td>7.2250</td>\n",
       "      <td>NaN</td>\n",
       "      <td>C</td>\n",
       "    </tr>\n",
       "    <tr>\n",
       "      <th>27</th>\n",
       "      <td>28</td>\n",
       "      <td>0</td>\n",
       "      <td>1</td>\n",
       "      <td>Fortune, Mr. Charles Alexander</td>\n",
       "      <td>male</td>\n",
       "      <td>19.0</td>\n",
       "      <td>3</td>\n",
       "      <td>2</td>\n",
       "      <td>19950</td>\n",
       "      <td>263.0000</td>\n",
       "      <td>C23 C25 C27</td>\n",
       "      <td>S</td>\n",
       "    </tr>\n",
       "    <tr>\n",
       "      <th>28</th>\n",
       "      <td>29</td>\n",
       "      <td>1</td>\n",
       "      <td>3</td>\n",
       "      <td>O'Dwyer, Miss. Ellen \"Nellie\"</td>\n",
       "      <td>female</td>\n",
       "      <td>NaN</td>\n",
       "      <td>0</td>\n",
       "      <td>0</td>\n",
       "      <td>330959</td>\n",
       "      <td>7.8792</td>\n",
       "      <td>NaN</td>\n",
       "      <td>Q</td>\n",
       "    </tr>\n",
       "    <tr>\n",
       "      <th>29</th>\n",
       "      <td>30</td>\n",
       "      <td>0</td>\n",
       "      <td>3</td>\n",
       "      <td>Todoroff, Mr. Lalio</td>\n",
       "      <td>male</td>\n",
       "      <td>NaN</td>\n",
       "      <td>0</td>\n",
       "      <td>0</td>\n",
       "      <td>349216</td>\n",
       "      <td>7.8958</td>\n",
       "      <td>NaN</td>\n",
       "      <td>S</td>\n",
       "    </tr>\n",
       "  </tbody>\n",
       "</table>\n",
       "</div>"
      ],
      "text/plain": [
       "    PassengerId  Survived  Pclass  \\\n",
       "0             1         0       3   \n",
       "1             2         1       1   \n",
       "2             3         1       3   \n",
       "3             4         1       1   \n",
       "4             5         0       3   \n",
       "5             6         0       3   \n",
       "6             7         0       1   \n",
       "7             8         0       3   \n",
       "8             9         1       3   \n",
       "9            10         1       2   \n",
       "10           11         1       3   \n",
       "11           12         1       1   \n",
       "12           13         0       3   \n",
       "13           14         0       3   \n",
       "14           15         0       3   \n",
       "15           16         1       2   \n",
       "16           17         0       3   \n",
       "17           18         1       2   \n",
       "18           19         0       3   \n",
       "19           20         1       3   \n",
       "20           21         0       2   \n",
       "21           22         1       2   \n",
       "22           23         1       3   \n",
       "23           24         1       1   \n",
       "24           25         0       3   \n",
       "25           26         1       3   \n",
       "26           27         0       3   \n",
       "27           28         0       1   \n",
       "28           29         1       3   \n",
       "29           30         0       3   \n",
       "\n",
       "                                                 Name     Sex   Age  SibSp  \\\n",
       "0                             Braund, Mr. Owen Harris    male  22.0      1   \n",
       "1   Cumings, Mrs. John Bradley (Florence Briggs Th...  female  38.0      1   \n",
       "2                              Heikkinen, Miss. Laina  female  26.0      0   \n",
       "3        Futrelle, Mrs. Jacques Heath (Lily May Peel)  female  35.0      1   \n",
       "4                            Allen, Mr. William Henry    male  35.0      0   \n",
       "5                                    Moran, Mr. James    male   NaN      0   \n",
       "6                             McCarthy, Mr. Timothy J    male  54.0      0   \n",
       "7                      Palsson, Master. Gosta Leonard    male   2.0      3   \n",
       "8   Johnson, Mrs. Oscar W (Elisabeth Vilhelmina Berg)  female  27.0      0   \n",
       "9                 Nasser, Mrs. Nicholas (Adele Achem)  female  14.0      1   \n",
       "10                    Sandstrom, Miss. Marguerite Rut  female   4.0      1   \n",
       "11                           Bonnell, Miss. Elizabeth  female  58.0      0   \n",
       "12                     Saundercock, Mr. William Henry    male  20.0      0   \n",
       "13                        Andersson, Mr. Anders Johan    male  39.0      1   \n",
       "14               Vestrom, Miss. Hulda Amanda Adolfina  female  14.0      0   \n",
       "15                   Hewlett, Mrs. (Mary D Kingcome)   female  55.0      0   \n",
       "16                               Rice, Master. Eugene    male   2.0      4   \n",
       "17                       Williams, Mr. Charles Eugene    male   NaN      0   \n",
       "18  Vander Planke, Mrs. Julius (Emelia Maria Vande...  female  31.0      1   \n",
       "19                            Masselmani, Mrs. Fatima  female   NaN      0   \n",
       "20                               Fynney, Mr. Joseph J    male  35.0      0   \n",
       "21                              Beesley, Mr. Lawrence    male  34.0      0   \n",
       "22                        McGowan, Miss. Anna \"Annie\"  female  15.0      0   \n",
       "23                       Sloper, Mr. William Thompson    male  28.0      0   \n",
       "24                      Palsson, Miss. Torborg Danira  female   8.0      3   \n",
       "25  Asplund, Mrs. Carl Oscar (Selma Augusta Emilia...  female  38.0      1   \n",
       "26                            Emir, Mr. Farred Chehab    male   NaN      0   \n",
       "27                     Fortune, Mr. Charles Alexander    male  19.0      3   \n",
       "28                      O'Dwyer, Miss. Ellen \"Nellie\"  female   NaN      0   \n",
       "29                                Todoroff, Mr. Lalio    male   NaN      0   \n",
       "\n",
       "    Parch            Ticket      Fare        Cabin Embarked  \n",
       "0       0         A/5 21171    7.2500          NaN        S  \n",
       "1       0          PC 17599   71.2833          C85        C  \n",
       "2       0  STON/O2. 3101282    7.9250          NaN        S  \n",
       "3       0            113803   53.1000         C123        S  \n",
       "4       0            373450    8.0500          NaN        S  \n",
       "5       0            330877    8.4583          NaN        Q  \n",
       "6       0             17463   51.8625          E46        S  \n",
       "7       1            349909   21.0750          NaN        S  \n",
       "8       2            347742   11.1333          NaN        S  \n",
       "9       0            237736   30.0708          NaN        C  \n",
       "10      1           PP 9549   16.7000           G6        S  \n",
       "11      0            113783   26.5500         C103        S  \n",
       "12      0         A/5. 2151    8.0500          NaN        S  \n",
       "13      5            347082   31.2750          NaN        S  \n",
       "14      0            350406    7.8542          NaN        S  \n",
       "15      0            248706   16.0000          NaN        S  \n",
       "16      1            382652   29.1250          NaN        Q  \n",
       "17      0            244373   13.0000          NaN        S  \n",
       "18      0            345763   18.0000          NaN        S  \n",
       "19      0              2649    7.2250          NaN        C  \n",
       "20      0            239865   26.0000          NaN        S  \n",
       "21      0            248698   13.0000          D56        S  \n",
       "22      0            330923    8.0292          NaN        Q  \n",
       "23      0            113788   35.5000           A6        S  \n",
       "24      1            349909   21.0750          NaN        S  \n",
       "25      5            347077   31.3875          NaN        S  \n",
       "26      0              2631    7.2250          NaN        C  \n",
       "27      2             19950  263.0000  C23 C25 C27        S  \n",
       "28      0            330959    7.8792          NaN        Q  \n",
       "29      0            349216    7.8958          NaN        S  "
      ]
     },
     "execution_count": 4,
     "metadata": {},
     "output_type": "execute_result"
    }
   ],
   "source": [
    "train_data.head(30)"
   ]
  },
  {
   "cell_type": "code",
   "execution_count": 5,
   "id": "9607129a",
   "metadata": {
    "execution": {
     "iopub.execute_input": "2023-10-08T11:51:16.737207Z",
     "iopub.status.busy": "2023-10-08T11:51:16.736820Z",
     "iopub.status.idle": "2023-10-08T11:51:16.744204Z",
     "shell.execute_reply": "2023-10-08T11:51:16.743195Z"
    },
    "papermill": {
     "duration": 0.023791,
     "end_time": "2023-10-08T11:51:16.746200",
     "exception": false,
     "start_time": "2023-10-08T11:51:16.722409",
     "status": "completed"
    },
    "tags": []
   },
   "outputs": [],
   "source": [
    "train_data['Pclass'] = train_data['Pclass'].astype('object')"
   ]
  },
  {
   "cell_type": "code",
   "execution_count": 6,
   "id": "841c4019",
   "metadata": {
    "execution": {
     "iopub.execute_input": "2023-10-08T11:51:16.774913Z",
     "iopub.status.busy": "2023-10-08T11:51:16.773845Z",
     "iopub.status.idle": "2023-10-08T11:51:16.779940Z",
     "shell.execute_reply": "2023-10-08T11:51:16.779236Z"
    },
    "papermill": {
     "duration": 0.023132,
     "end_time": "2023-10-08T11:51:16.782569",
     "exception": false,
     "start_time": "2023-10-08T11:51:16.759437",
     "status": "completed"
    },
    "tags": []
   },
   "outputs": [],
   "source": [
    "train_data['SibSp'] = train_data['SibSp'].astype('object')\n",
    "train_data['Parch'] = train_data['Parch'].astype('object')"
   ]
  },
  {
   "cell_type": "code",
   "execution_count": 7,
   "id": "be5f38f4",
   "metadata": {
    "execution": {
     "iopub.execute_input": "2023-10-08T11:51:16.811084Z",
     "iopub.status.busy": "2023-10-08T11:51:16.810405Z",
     "iopub.status.idle": "2023-10-08T11:51:16.829536Z",
     "shell.execute_reply": "2023-10-08T11:51:16.828197Z"
    },
    "papermill": {
     "duration": 0.035548,
     "end_time": "2023-10-08T11:51:16.831663",
     "exception": false,
     "start_time": "2023-10-08T11:51:16.796115",
     "status": "completed"
    },
    "tags": []
   },
   "outputs": [
    {
     "data": {
      "text/html": [
       "<div>\n",
       "<style scoped>\n",
       "    .dataframe tbody tr th:only-of-type {\n",
       "        vertical-align: middle;\n",
       "    }\n",
       "\n",
       "    .dataframe tbody tr th {\n",
       "        vertical-align: top;\n",
       "    }\n",
       "\n",
       "    .dataframe thead th {\n",
       "        text-align: right;\n",
       "    }\n",
       "</style>\n",
       "<table border=\"1\" class=\"dataframe\">\n",
       "  <thead>\n",
       "    <tr style=\"text-align: right;\">\n",
       "      <th></th>\n",
       "      <th>PassengerId</th>\n",
       "      <th>Survived</th>\n",
       "    </tr>\n",
       "  </thead>\n",
       "  <tbody>\n",
       "    <tr>\n",
       "      <th>0</th>\n",
       "      <td>892</td>\n",
       "      <td>0</td>\n",
       "    </tr>\n",
       "    <tr>\n",
       "      <th>1</th>\n",
       "      <td>893</td>\n",
       "      <td>1</td>\n",
       "    </tr>\n",
       "    <tr>\n",
       "      <th>2</th>\n",
       "      <td>894</td>\n",
       "      <td>0</td>\n",
       "    </tr>\n",
       "    <tr>\n",
       "      <th>3</th>\n",
       "      <td>895</td>\n",
       "      <td>0</td>\n",
       "    </tr>\n",
       "    <tr>\n",
       "      <th>4</th>\n",
       "      <td>896</td>\n",
       "      <td>1</td>\n",
       "    </tr>\n",
       "    <tr>\n",
       "      <th>...</th>\n",
       "      <td>...</td>\n",
       "      <td>...</td>\n",
       "    </tr>\n",
       "    <tr>\n",
       "      <th>413</th>\n",
       "      <td>1305</td>\n",
       "      <td>0</td>\n",
       "    </tr>\n",
       "    <tr>\n",
       "      <th>414</th>\n",
       "      <td>1306</td>\n",
       "      <td>1</td>\n",
       "    </tr>\n",
       "    <tr>\n",
       "      <th>415</th>\n",
       "      <td>1307</td>\n",
       "      <td>0</td>\n",
       "    </tr>\n",
       "    <tr>\n",
       "      <th>416</th>\n",
       "      <td>1308</td>\n",
       "      <td>0</td>\n",
       "    </tr>\n",
       "    <tr>\n",
       "      <th>417</th>\n",
       "      <td>1309</td>\n",
       "      <td>0</td>\n",
       "    </tr>\n",
       "  </tbody>\n",
       "</table>\n",
       "<p>418 rows × 2 columns</p>\n",
       "</div>"
      ],
      "text/plain": [
       "     PassengerId  Survived\n",
       "0            892         0\n",
       "1            893         1\n",
       "2            894         0\n",
       "3            895         0\n",
       "4            896         1\n",
       "..           ...       ...\n",
       "413         1305         0\n",
       "414         1306         1\n",
       "415         1307         0\n",
       "416         1308         0\n",
       "417         1309         0\n",
       "\n",
       "[418 rows x 2 columns]"
      ]
     },
     "execution_count": 7,
     "metadata": {},
     "output_type": "execute_result"
    }
   ],
   "source": [
    "sample_submission = pd.read_csv('/kaggle/input/titanic/gender_submission.csv')\n",
    "sample_submission"
   ]
  },
  {
   "cell_type": "code",
   "execution_count": 8,
   "id": "dd1e3a0b",
   "metadata": {
    "execution": {
     "iopub.execute_input": "2023-10-08T11:51:16.860656Z",
     "iopub.status.busy": "2023-10-08T11:51:16.860273Z",
     "iopub.status.idle": "2023-10-08T11:51:16.889056Z",
     "shell.execute_reply": "2023-10-08T11:51:16.888260Z"
    },
    "papermill": {
     "duration": 0.045516,
     "end_time": "2023-10-08T11:51:16.891130",
     "exception": false,
     "start_time": "2023-10-08T11:51:16.845614",
     "status": "completed"
    },
    "tags": []
   },
   "outputs": [
    {
     "name": "stdout",
     "output_type": "stream",
     "text": [
      "<class 'pandas.core.frame.DataFrame'>\n",
      "RangeIndex: 891 entries, 0 to 890\n",
      "Data columns (total 12 columns):\n",
      " #   Column       Non-Null Count  Dtype  \n",
      "---  ------       --------------  -----  \n",
      " 0   PassengerId  891 non-null    int64  \n",
      " 1   Survived     891 non-null    int64  \n",
      " 2   Pclass       891 non-null    object \n",
      " 3   Name         891 non-null    object \n",
      " 4   Sex          891 non-null    object \n",
      " 5   Age          714 non-null    float64\n",
      " 6   SibSp        891 non-null    object \n",
      " 7   Parch        891 non-null    object \n",
      " 8   Ticket       891 non-null    object \n",
      " 9   Fare         891 non-null    float64\n",
      " 10  Cabin        204 non-null    object \n",
      " 11  Embarked     889 non-null    object \n",
      "dtypes: float64(2), int64(2), object(8)\n",
      "memory usage: 83.7+ KB\n"
     ]
    }
   ],
   "source": [
    "train_data.info()"
   ]
  },
  {
   "cell_type": "code",
   "execution_count": 9,
   "id": "6650a8ef",
   "metadata": {
    "execution": {
     "iopub.execute_input": "2023-10-08T11:51:16.920101Z",
     "iopub.status.busy": "2023-10-08T11:51:16.919724Z",
     "iopub.status.idle": "2023-10-08T11:51:16.925615Z",
     "shell.execute_reply": "2023-10-08T11:51:16.924553Z"
    },
    "papermill": {
     "duration": 0.022603,
     "end_time": "2023-10-08T11:51:16.927504",
     "exception": false,
     "start_time": "2023-10-08T11:51:16.904901",
     "status": "completed"
    },
    "tags": []
   },
   "outputs": [],
   "source": [
    "train_data['Cabin'].fillna('NoInformation', inplace=True)\n",
    "test_data['Cabin'].fillna('NoInformation', inplace=True)"
   ]
  },
  {
   "cell_type": "code",
   "execution_count": 10,
   "id": "43b8628d",
   "metadata": {
    "execution": {
     "iopub.execute_input": "2023-10-08T11:51:16.956584Z",
     "iopub.status.busy": "2023-10-08T11:51:16.955804Z",
     "iopub.status.idle": "2023-10-08T11:51:16.964015Z",
     "shell.execute_reply": "2023-10-08T11:51:16.962806Z"
    },
    "papermill": {
     "duration": 0.0251,
     "end_time": "2023-10-08T11:51:16.965954",
     "exception": false,
     "start_time": "2023-10-08T11:51:16.940854",
     "status": "completed"
    },
    "tags": []
   },
   "outputs": [
    {
     "name": "stdout",
     "output_type": "stream",
     "text": [
      "PassengerId      0\n",
      "Survived         0\n",
      "Pclass           0\n",
      "Name             0\n",
      "Sex              0\n",
      "Age            177\n",
      "SibSp            0\n",
      "Parch            0\n",
      "Ticket           0\n",
      "Fare             0\n",
      "Cabin            0\n",
      "Embarked         2\n",
      "dtype: int64\n"
     ]
    }
   ],
   "source": [
    "nan_count_per_row = train_data.isna().sum(axis=0)\n",
    "print(nan_count_per_row)"
   ]
  },
  {
   "cell_type": "code",
   "execution_count": 11,
   "id": "221562d5",
   "metadata": {
    "execution": {
     "iopub.execute_input": "2023-10-08T11:51:17.056306Z",
     "iopub.status.busy": "2023-10-08T11:51:17.055695Z",
     "iopub.status.idle": "2023-10-08T11:51:17.062122Z",
     "shell.execute_reply": "2023-10-08T11:51:17.060903Z"
    },
    "papermill": {
     "duration": 0.084171,
     "end_time": "2023-10-08T11:51:17.063926",
     "exception": false,
     "start_time": "2023-10-08T11:51:16.979755",
     "status": "completed"
    },
    "tags": []
   },
   "outputs": [
    {
     "name": "stdout",
     "output_type": "stream",
     "text": [
      "PassengerId     0\n",
      "Pclass          0\n",
      "Name            0\n",
      "Sex             0\n",
      "Age            86\n",
      "SibSp           0\n",
      "Parch           0\n",
      "Ticket          0\n",
      "Fare            1\n",
      "Cabin           0\n",
      "Embarked        0\n",
      "dtype: int64\n"
     ]
    }
   ],
   "source": [
    "nan_count_per_row = test_data.isna().sum(axis=0)\n",
    "print(nan_count_per_row)"
   ]
  },
  {
   "cell_type": "code",
   "execution_count": 12,
   "id": "68f38cc9",
   "metadata": {
    "execution": {
     "iopub.execute_input": "2023-10-08T11:51:17.093659Z",
     "iopub.status.busy": "2023-10-08T11:51:17.092985Z",
     "iopub.status.idle": "2023-10-08T11:51:17.349130Z",
     "shell.execute_reply": "2023-10-08T11:51:17.348386Z"
    },
    "papermill": {
     "duration": 0.273545,
     "end_time": "2023-10-08T11:51:17.351354",
     "exception": false,
     "start_time": "2023-10-08T11:51:17.077809",
     "status": "completed"
    },
    "tags": []
   },
   "outputs": [],
   "source": [
    "from sklearn.impute import SimpleImputer\n",
    "\n",
    "numerical_imputer = SimpleImputer(strategy='mean')\n",
    "numerical_columns = ['Age','Fare']\n",
    "train_data[numerical_columns] = numerical_imputer.fit_transform(train_data[numerical_columns])\n",
    "\n",
    "categorical_imputer = SimpleImputer(strategy='most_frequent')\n",
    "categorical_columns = ['Embarked']\n",
    "train_data[categorical_columns] = categorical_imputer.fit_transform(train_data[categorical_columns])\n",
    "\n",
    "\n",
    "numerical_imputer = SimpleImputer(strategy='mean')\n",
    "numerical_columns = ['Age','Fare']\n",
    "test_data[numerical_columns] = numerical_imputer.fit_transform(test_data[numerical_columns])\n",
    "\n",
    "categorical_imputer = SimpleImputer(strategy='most_frequent')\n",
    "categorical_columns = ['Embarked']\n",
    "test_data[categorical_columns] = categorical_imputer.fit_transform(test_data[categorical_columns])"
   ]
  },
  {
   "cell_type": "code",
   "execution_count": 13,
   "id": "33d6ea87",
   "metadata": {
    "execution": {
     "iopub.execute_input": "2023-10-08T11:51:17.380902Z",
     "iopub.status.busy": "2023-10-08T11:51:17.380510Z",
     "iopub.status.idle": "2023-10-08T11:51:17.386949Z",
     "shell.execute_reply": "2023-10-08T11:51:17.385973Z"
    },
    "papermill": {
     "duration": 0.023483,
     "end_time": "2023-10-08T11:51:17.388931",
     "exception": false,
     "start_time": "2023-10-08T11:51:17.365448",
     "status": "completed"
    },
    "tags": []
   },
   "outputs": [
    {
     "name": "stdout",
     "output_type": "stream",
     "text": [
      "PassengerId    0\n",
      "Survived       0\n",
      "Pclass         0\n",
      "Name           0\n",
      "Sex            0\n",
      "Age            0\n",
      "SibSp          0\n",
      "Parch          0\n",
      "Ticket         0\n",
      "Fare           0\n",
      "Cabin          0\n",
      "Embarked       0\n",
      "dtype: int64\n"
     ]
    }
   ],
   "source": [
    "nan_count_per_row = train_data.isna().sum(axis=0)\n",
    "print(nan_count_per_row)"
   ]
  },
  {
   "cell_type": "code",
   "execution_count": 14,
   "id": "73fc6cd1",
   "metadata": {
    "execution": {
     "iopub.execute_input": "2023-10-08T11:51:17.418110Z",
     "iopub.status.busy": "2023-10-08T11:51:17.417697Z",
     "iopub.status.idle": "2023-10-08T11:51:17.424752Z",
     "shell.execute_reply": "2023-10-08T11:51:17.423684Z"
    },
    "papermill": {
     "duration": 0.024187,
     "end_time": "2023-10-08T11:51:17.426879",
     "exception": false,
     "start_time": "2023-10-08T11:51:17.402692",
     "status": "completed"
    },
    "tags": []
   },
   "outputs": [
    {
     "name": "stdout",
     "output_type": "stream",
     "text": [
      "PassengerId    0\n",
      "Pclass         0\n",
      "Name           0\n",
      "Sex            0\n",
      "Age            0\n",
      "SibSp          0\n",
      "Parch          0\n",
      "Ticket         0\n",
      "Fare           0\n",
      "Cabin          0\n",
      "Embarked       0\n",
      "dtype: int64\n"
     ]
    }
   ],
   "source": [
    "nan_count_per_row = test_data.isna().sum(axis=0)\n",
    "print(nan_count_per_row)"
   ]
  },
  {
   "cell_type": "code",
   "execution_count": 15,
   "id": "13fcfa69",
   "metadata": {
    "execution": {
     "iopub.execute_input": "2023-10-08T11:51:17.456503Z",
     "iopub.status.busy": "2023-10-08T11:51:17.456096Z",
     "iopub.status.idle": "2023-10-08T11:51:17.781507Z",
     "shell.execute_reply": "2023-10-08T11:51:17.780466Z"
    },
    "papermill": {
     "duration": 0.342634,
     "end_time": "2023-10-08T11:51:17.783606",
     "exception": false,
     "start_time": "2023-10-08T11:51:17.440972",
     "status": "completed"
    },
    "tags": []
   },
   "outputs": [
    {
     "data": {
      "text/plain": [
       "<Axes: >"
      ]
     },
     "execution_count": 15,
     "metadata": {},
     "output_type": "execute_result"
    },
    {
     "data": {
      "image/png": "[encoded data removed]",
      "text/plain": [
       "<Figure size 640x480 with 1 Axes>"
      ]
     },
     "metadata": {},
     "output_type": "display_data"
    }
   ],
   "source": [
    "train_data.Age.hist()"
   ]
  },
  {
   "cell_type": "code",
   "execution_count": 16,
   "id": "591dea23",
   "metadata": {
    "execution": {
     "iopub.execute_input": "2023-10-08T11:51:17.817123Z",
     "iopub.status.busy": "2023-10-08T11:51:17.816722Z",
     "iopub.status.idle": "2023-10-08T11:51:17.830162Z",
     "shell.execute_reply": "2023-10-08T11:51:17.829242Z"
    },
    "papermill": {
     "duration": 0.031728,
     "end_time": "2023-10-08T11:51:17.832430",
     "exception": false,
     "start_time": "2023-10-08T11:51:17.800702",
     "status": "completed"
    },
    "tags": []
   },
   "outputs": [],
   "source": [
    "age_bins = [-1, 12, 18, 25, 30, 50, 1.e+10]  # Границы интервалов\n",
    "age_labels = ['Age_0-12', 'Age_13-17', 'Age_18-25', 'Age_26-30', 'Age_31-50', 'Age_51+']\n",
    "train_data['Age_Group'] = pd.cut(train_data['Age'], bins=age_bins, labels=age_labels).astype('object')\n",
    "test_data['Age_Group'] = pd.cut(test_data['Age'], bins=age_bins, labels=age_labels).astype('object')"
   ]
  },
  {
   "cell_type": "code",
   "execution_count": 17,
   "id": "da1b099e",
   "metadata": {
    "execution": {
     "iopub.execute_input": "2023-10-08T11:51:17.862882Z",
     "iopub.status.busy": "2023-10-08T11:51:17.862463Z",
     "iopub.status.idle": "2023-10-08T11:51:17.871031Z",
     "shell.execute_reply": "2023-10-08T11:51:17.870235Z"
    },
    "papermill": {
     "duration": 0.026139,
     "end_time": "2023-10-08T11:51:17.873000",
     "exception": false,
     "start_time": "2023-10-08T11:51:17.846861",
     "status": "completed"
    },
    "tags": []
   },
   "outputs": [],
   "source": [
    "train_data = train_data.drop(['Name','Ticket'],axis=1)\n",
    "test_data = test_data.drop(['Name','Ticket'],axis=1)"
   ]
  },
  {
   "cell_type": "code",
   "execution_count": 18,
   "id": "fb79ff3a",
   "metadata": {
    "execution": {
     "iopub.execute_input": "2023-10-08T11:51:17.903835Z",
     "iopub.status.busy": "2023-10-08T11:51:17.902894Z",
     "iopub.status.idle": "2023-10-08T11:51:17.907371Z",
     "shell.execute_reply": "2023-10-08T11:51:17.906479Z"
    },
    "papermill": {
     "duration": 0.021835,
     "end_time": "2023-10-08T11:51:17.909315",
     "exception": false,
     "start_time": "2023-10-08T11:51:17.887480",
     "status": "completed"
    },
    "tags": []
   },
   "outputs": [],
   "source": [
    "val = 0.2"
   ]
  },
  {
   "cell_type": "code",
   "execution_count": 19,
   "id": "9c6d0d79",
   "metadata": {
    "execution": {
     "iopub.execute_input": "2023-10-08T11:51:17.947373Z",
     "iopub.status.busy": "2023-10-08T11:51:17.946271Z",
     "iopub.status.idle": "2023-10-08T11:51:17.952395Z",
     "shell.execute_reply": "2023-10-08T11:51:17.951291Z"
    },
    "papermill": {
     "duration": 0.026494,
     "end_time": "2023-10-08T11:51:17.954387",
     "exception": false,
     "start_time": "2023-10-08T11:51:17.927893",
     "status": "completed"
    },
    "tags": []
   },
   "outputs": [
    {
     "data": {
      "text/plain": [
       "891"
      ]
     },
     "execution_count": 19,
     "metadata": {},
     "output_type": "execute_result"
    }
   ],
   "source": [
    "len(train_data)"
   ]
  },
  {
   "cell_type": "code",
   "execution_count": 20,
   "id": "ace678ba",
   "metadata": {
    "execution": {
     "iopub.execute_input": "2023-10-08T11:51:17.997346Z",
     "iopub.status.busy": "2023-10-08T11:51:17.996448Z",
     "iopub.status.idle": "2023-10-08T11:51:18.004068Z",
     "shell.execute_reply": "2023-10-08T11:51:18.002947Z"
    },
    "papermill": {
     "duration": 0.028203,
     "end_time": "2023-10-08T11:51:18.006176",
     "exception": false,
     "start_time": "2023-10-08T11:51:17.977973",
     "status": "completed"
    },
    "tags": []
   },
   "outputs": [
    {
     "name": "stdout",
     "output_type": "stream",
     "text": [
      "549\n",
      "342\n"
     ]
    }
   ],
   "source": [
    "print(len(train_data[train_data.Survived == 0]))\n",
    "print(len(train_data[train_data.Survived == 1]))"
   ]
  },
  {
   "cell_type": "code",
   "execution_count": 21,
   "id": "3985db9e",
   "metadata": {
    "execution": {
     "iopub.execute_input": "2023-10-08T11:51:18.043867Z",
     "iopub.status.busy": "2023-10-08T11:51:18.043471Z",
     "iopub.status.idle": "2023-10-08T11:51:18.049431Z",
     "shell.execute_reply": "2023-10-08T11:51:18.048402Z"
    },
    "papermill": {
     "duration": 0.024684,
     "end_time": "2023-10-08T11:51:18.051554",
     "exception": false,
     "start_time": "2023-10-08T11:51:18.026870",
     "status": "completed"
    },
    "tags": []
   },
   "outputs": [],
   "source": [
    "train_data = train_data.drop('PassengerId',axis=1)\n",
    "# test_data = test_data.drop('PassengerId',axis=1)"
   ]
  },
  {
   "cell_type": "code",
   "execution_count": 22,
   "id": "67bfd4ae",
   "metadata": {
    "execution": {
     "iopub.execute_input": "2023-10-08T11:51:18.083473Z",
     "iopub.status.busy": "2023-10-08T11:51:18.083061Z",
     "iopub.status.idle": "2023-10-08T11:51:18.090382Z",
     "shell.execute_reply": "2023-10-08T11:51:18.089269Z"
    },
    "papermill": {
     "duration": 0.025733,
     "end_time": "2023-10-08T11:51:18.092388",
     "exception": false,
     "start_time": "2023-10-08T11:51:18.066655",
     "status": "completed"
    },
    "tags": []
   },
   "outputs": [],
   "source": [
    "def data_split(train_data, val):\n",
    "    len_survived = len(train_data[train_data.Survived == 1])\n",
    "    \n",
    "    survived_data = train_data[train_data.Survived == 1]\n",
    "    unsurvived_data = train_data[train_data.Survived == 0]\n",
    "\n",
    "\n",
    "    survived_train_size = int(len_survived*(1-val))\n",
    "    \n",
    "    survived_train_data = survived_data.sample(n=survived_train_size)\n",
    "    unsurvived_train_data = unsurvived_data.sample(n=survived_train_size)\n",
    "        \n",
    "    valid_data = train_data[~train_data.isin(pd.concat([survived_train_data, unsurvived_train_data],axis=0).to_dict(orient='list')).all(axis=1)]\n",
    "    return pd.concat([survived_train_data,unsurvived_train_data]).drop('Survived',axis=1), pd.concat([survived_train_data,unsurvived_train_data])['Survived'], valid_data.drop('Survived',axis=1),valid_data['Survived']"
   ]
  },
  {
   "cell_type": "code",
   "execution_count": 23,
   "id": "5476976f",
   "metadata": {
    "execution": {
     "iopub.execute_input": "2023-10-08T11:51:18.124242Z",
     "iopub.status.busy": "2023-10-08T11:51:18.123619Z",
     "iopub.status.idle": "2023-10-08T11:51:18.127142Z",
     "shell.execute_reply": "2023-10-08T11:51:18.126427Z"
    },
    "papermill": {
     "duration": 0.021285,
     "end_time": "2023-10-08T11:51:18.128971",
     "exception": false,
     "start_time": "2023-10-08T11:51:18.107686",
     "status": "completed"
    },
    "tags": []
   },
   "outputs": [],
   "source": [
    "# X_train, y_train, X_valid, y_valid = data_split(train_data, val)\n",
    "# print(len(X_train))\n",
    "# print(len(X_valid))\n",
    "# print(len(train_data))\n",
    "# # X_train=X_train.drop('PassengerId',axis=1)\n",
    "# # X_valid=X_valid.drop('PassengerId',axis=1)"
   ]
  },
  {
   "cell_type": "code",
   "execution_count": 24,
   "id": "2f0d394f",
   "metadata": {
    "execution": {
     "iopub.execute_input": "2023-10-08T11:51:18.160409Z",
     "iopub.status.busy": "2023-10-08T11:51:18.159798Z",
     "iopub.status.idle": "2023-10-08T11:51:18.168220Z",
     "shell.execute_reply": "2023-10-08T11:51:18.167340Z"
    },
    "papermill": {
     "duration": 0.026863,
     "end_time": "2023-10-08T11:51:18.170465",
     "exception": false,
     "start_time": "2023-10-08T11:51:18.143602",
     "status": "completed"
    },
    "tags": []
   },
   "outputs": [],
   "source": [
    "from sklearn.model_selection import train_test_split\n",
    "\n",
    "X, y = train_data.drop('Survived', axis=1), train_data['Survived']\n",
    "X_train, X_valid, y_train, y_valid = train_test_split(X, y, test_size=val, random_state=280309, stratify=y)"
   ]
  },
  {
   "cell_type": "code",
   "execution_count": 25,
   "id": "5a5dbecb",
   "metadata": {
    "execution": {
     "iopub.execute_input": "2023-10-08T11:51:18.202753Z",
     "iopub.status.busy": "2023-10-08T11:51:18.202141Z",
     "iopub.status.idle": "2023-10-08T11:51:18.208184Z",
     "shell.execute_reply": "2023-10-08T11:51:18.207500Z"
    },
    "papermill": {
     "duration": 0.024077,
     "end_time": "2023-10-08T11:51:18.210000",
     "exception": false,
     "start_time": "2023-10-08T11:51:18.185923",
     "status": "completed"
    },
    "tags": []
   },
   "outputs": [
    {
     "data": {
      "text/plain": [
       "['Age', 'Fare']"
      ]
     },
     "execution_count": 25,
     "metadata": {},
     "output_type": "execute_result"
    }
   ],
   "source": [
    "features_to_normalize = list(X_train.select_dtypes(include=['float64']).columns)\n",
    "features_to_normalize"
   ]
  },
  {
   "cell_type": "code",
   "execution_count": 26,
   "id": "556c22e8",
   "metadata": {
    "execution": {
     "iopub.execute_input": "2023-10-08T11:51:18.243885Z",
     "iopub.status.busy": "2023-10-08T11:51:18.243495Z",
     "iopub.status.idle": "2023-10-08T11:51:18.250247Z",
     "shell.execute_reply": "2023-10-08T11:51:18.249394Z"
    },
    "papermill": {
     "duration": 0.025825,
     "end_time": "2023-10-08T11:51:18.252470",
     "exception": false,
     "start_time": "2023-10-08T11:51:18.226645",
     "status": "completed"
    },
    "tags": []
   },
   "outputs": [
    {
     "data": {
      "text/plain": [
       "['Pclass', 'Sex', 'SibSp', 'Parch', 'Cabin', 'Embarked', 'Age_Group']"
      ]
     },
     "execution_count": 26,
     "metadata": {},
     "output_type": "execute_result"
    }
   ],
   "source": [
    "object_columns = list(X_train.select_dtypes(include=['object']).columns)\n",
    "object_columns"
   ]
  },
  {
   "cell_type": "code",
   "execution_count": 27,
   "id": "8a5fd838",
   "metadata": {
    "execution": {
     "iopub.execute_input": "2023-10-08T11:51:18.285146Z",
     "iopub.status.busy": "2023-10-08T11:51:18.284191Z",
     "iopub.status.idle": "2023-10-08T11:51:18.288641Z",
     "shell.execute_reply": "2023-10-08T11:51:18.287801Z"
    },
    "papermill": {
     "duration": 0.022549,
     "end_time": "2023-10-08T11:51:18.290536",
     "exception": false,
     "start_time": "2023-10-08T11:51:18.267987",
     "status": "completed"
    },
    "tags": []
   },
   "outputs": [],
   "source": [
    "# scaler = StandardScaler()\n",
    "# X_train[features_to_normalize] = scaler.fit_transform(X_train[features_to_normalize])\n",
    "# X_valid[features_to_normalize] = scaler.fit_transform(X_valid[features_to_normalize])\n",
    "# test_data[features_to_normalize] = scaler.fit_transform(test_data[features_to_normalize])"
   ]
  },
  {
   "cell_type": "code",
   "execution_count": 28,
   "id": "b75a3c71",
   "metadata": {
    "execution": {
     "iopub.execute_input": "2023-10-08T11:51:18.322951Z",
     "iopub.status.busy": "2023-10-08T11:51:18.322415Z",
     "iopub.status.idle": "2023-10-08T11:51:18.332701Z",
     "shell.execute_reply": "2023-10-08T11:51:18.331910Z"
    },
    "papermill": {
     "duration": 0.028747,
     "end_time": "2023-10-08T11:51:18.334584",
     "exception": false,
     "start_time": "2023-10-08T11:51:18.305837",
     "status": "completed"
    },
    "tags": []
   },
   "outputs": [],
   "source": [
    "for column in object_columns:\n",
    "    X_train[column] = X_train[column].astype(str)\n",
    "    \n",
    "for column in object_columns:\n",
    "    X_valid[column] = X_valid[column].astype(str)\n",
    "    \n",
    "for column in object_columns:\n",
    "    test_data[column] = test_data[column].astype(str)"
   ]
  },
  {
   "cell_type": "code",
   "execution_count": 29,
   "id": "93c1b27b",
   "metadata": {
    "execution": {
     "iopub.execute_input": "2023-10-08T11:51:18.366204Z",
     "iopub.status.busy": "2023-10-08T11:51:18.365677Z",
     "iopub.status.idle": "2023-10-08T11:51:18.381698Z",
     "shell.execute_reply": "2023-10-08T11:51:18.380505Z"
    },
    "papermill": {
     "duration": 0.034451,
     "end_time": "2023-10-08T11:51:18.383885",
     "exception": false,
     "start_time": "2023-10-08T11:51:18.349434",
     "status": "completed"
    },
    "tags": []
   },
   "outputs": [],
   "source": [
    "from sklearn.preprocessing import LabelEncoder\n",
    "\n",
    "label_encoders = {}\n",
    "for column in X_train.select_dtypes(include=['object']).columns:\n",
    "    label_encoders[column] = LabelEncoder()\n",
    "    X_train[column] = label_encoders[column].fit_transform(X_train[column])\n",
    "    \n",
    "label_encoders = {}\n",
    "for column in X_valid.select_dtypes(include=['object']).columns:\n",
    "    label_encoders[column] = LabelEncoder()\n",
    "    X_valid[column] = label_encoders[column].fit_transform(X_valid[column])\n",
    "\n",
    "for column in test_data.drop('PassengerId',axis=1).select_dtypes(include=['object']).columns:\n",
    "    label_encoders[column] = LabelEncoder()\n",
    "    test_data[column] = label_encoders[column].fit_transform(test_data[column])"
   ]
  },
  {
   "cell_type": "code",
   "execution_count": 30,
   "id": "b3dd2a16",
   "metadata": {
    "execution": {
     "iopub.execute_input": "2023-10-08T11:51:18.416940Z",
     "iopub.status.busy": "2023-10-08T11:51:18.416369Z",
     "iopub.status.idle": "2023-10-08T11:51:18.432535Z",
     "shell.execute_reply": "2023-10-08T11:51:18.431609Z"
    },
    "papermill": {
     "duration": 0.034422,
     "end_time": "2023-10-08T11:51:18.434527",
     "exception": false,
     "start_time": "2023-10-08T11:51:18.400105",
     "status": "completed"
    },
    "tags": []
   },
   "outputs": [
    {
     "data": {
      "text/html": [
       "<div>\n",
       "<style scoped>\n",
       "    .dataframe tbody tr th:only-of-type {\n",
       "        vertical-align: middle;\n",
       "    }\n",
       "\n",
       "    .dataframe tbody tr th {\n",
       "        vertical-align: top;\n",
       "    }\n",
       "\n",
       "    .dataframe thead th {\n",
       "        text-align: right;\n",
       "    }\n",
       "</style>\n",
       "<table border=\"1\" class=\"dataframe\">\n",
       "  <thead>\n",
       "    <tr style=\"text-align: right;\">\n",
       "      <th></th>\n",
       "      <th>PassengerId</th>\n",
       "      <th>Pclass</th>\n",
       "      <th>Sex</th>\n",
       "      <th>Age</th>\n",
       "      <th>SibSp</th>\n",
       "      <th>Parch</th>\n",
       "      <th>Fare</th>\n",
       "      <th>Cabin</th>\n",
       "      <th>Embarked</th>\n",
       "      <th>Age_Group</th>\n",
       "    </tr>\n",
       "  </thead>\n",
       "  <tbody>\n",
       "    <tr>\n",
       "      <th>0</th>\n",
       "      <td>892</td>\n",
       "      <td>2</td>\n",
       "      <td>1</td>\n",
       "      <td>34.50000</td>\n",
       "      <td>0</td>\n",
       "      <td>0</td>\n",
       "      <td>7.8292</td>\n",
       "      <td>76</td>\n",
       "      <td>1</td>\n",
       "      <td>4</td>\n",
       "    </tr>\n",
       "    <tr>\n",
       "      <th>1</th>\n",
       "      <td>893</td>\n",
       "      <td>2</td>\n",
       "      <td>0</td>\n",
       "      <td>47.00000</td>\n",
       "      <td>1</td>\n",
       "      <td>0</td>\n",
       "      <td>7.0000</td>\n",
       "      <td>76</td>\n",
       "      <td>2</td>\n",
       "      <td>4</td>\n",
       "    </tr>\n",
       "    <tr>\n",
       "      <th>2</th>\n",
       "      <td>894</td>\n",
       "      <td>1</td>\n",
       "      <td>1</td>\n",
       "      <td>62.00000</td>\n",
       "      <td>0</td>\n",
       "      <td>0</td>\n",
       "      <td>9.6875</td>\n",
       "      <td>76</td>\n",
       "      <td>1</td>\n",
       "      <td>5</td>\n",
       "    </tr>\n",
       "    <tr>\n",
       "      <th>3</th>\n",
       "      <td>895</td>\n",
       "      <td>2</td>\n",
       "      <td>1</td>\n",
       "      <td>27.00000</td>\n",
       "      <td>0</td>\n",
       "      <td>0</td>\n",
       "      <td>8.6625</td>\n",
       "      <td>76</td>\n",
       "      <td>2</td>\n",
       "      <td>3</td>\n",
       "    </tr>\n",
       "    <tr>\n",
       "      <th>4</th>\n",
       "      <td>896</td>\n",
       "      <td>2</td>\n",
       "      <td>0</td>\n",
       "      <td>22.00000</td>\n",
       "      <td>1</td>\n",
       "      <td>1</td>\n",
       "      <td>12.2875</td>\n",
       "      <td>76</td>\n",
       "      <td>2</td>\n",
       "      <td>2</td>\n",
       "    </tr>\n",
       "    <tr>\n",
       "      <th>...</th>\n",
       "      <td>...</td>\n",
       "      <td>...</td>\n",
       "      <td>...</td>\n",
       "      <td>...</td>\n",
       "      <td>...</td>\n",
       "      <td>...</td>\n",
       "      <td>...</td>\n",
       "      <td>...</td>\n",
       "      <td>...</td>\n",
       "      <td>...</td>\n",
       "    </tr>\n",
       "    <tr>\n",
       "      <th>413</th>\n",
       "      <td>1305</td>\n",
       "      <td>2</td>\n",
       "      <td>1</td>\n",
       "      <td>30.27259</td>\n",
       "      <td>0</td>\n",
       "      <td>0</td>\n",
       "      <td>8.0500</td>\n",
       "      <td>76</td>\n",
       "      <td>2</td>\n",
       "      <td>4</td>\n",
       "    </tr>\n",
       "    <tr>\n",
       "      <th>414</th>\n",
       "      <td>1306</td>\n",
       "      <td>0</td>\n",
       "      <td>0</td>\n",
       "      <td>39.00000</td>\n",
       "      <td>0</td>\n",
       "      <td>0</td>\n",
       "      <td>108.9000</td>\n",
       "      <td>22</td>\n",
       "      <td>0</td>\n",
       "      <td>4</td>\n",
       "    </tr>\n",
       "    <tr>\n",
       "      <th>415</th>\n",
       "      <td>1307</td>\n",
       "      <td>2</td>\n",
       "      <td>1</td>\n",
       "      <td>38.50000</td>\n",
       "      <td>0</td>\n",
       "      <td>0</td>\n",
       "      <td>7.2500</td>\n",
       "      <td>76</td>\n",
       "      <td>2</td>\n",
       "      <td>4</td>\n",
       "    </tr>\n",
       "    <tr>\n",
       "      <th>416</th>\n",
       "      <td>1308</td>\n",
       "      <td>2</td>\n",
       "      <td>1</td>\n",
       "      <td>30.27259</td>\n",
       "      <td>0</td>\n",
       "      <td>0</td>\n",
       "      <td>8.0500</td>\n",
       "      <td>76</td>\n",
       "      <td>2</td>\n",
       "      <td>4</td>\n",
       "    </tr>\n",
       "    <tr>\n",
       "      <th>417</th>\n",
       "      <td>1309</td>\n",
       "      <td>2</td>\n",
       "      <td>1</td>\n",
       "      <td>30.27259</td>\n",
       "      <td>1</td>\n",
       "      <td>1</td>\n",
       "      <td>22.3583</td>\n",
       "      <td>76</td>\n",
       "      <td>0</td>\n",
       "      <td>4</td>\n",
       "    </tr>\n",
       "  </tbody>\n",
       "</table>\n",
       "<p>418 rows × 10 columns</p>\n",
       "</div>"
      ],
      "text/plain": [
       "     PassengerId  Pclass  Sex       Age  SibSp  Parch      Fare  Cabin  \\\n",
       "0            892       2    1  34.50000      0      0    7.8292     76   \n",
       "1            893       2    0  47.00000      1      0    7.0000     76   \n",
       "2            894       1    1  62.00000      0      0    9.6875     76   \n",
       "3            895       2    1  27.00000      0      0    8.6625     76   \n",
       "4            896       2    0  22.00000      1      1   12.2875     76   \n",
       "..           ...     ...  ...       ...    ...    ...       ...    ...   \n",
       "413         1305       2    1  30.27259      0      0    8.0500     76   \n",
       "414         1306       0    0  39.00000      0      0  108.9000     22   \n",
       "415         1307       2    1  38.50000      0      0    7.2500     76   \n",
       "416         1308       2    1  30.27259      0      0    8.0500     76   \n",
       "417         1309       2    1  30.27259      1      1   22.3583     76   \n",
       "\n",
       "     Embarked  Age_Group  \n",
       "0           1          4  \n",
       "1           2          4  \n",
       "2           1          5  \n",
       "3           2          3  \n",
       "4           2          2  \n",
       "..        ...        ...  \n",
       "413         2          4  \n",
       "414         0          4  \n",
       "415         2          4  \n",
       "416         2          4  \n",
       "417         0          4  \n",
       "\n",
       "[418 rows x 10 columns]"
      ]
     },
     "execution_count": 30,
     "metadata": {},
     "output_type": "execute_result"
    }
   ],
   "source": [
    "test_data"
   ]
  },
  {
   "cell_type": "code",
   "execution_count": 31,
   "id": "bc811bab",
   "metadata": {
    "execution": {
     "iopub.execute_input": "2023-10-08T11:51:18.466300Z",
     "iopub.status.busy": "2023-10-08T11:51:18.465755Z",
     "iopub.status.idle": "2023-10-08T11:51:18.479893Z",
     "shell.execute_reply": "2023-10-08T11:51:18.478465Z"
    },
    "papermill": {
     "duration": 0.032613,
     "end_time": "2023-10-08T11:51:18.482141",
     "exception": false,
     "start_time": "2023-10-08T11:51:18.449528",
     "status": "completed"
    },
    "tags": []
   },
   "outputs": [
    {
     "data": {
      "text/html": [
       "<div>\n",
       "<style scoped>\n",
       "    .dataframe tbody tr th:only-of-type {\n",
       "        vertical-align: middle;\n",
       "    }\n",
       "\n",
       "    .dataframe tbody tr th {\n",
       "        vertical-align: top;\n",
       "    }\n",
       "\n",
       "    .dataframe thead th {\n",
       "        text-align: right;\n",
       "    }\n",
       "</style>\n",
       "<table border=\"1\" class=\"dataframe\">\n",
       "  <thead>\n",
       "    <tr style=\"text-align: right;\">\n",
       "      <th></th>\n",
       "      <th>Pclass</th>\n",
       "      <th>Sex</th>\n",
       "      <th>Age</th>\n",
       "      <th>SibSp</th>\n",
       "      <th>Parch</th>\n",
       "      <th>Fare</th>\n",
       "      <th>Cabin</th>\n",
       "      <th>Embarked</th>\n",
       "      <th>Age_Group</th>\n",
       "    </tr>\n",
       "  </thead>\n",
       "  <tbody>\n",
       "    <tr>\n",
       "      <th>24</th>\n",
       "      <td>2</td>\n",
       "      <td>0</td>\n",
       "      <td>8.000000</td>\n",
       "      <td>3</td>\n",
       "      <td>1</td>\n",
       "      <td>21.0750</td>\n",
       "      <td>128</td>\n",
       "      <td>2</td>\n",
       "      <td>0</td>\n",
       "    </tr>\n",
       "    <tr>\n",
       "      <th>121</th>\n",
       "      <td>2</td>\n",
       "      <td>1</td>\n",
       "      <td>29.699118</td>\n",
       "      <td>0</td>\n",
       "      <td>0</td>\n",
       "      <td>8.0500</td>\n",
       "      <td>128</td>\n",
       "      <td>2</td>\n",
       "      <td>3</td>\n",
       "    </tr>\n",
       "    <tr>\n",
       "      <th>740</th>\n",
       "      <td>0</td>\n",
       "      <td>1</td>\n",
       "      <td>29.699118</td>\n",
       "      <td>0</td>\n",
       "      <td>0</td>\n",
       "      <td>30.0000</td>\n",
       "      <td>96</td>\n",
       "      <td>2</td>\n",
       "      <td>3</td>\n",
       "    </tr>\n",
       "    <tr>\n",
       "      <th>471</th>\n",
       "      <td>2</td>\n",
       "      <td>1</td>\n",
       "      <td>38.000000</td>\n",
       "      <td>0</td>\n",
       "      <td>0</td>\n",
       "      <td>8.6625</td>\n",
       "      <td>128</td>\n",
       "      <td>2</td>\n",
       "      <td>4</td>\n",
       "    </tr>\n",
       "    <tr>\n",
       "      <th>62</th>\n",
       "      <td>0</td>\n",
       "      <td>1</td>\n",
       "      <td>45.000000</td>\n",
       "      <td>1</td>\n",
       "      <td>0</td>\n",
       "      <td>83.4750</td>\n",
       "      <td>72</td>\n",
       "      <td>2</td>\n",
       "      <td>4</td>\n",
       "    </tr>\n",
       "    <tr>\n",
       "      <th>...</th>\n",
       "      <td>...</td>\n",
       "      <td>...</td>\n",
       "      <td>...</td>\n",
       "      <td>...</td>\n",
       "      <td>...</td>\n",
       "      <td>...</td>\n",
       "      <td>...</td>\n",
       "      <td>...</td>\n",
       "      <td>...</td>\n",
       "    </tr>\n",
       "    <tr>\n",
       "      <th>349</th>\n",
       "      <td>2</td>\n",
       "      <td>1</td>\n",
       "      <td>42.000000</td>\n",
       "      <td>0</td>\n",
       "      <td>0</td>\n",
       "      <td>8.6625</td>\n",
       "      <td>128</td>\n",
       "      <td>2</td>\n",
       "      <td>4</td>\n",
       "    </tr>\n",
       "    <tr>\n",
       "      <th>645</th>\n",
       "      <td>0</td>\n",
       "      <td>1</td>\n",
       "      <td>48.000000</td>\n",
       "      <td>1</td>\n",
       "      <td>0</td>\n",
       "      <td>76.7292</td>\n",
       "      <td>92</td>\n",
       "      <td>0</td>\n",
       "      <td>4</td>\n",
       "    </tr>\n",
       "    <tr>\n",
       "      <th>172</th>\n",
       "      <td>2</td>\n",
       "      <td>0</td>\n",
       "      <td>1.000000</td>\n",
       "      <td>1</td>\n",
       "      <td>1</td>\n",
       "      <td>11.1333</td>\n",
       "      <td>128</td>\n",
       "      <td>2</td>\n",
       "      <td>0</td>\n",
       "    </tr>\n",
       "    <tr>\n",
       "      <th>393</th>\n",
       "      <td>0</td>\n",
       "      <td>0</td>\n",
       "      <td>23.000000</td>\n",
       "      <td>1</td>\n",
       "      <td>0</td>\n",
       "      <td>113.2750</td>\n",
       "      <td>94</td>\n",
       "      <td>0</td>\n",
       "      <td>2</td>\n",
       "    </tr>\n",
       "    <tr>\n",
       "      <th>686</th>\n",
       "      <td>2</td>\n",
       "      <td>1</td>\n",
       "      <td>14.000000</td>\n",
       "      <td>4</td>\n",
       "      <td>1</td>\n",
       "      <td>39.6875</td>\n",
       "      <td>128</td>\n",
       "      <td>2</td>\n",
       "      <td>1</td>\n",
       "    </tr>\n",
       "  </tbody>\n",
       "</table>\n",
       "<p>712 rows × 9 columns</p>\n",
       "</div>"
      ],
      "text/plain": [
       "     Pclass  Sex        Age  SibSp  Parch      Fare  Cabin  Embarked  \\\n",
       "24        2    0   8.000000      3      1   21.0750    128         2   \n",
       "121       2    1  29.699118      0      0    8.0500    128         2   \n",
       "740       0    1  29.699118      0      0   30.0000     96         2   \n",
       "471       2    1  38.000000      0      0    8.6625    128         2   \n",
       "62        0    1  45.000000      1      0   83.4750     72         2   \n",
       "..      ...  ...        ...    ...    ...       ...    ...       ...   \n",
       "349       2    1  42.000000      0      0    8.6625    128         2   \n",
       "645       0    1  48.000000      1      0   76.7292     92         0   \n",
       "172       2    0   1.000000      1      1   11.1333    128         2   \n",
       "393       0    0  23.000000      1      0  113.2750     94         0   \n",
       "686       2    1  14.000000      4      1   39.6875    128         2   \n",
       "\n",
       "     Age_Group  \n",
       "24           0  \n",
       "121          3  \n",
       "740          3  \n",
       "471          4  \n",
       "62           4  \n",
       "..         ...  \n",
       "349          4  \n",
       "645          4  \n",
       "172          0  \n",
       "393          2  \n",
       "686          1  \n",
       "\n",
       "[712 rows x 9 columns]"
      ]
     },
     "execution_count": 31,
     "metadata": {},
     "output_type": "execute_result"
    }
   ],
   "source": [
    "X_train"
   ]
  },
  {
   "cell_type": "code",
   "execution_count": 32,
   "id": "135f7f2d",
   "metadata": {
    "execution": {
     "iopub.execute_input": "2023-10-08T11:51:18.514938Z",
     "iopub.status.busy": "2023-10-08T11:51:18.513826Z",
     "iopub.status.idle": "2023-10-08T11:51:18.525863Z",
     "shell.execute_reply": "2023-10-08T11:51:18.525038Z"
    },
    "papermill": {
     "duration": 0.030421,
     "end_time": "2023-10-08T11:51:18.527900",
     "exception": false,
     "start_time": "2023-10-08T11:51:18.497479",
     "status": "completed"
    },
    "tags": []
   },
   "outputs": [],
   "source": [
    "# https://www.kaggle.com/code/kimtaehun/eda-and-baseline-with-multiple-models\n",
    "def plot_count(df: pd.core.frame.DataFrame, col: str, title_name: str='Train') -> None:\n",
    "    # Set background color\n",
    "    \n",
    "    f, ax = plt.subplots(1, 2, figsize=(14, 7))\n",
    "    plt.subplots_adjust(wspace=0.2)\n",
    "\n",
    "    s1 = df[col].value_counts()\n",
    "    N = len(s1)\n",
    "\n",
    "    outer_sizes = s1\n",
    "    inner_sizes = s1/N\n",
    "\n",
    "    outer_colors = ['#9E3F00', '#eb5e00']\n",
    "    inner_colors = ['#ff6905', '#ff8838']\n",
    "\n",
    "    ax[0].pie(\n",
    "        outer_sizes,colors=outer_colors, \n",
    "        labels=s1.index.tolist(), \n",
    "        startangle=90, frame=True, radius=1.3, \n",
    "        explode=([0.05]*(N-1) + [.3]),\n",
    "        wedgeprops={'linewidth' : 1, 'edgecolor' : 'white'}, \n",
    "        textprops={'fontsize': 12, 'weight': 'bold'}\n",
    "    )\n",
    "\n",
    "    textprops = {\n",
    "        'size': 13, \n",
    "        'weight': 'bold', \n",
    "        'color': 'white'\n",
    "    }\n",
    "\n",
    "    ax[0].pie(\n",
    "        inner_sizes, colors=inner_colors,\n",
    "        radius=1, startangle=90,\n",
    "        autopct='%1.f%%', explode=([.1]*(N-1) + [.3]),\n",
    "        pctdistance=0.8, textprops=textprops\n",
    "    )\n",
    "\n",
    "    center_circle = plt.Circle((0,0), .68, color='black', fc='white', linewidth=0)\n",
    "    ax[0].add_artist(center_circle)\n",
    "\n",
    "    x = s1\n",
    "    y = s1.index.tolist()\n",
    "    sns.barplot(\n",
    "        x=x, y=y, ax=ax[1],\n",
    "        palette='YlOrBr_r', orient='horizontal'\n",
    "    )\n",
    "\n",
    "    ax[1].spines['top'].set_visible(False)\n",
    "    ax[1].spines['right'].set_visible(False)\n",
    "    ax[1].tick_params(\n",
    "        axis='x',         \n",
    "        which='both',      \n",
    "        bottom=False,      \n",
    "        labelbottom=False\n",
    "    )\n",
    "\n",
    "    for i, v in enumerate(s1):\n",
    "        ax[1].text(v, i+0.1, str(v), color='black', fontweight='bold', fontsize=12)\n",
    "\n",
    "    plt.setp(ax[1].get_yticklabels(), fontweight=\"bold\")\n",
    "    plt.setp(ax[1].get_xticklabels(), fontweight=\"bold\")\n",
    "    ax[1].set_xlabel(col, fontweight=\"bold\", color='black')\n",
    "    ax[1].set_ylabel('count', fontweight=\"bold\", color='black')\n",
    "\n",
    "    f.suptitle(f'{title_name}', fontsize=18, fontweight='bold')\n",
    "    plt.tight_layout()\n",
    "    plt.show()"
   ]
  },
  {
   "cell_type": "code",
   "execution_count": 33,
   "id": "a5991774",
   "metadata": {
    "execution": {
     "iopub.execute_input": "2023-10-08T11:51:18.559878Z",
     "iopub.status.busy": "2023-10-08T11:51:18.559157Z",
     "iopub.status.idle": "2023-10-08T11:51:19.167741Z",
     "shell.execute_reply": "2023-10-08T11:51:19.166680Z"
    },
    "papermill": {
     "duration": 0.628293,
     "end_time": "2023-10-08T11:51:19.171235",
     "exception": false,
     "start_time": "2023-10-08T11:51:18.542942",
     "status": "completed"
    },
    "tags": []
   },
   "outputs": [
    {
     "data": {
      "image/png": "[encoded data removed]",
      "text/plain": [
       "<Figure size 1400x700 with 2 Axes>"
      ]
     },
     "metadata": {},
     "output_type": "display_data"
    }
   ],
   "source": [
    "plot_count(pd.DataFrame({'Survived':y_train.values}).replace({1:True,0:False}), 'Survived', 'Target Variable Distribution TRAIN DATA')"
   ]
  },
  {
   "cell_type": "code",
   "execution_count": 34,
   "id": "92772fa3",
   "metadata": {
    "execution": {
     "iopub.execute_input": "2023-10-08T11:51:19.218192Z",
     "iopub.status.busy": "2023-10-08T11:51:19.217804Z",
     "iopub.status.idle": "2023-10-08T11:51:19.652425Z",
     "shell.execute_reply": "2023-10-08T11:51:19.651400Z"
    },
    "papermill": {
     "duration": 0.454642,
     "end_time": "2023-10-08T11:51:19.654481",
     "exception": false,
     "start_time": "2023-10-08T11:51:19.199839",
     "status": "completed"
    },
    "tags": []
   },
   "outputs": [
    {
     "data": {
      "image/png": "[encoded data removed]",
      "text/plain": [
       "<Figure size 1400x700 with 2 Axes>"
      ]
     },
     "metadata": {},
     "output_type": "display_data"
    }
   ],
   "source": [
    "plot_count(pd.DataFrame({'Survived':y_valid.values}).replace({1:True,0:False}), 'Survived', 'Target Variable Distribution VALID DATA')"
   ]
  },
  {
   "cell_type": "code",
   "execution_count": 35,
   "id": "b908e146",
   "metadata": {
    "execution": {
     "iopub.execute_input": "2023-10-08T11:51:19.691384Z",
     "iopub.status.busy": "2023-10-08T11:51:19.690968Z",
     "iopub.status.idle": "2023-10-08T11:51:24.298257Z",
     "shell.execute_reply": "2023-10-08T11:51:24.297366Z"
    },
    "papermill": {
     "duration": 4.627983,
     "end_time": "2023-10-08T11:51:24.300119",
     "exception": false,
     "start_time": "2023-10-08T11:51:19.672136",
     "status": "completed"
    },
    "tags": []
   },
   "outputs": [
    {
     "name": "stderr",
     "output_type": "stream",
     "text": [
      "100%|██████████| 29/29 [00:02<00:00, 14.42it/s]\n"
     ]
    },
    {
     "data": {
      "text/html": [
       "<div>\n",
       "<style scoped>\n",
       "    .dataframe tbody tr th:only-of-type {\n",
       "        vertical-align: middle;\n",
       "    }\n",
       "\n",
       "    .dataframe tbody tr th {\n",
       "        vertical-align: top;\n",
       "    }\n",
       "\n",
       "    .dataframe thead th {\n",
       "        text-align: right;\n",
       "    }\n",
       "</style>\n",
       "<table border=\"1\" class=\"dataframe\">\n",
       "  <thead>\n",
       "    <tr style=\"text-align: right;\">\n",
       "      <th></th>\n",
       "      <th>Accuracy</th>\n",
       "      <th>Balanced Accuracy</th>\n",
       "      <th>ROC AUC</th>\n",
       "      <th>F1 Score</th>\n",
       "      <th>Time Taken</th>\n",
       "    </tr>\n",
       "    <tr>\n",
       "      <th>Model</th>\n",
       "      <th></th>\n",
       "      <th></th>\n",
       "      <th></th>\n",
       "      <th></th>\n",
       "      <th></th>\n",
       "    </tr>\n",
       "  </thead>\n",
       "  <tbody>\n",
       "    <tr>\n",
       "      <th>RandomForestClassifier</th>\n",
       "      <td>0.85</td>\n",
       "      <td>0.84</td>\n",
       "      <td>0.84</td>\n",
       "      <td>0.85</td>\n",
       "      <td>0.22</td>\n",
       "    </tr>\n",
       "    <tr>\n",
       "      <th>LGBMClassifier</th>\n",
       "      <td>0.85</td>\n",
       "      <td>0.84</td>\n",
       "      <td>0.84</td>\n",
       "      <td>0.85</td>\n",
       "      <td>0.53</td>\n",
       "    </tr>\n",
       "    <tr>\n",
       "      <th>DecisionTreeClassifier</th>\n",
       "      <td>0.83</td>\n",
       "      <td>0.83</td>\n",
       "      <td>0.83</td>\n",
       "      <td>0.83</td>\n",
       "      <td>0.02</td>\n",
       "    </tr>\n",
       "    <tr>\n",
       "      <th>BaggingClassifier</th>\n",
       "      <td>0.84</td>\n",
       "      <td>0.83</td>\n",
       "      <td>0.83</td>\n",
       "      <td>0.84</td>\n",
       "      <td>0.05</td>\n",
       "    </tr>\n",
       "    <tr>\n",
       "      <th>XGBClassifier</th>\n",
       "      <td>0.84</td>\n",
       "      <td>0.83</td>\n",
       "      <td>0.83</td>\n",
       "      <td>0.84</td>\n",
       "      <td>0.13</td>\n",
       "    </tr>\n",
       "    <tr>\n",
       "      <th>AdaBoostClassifier</th>\n",
       "      <td>0.81</td>\n",
       "      <td>0.81</td>\n",
       "      <td>0.81</td>\n",
       "      <td>0.81</td>\n",
       "      <td>0.12</td>\n",
       "    </tr>\n",
       "    <tr>\n",
       "      <th>NuSVC</th>\n",
       "      <td>0.81</td>\n",
       "      <td>0.80</td>\n",
       "      <td>0.80</td>\n",
       "      <td>0.81</td>\n",
       "      <td>0.04</td>\n",
       "    </tr>\n",
       "    <tr>\n",
       "      <th>SVC</th>\n",
       "      <td>0.81</td>\n",
       "      <td>0.80</td>\n",
       "      <td>0.80</td>\n",
       "      <td>0.81</td>\n",
       "      <td>0.03</td>\n",
       "    </tr>\n",
       "    <tr>\n",
       "      <th>LogisticRegression</th>\n",
       "      <td>0.81</td>\n",
       "      <td>0.80</td>\n",
       "      <td>0.80</td>\n",
       "      <td>0.81</td>\n",
       "      <td>0.02</td>\n",
       "    </tr>\n",
       "    <tr>\n",
       "      <th>KNeighborsClassifier</th>\n",
       "      <td>0.79</td>\n",
       "      <td>0.80</td>\n",
       "      <td>0.80</td>\n",
       "      <td>0.80</td>\n",
       "      <td>0.03</td>\n",
       "    </tr>\n",
       "    <tr>\n",
       "      <th>CalibratedClassifierCV</th>\n",
       "      <td>0.80</td>\n",
       "      <td>0.79</td>\n",
       "      <td>0.79</td>\n",
       "      <td>0.80</td>\n",
       "      <td>0.18</td>\n",
       "    </tr>\n",
       "    <tr>\n",
       "      <th>LinearSVC</th>\n",
       "      <td>0.80</td>\n",
       "      <td>0.79</td>\n",
       "      <td>0.79</td>\n",
       "      <td>0.80</td>\n",
       "      <td>0.08</td>\n",
       "    </tr>\n",
       "    <tr>\n",
       "      <th>LinearDiscriminantAnalysis</th>\n",
       "      <td>0.80</td>\n",
       "      <td>0.79</td>\n",
       "      <td>0.79</td>\n",
       "      <td>0.80</td>\n",
       "      <td>0.05</td>\n",
       "    </tr>\n",
       "    <tr>\n",
       "      <th>RidgeClassifier</th>\n",
       "      <td>0.80</td>\n",
       "      <td>0.79</td>\n",
       "      <td>0.79</td>\n",
       "      <td>0.80</td>\n",
       "      <td>0.03</td>\n",
       "    </tr>\n",
       "    <tr>\n",
       "      <th>RidgeClassifierCV</th>\n",
       "      <td>0.80</td>\n",
       "      <td>0.79</td>\n",
       "      <td>0.79</td>\n",
       "      <td>0.80</td>\n",
       "      <td>0.02</td>\n",
       "    </tr>\n",
       "    <tr>\n",
       "      <th>PassiveAggressiveClassifier</th>\n",
       "      <td>0.76</td>\n",
       "      <td>0.78</td>\n",
       "      <td>0.78</td>\n",
       "      <td>0.76</td>\n",
       "      <td>0.02</td>\n",
       "    </tr>\n",
       "    <tr>\n",
       "      <th>NearestCentroid</th>\n",
       "      <td>0.74</td>\n",
       "      <td>0.77</td>\n",
       "      <td>0.77</td>\n",
       "      <td>0.75</td>\n",
       "      <td>0.01</td>\n",
       "    </tr>\n",
       "    <tr>\n",
       "      <th>SGDClassifier</th>\n",
       "      <td>0.78</td>\n",
       "      <td>0.75</td>\n",
       "      <td>0.75</td>\n",
       "      <td>0.77</td>\n",
       "      <td>0.02</td>\n",
       "    </tr>\n",
       "    <tr>\n",
       "      <th>BernoulliNB</th>\n",
       "      <td>0.73</td>\n",
       "      <td>0.75</td>\n",
       "      <td>0.75</td>\n",
       "      <td>0.74</td>\n",
       "      <td>0.01</td>\n",
       "    </tr>\n",
       "    <tr>\n",
       "      <th>ExtraTreesClassifier</th>\n",
       "      <td>0.68</td>\n",
       "      <td>0.72</td>\n",
       "      <td>0.72</td>\n",
       "      <td>0.67</td>\n",
       "      <td>0.17</td>\n",
       "    </tr>\n",
       "    <tr>\n",
       "      <th>LabelSpreading</th>\n",
       "      <td>0.68</td>\n",
       "      <td>0.70</td>\n",
       "      <td>0.70</td>\n",
       "      <td>0.68</td>\n",
       "      <td>0.09</td>\n",
       "    </tr>\n",
       "    <tr>\n",
       "      <th>LabelPropagation</th>\n",
       "      <td>0.68</td>\n",
       "      <td>0.70</td>\n",
       "      <td>0.70</td>\n",
       "      <td>0.68</td>\n",
       "      <td>0.07</td>\n",
       "    </tr>\n",
       "    <tr>\n",
       "      <th>ExtraTreeClassifier</th>\n",
       "      <td>0.67</td>\n",
       "      <td>0.69</td>\n",
       "      <td>0.69</td>\n",
       "      <td>0.67</td>\n",
       "      <td>0.01</td>\n",
       "    </tr>\n",
       "    <tr>\n",
       "      <th>GaussianNB</th>\n",
       "      <td>0.60</td>\n",
       "      <td>0.67</td>\n",
       "      <td>0.67</td>\n",
       "      <td>0.58</td>\n",
       "      <td>0.02</td>\n",
       "    </tr>\n",
       "    <tr>\n",
       "      <th>Perceptron</th>\n",
       "      <td>0.58</td>\n",
       "      <td>0.63</td>\n",
       "      <td>0.63</td>\n",
       "      <td>0.56</td>\n",
       "      <td>0.01</td>\n",
       "    </tr>\n",
       "    <tr>\n",
       "      <th>QuadraticDiscriminantAnalysis</th>\n",
       "      <td>0.44</td>\n",
       "      <td>0.54</td>\n",
       "      <td>0.54</td>\n",
       "      <td>0.34</td>\n",
       "      <td>0.02</td>\n",
       "    </tr>\n",
       "    <tr>\n",
       "      <th>DummyClassifier</th>\n",
       "      <td>0.61</td>\n",
       "      <td>0.50</td>\n",
       "      <td>0.50</td>\n",
       "      <td>0.47</td>\n",
       "      <td>0.01</td>\n",
       "    </tr>\n",
       "  </tbody>\n",
       "</table>\n",
       "</div>"
      ],
      "text/plain": [
       "                               Accuracy  Balanced Accuracy  ROC AUC  F1 Score  \\\n",
       "Model                                                                           \n",
       "RandomForestClassifier             0.85               0.84     0.84      0.85   \n",
       "LGBMClassifier                     0.85               0.84     0.84      0.85   \n",
       "DecisionTreeClassifier             0.83               0.83     0.83      0.83   \n",
       "BaggingClassifier                  0.84               0.83     0.83      0.84   \n",
       "XGBClassifier                      0.84               0.83     0.83      0.84   \n",
       "AdaBoostClassifier                 0.81               0.81     0.81      0.81   \n",
       "NuSVC                              0.81               0.80     0.80      0.81   \n",
       "SVC                                0.81               0.80     0.80      0.81   \n",
       "LogisticRegression                 0.81               0.80     0.80      0.81   \n",
       "KNeighborsClassifier               0.79               0.80     0.80      0.80   \n",
       "CalibratedClassifierCV             0.80               0.79     0.79      0.80   \n",
       "LinearSVC                          0.80               0.79     0.79      0.80   \n",
       "LinearDiscriminantAnalysis         0.80               0.79     0.79      0.80   \n",
       "RidgeClassifier                    0.80               0.79     0.79      0.80   \n",
       "RidgeClassifierCV                  0.80               0.79     0.79      0.80   \n",
       "PassiveAggressiveClassifier        0.76               0.78     0.78      0.76   \n",
       "NearestCentroid                    0.74               0.77     0.77      0.75   \n",
       "SGDClassifier                      0.78               0.75     0.75      0.77   \n",
       "BernoulliNB                        0.73               0.75     0.75      0.74   \n",
       "ExtraTreesClassifier               0.68               0.72     0.72      0.67   \n",
       "LabelSpreading                     0.68               0.70     0.70      0.68   \n",
       "LabelPropagation                   0.68               0.70     0.70      0.68   \n",
       "ExtraTreeClassifier                0.67               0.69     0.69      0.67   \n",
       "GaussianNB                         0.60               0.67     0.67      0.58   \n",
       "Perceptron                         0.58               0.63     0.63      0.56   \n",
       "QuadraticDiscriminantAnalysis      0.44               0.54     0.54      0.34   \n",
       "DummyClassifier                    0.61               0.50     0.50      0.47   \n",
       "\n",
       "                               Time Taken  \n",
       "Model                                      \n",
       "RandomForestClassifier               0.22  \n",
       "LGBMClassifier                       0.53  \n",
       "DecisionTreeClassifier               0.02  \n",
       "BaggingClassifier                    0.05  \n",
       "XGBClassifier                        0.13  \n",
       "AdaBoostClassifier                   0.12  \n",
       "NuSVC                                0.04  \n",
       "SVC                                  0.03  \n",
       "LogisticRegression                   0.02  \n",
       "KNeighborsClassifier                 0.03  \n",
       "CalibratedClassifierCV               0.18  \n",
       "LinearSVC                            0.08  \n",
       "LinearDiscriminantAnalysis           0.05  \n",
       "RidgeClassifier                      0.03  \n",
       "RidgeClassifierCV                    0.02  \n",
       "PassiveAggressiveClassifier          0.02  \n",
       "NearestCentroid                      0.01  \n",
       "SGDClassifier                        0.02  \n",
       "BernoulliNB                          0.01  \n",
       "ExtraTreesClassifier                 0.17  \n",
       "LabelSpreading                       0.09  \n",
       "LabelPropagation                     0.07  \n",
       "ExtraTreeClassifier                  0.01  \n",
       "GaussianNB                           0.02  \n",
       "Perceptron                           0.01  \n",
       "QuadraticDiscriminantAnalysis        0.02  \n",
       "DummyClassifier                      0.01  "
      ]
     },
     "execution_count": 35,
     "metadata": {},
     "output_type": "execute_result"
    }
   ],
   "source": [
    "from lazypredict.Supervised import LazyClassifier\n",
    "from sklearn.model_selection import train_test_split\n",
    "\n",
    "clf = LazyClassifier(verbose=0,ignore_warnings=True, custom_metric=None)\n",
    "models,predictions = clf.fit( X_train, X_valid , y_train, y_valid)\n",
    "models"
   ]
  },
  {
   "cell_type": "code",
   "execution_count": 36,
   "id": "81a0bd3f",
   "metadata": {
    "execution": {
     "iopub.execute_input": "2023-10-08T11:51:24.339558Z",
     "iopub.status.busy": "2023-10-08T11:51:24.339136Z",
     "iopub.status.idle": "2023-10-08T11:51:25.725415Z",
     "shell.execute_reply": "2023-10-08T11:51:25.724409Z"
    },
    "papermill": {
     "duration": 1.409112,
     "end_time": "2023-10-08T11:51:25.727826",
     "exception": false,
     "start_time": "2023-10-08T11:51:24.318714",
     "status": "completed"
    },
    "tags": []
   },
   "outputs": [],
   "source": [
    "from catboost import CatBoostClassifier\n",
    "import optuna\n",
    "from sklearn.model_selection import cross_val_score\n",
    "from sklearn.model_selection import train_test_split\n",
    "from sklearn.metrics import accuracy_score\n",
    "from sklearn.metrics import roc_auc_score\n",
    "\n",
    "\n",
    "def objective_cat(trial):\n",
    "    \"\"\"Define the objective function\"\"\"\n",
    "\n",
    "    params = {\n",
    "        \"iterations\" : trial.suggest_int(\"iterations\", 100, 5000),\n",
    "        'learning_rate': trial.suggest_float('learning_rate', 0.01,1.0),\n",
    "        \"depth\" : trial.suggest_int(\"depth\", 1, 10),\n",
    "        \"l2_leaf_reg\" : trial.suggest_float(\"l2_leaf_reg\", 1e-8, 100.0, log=True),\n",
    "        \"bootstrap_type\" : trial.suggest_categorical(\"bootstrap_type\", [\"Bayesian\"]),\n",
    "        \"random_strength\" : trial.suggest_float(\"random_strength\", 1e-8, 10.0, log=True),\n",
    "        \"bagging_temperature\" : trial.suggest_float(\"bagging_temperature\", 0.0, 10.0),\n",
    "        \"od_type\" : trial.suggest_categorical(\"od_type\", [\"IncToDec\", \"Iter\"]),\n",
    "        \"od_wait\" : trial.suggest_int(\"od_wait\", 10, 50),\n",
    "        \"verbose\" : False\n",
    "        \n",
    "    }\n",
    "\n",
    "\n",
    "    model_cat = CatBoostClassifier(**params)\n",
    "    scores = cross_val_score(model_cat, X_train, y_train, cv=10, scoring='accuracy')  \n",
    "    \n",
    "    return scores.mean() "
   ]
  },
  {
   "cell_type": "code",
   "execution_count": 37,
   "id": "bdbbfcb0",
   "metadata": {
    "execution": {
     "iopub.execute_input": "2023-10-08T11:51:25.767446Z",
     "iopub.status.busy": "2023-10-08T11:51:25.766788Z",
     "iopub.status.idle": "2023-10-08T12:14:49.515883Z",
     "shell.execute_reply": "2023-10-08T12:14:49.514747Z"
    },
    "papermill": {
     "duration": 1403.790316,
     "end_time": "2023-10-08T12:14:49.536991",
     "exception": false,
     "start_time": "2023-10-08T11:51:25.746675",
     "status": "completed"
    },
    "tags": []
   },
   "outputs": [
    {
     "name": "stderr",
     "output_type": "stream",
     "text": [
      "[I 2023-10-08 11:51:25,769] A new study created in memory with name: no-name-b3ee4a9c-b524-4ed6-a682-5aa09aaefa79\n"
     ]
    },
    {
     "data": {
      "application/vnd.jupyter.widget-view+json": {
       "model_id": "e80958072a9f4f16bc2854018f309d3e",
       "version_major": 2,
       "version_minor": 0
      },
      "text/plain": [
       "  0%|          | 0/100 [00:00<?, ?it/s]"
      ]
     },
     "metadata": {},
     "output_type": "display_data"
    }
   ],
   "source": [
    "study_cat = optuna.create_study(direction='maximize')\n",
    "optuna.logging.set_verbosity(optuna.logging.WARNING)\n",
    "study_cat.optimize(objective_cat, n_trials=100,show_progress_bar=True)"
   ]
  },
  {
   "cell_type": "code",
   "execution_count": 38,
   "id": "bc5464c0",
   "metadata": {
    "execution": {
     "iopub.execute_input": "2023-10-08T12:14:49.576973Z",
     "iopub.status.busy": "2023-10-08T12:14:49.576388Z",
     "iopub.status.idle": "2023-10-08T12:14:49.582117Z",
     "shell.execute_reply": "2023-10-08T12:14:49.581180Z"
    },
    "papermill": {
     "duration": 0.028019,
     "end_time": "2023-10-08T12:14:49.583904",
     "exception": false,
     "start_time": "2023-10-08T12:14:49.555885",
     "status": "completed"
    },
    "tags": []
   },
   "outputs": [
    {
     "name": "stdout",
     "output_type": "stream",
     "text": [
      "Best parameters {'iterations': 1694, 'learning_rate': 0.07896781749755595, 'depth': 2, 'l2_leaf_reg': 12.686082056632571, 'bootstrap_type': 'Bayesian', 'random_strength': 0.0029149654374076924, 'bagging_temperature': 8.32471473548817, 'od_type': 'IncToDec', 'od_wait': 25}\n"
     ]
    }
   ],
   "source": [
    "# Print the best parameters\n",
    "print('Best parameters', study_cat.best_params)"
   ]
  },
  {
   "cell_type": "code",
   "execution_count": 39,
   "id": "9d693182",
   "metadata": {
    "execution": {
     "iopub.execute_input": "2023-10-08T12:14:49.623899Z",
     "iopub.status.busy": "2023-10-08T12:14:49.622874Z",
     "iopub.status.idle": "2023-10-08T12:14:50.692530Z",
     "shell.execute_reply": "2023-10-08T12:14:50.691283Z"
    },
    "papermill": {
     "duration": 1.091688,
     "end_time": "2023-10-08T12:14:50.694574",
     "exception": false,
     "start_time": "2023-10-08T12:14:49.602886",
     "status": "completed"
    },
    "tags": []
   },
   "outputs": [
    {
     "name": "stdout",
     "output_type": "stream",
     "text": [
      "Accuracy:  0.8435754189944135\n"
     ]
    }
   ],
   "source": [
    "cat = CatBoostClassifier(**study_cat.best_params, verbose=False)\n",
    "cat.fit(X_train, y_train)\n",
    "y_pred = cat.predict(X_valid)\n",
    "\n",
    "print('Accuracy: ', accuracy_score(y_valid, y_pred))"
   ]
  },
  {
   "cell_type": "code",
   "execution_count": null,
   "id": "3f0ddafe",
   "metadata": {
    "papermill": {
     "duration": 0.018369,
     "end_time": "2023-10-08T12:14:50.731928",
     "exception": false,
     "start_time": "2023-10-08T12:14:50.713559",
     "status": "completed"
    },
    "tags": []
   },
   "outputs": [],
   "source": []
  },
  {
   "cell_type": "code",
   "execution_count": 40,
   "id": "e2dd2a34",
   "metadata": {
    "execution": {
     "iopub.execute_input": "2023-10-08T12:14:50.770928Z",
     "iopub.status.busy": "2023-10-08T12:14:50.770546Z",
     "iopub.status.idle": "2023-10-08T12:14:50.778169Z",
     "shell.execute_reply": "2023-10-08T12:14:50.777143Z"
    },
    "papermill": {
     "duration": 0.029389,
     "end_time": "2023-10-08T12:14:50.780052",
     "exception": false,
     "start_time": "2023-10-08T12:14:50.750663",
     "status": "completed"
    },
    "tags": []
   },
   "outputs": [],
   "source": [
    "from lightgbm import LGBMClassifier\n",
    "import optuna\n",
    "\n",
    "def objective_lgb(trial):\n",
    "    \"\"\"Define the objective function\"\"\"\n",
    "\n",
    "    params = {\n",
    "        'objective': trial.suggest_categorical('objective', ['binary']),\n",
    "        'metric': trial.suggest_categorical('metric', ['logloss']),\n",
    "        'max_depth': trial.suggest_int('max_depth', 1, 15),\n",
    "        'min_child_samples': trial.suggest_int('min_child_samples', 1, 15),\n",
    "        'learning_rate': trial.suggest_float('learning_rate', 0.01, 1.0),\n",
    "        'n_estimators': trial.suggest_int('n_estimators', 50, 5000),\n",
    "        'min_child_weight': trial.suggest_int('min_child_weight', 1, 10),\n",
    "        'subsample': trial.suggest_float('subsample', 0.01, 1.0),\n",
    "        'colsample_bytree': trial.suggest_float('colsample_bytree', 0.01, 1.0),\n",
    "        'reg_alpha': trial.suggest_float('reg_alpha', 0.01, 1.0),\n",
    "        'reg_lambda': trial.suggest_float('reg_lambda', 0.01, 1.0),\n",
    "        \"random_state\" : trial.suggest_categorical('random_state', [17]),\n",
    "    }\n",
    "\n",
    "    model_lgb = LGBMClassifier(**params)\n",
    "    scores = cross_val_score(model_lgb, X_train, y_train, cv=10, scoring='accuracy')  \n",
    "    \n",
    "    return scores.mean()"
   ]
  },
  {
   "cell_type": "code",
   "execution_count": 41,
   "id": "eab80f48",
   "metadata": {
    "execution": {
     "iopub.execute_input": "2023-10-08T12:14:50.818771Z",
     "iopub.status.busy": "2023-10-08T12:14:50.818383Z",
     "iopub.status.idle": "2023-10-08T12:26:15.759456Z",
     "shell.execute_reply": "2023-10-08T12:26:15.758390Z"
    },
    "papermill": {
     "duration": 684.964019,
     "end_time": "2023-10-08T12:26:15.762670",
     "exception": false,
     "start_time": "2023-10-08T12:14:50.798651",
     "status": "completed"
    },
    "tags": []
   },
   "outputs": [
    {
     "data": {
      "application/vnd.jupyter.widget-view+json": {
       "model_id": "e1b3b2f9296f4490b5910c699df8f3ac",
       "version_major": 2,
       "version_minor": 0
      },
      "text/plain": [
       "  0%|          | 0/100 [00:00<?, ?it/s]"
      ]
     },
     "metadata": {},
     "output_type": "display_data"
    }
   ],
   "source": [
    "study_lgb = optuna.create_study(direction='maximize')\n",
    "optuna.logging.set_verbosity(optuna.logging.WARNING)\n",
    "study_lgb.optimize(objective_lgb, n_trials=100,show_progress_bar=True)"
   ]
  },
  {
   "cell_type": "code",
   "execution_count": 42,
   "id": "8b23e60b",
   "metadata": {
    "execution": {
     "iopub.execute_input": "2023-10-08T12:26:15.802204Z",
     "iopub.status.busy": "2023-10-08T12:26:15.801857Z",
     "iopub.status.idle": "2023-10-08T12:26:15.807575Z",
     "shell.execute_reply": "2023-10-08T12:26:15.806495Z"
    },
    "papermill": {
     "duration": 0.027696,
     "end_time": "2023-10-08T12:26:15.809520",
     "exception": false,
     "start_time": "2023-10-08T12:26:15.781824",
     "status": "completed"
    },
    "tags": []
   },
   "outputs": [
    {
     "name": "stdout",
     "output_type": "stream",
     "text": [
      "Best parameters {'objective': 'binary', 'metric': 'logloss', 'max_depth': 1, 'min_child_samples': 12, 'learning_rate': 0.6738024677617338, 'n_estimators': 798, 'min_child_weight': 2, 'subsample': 0.6281014274275754, 'colsample_bytree': 0.19911685772471388, 'reg_alpha': 0.9618624607290799, 'reg_lambda': 0.23908639242557098, 'random_state': 17}\n"
     ]
    }
   ],
   "source": [
    "# Print the best parameters\n",
    "print('Best parameters', study_lgb.best_params)"
   ]
  },
  {
   "cell_type": "code",
   "execution_count": 43,
   "id": "4c0732e6",
   "metadata": {
    "execution": {
     "iopub.execute_input": "2023-10-08T12:26:15.848689Z",
     "iopub.status.busy": "2023-10-08T12:26:15.847667Z",
     "iopub.status.idle": "2023-10-08T12:26:16.248262Z",
     "shell.execute_reply": "2023-10-08T12:26:16.247371Z"
    },
    "papermill": {
     "duration": 0.42233,
     "end_time": "2023-10-08T12:26:16.250339",
     "exception": false,
     "start_time": "2023-10-08T12:26:15.828009",
     "status": "completed"
    },
    "tags": []
   },
   "outputs": [
    {
     "name": "stdout",
     "output_type": "stream",
     "text": [
      "Accuracy:  0.8156424581005587\n"
     ]
    }
   ],
   "source": [
    "lgb = LGBMClassifier(**study_lgb.best_params)\n",
    "lgb.fit(X_train, y_train)\n",
    "y_pred = lgb.predict(X_valid)\n",
    "\n",
    "print('Accuracy: ', accuracy_score(y_valid, y_pred))"
   ]
  },
  {
   "cell_type": "code",
   "execution_count": null,
   "id": "466a9a93",
   "metadata": {
    "papermill": {
     "duration": 0.018632,
     "end_time": "2023-10-08T12:26:16.287819",
     "exception": false,
     "start_time": "2023-10-08T12:26:16.269187",
     "status": "completed"
    },
    "tags": []
   },
   "outputs": [],
   "source": []
  },
  {
   "cell_type": "code",
   "execution_count": 44,
   "id": "668ce43a",
   "metadata": {
    "execution": {
     "iopub.execute_input": "2023-10-08T12:26:16.327438Z",
     "iopub.status.busy": "2023-10-08T12:26:16.326438Z",
     "iopub.status.idle": "2023-10-08T12:26:16.333243Z",
     "shell.execute_reply": "2023-10-08T12:26:16.332579Z"
    },
    "papermill": {
     "duration": 0.028435,
     "end_time": "2023-10-08T12:26:16.334949",
     "exception": false,
     "start_time": "2023-10-08T12:26:16.306514",
     "status": "completed"
    },
    "tags": []
   },
   "outputs": [],
   "source": [
    "from xgboost import XGBClassifier\n",
    "import optuna\n",
    "def objective_xg(trial):\n",
    "    \"\"\"Define the objective function\"\"\"\n",
    "\n",
    "    params = {\n",
    "        'booster': trial.suggest_categorical('booster', ['gbtree']),\n",
    "        'max_depth': trial.suggest_int('max_depth', 1, 15),\n",
    "        'learning_rate': trial.suggest_loguniform('learning_rate', 0.01, 1.0),\n",
    "        'n_estimators': trial.suggest_int('n_estimators', 100, 5000),\n",
    "        'min_child_weight': trial.suggest_int('min_child_weight', 1, 10),\n",
    "        'gamma': trial.suggest_loguniform('gamma', 1e-8, 1.0),\n",
    "        'subsample': trial.suggest_loguniform('subsample', 0.01, 1.0),\n",
    "        'colsample_bytree': trial.suggest_loguniform('colsample_bytree', 0.01, 1.0),\n",
    "        'reg_alpha': trial.suggest_loguniform('reg_alpha', 1e-8, 1.0),\n",
    "        'reg_lambda': trial.suggest_loguniform('reg_lambda', 1e-8, 1.0),\n",
    "        'eval_metric':trial.suggest_categorical('eval_metric', ['mlogloss']),\n",
    "    }\n",
    "\n",
    "    model_xgb = XGBClassifier(**params)\n",
    "    scores = cross_val_score(model_xgb, X_train, y_train, cv=10, scoring='accuracy')  \n",
    "    \n",
    "    return scores.mean()"
   ]
  },
  {
   "cell_type": "code",
   "execution_count": 45,
   "id": "39a13f35",
   "metadata": {
    "execution": {
     "iopub.execute_input": "2023-10-08T12:26:16.375071Z",
     "iopub.status.busy": "2023-10-08T12:26:16.374041Z",
     "iopub.status.idle": "2023-10-08T12:34:40.205260Z",
     "shell.execute_reply": "2023-10-08T12:34:40.204520Z"
    },
    "papermill": {
     "duration": 503.85319,
     "end_time": "2023-10-08T12:34:40.207025",
     "exception": false,
     "start_time": "2023-10-08T12:26:16.353835",
     "status": "completed"
    },
    "tags": []
   },
   "outputs": [
    {
     "data": {
      "application/vnd.jupyter.widget-view+json": {
       "model_id": "372581458c0748f9be69043c192def4c",
       "version_major": 2,
       "version_minor": 0
      },
      "text/plain": [
       "  0%|          | 0/100 [00:00<?, ?it/s]"
      ]
     },
     "metadata": {},
     "output_type": "display_data"
    }
   ],
   "source": [
    "study_xgb = optuna.create_study(direction='maximize')\n",
    "optuna.logging.set_verbosity(optuna.logging.WARNING)\n",
    "study_xgb.optimize(objective_xg, n_trials=100,show_progress_bar=True)"
   ]
  },
  {
   "cell_type": "code",
   "execution_count": 46,
   "id": "774f6738",
   "metadata": {
    "execution": {
     "iopub.execute_input": "2023-10-08T12:34:40.247717Z",
     "iopub.status.busy": "2023-10-08T12:34:40.247028Z",
     "iopub.status.idle": "2023-10-08T12:34:40.252184Z",
     "shell.execute_reply": "2023-10-08T12:34:40.251135Z"
    },
    "papermill": {
     "duration": 0.028012,
     "end_time": "2023-10-08T12:34:40.254236",
     "exception": false,
     "start_time": "2023-10-08T12:34:40.226224",
     "status": "completed"
    },
    "tags": []
   },
   "outputs": [
    {
     "name": "stdout",
     "output_type": "stream",
     "text": [
      "Best parameters {'booster': 'gbtree', 'max_depth': 11, 'learning_rate': 0.06692912139812608, 'n_estimators': 1747, 'min_child_weight': 9, 'gamma': 9.764659548656741e-06, 'subsample': 0.6350026212488684, 'colsample_bytree': 0.029923924533301904, 'reg_alpha': 0.003159365072967417, 'reg_lambda': 0.12193002594440434, 'eval_metric': 'mlogloss'}\n"
     ]
    }
   ],
   "source": [
    "# Print the best parameters\n",
    "print('Best parameters', study_xgb.best_params)"
   ]
  },
  {
   "cell_type": "code",
   "execution_count": 47,
   "id": "f3d884ee",
   "metadata": {
    "execution": {
     "iopub.execute_input": "2023-10-08T12:34:40.295289Z",
     "iopub.status.busy": "2023-10-08T12:34:40.294951Z",
     "iopub.status.idle": "2023-10-08T12:34:40.825916Z",
     "shell.execute_reply": "2023-10-08T12:34:40.824419Z"
    },
    "papermill": {
     "duration": 0.554674,
     "end_time": "2023-10-08T12:34:40.828118",
     "exception": false,
     "start_time": "2023-10-08T12:34:40.273444",
     "status": "completed"
    },
    "tags": []
   },
   "outputs": [
    {
     "name": "stdout",
     "output_type": "stream",
     "text": [
      "Accuracy:  0.8044692737430168\n"
     ]
    }
   ],
   "source": [
    "xgb = XGBClassifier(**study_xgb.best_params)\n",
    "xgb.fit(X_train, y_train)\n",
    "y_pred = xgb.predict(X_valid)\n",
    "\n",
    "print('Accuracy: ', accuracy_score(y_valid, y_pred))"
   ]
  },
  {
   "cell_type": "code",
   "execution_count": null,
   "id": "4176d780",
   "metadata": {
    "papermill": {
     "duration": 0.018498,
     "end_time": "2023-10-08T12:34:40.865934",
     "exception": false,
     "start_time": "2023-10-08T12:34:40.847436",
     "status": "completed"
    },
    "tags": []
   },
   "outputs": [],
   "source": []
  },
  {
   "cell_type": "code",
   "execution_count": 48,
   "id": "a50b0007",
   "metadata": {
    "execution": {
     "iopub.execute_input": "2023-10-08T12:34:40.905195Z",
     "iopub.status.busy": "2023-10-08T12:34:40.904852Z",
     "iopub.status.idle": "2023-10-08T12:34:40.911425Z",
     "shell.execute_reply": "2023-10-08T12:34:40.910285Z"
    },
    "papermill": {
     "duration": 0.028616,
     "end_time": "2023-10-08T12:34:40.913315",
     "exception": false,
     "start_time": "2023-10-08T12:34:40.884699",
     "status": "completed"
    },
    "tags": []
   },
   "outputs": [],
   "source": [
    "from sklearn.ensemble import RandomForestClassifier\n",
    "from sklearn.metrics import accuracy_score, f1_score, confusion_matrix, recall_score, precision_score\n",
    "import optuna\n",
    "def objective_rfc(trial):\n",
    "    \"\"\"Define the objective function\"\"\"\n",
    "    \n",
    "    params = {\n",
    "        'max_depth': trial.suggest_int('max_depth', 1, 15),\n",
    "        'n_estimators': trial.suggest_int('n_estimators', 100, 5000),\n",
    "        'bootstrap':trial.suggest_categorical('bootstrap', [True]),\n",
    "        'min_samples_split': trial.suggest_int('min_samples_split', 2, 15),\n",
    "        'min_samples_leaf': trial.suggest_int('min_samples_leaf', 1, 15),\n",
    "    }\n",
    "    \n",
    "    model_rfc = RandomForestClassifier(**params)\n",
    "    scores = cross_val_score(model_rfc, X_train, y_train, cv=10, scoring='accuracy')  \n",
    "    \n",
    "    return scores.mean()"
   ]
  },
  {
   "cell_type": "code",
   "execution_count": 49,
   "id": "e75dab1e",
   "metadata": {
    "execution": {
     "iopub.execute_input": "2023-10-08T12:34:40.953455Z",
     "iopub.status.busy": "2023-10-08T12:34:40.953079Z",
     "iopub.status.idle": "2023-10-08T14:27:37.148406Z",
     "shell.execute_reply": "2023-10-08T14:27:37.147214Z"
    },
    "papermill": {
     "duration": 6776.238441,
     "end_time": "2023-10-08T14:27:37.171260",
     "exception": false,
     "start_time": "2023-10-08T12:34:40.932819",
     "status": "completed"
    },
    "tags": []
   },
   "outputs": [
    {
     "data": {
      "application/vnd.jupyter.widget-view+json": {
       "model_id": "30f1c7cd9c0d4082a43ffcea3def7d50",
       "version_major": 2,
       "version_minor": 0
      },
      "text/plain": [
       "  0%|          | 0/100 [00:00<?, ?it/s]"
      ]
     },
     "metadata": {},
     "output_type": "display_data"
    }
   ],
   "source": [
    "study_rfc = optuna.create_study(direction='maximize')\n",
    "optuna.logging.set_verbosity(optuna.logging.WARNING)\n",
    "study_rfc.optimize(objective_rfc, n_trials=100,show_progress_bar=True)"
   ]
  },
  {
   "cell_type": "code",
   "execution_count": 50,
   "id": "5fb94cde",
   "metadata": {
    "execution": {
     "iopub.execute_input": "2023-10-08T14:27:37.212749Z",
     "iopub.status.busy": "2023-10-08T14:27:37.212366Z",
     "iopub.status.idle": "2023-10-08T14:27:37.217627Z",
     "shell.execute_reply": "2023-10-08T14:27:37.216492Z"
    },
    "papermill": {
     "duration": 0.028927,
     "end_time": "2023-10-08T14:27:37.219741",
     "exception": false,
     "start_time": "2023-10-08T14:27:37.190814",
     "status": "completed"
    },
    "tags": []
   },
   "outputs": [
    {
     "name": "stdout",
     "output_type": "stream",
     "text": [
      "Best parameters {'max_depth': 5, 'n_estimators': 4737, 'bootstrap': True, 'min_samples_split': 13, 'min_samples_leaf': 1}\n"
     ]
    }
   ],
   "source": [
    "# Print the best parameters\n",
    "print('Best parameters', study_rfc.best_params)"
   ]
  },
  {
   "cell_type": "code",
   "execution_count": 51,
   "id": "19b58a0d",
   "metadata": {
    "execution": {
     "iopub.execute_input": "2023-10-08T14:27:37.262021Z",
     "iopub.status.busy": "2023-10-08T14:27:37.261621Z",
     "iopub.status.idle": "2023-10-08T14:27:45.603646Z",
     "shell.execute_reply": "2023-10-08T14:27:45.602733Z"
    },
    "papermill": {
     "duration": 8.365847,
     "end_time": "2023-10-08T14:27:45.605608",
     "exception": false,
     "start_time": "2023-10-08T14:27:37.239761",
     "status": "completed"
    },
    "tags": []
   },
   "outputs": [
    {
     "name": "stdout",
     "output_type": "stream",
     "text": [
      "Accuracy:  0.8156424581005587\n"
     ]
    }
   ],
   "source": [
    "rfc = RandomForestClassifier(**study_rfc.best_params)\n",
    "rfc.fit(X_train, y_train)\n",
    "y_pred = rfc.predict(X_valid)\n",
    "\n",
    "print('Accuracy: ', accuracy_score(y_valid, y_pred))"
   ]
  },
  {
   "cell_type": "code",
   "execution_count": null,
   "id": "aa6bfa59",
   "metadata": {
    "papermill": {
     "duration": 0.018899,
     "end_time": "2023-10-08T14:27:45.644009",
     "exception": false,
     "start_time": "2023-10-08T14:27:45.625110",
     "status": "completed"
    },
    "tags": []
   },
   "outputs": [],
   "source": []
  },
  {
   "cell_type": "code",
   "execution_count": 52,
   "id": "09363db1",
   "metadata": {
    "execution": {
     "iopub.execute_input": "2023-10-08T14:27:45.685630Z",
     "iopub.status.busy": "2023-10-08T14:27:45.684974Z",
     "iopub.status.idle": "2023-10-08T14:45:32.120593Z",
     "shell.execute_reply": "2023-10-08T14:45:32.119493Z"
    },
    "papermill": {
     "duration": 1066.458728,
     "end_time": "2023-10-08T14:45:32.122729",
     "exception": false,
     "start_time": "2023-10-08T14:27:45.664001",
     "status": "completed"
    },
    "tags": []
   },
   "outputs": [
    {
     "data": {
      "application/vnd.jupyter.widget-view+json": {
       "model_id": "78d62bf585304f77b516deca30439be6",
       "version_major": 2,
       "version_minor": 0
      },
      "text/plain": [
       "  0%|          | 0/100 [00:00<?, ?it/s]"
      ]
     },
     "metadata": {},
     "output_type": "display_data"
    },
    {
     "name": "stdout",
     "output_type": "stream",
     "text": [
      "Лучшие веса: {'cat': 1.9868623187386574, 'lgb': 1.7387063984609894, 'xgb': 0.762437672636519, 'rfc': 1.9954496273718763}\n",
      "Лучшая точность: 0.8379888268156425\n"
     ]
    }
   ],
   "source": [
    "from sklearn.ensemble import VotingClassifier\n",
    "from sklearn.metrics import accuracy_score\n",
    "import optuna\n",
    "\n",
    "def objective(trial):\n",
    "    weights = {}\n",
    "    weights['cat'] = trial.suggest_uniform('cat_weight', 0.1, 2.0)\n",
    "    weights['lgb'] = trial.suggest_uniform('lgb_weight', 0.1, 2.0)\n",
    "    weights['xgb'] = trial.suggest_uniform('xgb_weight', 0.1, 2.0)\n",
    "    weights['rfc'] = trial.suggest_uniform('rfc_weight', 0.1, 2.0)\n",
    "\n",
    "    voting = VotingClassifier(estimators=[\n",
    "        ('cat', cat),\n",
    "        ('lgb', lgb),\n",
    "        ('xgb', xgb),\n",
    "        ('rfc', rfc)\n",
    "    ], voting='soft', weights=list(weights.values()))\n",
    "\n",
    "    voting.fit(X_train, y_train)\n",
    "\n",
    "    voting_pred = voting.predict(X_valid)\n",
    "\n",
    "    accuracy = accuracy_score(y_valid, voting_pred)\n",
    "\n",
    "    return -accuracy  \n",
    "\n",
    "if __name__ == '__main__':\n",
    "    study = optuna.create_study(direction='minimize')\n",
    "    study.optimize(objective, n_trials=100, show_progress_bar=True)\n",
    "\n",
    "    # Получите лучшие веса\n",
    "    best_weights = {\n",
    "        'cat': study.best_params['cat_weight'],\n",
    "        'lgb': study.best_params['lgb_weight'],\n",
    "        'xgb': study.best_params['xgb_weight'],\n",
    "        'rfc': study.best_params['rfc_weight']\n",
    "    }\n",
    "\n",
    "    best_voting = VotingClassifier(estimators=[\n",
    "        ('cat', cat),\n",
    "        ('lgb', lgb),\n",
    "        ('xgb', xgb),\n",
    "        ('rfc', rfc)\n",
    "    ], voting='soft', weights=list(best_weights.values()))\n",
    "\n",
    "    best_voting.fit(X_train, y_train)\n",
    "\n",
    "    best_voting_pred = best_voting.predict(X_valid)\n",
    "\n",
    "    best_accuracy = accuracy_score(y_valid, best_voting_pred)\n",
    "    print('Лучшие веса:', best_weights)\n",
    "    print('Лучшая точность:', best_accuracy)"
   ]
  },
  {
   "cell_type": "code",
   "execution_count": null,
   "id": "89bbd5f5",
   "metadata": {
    "papermill": {
     "duration": 0.027425,
     "end_time": "2023-10-08T14:45:32.171061",
     "exception": false,
     "start_time": "2023-10-08T14:45:32.143636",
     "status": "completed"
    },
    "tags": []
   },
   "outputs": [],
   "source": []
  },
  {
   "cell_type": "code",
   "execution_count": 53,
   "id": "35360f1b",
   "metadata": {
    "execution": {
     "iopub.execute_input": "2023-10-08T14:45:32.212588Z",
     "iopub.status.busy": "2023-10-08T14:45:32.212227Z",
     "iopub.status.idle": "2023-10-08T14:45:32.217455Z",
     "shell.execute_reply": "2023-10-08T14:45:32.216712Z"
    },
    "papermill": {
     "duration": 0.02858,
     "end_time": "2023-10-08T14:45:32.219767",
     "exception": false,
     "start_time": "2023-10-08T14:45:32.191187",
     "status": "completed"
    },
    "tags": []
   },
   "outputs": [],
   "source": [
    "import matplotlib\n",
    "matplotlib.rc_file_defaults()"
   ]
  },
  {
   "cell_type": "code",
   "execution_count": 54,
   "id": "e0b0ceaa",
   "metadata": {
    "execution": {
     "iopub.execute_input": "2023-10-08T14:45:32.273313Z",
     "iopub.status.busy": "2023-10-08T14:45:32.272010Z",
     "iopub.status.idle": "2023-10-08T14:45:42.879805Z",
     "shell.execute_reply": "2023-10-08T14:45:42.879043Z"
    },
    "papermill": {
     "duration": 10.634473,
     "end_time": "2023-10-08T14:45:42.882103",
     "exception": false,
     "start_time": "2023-10-08T14:45:32.247630",
     "status": "completed"
    },
    "tags": []
   },
   "outputs": [
    {
     "name": "stdout",
     "output_type": "stream",
     "text": [
      "Accuracy:  0.8268156424581006\n"
     ]
    }
   ],
   "source": [
    "from sklearn.ensemble import VotingClassifier\n",
    "voting = VotingClassifier(estimators=[('cat', cat),\n",
    "                                      ('lgb', lgb), \n",
    "                                      ('xgb', xgb),\n",
    "                                      ('rfc', rfc)], voting='soft')\n",
    "voting.fit(X_train,y_train)\n",
    "voting_pred = voting.predict(X_valid)\n",
    "\n",
    "print('Accuracy: ', accuracy_score(y_valid, voting_pred))"
   ]
  },
  {
   "cell_type": "code",
   "execution_count": 55,
   "id": "6cf5d8e4",
   "metadata": {
    "execution": {
     "iopub.execute_input": "2023-10-08T14:45:42.923305Z",
     "iopub.status.busy": "2023-10-08T14:45:42.922654Z",
     "iopub.status.idle": "2023-10-08T14:45:43.523933Z",
     "shell.execute_reply": "2023-10-08T14:45:43.523058Z"
    },
    "papermill": {
     "duration": 0.624212,
     "end_time": "2023-10-08T14:45:43.525941",
     "exception": false,
     "start_time": "2023-10-08T14:45:42.901729",
     "status": "completed"
    },
    "tags": []
   },
   "outputs": [
    {
     "data": {
      "text/plain": [
       "<sklearn.metrics._plot.confusion_matrix.ConfusionMatrixDisplay at 0x7d6c91da6080>"
      ]
     },
     "execution_count": 55,
     "metadata": {},
     "output_type": "execute_result"
    },
    {
     "data": {
      "image/png": "[encoded data removed]",
      "text/plain": [
       "<Figure size 640x480 with 2 Axes>"
      ]
     },
     "metadata": {},
     "output_type": "display_data"
    }
   ],
   "source": [
    "from sklearn.metrics import ConfusionMatrixDisplay\n",
    "\n",
    "ConfusionMatrixDisplay.from_estimator(voting, X_valid, y_valid,cmap=\"RdPu\")"
   ]
  },
  {
   "cell_type": "code",
   "execution_count": 56,
   "id": "0cb5411f",
   "metadata": {
    "execution": {
     "iopub.execute_input": "2023-10-08T14:45:43.568636Z",
     "iopub.status.busy": "2023-10-08T14:45:43.567962Z",
     "iopub.status.idle": "2023-10-08T14:46:45.066476Z",
     "shell.execute_reply": "2023-10-08T14:46:45.065176Z"
    },
    "papermill": {
     "duration": 61.541549,
     "end_time": "2023-10-08T14:46:45.088113",
     "exception": false,
     "start_time": "2023-10-08T14:45:43.546564",
     "status": "completed"
    },
    "tags": []
   },
   "outputs": [
    {
     "name": "stdout",
     "output_type": "stream",
     "text": [
      "Accuracy:  0.8268156424581006\n"
     ]
    }
   ],
   "source": [
    "from sklearn.ensemble import StackingClassifier\n",
    "stk = StackingClassifier(estimators=[('cat', cat),\n",
    "                                      ('lgb', lgb), \n",
    "                                      ('xgb', xgb),\n",
    "                                      ('rfc', rfc)])\n",
    "stk.fit(X_train,y_train)\n",
    "stk_pred = stk.predict(X_valid)\n",
    "\n",
    "print('Accuracy: ', accuracy_score(y_valid, stk_pred))"
   ]
  },
  {
   "cell_type": "code",
   "execution_count": 57,
   "id": "9567da56",
   "metadata": {
    "execution": {
     "iopub.execute_input": "2023-10-08T14:46:45.131771Z",
     "iopub.status.busy": "2023-10-08T14:46:45.131392Z",
     "iopub.status.idle": "2023-10-08T14:46:45.662507Z",
     "shell.execute_reply": "2023-10-08T14:46:45.661492Z"
    },
    "papermill": {
     "duration": 0.554905,
     "end_time": "2023-10-08T14:46:45.664542",
     "exception": false,
     "start_time": "2023-10-08T14:46:45.109637",
     "status": "completed"
    },
    "tags": []
   },
   "outputs": [
    {
     "data": {
      "text/plain": [
       "<sklearn.metrics._plot.confusion_matrix.ConfusionMatrixDisplay at 0x7d6c919321a0>"
      ]
     },
     "execution_count": 57,
     "metadata": {},
     "output_type": "execute_result"
    },
    {
     "data": {
      "image/png": "[encoded data removed]",
      "text/plain": [
       "<Figure size 640x480 with 2 Axes>"
      ]
     },
     "metadata": {},
     "output_type": "display_data"
    }
   ],
   "source": [
    "from sklearn.metrics import ConfusionMatrixDisplay\n",
    "\n",
    "ConfusionMatrixDisplay.from_estimator(stk, X_valid, y_valid,cmap=\"RdPu\")"
   ]
  },
  {
   "cell_type": "code",
   "execution_count": 58,
   "id": "97ab6af3",
   "metadata": {
    "execution": {
     "iopub.execute_input": "2023-10-08T14:46:45.708409Z",
     "iopub.status.busy": "2023-10-08T14:46:45.707999Z",
     "iopub.status.idle": "2023-10-08T14:46:46.162534Z",
     "shell.execute_reply": "2023-10-08T14:46:46.161393Z"
    },
    "papermill": {
     "duration": 0.479033,
     "end_time": "2023-10-08T14:46:46.164917",
     "exception": false,
     "start_time": "2023-10-08T14:46:45.685884",
     "status": "completed"
    },
    "tags": []
   },
   "outputs": [
    {
     "data": {
      "text/html": [
       "<div>\n",
       "<style scoped>\n",
       "    .dataframe tbody tr th:only-of-type {\n",
       "        vertical-align: middle;\n",
       "    }\n",
       "\n",
       "    .dataframe tbody tr th {\n",
       "        vertical-align: top;\n",
       "    }\n",
       "\n",
       "    .dataframe thead th {\n",
       "        text-align: right;\n",
       "    }\n",
       "</style>\n",
       "<table border=\"1\" class=\"dataframe\">\n",
       "  <thead>\n",
       "    <tr style=\"text-align: right;\">\n",
       "      <th></th>\n",
       "      <th>PassengerId</th>\n",
       "      <th>Survived</th>\n",
       "    </tr>\n",
       "  </thead>\n",
       "  <tbody>\n",
       "    <tr>\n",
       "      <th>0</th>\n",
       "      <td>892</td>\n",
       "      <td>0</td>\n",
       "    </tr>\n",
       "    <tr>\n",
       "      <th>1</th>\n",
       "      <td>893</td>\n",
       "      <td>0</td>\n",
       "    </tr>\n",
       "    <tr>\n",
       "      <th>2</th>\n",
       "      <td>894</td>\n",
       "      <td>0</td>\n",
       "    </tr>\n",
       "    <tr>\n",
       "      <th>3</th>\n",
       "      <td>895</td>\n",
       "      <td>0</td>\n",
       "    </tr>\n",
       "    <tr>\n",
       "      <th>4</th>\n",
       "      <td>896</td>\n",
       "      <td>1</td>\n",
       "    </tr>\n",
       "    <tr>\n",
       "      <th>...</th>\n",
       "      <td>...</td>\n",
       "      <td>...</td>\n",
       "    </tr>\n",
       "    <tr>\n",
       "      <th>413</th>\n",
       "      <td>1305</td>\n",
       "      <td>0</td>\n",
       "    </tr>\n",
       "    <tr>\n",
       "      <th>414</th>\n",
       "      <td>1306</td>\n",
       "      <td>1</td>\n",
       "    </tr>\n",
       "    <tr>\n",
       "      <th>415</th>\n",
       "      <td>1307</td>\n",
       "      <td>0</td>\n",
       "    </tr>\n",
       "    <tr>\n",
       "      <th>416</th>\n",
       "      <td>1308</td>\n",
       "      <td>0</td>\n",
       "    </tr>\n",
       "    <tr>\n",
       "      <th>417</th>\n",
       "      <td>1309</td>\n",
       "      <td>0</td>\n",
       "    </tr>\n",
       "  </tbody>\n",
       "</table>\n",
       "<p>418 rows × 2 columns</p>\n",
       "</div>"
      ],
      "text/plain": [
       "     PassengerId  Survived\n",
       "0            892         0\n",
       "1            893         0\n",
       "2            894         0\n",
       "3            895         0\n",
       "4            896         1\n",
       "..           ...       ...\n",
       "413         1305         0\n",
       "414         1306         1\n",
       "415         1307         0\n",
       "416         1308         0\n",
       "417         1309         0\n",
       "\n",
       "[418 rows x 2 columns]"
      ]
     },
     "execution_count": 58,
     "metadata": {},
     "output_type": "execute_result"
    }
   ],
   "source": [
    "sub = pd.DataFrame(test_data['PassengerId'])\n",
    "sub[\"Survived\"]=best_voting.predict(test_data.drop(columns=[\"PassengerId\"]))\n",
    "sub[\"Survived\"]=sub[\"Survived\"]\n",
    "sub.to_csv('submission_weighted.csv',index=False)\n",
    "sub"
   ]
  },
  {
   "cell_type": "code",
   "execution_count": 59,
   "id": "2429a143",
   "metadata": {
    "execution": {
     "iopub.execute_input": "2023-10-08T14:46:46.210214Z",
     "iopub.status.busy": "2023-10-08T14:46:46.209630Z",
     "iopub.status.idle": "2023-10-08T14:46:46.637740Z",
     "shell.execute_reply": "2023-10-08T14:46:46.636514Z"
    },
    "papermill": {
     "duration": 0.453171,
     "end_time": "2023-10-08T14:46:46.639894",
     "exception": false,
     "start_time": "2023-10-08T14:46:46.186723",
     "status": "completed"
    },
    "tags": []
   },
   "outputs": [
    {
     "data": {
      "text/html": [
       "<div>\n",
       "<style scoped>\n",
       "    .dataframe tbody tr th:only-of-type {\n",
       "        vertical-align: middle;\n",
       "    }\n",
       "\n",
       "    .dataframe tbody tr th {\n",
       "        vertical-align: top;\n",
       "    }\n",
       "\n",
       "    .dataframe thead th {\n",
       "        text-align: right;\n",
       "    }\n",
       "</style>\n",
       "<table border=\"1\" class=\"dataframe\">\n",
       "  <thead>\n",
       "    <tr style=\"text-align: right;\">\n",
       "      <th></th>\n",
       "      <th>PassengerId</th>\n",
       "      <th>Survived</th>\n",
       "    </tr>\n",
       "  </thead>\n",
       "  <tbody>\n",
       "    <tr>\n",
       "      <th>0</th>\n",
       "      <td>892</td>\n",
       "      <td>0</td>\n",
       "    </tr>\n",
       "    <tr>\n",
       "      <th>1</th>\n",
       "      <td>893</td>\n",
       "      <td>0</td>\n",
       "    </tr>\n",
       "    <tr>\n",
       "      <th>2</th>\n",
       "      <td>894</td>\n",
       "      <td>0</td>\n",
       "    </tr>\n",
       "    <tr>\n",
       "      <th>3</th>\n",
       "      <td>895</td>\n",
       "      <td>0</td>\n",
       "    </tr>\n",
       "    <tr>\n",
       "      <th>4</th>\n",
       "      <td>896</td>\n",
       "      <td>1</td>\n",
       "    </tr>\n",
       "    <tr>\n",
       "      <th>...</th>\n",
       "      <td>...</td>\n",
       "      <td>...</td>\n",
       "    </tr>\n",
       "    <tr>\n",
       "      <th>413</th>\n",
       "      <td>1305</td>\n",
       "      <td>0</td>\n",
       "    </tr>\n",
       "    <tr>\n",
       "      <th>414</th>\n",
       "      <td>1306</td>\n",
       "      <td>1</td>\n",
       "    </tr>\n",
       "    <tr>\n",
       "      <th>415</th>\n",
       "      <td>1307</td>\n",
       "      <td>0</td>\n",
       "    </tr>\n",
       "    <tr>\n",
       "      <th>416</th>\n",
       "      <td>1308</td>\n",
       "      <td>0</td>\n",
       "    </tr>\n",
       "    <tr>\n",
       "      <th>417</th>\n",
       "      <td>1309</td>\n",
       "      <td>0</td>\n",
       "    </tr>\n",
       "  </tbody>\n",
       "</table>\n",
       "<p>418 rows × 2 columns</p>\n",
       "</div>"
      ],
      "text/plain": [
       "     PassengerId  Survived\n",
       "0            892         0\n",
       "1            893         0\n",
       "2            894         0\n",
       "3            895         0\n",
       "4            896         1\n",
       "..           ...       ...\n",
       "413         1305         0\n",
       "414         1306         1\n",
       "415         1307         0\n",
       "416         1308         0\n",
       "417         1309         0\n",
       "\n",
       "[418 rows x 2 columns]"
      ]
     },
     "execution_count": 59,
     "metadata": {},
     "output_type": "execute_result"
    }
   ],
   "source": [
    "sub = pd.DataFrame(test_data['PassengerId'])\n",
    "sub[\"Survived\"]=stk.predict(test_data.drop(columns=[\"PassengerId\"]))\n",
    "sub[\"Survived\"]=sub[\"Survived\"]\n",
    "sub.to_csv('submission_stk.csv',index=False)\n",
    "sub"
   ]
  },
  {
   "cell_type": "code",
   "execution_count": 60,
   "id": "d8ca27d2",
   "metadata": {
    "execution": {
     "iopub.execute_input": "2023-10-08T14:46:46.684510Z",
     "iopub.status.busy": "2023-10-08T14:46:46.684127Z",
     "iopub.status.idle": "2023-10-08T14:46:47.111785Z",
     "shell.execute_reply": "2023-10-08T14:46:47.110713Z"
    },
    "papermill": {
     "duration": 0.452824,
     "end_time": "2023-10-08T14:46:47.113890",
     "exception": false,
     "start_time": "2023-10-08T14:46:46.661066",
     "status": "completed"
    },
    "tags": []
   },
   "outputs": [
    {
     "data": {
      "text/html": [
       "<div>\n",
       "<style scoped>\n",
       "    .dataframe tbody tr th:only-of-type {\n",
       "        vertical-align: middle;\n",
       "    }\n",
       "\n",
       "    .dataframe tbody tr th {\n",
       "        vertical-align: top;\n",
       "    }\n",
       "\n",
       "    .dataframe thead th {\n",
       "        text-align: right;\n",
       "    }\n",
       "</style>\n",
       "<table border=\"1\" class=\"dataframe\">\n",
       "  <thead>\n",
       "    <tr style=\"text-align: right;\">\n",
       "      <th></th>\n",
       "      <th>PassengerId</th>\n",
       "      <th>Survived</th>\n",
       "    </tr>\n",
       "  </thead>\n",
       "  <tbody>\n",
       "    <tr>\n",
       "      <th>0</th>\n",
       "      <td>892</td>\n",
       "      <td>0</td>\n",
       "    </tr>\n",
       "    <tr>\n",
       "      <th>1</th>\n",
       "      <td>893</td>\n",
       "      <td>0</td>\n",
       "    </tr>\n",
       "    <tr>\n",
       "      <th>2</th>\n",
       "      <td>894</td>\n",
       "      <td>0</td>\n",
       "    </tr>\n",
       "    <tr>\n",
       "      <th>3</th>\n",
       "      <td>895</td>\n",
       "      <td>0</td>\n",
       "    </tr>\n",
       "    <tr>\n",
       "      <th>4</th>\n",
       "      <td>896</td>\n",
       "      <td>1</td>\n",
       "    </tr>\n",
       "    <tr>\n",
       "      <th>...</th>\n",
       "      <td>...</td>\n",
       "      <td>...</td>\n",
       "    </tr>\n",
       "    <tr>\n",
       "      <th>413</th>\n",
       "      <td>1305</td>\n",
       "      <td>0</td>\n",
       "    </tr>\n",
       "    <tr>\n",
       "      <th>414</th>\n",
       "      <td>1306</td>\n",
       "      <td>1</td>\n",
       "    </tr>\n",
       "    <tr>\n",
       "      <th>415</th>\n",
       "      <td>1307</td>\n",
       "      <td>0</td>\n",
       "    </tr>\n",
       "    <tr>\n",
       "      <th>416</th>\n",
       "      <td>1308</td>\n",
       "      <td>0</td>\n",
       "    </tr>\n",
       "    <tr>\n",
       "      <th>417</th>\n",
       "      <td>1309</td>\n",
       "      <td>0</td>\n",
       "    </tr>\n",
       "  </tbody>\n",
       "</table>\n",
       "<p>418 rows × 2 columns</p>\n",
       "</div>"
      ],
      "text/plain": [
       "     PassengerId  Survived\n",
       "0            892         0\n",
       "1            893         0\n",
       "2            894         0\n",
       "3            895         0\n",
       "4            896         1\n",
       "..           ...       ...\n",
       "413         1305         0\n",
       "414         1306         1\n",
       "415         1307         0\n",
       "416         1308         0\n",
       "417         1309         0\n",
       "\n",
       "[418 rows x 2 columns]"
      ]
     },
     "execution_count": 60,
     "metadata": {},
     "output_type": "execute_result"
    }
   ],
   "source": [
    "sub = pd.DataFrame(test_data['PassengerId'])\n",
    "sub[\"Survived\"]=voting.predict(test_data.drop(columns=[\"PassengerId\"]))\n",
    "sub[\"Survived\"]=sub[\"Survived\"]\n",
    "sub.to_csv('submission_voting.csv',index=False)\n",
    "sub"
   ]
  },
  {
   "cell_type": "code",
   "execution_count": 61,
   "id": "515d2956",
   "metadata": {
    "execution": {
     "iopub.execute_input": "2023-10-08T14:46:47.159035Z",
     "iopub.status.busy": "2023-10-08T14:46:47.158179Z",
     "iopub.status.idle": "2023-10-08T14:46:47.181130Z",
     "shell.execute_reply": "2023-10-08T14:46:47.180216Z"
    },
    "papermill": {
     "duration": 0.047957,
     "end_time": "2023-10-08T14:46:47.183476",
     "exception": false,
     "start_time": "2023-10-08T14:46:47.135519",
     "status": "completed"
    },
    "tags": []
   },
   "outputs": [
    {
     "data": {
      "text/html": [
       "<div>\n",
       "<style scoped>\n",
       "    .dataframe tbody tr th:only-of-type {\n",
       "        vertical-align: middle;\n",
       "    }\n",
       "\n",
       "    .dataframe tbody tr th {\n",
       "        vertical-align: top;\n",
       "    }\n",
       "\n",
       "    .dataframe thead th {\n",
       "        text-align: right;\n",
       "    }\n",
       "</style>\n",
       "<table border=\"1\" class=\"dataframe\">\n",
       "  <thead>\n",
       "    <tr style=\"text-align: right;\">\n",
       "      <th></th>\n",
       "      <th>PassengerId</th>\n",
       "      <th>Survived</th>\n",
       "    </tr>\n",
       "  </thead>\n",
       "  <tbody>\n",
       "    <tr>\n",
       "      <th>0</th>\n",
       "      <td>892</td>\n",
       "      <td>0</td>\n",
       "    </tr>\n",
       "    <tr>\n",
       "      <th>1</th>\n",
       "      <td>893</td>\n",
       "      <td>0</td>\n",
       "    </tr>\n",
       "    <tr>\n",
       "      <th>2</th>\n",
       "      <td>894</td>\n",
       "      <td>0</td>\n",
       "    </tr>\n",
       "    <tr>\n",
       "      <th>3</th>\n",
       "      <td>895</td>\n",
       "      <td>0</td>\n",
       "    </tr>\n",
       "    <tr>\n",
       "      <th>4</th>\n",
       "      <td>896</td>\n",
       "      <td>0</td>\n",
       "    </tr>\n",
       "    <tr>\n",
       "      <th>...</th>\n",
       "      <td>...</td>\n",
       "      <td>...</td>\n",
       "    </tr>\n",
       "    <tr>\n",
       "      <th>413</th>\n",
       "      <td>1305</td>\n",
       "      <td>0</td>\n",
       "    </tr>\n",
       "    <tr>\n",
       "      <th>414</th>\n",
       "      <td>1306</td>\n",
       "      <td>1</td>\n",
       "    </tr>\n",
       "    <tr>\n",
       "      <th>415</th>\n",
       "      <td>1307</td>\n",
       "      <td>0</td>\n",
       "    </tr>\n",
       "    <tr>\n",
       "      <th>416</th>\n",
       "      <td>1308</td>\n",
       "      <td>0</td>\n",
       "    </tr>\n",
       "    <tr>\n",
       "      <th>417</th>\n",
       "      <td>1309</td>\n",
       "      <td>0</td>\n",
       "    </tr>\n",
       "  </tbody>\n",
       "</table>\n",
       "<p>418 rows × 2 columns</p>\n",
       "</div>"
      ],
      "text/plain": [
       "     PassengerId  Survived\n",
       "0            892         0\n",
       "1            893         0\n",
       "2            894         0\n",
       "3            895         0\n",
       "4            896         0\n",
       "..           ...       ...\n",
       "413         1305         0\n",
       "414         1306         1\n",
       "415         1307         0\n",
       "416         1308         0\n",
       "417         1309         0\n",
       "\n",
       "[418 rows x 2 columns]"
      ]
     },
     "execution_count": 61,
     "metadata": {},
     "output_type": "execute_result"
    }
   ],
   "source": [
    "sub = pd.DataFrame(test_data['PassengerId'])\n",
    "sub[\"Survived\"]=cat.predict(test_data.drop(columns=[\"PassengerId\"]))\n",
    "sub[\"Survived\"]=sub[\"Survived\"]\n",
    "sub.to_csv('submission_catboost.csv',index=False)\n",
    "sub"
   ]
  },
  {
   "cell_type": "code",
   "execution_count": 62,
   "id": "506cc890",
   "metadata": {
    "execution": {
     "iopub.execute_input": "2023-10-08T14:46:47.228602Z",
     "iopub.status.busy": "2023-10-08T14:46:47.228196Z",
     "iopub.status.idle": "2023-10-08T14:46:47.249286Z",
     "shell.execute_reply": "2023-10-08T14:46:47.248248Z"
    },
    "papermill": {
     "duration": 0.046037,
     "end_time": "2023-10-08T14:46:47.251244",
     "exception": false,
     "start_time": "2023-10-08T14:46:47.205207",
     "status": "completed"
    },
    "tags": []
   },
   "outputs": [
    {
     "data": {
      "text/html": [
       "<div>\n",
       "<style scoped>\n",
       "    .dataframe tbody tr th:only-of-type {\n",
       "        vertical-align: middle;\n",
       "    }\n",
       "\n",
       "    .dataframe tbody tr th {\n",
       "        vertical-align: top;\n",
       "    }\n",
       "\n",
       "    .dataframe thead th {\n",
       "        text-align: right;\n",
       "    }\n",
       "</style>\n",
       "<table border=\"1\" class=\"dataframe\">\n",
       "  <thead>\n",
       "    <tr style=\"text-align: right;\">\n",
       "      <th></th>\n",
       "      <th>PassengerId</th>\n",
       "      <th>Survived</th>\n",
       "    </tr>\n",
       "  </thead>\n",
       "  <tbody>\n",
       "    <tr>\n",
       "      <th>0</th>\n",
       "      <td>892</td>\n",
       "      <td>0</td>\n",
       "    </tr>\n",
       "    <tr>\n",
       "      <th>1</th>\n",
       "      <td>893</td>\n",
       "      <td>0</td>\n",
       "    </tr>\n",
       "    <tr>\n",
       "      <th>2</th>\n",
       "      <td>894</td>\n",
       "      <td>0</td>\n",
       "    </tr>\n",
       "    <tr>\n",
       "      <th>3</th>\n",
       "      <td>895</td>\n",
       "      <td>0</td>\n",
       "    </tr>\n",
       "    <tr>\n",
       "      <th>4</th>\n",
       "      <td>896</td>\n",
       "      <td>1</td>\n",
       "    </tr>\n",
       "    <tr>\n",
       "      <th>...</th>\n",
       "      <td>...</td>\n",
       "      <td>...</td>\n",
       "    </tr>\n",
       "    <tr>\n",
       "      <th>413</th>\n",
       "      <td>1305</td>\n",
       "      <td>0</td>\n",
       "    </tr>\n",
       "    <tr>\n",
       "      <th>414</th>\n",
       "      <td>1306</td>\n",
       "      <td>1</td>\n",
       "    </tr>\n",
       "    <tr>\n",
       "      <th>415</th>\n",
       "      <td>1307</td>\n",
       "      <td>0</td>\n",
       "    </tr>\n",
       "    <tr>\n",
       "      <th>416</th>\n",
       "      <td>1308</td>\n",
       "      <td>0</td>\n",
       "    </tr>\n",
       "    <tr>\n",
       "      <th>417</th>\n",
       "      <td>1309</td>\n",
       "      <td>0</td>\n",
       "    </tr>\n",
       "  </tbody>\n",
       "</table>\n",
       "<p>418 rows × 2 columns</p>\n",
       "</div>"
      ],
      "text/plain": [
       "     PassengerId  Survived\n",
       "0            892         0\n",
       "1            893         0\n",
       "2            894         0\n",
       "3            895         0\n",
       "4            896         1\n",
       "..           ...       ...\n",
       "413         1305         0\n",
       "414         1306         1\n",
       "415         1307         0\n",
       "416         1308         0\n",
       "417         1309         0\n",
       "\n",
       "[418 rows x 2 columns]"
      ]
     },
     "execution_count": 62,
     "metadata": {},
     "output_type": "execute_result"
    }
   ],
   "source": [
    "sub = pd.DataFrame(test_data['PassengerId'])\n",
    "sub[\"Survived\"]=xgb.predict(test_data.drop(columns=[\"PassengerId\"]))\n",
    "sub[\"Survived\"]=sub[\"Survived\"]\n",
    "sub.to_csv('submission_xgboost.csv',index=False)\n",
    "sub"
   ]
  },
  {
   "cell_type": "code",
   "execution_count": 63,
   "id": "6157a11b",
   "metadata": {
    "execution": {
     "iopub.execute_input": "2023-10-08T14:46:47.295732Z",
     "iopub.status.busy": "2023-10-08T14:46:47.295367Z",
     "iopub.status.idle": "2023-10-08T14:46:47.313016Z",
     "shell.execute_reply": "2023-10-08T14:46:47.311980Z"
    },
    "papermill": {
     "duration": 0.0423,
     "end_time": "2023-10-08T14:46:47.314984",
     "exception": false,
     "start_time": "2023-10-08T14:46:47.272684",
     "status": "completed"
    },
    "tags": []
   },
   "outputs": [
    {
     "data": {
      "text/html": [
       "<div>\n",
       "<style scoped>\n",
       "    .dataframe tbody tr th:only-of-type {\n",
       "        vertical-align: middle;\n",
       "    }\n",
       "\n",
       "    .dataframe tbody tr th {\n",
       "        vertical-align: top;\n",
       "    }\n",
       "\n",
       "    .dataframe thead th {\n",
       "        text-align: right;\n",
       "    }\n",
       "</style>\n",
       "<table border=\"1\" class=\"dataframe\">\n",
       "  <thead>\n",
       "    <tr style=\"text-align: right;\">\n",
       "      <th></th>\n",
       "      <th>PassengerId</th>\n",
       "      <th>Survived</th>\n",
       "    </tr>\n",
       "  </thead>\n",
       "  <tbody>\n",
       "    <tr>\n",
       "      <th>0</th>\n",
       "      <td>892</td>\n",
       "      <td>1</td>\n",
       "    </tr>\n",
       "    <tr>\n",
       "      <th>1</th>\n",
       "      <td>893</td>\n",
       "      <td>1</td>\n",
       "    </tr>\n",
       "    <tr>\n",
       "      <th>2</th>\n",
       "      <td>894</td>\n",
       "      <td>0</td>\n",
       "    </tr>\n",
       "    <tr>\n",
       "      <th>3</th>\n",
       "      <td>895</td>\n",
       "      <td>0</td>\n",
       "    </tr>\n",
       "    <tr>\n",
       "      <th>4</th>\n",
       "      <td>896</td>\n",
       "      <td>1</td>\n",
       "    </tr>\n",
       "    <tr>\n",
       "      <th>...</th>\n",
       "      <td>...</td>\n",
       "      <td>...</td>\n",
       "    </tr>\n",
       "    <tr>\n",
       "      <th>413</th>\n",
       "      <td>1305</td>\n",
       "      <td>0</td>\n",
       "    </tr>\n",
       "    <tr>\n",
       "      <th>414</th>\n",
       "      <td>1306</td>\n",
       "      <td>1</td>\n",
       "    </tr>\n",
       "    <tr>\n",
       "      <th>415</th>\n",
       "      <td>1307</td>\n",
       "      <td>0</td>\n",
       "    </tr>\n",
       "    <tr>\n",
       "      <th>416</th>\n",
       "      <td>1308</td>\n",
       "      <td>0</td>\n",
       "    </tr>\n",
       "    <tr>\n",
       "      <th>417</th>\n",
       "      <td>1309</td>\n",
       "      <td>0</td>\n",
       "    </tr>\n",
       "  </tbody>\n",
       "</table>\n",
       "<p>418 rows × 2 columns</p>\n",
       "</div>"
      ],
      "text/plain": [
       "     PassengerId  Survived\n",
       "0            892         1\n",
       "1            893         1\n",
       "2            894         0\n",
       "3            895         0\n",
       "4            896         1\n",
       "..           ...       ...\n",
       "413         1305         0\n",
       "414         1306         1\n",
       "415         1307         0\n",
       "416         1308         0\n",
       "417         1309         0\n",
       "\n",
       "[418 rows x 2 columns]"
      ]
     },
     "execution_count": 63,
     "metadata": {},
     "output_type": "execute_result"
    }
   ],
   "source": [
    "sub = pd.DataFrame(test_data['PassengerId'])\n",
    "sub[\"Survived\"]=lgb.predict(test_data.drop(columns=[\"PassengerId\"]))\n",
    "sub[\"Survived\"]=sub[\"Survived\"]\n",
    "sub.to_csv('submission_lightgbm.csv',index=False)\n",
    "sub"
   ]
  },
  {
   "cell_type": "code",
   "execution_count": 64,
   "id": "21b30140",
   "metadata": {
    "execution": {
     "iopub.execute_input": "2023-10-08T14:46:47.360189Z",
     "iopub.status.busy": "2023-10-08T14:46:47.359839Z",
     "iopub.status.idle": "2023-10-08T14:46:47.786432Z",
     "shell.execute_reply": "2023-10-08T14:46:47.785316Z"
    },
    "papermill": {
     "duration": 0.451794,
     "end_time": "2023-10-08T14:46:47.788469",
     "exception": false,
     "start_time": "2023-10-08T14:46:47.336675",
     "status": "completed"
    },
    "tags": []
   },
   "outputs": [
    {
     "data": {
      "text/html": [
       "<div>\n",
       "<style scoped>\n",
       "    .dataframe tbody tr th:only-of-type {\n",
       "        vertical-align: middle;\n",
       "    }\n",
       "\n",
       "    .dataframe tbody tr th {\n",
       "        vertical-align: top;\n",
       "    }\n",
       "\n",
       "    .dataframe thead th {\n",
       "        text-align: right;\n",
       "    }\n",
       "</style>\n",
       "<table border=\"1\" class=\"dataframe\">\n",
       "  <thead>\n",
       "    <tr style=\"text-align: right;\">\n",
       "      <th></th>\n",
       "      <th>PassengerId</th>\n",
       "      <th>Survived</th>\n",
       "    </tr>\n",
       "  </thead>\n",
       "  <tbody>\n",
       "    <tr>\n",
       "      <th>0</th>\n",
       "      <td>892</td>\n",
       "      <td>0</td>\n",
       "    </tr>\n",
       "    <tr>\n",
       "      <th>1</th>\n",
       "      <td>893</td>\n",
       "      <td>1</td>\n",
       "    </tr>\n",
       "    <tr>\n",
       "      <th>2</th>\n",
       "      <td>894</td>\n",
       "      <td>0</td>\n",
       "    </tr>\n",
       "    <tr>\n",
       "      <th>3</th>\n",
       "      <td>895</td>\n",
       "      <td>0</td>\n",
       "    </tr>\n",
       "    <tr>\n",
       "      <th>4</th>\n",
       "      <td>896</td>\n",
       "      <td>1</td>\n",
       "    </tr>\n",
       "    <tr>\n",
       "      <th>...</th>\n",
       "      <td>...</td>\n",
       "      <td>...</td>\n",
       "    </tr>\n",
       "    <tr>\n",
       "      <th>413</th>\n",
       "      <td>1305</td>\n",
       "      <td>0</td>\n",
       "    </tr>\n",
       "    <tr>\n",
       "      <th>414</th>\n",
       "      <td>1306</td>\n",
       "      <td>1</td>\n",
       "    </tr>\n",
       "    <tr>\n",
       "      <th>415</th>\n",
       "      <td>1307</td>\n",
       "      <td>0</td>\n",
       "    </tr>\n",
       "    <tr>\n",
       "      <th>416</th>\n",
       "      <td>1308</td>\n",
       "      <td>0</td>\n",
       "    </tr>\n",
       "    <tr>\n",
       "      <th>417</th>\n",
       "      <td>1309</td>\n",
       "      <td>0</td>\n",
       "    </tr>\n",
       "  </tbody>\n",
       "</table>\n",
       "<p>418 rows × 2 columns</p>\n",
       "</div>"
      ],
      "text/plain": [
       "     PassengerId  Survived\n",
       "0            892         0\n",
       "1            893         1\n",
       "2            894         0\n",
       "3            895         0\n",
       "4            896         1\n",
       "..           ...       ...\n",
       "413         1305         0\n",
       "414         1306         1\n",
       "415         1307         0\n",
       "416         1308         0\n",
       "417         1309         0\n",
       "\n",
       "[418 rows x 2 columns]"
      ]
     },
     "execution_count": 64,
     "metadata": {},
     "output_type": "execute_result"
    }
   ],
   "source": [
    "sub = pd.DataFrame(test_data['PassengerId'])\n",
    "sub[\"Survived\"]=rfc.predict(test_data.drop(columns=[\"PassengerId\"]))\n",
    "sub[\"Survived\"]=sub[\"Survived\"]\n",
    "sub.to_csv('submission_randomforest.csv',index=False)\n",
    "sub"
   ]
  },
  {
   "cell_type": "code",
   "execution_count": null,
   "id": "8f9963b1",
   "metadata": {
    "papermill": {
     "duration": 0.021051,
     "end_time": "2023-10-08T14:46:47.831173",
     "exception": false,
     "start_time": "2023-10-08T14:46:47.810122",
     "status": "completed"
    },
    "tags": []
   },
   "outputs": [],
   "source": []
  },
  {
   "cell_type": "code",
   "execution_count": null,
   "id": "b204f1cb",
   "metadata": {
    "papermill": {
     "duration": 0.021139,
     "end_time": "2023-10-08T14:46:47.873682",
     "exception": false,
     "start_time": "2023-10-08T14:46:47.852543",
     "status": "completed"
    },
    "tags": []
   },
   "outputs": [],
   "source": []
  },
  {
   "cell_type": "code",
   "execution_count": null,
   "id": "756fdd74",
   "metadata": {
    "papermill": {
     "duration": 0.022796,
     "end_time": "2023-10-08T14:46:47.917868",
     "exception": false,
     "start_time": "2023-10-08T14:46:47.895072",
     "status": "completed"
    },
    "tags": []
   },
   "outputs": [],
   "source": []
  }
 ],
 "metadata": {
  "kernelspec": {
   "display_name": "Python 3",
   "language": "python",
   "name": "python3"
  },
  "language_info": {
   "codemirror_mode": {
    "name": "ipython",
    "version": 3
   },
   "file_extension": ".py",
   "mimetype": "text/x-python",
   "name": "python",
   "nbconvert_exporter": "python",
   "pygments_lexer": "ipython3",
   "version": "3.10.12"
  },
  "papermill": {
   "default_parameters": {},
   "duration": 10550.3081,
   "end_time": "2023-10-08T14:46:49.183508",
   "environment_variables": {},
   "exception": null,
   "input_path": "__notebook__.ipynb",
   "output_path": "__notebook__.ipynb",
   "parameters": {},
   "start_time": "2023-10-08T11:50:58.875408",
   "version": "2.4.0"
  },
  "widgets": {
   "application/vnd.jupyter.widget-state+json": {
    "state": {
     "0986a75eaf1f48549b92bc303fc73b58": {
      "model_module": "@jupyter-widgets/base",
      "model_module_version": "1.2.0",
      "model_name": "LayoutModel",
      "state": {
       "_model_module": "@jupyter-widgets/base",
       "_model_module_version": "1.2.0",
       "_model_name": "LayoutModel",
       "_view_count": null,
       "_view_module": "@jupyter-widgets/base",
       "_view_module_version": "1.2.0",
       "_view_name": "LayoutView",
       "align_content": null,
       "align_items": null,
       "align_self": null,
       "border": null,
       "bottom": null,
       "display": null,
       "flex": null,
       "flex_flow": null,
       "grid_area": null,
       "grid_auto_columns": null,
       "grid_auto_flow": null,
       "grid_auto_rows": null,
       "grid_column": null,
       "grid_gap": null,
       "grid_row": null,
       "grid_template_areas": null,
       "grid_template_columns": null,
       "grid_template_rows": null,
       "height": null,
       "justify_content": null,
       "justify_items": null,
       "left": null,
       "margin": null,
       "max_height": null,
       "max_width": null,
       "min_height": null,
       "min_width": null,
       "object_fit": null,
       "object_position": null,
       "order": null,
       "overflow": null,
       "overflow_x": null,
       "overflow_y": null,
       "padding": null,
       "right": null,
       "top": null,
       "visibility": null,
       "width": null
      }
     },
     "0e99dadddcc544f5ba45e2fdc29748c7": {
      "model_module": "@jupyter-widgets/controls",
      "model_module_version": "1.5.0",
      "model_name": "DescriptionStyleModel",
      "state": {
       "_model_module": "@jupyter-widgets/controls",
       "_model_module_version": "1.5.0",
       "_model_name": "DescriptionStyleModel",
       "_view_count": null,
       "_view_module": "@jupyter-widgets/base",
       "_view_module_version": "1.2.0",
       "_view_name": "StyleView",
       "description_width": ""
      }
     },
     "148a42de10e94ca8af41f825e3878c75": {
      "model_module": "@jupyter-widgets/controls",
      "model_module_version": "1.5.0",
      "model_name": "ProgressStyleModel",
      "state": {
       "_model_module": "@jupyter-widgets/controls",
       "_model_module_version": "1.5.0",
       "_model_name": "ProgressStyleModel",
       "_view_count": null,
       "_view_module": "@jupyter-widgets/base",
       "_view_module_version": "1.2.0",
       "_view_name": "StyleView",
       "bar_color": null,
       "description_width": ""
      }
     },
     "1629eef3fbec41b88862ffebc1715121": {
      "model_module": "@jupyter-widgets/controls",
      "model_module_version": "1.5.0",
      "model_name": "ProgressStyleModel",
      "state": {
       "_model_module": "@jupyter-widgets/controls",
       "_model_module_version": "1.5.0",
       "_model_name": "ProgressStyleModel",
       "_view_count": null,
       "_view_module": "@jupyter-widgets/base",
       "_view_module_version": "1.2.0",
       "_view_name": "StyleView",
       "bar_color": null,
       "description_width": ""
      }
     },
     "20e22207380d4f3dabac1bacf478e019": {
      "model_module": "@jupyter-widgets/base",
      "model_module_version": "1.2.0",
      "model_name": "LayoutModel",
      "state": {
       "_model_module": "@jupyter-widgets/base",
       "_model_module_version": "1.2.0",
       "_model_name": "LayoutModel",
       "_view_count": null,
       "_view_module": "@jupyter-widgets/base",
       "_view_module_version": "1.2.0",
       "_view_name": "LayoutView",
       "align_content": null,
       "align_items": null,
       "align_self": null,
       "border": null,
       "bottom": null,
       "display": null,
       "flex": null,
       "flex_flow": null,
       "grid_area": null,
       "grid_auto_columns": null,
       "grid_auto_flow": null,
       "grid_auto_rows": null,
       "grid_column": null,
       "grid_gap": null,
       "grid_row": null,
       "grid_template_areas": null,
       "grid_template_columns": null,
       "grid_template_rows": null,
       "height": null,
       "justify_content": null,
       "justify_items": null,
       "left": null,
       "margin": null,
       "max_height": null,
       "max_width": null,
       "min_height": null,
       "min_width": null,
       "object_fit": null,
       "object_position": null,
       "order": null,
       "overflow": null,
       "overflow_x": null,
       "overflow_y": null,
       "padding": null,
       "right": null,
       "top": null,
       "visibility": null,
       "width": null
      }
     },
     "2aa070418de842c59c84cabdd2e59a6d": {
      "model_module": "@jupyter-widgets/base",
      "model_module_version": "1.2.0",
      "model_name": "LayoutModel",
      "state": {
       "_model_module": "@jupyter-widgets/base",
       "_model_module_version": "1.2.0",
       "_model_name": "LayoutModel",
       "_view_count": null,
       "_view_module": "@jupyter-widgets/base",
       "_view_module_version": "1.2.0",
       "_view_name": "LayoutView",
       "align_content": null,
       "align_items": null,
       "align_self": null,
       "border": null,
       "bottom": null,
       "display": null,
       "flex": null,
       "flex_flow": null,
       "grid_area": null,
       "grid_auto_columns": null,
       "grid_auto_flow": null,
       "grid_auto_rows": null,
       "grid_column": null,
       "grid_gap": null,
       "grid_row": null,
       "grid_template_areas": null,
       "grid_template_columns": null,
       "grid_template_rows": null,
       "height": null,
       "justify_content": null,
       "justify_items": null,
       "left": null,
       "margin": null,
       "max_height": null,
       "max_width": null,
       "min_height": null,
       "min_width": null,
       "object_fit": null,
       "object_position": null,
       "order": null,
       "overflow": null,
       "overflow_x": null,
       "overflow_y": null,
       "padding": null,
       "right": null,
       "top": null,
       "visibility": null,
       "width": null
      }
     },
     "30f1c7cd9c0d4082a43ffcea3def7d50": {
      "model_module": "@jupyter-widgets/controls",
      "model_module_version": "1.5.0",
      "model_name": "HBoxModel",
      "state": {
       "_dom_classes": [],
       "_model_module": "@jupyter-widgets/controls",
       "_model_module_version": "1.5.0",
       "_model_name": "HBoxModel",
       "_view_count": null,
       "_view_module": "@jupyter-widgets/controls",
       "_view_module_version": "1.5.0",
       "_view_name": "HBoxView",
       "box_style": "",
       "children": [
        "IPY_MODEL_ef20c9946a7e479b8bc89a1a4f62182d",
        "IPY_MODEL_aeab73e71c334fccbf37b792ed370791",
        "IPY_MODEL_eb0e0b47b9674b968c4aadbd68246217"
       ],
       "layout": "IPY_MODEL_cf61facf622e4e429be7e3df666921ae"
      }
     },
     "369b46a8a00243fd84306a533ff5de3d": {
      "model_module": "@jupyter-widgets/controls",
      "model_module_version": "1.5.0",
      "model_name": "HTMLModel",
      "state": {
       "_dom_classes": [],
       "_model_module": "@jupyter-widgets/controls",
       "_model_module_version": "1.5.0",
       "_model_name": "HTMLModel",
       "_view_count": null,
       "_view_module": "@jupyter-widgets/controls",
       "_view_module_version": "1.5.0",
       "_view_name": "HTMLView",
       "description": "",
       "description_tooltip": null,
       "layout": "IPY_MODEL_da7e22533ef249f7beb3824f597a7d13",
       "placeholder": "​",
       "style": "IPY_MODEL_950a16438bcf4260880014ea49f9c626",
       "value": "Best trial: 58. Best value: 0.828599: 100%"
      }
     },
     "372581458c0748f9be69043c192def4c": {
      "model_module": "@jupyter-widgets/controls",
      "model_module_version": "1.5.0",
      "model_name": "HBoxModel",
      "state": {
       "_dom_classes": [],
       "_model_module": "@jupyter-widgets/controls",
       "_model_module_version": "1.5.0",
       "_model_name": "HBoxModel",
       "_view_count": null,
       "_view_module": "@jupyter-widgets/controls",
       "_view_module_version": "1.5.0",
       "_view_name": "HBoxView",
       "box_style": "",
       "children": [
        "IPY_MODEL_c6dcea9eb0f24ffab3b337d5577da927",
        "IPY_MODEL_5431a6fbb5014a6f898804c99a51113f",
        "IPY_MODEL_53126b595f9c474f8d594bf9f5c24f75"
       ],
       "layout": "IPY_MODEL_b52860ac17e5412fb194215d4070e2d4"
      }
     },
     "3a962e460c5245eaa05a2e9d5571187c": {
      "model_module": "@jupyter-widgets/controls",
      "model_module_version": "1.5.0",
      "model_name": "FloatProgressModel",
      "state": {
       "_dom_classes": [],
       "_model_module": "@jupyter-widgets/controls",
       "_model_module_version": "1.5.0",
       "_model_name": "FloatProgressModel",
       "_view_count": null,
       "_view_module": "@jupyter-widgets/controls",
       "_view_module_version": "1.5.0",
       "_view_name": "ProgressView",
       "bar_style": "success",
       "description": "",
       "description_tooltip": null,
       "layout": "IPY_MODEL_d50077c0b77b4b81b56440e3afdf027b",
       "max": 100.0,
       "min": 0.0,
       "orientation": "horizontal",
       "style": "IPY_MODEL_148a42de10e94ca8af41f825e3878c75",
       "value": 100.0
      }
     },
     "3db601b13bc94f588c526e046604067d": {
      "model_module": "@jupyter-widgets/controls",
      "model_module_version": "1.5.0",
      "model_name": "HTMLModel",
      "state": {
       "_dom_classes": [],
       "_model_module": "@jupyter-widgets/controls",
       "_model_module_version": "1.5.0",
       "_model_name": "HTMLModel",
       "_view_count": null,
       "_view_module": "@jupyter-widgets/controls",
       "_view_module_version": "1.5.0",
       "_view_name": "HTMLView",
       "description": "",
       "description_tooltip": null,
       "layout": "IPY_MODEL_5e35965c58f84424a7b5b6cb532957c0",
       "placeholder": "​",
       "style": "IPY_MODEL_dbad29b6221144cd8a8ace205ba2c5c3",
       "value": " 100/100 [23:23&lt;00:00, 13.61s/it]"
      }
     },
     "4805a04cdc724281ad1dba4ac59aa4da": {
      "model_module": "@jupyter-widgets/controls",
      "model_module_version": "1.5.0",
      "model_name": "ProgressStyleModel",
      "state": {
       "_model_module": "@jupyter-widgets/controls",
       "_model_module_version": "1.5.0",
       "_model_name": "ProgressStyleModel",
       "_view_count": null,
       "_view_module": "@jupyter-widgets/base",
       "_view_module_version": "1.2.0",
       "_view_name": "StyleView",
       "bar_color": null,
       "description_width": ""
      }
     },
     "48b2a80c9871409689139c3290571ed3": {
      "model_module": "@jupyter-widgets/controls",
      "model_module_version": "1.5.0",
      "model_name": "HTMLModel",
      "state": {
       "_dom_classes": [],
       "_model_module": "@jupyter-widgets/controls",
       "_model_module_version": "1.5.0",
       "_model_name": "HTMLModel",
       "_view_count": null,
       "_view_module": "@jupyter-widgets/controls",
       "_view_module_version": "1.5.0",
       "_view_name": "HTMLView",
       "description": "",
       "description_tooltip": null,
       "layout": "IPY_MODEL_a3b4a62f5389411bbe4b026cc7d590a0",
       "placeholder": "​",
       "style": "IPY_MODEL_7aec3f25138c4073aaeb85b2f31029c0",
       "value": " 100/100 [17:35&lt;00:00, 10.62s/it]"
      }
     },
     "4ecea7f4e3564d2da95b0e909fee6aa0": {
      "model_module": "@jupyter-widgets/controls",
      "model_module_version": "1.5.0",
      "model_name": "DescriptionStyleModel",
      "state": {
       "_model_module": "@jupyter-widgets/controls",
       "_model_module_version": "1.5.0",
       "_model_name": "DescriptionStyleModel",
       "_view_count": null,
       "_view_module": "@jupyter-widgets/base",
       "_view_module_version": "1.2.0",
       "_view_name": "StyleView",
       "description_width": ""
      }
     },
     "53126b595f9c474f8d594bf9f5c24f75": {
      "model_module": "@jupyter-widgets/controls",
      "model_module_version": "1.5.0",
      "model_name": "HTMLModel",
      "state": {
       "_dom_classes": [],
       "_model_module": "@jupyter-widgets/controls",
       "_model_module_version": "1.5.0",
       "_model_name": "HTMLModel",
       "_view_count": null,
       "_view_module": "@jupyter-widgets/controls",
       "_view_module_version": "1.5.0",
       "_view_name": "HTMLView",
       "description": "",
       "description_tooltip": null,
       "layout": "IPY_MODEL_bb6e3edcbd994a9bb4fc177b235d667b",
       "placeholder": "​",
       "style": "IPY_MODEL_ab5ca3702e5a4f8797b1c8559d6b3b2e",
       "value": " 100/100 [08:23&lt;00:00,  5.26s/it]"
      }
     },
     "5431a6fbb5014a6f898804c99a51113f": {
      "model_module": "@jupyter-widgets/controls",
      "model_module_version": "1.5.0",
      "model_name": "FloatProgressModel",
      "state": {
       "_dom_classes": [],
       "_model_module": "@jupyter-widgets/controls",
       "_model_module_version": "1.5.0",
       "_model_name": "FloatProgressModel",
       "_view_count": null,
       "_view_module": "@jupyter-widgets/controls",
       "_view_module_version": "1.5.0",
       "_view_name": "ProgressView",
       "bar_style": "success",
       "description": "",
       "description_tooltip": null,
       "layout": "IPY_MODEL_d16345b28d1e44fd9b81b532d83b5402",
       "max": 100.0,
       "min": 0.0,
       "orientation": "horizontal",
       "style": "IPY_MODEL_f3cd15cfee134aeabb5e1c0dca5627a8",
       "value": 100.0
      }
     },
     "56227a6c0ec04599ae8e676945b95b1b": {
      "model_module": "@jupyter-widgets/controls",
      "model_module_version": "1.5.0",
      "model_name": "DescriptionStyleModel",
      "state": {
       "_model_module": "@jupyter-widgets/controls",
       "_model_module_version": "1.5.0",
       "_model_name": "DescriptionStyleModel",
       "_view_count": null,
       "_view_module": "@jupyter-widgets/base",
       "_view_module_version": "1.2.0",
       "_view_name": "StyleView",
       "description_width": ""
      }
     },
     "5b74a649e33840d2b655392713dbfc26": {
      "model_module": "@jupyter-widgets/controls",
      "model_module_version": "1.5.0",
      "model_name": "ProgressStyleModel",
      "state": {
       "_model_module": "@jupyter-widgets/controls",
       "_model_module_version": "1.5.0",
       "_model_name": "ProgressStyleModel",
       "_view_count": null,
       "_view_module": "@jupyter-widgets/base",
       "_view_module_version": "1.2.0",
       "_view_name": "StyleView",
       "bar_color": null,
       "description_width": ""
      }
     },
     "5ba73e62b55c45ec9471afb72d2d45a1": {
      "model_module": "@jupyter-widgets/controls",
      "model_module_version": "1.5.0",
      "model_name": "HTMLModel",
      "state": {
       "_dom_classes": [],
       "_model_module": "@jupyter-widgets/controls",
       "_model_module_version": "1.5.0",
       "_model_name": "HTMLModel",
       "_view_count": null,
       "_view_module": "@jupyter-widgets/controls",
       "_view_module_version": "1.5.0",
       "_view_name": "HTMLView",
       "description": "",
       "description_tooltip": null,
       "layout": "IPY_MODEL_20e22207380d4f3dabac1bacf478e019",
       "placeholder": "​",
       "style": "IPY_MODEL_bf389529200a48a6828d0dfc3e00b9ef",
       "value": "Best trial: 82. Best value: 0.831416: 100%"
      }
     },
     "5d01693e86564fa4b3b73267a359de64": {
      "model_module": "@jupyter-widgets/base",
      "model_module_version": "1.2.0",
      "model_name": "LayoutModel",
      "state": {
       "_model_module": "@jupyter-widgets/base",
       "_model_module_version": "1.2.0",
       "_model_name": "LayoutModel",
       "_view_count": null,
       "_view_module": "@jupyter-widgets/base",
       "_view_module_version": "1.2.0",
       "_view_name": "LayoutView",
       "align_content": null,
       "align_items": null,
       "align_self": null,
       "border": null,
       "bottom": null,
       "display": null,
       "flex": null,
       "flex_flow": null,
       "grid_area": null,
       "grid_auto_columns": null,
       "grid_auto_flow": null,
       "grid_auto_rows": null,
       "grid_column": null,
       "grid_gap": null,
       "grid_row": null,
       "grid_template_areas": null,
       "grid_template_columns": null,
       "grid_template_rows": null,
       "height": null,
       "justify_content": null,
       "justify_items": null,
       "left": null,
       "margin": null,
       "max_height": null,
       "max_width": null,
       "min_height": null,
       "min_width": null,
       "object_fit": null,
       "object_position": null,
       "order": null,
       "overflow": null,
       "overflow_x": null,
       "overflow_y": null,
       "padding": null,
       "right": null,
       "top": null,
       "visibility": null,
       "width": null
      }
     },
     "5e35965c58f84424a7b5b6cb532957c0": {
      "model_module": "@jupyter-widgets/base",
      "model_module_version": "1.2.0",
      "model_name": "LayoutModel",
      "state": {
       "_model_module": "@jupyter-widgets/base",
       "_model_module_version": "1.2.0",
       "_model_name": "LayoutModel",
       "_view_count": null,
       "_view_module": "@jupyter-widgets/base",
       "_view_module_version": "1.2.0",
       "_view_name": "LayoutView",
       "align_content": null,
       "align_items": null,
       "align_self": null,
       "border": null,
       "bottom": null,
       "display": null,
       "flex": null,
       "flex_flow": null,
       "grid_area": null,
       "grid_auto_columns": null,
       "grid_auto_flow": null,
       "grid_auto_rows": null,
       "grid_column": null,
       "grid_gap": null,
       "grid_row": null,
       "grid_template_areas": null,
       "grid_template_columns": null,
       "grid_template_rows": null,
       "height": null,
       "justify_content": null,
       "justify_items": null,
       "left": null,
       "margin": null,
       "max_height": null,
       "max_width": null,
       "min_height": null,
       "min_width": null,
       "object_fit": null,
       "object_position": null,
       "order": null,
       "overflow": null,
       "overflow_x": null,
       "overflow_y": null,
       "padding": null,
       "right": null,
       "top": null,
       "visibility": null,
       "width": null
      }
     },
     "6bd8205d573d49a2807b3617060622f6": {
      "model_module": "@jupyter-widgets/base",
      "model_module_version": "1.2.0",
      "model_name": "LayoutModel",
      "state": {
       "_model_module": "@jupyter-widgets/base",
       "_model_module_version": "1.2.0",
       "_model_name": "LayoutModel",
       "_view_count": null,
       "_view_module": "@jupyter-widgets/base",
       "_view_module_version": "1.2.0",
       "_view_name": "LayoutView",
       "align_content": null,
       "align_items": null,
       "align_self": null,
       "border": null,
       "bottom": null,
       "display": null,
       "flex": null,
       "flex_flow": null,
       "grid_area": null,
       "grid_auto_columns": null,
       "grid_auto_flow": null,
       "grid_auto_rows": null,
       "grid_column": null,
       "grid_gap": null,
       "grid_row": null,
       "grid_template_areas": null,
       "grid_template_columns": null,
       "grid_template_rows": null,
       "height": null,
       "justify_content": null,
       "justify_items": null,
       "left": null,
       "margin": null,
       "max_height": null,
       "max_width": null,
       "min_height": null,
       "min_width": null,
       "object_fit": null,
       "object_position": null,
       "order": null,
       "overflow": null,
       "overflow_x": null,
       "overflow_y": null,
       "padding": null,
       "right": null,
       "top": null,
       "visibility": null,
       "width": null
      }
     },
     "71d4e94555264847b28049c7ab92057a": {
      "model_module": "@jupyter-widgets/base",
      "model_module_version": "1.2.0",
      "model_name": "LayoutModel",
      "state": {
       "_model_module": "@jupyter-widgets/base",
       "_model_module_version": "1.2.0",
       "_model_name": "LayoutModel",
       "_view_count": null,
       "_view_module": "@jupyter-widgets/base",
       "_view_module_version": "1.2.0",
       "_view_name": "LayoutView",
       "align_content": null,
       "align_items": null,
       "align_self": null,
       "border": null,
       "bottom": null,
       "display": null,
       "flex": null,
       "flex_flow": null,
       "grid_area": null,
       "grid_auto_columns": null,
       "grid_auto_flow": null,
       "grid_auto_rows": null,
       "grid_column": null,
       "grid_gap": null,
       "grid_row": null,
       "grid_template_areas": null,
       "grid_template_columns": null,
       "grid_template_rows": null,
       "height": null,
       "justify_content": null,
       "justify_items": null,
       "left": null,
       "margin": null,
       "max_height": null,
       "max_width": null,
       "min_height": null,
       "min_width": null,
       "object_fit": null,
       "object_position": null,
       "order": null,
       "overflow": null,
       "overflow_x": null,
       "overflow_y": null,
       "padding": null,
       "right": null,
       "top": null,
       "visibility": null,
       "width": null
      }
     },
     "77a23d2d1d7c4aecb6191a01319d5730": {
      "model_module": "@jupyter-widgets/base",
      "model_module_version": "1.2.0",
      "model_name": "LayoutModel",
      "state": {
       "_model_module": "@jupyter-widgets/base",
       "_model_module_version": "1.2.0",
       "_model_name": "LayoutModel",
       "_view_count": null,
       "_view_module": "@jupyter-widgets/base",
       "_view_module_version": "1.2.0",
       "_view_name": "LayoutView",
       "align_content": null,
       "align_items": null,
       "align_self": null,
       "border": null,
       "bottom": null,
       "display": null,
       "flex": null,
       "flex_flow": null,
       "grid_area": null,
       "grid_auto_columns": null,
       "grid_auto_flow": null,
       "grid_auto_rows": null,
       "grid_column": null,
       "grid_gap": null,
       "grid_row": null,
       "grid_template_areas": null,
       "grid_template_columns": null,
       "grid_template_rows": null,
       "height": null,
       "justify_content": null,
       "justify_items": null,
       "left": null,
       "margin": null,
       "max_height": null,
       "max_width": null,
       "min_height": null,
       "min_width": null,
       "object_fit": null,
       "object_position": null,
       "order": null,
       "overflow": null,
       "overflow_x": null,
       "overflow_y": null,
       "padding": null,
       "right": null,
       "top": null,
       "visibility": null,
       "width": null
      }
     },
     "78d62bf585304f77b516deca30439be6": {
      "model_module": "@jupyter-widgets/controls",
      "model_module_version": "1.5.0",
      "model_name": "HBoxModel",
      "state": {
       "_dom_classes": [],
       "_model_module": "@jupyter-widgets/controls",
       "_model_module_version": "1.5.0",
       "_model_name": "HBoxModel",
       "_view_count": null,
       "_view_module": "@jupyter-widgets/controls",
       "_view_module_version": "1.5.0",
       "_view_name": "HBoxView",
       "box_style": "",
       "children": [
        "IPY_MODEL_c3c2efb2a8914707ac90bbe2c215d616",
        "IPY_MODEL_b15c3a04656d4d7a8197a1188a40e865",
        "IPY_MODEL_48b2a80c9871409689139c3290571ed3"
       ],
       "layout": "IPY_MODEL_f223a4368d5140d282cd1c9ccce992ef"
      }
     },
     "7aec3f25138c4073aaeb85b2f31029c0": {
      "model_module": "@jupyter-widgets/controls",
      "model_module_version": "1.5.0",
      "model_name": "DescriptionStyleModel",
      "state": {
       "_model_module": "@jupyter-widgets/controls",
       "_model_module_version": "1.5.0",
       "_model_name": "DescriptionStyleModel",
       "_view_count": null,
       "_view_module": "@jupyter-widgets/base",
       "_view_module_version": "1.2.0",
       "_view_name": "StyleView",
       "description_width": ""
      }
     },
     "825cd24f93de43f1a7af9d63bd238140": {
      "model_module": "@jupyter-widgets/base",
      "model_module_version": "1.2.0",
      "model_name": "LayoutModel",
      "state": {
       "_model_module": "@jupyter-widgets/base",
       "_model_module_version": "1.2.0",
       "_model_name": "LayoutModel",
       "_view_count": null,
       "_view_module": "@jupyter-widgets/base",
       "_view_module_version": "1.2.0",
       "_view_name": "LayoutView",
       "align_content": null,
       "align_items": null,
       "align_self": null,
       "border": null,
       "bottom": null,
       "display": null,
       "flex": null,
       "flex_flow": null,
       "grid_area": null,
       "grid_auto_columns": null,
       "grid_auto_flow": null,
       "grid_auto_rows": null,
       "grid_column": null,
       "grid_gap": null,
       "grid_row": null,
       "grid_template_areas": null,
       "grid_template_columns": null,
       "grid_template_rows": null,
       "height": null,
       "justify_content": null,
       "justify_items": null,
       "left": null,
       "margin": null,
       "max_height": null,
       "max_width": null,
       "min_height": null,
       "min_width": null,
       "object_fit": null,
       "object_position": null,
       "order": null,
       "overflow": null,
       "overflow_x": null,
       "overflow_y": null,
       "padding": null,
       "right": null,
       "top": null,
       "visibility": null,
       "width": null
      }
     },
     "950a16438bcf4260880014ea49f9c626": {
      "model_module": "@jupyter-widgets/controls",
      "model_module_version": "1.5.0",
      "model_name": "DescriptionStyleModel",
      "state": {
       "_model_module": "@jupyter-widgets/controls",
       "_model_module_version": "1.5.0",
       "_model_name": "DescriptionStyleModel",
       "_view_count": null,
       "_view_module": "@jupyter-widgets/base",
       "_view_module_version": "1.2.0",
       "_view_name": "StyleView",
       "description_width": ""
      }
     },
     "a3b4a62f5389411bbe4b026cc7d590a0": {
      "model_module": "@jupyter-widgets/base",
      "model_module_version": "1.2.0",
      "model_name": "LayoutModel",
      "state": {
       "_model_module": "@jupyter-widgets/base",
       "_model_module_version": "1.2.0",
       "_model_name": "LayoutModel",
       "_view_count": null,
       "_view_module": "@jupyter-widgets/base",
       "_view_module_version": "1.2.0",
       "_view_name": "LayoutView",
       "align_content": null,
       "align_items": null,
       "align_self": null,
       "border": null,
       "bottom": null,
       "display": null,
       "flex": null,
       "flex_flow": null,
       "grid_area": null,
       "grid_auto_columns": null,
       "grid_auto_flow": null,
       "grid_auto_rows": null,
       "grid_column": null,
       "grid_gap": null,
       "grid_row": null,
       "grid_template_areas": null,
       "grid_template_columns": null,
       "grid_template_rows": null,
       "height": null,
       "justify_content": null,
       "justify_items": null,
       "left": null,
       "margin": null,
       "max_height": null,
       "max_width": null,
       "min_height": null,
       "min_width": null,
       "object_fit": null,
       "object_position": null,
       "order": null,
       "overflow": null,
       "overflow_x": null,
       "overflow_y": null,
       "padding": null,
       "right": null,
       "top": null,
       "visibility": null,
       "width": null
      }
     },
     "ab5ca3702e5a4f8797b1c8559d6b3b2e": {
      "model_module": "@jupyter-widgets/controls",
      "model_module_version": "1.5.0",
      "model_name": "DescriptionStyleModel",
      "state": {
       "_model_module": "@jupyter-widgets/controls",
       "_model_module_version": "1.5.0",
       "_model_name": "DescriptionStyleModel",
       "_view_count": null,
       "_view_module": "@jupyter-widgets/base",
       "_view_module_version": "1.2.0",
       "_view_name": "StyleView",
       "description_width": ""
      }
     },
     "acbf0a95eff4476d9c99a606bb96e8e3": {
      "model_module": "@jupyter-widgets/base",
      "model_module_version": "1.2.0",
      "model_name": "LayoutModel",
      "state": {
       "_model_module": "@jupyter-widgets/base",
       "_model_module_version": "1.2.0",
       "_model_name": "LayoutModel",
       "_view_count": null,
       "_view_module": "@jupyter-widgets/base",
       "_view_module_version": "1.2.0",
       "_view_name": "LayoutView",
       "align_content": null,
       "align_items": null,
       "align_self": null,
       "border": null,
       "bottom": null,
       "display": null,
       "flex": null,
       "flex_flow": null,
       "grid_area": null,
       "grid_auto_columns": null,
       "grid_auto_flow": null,
       "grid_auto_rows": null,
       "grid_column": null,
       "grid_gap": null,
       "grid_row": null,
       "grid_template_areas": null,
       "grid_template_columns": null,
       "grid_template_rows": null,
       "height": null,
       "justify_content": null,
       "justify_items": null,
       "left": null,
       "margin": null,
       "max_height": null,
       "max_width": null,
       "min_height": null,
       "min_width": null,
       "object_fit": null,
       "object_position": null,
       "order": null,
       "overflow": null,
       "overflow_x": null,
       "overflow_y": null,
       "padding": null,
       "right": null,
       "top": null,
       "visibility": null,
       "width": null
      }
     },
     "aeab73e71c334fccbf37b792ed370791": {
      "model_module": "@jupyter-widgets/controls",
      "model_module_version": "1.5.0",
      "model_name": "FloatProgressModel",
      "state": {
       "_dom_classes": [],
       "_model_module": "@jupyter-widgets/controls",
       "_model_module_version": "1.5.0",
       "_model_name": "FloatProgressModel",
       "_view_count": null,
       "_view_module": "@jupyter-widgets/controls",
       "_view_module_version": "1.5.0",
       "_view_name": "ProgressView",
       "bar_style": "success",
       "description": "",
       "description_tooltip": null,
       "layout": "IPY_MODEL_acbf0a95eff4476d9c99a606bb96e8e3",
       "max": 100.0,
       "min": 0.0,
       "orientation": "horizontal",
       "style": "IPY_MODEL_4805a04cdc724281ad1dba4ac59aa4da",
       "value": 100.0
      }
     },
     "b15c3a04656d4d7a8197a1188a40e865": {
      "model_module": "@jupyter-widgets/controls",
      "model_module_version": "1.5.0",
      "model_name": "FloatProgressModel",
      "state": {
       "_dom_classes": [],
       "_model_module": "@jupyter-widgets/controls",
       "_model_module_version": "1.5.0",
       "_model_name": "FloatProgressModel",
       "_view_count": null,
       "_view_module": "@jupyter-widgets/controls",
       "_view_module_version": "1.5.0",
       "_view_name": "ProgressView",
       "bar_style": "success",
       "description": "",
       "description_tooltip": null,
       "layout": "IPY_MODEL_0986a75eaf1f48549b92bc303fc73b58",
       "max": 100.0,
       "min": 0.0,
       "orientation": "horizontal",
       "style": "IPY_MODEL_5b74a649e33840d2b655392713dbfc26",
       "value": 100.0
      }
     },
     "b47d82157a85416daf4e3d6b7ea4b126": {
      "model_module": "@jupyter-widgets/controls",
      "model_module_version": "1.5.0",
      "model_name": "FloatProgressModel",
      "state": {
       "_dom_classes": [],
       "_model_module": "@jupyter-widgets/controls",
       "_model_module_version": "1.5.0",
       "_model_name": "FloatProgressModel",
       "_view_count": null,
       "_view_module": "@jupyter-widgets/controls",
       "_view_module_version": "1.5.0",
       "_view_name": "ProgressView",
       "bar_style": "success",
       "description": "",
       "description_tooltip": null,
       "layout": "IPY_MODEL_2aa070418de842c59c84cabdd2e59a6d",
       "max": 100.0,
       "min": 0.0,
       "orientation": "horizontal",
       "style": "IPY_MODEL_1629eef3fbec41b88862ffebc1715121",
       "value": 100.0
      }
     },
     "b52860ac17e5412fb194215d4070e2d4": {
      "model_module": "@jupyter-widgets/base",
      "model_module_version": "1.2.0",
      "model_name": "LayoutModel",
      "state": {
       "_model_module": "@jupyter-widgets/base",
       "_model_module_version": "1.2.0",
       "_model_name": "LayoutModel",
       "_view_count": null,
       "_view_module": "@jupyter-widgets/base",
       "_view_module_version": "1.2.0",
       "_view_name": "LayoutView",
       "align_content": null,
       "align_items": null,
       "align_self": null,
       "border": null,
       "bottom": null,
       "display": null,
       "flex": null,
       "flex_flow": null,
       "grid_area": null,
       "grid_auto_columns": null,
       "grid_auto_flow": null,
       "grid_auto_rows": null,
       "grid_column": null,
       "grid_gap": null,
       "grid_row": null,
       "grid_template_areas": null,
       "grid_template_columns": null,
       "grid_template_rows": null,
       "height": null,
       "justify_content": null,
       "justify_items": null,
       "left": null,
       "margin": null,
       "max_height": null,
       "max_width": null,
       "min_height": null,
       "min_width": null,
       "object_fit": null,
       "object_position": null,
       "order": null,
       "overflow": null,
       "overflow_x": null,
       "overflow_y": null,
       "padding": null,
       "right": null,
       "top": null,
       "visibility": null,
       "width": null
      }
     },
     "bb6e3edcbd994a9bb4fc177b235d667b": {
      "model_module": "@jupyter-widgets/base",
      "model_module_version": "1.2.0",
      "model_name": "LayoutModel",
      "state": {
       "_model_module": "@jupyter-widgets/base",
       "_model_module_version": "1.2.0",
       "_model_name": "LayoutModel",
       "_view_count": null,
       "_view_module": "@jupyter-widgets/base",
       "_view_module_version": "1.2.0",
       "_view_name": "LayoutView",
       "align_content": null,
       "align_items": null,
       "align_self": null,
       "border": null,
       "bottom": null,
       "display": null,
       "flex": null,
       "flex_flow": null,
       "grid_area": null,
       "grid_auto_columns": null,
       "grid_auto_flow": null,
       "grid_auto_rows": null,
       "grid_column": null,
       "grid_gap": null,
       "grid_row": null,
       "grid_template_areas": null,
       "grid_template_columns": null,
       "grid_template_rows": null,
       "height": null,
       "justify_content": null,
       "justify_items": null,
       "left": null,
       "margin": null,
       "max_height": null,
       "max_width": null,
       "min_height": null,
       "min_width": null,
       "object_fit": null,
       "object_position": null,
       "order": null,
       "overflow": null,
       "overflow_x": null,
       "overflow_y": null,
       "padding": null,
       "right": null,
       "top": null,
       "visibility": null,
       "width": null
      }
     },
     "bf389529200a48a6828d0dfc3e00b9ef": {
      "model_module": "@jupyter-widgets/controls",
      "model_module_version": "1.5.0",
      "model_name": "DescriptionStyleModel",
      "state": {
       "_model_module": "@jupyter-widgets/controls",
       "_model_module_version": "1.5.0",
       "_model_name": "DescriptionStyleModel",
       "_view_count": null,
       "_view_module": "@jupyter-widgets/base",
       "_view_module_version": "1.2.0",
       "_view_name": "StyleView",
       "description_width": ""
      }
     },
     "c3c2efb2a8914707ac90bbe2c215d616": {
      "model_module": "@jupyter-widgets/controls",
      "model_module_version": "1.5.0",
      "model_name": "HTMLModel",
      "state": {
       "_dom_classes": [],
       "_model_module": "@jupyter-widgets/controls",
       "_model_module_version": "1.5.0",
       "_model_name": "HTMLModel",
       "_view_count": null,
       "_view_module": "@jupyter-widgets/controls",
       "_view_module_version": "1.5.0",
       "_view_name": "HTMLView",
       "description": "",
       "description_tooltip": null,
       "layout": "IPY_MODEL_77a23d2d1d7c4aecb6191a01319d5730",
       "placeholder": "​",
       "style": "IPY_MODEL_0e99dadddcc544f5ba45e2fdc29748c7",
       "value": "Best trial: 41. Best value: -0.843575: 100%"
      }
     },
     "c3d403339dc7488aa2ce6cf99eae5e1e": {
      "model_module": "@jupyter-widgets/controls",
      "model_module_version": "1.5.0",
      "model_name": "DescriptionStyleModel",
      "state": {
       "_model_module": "@jupyter-widgets/controls",
       "_model_module_version": "1.5.0",
       "_model_name": "DescriptionStyleModel",
       "_view_count": null,
       "_view_module": "@jupyter-widgets/base",
       "_view_module_version": "1.2.0",
       "_view_name": "StyleView",
       "description_width": ""
      }
     },
     "c6dcea9eb0f24ffab3b337d5577da927": {
      "model_module": "@jupyter-widgets/controls",
      "model_module_version": "1.5.0",
      "model_name": "HTMLModel",
      "state": {
       "_dom_classes": [],
       "_model_module": "@jupyter-widgets/controls",
       "_model_module_version": "1.5.0",
       "_model_name": "HTMLModel",
       "_view_count": null,
       "_view_module": "@jupyter-widgets/controls",
       "_view_module_version": "1.5.0",
       "_view_name": "HTMLView",
       "description": "",
       "description_tooltip": null,
       "layout": "IPY_MODEL_5d01693e86564fa4b3b73267a359de64",
       "placeholder": "​",
       "style": "IPY_MODEL_56227a6c0ec04599ae8e676945b95b1b",
       "value": "Best trial: 90. Best value: 0.823044: 100%"
      }
     },
     "cf61facf622e4e429be7e3df666921ae": {
      "model_module": "@jupyter-widgets/base",
      "model_module_version": "1.2.0",
      "model_name": "LayoutModel",
      "state": {
       "_model_module": "@jupyter-widgets/base",
       "_model_module_version": "1.2.0",
       "_model_name": "LayoutModel",
       "_view_count": null,
       "_view_module": "@jupyter-widgets/base",
       "_view_module_version": "1.2.0",
       "_view_name": "LayoutView",
       "align_content": null,
       "align_items": null,
       "align_self": null,
       "border": null,
       "bottom": null,
       "display": null,
       "flex": null,
       "flex_flow": null,
       "grid_area": null,
       "grid_auto_columns": null,
       "grid_auto_flow": null,
       "grid_auto_rows": null,
       "grid_column": null,
       "grid_gap": null,
       "grid_row": null,
       "grid_template_areas": null,
       "grid_template_columns": null,
       "grid_template_rows": null,
       "height": null,
       "justify_content": null,
       "justify_items": null,
       "left": null,
       "margin": null,
       "max_height": null,
       "max_width": null,
       "min_height": null,
       "min_width": null,
       "object_fit": null,
       "object_position": null,
       "order": null,
       "overflow": null,
       "overflow_x": null,
       "overflow_y": null,
       "padding": null,
       "right": null,
       "top": null,
       "visibility": null,
       "width": null
      }
     },
     "d16345b28d1e44fd9b81b532d83b5402": {
      "model_module": "@jupyter-widgets/base",
      "model_module_version": "1.2.0",
      "model_name": "LayoutModel",
      "state": {
       "_model_module": "@jupyter-widgets/base",
       "_model_module_version": "1.2.0",
       "_model_name": "LayoutModel",
       "_view_count": null,
       "_view_module": "@jupyter-widgets/base",
       "_view_module_version": "1.2.0",
       "_view_name": "LayoutView",
       "align_content": null,
       "align_items": null,
       "align_self": null,
       "border": null,
       "bottom": null,
       "display": null,
       "flex": null,
       "flex_flow": null,
       "grid_area": null,
       "grid_auto_columns": null,
       "grid_auto_flow": null,
       "grid_auto_rows": null,
       "grid_column": null,
       "grid_gap": null,
       "grid_row": null,
       "grid_template_areas": null,
       "grid_template_columns": null,
       "grid_template_rows": null,
       "height": null,
       "justify_content": null,
       "justify_items": null,
       "left": null,
       "margin": null,
       "max_height": null,
       "max_width": null,
       "min_height": null,
       "min_width": null,
       "object_fit": null,
       "object_position": null,
       "order": null,
       "overflow": null,
       "overflow_x": null,
       "overflow_y": null,
       "padding": null,
       "right": null,
       "top": null,
       "visibility": null,
       "width": null
      }
     },
     "d50077c0b77b4b81b56440e3afdf027b": {
      "model_module": "@jupyter-widgets/base",
      "model_module_version": "1.2.0",
      "model_name": "LayoutModel",
      "state": {
       "_model_module": "@jupyter-widgets/base",
       "_model_module_version": "1.2.0",
       "_model_name": "LayoutModel",
       "_view_count": null,
       "_view_module": "@jupyter-widgets/base",
       "_view_module_version": "1.2.0",
       "_view_name": "LayoutView",
       "align_content": null,
       "align_items": null,
       "align_self": null,
       "border": null,
       "bottom": null,
       "display": null,
       "flex": null,
       "flex_flow": null,
       "grid_area": null,
       "grid_auto_columns": null,
       "grid_auto_flow": null,
       "grid_auto_rows": null,
       "grid_column": null,
       "grid_gap": null,
       "grid_row": null,
       "grid_template_areas": null,
       "grid_template_columns": null,
       "grid_template_rows": null,
       "height": null,
       "justify_content": null,
       "justify_items": null,
       "left": null,
       "margin": null,
       "max_height": null,
       "max_width": null,
       "min_height": null,
       "min_width": null,
       "object_fit": null,
       "object_position": null,
       "order": null,
       "overflow": null,
       "overflow_x": null,
       "overflow_y": null,
       "padding": null,
       "right": null,
       "top": null,
       "visibility": null,
       "width": null
      }
     },
     "da7e22533ef249f7beb3824f597a7d13": {
      "model_module": "@jupyter-widgets/base",
      "model_module_version": "1.2.0",
      "model_name": "LayoutModel",
      "state": {
       "_model_module": "@jupyter-widgets/base",
       "_model_module_version": "1.2.0",
       "_model_name": "LayoutModel",
       "_view_count": null,
       "_view_module": "@jupyter-widgets/base",
       "_view_module_version": "1.2.0",
       "_view_name": "LayoutView",
       "align_content": null,
       "align_items": null,
       "align_self": null,
       "border": null,
       "bottom": null,
       "display": null,
       "flex": null,
       "flex_flow": null,
       "grid_area": null,
       "grid_auto_columns": null,
       "grid_auto_flow": null,
       "grid_auto_rows": null,
       "grid_column": null,
       "grid_gap": null,
       "grid_row": null,
       "grid_template_areas": null,
       "grid_template_columns": null,
       "grid_template_rows": null,
       "height": null,
       "justify_content": null,
       "justify_items": null,
       "left": null,
       "margin": null,
       "max_height": null,
       "max_width": null,
       "min_height": null,
       "min_width": null,
       "object_fit": null,
       "object_position": null,
       "order": null,
       "overflow": null,
       "overflow_x": null,
       "overflow_y": null,
       "padding": null,
       "right": null,
       "top": null,
       "visibility": null,
       "width": null
      }
     },
     "daadc09831e94807b4051f97f6baf5ef": {
      "model_module": "@jupyter-widgets/base",
      "model_module_version": "1.2.0",
      "model_name": "LayoutModel",
      "state": {
       "_model_module": "@jupyter-widgets/base",
       "_model_module_version": "1.2.0",
       "_model_name": "LayoutModel",
       "_view_count": null,
       "_view_module": "@jupyter-widgets/base",
       "_view_module_version": "1.2.0",
       "_view_name": "LayoutView",
       "align_content": null,
       "align_items": null,
       "align_self": null,
       "border": null,
       "bottom": null,
       "display": null,
       "flex": null,
       "flex_flow": null,
       "grid_area": null,
       "grid_auto_columns": null,
       "grid_auto_flow": null,
       "grid_auto_rows": null,
       "grid_column": null,
       "grid_gap": null,
       "grid_row": null,
       "grid_template_areas": null,
       "grid_template_columns": null,
       "grid_template_rows": null,
       "height": null,
       "justify_content": null,
       "justify_items": null,
       "left": null,
       "margin": null,
       "max_height": null,
       "max_width": null,
       "min_height": null,
       "min_width": null,
       "object_fit": null,
       "object_position": null,
       "order": null,
       "overflow": null,
       "overflow_x": null,
       "overflow_y": null,
       "padding": null,
       "right": null,
       "top": null,
       "visibility": null,
       "width": null
      }
     },
     "dbad29b6221144cd8a8ace205ba2c5c3": {
      "model_module": "@jupyter-widgets/controls",
      "model_module_version": "1.5.0",
      "model_name": "DescriptionStyleModel",
      "state": {
       "_model_module": "@jupyter-widgets/controls",
       "_model_module_version": "1.5.0",
       "_model_name": "DescriptionStyleModel",
       "_view_count": null,
       "_view_module": "@jupyter-widgets/base",
       "_view_module_version": "1.2.0",
       "_view_name": "StyleView",
       "description_width": ""
      }
     },
     "e1b3b2f9296f4490b5910c699df8f3ac": {
      "model_module": "@jupyter-widgets/controls",
      "model_module_version": "1.5.0",
      "model_name": "HBoxModel",
      "state": {
       "_dom_classes": [],
       "_model_module": "@jupyter-widgets/controls",
       "_model_module_version": "1.5.0",
       "_model_name": "HBoxModel",
       "_view_count": null,
       "_view_module": "@jupyter-widgets/controls",
       "_view_module_version": "1.5.0",
       "_view_name": "HBoxView",
       "box_style": "",
       "children": [
        "IPY_MODEL_369b46a8a00243fd84306a533ff5de3d",
        "IPY_MODEL_b47d82157a85416daf4e3d6b7ea4b126",
        "IPY_MODEL_f772fd01d1984748aa9a14ee5a9fd26d"
       ],
       "layout": "IPY_MODEL_71d4e94555264847b28049c7ab92057a"
      }
     },
     "e80958072a9f4f16bc2854018f309d3e": {
      "model_module": "@jupyter-widgets/controls",
      "model_module_version": "1.5.0",
      "model_name": "HBoxModel",
      "state": {
       "_dom_classes": [],
       "_model_module": "@jupyter-widgets/controls",
       "_model_module_version": "1.5.0",
       "_model_name": "HBoxModel",
       "_view_count": null,
       "_view_module": "@jupyter-widgets/controls",
       "_view_module_version": "1.5.0",
       "_view_name": "HBoxView",
       "box_style": "",
       "children": [
        "IPY_MODEL_5ba73e62b55c45ec9471afb72d2d45a1",
        "IPY_MODEL_3a962e460c5245eaa05a2e9d5571187c",
        "IPY_MODEL_3db601b13bc94f588c526e046604067d"
       ],
       "layout": "IPY_MODEL_825cd24f93de43f1a7af9d63bd238140"
      }
     },
     "eb0e0b47b9674b968c4aadbd68246217": {
      "model_module": "@jupyter-widgets/controls",
      "model_module_version": "1.5.0",
      "model_name": "HTMLModel",
      "state": {
       "_dom_classes": [],
       "_model_module": "@jupyter-widgets/controls",
       "_model_module_version": "1.5.0",
       "_model_name": "HTMLModel",
       "_view_count": null,
       "_view_module": "@jupyter-widgets/controls",
       "_view_module_version": "1.5.0",
       "_view_name": "HTMLView",
       "description": "",
       "description_tooltip": null,
       "layout": "IPY_MODEL_daadc09831e94807b4051f97f6baf5ef",
       "placeholder": "​",
       "style": "IPY_MODEL_efe940ffcbe0483791230a461ef62369",
       "value": " 100/100 [1:52:56&lt;00:00, 46.16s/it]"
      }
     },
     "ef20c9946a7e479b8bc89a1a4f62182d": {
      "model_module": "@jupyter-widgets/controls",
      "model_module_version": "1.5.0",
      "model_name": "HTMLModel",
      "state": {
       "_dom_classes": [],
       "_model_module": "@jupyter-widgets/controls",
       "_model_module_version": "1.5.0",
       "_model_name": "HTMLModel",
       "_view_count": null,
       "_view_module": "@jupyter-widgets/controls",
       "_view_module_version": "1.5.0",
       "_view_name": "HTMLView",
       "description": "",
       "description_tooltip": null,
       "layout": "IPY_MODEL_6bd8205d573d49a2807b3617060622f6",
       "placeholder": "​",
       "style": "IPY_MODEL_4ecea7f4e3564d2da95b0e909fee6aa0",
       "value": "Best trial: 45. Best value: 0.828658: 100%"
      }
     },
     "efe940ffcbe0483791230a461ef62369": {
      "model_module": "@jupyter-widgets/controls",
      "model_module_version": "1.5.0",
      "model_name": "DescriptionStyleModel",
      "state": {
       "_model_module": "@jupyter-widgets/controls",
       "_model_module_version": "1.5.0",
       "_model_name": "DescriptionStyleModel",
       "_view_count": null,
       "_view_module": "@jupyter-widgets/base",
       "_view_module_version": "1.2.0",
       "_view_name": "StyleView",
       "description_width": ""
      }
     },
     "f223a4368d5140d282cd1c9ccce992ef": {
      "model_module": "@jupyter-widgets/base",
      "model_module_version": "1.2.0",
      "model_name": "LayoutModel",
      "state": {
       "_model_module": "@jupyter-widgets/base",
       "_model_module_version": "1.2.0",
       "_model_name": "LayoutModel",
       "_view_count": null,
       "_view_module": "@jupyter-widgets/base",
       "_view_module_version": "1.2.0",
       "_view_name": "LayoutView",
       "align_content": null,
       "align_items": null,
       "align_self": null,
       "border": null,
       "bottom": null,
       "display": null,
       "flex": null,
       "flex_flow": null,
       "grid_area": null,
       "grid_auto_columns": null,
       "grid_auto_flow": null,
       "grid_auto_rows": null,
       "grid_column": null,
       "grid_gap": null,
       "grid_row": null,
       "grid_template_areas": null,
       "grid_template_columns": null,
       "grid_template_rows": null,
       "height": null,
       "justify_content": null,
       "justify_items": null,
       "left": null,
       "margin": null,
       "max_height": null,
       "max_width": null,
       "min_height": null,
       "min_width": null,
       "object_fit": null,
       "object_position": null,
       "order": null,
       "overflow": null,
       "overflow_x": null,
       "overflow_y": null,
       "padding": null,
       "right": null,
       "top": null,
       "visibility": null,
       "width": null
      }
     },
     "f3cd15cfee134aeabb5e1c0dca5627a8": {
      "model_module": "@jupyter-widgets/controls",
      "model_module_version": "1.5.0",
      "model_name": "ProgressStyleModel",
      "state": {
       "_model_module": "@jupyter-widgets/controls",
       "_model_module_version": "1.5.0",
       "_model_name": "ProgressStyleModel",
       "_view_count": null,
       "_view_module": "@jupyter-widgets/base",
       "_view_module_version": "1.2.0",
       "_view_name": "StyleView",
       "bar_color": null,
       "description_width": ""
      }
     },
     "f515e86c951e4505825de0d4d8b008c1": {
      "model_module": "@jupyter-widgets/base",
      "model_module_version": "1.2.0",
      "model_name": "LayoutModel",
      "state": {
       "_model_module": "@jupyter-widgets/base",
       "_model_module_version": "1.2.0",
       "_model_name": "LayoutModel",
       "_view_count": null,
       "_view_module": "@jupyter-widgets/base",
       "_view_module_version": "1.2.0",
       "_view_name": "LayoutView",
       "align_content": null,
       "align_items": null,
       "align_self": null,
       "border": null,
       "bottom": null,
       "display": null,
       "flex": null,
       "flex_flow": null,
       "grid_area": null,
       "grid_auto_columns": null,
       "grid_auto_flow": null,
       "grid_auto_rows": null,
       "grid_column": null,
       "grid_gap": null,
       "grid_row": null,
       "grid_template_areas": null,
       "grid_template_columns": null,
       "grid_template_rows": null,
       "height": null,
       "justify_content": null,
       "justify_items": null,
       "left": null,
       "margin": null,
       "max_height": null,
       "max_width": null,
       "min_height": null,
       "min_width": null,
       "object_fit": null,
       "object_position": null,
       "order": null,
       "overflow": null,
       "overflow_x": null,
       "overflow_y": null,
       "padding": null,
       "right": null,
       "top": null,
       "visibility": null,
       "width": null
      }
     },
     "f772fd01d1984748aa9a14ee5a9fd26d": {
      "model_module": "@jupyter-widgets/controls",
      "model_module_version": "1.5.0",
      "model_name": "HTMLModel",
      "state": {
       "_dom_classes": [],
       "_model_module": "@jupyter-widgets/controls",
       "_model_module_version": "1.5.0",
       "_model_name": "HTMLModel",
       "_view_count": null,
       "_view_module": "@jupyter-widgets/controls",
       "_view_module_version": "1.5.0",
       "_view_name": "HTMLView",
       "description": "",
       "description_tooltip": null,
       "layout": "IPY_MODEL_f515e86c951e4505825de0d4d8b008c1",
       "placeholder": "​",
       "style": "IPY_MODEL_c3d403339dc7488aa2ce6cf99eae5e1e",
       "value": " 100/100 [11:24&lt;00:00,  2.61s/it]"
      }
     }
    },
    "version_major": 2,
    "version_minor": 0
   }
  }
 },
 "nbformat": 4,
 "nbformat_minor": 5
}
