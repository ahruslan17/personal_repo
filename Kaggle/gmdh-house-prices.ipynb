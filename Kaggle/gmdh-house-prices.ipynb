{
 "cells": [
  {
   "cell_type": "code",
   "execution_count": 1,
   "id": "5b6e4a73",
   "metadata": {
    "_cell_guid": "b1076dfc-b9ad-4769-8c92-a6c4dae69d19",
    "_uuid": "8f2839f25d086af736a60e9eeb907d3b93b6e0e5",
    "execution": {
     "iopub.execute_input": "2023-09-23T02:18:39.814914Z",
     "iopub.status.busy": "2023-09-23T02:18:39.814379Z",
     "iopub.status.idle": "2023-09-23T02:18:55.915582Z",
     "shell.execute_reply": "2023-09-23T02:18:55.913946Z"
    },
    "papermill": {
     "duration": 16.114591,
     "end_time": "2023-09-23T02:18:55.918767",
     "exception": false,
     "start_time": "2023-09-23T02:18:39.804176",
     "status": "completed"
    },
    "tags": []
   },
   "outputs": [
    {
     "name": "stdout",
     "output_type": "stream",
     "text": [
      "Collecting gmdh\r\n",
      "  Downloading gmdh-1.0.3-cp310-cp310-manylinux1_x86_64.whl (875 kB)\r\n",
      "\u001b[2K     \u001b[90m━━━━━━━━━━━━━━━━━━━━━━━━━━━━━━━━━━━━━━\u001b[0m \u001b[32m875.3/875.3 kB\u001b[0m \u001b[31m13.9 MB/s\u001b[0m eta \u001b[36m0:00:00\u001b[0m\r\n",
      "\u001b[?25hCollecting docstring-inheritance (from gmdh)\r\n",
      "  Downloading docstring_inheritance-2.0.0-py3-none-any.whl (16 kB)\r\n",
      "Requirement already satisfied: numpy in /opt/conda/lib/python3.10/site-packages (from gmdh) (1.23.5)\r\n",
      "Installing collected packages: docstring-inheritance, gmdh\r\n",
      "Successfully installed docstring-inheritance-2.0.0 gmdh-1.0.3\r\n"
     ]
    }
   ],
   "source": [
    "!pip install gmdh"
   ]
  },
  {
   "cell_type": "code",
   "execution_count": 2,
   "id": "d2bdb3aa",
   "metadata": {
    "execution": {
     "iopub.execute_input": "2023-09-23T02:18:55.939398Z",
     "iopub.status.busy": "2023-09-23T02:18:55.938948Z",
     "iopub.status.idle": "2023-09-23T02:18:59.666001Z",
     "shell.execute_reply": "2023-09-23T02:18:59.664797Z"
    },
    "papermill": {
     "duration": 3.74106,
     "end_time": "2023-09-23T02:18:59.669329",
     "exception": false,
     "start_time": "2023-09-23T02:18:55.928269",
     "status": "completed"
    },
    "tags": []
   },
   "outputs": [],
   "source": [
    "import numpy as np\n",
    "import pandas as pd\n",
    "import matplotlib.pyplot as plt\n",
    "import plotly.express as px\n",
    "import plotly.graph_objects as go\n",
    "import seaborn as sns\n",
    "import plotly\n",
    "import plotly.express as px\n",
    "from sklearn.metrics import mean_squared_error\n",
    "from sklearn.model_selection import train_test_split\n",
    "from gmdh import Combi, Multi, Mia, Ria, split_data, PolynomialType, CriterionType\n",
    "from gmdh import SequentialCriterion, Solver\n",
    "from gmdh import Criterion\n",
    "from gmdh import ParallelCriterion\n",
    "from gmdh import SequentialCriterion, Solver\n",
    "from sklearn.preprocessing import LabelEncoder"
   ]
  },
  {
   "cell_type": "code",
   "execution_count": 3,
   "id": "94f9d56d",
   "metadata": {
    "execution": {
     "iopub.execute_input": "2023-09-23T02:18:59.689809Z",
     "iopub.status.busy": "2023-09-23T02:18:59.688398Z",
     "iopub.status.idle": "2023-09-23T02:18:59.781393Z",
     "shell.execute_reply": "2023-09-23T02:18:59.780467Z"
    },
    "papermill": {
     "duration": 0.106286,
     "end_time": "2023-09-23T02:18:59.784559",
     "exception": false,
     "start_time": "2023-09-23T02:18:59.678273",
     "status": "completed"
    },
    "tags": []
   },
   "outputs": [],
   "source": [
    "train_data = pd.read_csv('/kaggle/input/house-prices-advanced-regression-techniques/train.csv')\n",
    "test_data = pd.read_csv('/kaggle/input/house-prices-advanced-regression-techniques/test.csv')"
   ]
  },
  {
   "cell_type": "code",
   "execution_count": 4,
   "id": "5cb2ef7d",
   "metadata": {
    "execution": {
     "iopub.execute_input": "2023-09-23T02:18:59.805352Z",
     "iopub.status.busy": "2023-09-23T02:18:59.804269Z",
     "iopub.status.idle": "2023-09-23T02:18:59.830238Z",
     "shell.execute_reply": "2023-09-23T02:18:59.828864Z"
    },
    "papermill": {
     "duration": 0.04013,
     "end_time": "2023-09-23T02:18:59.833371",
     "exception": false,
     "start_time": "2023-09-23T02:18:59.793241",
     "status": "completed"
    },
    "tags": []
   },
   "outputs": [],
   "source": [
    "train_data.drop('Id', axis=1,inplace=True)"
   ]
  },
  {
   "cell_type": "code",
   "execution_count": 5,
   "id": "bfc7bb36",
   "metadata": {
    "execution": {
     "iopub.execute_input": "2023-09-23T02:18:59.855865Z",
     "iopub.status.busy": "2023-09-23T02:18:59.855112Z",
     "iopub.status.idle": "2023-09-23T02:18:59.868485Z",
     "shell.execute_reply": "2023-09-23T02:18:59.867517Z"
    },
    "papermill": {
     "duration": 0.028859,
     "end_time": "2023-09-23T02:18:59.871001",
     "exception": false,
     "start_time": "2023-09-23T02:18:59.842142",
     "status": "completed"
    },
    "tags": []
   },
   "outputs": [],
   "source": [
    "Q1 = train_data['SalePrice'].quantile(0.25)\n",
    "Q3 = train_data['SalePrice'].quantile(0.75)\n",
    "IQR = Q3 - Q1\n",
    "\n",
    "lower_bound = Q1 - 1.5 * IQR\n",
    "upper_bound = Q3 + 1.5 * IQR\n",
    "\n",
    "train_data = train_data[(train_data['SalePrice'] >= lower_bound) & (train_data['SalePrice'] <= upper_bound)]"
   ]
  },
  {
   "cell_type": "code",
   "execution_count": 6,
   "id": "14a46841",
   "metadata": {
    "execution": {
     "iopub.execute_input": "2023-09-23T02:18:59.890382Z",
     "iopub.status.busy": "2023-09-23T02:18:59.889652Z",
     "iopub.status.idle": "2023-09-23T02:18:59.896327Z",
     "shell.execute_reply": "2023-09-23T02:18:59.894901Z"
    },
    "papermill": {
     "duration": 0.019704,
     "end_time": "2023-09-23T02:18:59.899068",
     "exception": false,
     "start_time": "2023-09-23T02:18:59.879364",
     "status": "completed"
    },
    "tags": []
   },
   "outputs": [
    {
     "name": "stdout",
     "output_type": "stream",
     "text": [
      "1399\n"
     ]
    }
   ],
   "source": [
    "print(len(train_data))\n",
    "check_data = train_data[1200:]\n",
    "train_data = train_data[:1200]"
   ]
  },
  {
   "cell_type": "code",
   "execution_count": 7,
   "id": "1592bc80",
   "metadata": {
    "execution": {
     "iopub.execute_input": "2023-09-23T02:18:59.918166Z",
     "iopub.status.busy": "2023-09-23T02:18:59.917734Z",
     "iopub.status.idle": "2023-09-23T02:18:59.925110Z",
     "shell.execute_reply": "2023-09-23T02:18:59.924176Z"
    },
    "papermill": {
     "duration": 0.019821,
     "end_time": "2023-09-23T02:18:59.927389",
     "exception": false,
     "start_time": "2023-09-23T02:18:59.907568",
     "status": "completed"
    },
    "tags": []
   },
   "outputs": [],
   "source": [
    "train_data_nums = train_data.select_dtypes(include = ['float64', 'int64'])\n",
    "test_data_nums = test_data.select_dtypes(include = ['float64', 'int64'])"
   ]
  },
  {
   "cell_type": "code",
   "execution_count": 8,
   "id": "ec79fdd5",
   "metadata": {
    "execution": {
     "iopub.execute_input": "2023-09-23T02:18:59.947215Z",
     "iopub.status.busy": "2023-09-23T02:18:59.945899Z",
     "iopub.status.idle": "2023-09-23T02:18:59.955580Z",
     "shell.execute_reply": "2023-09-23T02:18:59.954682Z"
    },
    "papermill": {
     "duration": 0.022261,
     "end_time": "2023-09-23T02:18:59.958221",
     "exception": false,
     "start_time": "2023-09-23T02:18:59.935960",
     "status": "completed"
    },
    "tags": []
   },
   "outputs": [],
   "source": [
    "X, y = train_data_nums.drop('SalePrice', axis=1), train_data_nums['SalePrice']\n",
    "X_train, X_valid, y_train, y_valid = train_test_split(X, y, test_size=0.25, random_state=155)"
   ]
  },
  {
   "cell_type": "code",
   "execution_count": 9,
   "id": "2a138a12",
   "metadata": {
    "execution": {
     "iopub.execute_input": "2023-09-23T02:18:59.977793Z",
     "iopub.status.busy": "2023-09-23T02:18:59.976666Z",
     "iopub.status.idle": "2023-09-23T02:19:00.015015Z",
     "shell.execute_reply": "2023-09-23T02:19:00.013638Z"
    },
    "papermill": {
     "duration": 0.051263,
     "end_time": "2023-09-23T02:19:00.017937",
     "exception": false,
     "start_time": "2023-09-23T02:18:59.966674",
     "status": "completed"
    },
    "tags": []
   },
   "outputs": [],
   "source": [
    "X_train = X_train.fillna(X_train.mean())\n",
    "X_valid = X_valid.fillna(X_valid.mean())"
   ]
  },
  {
   "cell_type": "code",
   "execution_count": 10,
   "id": "c132f850",
   "metadata": {
    "execution": {
     "iopub.execute_input": "2023-09-23T02:19:00.037328Z",
     "iopub.status.busy": "2023-09-23T02:19:00.036951Z",
     "iopub.status.idle": "2023-09-23T02:19:00.043745Z",
     "shell.execute_reply": "2023-09-23T02:19:00.042772Z"
    },
    "papermill": {
     "duration": 0.019349,
     "end_time": "2023-09-23T02:19:00.045967",
     "exception": false,
     "start_time": "2023-09-23T02:19:00.026618",
     "status": "completed"
    },
    "tags": []
   },
   "outputs": [],
   "source": [
    "par_criterion_1 = ParallelCriterion(criterion_type=CriterionType.SYM_STABILITY, \n",
    "                                  second_criterion_type=CriterionType.SYM_REGULARITY,\n",
    "                                  solver=Solver.ACCURATE,\n",
    "                                  alpha=0.85)\n",
    "\n",
    "par_criterion_2 = ParallelCriterion(criterion_type=CriterionType.STABILITY, \n",
    "                                  second_criterion_type=CriterionType.SYM_ABSOLUTE_NOISE_IMMUNITY,\n",
    "                                  solver=Solver.ACCURATE,\n",
    "                                  alpha=0.85)"
   ]
  },
  {
   "cell_type": "code",
   "execution_count": 11,
   "id": "a0c56888",
   "metadata": {
    "execution": {
     "iopub.execute_input": "2023-09-23T02:19:00.065690Z",
     "iopub.status.busy": "2023-09-23T02:19:00.064965Z",
     "iopub.status.idle": "2023-09-23T02:19:00.220583Z",
     "shell.execute_reply": "2023-09-23T02:19:00.219147Z"
    },
    "papermill": {
     "duration": 0.169019,
     "end_time": "2023-09-23T02:19:00.223606",
     "exception": false,
     "start_time": "2023-09-23T02:19:00.054587",
     "status": "completed"
    },
    "tags": []
   },
   "outputs": [
    {
     "name": "stdout",
     "output_type": "stream",
     "text": [
      "321314200.4166316\n",
      "CPU times: user 520 ms, sys: 9.38 ms, total: 530 ms\n",
      "Wall time: 145 ms\n"
     ]
    }
   ],
   "source": [
    "%%time\n",
    "model_gmdh = Ria() #Ria, Multi, Mia, Combi\n",
    "\n",
    "\n",
    "model_gmdh.fit(np.array(X_train), np.array(y_train), par_criterion_1, polynomial_type=PolynomialType.LINEAR_COV,k_best=5,n_jobs=-1,p_average=1) #LINEAR_COV, QUADRATIC, LINEAR\n",
    "y_predicted = model_gmdh.predict(X_valid)\n",
    "\n",
    "print(mean_squared_error(y_valid, y_predicted))"
   ]
  },
  {
   "cell_type": "code",
   "execution_count": 12,
   "id": "5d96768b",
   "metadata": {
    "execution": {
     "iopub.execute_input": "2023-09-23T02:19:00.242909Z",
     "iopub.status.busy": "2023-09-23T02:19:00.242518Z",
     "iopub.status.idle": "2023-09-23T02:19:00.264757Z",
     "shell.execute_reply": "2023-09-23T02:19:00.263251Z"
    },
    "papermill": {
     "duration": 0.035226,
     "end_time": "2023-09-23T02:19:00.267565",
     "exception": false,
     "start_time": "2023-09-23T02:19:00.232339",
     "status": "completed"
    },
    "tags": []
   },
   "outputs": [],
   "source": [
    "test_data_nums = test_data_nums.fillna(test_data_nums.mean())   \n",
    "test_predict = model_gmdh.predict(test_data_nums.drop('Id',axis=1))"
   ]
  },
  {
   "cell_type": "code",
   "execution_count": 13,
   "id": "44388ad8",
   "metadata": {
    "execution": {
     "iopub.execute_input": "2023-09-23T02:19:00.289708Z",
     "iopub.status.busy": "2023-09-23T02:19:00.289276Z",
     "iopub.status.idle": "2023-09-23T02:19:00.295217Z",
     "shell.execute_reply": "2023-09-23T02:19:00.294057Z"
    },
    "papermill": {
     "duration": 0.019039,
     "end_time": "2023-09-23T02:19:00.297569",
     "exception": false,
     "start_time": "2023-09-23T02:19:00.278530",
     "status": "completed"
    },
    "tags": []
   },
   "outputs": [],
   "source": [
    "output_1 = pd.DataFrame({'Id':test_data.Id,\n",
    "                       'SalePrice':test_predict})"
   ]
  },
  {
   "cell_type": "code",
   "execution_count": 14,
   "id": "248ec2b9",
   "metadata": {
    "execution": {
     "iopub.execute_input": "2023-09-23T02:19:00.316881Z",
     "iopub.status.busy": "2023-09-23T02:19:00.316466Z",
     "iopub.status.idle": "2023-09-23T02:19:00.327555Z",
     "shell.execute_reply": "2023-09-23T02:19:00.326386Z"
    },
    "papermill": {
     "duration": 0.023769,
     "end_time": "2023-09-23T02:19:00.330023",
     "exception": false,
     "start_time": "2023-09-23T02:19:00.306254",
     "status": "completed"
    },
    "tags": []
   },
   "outputs": [],
   "source": [
    "X, y = train_data.drop('SalePrice', axis=1), train_data['SalePrice']\n",
    "X_train, X_valid, y_train, y_valid = train_test_split(X, y, test_size=0.25, random_state=155)"
   ]
  },
  {
   "cell_type": "code",
   "execution_count": 15,
   "id": "b9f4347f",
   "metadata": {
    "execution": {
     "iopub.execute_input": "2023-09-23T02:19:00.350009Z",
     "iopub.status.busy": "2023-09-23T02:19:00.349603Z",
     "iopub.status.idle": "2023-09-23T02:19:00.384275Z",
     "shell.execute_reply": "2023-09-23T02:19:00.382933Z"
    },
    "papermill": {
     "duration": 0.047859,
     "end_time": "2023-09-23T02:19:00.387251",
     "exception": false,
     "start_time": "2023-09-23T02:19:00.339392",
     "status": "completed"
    },
    "tags": []
   },
   "outputs": [
    {
     "name": "stdout",
     "output_type": "stream",
     "text": [
      "<class 'pandas.core.frame.DataFrame'>\n",
      "Index: 900 entries, 386 to 996\n",
      "Data columns (total 79 columns):\n",
      " #   Column         Non-Null Count  Dtype  \n",
      "---  ------         --------------  -----  \n",
      " 0   MSSubClass     900 non-null    int64  \n",
      " 1   MSZoning       900 non-null    object \n",
      " 2   LotFrontage    734 non-null    float64\n",
      " 3   LotArea        900 non-null    int64  \n",
      " 4   Street         900 non-null    object \n",
      " 5   Alley          55 non-null     object \n",
      " 6   LotShape       900 non-null    object \n",
      " 7   LandContour    900 non-null    object \n",
      " 8   Utilities      900 non-null    object \n",
      " 9   LotConfig      900 non-null    object \n",
      " 10  LandSlope      900 non-null    object \n",
      " 11  Neighborhood   900 non-null    object \n",
      " 12  Condition1     900 non-null    object \n",
      " 13  Condition2     900 non-null    object \n",
      " 14  BldgType       900 non-null    object \n",
      " 15  HouseStyle     900 non-null    object \n",
      " 16  OverallQual    900 non-null    int64  \n",
      " 17  OverallCond    900 non-null    int64  \n",
      " 18  YearBuilt      900 non-null    int64  \n",
      " 19  YearRemodAdd   900 non-null    int64  \n",
      " 20  RoofStyle      900 non-null    object \n",
      " 21  RoofMatl       900 non-null    object \n",
      " 22  Exterior1st    900 non-null    object \n",
      " 23  Exterior2nd    900 non-null    object \n",
      " 24  MasVnrType     349 non-null    object \n",
      " 25  MasVnrArea     896 non-null    float64\n",
      " 26  ExterQual      900 non-null    object \n",
      " 27  ExterCond      900 non-null    object \n",
      " 28  Foundation     900 non-null    object \n",
      " 29  BsmtQual       872 non-null    object \n",
      " 30  BsmtCond       872 non-null    object \n",
      " 31  BsmtExposure   871 non-null    object \n",
      " 32  BsmtFinType1   872 non-null    object \n",
      " 33  BsmtFinSF1     900 non-null    int64  \n",
      " 34  BsmtFinType2   871 non-null    object \n",
      " 35  BsmtFinSF2     900 non-null    int64  \n",
      " 36  BsmtUnfSF      900 non-null    int64  \n",
      " 37  TotalBsmtSF    900 non-null    int64  \n",
      " 38  Heating        900 non-null    object \n",
      " 39  HeatingQC      900 non-null    object \n",
      " 40  CentralAir     900 non-null    object \n",
      " 41  Electrical     900 non-null    object \n",
      " 42  1stFlrSF       900 non-null    int64  \n",
      " 43  2ndFlrSF       900 non-null    int64  \n",
      " 44  LowQualFinSF   900 non-null    int64  \n",
      " 45  GrLivArea      900 non-null    int64  \n",
      " 46  BsmtFullBath   900 non-null    int64  \n",
      " 47  BsmtHalfBath   900 non-null    int64  \n",
      " 48  FullBath       900 non-null    int64  \n",
      " 49  HalfBath       900 non-null    int64  \n",
      " 50  BedroomAbvGr   900 non-null    int64  \n",
      " 51  KitchenAbvGr   900 non-null    int64  \n",
      " 52  KitchenQual    900 non-null    object \n",
      " 53  TotRmsAbvGrd   900 non-null    int64  \n",
      " 54  Functional     900 non-null    object \n",
      " 55  Fireplaces     900 non-null    int64  \n",
      " 56  FireplaceQu    478 non-null    object \n",
      " 57  GarageType     846 non-null    object \n",
      " 58  GarageYrBlt    846 non-null    float64\n",
      " 59  GarageFinish   846 non-null    object \n",
      " 60  GarageCars     900 non-null    int64  \n",
      " 61  GarageArea     900 non-null    int64  \n",
      " 62  GarageQual     846 non-null    object \n",
      " 63  GarageCond     846 non-null    object \n",
      " 64  PavedDrive     900 non-null    object \n",
      " 65  WoodDeckSF     900 non-null    int64  \n",
      " 66  OpenPorchSF    900 non-null    int64  \n",
      " 67  EnclosedPorch  900 non-null    int64  \n",
      " 68  3SsnPorch      900 non-null    int64  \n",
      " 69  ScreenPorch    900 non-null    int64  \n",
      " 70  PoolArea       900 non-null    int64  \n",
      " 71  PoolQC         2 non-null      object \n",
      " 72  Fence          167 non-null    object \n",
      " 73  MiscFeature    31 non-null     object \n",
      " 74  MiscVal        900 non-null    int64  \n",
      " 75  MoSold         900 non-null    int64  \n",
      " 76  YrSold         900 non-null    int64  \n",
      " 77  SaleType       900 non-null    object \n",
      " 78  SaleCondition  900 non-null    object \n",
      "dtypes: float64(3), int64(33), object(43)\n",
      "memory usage: 562.5+ KB\n"
     ]
    }
   ],
   "source": [
    "X_train.info()"
   ]
  },
  {
   "cell_type": "code",
   "execution_count": 16,
   "id": "29474937",
   "metadata": {
    "execution": {
     "iopub.execute_input": "2023-09-23T02:19:00.407209Z",
     "iopub.status.busy": "2023-09-23T02:19:00.406757Z",
     "iopub.status.idle": "2023-09-23T02:19:14.826301Z",
     "shell.execute_reply": "2023-09-23T02:19:14.825165Z"
    },
    "papermill": {
     "duration": 14.432491,
     "end_time": "2023-09-23T02:19:14.828714",
     "exception": false,
     "start_time": "2023-09-23T02:19:00.396223",
     "status": "completed"
    },
    "tags": []
   },
   "outputs": [
    {
     "name": "stdout",
     "output_type": "stream",
     "text": [
      "Fitting 3 folds for each of 1 candidates, totalling 3 fits\n",
      "Лучшие параметры: {'learning_rate': 0.01, 'max_depth': 3, 'n_estimators': 2000, 'subsample': 0.3}\n",
      "Среднеквадратичная ошибка (MSE) на обучающем наборе: 71407987.2594346\n",
      "Среднеквадратичная ошибка (MSE) на тестовом наборе: 753841652.444031\n"
     ]
    }
   ],
   "source": [
    "import xgboost as xgb\n",
    "from sklearn.model_selection import train_test_split, GridSearchCV\n",
    "from sklearn.metrics import mean_squared_error\n",
    "\n",
    "param_grid = {\n",
    "    'n_estimators': [2000],  # Можно изменить диапазон\n",
    "    'max_depth': [3],           # Можно изменить диапазон\n",
    "    'learning_rate': [0.01], # Можно изменить диапазон\n",
    "    'subsample': [0.3],     # Можно изменить диапазон\n",
    "}\n",
    "\n",
    "\n",
    "# param_grid = {\n",
    "#     'n_estimators': [1800, 1900, 2000, 2100, 2200, 2300],  # Можно изменить диапазон\n",
    "#     'max_depth': [3],           # Можно изменить диапазон\n",
    "#     'learning_rate': [0.009, 0.008, 0.01, 0.02, 0.03], # Можно изменить диапазон\n",
    "#     'subsample': [0.25, 0.3, 0.35],     # Можно изменить диапазон\n",
    "# }\n",
    "\n",
    "# Создаем модель XGBoost\n",
    "model = xgb.XGBRegressor(eval_metric='logloss', tree_method=\"hist\", objective='reg:squarederror', enable_categorical=True)\n",
    "\n",
    "# Создаем объект GridSearchCV для поиска по сетке\n",
    "grid_search = GridSearchCV(estimator=model, param_grid=param_grid, cv=3, scoring='neg_mean_squared_error', verbose=2, n_jobs=-1)\n",
    "\n",
    "# Разделяем данные на обучающий и тестовый наборы\n",
    "X_train, X_valid, y_train, y_valid = train_test_split(X, y, test_size=0.2, random_state=42)\n",
    "\n",
    "categorical_features = [\n",
    "    \"MSSubClass\", \"MSZoning\", \"Street\", \"Alley\", \"LotShape\", \"LandContour\",\n",
    "    \"Utilities\", \"LotConfig\", \"LandSlope\", \"Neighborhood\", \"Condition1\",\n",
    "    \"Condition2\", \"HouseStyle\", \"OverallQual\", \"OverallCond\", \"RoofStyle\",\n",
    "    \"RoofMatl\", \"Exterior1st\", \"Exterior2nd\", \"MasVnrType\", \"ExterQual\",\n",
    "    \"ExterCond\", \"Foundation\", \"BsmtQual\", \"BsmtCond\", \"BsmtExposure\",\n",
    "    \"BsmtFinType1\", \"BsmtFinType2\", \"Heating\", \"HeatingQC\", \"Electrical\",\n",
    "    \"KitchenQual\", \"Functional\", \"FireplaceQu\", \"GarageType\", \"GarageFinish\",\n",
    "    \"GarageQual\", \"GarageCond\", \"PavedDrive\", \"PoolQC\", \"Fence\", \"MiscFeature\",\n",
    "    \"SaleType\", \"SaleCondition\", \"BldgType\", \"CentralAir\"\n",
    "]\n",
    "\n",
    "for feature in categorical_features:  \n",
    "    X_train[feature] = X_train[feature].astype(\"category\")\n",
    "    X_valid[feature] = X_valid[feature].astype(\"category\")\n",
    "    \n",
    "\n",
    "# Запускаем поиск по сетке\n",
    "grid_search.fit(X_train, y_train)\n",
    "\n",
    "# Получаем лучшие параметры\n",
    "best_params = grid_search.best_params_\n",
    "print(\"Лучшие параметры:\", best_params)\n",
    "\n",
    "# Создаем модель с лучшими параметрами\n",
    "best_model = xgb.XGBRegressor(**best_params, eval_metric='logloss', tree_method=\"hist\", objective='reg:squarederror', enable_categorical=True)\n",
    "\n",
    "# Обучаем модель с лучшими параметрами\n",
    "best_model.fit(X_train, y_train)\n",
    "\n",
    "# Делаем предсказания\n",
    "y_pred = best_model.predict(X_valid)\n",
    "y_train_pred = best_model.predict(X_train)\n",
    "\n",
    "# Выводим результаты\n",
    "print(f\"Среднеквадратичная ошибка (MSE) на обучающем наборе: {mean_squared_error(y_train, y_train_pred)}\")\n",
    "print(f\"Среднеквадратичная ошибка (MSE) на тестовом наборе: {mean_squared_error(y_valid, y_pred)}\")"
   ]
  },
  {
   "cell_type": "code",
   "execution_count": 17,
   "id": "02bb8a35",
   "metadata": {
    "execution": {
     "iopub.execute_input": "2023-09-23T02:19:14.849940Z",
     "iopub.status.busy": "2023-09-23T02:19:14.849474Z",
     "iopub.status.idle": "2023-09-23T02:19:14.978830Z",
     "shell.execute_reply": "2023-09-23T02:19:14.977844Z"
    },
    "papermill": {
     "duration": 0.14302,
     "end_time": "2023-09-23T02:19:14.981721",
     "exception": false,
     "start_time": "2023-09-23T02:19:14.838701",
     "status": "completed"
    },
    "tags": []
   },
   "outputs": [],
   "source": [
    "for feature in categorical_features: \n",
    "    try:\n",
    "        test_data[feature] = test_data[feature].astype(\"category\")\n",
    "    except:\n",
    "        pass\n",
    "    \n",
    "test_predict = best_model.predict(test_data.drop('Id',axis=1))"
   ]
  },
  {
   "cell_type": "code",
   "execution_count": 18,
   "id": "90ad2c56",
   "metadata": {
    "execution": {
     "iopub.execute_input": "2023-09-23T02:19:15.011642Z",
     "iopub.status.busy": "2023-09-23T02:19:15.011133Z",
     "iopub.status.idle": "2023-09-23T02:19:15.018574Z",
     "shell.execute_reply": "2023-09-23T02:19:15.017199Z"
    },
    "papermill": {
     "duration": 0.029679,
     "end_time": "2023-09-23T02:19:15.021717",
     "exception": false,
     "start_time": "2023-09-23T02:19:14.992038",
     "status": "completed"
    },
    "tags": []
   },
   "outputs": [],
   "source": [
    "output_2 = pd.DataFrame({'Id':test_data.Id,\n",
    "                       'SalePrice':test_predict})"
   ]
  },
  {
   "cell_type": "code",
   "execution_count": 19,
   "id": "5744f9a7",
   "metadata": {
    "execution": {
     "iopub.execute_input": "2023-09-23T02:19:15.043214Z",
     "iopub.status.busy": "2023-09-23T02:19:15.042347Z",
     "iopub.status.idle": "2023-09-23T02:19:15.049460Z",
     "shell.execute_reply": "2023-09-23T02:19:15.048527Z"
    },
    "papermill": {
     "duration": 0.02102,
     "end_time": "2023-09-23T02:19:15.052223",
     "exception": false,
     "start_time": "2023-09-23T02:19:15.031203",
     "status": "completed"
    },
    "tags": []
   },
   "outputs": [],
   "source": [
    "ans = 0.25*output_1['SalePrice'] + 0.75*output_2['SalePrice']"
   ]
  },
  {
   "cell_type": "code",
   "execution_count": 20,
   "id": "46244af9",
   "metadata": {
    "execution": {
     "iopub.execute_input": "2023-09-23T02:19:15.073529Z",
     "iopub.status.busy": "2023-09-23T02:19:15.072727Z",
     "iopub.status.idle": "2023-09-23T02:19:15.092872Z",
     "shell.execute_reply": "2023-09-23T02:19:15.091504Z"
    },
    "papermill": {
     "duration": 0.034571,
     "end_time": "2023-09-23T02:19:15.095916",
     "exception": false,
     "start_time": "2023-09-23T02:19:15.061345",
     "status": "completed"
    },
    "tags": []
   },
   "outputs": [],
   "source": [
    "output = pd.DataFrame({'Id':test_data.Id,\n",
    "                       'SalePrice':ans})\n",
    "\n",
    "output.to_csv('submission.csv',index=False)"
   ]
  },
  {
   "cell_type": "code",
   "execution_count": 21,
   "id": "2296b5a1",
   "metadata": {
    "execution": {
     "iopub.execute_input": "2023-09-23T02:19:15.116594Z",
     "iopub.status.busy": "2023-09-23T02:19:15.116095Z",
     "iopub.status.idle": "2023-09-23T02:19:15.139840Z",
     "shell.execute_reply": "2023-09-23T02:19:15.138418Z"
    },
    "papermill": {
     "duration": 0.037773,
     "end_time": "2023-09-23T02:19:15.142702",
     "exception": false,
     "start_time": "2023-09-23T02:19:15.104929",
     "status": "completed"
    },
    "tags": []
   },
   "outputs": [
    {
     "data": {
      "text/html": [
       "<div>\n",
       "<style scoped>\n",
       "    .dataframe tbody tr th:only-of-type {\n",
       "        vertical-align: middle;\n",
       "    }\n",
       "\n",
       "    .dataframe tbody tr th {\n",
       "        vertical-align: top;\n",
       "    }\n",
       "\n",
       "    .dataframe thead th {\n",
       "        text-align: right;\n",
       "    }\n",
       "</style>\n",
       "<table border=\"1\" class=\"dataframe\">\n",
       "  <thead>\n",
       "    <tr style=\"text-align: right;\">\n",
       "      <th></th>\n",
       "      <th>Id</th>\n",
       "      <th>SalePrice</th>\n",
       "    </tr>\n",
       "  </thead>\n",
       "  <tbody>\n",
       "    <tr>\n",
       "      <th>0</th>\n",
       "      <td>1461</td>\n",
       "      <td>134188.460678</td>\n",
       "    </tr>\n",
       "    <tr>\n",
       "      <th>1</th>\n",
       "      <td>1462</td>\n",
       "      <td>163353.586292</td>\n",
       "    </tr>\n",
       "    <tr>\n",
       "      <th>2</th>\n",
       "      <td>1463</td>\n",
       "      <td>187038.283406</td>\n",
       "    </tr>\n",
       "    <tr>\n",
       "      <th>3</th>\n",
       "      <td>1464</td>\n",
       "      <td>197948.948326</td>\n",
       "    </tr>\n",
       "    <tr>\n",
       "      <th>4</th>\n",
       "      <td>1465</td>\n",
       "      <td>185775.577287</td>\n",
       "    </tr>\n",
       "    <tr>\n",
       "      <th>...</th>\n",
       "      <td>...</td>\n",
       "      <td>...</td>\n",
       "    </tr>\n",
       "    <tr>\n",
       "      <th>1454</th>\n",
       "      <td>2915</td>\n",
       "      <td>79905.806100</td>\n",
       "    </tr>\n",
       "    <tr>\n",
       "      <th>1455</th>\n",
       "      <td>2916</td>\n",
       "      <td>79847.155959</td>\n",
       "    </tr>\n",
       "    <tr>\n",
       "      <th>1456</th>\n",
       "      <td>2917</td>\n",
       "      <td>176179.646104</td>\n",
       "    </tr>\n",
       "    <tr>\n",
       "      <th>1457</th>\n",
       "      <td>2918</td>\n",
       "      <td>127520.023786</td>\n",
       "    </tr>\n",
       "    <tr>\n",
       "      <th>1458</th>\n",
       "      <td>2919</td>\n",
       "      <td>215673.428662</td>\n",
       "    </tr>\n",
       "  </tbody>\n",
       "</table>\n",
       "<p>1459 rows × 2 columns</p>\n",
       "</div>"
      ],
      "text/plain": [
       "        Id      SalePrice\n",
       "0     1461  134188.460678\n",
       "1     1462  163353.586292\n",
       "2     1463  187038.283406\n",
       "3     1464  197948.948326\n",
       "4     1465  185775.577287\n",
       "...    ...            ...\n",
       "1454  2915   79905.806100\n",
       "1455  2916   79847.155959\n",
       "1456  2917  176179.646104\n",
       "1457  2918  127520.023786\n",
       "1458  2919  215673.428662\n",
       "\n",
       "[1459 rows x 2 columns]"
      ]
     },
     "execution_count": 21,
     "metadata": {},
     "output_type": "execute_result"
    }
   ],
   "source": [
    "output"
   ]
  },
  {
   "cell_type": "code",
   "execution_count": null,
   "id": "96003eea",
   "metadata": {
    "papermill": {
     "duration": 0.009253,
     "end_time": "2023-09-23T02:19:15.161558",
     "exception": false,
     "start_time": "2023-09-23T02:19:15.152305",
     "status": "completed"
    },
    "tags": []
   },
   "outputs": [],
   "source": []
  }
 ],
 "metadata": {
  "kernelspec": {
   "display_name": "Python 3",
   "language": "python",
   "name": "python3"
  },
  "language_info": {
   "codemirror_mode": {
    "name": "ipython",
    "version": 3
   },
   "file_extension": ".py",
   "mimetype": "text/x-python",
   "name": "python",
   "nbconvert_exporter": "python",
   "pygments_lexer": "ipython3",
   "version": "3.10.12"
  },
  "papermill": {
   "default_parameters": {},
   "duration": 42.825247,
   "end_time": "2023-09-23T02:19:17.794389",
   "environment_variables": {},
   "exception": null,
   "input_path": "__notebook__.ipynb",
   "output_path": "__notebook__.ipynb",
   "parameters": {},
   "start_time": "2023-09-23T02:18:34.969142",
   "version": "2.4.0"
  }
 },
 "nbformat": 4,
 "nbformat_minor": 5
}
