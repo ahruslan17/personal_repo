{
 "cells": [
  {
   "cell_type": "markdown",
   "id": "583a7163",
   "metadata": {
    "papermill": {
     "duration": 0.024608,
     "end_time": "2023-09-28T23:29:21.558308",
     "exception": false,
     "start_time": "2023-09-28T23:29:21.533700",
     "status": "completed"
    },
    "tags": []
   },
   "source": [
    "<div style=\"color: navy; text-align: center; font-family: 'Georgia', serif; font-size: 32px; font-weight: bold;\">\n",
    "    Description\n",
    "</div>"
   ]
  },
  {
   "cell_type": "markdown",
   "id": "eb8bba71",
   "metadata": {
    "papermill": {
     "duration": 0.022638,
     "end_time": "2023-09-28T23:29:21.604306",
     "exception": false,
     "start_time": "2023-09-28T23:29:21.581668",
     "status": "completed"
    },
    "tags": []
   },
   "source": [
    "<div style=\"color: green; text-align: left; font-family: 'Calibri', sans-serif; font-size: 32px;\">\n",
    "    Hello, dear colleagues!\n",
    "</div>\n",
    "\n",
    "<div style=\"color: dark-blue; text-align: left; font-family: 'Calibri', sans-serif; font-size: 24px;\">\n",
    "    This notebook was made in educational purposes, every model was created by myself using official documentation.\n",
    "    I hope it will be useful for other beginners in ML.\n",
    "    If you have check it, please, upvote!\n",
    "    If you have any questions or suggestions about improvements, leave it in comment section.\n",
    "</div>\n"
   ]
  },
  {
   "cell_type": "markdown",
   "id": "1f6d7308",
   "metadata": {
    "papermill": {
     "duration": 0.022585,
     "end_time": "2023-09-28T23:29:21.650512",
     "exception": false,
     "start_time": "2023-09-28T23:29:21.627927",
     "status": "completed"
    },
    "tags": []
   },
   "source": [
    "<div style=\"color: Red; text-align: center; font-family: 'Georgia', serif; font-size: 32px; font-weight: bold;\">\n",
    "    About this notebook\n",
    "</div>"
   ]
  },
  {
   "cell_type": "markdown",
   "id": "635964be",
   "metadata": {
    "papermill": {
     "duration": 0.022186,
     "end_time": "2023-09-28T23:29:21.695289",
     "exception": false,
     "start_time": "2023-09-28T23:29:21.673103",
     "status": "completed"
    },
    "tags": []
   },
   "source": [
    "<div style=\"color: dark-blue; text-align: left; font-family: 'Calibri', sans-serif; font-size: 24px;\">\n",
    "    The aim of this short research is to investigate how different models and their combinations can perform in Spaceship Titanic task.\n",
    "</div>\n"
   ]
  },
  {
   "cell_type": "markdown",
   "id": "c9d08517",
   "metadata": {
    "papermill": {
     "duration": 0.022936,
     "end_time": "2023-09-28T23:29:21.741244",
     "exception": false,
     "start_time": "2023-09-28T23:29:21.718308",
     "status": "completed"
    },
    "tags": []
   },
   "source": [
    "<div style=\"color: dark-blue; text-align: left; font-family: 'Calibri', sans-serif; font-size: 24px;\">\n",
    "    In this work I consider 5 models: <br>\n",
    "        &nbsp&nbsp&nbsp&nbsp 1. XGBOOST Classifier<br>\n",
    "        &nbsp&nbsp&nbsp&nbsp 2. Random Forest Classifier<br>\n",
    "        &nbsp&nbsp&nbsp&nbsp 3. KNN Classifier <br>\n",
    "        &nbsp&nbsp&nbsp&nbsp 4. Support Vector Machines Classifier<br>\n",
    "        &nbsp&nbsp&nbsp&nbsp 5. Linear Discriminant Analysis <br>\n",
    "    \n",
    "    In future, I plan to add some other models here.\n",
    "</div>\n"
   ]
  },
  {
   "cell_type": "markdown",
   "id": "fb4ae5fb",
   "metadata": {
    "papermill": {
     "duration": 0.022179,
     "end_time": "2023-09-28T23:29:21.788189",
     "exception": false,
     "start_time": "2023-09-28T23:29:21.766010",
     "status": "completed"
    },
    "tags": []
   },
   "source": [
    "<div style=\"color: navy; text-align: center; font-family: 'Georgia', serif; font-size: 42px; font-weight: bold;\">\n",
    "    The best score is 0.80196\n",
    "</div>"
   ]
  },
  {
   "cell_type": "markdown",
   "id": "640a053b",
   "metadata": {
    "papermill": {
     "duration": 0.023763,
     "end_time": "2023-09-28T23:29:21.834920",
     "exception": false,
     "start_time": "2023-09-28T23:29:21.811157",
     "status": "completed"
    },
    "tags": []
   },
   "source": [
    "<div style=\"color: Red; text-align: center; font-family: 'Georgia', serif; font-size: 32px; font-weight: bold;\">\n",
    "    Let's start\n",
    "</div>"
   ]
  },
  {
   "cell_type": "markdown",
   "id": "846a3a1a",
   "metadata": {
    "papermill": {
     "duration": 0.023355,
     "end_time": "2023-09-28T23:29:21.880416",
     "exception": false,
     "start_time": "2023-09-28T23:29:21.857061",
     "status": "completed"
    },
    "tags": []
   },
   "source": [
    "# Libraries import"
   ]
  },
  {
   "cell_type": "code",
   "execution_count": 1,
   "id": "7f447f64",
   "metadata": {
    "execution": {
     "iopub.execute_input": "2023-09-28T23:29:21.932198Z",
     "iopub.status.busy": "2023-09-28T23:29:21.931618Z",
     "iopub.status.idle": "2023-09-28T23:29:25.687921Z",
     "shell.execute_reply": "2023-09-28T23:29:25.686461Z"
    },
    "papermill": {
     "duration": 3.786895,
     "end_time": "2023-09-28T23:29:25.691351",
     "exception": false,
     "start_time": "2023-09-28T23:29:21.904456",
     "status": "completed"
    },
    "tags": []
   },
   "outputs": [],
   "source": [
    "import numpy as np\n",
    "import pandas as pd\n",
    "import matplotlib.pyplot as plt\n",
    "import plotly.express as px\n",
    "import plotly.graph_objects as go\n",
    "import seaborn as sns\n",
    "import plotly\n",
    "import plotly.express as px\n",
    "from sklearn.model_selection import train_test_split"
   ]
  },
  {
   "cell_type": "markdown",
   "id": "befe8c83",
   "metadata": {
    "papermill": {
     "duration": 0.029125,
     "end_time": "2023-09-28T23:29:25.743538",
     "exception": false,
     "start_time": "2023-09-28T23:29:25.714413",
     "status": "completed"
    },
    "tags": []
   },
   "source": [
    "# Data import"
   ]
  },
  {
   "cell_type": "code",
   "execution_count": 2,
   "id": "0e848374",
   "metadata": {
    "execution": {
     "iopub.execute_input": "2023-09-28T23:29:25.883137Z",
     "iopub.status.busy": "2023-09-28T23:29:25.882259Z",
     "iopub.status.idle": "2023-09-28T23:29:26.002210Z",
     "shell.execute_reply": "2023-09-28T23:29:25.999959Z"
    },
    "papermill": {
     "duration": 0.238236,
     "end_time": "2023-09-28T23:29:26.007130",
     "exception": false,
     "start_time": "2023-09-28T23:29:25.768894",
     "status": "completed"
    },
    "tags": []
   },
   "outputs": [],
   "source": [
    "train_data = pd.read_csv('/kaggle/input/spaceship-titanic/train.csv')\n",
    "test_data = pd.read_csv('/kaggle/input/spaceship-titanic/test.csv')"
   ]
  },
  {
   "cell_type": "code",
   "execution_count": 3,
   "id": "5b0b56d5",
   "metadata": {
    "execution": {
     "iopub.execute_input": "2023-09-28T23:29:26.063567Z",
     "iopub.status.busy": "2023-09-28T23:29:26.063008Z",
     "iopub.status.idle": "2023-09-28T23:29:26.107362Z",
     "shell.execute_reply": "2023-09-28T23:29:26.106029Z"
    },
    "papermill": {
     "duration": 0.078161,
     "end_time": "2023-09-28T23:29:26.110183",
     "exception": false,
     "start_time": "2023-09-28T23:29:26.032022",
     "status": "completed"
    },
    "tags": []
   },
   "outputs": [
    {
     "data": {
      "text/html": [
       "<div>\n",
       "<style scoped>\n",
       "    .dataframe tbody tr th:only-of-type {\n",
       "        vertical-align: middle;\n",
       "    }\n",
       "\n",
       "    .dataframe tbody tr th {\n",
       "        vertical-align: top;\n",
       "    }\n",
       "\n",
       "    .dataframe thead th {\n",
       "        text-align: right;\n",
       "    }\n",
       "</style>\n",
       "<table border=\"1\" class=\"dataframe\">\n",
       "  <thead>\n",
       "    <tr style=\"text-align: right;\">\n",
       "      <th></th>\n",
       "      <th>PassengerId</th>\n",
       "      <th>Transported</th>\n",
       "    </tr>\n",
       "  </thead>\n",
       "  <tbody>\n",
       "    <tr>\n",
       "      <th>0</th>\n",
       "      <td>0013_01</td>\n",
       "      <td>False</td>\n",
       "    </tr>\n",
       "    <tr>\n",
       "      <th>1</th>\n",
       "      <td>0018_01</td>\n",
       "      <td>False</td>\n",
       "    </tr>\n",
       "    <tr>\n",
       "      <th>2</th>\n",
       "      <td>0019_01</td>\n",
       "      <td>False</td>\n",
       "    </tr>\n",
       "    <tr>\n",
       "      <th>3</th>\n",
       "      <td>0021_01</td>\n",
       "      <td>False</td>\n",
       "    </tr>\n",
       "    <tr>\n",
       "      <th>4</th>\n",
       "      <td>0023_01</td>\n",
       "      <td>False</td>\n",
       "    </tr>\n",
       "    <tr>\n",
       "      <th>...</th>\n",
       "      <td>...</td>\n",
       "      <td>...</td>\n",
       "    </tr>\n",
       "    <tr>\n",
       "      <th>4272</th>\n",
       "      <td>9266_02</td>\n",
       "      <td>False</td>\n",
       "    </tr>\n",
       "    <tr>\n",
       "      <th>4273</th>\n",
       "      <td>9269_01</td>\n",
       "      <td>False</td>\n",
       "    </tr>\n",
       "    <tr>\n",
       "      <th>4274</th>\n",
       "      <td>9271_01</td>\n",
       "      <td>False</td>\n",
       "    </tr>\n",
       "    <tr>\n",
       "      <th>4275</th>\n",
       "      <td>9273_01</td>\n",
       "      <td>False</td>\n",
       "    </tr>\n",
       "    <tr>\n",
       "      <th>4276</th>\n",
       "      <td>9277_01</td>\n",
       "      <td>False</td>\n",
       "    </tr>\n",
       "  </tbody>\n",
       "</table>\n",
       "<p>4277 rows × 2 columns</p>\n",
       "</div>"
      ],
      "text/plain": [
       "     PassengerId  Transported\n",
       "0        0013_01        False\n",
       "1        0018_01        False\n",
       "2        0019_01        False\n",
       "3        0021_01        False\n",
       "4        0023_01        False\n",
       "...          ...          ...\n",
       "4272     9266_02        False\n",
       "4273     9269_01        False\n",
       "4274     9271_01        False\n",
       "4275     9273_01        False\n",
       "4276     9277_01        False\n",
       "\n",
       "[4277 rows x 2 columns]"
      ]
     },
     "execution_count": 3,
     "metadata": {},
     "output_type": "execute_result"
    }
   ],
   "source": [
    "sample_submission = pd.read_csv('/kaggle/input/spaceship-titanic/sample_submission.csv')\n",
    "sample_submission"
   ]
  },
  {
   "cell_type": "code",
   "execution_count": 4,
   "id": "3bc6770b",
   "metadata": {
    "execution": {
     "iopub.execute_input": "2023-09-28T23:29:26.174687Z",
     "iopub.status.busy": "2023-09-28T23:29:26.173583Z",
     "iopub.status.idle": "2023-09-28T23:29:26.225723Z",
     "shell.execute_reply": "2023-09-28T23:29:26.224535Z"
    },
    "papermill": {
     "duration": 0.08692,
     "end_time": "2023-09-28T23:29:26.229396",
     "exception": false,
     "start_time": "2023-09-28T23:29:26.142476",
     "status": "completed"
    },
    "tags": []
   },
   "outputs": [
    {
     "name": "stdout",
     "output_type": "stream",
     "text": [
      "<class 'pandas.core.frame.DataFrame'>\n",
      "RangeIndex: 8693 entries, 0 to 8692\n",
      "Data columns (total 14 columns):\n",
      " #   Column        Non-Null Count  Dtype  \n",
      "---  ------        --------------  -----  \n",
      " 0   PassengerId   8693 non-null   object \n",
      " 1   HomePlanet    8492 non-null   object \n",
      " 2   CryoSleep     8476 non-null   object \n",
      " 3   Cabin         8494 non-null   object \n",
      " 4   Destination   8511 non-null   object \n",
      " 5   Age           8514 non-null   float64\n",
      " 6   VIP           8490 non-null   object \n",
      " 7   RoomService   8512 non-null   float64\n",
      " 8   FoodCourt     8510 non-null   float64\n",
      " 9   ShoppingMall  8485 non-null   float64\n",
      " 10  Spa           8510 non-null   float64\n",
      " 11  VRDeck        8505 non-null   float64\n",
      " 12  Name          8493 non-null   object \n",
      " 13  Transported   8693 non-null   bool   \n",
      "dtypes: bool(1), float64(6), object(7)\n",
      "memory usage: 891.5+ KB\n"
     ]
    }
   ],
   "source": [
    "train_data.info()"
   ]
  },
  {
   "cell_type": "markdown",
   "id": "ada2e8cb",
   "metadata": {
    "papermill": {
     "duration": 0.029109,
     "end_time": "2023-09-28T23:29:26.295271",
     "exception": false,
     "start_time": "2023-09-28T23:29:26.266162",
     "status": "completed"
    },
    "tags": []
   },
   "source": [
    "# Data Preparing"
   ]
  },
  {
   "cell_type": "code",
   "execution_count": 5,
   "id": "0fe89c4c",
   "metadata": {
    "execution": {
     "iopub.execute_input": "2023-09-28T23:29:26.351276Z",
     "iopub.status.busy": "2023-09-28T23:29:26.350372Z",
     "iopub.status.idle": "2023-09-28T23:29:26.361750Z",
     "shell.execute_reply": "2023-09-28T23:29:26.360688Z"
    },
    "papermill": {
     "duration": 0.040032,
     "end_time": "2023-09-28T23:29:26.364962",
     "exception": false,
     "start_time": "2023-09-28T23:29:26.324930",
     "status": "completed"
    },
    "tags": []
   },
   "outputs": [],
   "source": [
    "train_data.drop('PassengerId',axis=1,inplace=True)"
   ]
  },
  {
   "cell_type": "code",
   "execution_count": 6,
   "id": "87f82abc",
   "metadata": {
    "execution": {
     "iopub.execute_input": "2023-09-28T23:29:26.420171Z",
     "iopub.status.busy": "2023-09-28T23:29:26.418543Z",
     "iopub.status.idle": "2023-09-28T23:29:26.555159Z",
     "shell.execute_reply": "2023-09-28T23:29:26.553933Z"
    },
    "papermill": {
     "duration": 0.165409,
     "end_time": "2023-09-28T23:29:26.558941",
     "exception": false,
     "start_time": "2023-09-28T23:29:26.393532",
     "status": "completed"
    },
    "tags": []
   },
   "outputs": [],
   "source": [
    "arr = []\n",
    "for i in range(len(train_data)):\n",
    "    try:   \n",
    "        arr.append(train_data['Name'][i].split(' ')[1])\n",
    "    except:\n",
    "        arr.append(f'NoName_{i}')"
   ]
  },
  {
   "cell_type": "code",
   "execution_count": 7,
   "id": "0a5e398d",
   "metadata": {
    "execution": {
     "iopub.execute_input": "2023-09-28T23:29:26.623936Z",
     "iopub.status.busy": "2023-09-28T23:29:26.623368Z",
     "iopub.status.idle": "2023-09-28T23:29:26.632698Z",
     "shell.execute_reply": "2023-09-28T23:29:26.631503Z"
    },
    "papermill": {
     "duration": 0.041584,
     "end_time": "2023-09-28T23:29:26.635739",
     "exception": false,
     "start_time": "2023-09-28T23:29:26.594155",
     "status": "completed"
    },
    "tags": []
   },
   "outputs": [],
   "source": [
    "# train_data['SecondName'] = arr\n",
    "train_data.drop('Name',axis=1,inplace=True)"
   ]
  },
  {
   "cell_type": "code",
   "execution_count": 8,
   "id": "0fe42fcd",
   "metadata": {
    "execution": {
     "iopub.execute_input": "2023-09-28T23:29:26.688087Z",
     "iopub.status.busy": "2023-09-28T23:29:26.687048Z",
     "iopub.status.idle": "2023-09-28T23:29:26.745956Z",
     "shell.execute_reply": "2023-09-28T23:29:26.745035Z"
    },
    "papermill": {
     "duration": 0.087866,
     "end_time": "2023-09-28T23:29:26.748646",
     "exception": false,
     "start_time": "2023-09-28T23:29:26.660780",
     "status": "completed"
    },
    "tags": []
   },
   "outputs": [],
   "source": [
    "arr = []\n",
    "for i in range(len(test_data)):\n",
    "    try:   \n",
    "        arr.append(test_data['Name'][i].split(' ')[1])\n",
    "    except:\n",
    "        arr.append(f'NoName_{i}')"
   ]
  },
  {
   "cell_type": "code",
   "execution_count": 9,
   "id": "5fb9fda8",
   "metadata": {
    "execution": {
     "iopub.execute_input": "2023-09-28T23:29:26.798290Z",
     "iopub.status.busy": "2023-09-28T23:29:26.797259Z",
     "iopub.status.idle": "2023-09-28T23:29:26.805545Z",
     "shell.execute_reply": "2023-09-28T23:29:26.803984Z"
    },
    "papermill": {
     "duration": 0.036474,
     "end_time": "2023-09-28T23:29:26.808612",
     "exception": false,
     "start_time": "2023-09-28T23:29:26.772138",
     "status": "completed"
    },
    "tags": []
   },
   "outputs": [],
   "source": [
    "# test_data['SecondName'] = arr\n",
    "test_data.drop('Name',axis=1,inplace=True)"
   ]
  },
  {
   "cell_type": "code",
   "execution_count": 10,
   "id": "a905dac8",
   "metadata": {
    "execution": {
     "iopub.execute_input": "2023-09-28T23:29:26.860450Z",
     "iopub.status.busy": "2023-09-28T23:29:26.859665Z",
     "iopub.status.idle": "2023-09-28T23:29:26.897831Z",
     "shell.execute_reply": "2023-09-28T23:29:26.896300Z"
    },
    "papermill": {
     "duration": 0.067859,
     "end_time": "2023-09-28T23:29:26.901420",
     "exception": false,
     "start_time": "2023-09-28T23:29:26.833561",
     "status": "completed"
    },
    "tags": []
   },
   "outputs": [
    {
     "data": {
      "text/html": [
       "<div>\n",
       "<style scoped>\n",
       "    .dataframe tbody tr th:only-of-type {\n",
       "        vertical-align: middle;\n",
       "    }\n",
       "\n",
       "    .dataframe tbody tr th {\n",
       "        vertical-align: top;\n",
       "    }\n",
       "\n",
       "    .dataframe thead th {\n",
       "        text-align: right;\n",
       "    }\n",
       "</style>\n",
       "<table border=\"1\" class=\"dataframe\">\n",
       "  <thead>\n",
       "    <tr style=\"text-align: right;\">\n",
       "      <th></th>\n",
       "      <th>HomePlanet</th>\n",
       "      <th>CryoSleep</th>\n",
       "      <th>Cabin</th>\n",
       "      <th>Destination</th>\n",
       "      <th>Age</th>\n",
       "      <th>VIP</th>\n",
       "      <th>RoomService</th>\n",
       "      <th>FoodCourt</th>\n",
       "      <th>ShoppingMall</th>\n",
       "      <th>Spa</th>\n",
       "      <th>VRDeck</th>\n",
       "      <th>Transported</th>\n",
       "    </tr>\n",
       "  </thead>\n",
       "  <tbody>\n",
       "    <tr>\n",
       "      <th>0</th>\n",
       "      <td>Europa</td>\n",
       "      <td>False</td>\n",
       "      <td>B/0/P</td>\n",
       "      <td>TRAPPIST-1e</td>\n",
       "      <td>39.0</td>\n",
       "      <td>False</td>\n",
       "      <td>0.0</td>\n",
       "      <td>0.0</td>\n",
       "      <td>0.0</td>\n",
       "      <td>0.0</td>\n",
       "      <td>0.0</td>\n",
       "      <td>False</td>\n",
       "    </tr>\n",
       "    <tr>\n",
       "      <th>1</th>\n",
       "      <td>Earth</td>\n",
       "      <td>False</td>\n",
       "      <td>F/0/S</td>\n",
       "      <td>TRAPPIST-1e</td>\n",
       "      <td>24.0</td>\n",
       "      <td>False</td>\n",
       "      <td>109.0</td>\n",
       "      <td>9.0</td>\n",
       "      <td>25.0</td>\n",
       "      <td>549.0</td>\n",
       "      <td>44.0</td>\n",
       "      <td>True</td>\n",
       "    </tr>\n",
       "    <tr>\n",
       "      <th>2</th>\n",
       "      <td>Europa</td>\n",
       "      <td>False</td>\n",
       "      <td>A/0/S</td>\n",
       "      <td>TRAPPIST-1e</td>\n",
       "      <td>58.0</td>\n",
       "      <td>True</td>\n",
       "      <td>43.0</td>\n",
       "      <td>3576.0</td>\n",
       "      <td>0.0</td>\n",
       "      <td>6715.0</td>\n",
       "      <td>49.0</td>\n",
       "      <td>False</td>\n",
       "    </tr>\n",
       "    <tr>\n",
       "      <th>3</th>\n",
       "      <td>Europa</td>\n",
       "      <td>False</td>\n",
       "      <td>A/0/S</td>\n",
       "      <td>TRAPPIST-1e</td>\n",
       "      <td>33.0</td>\n",
       "      <td>False</td>\n",
       "      <td>0.0</td>\n",
       "      <td>1283.0</td>\n",
       "      <td>371.0</td>\n",
       "      <td>3329.0</td>\n",
       "      <td>193.0</td>\n",
       "      <td>False</td>\n",
       "    </tr>\n",
       "    <tr>\n",
       "      <th>4</th>\n",
       "      <td>Earth</td>\n",
       "      <td>False</td>\n",
       "      <td>F/1/S</td>\n",
       "      <td>TRAPPIST-1e</td>\n",
       "      <td>16.0</td>\n",
       "      <td>False</td>\n",
       "      <td>303.0</td>\n",
       "      <td>70.0</td>\n",
       "      <td>151.0</td>\n",
       "      <td>565.0</td>\n",
       "      <td>2.0</td>\n",
       "      <td>True</td>\n",
       "    </tr>\n",
       "    <tr>\n",
       "      <th>...</th>\n",
       "      <td>...</td>\n",
       "      <td>...</td>\n",
       "      <td>...</td>\n",
       "      <td>...</td>\n",
       "      <td>...</td>\n",
       "      <td>...</td>\n",
       "      <td>...</td>\n",
       "      <td>...</td>\n",
       "      <td>...</td>\n",
       "      <td>...</td>\n",
       "      <td>...</td>\n",
       "      <td>...</td>\n",
       "    </tr>\n",
       "    <tr>\n",
       "      <th>8688</th>\n",
       "      <td>Europa</td>\n",
       "      <td>False</td>\n",
       "      <td>A/98/P</td>\n",
       "      <td>55 Cancri e</td>\n",
       "      <td>41.0</td>\n",
       "      <td>True</td>\n",
       "      <td>0.0</td>\n",
       "      <td>6819.0</td>\n",
       "      <td>0.0</td>\n",
       "      <td>1643.0</td>\n",
       "      <td>74.0</td>\n",
       "      <td>False</td>\n",
       "    </tr>\n",
       "    <tr>\n",
       "      <th>8689</th>\n",
       "      <td>Earth</td>\n",
       "      <td>True</td>\n",
       "      <td>G/1499/S</td>\n",
       "      <td>PSO J318.5-22</td>\n",
       "      <td>18.0</td>\n",
       "      <td>False</td>\n",
       "      <td>0.0</td>\n",
       "      <td>0.0</td>\n",
       "      <td>0.0</td>\n",
       "      <td>0.0</td>\n",
       "      <td>0.0</td>\n",
       "      <td>False</td>\n",
       "    </tr>\n",
       "    <tr>\n",
       "      <th>8690</th>\n",
       "      <td>Earth</td>\n",
       "      <td>False</td>\n",
       "      <td>G/1500/S</td>\n",
       "      <td>TRAPPIST-1e</td>\n",
       "      <td>26.0</td>\n",
       "      <td>False</td>\n",
       "      <td>0.0</td>\n",
       "      <td>0.0</td>\n",
       "      <td>1872.0</td>\n",
       "      <td>1.0</td>\n",
       "      <td>0.0</td>\n",
       "      <td>True</td>\n",
       "    </tr>\n",
       "    <tr>\n",
       "      <th>8691</th>\n",
       "      <td>Europa</td>\n",
       "      <td>False</td>\n",
       "      <td>E/608/S</td>\n",
       "      <td>55 Cancri e</td>\n",
       "      <td>32.0</td>\n",
       "      <td>False</td>\n",
       "      <td>0.0</td>\n",
       "      <td>1049.0</td>\n",
       "      <td>0.0</td>\n",
       "      <td>353.0</td>\n",
       "      <td>3235.0</td>\n",
       "      <td>False</td>\n",
       "    </tr>\n",
       "    <tr>\n",
       "      <th>8692</th>\n",
       "      <td>Europa</td>\n",
       "      <td>False</td>\n",
       "      <td>E/608/S</td>\n",
       "      <td>TRAPPIST-1e</td>\n",
       "      <td>44.0</td>\n",
       "      <td>False</td>\n",
       "      <td>126.0</td>\n",
       "      <td>4688.0</td>\n",
       "      <td>0.0</td>\n",
       "      <td>0.0</td>\n",
       "      <td>12.0</td>\n",
       "      <td>True</td>\n",
       "    </tr>\n",
       "  </tbody>\n",
       "</table>\n",
       "<p>8693 rows × 12 columns</p>\n",
       "</div>"
      ],
      "text/plain": [
       "     HomePlanet CryoSleep     Cabin    Destination   Age    VIP  RoomService  \\\n",
       "0        Europa     False     B/0/P    TRAPPIST-1e  39.0  False          0.0   \n",
       "1         Earth     False     F/0/S    TRAPPIST-1e  24.0  False        109.0   \n",
       "2        Europa     False     A/0/S    TRAPPIST-1e  58.0   True         43.0   \n",
       "3        Europa     False     A/0/S    TRAPPIST-1e  33.0  False          0.0   \n",
       "4         Earth     False     F/1/S    TRAPPIST-1e  16.0  False        303.0   \n",
       "...         ...       ...       ...            ...   ...    ...          ...   \n",
       "8688     Europa     False    A/98/P    55 Cancri e  41.0   True          0.0   \n",
       "8689      Earth      True  G/1499/S  PSO J318.5-22  18.0  False          0.0   \n",
       "8690      Earth     False  G/1500/S    TRAPPIST-1e  26.0  False          0.0   \n",
       "8691     Europa     False   E/608/S    55 Cancri e  32.0  False          0.0   \n",
       "8692     Europa     False   E/608/S    TRAPPIST-1e  44.0  False        126.0   \n",
       "\n",
       "      FoodCourt  ShoppingMall     Spa  VRDeck  Transported  \n",
       "0           0.0           0.0     0.0     0.0        False  \n",
       "1           9.0          25.0   549.0    44.0         True  \n",
       "2        3576.0           0.0  6715.0    49.0        False  \n",
       "3        1283.0         371.0  3329.0   193.0        False  \n",
       "4          70.0         151.0   565.0     2.0         True  \n",
       "...         ...           ...     ...     ...          ...  \n",
       "8688     6819.0           0.0  1643.0    74.0        False  \n",
       "8689        0.0           0.0     0.0     0.0        False  \n",
       "8690        0.0        1872.0     1.0     0.0         True  \n",
       "8691     1049.0           0.0   353.0  3235.0        False  \n",
       "8692     4688.0           0.0     0.0    12.0         True  \n",
       "\n",
       "[8693 rows x 12 columns]"
      ]
     },
     "execution_count": 10,
     "metadata": {},
     "output_type": "execute_result"
    }
   ],
   "source": [
    "train_data"
   ]
  },
  {
   "cell_type": "code",
   "execution_count": 11,
   "id": "a7fa53e8",
   "metadata": {
    "execution": {
     "iopub.execute_input": "2023-09-28T23:29:26.955474Z",
     "iopub.status.busy": "2023-09-28T23:29:26.954475Z",
     "iopub.status.idle": "2023-09-28T23:29:26.961142Z",
     "shell.execute_reply": "2023-09-28T23:29:26.959707Z"
    },
    "papermill": {
     "duration": 0.034624,
     "end_time": "2023-09-28T23:29:26.963849",
     "exception": false,
     "start_time": "2023-09-28T23:29:26.929225",
     "status": "completed"
    },
    "tags": []
   },
   "outputs": [],
   "source": [
    "train_acc = []"
   ]
  },
  {
   "cell_type": "code",
   "execution_count": 12,
   "id": "d6d83d33",
   "metadata": {
    "execution": {
     "iopub.execute_input": "2023-09-28T23:29:27.017041Z",
     "iopub.status.busy": "2023-09-28T23:29:27.016538Z",
     "iopub.status.idle": "2023-09-28T23:29:27.030327Z",
     "shell.execute_reply": "2023-09-28T23:29:27.029028Z"
    },
    "papermill": {
     "duration": 0.045256,
     "end_time": "2023-09-28T23:29:27.033029",
     "exception": false,
     "start_time": "2023-09-28T23:29:26.987773",
     "status": "completed"
    },
    "tags": []
   },
   "outputs": [
    {
     "name": "stdout",
     "output_type": "stream",
     "text": [
      "4315\n",
      "4378\n"
     ]
    }
   ],
   "source": [
    "print(len(train_data[train_data.Transported == False]))\n",
    "print(len(train_data[train_data.Transported == True]))"
   ]
  },
  {
   "cell_type": "code",
   "execution_count": 13,
   "id": "8af8fedd",
   "metadata": {
    "execution": {
     "iopub.execute_input": "2023-09-28T23:29:27.083581Z",
     "iopub.status.busy": "2023-09-28T23:29:27.082846Z",
     "iopub.status.idle": "2023-09-28T23:29:27.088080Z",
     "shell.execute_reply": "2023-09-28T23:29:27.087178Z"
    },
    "papermill": {
     "duration": 0.033282,
     "end_time": "2023-09-28T23:29:27.090589",
     "exception": false,
     "start_time": "2023-09-28T23:29:27.057307",
     "status": "completed"
    },
    "tags": []
   },
   "outputs": [],
   "source": [
    "val = 0.2"
   ]
  },
  {
   "cell_type": "code",
   "execution_count": 14,
   "id": "5d68955b",
   "metadata": {
    "execution": {
     "iopub.execute_input": "2023-09-28T23:29:27.140862Z",
     "iopub.status.busy": "2023-09-28T23:29:27.140396Z",
     "iopub.status.idle": "2023-09-28T23:29:27.237302Z",
     "shell.execute_reply": "2023-09-28T23:29:27.235824Z"
    },
    "papermill": {
     "duration": 0.125761,
     "end_time": "2023-09-28T23:29:27.240541",
     "exception": false,
     "start_time": "2023-09-28T23:29:27.114780",
     "status": "completed"
    },
    "tags": []
   },
   "outputs": [],
   "source": [
    "i = 0\n",
    "while True:\n",
    "    X, y = train_data.drop('Transported', axis=1), train_data['Transported']\n",
    "    X_train, X_valid, y_train, y_valid = train_test_split(X, y, test_size=val, random_state=i)\n",
    "    unique_elements, counts = np.unique(np.array(y_train), return_counts=True)\n",
    "\n",
    "    element_counts = dict(zip(unique_elements, counts))\n",
    "        \n",
    "    if abs(element_counts[False] - element_counts[True]) < 5:\n",
    "        break\n",
    "        \n",
    "    i+=1\n",
    "    if i==10000:\n",
    "        break"
   ]
  },
  {
   "cell_type": "code",
   "execution_count": 15,
   "id": "5e737b84",
   "metadata": {
    "execution": {
     "iopub.execute_input": "2023-09-28T23:29:27.291647Z",
     "iopub.status.busy": "2023-09-28T23:29:27.290952Z",
     "iopub.status.idle": "2023-09-28T23:29:27.296699Z",
     "shell.execute_reply": "2023-09-28T23:29:27.295556Z"
    },
    "papermill": {
     "duration": 0.034509,
     "end_time": "2023-09-28T23:29:27.299842",
     "exception": false,
     "start_time": "2023-09-28T23:29:27.265333",
     "status": "completed"
    },
    "tags": []
   },
   "outputs": [],
   "source": [
    "X_train_copy, y_train_copy = X_train.copy(), y_train.copy()"
   ]
  },
  {
   "cell_type": "code",
   "execution_count": 16,
   "id": "0d12cb6d",
   "metadata": {
    "execution": {
     "iopub.execute_input": "2023-09-28T23:29:27.353374Z",
     "iopub.status.busy": "2023-09-28T23:29:27.352883Z",
     "iopub.status.idle": "2023-09-28T23:29:27.360427Z",
     "shell.execute_reply": "2023-09-28T23:29:27.359228Z"
    },
    "papermill": {
     "duration": 0.040661,
     "end_time": "2023-09-28T23:29:27.364195",
     "exception": false,
     "start_time": "2023-09-28T23:29:27.323534",
     "status": "completed"
    },
    "tags": []
   },
   "outputs": [
    {
     "name": "stdout",
     "output_type": "stream",
     "text": [
      "Unique elements and count:\n",
      "False: 3476\n",
      "True: 3478\n",
      "seed 20\n"
     ]
    }
   ],
   "source": [
    "print(\"Unique elements and count:\")\n",
    "for element, count in element_counts.items():\n",
    "    print(f\"{element}: {count}\")\n",
    "seed = i\n",
    "print('seed', seed)"
   ]
  },
  {
   "cell_type": "code",
   "execution_count": 17,
   "id": "ab003fd0",
   "metadata": {
    "execution": {
     "iopub.execute_input": "2023-09-28T23:29:27.414084Z",
     "iopub.status.busy": "2023-09-28T23:29:27.413665Z",
     "iopub.status.idle": "2023-09-28T23:29:27.421004Z",
     "shell.execute_reply": "2023-09-28T23:29:27.419575Z"
    },
    "papermill": {
     "duration": 0.035079,
     "end_time": "2023-09-28T23:29:27.423325",
     "exception": false,
     "start_time": "2023-09-28T23:29:27.388246",
     "status": "completed"
    },
    "tags": []
   },
   "outputs": [],
   "source": [
    "thr = 0.8\n",
    "final_valid_test = y_valid[int(len(y_valid)*thr):]\n",
    "final_valid_features = X_valid[int(len(X_valid)*thr):]\n",
    "y_valid = y_valid[:int(len(y_valid)*thr)]\n",
    "X_valid = X_valid[:int(len(X_valid)*thr)]"
   ]
  },
  {
   "cell_type": "code",
   "execution_count": 18,
   "id": "3da9ef94",
   "metadata": {
    "execution": {
     "iopub.execute_input": "2023-09-28T23:29:27.473352Z",
     "iopub.status.busy": "2023-09-28T23:29:27.472021Z",
     "iopub.status.idle": "2023-09-28T23:29:27.480002Z",
     "shell.execute_reply": "2023-09-28T23:29:27.478543Z"
    },
    "papermill": {
     "duration": 0.03557,
     "end_time": "2023-09-28T23:29:27.482466",
     "exception": false,
     "start_time": "2023-09-28T23:29:27.446896",
     "status": "completed"
    },
    "tags": []
   },
   "outputs": [
    {
     "name": "stdout",
     "output_type": "stream",
     "text": [
      "6954\n",
      "1391\n",
      "348\n",
      "1739\n"
     ]
    }
   ],
   "source": [
    "print(len(X_train))\n",
    "print(len(X_valid))\n",
    "print(len(final_valid_test))\n",
    "print(len(X_valid)+len(final_valid_test))"
   ]
  },
  {
   "cell_type": "code",
   "execution_count": 19,
   "id": "ff36bc85",
   "metadata": {
    "execution": {
     "iopub.execute_input": "2023-09-28T23:29:27.535092Z",
     "iopub.status.busy": "2023-09-28T23:29:27.534562Z",
     "iopub.status.idle": "2023-09-28T23:29:27.544663Z",
     "shell.execute_reply": "2023-09-28T23:29:27.543483Z"
    },
    "papermill": {
     "duration": 0.038969,
     "end_time": "2023-09-28T23:29:27.547337",
     "exception": false,
     "start_time": "2023-09-28T23:29:27.508368",
     "status": "completed"
    },
    "tags": []
   },
   "outputs": [
    {
     "data": {
      "text/plain": [
       "['HomePlanet', 'CryoSleep', 'Cabin', 'Destination', 'VIP']"
      ]
     },
     "execution_count": 19,
     "metadata": {},
     "output_type": "execute_result"
    }
   ],
   "source": [
    "object_columns = list(X.select_dtypes(include=['object']).columns)\n",
    "object_columns"
   ]
  },
  {
   "cell_type": "markdown",
   "id": "1c226ba2",
   "metadata": {
    "papermill": {
     "duration": 0.025634,
     "end_time": "2023-09-28T23:29:27.598883",
     "exception": false,
     "start_time": "2023-09-28T23:29:27.573249",
     "status": "completed"
    },
    "tags": []
   },
   "source": [
    "# Model 1. XGBOOST"
   ]
  },
  {
   "cell_type": "code",
   "execution_count": 20,
   "id": "e0967e37",
   "metadata": {
    "execution": {
     "iopub.execute_input": "2023-09-28T23:29:27.651478Z",
     "iopub.status.busy": "2023-09-28T23:29:27.650994Z",
     "iopub.status.idle": "2023-09-28T23:30:48.247692Z",
     "shell.execute_reply": "2023-09-28T23:30:48.246763Z"
    },
    "papermill": {
     "duration": 80.651711,
     "end_time": "2023-09-28T23:30:48.275410",
     "exception": false,
     "start_time": "2023-09-28T23:29:27.623699",
     "status": "completed"
    },
    "tags": []
   },
   "outputs": [
    {
     "name": "stdout",
     "output_type": "stream",
     "text": [
      "Metrics for the training set:\n",
      "Accuracy: 0.9272361230946218\n",
      "F1 Score: 0.9295460874408243\n",
      "Confusion Matrix:\n",
      "[[3110  366]\n",
      " [ 140 3338]]\n",
      "Recall: 0.9597469810235768\n",
      "Precision: 0.9011879049676026\n",
      "\n",
      "Metrics for the validation set:\n",
      "Accuracy: 0.7778576563623293\n",
      "F1 Score: 0.7861591695501732\n",
      "Confusion Matrix:\n",
      "[[514 140]\n",
      " [169 568]]\n",
      "Recall: 0.7706919945725916\n",
      "Precision: 0.8022598870056498\n"
     ]
    }
   ],
   "source": [
    "import xgboost as xgb\n",
    "from sklearn.model_selection import train_test_split\n",
    "from sklearn.metrics import accuracy_score, f1_score, confusion_matrix, recall_score, precision_score\n",
    "\n",
    "best_params = {\n",
    "    'n_estimators': 5000,\n",
    "    'max_depth': 10,\n",
    "    'learning_rate': 0.01,\n",
    "    'subsample': 0.2,\n",
    "}\n",
    "\n",
    "model_1 = xgb.XGBClassifier(**best_params, eval_metric='auc', tree_method=\"hist\", objective='binary:logistic', enable_categorical=True)\n",
    "\n",
    "for feature in object_columns:  \n",
    "    X_train[feature] = X_train[feature].astype(\"category\")\n",
    "    X_valid[feature] = X_valid[feature].astype(\"category\")\n",
    "\n",
    "model_1.fit(X_train, y_train)\n",
    "\n",
    "y_train_pred = model_1.predict(X_train)\n",
    "\n",
    "y_valid_pred = model_1.predict(X_valid)\n",
    "\n",
    "print(\"Metrics for the training set:\")\n",
    "print(f\"Accuracy: {accuracy_score(y_train, y_train_pred)}\")\n",
    "print(f\"F1 Score: {f1_score(y_train, y_train_pred)}\")\n",
    "print(f\"Confusion Matrix:\\n{confusion_matrix(y_train, y_train_pred)}\")\n",
    "print(f\"Recall: {recall_score(y_train, y_train_pred)}\")\n",
    "print(f\"Precision: {precision_score(y_train, y_train_pred)}\")\n",
    "\n",
    "print(\"\\nMetrics for the validation set:\")\n",
    "print(f\"Accuracy: {accuracy_score(y_valid, y_valid_pred)}\")\n",
    "print(f\"F1 Score: {f1_score(y_valid, y_valid_pred)}\")\n",
    "print(f\"Confusion Matrix:\\n{confusion_matrix(y_valid, y_valid_pred)}\")\n",
    "print(f\"Recall: {recall_score(y_valid, y_valid_pred)}\")\n",
    "print(f\"Precision: {precision_score(y_valid, y_valid_pred)}\")\n",
    "\n",
    "train_acc.append(accuracy_score(y_train, y_train_pred))"
   ]
  },
  {
   "cell_type": "code",
   "execution_count": 21,
   "id": "a0d4ed06",
   "metadata": {
    "execution": {
     "iopub.execute_input": "2023-09-28T23:30:48.329579Z",
     "iopub.status.busy": "2023-09-28T23:30:48.328723Z",
     "iopub.status.idle": "2023-09-28T23:30:49.034683Z",
     "shell.execute_reply": "2023-09-28T23:30:49.033589Z"
    },
    "papermill": {
     "duration": 0.735567,
     "end_time": "2023-09-28T23:30:49.038096",
     "exception": false,
     "start_time": "2023-09-28T23:30:48.302529",
     "status": "completed"
    },
    "tags": []
   },
   "outputs": [],
   "source": [
    "for feature in object_columns:  \n",
    "    test_data[feature] = test_data[feature].astype(\"category\")\n",
    "    \n",
    "test_predict = model_1.predict(test_data.drop('PassengerId',axis=1))"
   ]
  },
  {
   "cell_type": "code",
   "execution_count": 22,
   "id": "219ba844",
   "metadata": {
    "execution": {
     "iopub.execute_input": "2023-09-28T23:30:49.091498Z",
     "iopub.status.busy": "2023-09-28T23:30:49.091020Z",
     "iopub.status.idle": "2023-09-28T23:30:49.097585Z",
     "shell.execute_reply": "2023-09-28T23:30:49.096314Z"
    },
    "papermill": {
     "duration": 0.034765,
     "end_time": "2023-09-28T23:30:49.100158",
     "exception": false,
     "start_time": "2023-09-28T23:30:49.065393",
     "status": "completed"
    },
    "tags": []
   },
   "outputs": [],
   "source": [
    "output_1 = pd.DataFrame({'PassengerId':test_data.PassengerId,\n",
    "                       'Transported':test_predict})\n",
    "# output_1['Transported'] = output_1['Transported'].replace({1: True, 0: False})"
   ]
  },
  {
   "cell_type": "markdown",
   "id": "f7339295",
   "metadata": {
    "papermill": {
     "duration": 0.024662,
     "end_time": "2023-09-28T23:30:49.148969",
     "exception": false,
     "start_time": "2023-09-28T23:30:49.124307",
     "status": "completed"
    },
    "tags": []
   },
   "source": [
    "# Light GMB"
   ]
  },
  {
   "cell_type": "code",
   "execution_count": 23,
   "id": "2801ae79",
   "metadata": {
    "execution": {
     "iopub.execute_input": "2023-09-28T23:30:49.200698Z",
     "iopub.status.busy": "2023-09-28T23:30:49.199892Z",
     "iopub.status.idle": "2023-09-28T23:31:30.889784Z",
     "shell.execute_reply": "2023-09-28T23:31:30.888037Z"
    },
    "papermill": {
     "duration": 41.743491,
     "end_time": "2023-09-28T23:31:30.916495",
     "exception": false,
     "start_time": "2023-09-28T23:30:49.173004",
     "status": "completed"
    },
    "tags": []
   },
   "outputs": [
    {
     "name": "stderr",
     "output_type": "stream",
     "text": [
      "/opt/conda/lib/python3.10/site-packages/lightgbm/engine.py:177: UserWarning: Found `n_estimators` in params. Will use it instead of argument\n",
      "  _log_warning(f\"Found `{alias}` in params. Will use it instead of argument\")\n",
      "/opt/conda/lib/python3.10/site-packages/lightgbm/basic.py:2065: UserWarning: Using categorical_feature in Dataset.\n",
      "  _log_warning('Using categorical_feature in Dataset.')\n"
     ]
    },
    {
     "name": "stdout",
     "output_type": "stream",
     "text": [
      "[LightGBM] [Info] Number of positive: 3478, number of negative: 3476\n",
      "[LightGBM] [Warning] Auto-choosing row-wise multi-threading, the overhead of testing was 0.005011 seconds.\n",
      "You can set `force_row_wise=true` to remove the overhead.\n",
      "And if memory is not enough, you can set `force_col_wise=true`.\n",
      "[LightGBM] [Info] Total Bins 1662\n",
      "[LightGBM] [Info] Number of data points in the train set: 6954, number of used features: 11\n",
      "[LightGBM] [Info] [binary:BoostFromScore]: pavg=0.500144 -> initscore=0.000575\n",
      "[LightGBM] [Info] Start training from score 0.000575\n",
      "Metrics for the training set:\n",
      "Accuracy: 0.8140638481449526\n",
      "F1 Score: 0.8194890409046489\n",
      "Confusion Matrix:\n",
      "[[2726  750]\n",
      " [ 543 2935]]\n",
      "Recall: 0.8438757906843013\n",
      "Precision: 0.7964721845318861\n",
      "\n",
      "Metrics for the validation set:\n",
      "Accuracy: 0.8044572250179727\n",
      "F1 Score: 0.820580474934037\n",
      "Confusion Matrix:\n",
      "[[497 157]\n",
      " [115 622]]\n",
      "Recall: 0.8439620081411127\n",
      "Precision: 0.7984595635430038\n"
     ]
    }
   ],
   "source": [
    "import lightgbm as lgb\n",
    "import numpy as np\n",
    "from sklearn.metrics import accuracy_score, f1_score, confusion_matrix, recall_score, precision_score\n",
    "from sklearn.model_selection import train_test_split\n",
    "\n",
    "best_params = {\n",
    "    'boosting_type': 'dart',\n",
    "    'objective': 'binary',\n",
    "    'metric': 'accuracy',\n",
    "    'n_estimators': 2000,\n",
    "    'max_depth': 10,\n",
    "    'learning_rate': 0.01,\n",
    "    'subsample': 0.2,\n",
    "    'num_leaves': 10  # Set the number of leaves\n",
    "\n",
    "}\n",
    "\n",
    "d_train = lgb.Dataset(X_train, label=y_train, categorical_feature=object_columns)\n",
    "\n",
    "model_lgb = lgb.train(best_params, d_train)\n",
    "\n",
    "y_train_pred = np.round(model_lgb.predict(X_train))\n",
    "y_valid_pred = np.round(model_lgb.predict(X_valid))\n",
    "\n",
    "print(\"Metrics for the training set:\")\n",
    "print(f\"Accuracy: {accuracy_score(y_train, y_train_pred)}\")\n",
    "print(f\"F1 Score: {f1_score(y_train, y_train_pred)}\")\n",
    "print(f\"Confusion Matrix:\\n{confusion_matrix(y_train, y_train_pred)}\")\n",
    "print(f\"Recall: {recall_score(y_train, y_train_pred)}\")\n",
    "print(f\"Precision: {precision_score(y_train, y_train_pred)}\")\n",
    "\n",
    "print(\"\\nMetrics for the validation set:\")\n",
    "print(f\"Accuracy: {accuracy_score(y_valid, y_valid_pred)}\")\n",
    "print(f\"F1 Score: {f1_score(y_valid, y_valid_pred)}\")\n",
    "print(f\"Confusion Matrix:\\n{confusion_matrix(y_valid, y_valid_pred)}\")\n",
    "print(f\"Recall: {recall_score(y_valid, y_valid_pred)}\")\n",
    "print(f\"Precision: {precision_score(y_valid, y_valid_pred)}\")\n"
   ]
  },
  {
   "cell_type": "code",
   "execution_count": 24,
   "id": "692168dc",
   "metadata": {
    "execution": {
     "iopub.execute_input": "2023-09-28T23:31:30.969591Z",
     "iopub.status.busy": "2023-09-28T23:31:30.969145Z",
     "iopub.status.idle": "2023-09-28T23:31:31.185818Z",
     "shell.execute_reply": "2023-09-28T23:31:31.184458Z"
    },
    "papermill": {
     "duration": 0.248204,
     "end_time": "2023-09-28T23:31:31.189151",
     "exception": false,
     "start_time": "2023-09-28T23:31:30.940947",
     "status": "completed"
    },
    "tags": []
   },
   "outputs": [],
   "source": [
    "for feature in object_columns:  \n",
    "    test_data[feature] = test_data[feature].astype(\"category\")\n",
    "    \n",
    "test_predict = np.round(model_lgb.predict(test_data.drop('PassengerId', axis=1)))"
   ]
  },
  {
   "cell_type": "code",
   "execution_count": 25,
   "id": "9c07538a",
   "metadata": {
    "execution": {
     "iopub.execute_input": "2023-09-28T23:31:31.243617Z",
     "iopub.status.busy": "2023-09-28T23:31:31.243153Z",
     "iopub.status.idle": "2023-09-28T23:31:31.250024Z",
     "shell.execute_reply": "2023-09-28T23:31:31.248452Z"
    },
    "papermill": {
     "duration": 0.039303,
     "end_time": "2023-09-28T23:31:31.252832",
     "exception": false,
     "start_time": "2023-09-28T23:31:31.213529",
     "status": "completed"
    },
    "tags": []
   },
   "outputs": [],
   "source": [
    "output_lgb = pd.DataFrame({'PassengerId':test_data.PassengerId,\n",
    "                       'Transported':test_predict})"
   ]
  },
  {
   "cell_type": "markdown",
   "id": "eed2c7e9",
   "metadata": {
    "papermill": {
     "duration": 0.025803,
     "end_time": "2023-09-28T23:31:31.304646",
     "exception": false,
     "start_time": "2023-09-28T23:31:31.278843",
     "status": "completed"
    },
    "tags": []
   },
   "source": [
    "# Model 2. Random Forest"
   ]
  },
  {
   "cell_type": "code",
   "execution_count": 26,
   "id": "045d69c6",
   "metadata": {
    "execution": {
     "iopub.execute_input": "2023-09-28T23:31:31.356976Z",
     "iopub.status.busy": "2023-09-28T23:31:31.356191Z",
     "iopub.status.idle": "2023-09-28T23:31:31.392128Z",
     "shell.execute_reply": "2023-09-28T23:31:31.391134Z"
    },
    "papermill": {
     "duration": 0.065828,
     "end_time": "2023-09-28T23:31:31.394986",
     "exception": false,
     "start_time": "2023-09-28T23:31:31.329158",
     "status": "completed"
    },
    "tags": []
   },
   "outputs": [],
   "source": [
    "from sklearn.preprocessing import LabelEncoder\n",
    "label_encoders = {}\n",
    "for column in X_train.select_dtypes(include=['category']).columns:\n",
    "    label_encoders[column] = LabelEncoder()\n",
    "    X_train[column] = label_encoders[column].fit_transform(X_train[column])"
   ]
  },
  {
   "cell_type": "code",
   "execution_count": 27,
   "id": "fb859427",
   "metadata": {
    "execution": {
     "iopub.execute_input": "2023-09-28T23:31:31.448680Z",
     "iopub.status.busy": "2023-09-28T23:31:31.447963Z",
     "iopub.status.idle": "2023-09-28T23:31:31.462965Z",
     "shell.execute_reply": "2023-09-28T23:31:31.461962Z"
    },
    "papermill": {
     "duration": 0.045105,
     "end_time": "2023-09-28T23:31:31.465912",
     "exception": false,
     "start_time": "2023-09-28T23:31:31.420807",
     "status": "completed"
    },
    "tags": []
   },
   "outputs": [],
   "source": [
    "from sklearn.preprocessing import LabelEncoder\n",
    "label_encoders = {}\n",
    "for column in X_valid.select_dtypes(include=['category']).columns:\n",
    "    label_encoders[column] = LabelEncoder()\n",
    "    X_valid[column] = label_encoders[column].fit_transform(X_valid[column])"
   ]
  },
  {
   "cell_type": "code",
   "execution_count": 28,
   "id": "b7199668",
   "metadata": {
    "execution": {
     "iopub.execute_input": "2023-09-28T23:31:31.518355Z",
     "iopub.status.busy": "2023-09-28T23:31:31.517664Z",
     "iopub.status.idle": "2023-09-28T23:31:31.547578Z",
     "shell.execute_reply": "2023-09-28T23:31:31.545164Z"
    },
    "papermill": {
     "duration": 0.060612,
     "end_time": "2023-09-28T23:31:31.551408",
     "exception": false,
     "start_time": "2023-09-28T23:31:31.490796",
     "status": "completed"
    },
    "tags": []
   },
   "outputs": [],
   "source": [
    "from sklearn.preprocessing import LabelEncoder\n",
    "label_encoders = {}\n",
    "for column in test_data.select_dtypes(include=['category']).columns:\n",
    "    label_encoders[column] = LabelEncoder()\n",
    "    test_data[column] = label_encoders[column].fit_transform(test_data[column])"
   ]
  },
  {
   "cell_type": "code",
   "execution_count": 29,
   "id": "7528b3ae",
   "metadata": {
    "execution": {
     "iopub.execute_input": "2023-09-28T23:31:31.616192Z",
     "iopub.status.busy": "2023-09-28T23:31:31.615129Z",
     "iopub.status.idle": "2023-09-28T23:31:31.626666Z",
     "shell.execute_reply": "2023-09-28T23:31:31.624722Z"
    },
    "papermill": {
     "duration": 0.047836,
     "end_time": "2023-09-28T23:31:31.630703",
     "exception": false,
     "start_time": "2023-09-28T23:31:31.582867",
     "status": "completed"
    },
    "tags": []
   },
   "outputs": [],
   "source": [
    "X_train = X_train.fillna(0)\n",
    "X_valid = X_valid.fillna(0)\n",
    "test_data = test_data.fillna(0)"
   ]
  },
  {
   "cell_type": "code",
   "execution_count": 30,
   "id": "991d17e5",
   "metadata": {
    "execution": {
     "iopub.execute_input": "2023-09-28T23:31:31.692294Z",
     "iopub.status.busy": "2023-09-28T23:31:31.689836Z",
     "iopub.status.idle": "2023-09-28T23:32:27.954904Z",
     "shell.execute_reply": "2023-09-28T23:32:27.953783Z"
    },
    "papermill": {
     "duration": 56.325171,
     "end_time": "2023-09-28T23:32:27.985145",
     "exception": false,
     "start_time": "2023-09-28T23:31:31.659974",
     "status": "completed"
    },
    "tags": []
   },
   "outputs": [
    {
     "name": "stdout",
     "output_type": "stream",
     "text": [
      "Metrics for the training set:\n",
      "Accuracy: 0.858642507909117\n",
      "F1 Score: 0.8619188088214637\n",
      "Confusion Matrix:\n",
      "[[2903  573]\n",
      " [ 410 3068]]\n",
      "Recall: 0.8821161587119034\n",
      "Precision: 0.842625652293326\n",
      "\n",
      "Metrics for the validation set:\n",
      "Accuracy: 0.7979870596693026\n",
      "F1 Score: 0.8209050350541747\n",
      "Confusion Matrix:\n",
      "[[466 188]\n",
      " [ 93 644]]\n",
      "Recall: 0.8738127544097694\n",
      "Precision: 0.7740384615384616\n"
     ]
    }
   ],
   "source": [
    "from sklearn.ensemble import RandomForestClassifier\n",
    "from sklearn.metrics import accuracy_score, f1_score, confusion_matrix, recall_score, precision_score\n",
    "\n",
    "best_params = {\n",
    "    'n_estimators': 5000,\n",
    "    'max_depth': 10,\n",
    "    'min_samples_split': 2,\n",
    "    'min_samples_leaf': 1,\n",
    "    'bootstrap': True,\n",
    "    'random_state': 42,  \n",
    "}\n",
    "\n",
    "model_2 = RandomForestClassifier(**best_params)\n",
    "\n",
    "for feature in object_columns:  \n",
    "    X_train[feature] = X_train[feature].astype(\"category\")\n",
    "    X_valid[feature] = X_valid[feature].astype(\"category\")\n",
    "\n",
    "model_2.fit(X_train, y_train)\n",
    "\n",
    "y_train_pred = model_2.predict(X_train)\n",
    "\n",
    "y_valid_pred = model_2.predict(X_valid)\n",
    "\n",
    "print(\"Metrics for the training set:\")\n",
    "print(f\"Accuracy: {accuracy_score(y_train, y_train_pred)}\")\n",
    "print(f\"F1 Score: {f1_score(y_train, y_train_pred)}\")\n",
    "print(f\"Confusion Matrix:\\n{confusion_matrix(y_train, y_train_pred)}\")\n",
    "print(f\"Recall: {recall_score(y_train, y_train_pred)}\")\n",
    "print(f\"Precision: {precision_score(y_train, y_train_pred)}\")\n",
    "\n",
    "print(\"\\nMetrics for the validation set:\")\n",
    "print(f\"Accuracy: {accuracy_score(y_valid, y_valid_pred)}\")\n",
    "print(f\"F1 Score: {f1_score(y_valid, y_valid_pred)}\")\n",
    "print(f\"Confusion Matrix:\\n{confusion_matrix(y_valid, y_valid_pred)}\")\n",
    "print(f\"Recall: {recall_score(y_valid, y_valid_pred)}\")\n",
    "print(f\"Precision: {precision_score(y_valid, y_valid_pred)}\")\n",
    "\n",
    "train_acc.append(accuracy_score(y_train, y_train_pred))"
   ]
  },
  {
   "cell_type": "code",
   "execution_count": 31,
   "id": "a4a4294f",
   "metadata": {
    "execution": {
     "iopub.execute_input": "2023-09-28T23:32:28.039046Z",
     "iopub.status.busy": "2023-09-28T23:32:28.038107Z",
     "iopub.status.idle": "2023-09-28T23:32:31.166082Z",
     "shell.execute_reply": "2023-09-28T23:32:31.164729Z"
    },
    "papermill": {
     "duration": 3.158599,
     "end_time": "2023-09-28T23:32:31.168960",
     "exception": false,
     "start_time": "2023-09-28T23:32:28.010361",
     "status": "completed"
    },
    "tags": []
   },
   "outputs": [],
   "source": [
    "test_predict = model_2.predict(test_data.drop('PassengerId',axis=1))"
   ]
  },
  {
   "cell_type": "code",
   "execution_count": 32,
   "id": "fef8ccb6",
   "metadata": {
    "execution": {
     "iopub.execute_input": "2023-09-28T23:32:31.219998Z",
     "iopub.status.busy": "2023-09-28T23:32:31.219145Z",
     "iopub.status.idle": "2023-09-28T23:32:31.230393Z",
     "shell.execute_reply": "2023-09-28T23:32:31.229158Z"
    },
    "papermill": {
     "duration": 0.039818,
     "end_time": "2023-09-28T23:32:31.233024",
     "exception": false,
     "start_time": "2023-09-28T23:32:31.193206",
     "status": "completed"
    },
    "tags": []
   },
   "outputs": [],
   "source": [
    "output_2 = pd.DataFrame({'PassengerId':test_data.PassengerId,\n",
    "                       'Transported':test_predict})\n",
    "output_2['Transported'] = output_2['Transported'].replace({True: 1, False: 0})"
   ]
  },
  {
   "cell_type": "code",
   "execution_count": 33,
   "id": "920f05f4",
   "metadata": {
    "execution": {
     "iopub.execute_input": "2023-09-28T23:32:31.286414Z",
     "iopub.status.busy": "2023-09-28T23:32:31.285652Z",
     "iopub.status.idle": "2023-09-28T23:32:31.289928Z",
     "shell.execute_reply": "2023-09-28T23:32:31.289015Z"
    },
    "papermill": {
     "duration": 0.034074,
     "end_time": "2023-09-28T23:32:31.292351",
     "exception": false,
     "start_time": "2023-09-28T23:32:31.258277",
     "status": "completed"
    },
    "tags": []
   },
   "outputs": [],
   "source": [
    "# output_2.to_csv('submission.csv',index=False)"
   ]
  },
  {
   "cell_type": "code",
   "execution_count": 34,
   "id": "0bbe951b",
   "metadata": {
    "execution": {
     "iopub.execute_input": "2023-09-28T23:32:31.343829Z",
     "iopub.status.busy": "2023-09-28T23:32:31.343056Z",
     "iopub.status.idle": "2023-09-28T23:32:31.356469Z",
     "shell.execute_reply": "2023-09-28T23:32:31.355511Z"
    },
    "papermill": {
     "duration": 0.041783,
     "end_time": "2023-09-28T23:32:31.358899",
     "exception": false,
     "start_time": "2023-09-28T23:32:31.317116",
     "status": "completed"
    },
    "tags": []
   },
   "outputs": [
    {
     "data": {
      "text/html": [
       "<div>\n",
       "<style scoped>\n",
       "    .dataframe tbody tr th:only-of-type {\n",
       "        vertical-align: middle;\n",
       "    }\n",
       "\n",
       "    .dataframe tbody tr th {\n",
       "        vertical-align: top;\n",
       "    }\n",
       "\n",
       "    .dataframe thead th {\n",
       "        text-align: right;\n",
       "    }\n",
       "</style>\n",
       "<table border=\"1\" class=\"dataframe\">\n",
       "  <thead>\n",
       "    <tr style=\"text-align: right;\">\n",
       "      <th></th>\n",
       "      <th>PassengerId</th>\n",
       "      <th>Transported</th>\n",
       "    </tr>\n",
       "  </thead>\n",
       "  <tbody>\n",
       "    <tr>\n",
       "      <th>0</th>\n",
       "      <td>0013_01</td>\n",
       "      <td>1</td>\n",
       "    </tr>\n",
       "    <tr>\n",
       "      <th>1</th>\n",
       "      <td>0018_01</td>\n",
       "      <td>0</td>\n",
       "    </tr>\n",
       "    <tr>\n",
       "      <th>2</th>\n",
       "      <td>0019_01</td>\n",
       "      <td>1</td>\n",
       "    </tr>\n",
       "    <tr>\n",
       "      <th>3</th>\n",
       "      <td>0021_01</td>\n",
       "      <td>1</td>\n",
       "    </tr>\n",
       "    <tr>\n",
       "      <th>4</th>\n",
       "      <td>0023_01</td>\n",
       "      <td>0</td>\n",
       "    </tr>\n",
       "    <tr>\n",
       "      <th>...</th>\n",
       "      <td>...</td>\n",
       "      <td>...</td>\n",
       "    </tr>\n",
       "    <tr>\n",
       "      <th>4272</th>\n",
       "      <td>9266_02</td>\n",
       "      <td>1</td>\n",
       "    </tr>\n",
       "    <tr>\n",
       "      <th>4273</th>\n",
       "      <td>9269_01</td>\n",
       "      <td>0</td>\n",
       "    </tr>\n",
       "    <tr>\n",
       "      <th>4274</th>\n",
       "      <td>9271_01</td>\n",
       "      <td>1</td>\n",
       "    </tr>\n",
       "    <tr>\n",
       "      <th>4275</th>\n",
       "      <td>9273_01</td>\n",
       "      <td>1</td>\n",
       "    </tr>\n",
       "    <tr>\n",
       "      <th>4276</th>\n",
       "      <td>9277_01</td>\n",
       "      <td>1</td>\n",
       "    </tr>\n",
       "  </tbody>\n",
       "</table>\n",
       "<p>4277 rows × 2 columns</p>\n",
       "</div>"
      ],
      "text/plain": [
       "     PassengerId  Transported\n",
       "0        0013_01            1\n",
       "1        0018_01            0\n",
       "2        0019_01            1\n",
       "3        0021_01            1\n",
       "4        0023_01            0\n",
       "...          ...          ...\n",
       "4272     9266_02            1\n",
       "4273     9269_01            0\n",
       "4274     9271_01            1\n",
       "4275     9273_01            1\n",
       "4276     9277_01            1\n",
       "\n",
       "[4277 rows x 2 columns]"
      ]
     },
     "execution_count": 34,
     "metadata": {},
     "output_type": "execute_result"
    }
   ],
   "source": [
    "output_2"
   ]
  },
  {
   "cell_type": "markdown",
   "id": "8730fd77",
   "metadata": {
    "papermill": {
     "duration": 0.024688,
     "end_time": "2023-09-28T23:32:31.409812",
     "exception": false,
     "start_time": "2023-09-28T23:32:31.385124",
     "status": "completed"
    },
    "tags": []
   },
   "source": [
    "# Model 3. KNN Classifier"
   ]
  },
  {
   "cell_type": "code",
   "execution_count": 35,
   "id": "28ce8c68",
   "metadata": {
    "execution": {
     "iopub.execute_input": "2023-09-28T23:32:31.462416Z",
     "iopub.status.busy": "2023-09-28T23:32:31.461685Z",
     "iopub.status.idle": "2023-09-28T23:32:32.382249Z",
     "shell.execute_reply": "2023-09-28T23:32:32.381315Z"
    },
    "papermill": {
     "duration": 0.949726,
     "end_time": "2023-09-28T23:32:32.384656",
     "exception": false,
     "start_time": "2023-09-28T23:32:31.434930",
     "status": "completed"
    },
    "tags": []
   },
   "outputs": [
    {
     "name": "stdout",
     "output_type": "stream",
     "text": [
      "Metrics for the training set:\n",
      "Accuracy: 0.8607995398331896\n",
      "F1 Score: 0.8605187319884726\n",
      "Confusion Matrix:\n",
      "[[3000  476]\n",
      " [ 492 2986]]\n",
      "Recall: 0.8585393904542841\n",
      "Precision: 0.8625072212593876\n",
      "\n",
      "Metrics for the validation set:\n",
      "Accuracy: 0.7361610352264558\n",
      "F1 Score: 0.773875539125077\n",
      "Confusion Matrix:\n",
      "[[396 258]\n",
      " [109 628]]\n",
      "Recall: 0.8521031207598372\n",
      "Precision: 0.708803611738149\n"
     ]
    }
   ],
   "source": [
    "from sklearn.neighbors import KNeighborsClassifier\n",
    "from sklearn.metrics import accuracy_score, f1_score, confusion_matrix, recall_score, precision_score\n",
    "\n",
    "n_neighbors = 3\n",
    "\n",
    "model_3 = KNeighborsClassifier(n_neighbors=n_neighbors)\n",
    "\n",
    "model_3.fit(X_train, y_train)\n",
    "\n",
    "y_train_pred = model_3.predict(X_train)\n",
    "\n",
    "y_valid_pred = model_3.predict(X_valid)\n",
    "\n",
    "print(\"Metrics for the training set:\")\n",
    "print(f\"Accuracy: {accuracy_score(y_train, y_train_pred)}\")\n",
    "print(f\"F1 Score: {f1_score(y_train, y_train_pred)}\")\n",
    "print(f\"Confusion Matrix:\\n{confusion_matrix(y_train, y_train_pred)}\")\n",
    "print(f\"Recall: {recall_score(y_train, y_train_pred)}\")\n",
    "print(f\"Precision: {precision_score(y_train, y_train_pred)}\")\n",
    "\n",
    "print(\"\\nMetrics for the validation set:\")\n",
    "print(f\"Accuracy: {accuracy_score(y_valid, y_valid_pred)}\")\n",
    "print(f\"F1 Score: {f1_score(y_valid, y_valid_pred)}\")\n",
    "print(f\"Confusion Matrix:\\n{confusion_matrix(y_valid, y_valid_pred)}\")\n",
    "print(f\"Recall: {recall_score(y_valid, y_valid_pred)}\")\n",
    "print(f\"Precision: {precision_score(y_valid, y_valid_pred)}\")\n",
    "\n",
    "train_acc.append(accuracy_score(y_train, y_train_pred))"
   ]
  },
  {
   "cell_type": "code",
   "execution_count": 36,
   "id": "d0740a6f",
   "metadata": {
    "execution": {
     "iopub.execute_input": "2023-09-28T23:32:32.437339Z",
     "iopub.status.busy": "2023-09-28T23:32:32.436588Z",
     "iopub.status.idle": "2023-09-28T23:32:32.876464Z",
     "shell.execute_reply": "2023-09-28T23:32:32.875142Z"
    },
    "papermill": {
     "duration": 0.469462,
     "end_time": "2023-09-28T23:32:32.879389",
     "exception": false,
     "start_time": "2023-09-28T23:32:32.409927",
     "status": "completed"
    },
    "tags": []
   },
   "outputs": [],
   "source": [
    "test_predict = model_3.predict(test_data.drop('PassengerId',axis=1))"
   ]
  },
  {
   "cell_type": "code",
   "execution_count": 37,
   "id": "ff180bd6",
   "metadata": {
    "execution": {
     "iopub.execute_input": "2023-09-28T23:32:32.932131Z",
     "iopub.status.busy": "2023-09-28T23:32:32.931348Z",
     "iopub.status.idle": "2023-09-28T23:32:32.942492Z",
     "shell.execute_reply": "2023-09-28T23:32:32.941419Z"
    },
    "papermill": {
     "duration": 0.040455,
     "end_time": "2023-09-28T23:32:32.945184",
     "exception": false,
     "start_time": "2023-09-28T23:32:32.904729",
     "status": "completed"
    },
    "tags": []
   },
   "outputs": [],
   "source": [
    "output_3 = pd.DataFrame({'PassengerId':test_data.PassengerId,\n",
    "                       'Transported':test_predict})\n",
    "output_3['Transported'] = output_3['Transported'].replace({True: 1, False: 0})"
   ]
  },
  {
   "cell_type": "markdown",
   "id": "ddcc7871",
   "metadata": {
    "papermill": {
     "duration": 0.024365,
     "end_time": "2023-09-28T23:32:32.995324",
     "exception": false,
     "start_time": "2023-09-28T23:32:32.970959",
     "status": "completed"
    },
    "tags": []
   },
   "source": [
    "# Model 4. "
   ]
  },
  {
   "cell_type": "code",
   "execution_count": 38,
   "id": "355945aa",
   "metadata": {
    "execution": {
     "iopub.execute_input": "2023-09-28T23:32:33.053114Z",
     "iopub.status.busy": "2023-09-28T23:32:33.052331Z",
     "iopub.status.idle": "2023-09-28T23:32:44.729678Z",
     "shell.execute_reply": "2023-09-28T23:32:44.728503Z"
    },
    "papermill": {
     "duration": 11.706916,
     "end_time": "2023-09-28T23:32:44.732196",
     "exception": false,
     "start_time": "2023-09-28T23:32:33.025280",
     "status": "completed"
    },
    "tags": []
   },
   "outputs": [
    {
     "name": "stdout",
     "output_type": "stream",
     "text": [
      "Metrics for the training set:\n",
      "Accuracy: 0.7824273799252229\n",
      "F1 Score: 0.8028664495114007\n",
      "Confusion Matrix:\n",
      "[[2360 1116]\n",
      " [ 397 3081]]\n",
      "Recall: 0.8858539390454284\n",
      "Precision: 0.73409578270193\n",
      "\n",
      "Metrics for the validation set:\n",
      "Accuracy: 0.7814521926671459\n",
      "F1 Score: 0.8173076923076923\n",
      "Confusion Matrix:\n",
      "[[407 247]\n",
      " [ 57 680]]\n",
      "Recall: 0.9226594301221167\n",
      "Precision: 0.7335490830636462\n"
     ]
    }
   ],
   "source": [
    "from sklearn.svm import SVC\n",
    "from sklearn.metrics import accuracy_score, f1_score, confusion_matrix, recall_score, precision_score\n",
    "\n",
    "C_value = 1.0\n",
    "kernel_type = 'rbf'  \n",
    "degree_value = 3  \n",
    "gamma_value = 'scale'  \n",
    "coef0_value = 0.0  \n",
    "shrinking_enabled = True  \n",
    "probability_enabled = True  \n",
    "class_weights = None  \n",
    "decision_function_shape = 'ovr'  \n",
    "\n",
    "model_svm = SVC(C=C_value, kernel=kernel_type, degree=degree_value, gamma=gamma_value,\n",
    "                coef0=coef0_value, shrinking=shrinking_enabled, probability=probability_enabled,\n",
    "                class_weight=class_weights, decision_function_shape=decision_function_shape)\n",
    "\n",
    "\n",
    "model_svm.fit(X_train, y_train)\n",
    "\n",
    "y_train_pred = model_svm.predict(X_train)\n",
    "y_valid_pred = model_svm.predict(X_valid)\n",
    "\n",
    "print(\"Metrics for the training set:\")\n",
    "print(f\"Accuracy: {accuracy_score(y_train, y_train_pred)}\")\n",
    "print(f\"F1 Score: {f1_score(y_train, y_train_pred)}\")\n",
    "print(f\"Confusion Matrix:\\n{confusion_matrix(y_train, y_train_pred)}\")\n",
    "print(f\"Recall: {recall_score(y_train, y_train_pred)}\")\n",
    "print(f\"Precision: {precision_score(y_train, y_train_pred)}\")\n",
    "\n",
    "print(\"\\nMetrics for the validation set:\")\n",
    "print(f\"Accuracy: {accuracy_score(y_valid, y_valid_pred)}\")\n",
    "print(f\"F1 Score: {f1_score(y_valid, y_valid_pred)}\")\n",
    "print(f\"Confusion Matrix:\\n{confusion_matrix(y_valid, y_valid_pred)}\")\n",
    "print(f\"Recall: {recall_score(y_valid, y_valid_pred)}\")\n",
    "print(f\"Precision: {precision_score(y_valid, y_valid_pred)}\")\n",
    "\n",
    "train_acc.append(accuracy_score(y_train, y_train_pred))"
   ]
  },
  {
   "cell_type": "code",
   "execution_count": 39,
   "id": "ba91d8cd",
   "metadata": {
    "execution": {
     "iopub.execute_input": "2023-09-28T23:32:44.784549Z",
     "iopub.status.busy": "2023-09-28T23:32:44.783855Z",
     "iopub.status.idle": "2023-09-28T23:32:45.719818Z",
     "shell.execute_reply": "2023-09-28T23:32:45.718711Z"
    },
    "papermill": {
     "duration": 0.965901,
     "end_time": "2023-09-28T23:32:45.722666",
     "exception": false,
     "start_time": "2023-09-28T23:32:44.756765",
     "status": "completed"
    },
    "tags": []
   },
   "outputs": [],
   "source": [
    "test_predict = model_svm.predict(test_data.drop('PassengerId',axis=1))"
   ]
  },
  {
   "cell_type": "code",
   "execution_count": 40,
   "id": "2ca86ae3",
   "metadata": {
    "execution": {
     "iopub.execute_input": "2023-09-28T23:32:45.774538Z",
     "iopub.status.busy": "2023-09-28T23:32:45.773779Z",
     "iopub.status.idle": "2023-09-28T23:32:45.785507Z",
     "shell.execute_reply": "2023-09-28T23:32:45.784457Z"
    },
    "papermill": {
     "duration": 0.040958,
     "end_time": "2023-09-28T23:32:45.788277",
     "exception": false,
     "start_time": "2023-09-28T23:32:45.747319",
     "status": "completed"
    },
    "tags": []
   },
   "outputs": [],
   "source": [
    "output_4 = pd.DataFrame({'PassengerId':test_data.PassengerId,\n",
    "                       'Transported':test_predict})\n",
    "output_4['Transported'] = output_4['Transported'].replace({True: 1, False: 0})"
   ]
  },
  {
   "cell_type": "markdown",
   "id": "ab59f7ef",
   "metadata": {
    "papermill": {
     "duration": 0.02422,
     "end_time": "2023-09-28T23:32:45.837707",
     "exception": false,
     "start_time": "2023-09-28T23:32:45.813487",
     "status": "completed"
    },
    "tags": []
   },
   "source": [
    "# Model 5."
   ]
  },
  {
   "cell_type": "code",
   "execution_count": 41,
   "id": "c6c10509",
   "metadata": {
    "execution": {
     "iopub.execute_input": "2023-09-28T23:32:45.889095Z",
     "iopub.status.busy": "2023-09-28T23:32:45.888359Z",
     "iopub.status.idle": "2023-09-28T23:32:46.146213Z",
     "shell.execute_reply": "2023-09-28T23:32:46.144969Z"
    },
    "papermill": {
     "duration": 0.288018,
     "end_time": "2023-09-28T23:32:46.150117",
     "exception": false,
     "start_time": "2023-09-28T23:32:45.862099",
     "status": "completed"
    },
    "tags": []
   },
   "outputs": [
    {
     "name": "stdout",
     "output_type": "stream",
     "text": [
      "Metrics for the training set:\n",
      "Accuracy: 0.7582686223756112\n",
      "F1 Score: 0.7509998518737965\n",
      "Confusion Matrix:\n",
      "[[2738  738]\n",
      " [ 943 2535]]\n",
      "Recall: 0.7288671650373778\n",
      "Precision: 0.7745187901008249\n",
      "\n",
      "Metrics for the validation set:\n",
      "Accuracy: 0.7706685837526959\n",
      "F1 Score: 0.7899934167215272\n",
      "Confusion Matrix:\n",
      "[[472 182]\n",
      " [137 600]]\n",
      "Recall: 0.8141112618724559\n",
      "Precision: 0.7672634271099744\n"
     ]
    }
   ],
   "source": [
    "from sklearn.discriminant_analysis import LinearDiscriminantAnalysis\n",
    "from sklearn.metrics import accuracy_score, f1_score, confusion_matrix, recall_score, precision_score\n",
    "\n",
    "\n",
    "lda = LinearDiscriminantAnalysis(\n",
    "    solver='svd',  \n",
    "    shrinkage=None,  \n",
    "    n_components=1,  \n",
    "    priors=[0.5,0.5], \n",
    "    store_covariance=False,  \n",
    "    \n",
    ")\n",
    "\n",
    "lda.fit(X_train, y_train)\n",
    "\n",
    "y_train_pred = lda.predict(X_train)\n",
    "y_valid_pred = lda.predict(X_valid)\n",
    "\n",
    "accuracy_train = accuracy_score(y_train, y_train_pred)\n",
    "f1_train = f1_score(y_train, y_train_pred)\n",
    "conf_matrix_train = confusion_matrix(y_train, y_train_pred)\n",
    "recall_train = recall_score(y_train, y_train_pred)\n",
    "precision_train = precision_score(y_train, y_train_pred)\n",
    "\n",
    "accuracy_valid = accuracy_score(y_valid, y_valid_pred)\n",
    "f1_valid = f1_score(y_valid, y_valid_pred)\n",
    "conf_matrix_valid = confusion_matrix(y_valid, y_valid_pred)\n",
    "recall_valid = recall_score(y_valid, y_valid_pred)\n",
    "precision_valid = precision_score(y_valid, y_valid_pred)\n",
    "\n",
    "print(\"Metrics for the training set:\")\n",
    "print(f\"Accuracy: {accuracy_score(y_train, y_train_pred)}\")\n",
    "print(f\"F1 Score: {f1_score(y_train, y_train_pred)}\")\n",
    "print(f\"Confusion Matrix:\\n{confusion_matrix(y_train, y_train_pred)}\")\n",
    "print(f\"Recall: {recall_score(y_train, y_train_pred)}\")\n",
    "print(f\"Precision: {precision_score(y_train, y_train_pred)}\")\n",
    "\n",
    "print(\"\\nMetrics for the validation set:\")\n",
    "print(f\"Accuracy: {accuracy_score(y_valid, y_valid_pred)}\")\n",
    "print(f\"F1 Score: {f1_score(y_valid, y_valid_pred)}\")\n",
    "print(f\"Confusion Matrix:\\n{confusion_matrix(y_valid, y_valid_pred)}\")\n",
    "print(f\"Recall: {recall_score(y_valid, y_valid_pred)}\")\n",
    "print(f\"Precision: {precision_score(y_valid, y_valid_pred)}\")\n",
    "\n",
    "train_acc.append(accuracy_score(y_train, y_train_pred))"
   ]
  },
  {
   "cell_type": "code",
   "execution_count": 42,
   "id": "5a9ebcc8",
   "metadata": {
    "execution": {
     "iopub.execute_input": "2023-09-28T23:32:46.226448Z",
     "iopub.status.busy": "2023-09-28T23:32:46.226004Z",
     "iopub.status.idle": "2023-09-28T23:32:46.240229Z",
     "shell.execute_reply": "2023-09-28T23:32:46.238551Z"
    },
    "papermill": {
     "duration": 0.054,
     "end_time": "2023-09-28T23:32:46.243509",
     "exception": false,
     "start_time": "2023-09-28T23:32:46.189509",
     "status": "completed"
    },
    "tags": []
   },
   "outputs": [],
   "source": [
    "test_predict = lda.predict(test_data.drop('PassengerId',axis=1))"
   ]
  },
  {
   "cell_type": "code",
   "execution_count": 43,
   "id": "99f0d30f",
   "metadata": {
    "execution": {
     "iopub.execute_input": "2023-09-28T23:32:46.351670Z",
     "iopub.status.busy": "2023-09-28T23:32:46.350921Z",
     "iopub.status.idle": "2023-09-28T23:32:46.365706Z",
     "shell.execute_reply": "2023-09-28T23:32:46.364743Z"
    },
    "papermill": {
     "duration": 0.071853,
     "end_time": "2023-09-28T23:32:46.368228",
     "exception": false,
     "start_time": "2023-09-28T23:32:46.296375",
     "status": "completed"
    },
    "tags": []
   },
   "outputs": [],
   "source": [
    "output_5 = pd.DataFrame({'PassengerId':test_data.PassengerId,\n",
    "                       'Transported':test_predict})\n",
    "output_5['Transported'] = output_5['Transported'].replace({True: 1, False: 0})"
   ]
  },
  {
   "cell_type": "markdown",
   "id": "ecc0ce65",
   "metadata": {
    "papermill": {
     "duration": 0.024475,
     "end_time": "2023-09-28T23:32:46.417299",
     "exception": false,
     "start_time": "2023-09-28T23:32:46.392824",
     "status": "completed"
    },
    "tags": []
   },
   "source": [
    "# Searching for the best models combination"
   ]
  },
  {
   "cell_type": "code",
   "execution_count": 44,
   "id": "be5a714c",
   "metadata": {
    "execution": {
     "iopub.execute_input": "2023-09-28T23:32:46.469229Z",
     "iopub.status.busy": "2023-09-28T23:32:46.468362Z",
     "iopub.status.idle": "2023-09-28T23:32:51.078236Z",
     "shell.execute_reply": "2023-09-28T23:32:51.077265Z"
    },
    "papermill": {
     "duration": 4.639213,
     "end_time": "2023-09-28T23:32:51.081185",
     "exception": false,
     "start_time": "2023-09-28T23:32:46.441972",
     "status": "completed"
    },
    "tags": []
   },
   "outputs": [],
   "source": [
    "for feature in object_columns:  \n",
    "    final_valid_features[feature] = final_valid_features[feature].astype(\"category\")\n",
    "    \n",
    "# test_predict = model_1.predict(test_data.drop('PassengerId',axis=1))\n",
    "p1 = model_1.predict(final_valid_features)\n",
    "p6 = model_lgb.predict(final_valid_features)\n",
    "\n",
    "\n",
    "for feature in object_columns:  \n",
    "    X_train_copy[feature] = X_train_copy[feature].astype(\"category\")\n",
    "    \n",
    "# test_predict = model_1.predict(test_data.drop('PassengerId',axis=1))\n",
    "tr1 = model_1.predict(X_train_copy)\n",
    "tr6 = model_lgb.predict(X_train_copy)\n"
   ]
  },
  {
   "cell_type": "code",
   "execution_count": 45,
   "id": "245c08cb",
   "metadata": {
    "execution": {
     "iopub.execute_input": "2023-09-28T23:32:51.134245Z",
     "iopub.status.busy": "2023-09-28T23:32:51.133835Z",
     "iopub.status.idle": "2023-09-28T23:32:51.175893Z",
     "shell.execute_reply": "2023-09-28T23:32:51.174575Z"
    },
    "papermill": {
     "duration": 0.071333,
     "end_time": "2023-09-28T23:32:51.179130",
     "exception": false,
     "start_time": "2023-09-28T23:32:51.107797",
     "status": "completed"
    },
    "tags": []
   },
   "outputs": [],
   "source": [
    "label_encoders = {}\n",
    "for column in final_valid_features.select_dtypes(include=['category']).columns:\n",
    "    label_encoders[column] = LabelEncoder()\n",
    "    final_valid_features[column] = label_encoders[column].fit_transform(final_valid_features[column])\n",
    "final_valid_features = final_valid_features.fillna(0)\n",
    "\n",
    "\n",
    "label_encoders = {}\n",
    "for column in X_train_copy.select_dtypes(include=['category']).columns:\n",
    "    label_encoders[column] = LabelEncoder()\n",
    "    X_train_copy[column] = label_encoders[column].fit_transform(X_train_copy[column])\n",
    "X_train_copy = X_train_copy.fillna(0)"
   ]
  },
  {
   "cell_type": "code",
   "execution_count": 46,
   "id": "b5b5e3b8",
   "metadata": {
    "execution": {
     "iopub.execute_input": "2023-09-28T23:32:51.231343Z",
     "iopub.status.busy": "2023-09-28T23:32:51.230913Z",
     "iopub.status.idle": "2023-09-28T23:32:59.165456Z",
     "shell.execute_reply": "2023-09-28T23:32:59.164367Z"
    },
    "papermill": {
     "duration": 7.964704,
     "end_time": "2023-09-28T23:32:59.168651",
     "exception": false,
     "start_time": "2023-09-28T23:32:51.203947",
     "status": "completed"
    },
    "tags": []
   },
   "outputs": [],
   "source": [
    "p2 = model_2.predict(final_valid_features)\n",
    "p3 = model_3.predict(final_valid_features)\n",
    "p4 = model_svm.predict(final_valid_features)\n",
    "p5 = lda.predict(final_valid_features)\n",
    "\n",
    "tr2 = model_2.predict(X_train_copy)\n",
    "tr3 = model_3.predict(X_train_copy)\n",
    "tr4 = model_svm.predict(X_train_copy)\n",
    "tr5 = lda.predict(X_train_copy)\n"
   ]
  },
  {
   "cell_type": "code",
   "execution_count": 47,
   "id": "12b0616e",
   "metadata": {
    "execution": {
     "iopub.execute_input": "2023-09-28T23:32:59.271822Z",
     "iopub.status.busy": "2023-09-28T23:32:59.271050Z",
     "iopub.status.idle": "2023-09-28T23:32:59.286769Z",
     "shell.execute_reply": "2023-09-28T23:32:59.285735Z"
    },
    "papermill": {
     "duration": 0.074126,
     "end_time": "2023-09-28T23:32:59.289568",
     "exception": false,
     "start_time": "2023-09-28T23:32:59.215442",
     "status": "completed"
    },
    "tags": []
   },
   "outputs": [],
   "source": [
    "combinations = [\n",
    "    (1, 2, 3), (1, 2, 4), (1, 2, 5), (1, 2, 6), (1, 3, 4), (1, 3, 5), (1, 3, 6), (1, 4, 5), (1, 4, 6), (1, 5, 6), (2, 3, 4), (2, 3, 5), (2, 3, 6), \n",
    "    (2, 4, 5), (2, 4, 6), (2, 5, 6), (3, 4, 5), (3, 4, 6), (3, 5, 6), (4, 5, 6),\n",
    "    (1, 2, 3, 4, 5), (1, 2, 3, 4, 6), (1, 2, 3, 5, 6), (1, 2, 4, 5, 6), (1, 3, 4, 5, 6), (2, 3, 4, 5, 6),(1, 2, 3, 4)\n",
    "]"
   ]
  },
  {
   "cell_type": "code",
   "execution_count": 48,
   "id": "973e8156",
   "metadata": {
    "execution": {
     "iopub.execute_input": "2023-09-28T23:32:59.343886Z",
     "iopub.status.busy": "2023-09-28T23:32:59.343444Z",
     "iopub.status.idle": "2023-09-28T23:32:59.462068Z",
     "shell.execute_reply": "2023-09-28T23:32:59.460663Z"
    },
    "papermill": {
     "duration": 0.149485,
     "end_time": "2023-09-28T23:32:59.465463",
     "exception": false,
     "start_time": "2023-09-28T23:32:59.315978",
     "status": "completed"
    },
    "tags": []
   },
   "outputs": [],
   "source": [
    "model_predictions = [p1, p2, p3, p4, p5, p6]\n",
    "\n",
    "check = pd.DataFrame({f'model{i+1}': model for i, model in enumerate(model_predictions)})\n",
    "\n",
    "for col in check.columns:\n",
    "    check[col] = check[col].replace({True: 1, False: 0})\n",
    "    \n",
    "check['model6'] = np.round(check['model6'])\n",
    "\n",
    "for combo in combinations:\n",
    "    col_name = f'composition_{\"\".join(map(str, combo))}'\n",
    "    check[col_name] = check[list(map(lambda x: f'model{x}', combo))].mean(axis=1)\n",
    "#     check[col_name] = check[col_name].replace({len(combo) / len(combo): True, 0.0: False})\n",
    "\n",
    "for col in check.columns:\n",
    "    check[col] = np.round(check[col])\n",
    "    check[col] = check[col].replace({1: True, 0: False})"
   ]
  },
  {
   "cell_type": "code",
   "execution_count": 49,
   "id": "f744a22c",
   "metadata": {
    "execution": {
     "iopub.execute_input": "2023-09-28T23:32:59.520717Z",
     "iopub.status.busy": "2023-09-28T23:32:59.519874Z",
     "iopub.status.idle": "2023-09-28T23:32:59.765121Z",
     "shell.execute_reply": "2023-09-28T23:32:59.764115Z"
    },
    "papermill": {
     "duration": 0.276109,
     "end_time": "2023-09-28T23:32:59.767954",
     "exception": false,
     "start_time": "2023-09-28T23:32:59.491845",
     "status": "completed"
    },
    "tags": []
   },
   "outputs": [],
   "source": [
    "model_tr_predictions = [tr1, tr2, tr3, tr4, tr5, tr6]\n",
    "\n",
    "check_tr = pd.DataFrame({f'model{i+1}': model for i, model in enumerate(model_tr_predictions)})\n",
    "\n",
    "for col in check_tr.columns:\n",
    "    check_tr[col] = check_tr[col].replace({True: 1, False: 0})\n",
    "    \n",
    "check_tr['model6'] = np.round(check_tr['model6'])\n",
    "\n",
    "for combo in combinations:\n",
    "    col_name = f'composition_{\"\".join(map(str, combo))}'\n",
    "    check_tr[col_name] = check_tr[list(map(lambda x: f'model{x}', combo))].mean(axis=1)\n",
    "#     check[col_name] = check[col_name].replace({len(combo) / len(combo): True, 0.0: False})\n",
    "\n",
    "for col in check_tr.columns:\n",
    "    check_tr[col] = np.round(check_tr[col])\n",
    "    check_tr[col] = check_tr[col].replace({1: True, 0: False})"
   ]
  },
  {
   "cell_type": "code",
   "execution_count": 50,
   "id": "5a463e9a",
   "metadata": {
    "execution": {
     "iopub.execute_input": "2023-09-28T23:32:59.822830Z",
     "iopub.status.busy": "2023-09-28T23:32:59.821973Z",
     "iopub.status.idle": "2023-09-28T23:32:59.829718Z",
     "shell.execute_reply": "2023-09-28T23:32:59.828037Z"
    },
    "papermill": {
     "duration": 0.038159,
     "end_time": "2023-09-28T23:32:59.833166",
     "exception": false,
     "start_time": "2023-09-28T23:32:59.795007",
     "status": "completed"
    },
    "tags": []
   },
   "outputs": [],
   "source": [
    "def calculate_accuracy(true_values, predicted_values):\n",
    "    if len(true_values) != len(predicted_values):\n",
    "        raise ValueError(\"Lengths are different\")\n",
    "    correct_predictions = 0\n",
    "    for true, predicted in zip(true_values, predicted_values):\n",
    "        if true == predicted:\n",
    "            correct_predictions += 1\n",
    "    accuracy = correct_predictions / len(true_values)\n",
    "    return accuracy"
   ]
  },
  {
   "cell_type": "code",
   "execution_count": 51,
   "id": "d6d000ec",
   "metadata": {
    "execution": {
     "iopub.execute_input": "2023-09-28T23:32:59.887068Z",
     "iopub.status.busy": "2023-09-28T23:32:59.886583Z",
     "iopub.status.idle": "2023-09-28T23:33:00.014189Z",
     "shell.execute_reply": "2023-09-28T23:33:00.012105Z"
    },
    "papermill": {
     "duration": 0.158941,
     "end_time": "2023-09-28T23:33:00.017262",
     "exception": false,
     "start_time": "2023-09-28T23:32:59.858321",
     "status": "completed"
    },
    "tags": []
   },
   "outputs": [
    {
     "name": "stdout",
     "output_type": "stream",
     "text": [
      "Model 1. Accuracy (train/valid): 0.92724 / 0.76724\n",
      "Model 2. Accuracy (train/valid): 0.85864 / 0.79598\n",
      "Model 3. Accuracy (train/valid): 0.86080 / 0.65805\n",
      "Model 4. Accuracy (train/valid): 0.78243 / 0.73851\n",
      "Model 5. Accuracy (train/valid): 0.75827 / 0.74425\n",
      "Model 6. Accuracy (train/valid): 0.81406 / 0.80172\n",
      "composition_123. Accuracy (train/valid): 0.89574 / 0.79310\n",
      "composition_124. Accuracy (train/valid): 0.86569 / 0.79023\n",
      "composition_125. Accuracy (train/valid): 0.86713 / 0.78448\n",
      "composition_126. Accuracy (train/valid): 0.85835 / 0.79885\n",
      "composition_134. Accuracy (train/valid): 0.87460 / 0.75287\n",
      "composition_135. Accuracy (train/valid): 0.88021 / 0.75575\n",
      "composition_136. Accuracy (train/valid): 0.88050 / 0.78736\n",
      "composition_145. Accuracy (train/valid): 0.84570 / 0.75287\n",
      "composition_146. Accuracy (train/valid): 0.83434 / 0.79598\n",
      "composition_156. Accuracy (train/valid): 0.84052 / 0.79310\n",
      "composition_234. Accuracy (train/valid): 0.83995 / 0.75000\n",
      "composition_235. Accuracy (train/valid): 0.84671 / 0.75862\n",
      "composition_236. Accuracy (train/valid): 0.84541 / 0.79885\n",
      "composition_245. Accuracy (train/valid): 0.82758 / 0.76437\n",
      "composition_246. Accuracy (train/valid): 0.82643 / 0.79885\n",
      "composition_256. Accuracy (train/valid): 0.82974 / 0.79598\n",
      "composition_345. Accuracy (train/valid): 0.81795 / 0.73276\n",
      "composition_346. Accuracy (train/valid): 0.81752 / 0.75000\n",
      "composition_356. Accuracy (train/valid): 0.82327 / 0.76149\n",
      "composition_456. Accuracy (train/valid): 0.80587 / 0.76149\n",
      "composition_12345. Accuracy (train/valid): 0.85850 / 0.76437\n",
      "composition_12346. Accuracy (train/valid): 0.85131 / 0.79885\n",
      "composition_12356. Accuracy (train/valid): 0.85534 / 0.79310\n",
      "composition_12456. Accuracy (train/valid): 0.84052 / 0.79310\n",
      "composition_13456. Accuracy (train/valid): 0.84110 / 0.76437\n",
      "composition_23456. Accuracy (train/valid): 0.83089 / 0.76724\n",
      "composition_1234. Accuracy (train/valid): 0.87762 / 0.79310\n"
     ]
    }
   ],
   "source": [
    "# Define the list of model names\n",
    "model_names = list(check_tr.columns[:6])\n",
    "\n",
    "# Iterate through the model names\n",
    "for model_name in model_names:\n",
    "    train_accuracy = calculate_accuracy(y_train_copy, check_tr[model_name].replace({3/3:True, 2/3:True, 1/3:False, 0/3:False}))\n",
    "    valid_accuracy = calculate_accuracy(final_valid_test, check[model_name].replace({3/3:True, 2/3:True, 1/3:False, 0/3:False}))\n",
    "    \n",
    "    print(f\"Model {model_name[-1]}. Accuracy (train/valid): {train_accuracy:.5f} / {valid_accuracy:.5f}\")\n",
    "\n",
    "# Define the list of composition names\n",
    "composition_names = list(check_tr.columns[6:])\n",
    "\n",
    "# Iterate through the composition names\n",
    "for composition_name in composition_names:\n",
    "    train_accuracy = calculate_accuracy(y_train_copy, check_tr[composition_name])\n",
    "    valid_accuracy = calculate_accuracy(final_valid_test, check[composition_name])\n",
    "    \n",
    "    print(f\"{composition_name}. Accuracy (train/valid): {train_accuracy:.5f} / {valid_accuracy:.5f}\")\n"
   ]
  },
  {
   "cell_type": "markdown",
   "id": "d8629030",
   "metadata": {
    "papermill": {
     "duration": 0.025588,
     "end_time": "2023-09-28T23:33:00.068706",
     "exception": false,
     "start_time": "2023-09-28T23:33:00.043118",
     "status": "completed"
    },
    "tags": []
   },
   "source": [
    "# Creating final submission"
   ]
  },
  {
   "cell_type": "code",
   "execution_count": 52,
   "id": "381a4cc2",
   "metadata": {
    "execution": {
     "iopub.execute_input": "2023-09-28T23:33:00.120524Z",
     "iopub.status.busy": "2023-09-28T23:33:00.120086Z",
     "iopub.status.idle": "2023-09-28T23:33:00.171254Z",
     "shell.execute_reply": "2023-09-28T23:33:00.169945Z"
    },
    "papermill": {
     "duration": 0.081114,
     "end_time": "2023-09-28T23:33:00.174384",
     "exception": false,
     "start_time": "2023-09-28T23:33:00.093270",
     "status": "completed"
    },
    "tags": []
   },
   "outputs": [],
   "source": [
    "temp = output_1.copy()\n",
    "temp['Transported_2'] = output_2.Transported\n",
    "temp['Transported_3'] = output_3.Transported\n",
    "temp['Transported_4'] = output_4.Transported\n",
    "temp['Transported_5'] = output_5.Transported\n",
    "temp['Transported_6'] = output_lgb.Transported\n",
    "\n",
    "\n",
    "# temp['sum'] = (temp.Transported + temp.Transported_2 + temp.Transported_3 + temp.Transported_4 + temp.Transported_5)/5\n",
    "# temp['sum'] = temp['sum'].replace({5/5: True, 4/5: True, 3/5:True, 2/5:False, 1/5:False, 0/5:False})\n",
    "\n",
    "temp['sum'] = (temp.Transported + temp.Transported_3 + temp.Transported_6)/3\n",
    "temp['sum'] = temp['sum'].replace({3/3:True, 2/3:True, 1/3:False, 0/3:False})\n",
    "\n",
    "output = output_1.copy()\n",
    "output.Transported = temp['sum']\n",
    "output.to_csv('submission_136.csv',index=False)\n",
    "\n",
    "\n",
    "\n",
    "temp['sum'] = (temp.Transported_2 + temp.Transported_3 + temp.Transported_6)/3\n",
    "temp['sum'] = temp['sum'].replace({3/3:True, 2/3:True, 1/3:False, 0/3:False})\n",
    "\n",
    "output = output_1.copy()\n",
    "output.Transported = temp['sum']\n",
    "output.to_csv('submission_236.csv',index=False)"
   ]
  },
  {
   "cell_type": "code",
   "execution_count": 53,
   "id": "20feea08",
   "metadata": {
    "execution": {
     "iopub.execute_input": "2023-09-28T23:33:00.226937Z",
     "iopub.status.busy": "2023-09-28T23:33:00.226118Z",
     "iopub.status.idle": "2023-09-28T23:33:00.231949Z",
     "shell.execute_reply": "2023-09-28T23:33:00.230655Z"
    },
    "papermill": {
     "duration": 0.035193,
     "end_time": "2023-09-28T23:33:00.234503",
     "exception": false,
     "start_time": "2023-09-28T23:33:00.199310",
     "status": "completed"
    },
    "tags": []
   },
   "outputs": [],
   "source": [
    "# output = output_1.copy()\n",
    "# output['Transported'] = temp['Transported_6'].replace({1: True, 0: False})\n",
    "# output.to_csv('submission.csv',index=False)\n",
    "# output"
   ]
  },
  {
   "cell_type": "code",
   "execution_count": null,
   "id": "1a0a174d",
   "metadata": {
    "papermill": {
     "duration": 0.024458,
     "end_time": "2023-09-28T23:33:00.284772",
     "exception": false,
     "start_time": "2023-09-28T23:33:00.260314",
     "status": "completed"
    },
    "tags": []
   },
   "outputs": [],
   "source": []
  },
  {
   "cell_type": "code",
   "execution_count": null,
   "id": "225c913e",
   "metadata": {
    "papermill": {
     "duration": 0.024998,
     "end_time": "2023-09-28T23:33:00.335861",
     "exception": false,
     "start_time": "2023-09-28T23:33:00.310863",
     "status": "completed"
    },
    "tags": []
   },
   "outputs": [],
   "source": []
  },
  {
   "cell_type": "code",
   "execution_count": null,
   "id": "10281cf1",
   "metadata": {
    "papermill": {
     "duration": 0.02492,
     "end_time": "2023-09-28T23:33:00.386736",
     "exception": false,
     "start_time": "2023-09-28T23:33:00.361816",
     "status": "completed"
    },
    "tags": []
   },
   "outputs": [],
   "source": []
  },
  {
   "cell_type": "code",
   "execution_count": null,
   "id": "1bf3eec7",
   "metadata": {
    "papermill": {
     "duration": 0.024502,
     "end_time": "2023-09-28T23:33:00.435784",
     "exception": false,
     "start_time": "2023-09-28T23:33:00.411282",
     "status": "completed"
    },
    "tags": []
   },
   "outputs": [],
   "source": []
  },
  {
   "cell_type": "code",
   "execution_count": null,
   "id": "d75efde4",
   "metadata": {
    "papermill": {
     "duration": 0.024656,
     "end_time": "2023-09-28T23:33:00.485143",
     "exception": false,
     "start_time": "2023-09-28T23:33:00.460487",
     "status": "completed"
    },
    "tags": []
   },
   "outputs": [],
   "source": []
  },
  {
   "cell_type": "code",
   "execution_count": null,
   "id": "6c70cdeb",
   "metadata": {
    "papermill": {
     "duration": 0.02461,
     "end_time": "2023-09-28T23:33:00.536237",
     "exception": false,
     "start_time": "2023-09-28T23:33:00.511627",
     "status": "completed"
    },
    "tags": []
   },
   "outputs": [],
   "source": []
  },
  {
   "cell_type": "code",
   "execution_count": null,
   "id": "1f332226",
   "metadata": {
    "papermill": {
     "duration": 0.02444,
     "end_time": "2023-09-28T23:33:00.586485",
     "exception": false,
     "start_time": "2023-09-28T23:33:00.562045",
     "status": "completed"
    },
    "tags": []
   },
   "outputs": [],
   "source": []
  },
  {
   "cell_type": "code",
   "execution_count": null,
   "id": "516ee356",
   "metadata": {
    "papermill": {
     "duration": 0.024118,
     "end_time": "2023-09-28T23:33:00.635485",
     "exception": false,
     "start_time": "2023-09-28T23:33:00.611367",
     "status": "completed"
    },
    "tags": []
   },
   "outputs": [],
   "source": []
  }
 ],
 "metadata": {
  "kernelspec": {
   "display_name": "Python 3",
   "language": "python",
   "name": "python3"
  },
  "language_info": {
   "codemirror_mode": {
    "name": "ipython",
    "version": 3
   },
   "file_extension": ".py",
   "mimetype": "text/x-python",
   "name": "python",
   "nbconvert_exporter": "python",
   "pygments_lexer": "ipython3",
   "version": "3.10.12"
  },
  "papermill": {
   "default_parameters": {},
   "duration": 224.348636,
   "end_time": "2023-09-28T23:33:01.786162",
   "environment_variables": {},
   "exception": null,
   "input_path": "__notebook__.ipynb",
   "output_path": "__notebook__.ipynb",
   "parameters": {},
   "start_time": "2023-09-28T23:29:17.437526",
   "version": "2.4.0"
  }
 },
 "nbformat": 4,
 "nbformat_minor": 5
}
