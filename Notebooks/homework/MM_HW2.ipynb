{
 "cells": [
  {
   "cell_type": "code",
   "execution_count": 1,
   "id": "50aecc09",
   "metadata": {},
   "outputs": [],
   "source": [
    "import math\n",
    "import matplotlib.pyplot as plt\n",
    "import seaborn as sns\n",
    "import numpy as np\n",
    "import matplotlib.pyplot as plt\n"
   ]
  },
  {
   "cell_type": "code",
   "execution_count": 2,
   "id": "10252c8e",
   "metadata": {},
   "outputs": [],
   "source": [
    "sns.set(style='darkgrid')"
   ]
  },
  {
   "cell_type": "markdown",
   "id": "6a47d2f5",
   "metadata": {},
   "source": [
    "# Цель"
   ]
  },
  {
   "cell_type": "markdown",
   "id": "a43bd977",
   "metadata": {},
   "source": [
    "Необходимо рассчитать зависимость начальной водонасыщенности от высоты над зеркалом свободной воды (ЗСВ) для 3-х вариантов условий."
   ]
  },
  {
   "cell_type": "markdown",
   "id": "0c18ed13",
   "metadata": {},
   "source": [
    "# Условие 1.\n",
    "- Неснижаемая водонасыщенность $S_{wo} = 0.421$. \n",
    "- Плотность нефти - $0.75 : \\text{г/см}^3$, воды - $1.05 : \\text{г/см}^3$. \n",
    "- Капиллярное давление задано функцией от водонасыщенности:\n",
    "$P_{cap} = 0.937 \\cdot \\left(e^{-25S_w} - e^{-25} \\right) / \\left(e^{-25S_{wo}} - e^{-25} \\right) : \\text{бар}$, где $1 : \\text{бар} = 10^5 : \\text{Па}$.\n",
    "\n",
    "Требуется рассчитать зависимость начальной водонасыщенности от высоты над зеркалом свободной воды и определить, на какой высоте $H$ будет достигнуто значение $S_w = 0.421$."
   ]
  },
  {
   "cell_type": "code",
   "execution_count": 3,
   "id": "762d52ed",
   "metadata": {},
   "outputs": [],
   "source": [
    "# Условие 1\n",
    "S_wo = 0.421\n",
    "S_w_req = 0.421\n",
    "do = 750\n",
    "dw = 1050\n",
    "g = 9.81\n",
    "# P_kap = 0.937 * (math.exp(-25 * S_v) - math.exp(-25)) / (math.exp(-25 * S_vo) - math.exp(-25))"
   ]
  },
  {
   "cell_type": "markdown",
   "id": "5cad60e8",
   "metadata": {},
   "source": [
    "# Решение 1. "
   ]
  },
  {
   "cell_type": "markdown",
   "id": "1d83a165",
   "metadata": {},
   "source": [
    "Капиллярно-гравитационное равновесие характеризуется \n",
    "отсутствием потоков жидкости и равенством гравитационных сил, \n",
    "приводящих к разделению воды и нефти, с одной стороны, и капиллярных \n",
    "сил, подтягивающих смачивающую жидкость к кровле пласта. \n",
    "\n",
    "Расписываем капиллярное давление через плотности фаз:\n",
    "\n",
    "$P_{cap} = \\int_0^h (\\rho_w - \\rho_o) g dh = (\\rho_w - \\rho_o)gh$,\n",
    "\n",
    "$ h $ - высота над ЗСВ\n",
    "\n",
    "Полученное выражение подставляем в зависимость: $P_{cap} = 0.937 \\cdot \\frac{\\left(e^{-25S_w} - e^{-25} \\right)}{\\left(e^{-25S_{wo}} - e^{-25} \\right)}$.\n",
    "\n",
    "и выражаем $h$. Чтобы перевести бары в паскали домножить на $10^{5}$:\n",
    "\n",
    "$h(\\rho_w - \\rho_o)g = {0.937} \\cdot \\frac{e^{-25S_w} - e^{-25}}{e^{-25S_{wo}} - e^{-25}} \\cdot 10^5$\n",
    "\n",
    "$h = \\frac{0.937}{(\\rho_w - \\rho_o)g} \\cdot \\frac{e^{-25S_w} - e^{-25}}{e^{-25S_{wo}} - e^{-25}} \\cdot 10^5$\n",
    "\n",
    "Для того, чтобы определить на какой высоте $H$ будет достигнуто значение $S_{w} = 0.421$, подставляем данное значение $S_{w}$ в полученную формулу для $h$. Получаем:"
   ]
  },
  {
   "cell_type": "code",
   "execution_count": 4,
   "id": "a5160889",
   "metadata": {},
   "outputs": [
    {
     "data": {
      "text/plain": [
       "31.838260278627253"
      ]
     },
     "execution_count": 4,
     "metadata": {},
     "output_type": "execute_result"
    }
   ],
   "source": [
    "H = 0.937 / ((dw-do)*g) * (math.exp(-25 * S_w_req) - math.exp(-25)) / (math.exp(-25 * S_wo) - math.exp(-25)) * 10**5\n",
    "H"
   ]
  },
  {
   "cell_type": "markdown",
   "id": "4842c72b",
   "metadata": {},
   "source": [
    "H = 31.8383\n",
    "\n",
    "Далее, чтобы получить зависимость $S_w$ от высоты, выразим $S_w$  из исходной зависимости с подставленным выражением для $P_{cap}$ :\n",
    "\n",
    "\\begin{equation}\n",
    "S_w = -\\frac{1}{25} \\ln\\left(e^{-25} + \\frac{e^{-25 \\cdot S_w} - e^{-25}}{0.937 \\cdot 10^5}\\cdot (\\rho_w - \\rho_o)gh\\right)\n",
    "\\end{equation}\n"
   ]
  },
  {
   "cell_type": "code",
   "execution_count": 5,
   "id": "22135cb7",
   "metadata": {},
   "outputs": [],
   "source": [
    "S_w = lambda h: -1/25 * math.log(math.exp(-25) + (math.exp(-25 * S_wo) - math.exp(-25))/0.937 * (dw - do) * g * h * 10**(-5))"
   ]
  },
  {
   "cell_type": "code",
   "execution_count": 6,
   "id": "fde7851c",
   "metadata": {},
   "outputs": [],
   "source": [
    "h = np.linspace(0.00001, H, 1000)"
   ]
  },
  {
   "cell_type": "code",
   "execution_count": 7,
   "id": "c574f9b3",
   "metadata": {},
   "outputs": [
    {
     "data": {
      "image/png": "[encoded data removed]",
      "text/plain": [
       "<Figure size 640x480 with 1 Axes>"
      ]
     },
     "metadata": {},
     "output_type": "display_data"
    }
   ],
   "source": [
    "plt.plot(h, [S_w(i) for i in h])\n",
    "# plt.plot([S_w(i) for i in h],h)\n",
    "\n",
    "plt.xlabel('h, м')\n",
    "plt.ylabel('$S_{w}$')\n",
    "plt.show()"
   ]
  },
  {
   "cell_type": "markdown",
   "id": "bfb1c9af",
   "metadata": {},
   "source": [
    "Зависимость начальной водонасыщенности от высоты над зеркалом \n",
    "свободной воды представлена на рисунке. На графике видно, что при \n",
    "увеличении высоты над ЗСВ водонасыщенность достигает неснижаемого \n",
    "значения $ S_{wo} = 0.421 $."
   ]
  },
  {
   "cell_type": "markdown",
   "id": "ba335e25",
   "metadata": {},
   "source": [
    "# Условие 2"
   ]
  },
  {
   "cell_type": "markdown",
   "id": "1e89eb00",
   "metadata": {},
   "source": [
    "Будем считать, что зависимость для капиллярного давления в п. 1 справедлива при краевом угле смачивания θ=0. \n",
    "Пусть далее θ линейно возрастает от 0 до 120 градусов (порода от чисто гидрофильной переходит в гидрофобную) на интервале высоты от 0 до H (из п. 1). \n",
    "При этом остальные параметры от высоты не меняются, а зависимость для капиллярного давления масштабируется в соответствии с правилом Леверетта.\n",
    "\n",
    "Требуется рассчитать зависимость начальной водонасыщенности от высоты над зеркалом свободной воды.\n"
   ]
  },
  {
   "cell_type": "markdown",
   "id": "a302082b",
   "metadata": {},
   "source": [
    "# Решение 2."
   ]
  },
  {
   "cell_type": "markdown",
   "id": "c3c34422",
   "metadata": {},
   "source": [
    "Масштабирование зависимости для капиллярного давления в соответствии правилом Леверетта:\n",
    "$P_{cap} = 0.937 \\cdot \\cos{\\theta} \\frac{\\left(e^{-25S_w} - e^{-25} \\right)}{\\left(e^{-25S_{wo}} - e^{-25} \\right)}$."
   ]
  },
  {
   "cell_type": "markdown",
   "id": "9641b7e7",
   "metadata": {},
   "source": [
    "$ \\theta=120\\frac{h}{H},h∈[0,H]$"
   ]
  },
  {
   "cell_type": "markdown",
   "id": "dde33f08",
   "metadata": {},
   "source": [
    "Так как капиллярно-гравитационное равновесие характеризуется \n",
    "отсутствием потоков жидкости и равенством гравитационных сил, \n",
    "приводящих к разделению воды и нефти, с одной стороны, и капиллярных \n",
    "сил, подтягивающих смачивающую жидкость к кровле пласта, то с\n",
    "поправкой справедливо выражение из пункта 1:"
   ]
  },
  {
   "cell_type": "markdown",
   "id": "eeaeb287",
   "metadata": {},
   "source": [
    "Выразим $S_w$ и получим выражение"
   ]
  },
  {
   "cell_type": "markdown",
   "id": "2662e87d",
   "metadata": {},
   "source": [
    "\\begin{equation}\n",
    "S_w = -\\frac{1}{25} \\ln\\left(\\exp(-25) + \\frac{\\exp(-25 \\cdot S_w) - \\exp(-25)}{0.937 \\cdot \\cos(120\\frac{h}{H})}\\cdot (\\rho_w - \\rho_o)gh\\right)\n",
    "\\end{equation}"
   ]
  },
  {
   "cell_type": "code",
   "execution_count": 8,
   "id": "aae2c310",
   "metadata": {},
   "outputs": [
    {
     "data": {
      "text/plain": [
       "750"
      ]
     },
     "execution_count": 8,
     "metadata": {},
     "output_type": "execute_result"
    }
   ],
   "source": [
    "# поиск точки перехода 90 градусов\n",
    "k = 0\n",
    "for i in range(len(h)):\n",
    "    if 120*h[i]/H > 90:\n",
    "        k=i\n",
    "        break\n",
    "k"
   ]
  },
  {
   "cell_type": "code",
   "execution_count": 9,
   "id": "f47d22f7",
   "metadata": {},
   "outputs": [],
   "source": [
    "S_w2 = lambda h: -1/25 * math.log(math.exp(-25) + (math.exp(-25 * S_wo) - math.exp(-25))/0.937/np.cos(3.14/180*120*h/H)/10**5 * (dw - do) * g * h )"
   ]
  },
  {
   "cell_type": "code",
   "execution_count": 10,
   "id": "ea953944",
   "metadata": {},
   "outputs": [
    {
     "data": {
      "image/png": "[encoded data removed]",
      "text/plain": [
       "<Figure size 640x480 with 1 Axes>"
      ]
     },
     "metadata": {},
     "output_type": "display_data"
    }
   ],
   "source": [
    "plt.plot(h[:k], [S_w2(i) for i in h[:k]], 'b')\n",
    "plt.plot(h[k-1:], [S_w2(h[k-1]) for _ in h[k-1:]], 'b')\n",
    "\n",
    "\n",
    "plt.xlabel('h, м')\n",
    "plt.ylabel('$S_{w}$')\n",
    "plt.show()"
   ]
  },
  {
   "cell_type": "markdown",
   "id": "12a049a4",
   "metadata": {},
   "source": [
    "Зависимость начальной водонасыщенности от высоты над зеркалом \n",
    "свободной воды представлена на графике.\n",
    "- Если cos(𝜃) > 0, то порода гидрофильна (капиллярные силы препятствуют опусканию более тяжелой воды вниз, удерживая воду в  порах). То есть достигается капиллярно-гравитационное равновесие.\n",
    "- Если cos(𝜃) < 0, то порода гидрофобна (капиллярные силы не  препятствуют стеканию воды вниз, и в порах остается только неподвижная  (связанная) вода, на какой бы высоте от ЗСВ мы ни находились). Водонасыщенность равняется остаточной"
   ]
  },
  {
   "cell_type": "markdown",
   "id": "1b9ca357",
   "metadata": {},
   "source": [
    "# Условие 3."
   ]
  },
  {
   "cell_type": "markdown",
   "id": "5222f0a7",
   "metadata": {},
   "source": [
    "Будем считать, что зависимость для капиллярного давления в п. 1 справедлива при проницаемости k=5 миллидарси.\n",
    "\n",
    "Пусть далее k меняется по параболической зависимости, возрастая от 5 миллидарси на ЗСВ до 50 миллидарси на высоте H/2 , а затем снижаясь обратно до 5 миллидарси на высоте H (H из п.1). \n",
    "\n",
    "При этом остальные параметры от высоты не меняются, а зависимость для капиллярного давления масштабируется в соответствии с правилом Леверетта.\n",
    "\n",
    "Рассчитать зависимость начальной водонасыщенности от высоты над зеркалом свободной воды.\n"
   ]
  },
  {
   "cell_type": "markdown",
   "id": "b6dbeca2",
   "metadata": {},
   "source": [
    "# Решение 3."
   ]
  },
  {
   "cell_type": "markdown",
   "id": "73ee3d22",
   "metadata": {},
   "source": [
    "Зависимость $P_{cap}$ масштабируется в соответствии с правилом \n",
    "Леверетта:"
   ]
  },
  {
   "cell_type": "markdown",
   "id": "71f84991",
   "metadata": {},
   "source": [
    "$$P_{cap} = \\frac{\\sigma \\cos(\\theta)}{\\sqrt{\\frac{k}{m}}} J(S_w)$$"
   ]
  },
  {
   "cell_type": "markdown",
   "id": "0fab580c",
   "metadata": {},
   "source": [
    "$k_0 = 5 мД$\n"
   ]
  },
  {
   "cell_type": "markdown",
   "id": "6c4615a9",
   "metadata": {},
   "source": [
    "Масштабирование зависимости для капиллярного давления в соответствии правилом Леверетта с учётом того, что зависимость для капиллярного давления в п. 1 справедлива при проницаемости k=5 миллидарси\n",
    "$$ P_{cap} = \\frac{0.937\\sqrt{5}}{\\sqrt{k}} \\cdot \\frac{\\left(e^{-25S_w} - e^{-25} \\right)}{\\left(e^{-25S_{wo}} - e^{-25} \\right)}. $$"
   ]
  },
  {
   "cell_type": "markdown",
   "id": "52a90d55",
   "metadata": {},
   "source": [
    "Пусть далее k меняется по параболической зависимости:\n",
    "$ k = \\alpha\\cdot h^2 + \\beta\\cdot h + \\gamma$"
   ]
  },
  {
   "cell_type": "markdown",
   "id": "978aee29",
   "metadata": {},
   "source": [
    "Найдём коэффициенты:"
   ]
  },
  {
   "cell_type": "code",
   "execution_count": 11,
   "id": "431e6c43",
   "metadata": {},
   "outputs": [
    {
     "name": "stdout",
     "output_type": "stream",
     "text": [
      "Коэффициенты квадратичного полинома: a = -0.17757173886549524, b = 5.653575240128068, c = 5.0\n"
     ]
    }
   ],
   "source": [
    "def find_quadratic_coefficients(x_points, y_points):\n",
    "    X = np.array([[x**2, x, 1] for x in x_points])\n",
    "    Y = np.array(y_points)\n",
    "    coefficients = np.linalg.solve(X, Y)\n",
    "    return coefficients\n",
    "\n",
    "x_points = [0, H/2, H]\n",
    "y_points = [5, 50, 5]\n",
    "a, b, c = find_quadratic_coefficients(x_points, y_points)\n",
    "\n",
    "print(f\"Коэффициенты квадратичного полинома: a = {a}, b = {b}, c = {c}\")"
   ]
  },
  {
   "cell_type": "markdown",
   "id": "fc39ab63",
   "metadata": {},
   "source": [
    "$$ k = -0.178 h^2 + 5.654 h + 5 $$"
   ]
  },
  {
   "cell_type": "code",
   "execution_count": 12,
   "id": "40eed6fc",
   "metadata": {},
   "outputs": [],
   "source": [
    "k = lambda h: a*h**2 + b*h + c"
   ]
  },
  {
   "cell_type": "code",
   "execution_count": 14,
   "id": "251f2cae",
   "metadata": {},
   "outputs": [],
   "source": [
    "S_w3 = lambda h: -1/25 * math.log(math.exp(-25) + (math.exp(-25 * S_wo) - math.exp(-25))/0.937/10**5 * (dw - do) * g * h * (k(h)/5)**0.5 )  "
   ]
  },
  {
   "cell_type": "code",
   "execution_count": 15,
   "id": "c28fe393",
   "metadata": {},
   "outputs": [
    {
     "data": {
      "image/png": "[encoded data removed]",
      "text/plain": [
       "<Figure size 640x480 with 1 Axes>"
      ]
     },
     "metadata": {},
     "output_type": "display_data"
    }
   ],
   "source": [
    "plt.plot(h, [S_w3(i) for i in h], 'b')\n",
    "# plt.plot([S_w3(i) for i in h], h,'b')\n",
    "\n",
    "\n",
    "plt.xlabel('h, м')\n",
    "plt.ylabel('$S_{w}$')\n",
    "plt.show()"
   ]
  },
  {
   "cell_type": "markdown",
   "id": "3bca7bbf",
   "metadata": {},
   "source": [
    "Зависимость начальной водонасыщенности от высоты над зеркалом \n",
    "свободной воды представлена на графике. Водонасыщенность снижается\n",
    "в том случае, когда увеличивается проницаемость, то есть порода \n",
    "пропускает больше флюида. Но при достижении проницаемости 5 мД\n",
    "водонасыщенность будет равняться остаточной."
   ]
  },
  {
   "cell_type": "code",
   "execution_count": null,
   "id": "bfaa8f22",
   "metadata": {},
   "outputs": [],
   "source": []
  }
 ],
 "metadata": {
  "kernelspec": {
   "display_name": "Python 3 (ipykernel)",
   "language": "python",
   "name": "python3"
  },
  "language_info": {
   "codemirror_mode": {
    "name": "ipython",
    "version": 3
   },
   "file_extension": ".py",
   "mimetype": "text/x-python",
   "name": "python",
   "nbconvert_exporter": "python",
   "pygments_lexer": "ipython3",
   "version": "3.11.4"
  }
 },
 "nbformat": 4,
 "nbformat_minor": 5
}
