{
 "cells": [
  {
   "cell_type": "code",
   "execution_count": 379,
   "id": "64298fda-f543-40a4-94c9-541f3946f1b0",
   "metadata": {},
   "outputs": [],
   "source": [
    "import scipy.stats as stats\n",
    "import pandas as pd"
   ]
  },
  {
   "cell_type": "markdown",
   "id": "a01a39c8-7fd1-4cc0-b5f6-f4ff9859a270",
   "metadata": {},
   "source": [
    "# Задание 1"
   ]
  },
  {
   "cell_type": "code",
   "execution_count": 401,
   "id": "c31c3337-f7c2-4e4c-9e95-1e96d0ce0db8",
   "metadata": {},
   "outputs": [],
   "source": [
    "df_file = pd.read_excel('Downloads/ls_variants.xls', sheet_name='вар. 3')"
   ]
  },
  {
   "cell_type": "code",
   "execution_count": null,
   "id": "4ddbb778-87fd-4f58-a2de-2bd5b9c4cad9",
   "metadata": {},
   "outputs": [],
   "source": []
  },
  {
   "cell_type": "code",
   "execution_count": 381,
   "id": "b50a259d-8c08-410e-9205-d31fb9fe6ac9",
   "metadata": {},
   "outputs": [],
   "source": [
    "data = [[100,200,300,400,500,600],[1,2,3,4,5,6], [1, 1, 1, 1, 1, 1], [10, 20, 30, 40, 50, 60],[123,653,765,8542,1123,1], [11,11111,312,-432,0,0]]\n",
    "\n",
    "df = pd.DataFrame(data).T\n",
    "df.columns = [\"Y\", \"X1\", \"X2\", \"X3\", \"X4\", 'X5']\n"
   ]
  },
  {
   "cell_type": "code",
   "execution_count": 382,
   "id": "93f79dc3-78b9-421f-8d13-3a603da232b4",
   "metadata": {},
   "outputs": [
    {
     "data": {
      "text/html": [
       "<div>\n",
       "<style scoped>\n",
       "    .dataframe tbody tr th:only-of-type {\n",
       "        vertical-align: middle;\n",
       "    }\n",
       "\n",
       "    .dataframe tbody tr th {\n",
       "        vertical-align: top;\n",
       "    }\n",
       "\n",
       "    .dataframe thead th {\n",
       "        text-align: right;\n",
       "    }\n",
       "</style>\n",
       "<table border=\"1\" class=\"dataframe\">\n",
       "  <thead>\n",
       "    <tr style=\"text-align: right;\">\n",
       "      <th></th>\n",
       "      <th>Y</th>\n",
       "      <th>X1</th>\n",
       "      <th>X2</th>\n",
       "      <th>X3</th>\n",
       "      <th>X4</th>\n",
       "      <th>X5</th>\n",
       "    </tr>\n",
       "  </thead>\n",
       "  <tbody>\n",
       "    <tr>\n",
       "      <th>0</th>\n",
       "      <td>100</td>\n",
       "      <td>1</td>\n",
       "      <td>1</td>\n",
       "      <td>10</td>\n",
       "      <td>123</td>\n",
       "      <td>11</td>\n",
       "    </tr>\n",
       "    <tr>\n",
       "      <th>1</th>\n",
       "      <td>200</td>\n",
       "      <td>2</td>\n",
       "      <td>1</td>\n",
       "      <td>20</td>\n",
       "      <td>653</td>\n",
       "      <td>11111</td>\n",
       "    </tr>\n",
       "    <tr>\n",
       "      <th>2</th>\n",
       "      <td>300</td>\n",
       "      <td>3</td>\n",
       "      <td>1</td>\n",
       "      <td>30</td>\n",
       "      <td>765</td>\n",
       "      <td>312</td>\n",
       "    </tr>\n",
       "    <tr>\n",
       "      <th>3</th>\n",
       "      <td>400</td>\n",
       "      <td>4</td>\n",
       "      <td>1</td>\n",
       "      <td>40</td>\n",
       "      <td>8542</td>\n",
       "      <td>-432</td>\n",
       "    </tr>\n",
       "    <tr>\n",
       "      <th>4</th>\n",
       "      <td>500</td>\n",
       "      <td>5</td>\n",
       "      <td>1</td>\n",
       "      <td>50</td>\n",
       "      <td>1123</td>\n",
       "      <td>0</td>\n",
       "    </tr>\n",
       "    <tr>\n",
       "      <th>5</th>\n",
       "      <td>600</td>\n",
       "      <td>6</td>\n",
       "      <td>1</td>\n",
       "      <td>60</td>\n",
       "      <td>1</td>\n",
       "      <td>0</td>\n",
       "    </tr>\n",
       "  </tbody>\n",
       "</table>\n",
       "</div>"
      ],
      "text/plain": [
       "     Y  X1  X2  X3    X4     X5\n",
       "0  100   1   1  10   123     11\n",
       "1  200   2   1  20   653  11111\n",
       "2  300   3   1  30   765    312\n",
       "3  400   4   1  40  8542   -432\n",
       "4  500   5   1  50  1123      0\n",
       "5  600   6   1  60     1      0"
      ]
     },
     "execution_count": 382,
     "metadata": {},
     "output_type": "execute_result"
    }
   ],
   "source": [
    "df"
   ]
  },
  {
   "cell_type": "code",
   "execution_count": 383,
   "id": "73c6a10c-59cb-433b-95d6-92abadd59d10",
   "metadata": {},
   "outputs": [],
   "source": [
    "import numpy as np\n",
    "from scipy.stats import f\n",
    "\n",
    "def fisher_test(df):\n",
    "    \"\"\"\n",
    "    Функция, которая проверяет гипотезу о значимости группы факторов на отклик по критерию Фишера\n",
    "    \n",
    "    :param df: датафрейм с откликом в первом столбце, а остальные столбцы - признаки\n",
    "    \n",
    "    :return: p-value и результат теста\n",
    "    \"\"\"\n",
    "    \n",
    "    # Количество признаков\n",
    "    k = df.shape[1] - 1\n",
    "    \n",
    "    # Размер выборки\n",
    "    n = df.shape[0]\n",
    "    \n",
    "    # Среднее значение для каждого признака\n",
    "    means = [np.mean(df.iloc[:, i+1]) for i in range(k)]\n",
    "    \n",
    "    # Среднее значение по всем признакам\n",
    "    mean_all = np.mean(means)\n",
    "    \n",
    "    # Сумма квадратов отклонений внутри группы\n",
    "    ssw = sum([np.sum((df.iloc[:, i+1] - means[i])**2) for i in range(k)])\n",
    "    \n",
    "    # Сумма квадратов отклонений между группами\n",
    "    ssb = sum([n * (means[i] - mean_all)**2 for i in range(k)])\n",
    "    \n",
    "    # Среднеквадратическое отклонение внутри группы\n",
    "    mse = ssw / (n - k - 1)\n",
    "    \n",
    "    # Среднеквадратическое отклонение между группами\n",
    "    msb = ssb / (k)\n",
    "    \n",
    "    # Статистика критерия Фишера\n",
    "    f_stat = msb / mse\n",
    "    \n",
    "    # Вычисление p-value\n",
    "    p_value = 1 - f.cdf(f_stat, k, n - k - 1)\n",
    "    \n",
    "    # Вывод результата теста\n",
    "    if p_value < 0.05:\n",
    "        result = \"Группа факторов значима\"\n",
    "    else:\n",
    "        result = \"Группа факторов не значима\"\n",
    "        \n",
    "    return p_value, result"
   ]
  },
  {
   "cell_type": "code",
   "execution_count": 384,
   "id": "a3c5fc2e-e68b-441d-b24c-3dff8cb8a1ae",
   "metadata": {},
   "outputs": [],
   "source": [
    "from scipy.stats import ttest_ind\n",
    "import pandas as pd\n",
    "\n",
    "# реализует проверку каждого фактора по отдельности, чтобы выбрать группу не значимых факторов \n",
    "# и перейти к совокупной их проверке по фишеру\n",
    "def t_test(df):\n",
    "    col_names = df.columns.values.tolist()\n",
    "    result = []\n",
    "    for col in col_names[1:]:\n",
    "        sample1 = df[col_names[0]]\n",
    "        sample2 = df[col]\n",
    "        t_stat, p_value = ttest_ind(sample1, sample2)\n",
    "        print(f'{col}: ', 'statistic=',t_stat, 'pvalue=',p_value)\n",
    "        if p_value > 0.1:\n",
    "            result.append(col)\n",
    "    if len(result)>0:\n",
    "        print('незначимые факторы:')\n",
    "        print(result)\n",
    "    if len(result) == 0:\n",
    "        print('нет незначимых факторов')\n",
    "    return result # выводи названия столбцов, которые содержат незначимые факторы"
   ]
  },
  {
   "cell_type": "code",
   "execution_count": 385,
   "id": "e9ac9030-c4db-42e3-a087-9b0830d76420",
   "metadata": {},
   "outputs": [
    {
     "data": {
      "text/html": [
       "<div>\n",
       "<style scoped>\n",
       "    .dataframe tbody tr th:only-of-type {\n",
       "        vertical-align: middle;\n",
       "    }\n",
       "\n",
       "    .dataframe tbody tr th {\n",
       "        vertical-align: top;\n",
       "    }\n",
       "\n",
       "    .dataframe thead th {\n",
       "        text-align: right;\n",
       "    }\n",
       "</style>\n",
       "<table border=\"1\" class=\"dataframe\">\n",
       "  <thead>\n",
       "    <tr style=\"text-align: right;\">\n",
       "      <th></th>\n",
       "      <th>Y</th>\n",
       "      <th>X1</th>\n",
       "      <th>X2</th>\n",
       "      <th>X3</th>\n",
       "      <th>X4</th>\n",
       "      <th>X5</th>\n",
       "    </tr>\n",
       "  </thead>\n",
       "  <tbody>\n",
       "    <tr>\n",
       "      <th>0</th>\n",
       "      <td>100</td>\n",
       "      <td>1</td>\n",
       "      <td>1</td>\n",
       "      <td>10</td>\n",
       "      <td>123</td>\n",
       "      <td>11</td>\n",
       "    </tr>\n",
       "    <tr>\n",
       "      <th>1</th>\n",
       "      <td>200</td>\n",
       "      <td>2</td>\n",
       "      <td>1</td>\n",
       "      <td>20</td>\n",
       "      <td>653</td>\n",
       "      <td>11111</td>\n",
       "    </tr>\n",
       "    <tr>\n",
       "      <th>2</th>\n",
       "      <td>300</td>\n",
       "      <td>3</td>\n",
       "      <td>1</td>\n",
       "      <td>30</td>\n",
       "      <td>765</td>\n",
       "      <td>312</td>\n",
       "    </tr>\n",
       "    <tr>\n",
       "      <th>3</th>\n",
       "      <td>400</td>\n",
       "      <td>4</td>\n",
       "      <td>1</td>\n",
       "      <td>40</td>\n",
       "      <td>8542</td>\n",
       "      <td>-432</td>\n",
       "    </tr>\n",
       "    <tr>\n",
       "      <th>4</th>\n",
       "      <td>500</td>\n",
       "      <td>5</td>\n",
       "      <td>1</td>\n",
       "      <td>50</td>\n",
       "      <td>1123</td>\n",
       "      <td>0</td>\n",
       "    </tr>\n",
       "    <tr>\n",
       "      <th>5</th>\n",
       "      <td>600</td>\n",
       "      <td>6</td>\n",
       "      <td>1</td>\n",
       "      <td>60</td>\n",
       "      <td>1</td>\n",
       "      <td>0</td>\n",
       "    </tr>\n",
       "  </tbody>\n",
       "</table>\n",
       "</div>"
      ],
      "text/plain": [
       "     Y  X1  X2  X3    X4     X5\n",
       "0  100   1   1  10   123     11\n",
       "1  200   2   1  20   653  11111\n",
       "2  300   3   1  30   765    312\n",
       "3  400   4   1  40  8542   -432\n",
       "4  500   5   1  50  1123      0\n",
       "5  600   6   1  60     1      0"
      ]
     },
     "execution_count": 385,
     "metadata": {},
     "output_type": "execute_result"
    }
   ],
   "source": [
    "df"
   ]
  },
  {
   "cell_type": "code",
   "execution_count": 386,
   "id": "e98705ee-b320-41fc-bf46-050aa33dba86",
   "metadata": {},
   "outputs": [
    {
     "name": "stdout",
     "output_type": "stream",
     "text": [
      "X1:  statistic= 4.536523117520776 pvalue= 0.0010804758100858819\n",
      "X2:  statistic= 4.56948262154168 pvalue= 0.0010270741624738174\n",
      "X3:  statistic= 4.103849919090103 pvalue= 0.002131410516842656\n",
      "X4:  statistic= -1.1261675333203314 pvalue= 0.2863946906100941\n",
      "X5:  statistic= -0.7978570400437252 pvalue= 0.44348706275554983\n",
      "незначимые факторы:\n",
      "['X4', 'X5']\n"
     ]
    }
   ],
   "source": [
    "res = t_test(df) # применяем тест стьюдента для каждого признака\n",
    "# получили имена не значимых признаков"
   ]
  },
  {
   "cell_type": "code",
   "execution_count": 387,
   "id": "4096dacd-6bf2-4a92-b32f-30586f4277dc",
   "metadata": {},
   "outputs": [
    {
     "name": "stdout",
     "output_type": "stream",
     "text": [
      "y:  statistic= 72.19750867981027 pvalue= 0.0\n",
      "нет незначимых факторов\n"
     ]
    }
   ],
   "source": [
    "_=t_test(df_file) # пробую специально запустить на значимых факторах"
   ]
  },
  {
   "cell_type": "code",
   "execution_count": 388,
   "id": "8356b5ac-3a0e-4ab7-b1c1-cad7c9893964",
   "metadata": {},
   "outputs": [
    {
     "data": {
      "text/html": [
       "<div>\n",
       "<style scoped>\n",
       "    .dataframe tbody tr th:only-of-type {\n",
       "        vertical-align: middle;\n",
       "    }\n",
       "\n",
       "    .dataframe tbody tr th {\n",
       "        vertical-align: top;\n",
       "    }\n",
       "\n",
       "    .dataframe thead th {\n",
       "        text-align: right;\n",
       "    }\n",
       "</style>\n",
       "<table border=\"1\" class=\"dataframe\">\n",
       "  <thead>\n",
       "    <tr style=\"text-align: right;\">\n",
       "      <th></th>\n",
       "      <th>Y</th>\n",
       "      <th>X4</th>\n",
       "      <th>X5</th>\n",
       "    </tr>\n",
       "  </thead>\n",
       "  <tbody>\n",
       "    <tr>\n",
       "      <th>0</th>\n",
       "      <td>100</td>\n",
       "      <td>123</td>\n",
       "      <td>11</td>\n",
       "    </tr>\n",
       "    <tr>\n",
       "      <th>1</th>\n",
       "      <td>200</td>\n",
       "      <td>653</td>\n",
       "      <td>11111</td>\n",
       "    </tr>\n",
       "    <tr>\n",
       "      <th>2</th>\n",
       "      <td>300</td>\n",
       "      <td>765</td>\n",
       "      <td>312</td>\n",
       "    </tr>\n",
       "    <tr>\n",
       "      <th>3</th>\n",
       "      <td>400</td>\n",
       "      <td>8542</td>\n",
       "      <td>-432</td>\n",
       "    </tr>\n",
       "    <tr>\n",
       "      <th>4</th>\n",
       "      <td>500</td>\n",
       "      <td>1123</td>\n",
       "      <td>0</td>\n",
       "    </tr>\n",
       "    <tr>\n",
       "      <th>5</th>\n",
       "      <td>600</td>\n",
       "      <td>1</td>\n",
       "      <td>0</td>\n",
       "    </tr>\n",
       "  </tbody>\n",
       "</table>\n",
       "</div>"
      ],
      "text/plain": [
       "     Y    X4     X5\n",
       "0  100   123     11\n",
       "1  200   653  11111\n",
       "2  300   765    312\n",
       "3  400  8542   -432\n",
       "4  500  1123      0\n",
       "5  600     1      0"
      ]
     },
     "execution_count": 388,
     "metadata": {},
     "output_type": "execute_result"
    }
   ],
   "source": [
    "# оставляем только отклик и незначимые факторы\n",
    "target = df.columns.values.tolist()[0]\n",
    "res.reverse()\n",
    "res.append(target)\n",
    "res.reverse()\n",
    "df1 = df[res]\n",
    "df1"
   ]
  },
  {
   "cell_type": "code",
   "execution_count": 389,
   "id": "39815643-9695-47a9-995d-425047a74e94",
   "metadata": {},
   "outputs": [
    {
     "data": {
      "text/plain": [
       "(0.9999667291334603, 'Группа факторов не значима')"
      ]
     },
     "execution_count": 389,
     "metadata": {},
     "output_type": "execute_result"
    }
   ],
   "source": [
    "fisher_test(df1)"
   ]
  },
  {
   "cell_type": "markdown",
   "id": "8ef7b05c-c04d-4b3c-87b3-76b9eaa9bae2",
   "metadata": {},
   "source": [
    "# Задание 2"
   ]
  },
  {
   "cell_type": "code",
   "execution_count": 406,
   "id": "86c7b304-f187-452f-a2fd-659ba4fc1698",
   "metadata": {},
   "outputs": [],
   "source": [
    "import numpy as np\n",
    "import math\n",
    "import matplotlib.pyplot as plt\n",
    "\n",
    "def model(x, y):# define the design matrix X and response variable y\n",
    "    X = np.array(x)\n",
    "    y = np.array(y)\n",
    "\n",
    "    # calculate the least squares estimates for beta\n",
    "    XtX = X.T @ X\n",
    "    Xty = X.T @ y\n",
    "    beta_hat = np.linalg.solve(XtX, Xty)\n",
    "\n",
    "    return beta_hat\n"
   ]
  },
  {
   "cell_type": "code",
   "execution_count": 407,
   "id": "2e1e8240-206e-4ebf-867d-6fe80b952d9a",
   "metadata": {},
   "outputs": [],
   "source": [
    "def create_dataframe(x,y):\n",
    "    # create list of column names\n",
    "    col_names = ['X' + str(i+1) for i in range(len(x[0]))]\n",
    "\n",
    "    # create dataframe\n",
    "    df = pd.DataFrame(x, columns=col_names)\n",
    "    df.insert(0, 'Y', y)\n",
    "\n",
    "    return df"
   ]
  },
  {
   "cell_type": "code",
   "execution_count": 408,
   "id": "b7422319-d035-43c6-b791-c61504db5213",
   "metadata": {},
   "outputs": [],
   "source": [
    "def multiply_lists(matrix, vector):\n",
    "    result = []\n",
    "    for row in matrix:\n",
    "        row_result = 0\n",
    "        for i in range(len(row)):\n",
    "            row_result += row[i] * vector[i]\n",
    "        result.append(row_result)\n",
    "    return result"
   ]
  },
  {
   "cell_type": "code",
   "execution_count": 409,
   "id": "d4a23b8a-73b3-4eae-ad08-996bb39d5e56",
   "metadata": {},
   "outputs": [
    {
     "data": {
      "text/html": [
       "<div>\n",
       "<style scoped>\n",
       "    .dataframe tbody tr th:only-of-type {\n",
       "        vertical-align: middle;\n",
       "    }\n",
       "\n",
       "    .dataframe tbody tr th {\n",
       "        vertical-align: top;\n",
       "    }\n",
       "\n",
       "    .dataframe thead th {\n",
       "        text-align: right;\n",
       "    }\n",
       "</style>\n",
       "<table border=\"1\" class=\"dataframe\">\n",
       "  <thead>\n",
       "    <tr style=\"text-align: right;\">\n",
       "      <th></th>\n",
       "      <th>x</th>\n",
       "      <th>y</th>\n",
       "    </tr>\n",
       "  </thead>\n",
       "  <tbody>\n",
       "    <tr>\n",
       "      <th>0</th>\n",
       "      <td>0.048526</td>\n",
       "      <td>-9.258041</td>\n",
       "    </tr>\n",
       "    <tr>\n",
       "      <th>1</th>\n",
       "      <td>0.049030</td>\n",
       "      <td>-9.603755</td>\n",
       "    </tr>\n",
       "    <tr>\n",
       "      <th>2</th>\n",
       "      <td>0.049535</td>\n",
       "      <td>-9.379106</td>\n",
       "    </tr>\n",
       "    <tr>\n",
       "      <th>3</th>\n",
       "      <td>0.050039</td>\n",
       "      <td>-9.501397</td>\n",
       "    </tr>\n",
       "    <tr>\n",
       "      <th>4</th>\n",
       "      <td>0.050543</td>\n",
       "      <td>-9.307051</td>\n",
       "    </tr>\n",
       "    <tr>\n",
       "      <th>...</th>\n",
       "      <td>...</td>\n",
       "      <td>...</td>\n",
       "    </tr>\n",
       "    <tr>\n",
       "      <th>1059</th>\n",
       "      <td>0.582485</td>\n",
       "      <td>-2.511710</td>\n",
       "    </tr>\n",
       "    <tr>\n",
       "      <th>1060</th>\n",
       "      <td>0.582989</td>\n",
       "      <td>-2.650733</td>\n",
       "    </tr>\n",
       "    <tr>\n",
       "      <th>1061</th>\n",
       "      <td>0.583494</td>\n",
       "      <td>-2.708039</td>\n",
       "    </tr>\n",
       "    <tr>\n",
       "      <th>1062</th>\n",
       "      <td>0.583998</td>\n",
       "      <td>-2.766612</td>\n",
       "    </tr>\n",
       "    <tr>\n",
       "      <th>1063</th>\n",
       "      <td>0.584502</td>\n",
       "      <td>-2.797859</td>\n",
       "    </tr>\n",
       "  </tbody>\n",
       "</table>\n",
       "<p>1064 rows × 2 columns</p>\n",
       "</div>"
      ],
      "text/plain": [
       "             x         y\n",
       "0     0.048526 -9.258041\n",
       "1     0.049030 -9.603755\n",
       "2     0.049535 -9.379106\n",
       "3     0.050039 -9.501397\n",
       "4     0.050543 -9.307051\n",
       "...        ...       ...\n",
       "1059  0.582485 -2.511710\n",
       "1060  0.582989 -2.650733\n",
       "1061  0.583494 -2.708039\n",
       "1062  0.583998 -2.766612\n",
       "1063  0.584502 -2.797859\n",
       "\n",
       "[1064 rows x 2 columns]"
      ]
     },
     "execution_count": 409,
     "metadata": {},
     "output_type": "execute_result"
    }
   ],
   "source": [
    "df_file"
   ]
  },
  {
   "cell_type": "code",
   "execution_count": 410,
   "id": "9eafb638-6986-46d5-8791-02afe809ed5b",
   "metadata": {},
   "outputs": [],
   "source": [
    "# первая модель"
   ]
  },
  {
   "cell_type": "code",
   "execution_count": 473,
   "id": "344310c9-0dc5-43e5-b76d-b89cc9bc1b7b",
   "metadata": {},
   "outputs": [
    {
     "data": {
      "text/html": [
       "<div>\n",
       "<style scoped>\n",
       "    .dataframe tbody tr th:only-of-type {\n",
       "        vertical-align: middle;\n",
       "    }\n",
       "\n",
       "    .dataframe tbody tr th {\n",
       "        vertical-align: top;\n",
       "    }\n",
       "\n",
       "    .dataframe thead th {\n",
       "        text-align: right;\n",
       "    }\n",
       "</style>\n",
       "<table border=\"1\" class=\"dataframe\">\n",
       "  <thead>\n",
       "    <tr style=\"text-align: right;\">\n",
       "      <th></th>\n",
       "      <th>Y</th>\n",
       "      <th>X1</th>\n",
       "      <th>X2</th>\n",
       "      <th>X3</th>\n",
       "      <th>X4</th>\n",
       "      <th>X5</th>\n",
       "    </tr>\n",
       "  </thead>\n",
       "  <tbody>\n",
       "    <tr>\n",
       "      <th>0</th>\n",
       "      <td>100</td>\n",
       "      <td>1</td>\n",
       "      <td>1</td>\n",
       "      <td>10</td>\n",
       "      <td>123</td>\n",
       "      <td>11</td>\n",
       "    </tr>\n",
       "    <tr>\n",
       "      <th>1</th>\n",
       "      <td>200</td>\n",
       "      <td>2</td>\n",
       "      <td>1</td>\n",
       "      <td>20</td>\n",
       "      <td>653</td>\n",
       "      <td>11111</td>\n",
       "    </tr>\n",
       "    <tr>\n",
       "      <th>2</th>\n",
       "      <td>300</td>\n",
       "      <td>3</td>\n",
       "      <td>1</td>\n",
       "      <td>30</td>\n",
       "      <td>765</td>\n",
       "      <td>312</td>\n",
       "    </tr>\n",
       "    <tr>\n",
       "      <th>3</th>\n",
       "      <td>400</td>\n",
       "      <td>4</td>\n",
       "      <td>1</td>\n",
       "      <td>40</td>\n",
       "      <td>8542</td>\n",
       "      <td>-432</td>\n",
       "    </tr>\n",
       "    <tr>\n",
       "      <th>4</th>\n",
       "      <td>500</td>\n",
       "      <td>5</td>\n",
       "      <td>1</td>\n",
       "      <td>50</td>\n",
       "      <td>1123</td>\n",
       "      <td>0</td>\n",
       "    </tr>\n",
       "    <tr>\n",
       "      <th>5</th>\n",
       "      <td>600</td>\n",
       "      <td>6</td>\n",
       "      <td>1</td>\n",
       "      <td>60</td>\n",
       "      <td>1</td>\n",
       "      <td>0</td>\n",
       "    </tr>\n",
       "  </tbody>\n",
       "</table>\n",
       "</div>"
      ],
      "text/plain": [
       "     Y  X1  X2  X3    X4     X5\n",
       "0  100   1   1  10   123     11\n",
       "1  200   2   1  20   653  11111\n",
       "2  300   3   1  30   765    312\n",
       "3  400   4   1  40  8542   -432\n",
       "4  500   5   1  50  1123      0\n",
       "5  600   6   1  60     1      0"
      ]
     },
     "execution_count": 473,
     "metadata": {},
     "output_type": "execute_result"
    }
   ],
   "source": [
    "df"
   ]
  },
  {
   "cell_type": "code",
   "execution_count": 1013,
   "id": "77b1b09c-f219-48a9-9921-c1d88f0df09e",
   "metadata": {},
   "outputs": [],
   "source": [
    "data = [[100,200,300,400,500,600, 700, 800, 900, 1000, 1100, 1200, 1300, 1400, 1500 ],[1.1,2.1,2.9,3.8,5.2,6, 7, 8.1, 9.3, 9.9, 11.2, 12.1, 12.9, 14, 15], [1, 2, 1, 4, 8, 6, 7, 8, 0, 10], [10, 20, 30, 40, 50, 60, 70, 80, 90, 100, 110, 120, 130, 140, 150],[123,653,765,8542,1123,1, 12, 321, 666, 555, 1, 1, 1, 1, 1], [11,11111,312,-432,0,0, 0, 12, 321, 5,1,1,1,1,1]]\n",
    "df = pd.DataFrame(data).T\n",
    "df.columns = [\"Y\", \"X1\", \"X2\", \"X3\", \"X4\", 'X5']"
   ]
  },
  {
   "cell_type": "code",
   "execution_count": 1012,
   "id": "9bc5a372-2ab3-4a72-992e-249def8e3e7c",
   "metadata": {},
   "outputs": [],
   "source": [
    "# мой выдуманный пример\n",
    "original_list = df[['Y','X2']].X2.tolist() # replace \"...\" with the rest of the sequence\n",
    "x = [[x, (x-1)**44, math.cos(x), 1] for x in original_list]\n",
    "y = df[['Y','X5']].Y.tolist()\n",
    "# print(new_list)"
   ]
  },
  {
   "cell_type": "code",
   "execution_count": 555,
   "id": "17c4dfc7-cdc5-4384-9f94-83606f95419f",
   "metadata": {},
   "outputs": [],
   "source": [
    "# пример из файла\n",
    "original_list = df_file.x.tolist() # replace \"...\" with the rest of the sequence\n",
    "x = [[x, x**2, x**3, x**6, x**8, math.cos(177/x), math.sin(math.tan(math.exp(112*x))), math.log(1/(1+x)), 1] for x in original_list]\n",
    "y = df_file.y.tolist()\n",
    "# print(new_list)"
   ]
  },
  {
   "cell_type": "code",
   "execution_count": 946,
   "id": "d8e3934e-0143-4ce5-a78b-601f93bca206",
   "metadata": {},
   "outputs": [
    {
     "data": {
      "text/html": [
       "<div>\n",
       "<style scoped>\n",
       "    .dataframe tbody tr th:only-of-type {\n",
       "        vertical-align: middle;\n",
       "    }\n",
       "\n",
       "    .dataframe tbody tr th {\n",
       "        vertical-align: top;\n",
       "    }\n",
       "\n",
       "    .dataframe thead th {\n",
       "        text-align: right;\n",
       "    }\n",
       "</style>\n",
       "<table border=\"1\" class=\"dataframe\">\n",
       "  <thead>\n",
       "    <tr style=\"text-align: right;\">\n",
       "      <th></th>\n",
       "      <th>Y</th>\n",
       "      <th>X1</th>\n",
       "      <th>X2</th>\n",
       "      <th>X3</th>\n",
       "      <th>X4</th>\n",
       "    </tr>\n",
       "  </thead>\n",
       "  <tbody>\n",
       "    <tr>\n",
       "      <th>0</th>\n",
       "      <td>100.0</td>\n",
       "      <td>1.0</td>\n",
       "      <td>0.000000e+00</td>\n",
       "      <td>0.540302</td>\n",
       "      <td>1</td>\n",
       "    </tr>\n",
       "    <tr>\n",
       "      <th>1</th>\n",
       "      <td>200.0</td>\n",
       "      <td>2.0</td>\n",
       "      <td>1.000000e+00</td>\n",
       "      <td>-0.416147</td>\n",
       "      <td>1</td>\n",
       "    </tr>\n",
       "    <tr>\n",
       "      <th>2</th>\n",
       "      <td>300.0</td>\n",
       "      <td>1.0</td>\n",
       "      <td>0.000000e+00</td>\n",
       "      <td>0.540302</td>\n",
       "      <td>1</td>\n",
       "    </tr>\n",
       "    <tr>\n",
       "      <th>3</th>\n",
       "      <td>400.0</td>\n",
       "      <td>4.0</td>\n",
       "      <td>9.847709e+20</td>\n",
       "      <td>-0.653644</td>\n",
       "      <td>1</td>\n",
       "    </tr>\n",
       "    <tr>\n",
       "      <th>4</th>\n",
       "      <td>500.0</td>\n",
       "      <td>8.0</td>\n",
       "      <td>1.528670e+37</td>\n",
       "      <td>-0.145500</td>\n",
       "      <td>1</td>\n",
       "    </tr>\n",
       "    <tr>\n",
       "      <th>5</th>\n",
       "      <td>600.0</td>\n",
       "      <td>6.0</td>\n",
       "      <td>5.684342e+30</td>\n",
       "      <td>0.960170</td>\n",
       "      <td>1</td>\n",
       "    </tr>\n",
       "    <tr>\n",
       "      <th>6</th>\n",
       "      <td>700.0</td>\n",
       "      <td>7.0</td>\n",
       "      <td>1.732427e+34</td>\n",
       "      <td>0.753902</td>\n",
       "      <td>1</td>\n",
       "    </tr>\n",
       "    <tr>\n",
       "      <th>7</th>\n",
       "      <td>800.0</td>\n",
       "      <td>8.0</td>\n",
       "      <td>1.528670e+37</td>\n",
       "      <td>-0.145500</td>\n",
       "      <td>1</td>\n",
       "    </tr>\n",
       "    <tr>\n",
       "      <th>8</th>\n",
       "      <td>900.0</td>\n",
       "      <td>0.0</td>\n",
       "      <td>1.000000e+00</td>\n",
       "      <td>1.000000</td>\n",
       "      <td>1</td>\n",
       "    </tr>\n",
       "    <tr>\n",
       "      <th>9</th>\n",
       "      <td>1000.0</td>\n",
       "      <td>10.0</td>\n",
       "      <td>9.697737e+41</td>\n",
       "      <td>-0.839072</td>\n",
       "      <td>1</td>\n",
       "    </tr>\n",
       "  </tbody>\n",
       "</table>\n",
       "</div>"
      ],
      "text/plain": [
       "        Y    X1            X2        X3  X4\n",
       "0   100.0   1.0  0.000000e+00  0.540302   1\n",
       "1   200.0   2.0  1.000000e+00 -0.416147   1\n",
       "2   300.0   1.0  0.000000e+00  0.540302   1\n",
       "3   400.0   4.0  9.847709e+20 -0.653644   1\n",
       "4   500.0   8.0  1.528670e+37 -0.145500   1\n",
       "5   600.0   6.0  5.684342e+30  0.960170   1\n",
       "6   700.0   7.0  1.732427e+34  0.753902   1\n",
       "7   800.0   8.0  1.528670e+37 -0.145500   1\n",
       "8   900.0   0.0  1.000000e+00  1.000000   1\n",
       "9  1000.0  10.0  9.697737e+41 -0.839072   1"
      ]
     },
     "execution_count": 946,
     "metadata": {},
     "output_type": "execute_result"
    }
   ],
   "source": [
    "y_x_factors = create_dataframe(x, y)\n",
    "y_x_factors"
   ]
  },
  {
   "cell_type": "code",
   "execution_count": 947,
   "id": "f43b9b54-bcc2-442a-a4a6-e451d7ccf06c",
   "metadata": {},
   "outputs": [
    {
     "name": "stdout",
     "output_type": "stream",
     "text": [
      "[4.28207508e+01 4.89707373e-40 2.04657261e+02 2.68611390e+02]\n"
     ]
    }
   ],
   "source": [
    "coeffs = model(x,y)\n",
    "print(coeffs)"
   ]
  },
  {
   "cell_type": "code",
   "execution_count": 948,
   "id": "2549f29b-16ad-4a63-b151-9d9abbb1ee1e",
   "metadata": {},
   "outputs": [],
   "source": [
    "# multiply_lists(x, coeffs)"
   ]
  },
  {
   "cell_type": "code",
   "execution_count": 949,
   "id": "bae30d05-d849-4835-9441-38b09785b7a1",
   "metadata": {},
   "outputs": [
    {
     "data": {
      "text/plain": [
       "[<matplotlib.lines.Line2D at 0x7fe6a2425c40>]"
      ]
     },
     "execution_count": 949,
     "metadata": {},
     "output_type": "execute_result"
    },
    {
     "data": {
      "image/png": "[encoded data removed]",
      "text/plain": [
       "<Figure size 432x288 with 1 Axes>"
      ]
     },
     "metadata": {
      "needs_background": "light"
     },
     "output_type": "display_data"
    }
   ],
   "source": [
    "plt.plot(original_list, y)\n",
    "plt.plot(original_list, multiply_lists(x, coeffs))"
   ]
  },
  {
   "cell_type": "code",
   "execution_count": 950,
   "id": "308169f8-4e0f-49d0-a1bd-f530086a1c88",
   "metadata": {},
   "outputs": [
    {
     "name": "stdout",
     "output_type": "stream",
     "text": [
      "X1:  statistic= 5.695078937836861 pvalue= 2.1169248812883996e-05\n",
      "X2:  statistic= -1.000035049013249 pvalue= 0.3305484303239691\n",
      "X3:  statistic= 5.742882414463693 pvalue= 1.916232963773824e-05\n",
      "X4:  statistic= 5.734117987180687 pvalue= 1.9515065058141273e-05\n",
      "незначимые факторы:\n",
      "['X2']\n"
     ]
    },
    {
     "data": {
      "text/plain": [
       "['X2']"
      ]
     },
     "execution_count": 950,
     "metadata": {},
     "output_type": "execute_result"
    }
   ],
   "source": [
    "t_test(y_x_factors)"
   ]
  },
  {
   "cell_type": "markdown",
   "id": "307ca2ea-69fa-4253-a9b9-082cecfb88ef",
   "metadata": {},
   "source": [
    "# Задание 3"
   ]
  },
  {
   "cell_type": "code",
   "execution_count": 1044,
   "id": "3fe6b32e-7206-4793-9cc7-4d98c619f0d2",
   "metadata": {},
   "outputs": [],
   "source": [
    "from sklearn.metrics import mean_squared_error, r2_score\n",
    "\n",
    "def model_quality(y_true, y_pred):\n",
    "    \n",
    "    # Расчет дисперсии остатков\n",
    "    m = mean_squared_error(y_true, y_pred)\n",
    "    \n",
    "    # Расчет коэффициента детерминации\n",
    "    r2 = r2_score(y_true, y_pred)\n",
    "    \n",
    "    return m, r2\n"
   ]
  },
  {
   "cell_type": "code",
   "execution_count": 1014,
   "id": "2348a00d-bf5d-4293-b060-9d1d3404c0e6",
   "metadata": {},
   "outputs": [],
   "source": [
    "# мой выдуманный пример\n",
    "original_list = df[['Y','X1']].X1.tolist() # replace \"...\" with the rest of the sequence\n",
    "x = [[x, (x-1)/(x+4)**4, math.cos(x), math.exp(12*x),x**44, 1] for x in original_list]\n",
    "y = df[['Y','X5']].Y.tolist()\n",
    "# print(new_list)"
   ]
  },
  {
   "cell_type": "code",
   "execution_count": 1015,
   "id": "2ef4502a-8ea2-4735-9c3f-bae1925b9b48",
   "metadata": {},
   "outputs": [],
   "source": [
    "y_x_factors = create_dataframe(x, y)\n",
    "# y_x_factors"
   ]
  },
  {
   "cell_type": "code",
   "execution_count": 1016,
   "id": "70bf8ff0-5606-4e03-97f7-50b5cf3e77c9",
   "metadata": {},
   "outputs": [
    {
     "name": "stdout",
     "output_type": "stream",
     "text": [
      "[ 1.00623851e+02  2.58927343e+04  9.17641227e-01 -1.08594296e-76\n",
      "  3.03829318e-50 -1.97803995e+01]\n"
     ]
    }
   ],
   "source": [
    "coeffs = model(x,y)\n",
    "print(coeffs)"
   ]
  },
  {
   "cell_type": "code",
   "execution_count": 1017,
   "id": "35e1675e-aec8-497d-a0d0-5d56db4580d0",
   "metadata": {},
   "outputs": [
    {
     "data": {
      "text/plain": [
       "[<matplotlib.lines.Line2D at 0x7fe6ca9ab2e0>]"
      ]
     },
     "execution_count": 1017,
     "metadata": {},
     "output_type": "execute_result"
    },
    {
     "data": {
      "image/png": "[encoded data removed]",
      "text/plain": [
       "<Figure size 432x288 with 1 Axes>"
      ]
     },
     "metadata": {
      "needs_background": "light"
     },
     "output_type": "display_data"
    }
   ],
   "source": [
    "plt.plot(original_list, y)\n",
    "plt.plot(original_list, multiply_lists(x, coeffs))"
   ]
  },
  {
   "cell_type": "code",
   "execution_count": 1018,
   "id": "fbce6bd3-52c6-4945-9cbc-9cf46b23154e",
   "metadata": {},
   "outputs": [
    {
     "data": {
      "text/plain": [
       "(147.61810839417248, 0.9992091887050312)"
      ]
     },
     "execution_count": 1018,
     "metadata": {},
     "output_type": "execute_result"
    }
   ],
   "source": [
    "# до удаления\n",
    "model_quality(y,multiply_lists(x, coeffs)) #mse, r2"
   ]
  },
  {
   "cell_type": "code",
   "execution_count": 1019,
   "id": "a371a19d-9587-4938-a0b4-ab8f8f59cfd8",
   "metadata": {},
   "outputs": [
    {
     "name": "stdout",
     "output_type": "stream",
     "text": [
      "X1:  statistic= 6.858231571301561 pvalue= 1.879935195770899e-07\n",
      "X2:  statistic= 6.928199996332392 pvalue= 1.5667612071890649e-07\n",
      "X3:  statistic= 6.928388278118754 pvalue= 1.5659942668804234e-07\n",
      "X4:  statistic= -1.0000065830809572 pvalue= 0.3258715771082673\n",
      "X5:  statistic= -1.051942378973329 pvalue= 0.30182020783259333\n",
      "X6:  statistic= 6.919542976237665 pvalue= 1.6024399430779978e-07\n",
      "незначимые факторы:\n",
      "['X4', 'X5']\n"
     ]
    }
   ],
   "source": [
    "black_list = t_test(y_x_factors)"
   ]
  },
  {
   "cell_type": "code",
   "execution_count": 1020,
   "id": "035c6c58-efda-4fbc-88ed-89b357c25fb4",
   "metadata": {},
   "outputs": [
    {
     "data": {
      "text/html": [
       "<div>\n",
       "<style scoped>\n",
       "    .dataframe tbody tr th:only-of-type {\n",
       "        vertical-align: middle;\n",
       "    }\n",
       "\n",
       "    .dataframe tbody tr th {\n",
       "        vertical-align: top;\n",
       "    }\n",
       "\n",
       "    .dataframe thead th {\n",
       "        text-align: right;\n",
       "    }\n",
       "</style>\n",
       "<table border=\"1\" class=\"dataframe\">\n",
       "  <thead>\n",
       "    <tr style=\"text-align: right;\">\n",
       "      <th></th>\n",
       "      <th>Y</th>\n",
       "      <th>X4</th>\n",
       "      <th>X5</th>\n",
       "    </tr>\n",
       "  </thead>\n",
       "  <tbody>\n",
       "    <tr>\n",
       "      <th>0</th>\n",
       "      <td>100.0</td>\n",
       "      <td>5.403649e+05</td>\n",
       "      <td>6.626408e+01</td>\n",
       "    </tr>\n",
       "    <tr>\n",
       "      <th>1</th>\n",
       "      <td>200.0</td>\n",
       "      <td>8.794698e+10</td>\n",
       "      <td>1.505390e+14</td>\n",
       "    </tr>\n",
       "    <tr>\n",
       "      <th>2</th>\n",
       "      <td>300.0</td>\n",
       "      <td>1.298518e+15</td>\n",
       "      <td>2.215705e+20</td>\n",
       "    </tr>\n",
       "    <tr>\n",
       "      <th>3</th>\n",
       "      <td>400.0</td>\n",
       "      <td>6.365439e+19</td>\n",
       "      <td>3.239502e+25</td>\n",
       "    </tr>\n",
       "    <tr>\n",
       "      <th>4</th>\n",
       "      <td>500.0</td>\n",
       "      <td>1.258855e+27</td>\n",
       "      <td>3.192619e+31</td>\n",
       "    </tr>\n",
       "    <tr>\n",
       "      <th>5</th>\n",
       "      <td>600.0</td>\n",
       "      <td>1.858672e+31</td>\n",
       "      <td>1.732427e+34</td>\n",
       "    </tr>\n",
       "    <tr>\n",
       "      <th>6</th>\n",
       "      <td>700.0</td>\n",
       "      <td>3.025077e+36</td>\n",
       "      <td>1.528670e+37</td>\n",
       "    </tr>\n",
       "    <tr>\n",
       "      <th>7</th>\n",
       "      <td>800.0</td>\n",
       "      <td>1.634646e+42</td>\n",
       "      <td>9.404611e+39</td>\n",
       "    </tr>\n",
       "    <tr>\n",
       "      <th>8</th>\n",
       "      <td>900.0</td>\n",
       "      <td>2.932677e+48</td>\n",
       "      <td>4.104401e+42</td>\n",
       "    </tr>\n",
       "    <tr>\n",
       "      <th>9</th>\n",
       "      <td>1000.0</td>\n",
       "      <td>3.928117e+51</td>\n",
       "      <td>6.426116e+43</td>\n",
       "    </tr>\n",
       "    <tr>\n",
       "      <th>10</th>\n",
       "      <td>1100.0</td>\n",
       "      <td>2.339798e+58</td>\n",
       "      <td>1.464175e+46</td>\n",
       "    </tr>\n",
       "    <tr>\n",
       "      <th>11</th>\n",
       "      <td>1200.0</td>\n",
       "      <td>1.146988e+63</td>\n",
       "      <td>4.390928e+47</td>\n",
       "    </tr>\n",
       "    <tr>\n",
       "      <th>12</th>\n",
       "      <td>1300.0</td>\n",
       "      <td>1.693502e+67</td>\n",
       "      <td>7.344247e+48</td>\n",
       "    </tr>\n",
       "    <tr>\n",
       "      <th>13</th>\n",
       "      <td>1400.0</td>\n",
       "      <td>9.151093e+72</td>\n",
       "      <td>2.689265e+50</td>\n",
       "    </tr>\n",
       "    <tr>\n",
       "      <th>14</th>\n",
       "      <td>1500.0</td>\n",
       "      <td>1.489384e+78</td>\n",
       "      <td>5.597774e+51</td>\n",
       "    </tr>\n",
       "  </tbody>\n",
       "</table>\n",
       "</div>"
      ],
      "text/plain": [
       "         Y            X4            X5\n",
       "0    100.0  5.403649e+05  6.626408e+01\n",
       "1    200.0  8.794698e+10  1.505390e+14\n",
       "2    300.0  1.298518e+15  2.215705e+20\n",
       "3    400.0  6.365439e+19  3.239502e+25\n",
       "4    500.0  1.258855e+27  3.192619e+31\n",
       "5    600.0  1.858672e+31  1.732427e+34\n",
       "6    700.0  3.025077e+36  1.528670e+37\n",
       "7    800.0  1.634646e+42  9.404611e+39\n",
       "8    900.0  2.932677e+48  4.104401e+42\n",
       "9   1000.0  3.928117e+51  6.426116e+43\n",
       "10  1100.0  2.339798e+58  1.464175e+46\n",
       "11  1200.0  1.146988e+63  4.390928e+47\n",
       "12  1300.0  1.693502e+67  7.344247e+48\n",
       "13  1400.0  9.151093e+72  2.689265e+50\n",
       "14  1500.0  1.489384e+78  5.597774e+51"
      ]
     },
     "execution_count": 1020,
     "metadata": {},
     "output_type": "execute_result"
    }
   ],
   "source": [
    "# оставляем только отклик и незначимые факторы\n",
    "target = y_x_factors.columns.values.tolist()[0]\n",
    "black_list.reverse()\n",
    "black_list.append(target)\n",
    "black_list.reverse()\n",
    "df1 = y_x_factors[black_list]\n",
    "df1"
   ]
  },
  {
   "cell_type": "code",
   "execution_count": 1021,
   "id": "c5651b90-5190-4650-949a-69ebe15959bc",
   "metadata": {},
   "outputs": [
    {
     "data": {
      "text/plain": [
       "(0.8101380263677219, 'Группа факторов не значима')"
      ]
     },
     "execution_count": 1021,
     "metadata": {},
     "output_type": "execute_result"
    }
   ],
   "source": [
    "fisher_test(df1)"
   ]
  },
  {
   "cell_type": "code",
   "execution_count": 1022,
   "id": "58e3f02e-d534-4d11-b063-f9aede72f8d0",
   "metadata": {},
   "outputs": [],
   "source": [
    "# удаляем незначимые факторы"
   ]
  },
  {
   "cell_type": "code",
   "execution_count": 1023,
   "id": "c94e0c77-773d-4063-86c0-b31febff9ba5",
   "metadata": {},
   "outputs": [],
   "source": [
    "df1 = y_x_factors.drop(black_list, axis=1)"
   ]
  },
  {
   "cell_type": "code",
   "execution_count": 1024,
   "id": "436364a2-afc2-433a-b199-e6eba7288ad3",
   "metadata": {},
   "outputs": [
    {
     "data": {
      "text/html": [
       "<div>\n",
       "<style scoped>\n",
       "    .dataframe tbody tr th:only-of-type {\n",
       "        vertical-align: middle;\n",
       "    }\n",
       "\n",
       "    .dataframe tbody tr th {\n",
       "        vertical-align: top;\n",
       "    }\n",
       "\n",
       "    .dataframe thead th {\n",
       "        text-align: right;\n",
       "    }\n",
       "</style>\n",
       "<table border=\"1\" class=\"dataframe\">\n",
       "  <thead>\n",
       "    <tr style=\"text-align: right;\">\n",
       "      <th></th>\n",
       "      <th>X1</th>\n",
       "      <th>X2</th>\n",
       "      <th>X3</th>\n",
       "      <th>X6</th>\n",
       "    </tr>\n",
       "  </thead>\n",
       "  <tbody>\n",
       "    <tr>\n",
       "      <th>0</th>\n",
       "      <td>1.1</td>\n",
       "      <td>0.000148</td>\n",
       "      <td>0.453596</td>\n",
       "      <td>1</td>\n",
       "    </tr>\n",
       "    <tr>\n",
       "      <th>1</th>\n",
       "      <td>2.1</td>\n",
       "      <td>0.000794</td>\n",
       "      <td>-0.504846</td>\n",
       "      <td>1</td>\n",
       "    </tr>\n",
       "    <tr>\n",
       "      <th>2</th>\n",
       "      <td>2.9</td>\n",
       "      <td>0.000838</td>\n",
       "      <td>-0.970958</td>\n",
       "      <td>1</td>\n",
       "    </tr>\n",
       "    <tr>\n",
       "      <th>3</th>\n",
       "      <td>3.8</td>\n",
       "      <td>0.000756</td>\n",
       "      <td>-0.790968</td>\n",
       "      <td>1</td>\n",
       "    </tr>\n",
       "    <tr>\n",
       "      <th>4</th>\n",
       "      <td>5.2</td>\n",
       "      <td>0.000586</td>\n",
       "      <td>0.468517</td>\n",
       "      <td>1</td>\n",
       "    </tr>\n",
       "    <tr>\n",
       "      <th>5</th>\n",
       "      <td>6.0</td>\n",
       "      <td>0.000500</td>\n",
       "      <td>0.960170</td>\n",
       "      <td>1</td>\n",
       "    </tr>\n",
       "    <tr>\n",
       "      <th>6</th>\n",
       "      <td>7.0</td>\n",
       "      <td>0.000410</td>\n",
       "      <td>0.753902</td>\n",
       "      <td>1</td>\n",
       "    </tr>\n",
       "    <tr>\n",
       "      <th>7</th>\n",
       "      <td>8.1</td>\n",
       "      <td>0.000331</td>\n",
       "      <td>-0.243544</td>\n",
       "      <td>1</td>\n",
       "    </tr>\n",
       "    <tr>\n",
       "      <th>8</th>\n",
       "      <td>9.3</td>\n",
       "      <td>0.000265</td>\n",
       "      <td>-0.992225</td>\n",
       "      <td>1</td>\n",
       "    </tr>\n",
       "    <tr>\n",
       "      <th>9</th>\n",
       "      <td>9.9</td>\n",
       "      <td>0.000238</td>\n",
       "      <td>-0.889191</td>\n",
       "      <td>1</td>\n",
       "    </tr>\n",
       "    <tr>\n",
       "      <th>10</th>\n",
       "      <td>11.2</td>\n",
       "      <td>0.000191</td>\n",
       "      <td>0.203005</td>\n",
       "      <td>1</td>\n",
       "    </tr>\n",
       "    <tr>\n",
       "      <th>11</th>\n",
       "      <td>12.1</td>\n",
       "      <td>0.000165</td>\n",
       "      <td>0.893206</td>\n",
       "      <td>1</td>\n",
       "    </tr>\n",
       "    <tr>\n",
       "      <th>12</th>\n",
       "      <td>12.9</td>\n",
       "      <td>0.000146</td>\n",
       "      <td>0.944860</td>\n",
       "      <td>1</td>\n",
       "    </tr>\n",
       "    <tr>\n",
       "      <th>13</th>\n",
       "      <td>14.0</td>\n",
       "      <td>0.000124</td>\n",
       "      <td>0.136737</td>\n",
       "      <td>1</td>\n",
       "    </tr>\n",
       "    <tr>\n",
       "      <th>14</th>\n",
       "      <td>15.0</td>\n",
       "      <td>0.000107</td>\n",
       "      <td>-0.759688</td>\n",
       "      <td>1</td>\n",
       "    </tr>\n",
       "  </tbody>\n",
       "</table>\n",
       "</div>"
      ],
      "text/plain": [
       "      X1        X2        X3  X6\n",
       "0    1.1  0.000148  0.453596   1\n",
       "1    2.1  0.000794 -0.504846   1\n",
       "2    2.9  0.000838 -0.970958   1\n",
       "3    3.8  0.000756 -0.790968   1\n",
       "4    5.2  0.000586  0.468517   1\n",
       "5    6.0  0.000500  0.960170   1\n",
       "6    7.0  0.000410  0.753902   1\n",
       "7    8.1  0.000331 -0.243544   1\n",
       "8    9.3  0.000265 -0.992225   1\n",
       "9    9.9  0.000238 -0.889191   1\n",
       "10  11.2  0.000191  0.203005   1\n",
       "11  12.1  0.000165  0.893206   1\n",
       "12  12.9  0.000146  0.944860   1\n",
       "13  14.0  0.000124  0.136737   1\n",
       "14  15.0  0.000107 -0.759688   1"
      ]
     },
     "execution_count": 1024,
     "metadata": {},
     "output_type": "execute_result"
    }
   ],
   "source": [
    "df1"
   ]
  },
  {
   "cell_type": "code",
   "execution_count": 1025,
   "id": "cb015dc7-f12d-4888-b89d-28aa3d335be8",
   "metadata": {},
   "outputs": [
    {
     "data": {
      "text/plain": [
       "(0.02319485712583902, 'Группа факторов значима')"
      ]
     },
     "execution_count": 1025,
     "metadata": {},
     "output_type": "execute_result"
    }
   ],
   "source": [
    "fisher_test(df1)"
   ]
  },
  {
   "cell_type": "code",
   "execution_count": null,
   "id": "6a089d93-a715-4057-af6d-fe83c9847b58",
   "metadata": {},
   "outputs": [],
   "source": []
  },
  {
   "cell_type": "code",
   "execution_count": null,
   "id": "dc566e79-094a-495e-9492-3813e0979cea",
   "metadata": {},
   "outputs": [],
   "source": []
  },
  {
   "cell_type": "code",
   "execution_count": 1026,
   "id": "a1fd4f30-278d-4b77-a7db-99d50266d16c",
   "metadata": {},
   "outputs": [],
   "source": [
    "# мой выдуманный пример - удаляем ненужные\n",
    "original_list = df[['Y','X1']].X1.tolist() # replace \"...\" with the rest of the sequence\n",
    "x = [[x, (x-1)/(x+4)**4, math.cos(x), 1] for x in original_list]\n",
    "y = df[['Y','X5']].Y.tolist()\n",
    "# print(new_list)"
   ]
  },
  {
   "cell_type": "code",
   "execution_count": 1027,
   "id": "a90c6416-e98a-4ac6-88f4-a43e6f7e5630",
   "metadata": {},
   "outputs": [],
   "source": [
    "y_x_factors = create_dataframe(x, y)\n",
    "# y_x_factors"
   ]
  },
  {
   "cell_type": "code",
   "execution_count": 1028,
   "id": "4ce018cb-7907-44d2-a19d-b5878392e989",
   "metadata": {},
   "outputs": [
    {
     "name": "stdout",
     "output_type": "stream",
     "text": [
      "[ 1.01005769e+02  2.54046252e+04  9.37698328e-03 -2.15728533e+01]\n"
     ]
    }
   ],
   "source": [
    "coeffs = model(x,y)\n",
    "print(coeffs)"
   ]
  },
  {
   "cell_type": "code",
   "execution_count": 1029,
   "id": "78fec232-1582-4190-a9dd-5361db597255",
   "metadata": {},
   "outputs": [
    {
     "data": {
      "text/plain": [
       "[<matplotlib.lines.Line2D at 0x7fe6ca78f3a0>]"
      ]
     },
     "execution_count": 1029,
     "metadata": {},
     "output_type": "execute_result"
    },
    {
     "data": {
      "image/png": "[encoded data removed]",
      "text/plain": [
       "<Figure size 432x288 with 1 Axes>"
      ]
     },
     "metadata": {
      "needs_background": "light"
     },
     "output_type": "display_data"
    }
   ],
   "source": [
    "plt.plot(original_list, y)\n",
    "plt.plot(original_list, multiply_lists(x, coeffs))"
   ]
  },
  {
   "cell_type": "code",
   "execution_count": 1030,
   "id": "ee097387-cf09-4410-8d00-6f1e94be70ac",
   "metadata": {},
   "outputs": [
    {
     "data": {
      "text/plain": [
       "(152.29368602475398, 0.9991841409677246)"
      ]
     },
     "execution_count": 1030,
     "metadata": {},
     "output_type": "execute_result"
    }
   ],
   "source": [
    "# после удаления\n",
    "model_quality(y,multiply_lists(x, coeffs)) #mse, r2"
   ]
  },
  {
   "cell_type": "markdown",
   "id": "245fed7b-0174-4778-83fa-2acadb4ca899",
   "metadata": {},
   "source": [
    "# Задание 4"
   ]
  },
  {
   "cell_type": "code",
   "execution_count": 1083,
   "id": "13e45acb-1ece-40ff-8045-c65b06059db7",
   "metadata": {},
   "outputs": [],
   "source": [
    "def conf_interval(X, y, model, alpha=0.05):\n",
    "    \"\"\"\n",
    "    Функция, которая вычисляет доверительные интервалы коэффициентов модели линейной регрессии\n",
    "    \n",
    "    :param X: матрица признаков\n",
    "    :param y: вектор целевой переменной\n",
    "    :param model: обученная модель линейной регрессии\n",
    "    :param alpha: уровень значимости\n",
    "    \n",
    "    :return: доверительные интервалы коэффициентов модели\n",
    "    \"\"\"\n",
    "    # Число наблюдений и число признаков\n",
    "    n, m = X.shape\n",
    "    \n",
    "    # Размерность матрицы X\n",
    "    k = n - m\n",
    "    \n",
    "    # Среднее значение по каждому признаку\n",
    "    X_mean = np.mean(X, axis=0)\n",
    "    \n",
    "    # Матрица сумм квадратов отклонений по каждому признаку\n",
    "    S_xx = np.sum((X - X_mean)**2, axis=0)\n",
    "    \n",
    "    # Остаточная сумма квадратов\n",
    "    SSE = np.sum((y - multiply_lists(x, coeffs))**2)\n",
    "    \n",
    "    # Средняя остаточная сумма квадратов\n",
    "    MSE = SSE / k\n",
    "    \n",
    "    # Стандартные ошибки оценок коэффициентов\n",
    "    SE = np.sqrt(MSE * np.linalg.inv(np.dot(X.T, X)).diagonal())\n",
    "    \n",
    "    # Критическое значение t-статистики\n",
    "    t = stats.t.ppf(1 - alpha / 2, k)\n",
    "    \n",
    "    # Доверительные интервалы коэффициентов\n",
    "    CI = np.vstack((coeffs - t * SE, coeffs + t * SE)).T\n",
    "    \n",
    "    return CI\n"
   ]
  },
  {
   "cell_type": "code",
   "execution_count": 1084,
   "id": "0c31e12d-8728-4f8a-b962-a9d094e72ad5",
   "metadata": {},
   "outputs": [],
   "source": [
    "# пример из файла\n",
    "original_list = df_file.x.tolist() # replace \"...\" with the rest of the sequence\n",
    "x = [[x, x**2, x**3, x**6, x**8, math.cos(177/x), math.sin(math.tan(math.exp(112*x))), math.log(1/(1+x)), 1] for x in original_list]\n",
    "y = df_file.y.tolist()\n",
    "# print(new_list)"
   ]
  },
  {
   "cell_type": "code",
   "execution_count": 1085,
   "id": "c570c729-6995-4bb4-8569-135dfa25be02",
   "metadata": {},
   "outputs": [],
   "source": [
    "y_x_factors = create_dataframe(x, y)\n",
    "# y_x_factors"
   ]
  },
  {
   "cell_type": "code",
   "execution_count": 1086,
   "id": "06ea3777-20c3-4a14-8481-c41151a436b4",
   "metadata": {},
   "outputs": [
    {
     "name": "stdout",
     "output_type": "stream",
     "text": [
      "[ 1.02420857e+06 -4.91213829e+05  2.28471485e+05 -1.66684715e+05\n",
      "  1.70611715e+05  3.08672864e-02 -3.66061401e-03  1.02584605e+06\n",
      "  3.26788154e+01]\n"
     ]
    }
   ],
   "source": [
    "coeffs = model(x,y)\n",
    "print(coeffs)"
   ]
  },
  {
   "cell_type": "code",
   "execution_count": null,
   "id": "c37263cc-e790-4147-8154-7cc8ce38cef4",
   "metadata": {},
   "outputs": [],
   "source": []
  },
  {
   "cell_type": "code",
   "execution_count": 1087,
   "id": "9198f6db-0c61-4ccf-9cf8-a2a6f31173f6",
   "metadata": {},
   "outputs": [
    {
     "data": {
      "text/plain": [
       "array([[ 1.00727792e+06,  1.04113923e+06],\n",
       "       [-4.99267712e+05, -4.83159946e+05],\n",
       "       [ 2.24806666e+05,  2.32136304e+05],\n",
       "       [-1.69272737e+05, -1.64096694e+05],\n",
       "       [ 1.67846463e+05,  1.73376966e+05],\n",
       "       [-3.18347612e-02,  9.35693341e-02],\n",
       "       [-6.96507994e-02,  6.23295714e-02],\n",
       "       [ 1.00887343e+06,  1.04281866e+06],\n",
       "       [ 3.11186950e+01,  3.42389359e+01]])"
      ]
     },
     "execution_count": 1087,
     "metadata": {},
     "output_type": "execute_result"
    }
   ],
   "source": [
    "conf_interval(np.array(x),np.array(y),coeffs)"
   ]
  },
  {
   "cell_type": "code",
   "execution_count": 1088,
   "id": "0f6c5053-ba62-431d-be6f-6ab9d53c492e",
   "metadata": {},
   "outputs": [
    {
     "data": {
      "text/plain": [
       "array([ 1.02420857e+06, -4.91213829e+05,  2.28471485e+05, -1.66684715e+05,\n",
       "        1.70611715e+05,  3.08672864e-02, -3.66061401e-03,  1.02584605e+06,\n",
       "        3.26788154e+01])"
      ]
     },
     "execution_count": 1088,
     "metadata": {},
     "output_type": "execute_result"
    }
   ],
   "source": [
    "coeffs"
   ]
  },
  {
   "cell_type": "code",
   "execution_count": null,
   "id": "8dd749ec-6184-49c4-9720-f07b71d14bb6",
   "metadata": {},
   "outputs": [],
   "source": []
  }
 ],
 "metadata": {
  "kernelspec": {
   "display_name": "Python 3 (ipykernel)",
   "language": "python",
   "name": "python3"
  },
  "language_info": {
   "codemirror_mode": {
    "name": "ipython",
    "version": 3
   },
   "file_extension": ".py",
   "mimetype": "text/x-python",
   "name": "python",
   "nbconvert_exporter": "python",
   "pygments_lexer": "ipython3",
   "version": "3.11.4"
  }
 },
 "nbformat": 4,
 "nbformat_minor": 5
}
