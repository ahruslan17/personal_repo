{
 "cells": [
  {
   "cell_type": "code",
   "execution_count": 1,
   "id": "62d4ced9",
   "metadata": {},
   "outputs": [],
   "source": [
    "import re\n",
    "from pandas import read_csv\n",
    "import pandas as pd\n",
    "import numpy as np\n",
    "import math\n",
    "import random"
   ]
  },
  {
   "cell_type": "code",
   "execution_count": 2,
   "id": "3fa330e1",
   "metadata": {
    "scrolled": true
   },
   "outputs": [],
   "source": [
    "indexing = ['Listing', 'Partnership', 'Announcement', 'Report', 'Community contest', 'Community growth', 'Personal Opinion', 'Beta version', 'Trading Contest', 'Rebranding', 'Proposal', 'Upgrade']"
   ]
  },
  {
   "cell_type": "code",
   "execution_count": 3,
   "id": "2fa6afce",
   "metadata": {},
   "outputs": [],
   "source": [
    "df = read_csv(\"C:/Users/ahrus/Данные с прошлого компьютера/Руслан/Работа/Категории новостей/kwords_2.csv\", sep=',', encoding='cp1252')"
   ]
  },
  {
   "cell_type": "code",
   "execution_count": 10,
   "id": "ff366711",
   "metadata": {},
   "outputs": [],
   "source": [
    "# re.split('_','0.3_we list')"
   ]
  },
  {
   "cell_type": "code",
   "execution_count": 5,
   "id": "87ad2ed2",
   "metadata": {},
   "outputs": [],
   "source": [
    "def classification(news):\n",
    "    count = []\n",
    "#     print('Count: ', count)\n",
    "    for i in indexing:\n",
    "        count_1 = 0\n",
    "        pool = [[],[]] #pool[0] - список слов, pool[1] - список коэффициентов\n",
    "        for j in df[i].tolist():\n",
    "            str1 = str(j)\n",
    "            if str1 != 'nan':\n",
    "                pool[0].append('[\\W]' + re.split('_',str1)[1] + '[\\W]')\n",
    "                pool[1].append(float(re.split('_',str1)[0]))\n",
    "                \n",
    "#         print(pool[1])\n",
    "        for t in range(len(pool[0])):  \n",
    "#             print(t)\n",
    "            weight = pool[1][t]\n",
    "            result = re.findall(pool[0][t], ' ' + news.lower() + ' ')\n",
    "            count_1 += len(result)*weight\n",
    "                \n",
    "#             print(result)\n",
    "        count.append(count_1)\n",
    "\n",
    "#     print(count)\n",
    "#     print(indexing[count.index(max(count))]) \n",
    "\n",
    "    out = []\n",
    "    for i in range(len(count)):\n",
    "        if count[i] > 0 and count[i] <= 0.3:\n",
    "            out.append(str(round(count[i]/sum(count), 3) * 100 / 5) + ' % - ' + str(indexing[i]))\n",
    "            \n",
    "        if count[i] > 0.3 and count[i] <= 0.5:\n",
    "            out.append(str(round(count[i]/sum(count), 3) * 100 / 3) + ' % - ' + str(indexing[i]))\n",
    "        \n",
    "        if count[i] > 0.5 and count[i] < 0.7:\n",
    "            out.append(str(round(count[i]/sum(count), 3) * 100 / 2) + ' % - ' + str(indexing[i]))\n",
    "            \n",
    "        if count[i] >= 0.7 and count[i] <= 0.8:\n",
    "            out.append(str(round(count[i]/sum(count), 3) * 100 * 0.85) + ' % - ' + str(indexing[i]))\n",
    "            \n",
    "        if count[i] > 0.8 and count[i] < 1.1:\n",
    "            out.append(str(round(count[i]/sum(count), 3) * 100 * 0.9) + ' % - ' + str(indexing[i]))\n",
    "        \n",
    "        if count[i] >= 1.1:\n",
    "            out.append(str(round(count[i]/sum(count), 3) * 100) + ' % - ' + str(indexing[i]))\n",
    "    if max(count) == 0:\n",
    "        return 'None'\n",
    "    return out"
   ]
  },
  {
   "cell_type": "code",
   "execution_count": 8,
   "id": "1d22593a",
   "metadata": {},
   "outputs": [],
   "source": [
    "news_1 = '''\n",
    "Coinsbit, 11:29 13.11.2022\n",
    "💥 Dear users, we are glad to announce that BLA token will be available on Coinsbit on 15.11.2022 at 11:00 UTC!\n",
    "\n",
    "💵 Pair:\n",
    "BLA/USDT\n",
    "\n",
    "✅To get more info: https://t.co/z7h2X4LtMf\n",
    "\n",
    "🌈 Stay tuned to get updates and latest news from Coinsbit!\n",
    "\n",
    "#Coinsbit #Listing #BLA https://t.co/Yw8rXJfFS9\n",
    "https://twitter.com/c0insbit\n",
    "https://coinsbit.io/\n",
    "https://www.binance.com/ru/trade/CNB_USDT?theme=dark&type=spot\n",
    "'''"
   ]
  },
  {
   "cell_type": "code",
   "execution_count": 9,
   "id": "5c4ed686",
   "metadata": {},
   "outputs": [
    {
     "data": {
      "text/plain": [
       "['36.0 % - Listing', '36.0 % - Announcement', '6.666666666666667 % - Upgrade']"
      ]
     },
     "execution_count": 9,
     "metadata": {},
     "output_type": "execute_result"
    }
   ],
   "source": [
    "classification(news_1)"
   ]
  },
  {
   "cell_type": "code",
   "execution_count": null,
   "id": "b70c3195",
   "metadata": {},
   "outputs": [],
   "source": []
  },
  {
   "cell_type": "code",
   "execution_count": null,
   "id": "cdcb8f84",
   "metadata": {},
   "outputs": [],
   "source": []
  }
 ],
 "metadata": {
  "kernelspec": {
   "display_name": "Python 3 (ipykernel)",
   "language": "python",
   "name": "python3"
  },
  "language_info": {
   "codemirror_mode": {
    "name": "ipython",
    "version": 3
   },
   "file_extension": ".py",
   "mimetype": "text/x-python",
   "name": "python",
   "nbconvert_exporter": "python",
   "pygments_lexer": "ipython3",
   "version": "3.11.4"
  }
 },
 "nbformat": 4,
 "nbformat_minor": 5
}
