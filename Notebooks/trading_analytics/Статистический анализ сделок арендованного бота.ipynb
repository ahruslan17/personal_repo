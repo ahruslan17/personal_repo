{
 "cells": [
  {
   "cell_type": "code",
   "execution_count": 30,
   "id": "57c319c5",
   "metadata": {},
   "outputs": [],
   "source": [
    "import pandas as pd\n",
    "import yfinance as yf\n",
    "import statsmodels.tsa.stattools as smt\n",
    "import datetime\n",
    "from statsmodels.tsa.stattools import adfuller\n",
    "import numpy as np\n",
    "import matplotlib.pyplot as plt\n",
    "import statsmodels.api as sm\n",
    "from pandas import read_csv\n",
    "from sklearn.linear_model import LinearRegression\n",
    "import math\n",
    "import numpy as np\n",
    "import scipy.stats as stats\n",
    "import statsmodels.stats.power as smp\n",
    "from statsmodels.stats.power import TTestPower"
   ]
  },
  {
   "cell_type": "code",
   "execution_count": 221,
   "id": "f1ef2dbf",
   "metadata": {},
   "outputs": [
    {
     "data": {
      "text/html": [
       "<div>\n",
       "<style scoped>\n",
       "    .dataframe tbody tr th:only-of-type {\n",
       "        vertical-align: middle;\n",
       "    }\n",
       "\n",
       "    .dataframe tbody tr th {\n",
       "        vertical-align: top;\n",
       "    }\n",
       "\n",
       "    .dataframe thead th {\n",
       "        text-align: right;\n",
       "    }\n",
       "</style>\n",
       "<table border=\"1\" class=\"dataframe\">\n",
       "  <thead>\n",
       "    <tr style=\"text-align: right;\">\n",
       "      <th></th>\n",
       "      <th>Active</th>\n",
       "      <th>Profit</th>\n",
       "      <th>Price_change</th>\n",
       "      <th>fee</th>\n",
       "    </tr>\n",
       "    <tr>\n",
       "      <th>Date</th>\n",
       "      <th></th>\n",
       "      <th></th>\n",
       "      <th></th>\n",
       "      <th></th>\n",
       "    </tr>\n",
       "  </thead>\n",
       "  <tbody>\n",
       "    <tr>\n",
       "      <th>2023-04-13</th>\n",
       "      <td>ENSUSDT</td>\n",
       "      <td>-0.003</td>\n",
       "      <td>-0.02</td>\n",
       "      <td>0.01067</td>\n",
       "    </tr>\n",
       "    <tr>\n",
       "      <th>2023-04-13</th>\n",
       "      <td>ENSUSDT</td>\n",
       "      <td>0.000</td>\n",
       "      <td>0.00</td>\n",
       "      <td>0.01066</td>\n",
       "    </tr>\n",
       "    <tr>\n",
       "      <th>2023-04-13</th>\n",
       "      <td>ATOMUSDT</td>\n",
       "      <td>-3.135</td>\n",
       "      <td>-0.49</td>\n",
       "      <td>0.51471</td>\n",
       "    </tr>\n",
       "    <tr>\n",
       "      <th>2023-04-13</th>\n",
       "      <td>BNBUSDT</td>\n",
       "      <td>-7.660</td>\n",
       "      <td>-1.19</td>\n",
       "      <td>0.51287</td>\n",
       "    </tr>\n",
       "    <tr>\n",
       "      <th>2023-04-13</th>\n",
       "      <td>DOTUSDT</td>\n",
       "      <td>-0.779</td>\n",
       "      <td>-0.64</td>\n",
       "      <td>0.09761</td>\n",
       "    </tr>\n",
       "  </tbody>\n",
       "</table>\n",
       "</div>"
      ],
      "text/plain": [
       "              Active  Profit  Price_change      fee\n",
       "Date                                               \n",
       "2023-04-13   ENSUSDT  -0.003         -0.02  0.01067\n",
       "2023-04-13   ENSUSDT   0.000          0.00  0.01066\n",
       "2023-04-13  ATOMUSDT  -3.135         -0.49  0.51471\n",
       "2023-04-13   BNBUSDT  -7.660         -1.19  0.51287\n",
       "2023-04-13   DOTUSDT  -0.779         -0.64  0.09761"
      ]
     },
     "execution_count": 221,
     "metadata": {},
     "output_type": "execute_result"
    }
   ],
   "source": [
    "trades = read_csv('C:/Users/ahrus/Работа/Stat_arb_analysis/trades.csv', sep=';', encoding='utf-8')\n",
    "trades = trades.dropna(how='all')\n",
    "trades = trades.drop(['Time','funding'], axis=1)\n",
    "trades['Date'] = pd.to_datetime(trades['Date'], format='%d.%m.%Y')\n",
    "trades = trades.set_index(['Date'])\n",
    "trades['Profit'] = trades['Profit'].str.replace(',', '.').astype(float)\n",
    "trades['fee'] = trades['fee'].str.replace(',', '.').astype(float)\n",
    "trades['Price_change'] = trades['Price_change'].str.replace(',', '.').astype(float)\n",
    "# trades.Profit = trades.Profit - trades.fee #учёт комиссии\n",
    "trades.head()"
   ]
  },
  {
   "cell_type": "code",
   "execution_count": 222,
   "id": "d3758c7a",
   "metadata": {},
   "outputs": [
    {
     "data": {
      "text/html": [
       "<div>\n",
       "<style scoped>\n",
       "    .dataframe tbody tr th:only-of-type {\n",
       "        vertical-align: middle;\n",
       "    }\n",
       "\n",
       "    .dataframe tbody tr th {\n",
       "        vertical-align: top;\n",
       "    }\n",
       "\n",
       "    .dataframe thead th {\n",
       "        text-align: right;\n",
       "    }\n",
       "</style>\n",
       "<table border=\"1\" class=\"dataframe\">\n",
       "  <thead>\n",
       "    <tr style=\"text-align: right;\">\n",
       "      <th></th>\n",
       "      <th>XMRUSDT</th>\n",
       "    </tr>\n",
       "    <tr>\n",
       "      <th>Date</th>\n",
       "      <th></th>\n",
       "    </tr>\n",
       "  </thead>\n",
       "  <tbody>\n",
       "    <tr>\n",
       "      <th>2023-04-13</th>\n",
       "      <td>0.40000</td>\n",
       "    </tr>\n",
       "    <tr>\n",
       "      <th>2023-04-11</th>\n",
       "      <td>26.80000</td>\n",
       "    </tr>\n",
       "    <tr>\n",
       "      <th>2023-04-10</th>\n",
       "      <td>11.06671</td>\n",
       "    </tr>\n",
       "    <tr>\n",
       "      <th>2023-04-09</th>\n",
       "      <td>14.44181</td>\n",
       "    </tr>\n",
       "    <tr>\n",
       "      <th>2023-04-07</th>\n",
       "      <td>-1.25000</td>\n",
       "    </tr>\n",
       "  </tbody>\n",
       "</table>\n",
       "</div>"
      ],
      "text/plain": [
       "             XMRUSDT\n",
       "Date                \n",
       "2023-04-13   0.40000\n",
       "2023-04-11  26.80000\n",
       "2023-04-10  11.06671\n",
       "2023-04-09  14.44181\n",
       "2023-04-07  -1.25000"
      ]
     },
     "execution_count": 222,
     "metadata": {},
     "output_type": "execute_result"
    }
   ],
   "source": [
    "trades_XMR = pd.DataFrame({'XMRUSDT': trades[trades.Active == 'XMRUSDT'].Profit})\n",
    "trades_XMR.head()"
   ]
  },
  {
   "cell_type": "code",
   "execution_count": 223,
   "id": "f4cd5846",
   "metadata": {},
   "outputs": [],
   "source": [
    "trades_XMR = pd.DataFrame({'Profit': trades[trades.Active == 'XMRUSDT'].Profit})\n",
    "# trades_XMR = trades_XMR.groupby('Date').sum()\n",
    "\n",
    "trades_LTC = pd.DataFrame({'Profit': trades[trades.Active == 'LTCUSDT'].Profit})\n",
    "# trades_LTC = trades_LTC.groupby('Date').sum()\n",
    "\n",
    "trades_BNB = pd.DataFrame({'Profit': trades[trades.Active == 'BNBUSDT'].Profit})\n",
    "# trades_BNB = trades_BNB.groupby('Date').sum()\n",
    "\n",
    "trades_ATOM = pd.DataFrame({'Profit': trades[trades.Active == 'ATOMUSDT'].Profit})\n",
    "# trades_ATOM = trades_ATOM.groupby('Date').sum()\n",
    "\n",
    "trades_DOT = pd.DataFrame({'Profit': trades[trades.Active == 'DOTUSDT'].Profit})\n",
    "# trades_DOT = trades_DOT.groupby('Date').sum()\n",
    "\n",
    "trades_AR = pd.DataFrame({'Profit': trades[trades.Active == 'ARUSDT'].Profit})\n",
    "# trades_AR = trades_AR.groupby('Date').sum()\n"
   ]
  },
  {
   "cell_type": "code",
   "execution_count": 224,
   "id": "20abe044",
   "metadata": {},
   "outputs": [
    {
     "data": {
      "text/plain": [
       "60"
      ]
     },
     "execution_count": 224,
     "metadata": {},
     "output_type": "execute_result"
    }
   ],
   "source": [
    "len(trades_LTC)"
   ]
  },
  {
   "cell_type": "code",
   "execution_count": 225,
   "id": "da5fcf53",
   "metadata": {},
   "outputs": [
    {
     "data": {
      "text/html": [
       "<div>\n",
       "<style scoped>\n",
       "    .dataframe tbody tr th:only-of-type {\n",
       "        vertical-align: middle;\n",
       "    }\n",
       "\n",
       "    .dataframe tbody tr th {\n",
       "        vertical-align: top;\n",
       "    }\n",
       "\n",
       "    .dataframe thead th {\n",
       "        text-align: right;\n",
       "    }\n",
       "</style>\n",
       "<table border=\"1\" class=\"dataframe\">\n",
       "  <thead>\n",
       "    <tr style=\"text-align: right;\">\n",
       "      <th></th>\n",
       "      <th>ATOM</th>\n",
       "      <th>BNB</th>\n",
       "      <th>profit</th>\n",
       "      <th>cum</th>\n",
       "    </tr>\n",
       "    <tr>\n",
       "      <th>Date</th>\n",
       "      <th></th>\n",
       "      <th></th>\n",
       "      <th></th>\n",
       "      <th></th>\n",
       "    </tr>\n",
       "  </thead>\n",
       "  <tbody>\n",
       "    <tr>\n",
       "      <th>2023-02-18</th>\n",
       "      <td>2.33200</td>\n",
       "      <td>11.36</td>\n",
       "      <td>13.69200</td>\n",
       "      <td>13.69200</td>\n",
       "    </tr>\n",
       "    <tr>\n",
       "      <th>2023-02-19</th>\n",
       "      <td>-8.84568</td>\n",
       "      <td>1.12</td>\n",
       "      <td>-7.72568</td>\n",
       "      <td>5.96632</td>\n",
       "    </tr>\n",
       "    <tr>\n",
       "      <th>2023-02-20</th>\n",
       "      <td>-1.12832</td>\n",
       "      <td>5.50</td>\n",
       "      <td>4.37168</td>\n",
       "      <td>10.33800</td>\n",
       "    </tr>\n",
       "    <tr>\n",
       "      <th>2023-02-21</th>\n",
       "      <td>25.67136</td>\n",
       "      <td>-2.36</td>\n",
       "      <td>23.31136</td>\n",
       "      <td>33.64936</td>\n",
       "    </tr>\n",
       "    <tr>\n",
       "      <th>2023-02-27</th>\n",
       "      <td>-42.72400</td>\n",
       "      <td>16.48</td>\n",
       "      <td>-26.24400</td>\n",
       "      <td>7.40536</td>\n",
       "    </tr>\n",
       "  </tbody>\n",
       "</table>\n",
       "</div>"
      ],
      "text/plain": [
       "                ATOM    BNB    profit       cum\n",
       "Date                                           \n",
       "2023-02-18   2.33200  11.36  13.69200  13.69200\n",
       "2023-02-19  -8.84568   1.12  -7.72568   5.96632\n",
       "2023-02-20  -1.12832   5.50   4.37168  10.33800\n",
       "2023-02-21  25.67136  -2.36  23.31136  33.64936\n",
       "2023-02-27 -42.72400  16.48 -26.24400   7.40536"
      ]
     },
     "execution_count": 225,
     "metadata": {},
     "output_type": "execute_result"
    }
   ],
   "source": [
    "trades_LTC_XMR = pd.DataFrame({'LTC': trades_LTC.Profit,'XMR': trades_XMR.Profit})\n",
    "trades_LTC_XMR = trades_LTC_XMR.iloc[::-1]\n",
    "trades_LTC_XMR['profit'] = trades_LTC_XMR.LTC +  trades_LTC_XMR.XMR\n",
    "trades_LTC_XMR['cum'] = trades_LTC_XMR['profit'].cumsum()\n",
    "\n",
    "\n",
    "trades_ATOM_BNB = pd.DataFrame({'ATOM': trades_ATOM.Profit,'BNB': trades_BNB.Profit})\n",
    "trades_ATOM_BNB = trades_ATOM_BNB.iloc[::-1]\n",
    "trades_ATOM_BNB['profit'] = trades_ATOM_BNB.ATOM +  trades_ATOM_BNB.BNB\n",
    "trades_ATOM_BNB['cum'] = trades_ATOM_BNB['profit'].cumsum()\n",
    "\n",
    "\n",
    "trades_AR_DOT = pd.DataFrame({'AR': trades_AR.Profit,'DOT': trades_DOT.Profit})\n",
    "trades_AR_DOT = trades_AR_DOT.iloc[::-1]\n",
    "trades_AR_DOT['profit'] = trades_AR_DOT.AR +  trades_AR_DOT.DOT\n",
    "trades_AR_DOT['cum'] = trades_AR_DOT['profit'].cumsum()\n",
    "\n",
    "\n",
    "trades_ATOM_BNB.head()"
   ]
  },
  {
   "cell_type": "code",
   "execution_count": 226,
   "id": "b1e248e4",
   "metadata": {},
   "outputs": [
    {
     "name": "stdout",
     "output_type": "stream",
     "text": [
      "------------------------------------------------------------------\n",
      "Отвергаем нулевую гипотезу: прибыль стратегии больше 14 долларов (p-value = 0.0159)\n",
      "Статистическая мощность: 0.8067\n",
      "Размер эффекта: 0.49628716109520504\n",
      "Необходимый размер выборки для статистической мощности 0.8 и порога статистической значимости 0.05:  27\n",
      "------------------------------------------------------------------\n",
      "------------------------------------------------------------------\n",
      "Не можем отвергнуть нулевую гипотезу: прибыль стратегии меньше 40 долларов (p-value = 0.0032)\n",
      "Статистическая мощность: 0.9355\n",
      "Размер эффекта: 0.6252765769898401\n",
      "Необходимый размер выборки для статистической мощности 0.8 и порога статистической значимости 0.05:  18\n",
      "------------------------------------------------------------------\n"
     ]
    },
    {
     "name": "stderr",
     "output_type": "stream",
     "text": [
      "C:\\Users\\ahrus\\anaconda3\\envs\\pair_arb\\lib\\site-packages\\scipy\\stats\\_continuous_distns.py:6832: RuntimeWarning: divide by zero encountered in _nct_sf\n",
      "  return np.clip(_boost._nct_sf(x, df, nc), 0, 1)\n"
     ]
    },
    {
     "data": {
      "image/png": "[encoded data removed]",
      "text/plain": [
       "<Figure size 640x480 with 1 Axes>"
      ]
     },
     "metadata": {},
     "output_type": "display_data"
    }
   ],
   "source": [
    "plt.plot(trades_AR_DOT.cum)\n",
    "check_profit_hypothesis(trades_AR_DOT.cum, target_profit=14, alpha=0.05, desired_power=0.8)\n",
    "check_profit_hypothesis(trades_AR_DOT.cum, target_profit=40, alpha=0.05, desired_power=0.8)"
   ]
  },
  {
   "cell_type": "code",
   "execution_count": 227,
   "id": "369d1367",
   "metadata": {},
   "outputs": [
    {
     "name": "stdout",
     "output_type": "stream",
     "text": [
      "------------------------------------------------------------------\n",
      "Отвергаем нулевую гипотезу: прибыль стратегии больше 28 долларов (p-value = 0.0140)\n",
      "Статистическая мощность: 0.8136\n",
      "Размер эффекта: 0.43109815228975906\n",
      "Необходимый размер выборки для статистической мощности 0.8 и порога статистической значимости 0.05:  35\n",
      "------------------------------------------------------------------\n",
      "------------------------------------------------------------------\n",
      "Не можем отвергнуть нулевую гипотезу: прибыль стратегии меньше 60 долларов (p-value = 0.0045)\n",
      "Статистическая мощность: 0.9085\n",
      "Размер эффекта: 0.50602804609762\n",
      "Необходимый размер выборки для статистической мощности 0.8 и порога статистической значимости 0.05:  26\n",
      "------------------------------------------------------------------\n"
     ]
    },
    {
     "data": {
      "image/png": "[encoded data removed]",
      "text/plain": [
       "<Figure size 640x480 with 1 Axes>"
      ]
     },
     "metadata": {},
     "output_type": "display_data"
    }
   ],
   "source": [
    "plt.plot(trades_ATOM_BNB.cum)\n",
    "check_profit_hypothesis(trades_ATOM_BNB.cum, target_profit=28, alpha=0.05, desired_power=0.8)\n",
    "check_profit_hypothesis(trades_ATOM_BNB.cum, target_profit=60, alpha=0.05, desired_power=0.8)"
   ]
  },
  {
   "cell_type": "code",
   "execution_count": 228,
   "id": "0bfded7f",
   "metadata": {},
   "outputs": [
    {
     "name": "stdout",
     "output_type": "stream",
     "text": [
      "------------------------------------------------------------------\n",
      "Отвергаем нулевую гипотезу: прибыль стратегии больше -41 долларов (p-value = 0.0169)\n",
      "Статистическая мощность: 0.7837\n",
      "Размер эффекта: 0.31732164825295794\n",
      "Необходимый размер выборки для статистической мощности 0.8 и порога статистической значимости 0.05:  63\n",
      "------------------------------------------------------------------\n",
      "------------------------------------------------------------------\n",
      "Не можем отвергнуть нулевую гипотезу: прибыль стратегии меньше -1 долларов (p-value = 0.0145)\n",
      "Статистическая мощность: 0.8012\n",
      "Размер эффекта: 0.3253221891530914\n",
      "Необходимый размер выборки для статистической мощности 0.8 и порога статистической значимости 0.05:  60\n",
      "------------------------------------------------------------------\n"
     ]
    },
    {
     "data": {
      "image/png": "[encoded data removed]",
      "text/plain": [
       "<Figure size 640x480 with 1 Axes>"
      ]
     },
     "metadata": {},
     "output_type": "display_data"
    }
   ],
   "source": [
    "plt.plot(trades_LTC_XMR.cum)\n",
    "check_profit_hypothesis(trades_LTC_XMR.cum, target_profit=-41, alpha=0.05, desired_power=0.8)\n",
    "check_profit_hypothesis(trades_LTC_XMR.cum, target_profit=-1, alpha=0.05, desired_power=0.8)"
   ]
  },
  {
   "cell_type": "markdown",
   "id": "91e2dc72",
   "metadata": {},
   "source": [
    "# Непараметрический тест"
   ]
  },
  {
   "cell_type": "code",
   "execution_count": 229,
   "id": "5a22f4b8",
   "metadata": {},
   "outputs": [
    {
     "name": "stdout",
     "output_type": "stream",
     "text": [
      "------------------------------------------------------------------\n",
      "Отвергаем нулевую гипотезу: прибыль стратегии больше 13 долларов (p-value = 0.0436)\n",
      "Статистическая мощность: 0.8608\n",
      "Размер эффекта: 0.5394242279446299\n",
      "Необходимый размер выборки для статистической мощности 0.8 и порога статистической значимости 0.05:  23\n",
      "------------------------------------------------------------------\n",
      "------------------------------------------------------------------\n",
      "Не можем отвергнуть нулевую гипотезу: прибыль стратегии меньше 14 долларов (p-value = 0.0655)\n",
      "Статистическая мощность: 0.8067\n",
      "Размер эффекта: 0.49628716109520504\n",
      "Необходимый размер выборки для статистической мощности 0.8 и порога статистической значимости 0.05:  27\n",
      "------------------------------------------------------------------\n"
     ]
    }
   ],
   "source": [
    "check_profit_hypothesis_2(trades_AR_DOT.cum, target_profit=13, alpha=0.05, desired_power=0.8)\n",
    "check_profit_hypothesis_2(trades_AR_DOT.cum, target_profit=14, alpha=0.05, desired_power=0.8)"
   ]
  },
  {
   "cell_type": "code",
   "execution_count": 230,
   "id": "9c9a2228",
   "metadata": {},
   "outputs": [
    {
     "name": "stdout",
     "output_type": "stream",
     "text": [
      "------------------------------------------------------------------\n",
      "Отвергаем нулевую гипотезу: прибыль стратегии больше 28 долларов (p-value = 0.0348)\n",
      "Статистическая мощность: 0.8136\n",
      "Размер эффекта: 0.43109815228975906\n",
      "Необходимый размер выборки для статистической мощности 0.8 и порога статистической значимости 0.05:  35\n",
      "------------------------------------------------------------------\n",
      "------------------------------------------------------------------\n",
      "Не можем отвергнуть нулевую гипотезу: прибыль стратегии меньше 30 долларов (p-value = 0.0668)\n",
      "Статистическая мощность: 0.7077\n",
      "Размер эффекта: 0.3725277648905479\n",
      "Необходимый размер выборки для статистической мощности 0.8 и порога статистической значимости 0.05:  46\n",
      "------------------------------------------------------------------\n"
     ]
    }
   ],
   "source": [
    "check_profit_hypothesis_2(trades_ATOM_BNB.cum, target_profit=28, alpha=0.05, desired_power=0.8)\n",
    "check_profit_hypothesis_2(trades_ATOM_BNB.cum, target_profit=30, alpha=0.05, desired_power=0.8)"
   ]
  },
  {
   "cell_type": "code",
   "execution_count": 231,
   "id": "dadf9d10",
   "metadata": {},
   "outputs": [
    {
     "name": "stdout",
     "output_type": "stream",
     "text": [
      "------------------------------------------------------------------\n",
      "Отвергаем нулевую гипотезу: прибыль стратегии больше -40 долларов (p-value = 0.0429)\n",
      "Статистическая мощность: 0.7459\n",
      "Размер эффекта: 0.3012555523178067\n",
      "Необходимый размер выборки для статистической мощности 0.8 и порога статистической значимости 0.05:  70\n",
      "------------------------------------------------------------------\n",
      "------------------------------------------------------------------\n",
      "Не можем отвергнуть нулевую гипотезу: прибыль стратегии меньше -20 долларов (p-value = 0.6375)\n",
      "Статистическая мощность: 0.0360\n",
      "Размер эффекта: -0.020066366385217978\n",
      "Необходимый размер выборки для статистической мощности 0.8 и порога статистической значимости 0.05:  [10]\n",
      "------------------------------------------------------------------\n"
     ]
    },
    {
     "name": "stderr",
     "output_type": "stream",
     "text": [
      "C:\\Users\\ahrus\\anaconda3\\envs\\pair_arb\\lib\\site-packages\\statsmodels\\stats\\power.py:415: ConvergenceWarning: \n",
      "Failed to converge on a solution.\n",
      "\n",
      "  warnings.warn(convergence_doc, ConvergenceWarning)\n"
     ]
    }
   ],
   "source": [
    "check_profit_hypothesis_2(trades_LTC_XMR.cum, target_profit=-40, alpha=0.05, desired_power=0.8)\n",
    "check_profit_hypothesis_2(trades_LTC_XMR.cum, target_profit=-20, alpha=0.05, desired_power=0.8)"
   ]
  },
  {
   "cell_type": "markdown",
   "id": "d0ffb96f",
   "metadata": {},
   "source": [
    "# Ещё тест"
   ]
  },
  {
   "cell_type": "code",
   "execution_count": 232,
   "id": "066d5465",
   "metadata": {},
   "outputs": [
    {
     "name": "stdout",
     "output_type": "stream",
     "text": [
      "Статистика: 261.0, p-значение: 0.042966701090335846\n",
      "Отвергаем нулевую гипотезу. Средняя прибыль стратегии вероятно больше 15 долларов.\n",
      "\n",
      "Статистика: 256.0, p-значение: 0.055525414645671844\n",
      "Не можем отвергнуть нулевую гипотезу. Недостаточно данных для утверждения, что средняя прибыль стратегии больше 16 долларов.\n"
     ]
    }
   ],
   "source": [
    "check_profit_hypothesis_3(trades_AR_DOT.cum, null_hypothesis=15)\n",
    "print()\n",
    "check_profit_hypothesis_3(trades_AR_DOT.cum, null_hypothesis=16)"
   ]
  },
  {
   "cell_type": "code",
   "execution_count": 233,
   "id": "58df0837",
   "metadata": {},
   "outputs": [
    {
     "name": "stdout",
     "output_type": "stream",
     "text": [
      "Статистика: 450.0, p-значение: 0.0333983002055902\n",
      "Отвергаем нулевую гипотезу. Средняя прибыль стратегии вероятно больше 30 долларов.\n",
      "\n",
      "Статистика: 399.0, p-значение: 0.1537102531437995\n",
      "Не можем отвергнуть нулевую гипотезу. Недостаточно данных для утверждения, что средняя прибыль стратегии больше 35 долларов.\n"
     ]
    }
   ],
   "source": [
    "check_profit_hypothesis_3(trades_ATOM_BNB.cum, null_hypothesis=30)\n",
    "print()\n",
    "check_profit_hypothesis_3(trades_ATOM_BNB.cum, null_hypothesis=35)"
   ]
  },
  {
   "cell_type": "code",
   "execution_count": 234,
   "id": "6ce68746",
   "metadata": {},
   "outputs": [
    {
     "name": "stdout",
     "output_type": "stream",
     "text": [
      "Статистика: 1156.0, p-значение: 0.038019475065711794\n",
      "Отвергаем нулевую гипотезу. Средняя прибыль стратегии вероятно больше -38 долларов.\n",
      "\n",
      "Статистика: 1104.0, p-значение: 0.0820607251353862\n",
      "Не можем отвергнуть нулевую гипотезу. Недостаточно данных для утверждения, что средняя прибыль стратегии больше -35 долларов.\n"
     ]
    }
   ],
   "source": [
    "check_profit_hypothesis_3(trades_LTC_XMR.cum, null_hypothesis=-38)\n",
    "print()\n",
    "check_profit_hypothesis_3(trades_LTC_XMR.cum, null_hypothesis=-35)"
   ]
  },
  {
   "cell_type": "code",
   "execution_count": null,
   "id": "b154f81b",
   "metadata": {},
   "outputs": [],
   "source": []
  },
  {
   "cell_type": "code",
   "execution_count": null,
   "id": "822612b9",
   "metadata": {},
   "outputs": [],
   "source": []
  },
  {
   "cell_type": "code",
   "execution_count": null,
   "id": "7b801ce9",
   "metadata": {},
   "outputs": [],
   "source": []
  },
  {
   "cell_type": "code",
   "execution_count": 38,
   "id": "5e6104d9",
   "metadata": {},
   "outputs": [],
   "source": [
    "trades_ATOM_BNB.profit[trades_ATOM_BNB.profit < -10] = -10"
   ]
  },
  {
   "cell_type": "code",
   "execution_count": 46,
   "id": "b3f9695f",
   "metadata": {},
   "outputs": [
    {
     "data": {
      "text/html": [
       "<div>\n",
       "<style scoped>\n",
       "    .dataframe tbody tr th:only-of-type {\n",
       "        vertical-align: middle;\n",
       "    }\n",
       "\n",
       "    .dataframe tbody tr th {\n",
       "        vertical-align: top;\n",
       "    }\n",
       "\n",
       "    .dataframe thead th {\n",
       "        text-align: right;\n",
       "    }\n",
       "</style>\n",
       "<table border=\"1\" class=\"dataframe\">\n",
       "  <thead>\n",
       "    <tr style=\"text-align: right;\">\n",
       "      <th></th>\n",
       "      <th>ATOM</th>\n",
       "      <th>BNB</th>\n",
       "      <th>profit</th>\n",
       "    </tr>\n",
       "    <tr>\n",
       "      <th>Date</th>\n",
       "      <th></th>\n",
       "      <th></th>\n",
       "      <th></th>\n",
       "    </tr>\n",
       "  </thead>\n",
       "  <tbody>\n",
       "    <tr>\n",
       "      <th>2023-03-27</th>\n",
       "      <td>-52.11243</td>\n",
       "      <td>31.72</td>\n",
       "      <td>-20.39243</td>\n",
       "    </tr>\n",
       "    <tr>\n",
       "      <th>2023-03-23</th>\n",
       "      <td>-3.19000</td>\n",
       "      <td>9.80</td>\n",
       "      <td>6.61000</td>\n",
       "    </tr>\n",
       "    <tr>\n",
       "      <th>2023-03-23</th>\n",
       "      <td>37.01600</td>\n",
       "      <td>-15.52</td>\n",
       "      <td>21.49600</td>\n",
       "    </tr>\n",
       "    <tr>\n",
       "      <th>2023-03-22</th>\n",
       "      <td>54.32000</td>\n",
       "      <td>-39.90</td>\n",
       "      <td>14.42000</td>\n",
       "    </tr>\n",
       "    <tr>\n",
       "      <th>2023-03-21</th>\n",
       "      <td>-20.65588</td>\n",
       "      <td>-3.98</td>\n",
       "      <td>-24.63588</td>\n",
       "    </tr>\n",
       "  </tbody>\n",
       "</table>\n",
       "</div>"
      ],
      "text/plain": [
       "                ATOM    BNB    profit\n",
       "Date                                 \n",
       "2023-03-27 -52.11243  31.72 -20.39243\n",
       "2023-03-23  -3.19000   9.80   6.61000\n",
       "2023-03-23  37.01600 -15.52  21.49600\n",
       "2023-03-22  54.32000 -39.90  14.42000\n",
       "2023-03-21 -20.65588  -3.98 -24.63588"
      ]
     },
     "execution_count": 46,
     "metadata": {},
     "output_type": "execute_result"
    }
   ],
   "source": [
    "trades_ATOM_BNB.head()"
   ]
  },
  {
   "cell_type": "code",
   "execution_count": 47,
   "id": "7c2df7e7",
   "metadata": {},
   "outputs": [
    {
     "name": "stdout",
     "output_type": "stream",
     "text": [
      "2.6786379310344826\n",
      "17.623965828400173\n"
     ]
    },
    {
     "data": {
      "image/png": "[encoded data removed]",
      "text/plain": [
       "<Figure size 640x480 with 1 Axes>"
      ]
     },
     "metadata": {},
     "output_type": "display_data"
    }
   ],
   "source": [
    "plt.hist(trades_ATOM_BNB.profit)\n",
    "print(trades_ATOM_BNB.profit.mean())\n",
    "print(trades_ATOM_BNB.profit.std())"
   ]
  },
  {
   "cell_type": "markdown",
   "id": "2af53504",
   "metadata": {},
   "source": [
    "# Справка"
   ]
  },
  {
   "cell_type": "markdown",
   "id": "a7d1a090",
   "metadata": {},
   "source": [
    " - Статистическая значимость (p-value) - это вероятность получить наблюдаемые данные или более экстремальные при условии, что нулевая гипотеза верна. \n",
    " - Уровень значимости (alpha) - это предварительно заданный порог, который определяет критическую область для проверки гипотезы. 0.05, что означает, что мы готовы совершить ошибку первого рода не чаще, чем в 5% случаев. Чем меньше - тем лучше.\n",
    " - Статистическая мощность - это вероятность обнаружения различий между группами, если различия действительно существуют. Или же это вероятность отклонения нулевой гипотезы, когда она действительно неверна. Чем больше - тем лучше (0.8 значит, что вероятность отвергнуть нулевую гипотезу, когда она действительно неверна - 80%)\n",
    " - Effect size (размер эффекта) - это мера статистической значимости, используемая для оценки величины эффекта, который имеет место между двумя группами или переменными в исследовании. Значение размера эффекта 0.4 является средним значением и может интерпретироваться как умеренный размер эффекта. Размер эффекта измеряет статистическую значимость различий между двумя группами или переменными в выборке. Он может принимать значения от 0 до бесконечности, где 0 означает отсутствие различий, а значения больше 0 указывают на наличие различий."
   ]
  },
  {
   "cell_type": "markdown",
   "id": "da4b7217",
   "metadata": {},
   "source": [
    "# t-тест "
   ]
  },
  {
   "cell_type": "markdown",
   "id": "c88f4688",
   "metadata": {},
   "source": [
    "t-тест основан на t-распределении и используется, когда:\n",
    "\n",
    "- Размер выборки мал (обычно n <= 30).\n",
    "- Параметры генеральной совокупности (среднее значение и стандартное отклонение) неизвестны.\n",
    "- Распределение генеральной совокупности предполагается нормальным."
   ]
  },
  {
   "cell_type": "markdown",
   "id": "ce674ee2",
   "metadata": {},
   "source": [
    " - Нулевая гипотеза (H0): средняя прибыль торговой стратегии равна target_profit.\n",
    " - Альтернативная гипотеза (H1): средняя прибыль торговой стратегии не равна target_profit.\n",
    "\n",
    "Код проверяет только альтернативную гипотезу о том, что средняя прибыль стратегии больше target_profit. Это делается с помощью условия p_value / 2 < alpha and t_stat > 0. Если это условие выполняется, то нулевая гипотеза отвергается в пользу альтернативной гипотезы, что средняя прибыль стратегии больше target_profit. Если условие не выполняется, то делается вывод о том, что нельзя отвергнуть нулевую гипотезу, и средняя прибыль стратегии меньше или равна target_profit."
   ]
  },
  {
   "cell_type": "code",
   "execution_count": 41,
   "id": "04e33ae2",
   "metadata": {},
   "outputs": [],
   "source": [
    "def check_profit_hypothesis(profits, target_profit=1.0, alpha=0.05, desired_power=0.8):\n",
    "    \"\"\"\n",
    "    Проверяет гипотезу о том, что средняя прибыль стратегии больше target_profit.\n",
    "    Возвращает результаты статистического анализа, такие как t-статистика, p-значение,\n",
    "    статистическая мощность, и необходимый размер выборки для заданной мощности и уровня значимости.\n",
    "    \n",
    "    :param profits: массив прибылей\n",
    "    :param target_profit: значение прибыли, которое мы хотим проверить (по умолчанию 1.0)\n",
    "    :param alpha: порог статистической значимости (по умолчанию 0.05)\n",
    "    :param desired_power: желаемая статистическая мощность (по умолчанию 0.8)\n",
    "    :return: результаты статистического анализа, включая t-статистику, p-значение, \n",
    "    статистическую мощность, и необходимый размер выборки для заданной мощности и уровня значимости\n",
    "    \"\"\"\n",
    "    print('------------------------------------------------------------------')\n",
    "    # Рассчитываем среднюю прибыль, стандартное отклонение и количество сделок\n",
    "    mean_profit = np.mean(profits)\n",
    "    std_profit = np.std(profits, ddof=1)\n",
    "    num_trades = len(profits)\n",
    "\n",
    "    # Рассчитываем t-статистику и p-значение\n",
    "    t_stat, p_value = stats.ttest_1samp(profits, target_profit)\n",
    "\n",
    "    # Проверяем статистическую значимость для новых гипотез\n",
    "    if p_value < alpha and t_stat > 0:\n",
    "        print(\"Отвергаем нулевую гипотезу: прибыль стратегии больше {} долларов (p-value = {:.4f})\".format(target_profit, p_value))\n",
    "    else:\n",
    "        print(\"Не можем отвергнуть нулевую гипотезу: прибыль стратегии меньше {} долларов (p-value = {:.4f})\".format(target_profit, p_value))\n",
    "\n",
    "    # Рассчитываем статистическую мощность (используя среднее и стандартное отклонение)\n",
    "    effect_size = (mean_profit - target_profit) / std_profit\n",
    "#     effect_size = abs((mean_profit - target_profit) / std_profit)\n",
    "    power = TTestPower().power(effect_size, num_trades, alpha, alternative=\"larger\")\n",
    "\n",
    "    print(\"Статистическая мощность: {:.4f}\".format(power))\n",
    "\n",
    "    # Рассчитываем необходимый размер выборки для заданной мощности и уровня знач\n",
    "    # Рассчитываем необходимый размер выборки для заданной мощности и уровня значимости\n",
    "    desired_power = 0.8\n",
    "    required_num_trades = smp.TTestPower().solve_power(effect_size, power=desired_power, alpha=alpha, alternative=\"larger\")\n",
    "    print(f'Размер эффекта: {effect_size}')\n",
    "    print(\"Необходимый размер выборки для статистической мощности 0.8 и порога статистической значимости {}:  {}\".format(alpha, np.ceil(required_num_trades).astype(int)))\n",
    "    print('------------------------------------------------------------------')\n"
   ]
  },
  {
   "cell_type": "markdown",
   "id": "3158e40a",
   "metadata": {},
   "source": [
    "# Тест Уилкинсона"
   ]
  },
  {
   "cell_type": "markdown",
   "id": "b5b69c1e",
   "metadata": {},
   "source": [
    "Тест Уилкоксона, также известный как критерий знаковых рангов, является непараметрическим тестом гипотезы о равенстве средних значений двух выборок. В отличие от t-теста Стьюдента, который предполагает нормальность распределения данных, тест Уилкоксона не имеет такого требования. Это означает, что тест Уилкоксона может быть использован в более широком диапазоне ситуаций, когда распределение данных может быть отличным от нормального.\n",
    "\n",
    "Если данные имеют нормальное распределение, тест Уилкоксона несколько менее чувствителен, чем t-тест Стьюдента. Однако, когда данные не имеют нормальное распределение, тест Уилкоксона может быть более чувствительным и точным, чем t-тест Стьюдента. Кроме того, тест Уилкоксона может использоваться для работы с данными рангового типа, что делает его полезным для анализа данных, которые не могут быть измерены в числовой шкале, таких как рейтинги, оценки и ранги.\n",
    "\n",
    "Таким образом, в зависимости от характеристик данных и типа задачи, тест Уилкоксона может быть предпочтительнее для проверки гипотез о равенстве средних значений двух выборок, чем t-тест Стьюдента."
   ]
  },
  {
   "cell_type": "code",
   "execution_count": 192,
   "id": "77f191fa",
   "metadata": {},
   "outputs": [],
   "source": [
    "import numpy as np\n",
    "from scipy import stats\n",
    "from statsmodels.stats.power import TTestPower\n",
    "\n",
    "def check_profit_hypothesis_2(profits, target_profit=1.0, alpha=0.05, desired_power=0.8):\n",
    "    \"\"\"\n",
    "    Проверяет гипотезу о том, что средняя прибыль стратегии больше target_profit.\n",
    "    Возвращает результаты статистического анализа, такие как t-статистика, p-значение,\n",
    "    статистическая мощность, и необходимый размер выборки для заданной мощности и уровня значимости.\n",
    "    \n",
    "    :param profits: массив прибылей\n",
    "    :param target_profit: значение прибыли, которое мы хотим проверить (по умолчанию 1.0)\n",
    "    :param alpha: порог статистической значимости (по умолчанию 0.05)\n",
    "    :param desired_power: желаемая статистическая мощность (по умолчанию 0.8)\n",
    "    :return: результаты статистического анализа, включая t-статистику, p-значение, \n",
    "    статистическую мощность, и необходимый размер выборки для заданной мощности и уровня значимости\n",
    "    \"\"\"\n",
    "    print('------------------------------------------------------------------')\n",
    "\n",
    "    # Рассчитываем среднюю прибыль и количество сделок\n",
    "    mean_profit = np.mean(profits)\n",
    "    num_trades = len(profits)\n",
    "    std_profit = np.std(profits, ddof=1)\n",
    "\n",
    "    # Рассчитываем t-статистику и p-значение с помощью теста Уилкоксона\n",
    "    w_stat, p_value = stats.wilcoxon(profits - target_profit)\n",
    "\n",
    "    # Проверяем статистическую значимость для новых гипотез\n",
    "    if p_value < alpha and w_stat > 0:\n",
    "        print(\"Отвергаем нулевую гипотезу: прибыль стратегии больше {} долларов (p-value = {:.4f})\".format(target_profit, p_value))\n",
    "    else:\n",
    "        print(\"Не можем отвергнуть нулевую гипотезу: прибыль стратегии меньше {} долларов (p-value = {:.4f})\".format(target_profit, p_value))\n",
    "\n",
    "    # Рассчитываем статистическ\n",
    "    # Рассчитываем статистическую мощность (используя среднее и стандартное отклонение)\n",
    "    effect_size = (mean_profit - target_profit) / std_profit\n",
    "#     effect_size = abs((mean_profit - target_profit) / std_profit)\n",
    "    power = TTestPower().power(effect_size, num_trades, alpha, alternative=\"larger\")\n",
    "\n",
    "    print(\"Статистическая мощность: {:.4f}\".format(power))\n",
    "\n",
    "    # Рассчитываем необходимый размер выборки для заданной мощности и уровня значимости\n",
    "    required_num_trades = TTestPower().solve_power(effect_size, power=desired_power, alpha=alpha, alternative=\"larger\")\n",
    "\n",
    "    print(f'Размер эффекта: {effect_size}')\n",
    "    print(\"Необходимый размер выборки для статистической мощности 0.8 и порога статистической значимости {}:  {}\".format(alpha, np.ceil(required_num_trades).astype(int)))\n",
    "    print('------------------------------------------------------------------')\n"
   ]
  },
  {
   "cell_type": "markdown",
   "id": "b3205242",
   "metadata": {},
   "source": [
    "# Ещё тест"
   ]
  },
  {
   "cell_type": "code",
   "execution_count": 166,
   "id": "0baf0bee",
   "metadata": {},
   "outputs": [],
   "source": [
    "import numpy as np\n",
    "from scipy.stats import wilcoxon\n",
    "from statsmodels.stats.power import TTestIndPower\n",
    "\n",
    "def check_profit_hypothesis_3(cumulative_profit, null_hypothesis=10):\n",
    "    \n",
    "    # Вычитаем нулевую гипотезу из массива кумулятивного дохода\n",
    "    profit_diff = np.array(cumulative_profit) - null_hypothesis\n",
    "    \n",
    "    # Применяем одновыборочный критерий Вилкоксона\n",
    "    stat, p_value = wilcoxon(profit_diff, alternative=\"greater\")\n",
    "    \n",
    "    # Выводим результаты\n",
    "    print(f\"Статистика: {stat}, p-значение: {p_value}\")\n",
    "    \n",
    "    alpha = 0.05\n",
    "    if p_value < alpha:\n",
    "        print(f\"Отвергаем нулевую гипотезу. Средняя прибыль стратегии вероятно больше {null_hypothesis} долларов.\")\n",
    "    else:\n",
    "        print(f\"Не можем отвергнуть нулевую гипотезу. Недостаточно данных для утверждения, что средняя прибыль стратегии больше {null_hypothesis} долларов.\")\n"
   ]
  },
  {
   "cell_type": "code",
   "execution_count": null,
   "id": "c55a3d4b",
   "metadata": {},
   "outputs": [],
   "source": []
  },
  {
   "cell_type": "code",
   "execution_count": null,
   "id": "7953fdce",
   "metadata": {},
   "outputs": [],
   "source": []
  },
  {
   "cell_type": "code",
   "execution_count": null,
   "id": "78b4d10f",
   "metadata": {},
   "outputs": [],
   "source": []
  },
  {
   "cell_type": "code",
   "execution_count": null,
   "id": "f8aa3903",
   "metadata": {},
   "outputs": [],
   "source": []
  },
  {
   "cell_type": "code",
   "execution_count": null,
   "id": "b0a4c032",
   "metadata": {},
   "outputs": [],
   "source": []
  },
  {
   "cell_type": "code",
   "execution_count": null,
   "id": "52aa86ad",
   "metadata": {},
   "outputs": [],
   "source": []
  },
  {
   "cell_type": "code",
   "execution_count": 44,
   "id": "e075a2aa",
   "metadata": {},
   "outputs": [
    {
     "name": "stdout",
     "output_type": "stream",
     "text": [
      "Отвергаем нулевую гипотезу: прибыль стратегии больше 1.0 долларов (p-value = 0.0257)\n",
      "Статистическая мощность: 0.7436\n",
      "Размер эффекта: 0.4376715644679618\n",
      "Необходимый размер выборки для статистической мощности 0.8 и порога статистической значимости 0.05:  34\n"
     ]
    }
   ],
   "source": [
    "target_profit = 1.\n",
    "# данные по прибыли\n",
    "profits = trades_ATOM_BNB.profit.tolist()\n",
    "\n",
    "# Рассчитываем среднюю прибыль, стандартное отклонение и количество сделок\n",
    "mean_profit = np.mean(profits)\n",
    "std_profit = np.std(profits, ddof=1)\n",
    "num_trades = len(profits)\n",
    "\n",
    "# Рассчитываем t-статистику и p-значение\n",
    "t_stat, p_value = stats.ttest_1samp(profits, target_profit)\n",
    "\n",
    "# Порог статистической значимости\n",
    "alpha = 0.05\n",
    "\n",
    "# Проверяем статистическую значимость для новых гипотез\n",
    "if p_value < alpha and t_stat > 0:\n",
    "    print(\"Отвергаем нулевую гипотезу: прибыль стратегии больше {} долларов (p-value = {:.4f})\".format(target_profit, p_value))\n",
    "else:\n",
    "    print(\"Не можем отвергнуть нулевую гипотезу: прибыль стратегии меньше {} долларов (p-value = {:.4f})\".format(target_profit, p_value))\n",
    "\n",
    "# Рассчитываем статистическую мощность (используя среднее и стандартное отклонение)\n",
    "effect_size = (mean_profit - target_profit) / std_profit\n",
    "# effect_size = abs((mean_profit - target_profit) / std_profit)\n",
    "\n",
    "power = smp.TTestPower().power(effect_size, num_trades, alpha, alternative=\"larger\")\n",
    "\n",
    "print(\"Статистическая мощность: {:.4f}\".format(power))\n",
    "\n",
    "# Рассчитываем необходимый размер выборки для заданной мощности и уровня значимости\n",
    "desired_power = 0.8\n",
    "required_num_trades = smp.TTestPower().solve_power(effect_size, power=desired_power, alpha=alpha, alternative=\"larger\")\n",
    "print(f'Размер эффекта: {effect_size}')\n",
    "print(\"Необходимый размер выборки для статистической мощности 0.8 и порога статистической значимости {}:  {}\".format(alpha, np.ceil(required_num_trades).astype(int)))\n"
   ]
  },
  {
   "cell_type": "markdown",
   "id": "d1352d4a",
   "metadata": {},
   "source": [
    "# Интерпретация результатов"
   ]
  },
  {
   "cell_type": "code",
   "execution_count": null,
   "id": "7c960b2a",
   "metadata": {},
   "outputs": [],
   "source": []
  },
  {
   "cell_type": "code",
   "execution_count": null,
   "id": "4bc227e4",
   "metadata": {},
   "outputs": [],
   "source": []
  },
  {
   "cell_type": "code",
   "execution_count": null,
   "id": "3840f81d",
   "metadata": {},
   "outputs": [],
   "source": []
  },
  {
   "cell_type": "markdown",
   "id": "85f6cb09",
   "metadata": {},
   "source": [
    "# z-тест"
   ]
  },
  {
   "cell_type": "markdown",
   "id": "2cbd0325",
   "metadata": {},
   "source": [
    "Z-тест основан на стандартном нормальном распределении и используется, когда:\n",
    "\n",
    "- Размер выборки большой (обычно n > 30).\n",
    "- Известны параметры генеральной совокупности, такие как среднее значение и стандартное отклонение.\n",
    "- Распределение генеральной совокупности считается нормальным или приближенно нормальным."
   ]
  },
  {
   "cell_type": "code",
   "execution_count": 370,
   "id": "593e7315",
   "metadata": {},
   "outputs": [
    {
     "name": "stdout",
     "output_type": "stream",
     "text": [
      "Не можем отвергнуть нулевую гипотезу: прибыль стратегии меньше 0.0 долларов (p-value = 0.5719)\n",
      "Статистическая мощность: 0.0647\n",
      "Необходимый размер выборки для статистической мощности 0.8 и порога статистической значимости 0.05:  16215\n"
     ]
    }
   ],
   "source": [
    "import numpy as np\n",
    "import scipy.stats as stats\n",
    "import statsmodels.stats.power as smp\n",
    "from statsmodels.stats.weightstats import ztest\n",
    "\n",
    "target_profit = 0.0\n",
    "# данные по прибыли\n",
    "profits = trades_LTC_XMR.profit.tolist()\n",
    "\n",
    "# Рассчитываем среднюю прибыль, стандартное отклонение и количество сделок\n",
    "mean_profit = np.mean(profits)\n",
    "std_profit = np.std(profits, ddof=1)\n",
    "num_trades = len(profits)\n",
    "\n",
    "# Рассчитываем z-статистику и p-значение\n",
    "z_stat, p_value = ztest(profits, value=target_profit, alternative='larger')\n",
    "\n",
    "# Порог статистической значимости\n",
    "alpha = 0.05\n",
    "\n",
    "# Проверяем статистическую значимость для новых гипотез\n",
    "if p_value < alpha:\n",
    "    print(\"Отвергаем нулевую гипотезу: прибыль стратегии больше {} долларов (p-value = {:.4f})\".format(target_profit, p_value))\n",
    "else:\n",
    "    print(\"Не можем отвергнуть нулевую гипотезу: прибыль стратегии меньше {} долларов (p-value = {:.4f})\".format(target_profit, p_value))\n",
    "\n",
    "# Рассчитываем статистическую мощность (используя среднее и стандартное отклонение)\n",
    "effect_size = abs((mean_profit - target_profit) / std_profit)\n",
    "power = smp.NormalIndPower().power(effect_size, num_trades, alpha, alternative=\"larger\")\n",
    "\n",
    "print(\"Статистическая мощность: {:.4f}\".format(power))\n",
    "\n",
    "# Рассчитываем необходимый размер выборки для заданной мощности и уровня значимости\n",
    "desired_power = 0.8\n",
    "required_num_trades = smp.NormalIndPower().solve_power(effect_size, power=desired_power, alpha=alpha, alternative=\"larger\")\n",
    "print(\"Необходимый размер выборки для статистической мощности 0.8 и порога статистической значимости {}:  {}\".format(alpha, np.ceil(required_num_trades).astype(int)))\n"
   ]
  },
  {
   "cell_type": "code",
   "execution_count": null,
   "id": "e461f165",
   "metadata": {},
   "outputs": [],
   "source": []
  },
  {
   "cell_type": "code",
   "execution_count": 348,
   "id": "e6504176",
   "metadata": {},
   "outputs": [],
   "source": [
    "import numpy as np # linear algebra\n",
    "import pandas as pd # data processing, CSV file I/O (e.g. pd.read_csv)\n",
    "# Input data files are available in the \"../input/\" directory.\n",
    "# For example, running this (by clicking run or pressing Shift+Enter) will list the files in the input directory\n",
    "import os\n",
    "# Any results you write to the current directory are saved as output.\n",
    "from pandas import read_csv\n",
    "#Lets load the dataset and sample some\n",
    "column_names = ['CRIM', 'ZN', 'INDUS', 'CHAS', 'NOX', 'RM', 'AGE', 'DIS', 'RAD', 'TAX', 'PTRATIO', 'B', 'LSTAT', 'MEDV']\n",
    "data = read_csv('C:/Users/ahrus/Downloads/housing.csv', header=None, delimiter=r\"\\s+\", names=column_names)\n",
    "data = data['MEDV'] # средняя стоимость домов в 1000$"
   ]
  },
  {
   "cell_type": "code",
   "execution_count": 349,
   "id": "d2a9d12e",
   "metadata": {},
   "outputs": [
    {
     "data": {
      "text/plain": [
       "0      24.0\n",
       "1      21.6\n",
       "2      34.7\n",
       "3      33.4\n",
       "4      36.2\n",
       "       ... \n",
       "501    22.4\n",
       "502    20.6\n",
       "503    23.9\n",
       "504    22.0\n",
       "505    11.9\n",
       "Name: MEDV, Length: 506, dtype: float64"
      ]
     },
     "execution_count": 349,
     "metadata": {},
     "output_type": "execute_result"
    }
   ],
   "source": [
    "data"
   ]
  },
  {
   "cell_type": "code",
   "execution_count": 361,
   "id": "d9b752a4",
   "metadata": {},
   "outputs": [
    {
     "data": {
      "text/plain": [
       "0     24.0\n",
       "1     21.6\n",
       "2     34.7\n",
       "3     33.4\n",
       "4     36.2\n",
       "      ... \n",
       "65    23.5\n",
       "66    19.4\n",
       "67    22.0\n",
       "68    17.4\n",
       "69    20.9\n",
       "Name: MEDV, Length: 70, dtype: float64"
      ]
     },
     "execution_count": 361,
     "metadata": {},
     "output_type": "execute_result"
    }
   ],
   "source": [
    "data_test = data[:70]\n",
    "data_test"
   ]
  },
  {
   "cell_type": "code",
   "execution_count": 362,
   "id": "42e87e71",
   "metadata": {},
   "outputs": [
    {
     "data": {
      "text/plain": [
       "21.21857142857143"
      ]
     },
     "execution_count": 362,
     "metadata": {},
     "output_type": "execute_result"
    }
   ],
   "source": [
    "data_test.mean()"
   ]
  },
  {
   "cell_type": "code",
   "execution_count": 363,
   "id": "ef40a569",
   "metadata": {},
   "outputs": [],
   "source": [
    "15 < ... < 25"
   ]
  },
  {
   "cell_type": "code",
   "execution_count": 373,
   "id": "619b010f",
   "metadata": {},
   "outputs": [
    {
     "name": "stdout",
     "output_type": "stream",
     "text": [
      "Отвергаем нулевую гипотезу: средняя стоимость дома больше 0k долларов (p-value = 0.0000)\n",
      "Статистическая мощность: 1.0000\n",
      "Необходимый размер выборки для статистической мощности 0.8 и порога статистической значимости 0.05:  3\n"
     ]
    }
   ],
   "source": [
    "import numpy as np\n",
    "import scipy.stats as stats\n",
    "import statsmodels.stats.power as smp\n",
    "\n",
    "target_profit = 0\n",
    "# данные по прибыли\n",
    "profits = data_test.tolist()\n",
    "\n",
    "# Рассчитываем среднюю прибыль, стандартное отклонение и количество сделок\n",
    "mean_profit = np.mean(profits)\n",
    "std_profit = np.std(profits, ddof=1)\n",
    "num_trades = len(profits)\n",
    "\n",
    "# Рассчитываем t-статистику и p-значение\n",
    "t_stat, p_value = stats.ttest_1samp(profits, target_profit)\n",
    "\n",
    "# Порог статистической значимости\n",
    "alpha = 0.05\n",
    "\n",
    "# Проверяем статистическую значимость для новых гипотез\n",
    "if p_value / 2 < alpha and t_stat > 0:\n",
    "    print(\"Отвергаем нулевую гипотезу: средняя стоимость дома больше {}k долларов (p-value = {:.4f})\".format(target_profit, p_value / 2))\n",
    "else:\n",
    "    print(\"Не можем отвергнуть нулевую гипотезу: редняя стоимость дома меньше {}k долларов (p-value = {:.4f})\".format(target_profit, p_value / 2))\n",
    "\n",
    "# Рассчитываем статистическую мощность (используя среднее и стандартное отклонение)\n",
    "effect_size = abs((mean_profit - target_profit) / std_profit)\n",
    "power = smp.TTestPower().power(effect_size, num_trades, alpha, alternative=\"larger\")\n",
    "\n",
    "print(\"Статистическая мощность: {:.4f}\".format(power))\n",
    "\n",
    "# Рассчитываем необходимый размер выборки для заданной мощности и уровня значимости\n",
    "desired_power = 0.8\n",
    "required_num_trades = smp.TTestPower().solve_power(effect_size, power=desired_power, alpha=alpha, alternative=\"larger\")\n",
    "\n",
    "print(\"Необходимый размер выборки для статистической мощности 0.8 и порога статистической значимости {}:  {}\".format(alpha, np.ceil(required_num_trades).astype(int)))\n"
   ]
  },
  {
   "cell_type": "code",
   "execution_count": 365,
   "id": "5d9dc5a5",
   "metadata": {},
   "outputs": [
    {
     "data": {
      "text/plain": [
       "22.532806324110677"
      ]
     },
     "execution_count": 365,
     "metadata": {},
     "output_type": "execute_result"
    }
   ],
   "source": [
    "#проверка реального значения на всей выборke\n",
    "data.mean()"
   ]
  },
  {
   "cell_type": "code",
   "execution_count": null,
   "id": "b7c77035",
   "metadata": {},
   "outputs": [],
   "source": []
  },
  {
   "cell_type": "code",
   "execution_count": null,
   "id": "f1d452e2",
   "metadata": {},
   "outputs": [],
   "source": []
  },
  {
   "cell_type": "code",
   "execution_count": null,
   "id": "40545161",
   "metadata": {},
   "outputs": [],
   "source": []
  },
  {
   "cell_type": "code",
   "execution_count": null,
   "id": "9cf67e91",
   "metadata": {},
   "outputs": [],
   "source": []
  },
  {
   "cell_type": "code",
   "execution_count": 271,
   "id": "17701196",
   "metadata": {},
   "outputs": [
    {
     "data": {
      "image/png": "[encoded data removed]",
      "text/plain": [
       "<Figure size 500x1000 with 3 Axes>"
      ]
     },
     "metadata": {},
     "output_type": "display_data"
    }
   ],
   "source": [
    "fig, (ax1, ax2, ax3) = plt.subplots(3, 1)\n",
    "\n",
    "ax1.hist(trades_LTC_XMR.profit)\n",
    "ax1.set_title(f'LTC_XMR: {trades_LTC_XMR.profit.sum()}')\n",
    "\n",
    "ax2.hist(trades_ATOM_BNB.profit)\n",
    "ax2.set_title(f'ATOM_BNB: {trades_ATOM_BNB.profit.sum()}')\n",
    "\n",
    "ax3.hist(trades_AR_DOT.profit)\n",
    "ax3.set_title(f'AR_DOT: {trades_AR_DOT.profit.sum()}')\n",
    "\n",
    "# Изменяем размер фигуры\n",
    "fig.set_size_inches(5, 10)\n",
    "\n",
    "plt.subplots_adjust(hspace=0.3)\n",
    "\n",
    "plt.show()"
   ]
  },
  {
   "cell_type": "markdown",
   "id": "b9c89be4",
   "metadata": {},
   "source": [
    "# Проверка на нормальность"
   ]
  },
  {
   "cell_type": "markdown",
   "id": "5b93c059",
   "metadata": {},
   "source": [
    "# Тест Шапиро-Уилка"
   ]
  },
  {
   "cell_type": "code",
   "execution_count": 46,
   "id": "201b131c",
   "metadata": {},
   "outputs": [],
   "source": [
    "from scipy.stats import shapiro"
   ]
  },
  {
   "cell_type": "markdown",
   "id": "27e26ff5",
   "metadata": {},
   "source": [
    " - Тест Шапиро-Уилка https://docs.scipy.org/doc/scipy/reference/generated/scipy.stats.shapiro.html\n",
    " - Чувствителен к выбросам в данных, что может привести к неправильным выводам о нормальности распределения. В некоторых случаях используют другие тесты на нормальность, такие как тест Колмогорова-Смирнова или тест Лиллиефорса.\n",
    "  - Тест Шапиро-Уилка полезен для определения, можно ли применять параметрические статистические методы (такие как t-тест, дисперсионный анализ и регрессионный анализ) к данным. Если гипотеза о нормальности отвергается, следует рассмотреть использование непараметрических методов, таких как тест Манна-Уитни, тест Крускалла-Уолллиса или ранговая корреляция Спирмена"
   ]
  },
  {
   "cell_type": "markdown",
   "id": "000fcbe1",
   "metadata": {},
   "source": [
    " - Нулевая гипотеза (H0) для теста Шапиро-Уилка состоит в том, что данные имеют нормальное распределение. Альтернативная гипотеза (H1) состоит в том, что данные не имеют нормального распределения.\n",
    " - Статистика W является значением статистики теста Шапиро-Уилка, которое указывает на степень согласия данных с нормальным распределением. Значение W находится в диапазоне от 0 до 1. Значение, близкое к 1, указывает на то, что данные более вероятно имеют нормальное распределение, в то время как значение, близкое к 0, указывает на сильное отклонение от нормальности\n",
    " - P-value представляет собой вероятность получить такую же статистику W или более экстремальную при условии, что нулевая гипотеза верна. P-value используется для определения того, следует ли отвергнуть нулевую гипотезу на заданном уровне значимости (обычно 0.05)."
   ]
  },
  {
   "cell_type": "markdown",
   "id": "5a29ae2c",
   "metadata": {},
   "source": [
    "Alpha (α) — это уровень значимости, который используется в статистических тестах для определения порога, при котором мы принимаем решение об отклонении или неотклонении нулевой гипотезы. Обычно α устанавливается равным 0.05, хотя в зависимости от ситуации и требуемой точности может быть выбран другой уровень значимости, например 0.01 или 0.10.\n",
    "\n",
    "Уровень значимости α представляет собой вероятность ошибочно отклонить нулевую гипотезу, когда она на самом деле верна. Это также называется ошибкой первого рода. С другой стороны, вероятность принять нулевую гипотезу, когда она на самом деле неверна, называется ошибкой второго рода. Уровень значимости помогает балансировать между этими двумя видами ошибок.\n",
    "\n",
    "Если p-value меньше α, это означает, что вероятность получить такие или более экстремальные результаты при условии, что нулевая гипотеза верна, очень низка. В этом случае мы считаем, что имеем достаточно оснований отклонить нулевую гипотезу в пользу альтернативной гипотезы."
   ]
  },
  {
   "cell_type": "code",
   "execution_count": 55,
   "id": "18460257",
   "metadata": {},
   "outputs": [
    {
     "name": "stdout",
     "output_type": "stream",
     "text": [
      "Tест Шапиро-Уилка\n",
      "------------------------------\n",
      "------------------------------\n",
      "XMR_LTC:\n",
      "Отклоняем нулевую гипотезу, данные не имеют нормальное распределение\n",
      "------------------------------\n",
      "ATOM_BNB:\n",
      "Отклоняем нулевую гипотезу, данные не имеют нормальное распределение\n",
      "------------------------------\n",
      "AR_DOT:\n",
      "Не можем отклонить нулевую гипотезу, данные могут иметь нормальное распределение\n",
      "------------------------------\n"
     ]
    }
   ],
   "source": [
    "alpha = 0.05\n",
    "print('Tест Шапиро-Уилка')\n",
    "print('------------------------------')\n",
    "print('------------------------------')\n",
    "\n",
    "W, p_value = shapiro(trades_LTC_XMR.profit)\n",
    "print('XMR_LTC:')\n",
    "if p_value < alpha:\n",
    "    print(\"Отклоняем нулевую гипотезу, данные не имеют нормальное распределение\")\n",
    "else:\n",
    "    print(\"Не можем отклонить нулевую гипотезу, данные могут иметь нормальное распределение\")\n",
    "print('------------------------------')\n",
    "\n",
    "W, p_value = shapiro(trades_ATOM_BNB.profit)\n",
    "print('ATOM_BNB:')\n",
    "if p_value < alpha:\n",
    "    print(\"Отклоняем нулевую гипотезу, данные не имеют нормальное распределение\")\n",
    "else:\n",
    "    print(\"Не можем отклонить нулевую гипотезу, данные могут иметь нормальное распределение\")\n",
    "print('------------------------------')\n",
    "\n",
    "\n",
    "W, p_value = shapiro(trades_AR_DOT.profit)\n",
    "print('AR_DOT:')\n",
    "if p_value < alpha:\n",
    "    print(\"Отклоняем нулевую гипотезу, данные не имеют нормальное распределение\")\n",
    "else:\n",
    "    print(\"Не можем отклонить нулевую гипотезу, данные могут иметь нормальное распределение\")\n",
    "print('------------------------------')"
   ]
  },
  {
   "cell_type": "markdown",
   "id": "6d2f30f1",
   "metadata": {},
   "source": [
    "# Тест Колмогорова-Смирнова"
   ]
  },
  {
   "cell_type": "code",
   "execution_count": 57,
   "id": "3743127d",
   "metadata": {},
   "outputs": [],
   "source": [
    "from scipy.stats import kstest"
   ]
  },
  {
   "cell_type": "markdown",
   "id": "adc467a1",
   "metadata": {},
   "source": [
    "Тест Колмогорова-Смирнова (K-S тест) - это статистический тест, используемый для проверки соответствия распределения данных теоретическому распределению. Он основан на сравнении двух функций распределения: теоретической и эмпирической (полученной из данных)\n",
    "- K-S тест непараметрический: он не зависит от параметров распределения. Это означает, что вы можете использовать его для проверки соответствия любого распределения, независимо от того, какие параметры оно имеет.\n",
    "- K-S тест чувствителен к форме распределения: он может выявлять различия между распределениями, которые отличаются не только параметрами, но и формой распределения. Например, он может показать, что данные не соответствуют нормальному распределению, даже если они имеют похожие параметры.\n",
    "- K-S тест чувствителен к размеру выборки: при увеличении размера выборки увеличивается чувствительность теста, что позволяет более точно определить, является ли распределение данных теоретическому распределению.\n",
    "- K-S тест независим от среднего и стандартного отклонения: он сравнивает только функции распределения и не учитывает никакие меры центральной тенденции или разброса данных, такие как среднее или стандартное отклонение."
   ]
  },
  {
   "cell_type": "code",
   "execution_count": 65,
   "id": "5560d022",
   "metadata": {},
   "outputs": [
    {
     "name": "stdout",
     "output_type": "stream",
     "text": [
      "Tест Колмогорова-Смирнова\n",
      "------------------------------\n",
      "------------------------------\n",
      "XMR_LTC:\n",
      "Отклоняем нулевую гипотезу, данные не имеют нормальное распределение\n",
      "------------------------------\n",
      "ATOM_BNB:\n",
      "Отклоняем нулевую гипотезу, данные не имеют нормальное распределение\n",
      "------------------------------\n",
      "AR_DOT:\n",
      "Отклоняем нулевую гипотезу, данные не имеют нормальное распределение\n",
      "------------------------------\n"
     ]
    }
   ],
   "source": [
    "alpha = 0.05\n",
    "print('Tест Колмогорова-Смирнова')\n",
    "print('------------------------------')\n",
    "print('------------------------------')\n",
    "\n",
    "kstest_result = kstest(trades_LTC_XMR.profit,'norm')\n",
    "p_value = kstest_result.pvalue\n",
    "print('XMR_LTC:')\n",
    "if p_value < alpha:\n",
    "    print(\"Отклоняем нулевую гипотезу, данные не имеют нормальное распределение\")\n",
    "else:\n",
    "    print(\"Не можем отклонить нулевую гипотезу, данные могут иметь нормальное распределение\")\n",
    "print('------------------------------')\n",
    "\n",
    "kstest_result = kstest(trades_ATOM_BNB.profit,'norm')\n",
    "p_value = kstest_result.pvalue\n",
    "print('ATOM_BNB:')\n",
    "if p_value < alpha:\n",
    "    print(\"Отклоняем нулевую гипотезу, данные не имеют нормальное распределение\")\n",
    "else:\n",
    "    print(\"Не можем отклонить нулевую гипотезу, данные могут иметь нормальное распределение\")\n",
    "print('------------------------------')\n",
    "\n",
    "\n",
    "kstest_result = kstest(trades_AR_DOT.profit,'norm')\n",
    "p_value = kstest_result.pvalue\n",
    "print('AR_DOT:')\n",
    "if p_value < alpha:\n",
    "    print(\"Отклоняем нулевую гипотезу, данные не имеют нормальное распределение\")\n",
    "else:\n",
    "    print(\"Не можем отклонить нулевую гипотезу, данные могут иметь нормальное распределение\")\n",
    "print('------------------------------')"
   ]
  },
  {
   "cell_type": "markdown",
   "id": "d1873f96",
   "metadata": {},
   "source": [
    "# Тест Лиллиефорса"
   ]
  },
  {
   "cell_type": "code",
   "execution_count": 74,
   "id": "fec5dcb8",
   "metadata": {},
   "outputs": [],
   "source": [
    "from scipy.stats import normaltest"
   ]
  },
  {
   "cell_type": "code",
   "execution_count": 75,
   "id": "469e1c99",
   "metadata": {},
   "outputs": [
    {
     "name": "stdout",
     "output_type": "stream",
     "text": [
      "Tест Колмогорова-Смирнова\n",
      "------------------------------\n",
      "------------------------------\n",
      "XMR_LTC:\n",
      "Отклоняем нулевую гипотезу, данные не имеют нормальное распределение\n",
      "------------------------------\n",
      "ATOM_BNB:\n",
      "Не можем отклонить нулевую гипотезу, данные могут иметь нормальное распределение\n",
      "------------------------------\n",
      "AR_DOT:\n",
      "Не можем отклонить нулевую гипотезу, данные могут иметь нормальное распределение\n",
      "------------------------------\n"
     ]
    }
   ],
   "source": [
    "alpha = 0.05\n",
    "print('Tест Колмогорова-Смирнова')\n",
    "print('------------------------------')\n",
    "print('------------------------------')\n",
    "\n",
    "\n",
    "lilliefors_result = normaltest(trades_LTC_XMR.profit)\n",
    "p_value = lilliefors_result.pvalue\n",
    "print('XMR_LTC:')\n",
    "if p_value < alpha:\n",
    "    print(\"Отклоняем нулевую гипотезу, данные не имеют нормальное распределение\")\n",
    "else:\n",
    "    print(\"Не можем отклонить нулевую гипотезу, данные могут иметь нормальное распределение\")\n",
    "print('------------------------------')\n",
    "\n",
    "lilliefors_result = normaltest(trades_ATOM_BNB.profit)\n",
    "p_value = lilliefors_result.pvalue\n",
    "\n",
    "print('ATOM_BNB:')\n",
    "if p_value < alpha:\n",
    "    print(\"Отклоняем нулевую гипотезу, данные не имеют нормальное распределение\")\n",
    "else:\n",
    "    print(\"Не можем отклонить нулевую гипотезу, данные могут иметь нормальное распределение\")\n",
    "print('------------------------------')\n",
    "\n",
    "\n",
    "lilliefors_result = normaltest(trades_AR_DOT.profit)\n",
    "p_value = lilliefors_result.pvalue\n",
    "\n",
    "print('AR_DOT:')\n",
    "if p_value < alpha:\n",
    "    print(\"Отклоняем нулевую гипотезу, данные не имеют нормальное распределение\")\n",
    "else:\n",
    "    print(\"Не можем отклонить нулевую гипотезу, данные могут иметь нормальное распределение\")\n",
    "print('------------------------------')"
   ]
  },
  {
   "cell_type": "markdown",
   "id": "933d5baa",
   "metadata": {},
   "source": [
    "# "
   ]
  }
 ],
 "metadata": {
  "kernelspec": {
   "display_name": "Python 3 (ipykernel)",
   "language": "python",
   "name": "python3"
  },
  "language_info": {
   "codemirror_mode": {
    "name": "ipython",
    "version": 3
   },
   "file_extension": ".py",
   "mimetype": "text/x-python",
   "name": "python",
   "nbconvert_exporter": "python",
   "pygments_lexer": "ipython3",
   "version": "3.11.4"
  }
 },
 "nbformat": 4,
 "nbformat_minor": 5
}
