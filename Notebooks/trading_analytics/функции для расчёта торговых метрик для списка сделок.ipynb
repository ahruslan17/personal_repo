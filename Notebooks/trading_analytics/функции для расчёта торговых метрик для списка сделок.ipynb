{
 "cells": [
  {
   "cell_type": "code",
   "execution_count": 1,
   "id": "1d853ac3",
   "metadata": {},
   "outputs": [],
   "source": [
    "import math \n",
    "import pandas as pd\n",
    "import yfinance as yf\n",
    "import statsmodels.tsa.stattools as smt\n",
    "import datetime\n",
    "from statsmodels.tsa.stattools import adfuller\n",
    "import numpy as np\n",
    "import matplotlib.pyplot as plt\n",
    "import statsmodels.api as sm\n",
    "from pandas import read_csv\n",
    "from sklearn.linear_model import LinearRegression\n",
    "import math\n",
    "import numpy as np\n",
    "import scipy.stats as stats\n",
    "import statsmodels.stats.power as smp\n",
    "from statsmodels.stats.power import TTestPower\n",
    "import random"
   ]
  },
  {
   "cell_type": "code",
   "execution_count": 2,
   "id": "788e493d",
   "metadata": {},
   "outputs": [],
   "source": [
    "import warnings\n",
    "warnings.filterwarnings('ignore')"
   ]
  },
  {
   "cell_type": "markdown",
   "id": "cd2f01a9",
   "metadata": {},
   "source": [
    "# Statistical Significance"
   ]
  },
  {
   "cell_type": "markdown",
   "id": "d79015bd",
   "metadata": {},
   "source": [
    "# Непараметрический тест"
   ]
  },
  {
   "cell_type": "code",
   "execution_count": 3,
   "id": "9c92159b",
   "metadata": {},
   "outputs": [],
   "source": [
    "import numpy as np\n",
    "from scipy.stats import wilcoxon\n",
    "from statsmodels.stats.power import TTestIndPower\n",
    "\n",
    "def check_profit_hypothesis_3(profit:pd.DataFrame, null_hypothesis=10):\n",
    "    \n",
    "    # Вычитаем нулевую гипотезу из массива кумулятивного дохода\n",
    "    profit_diff = np.array(profit) - null_hypothesis\n",
    "    \n",
    "    # Применяем одновыборочный критерий Вилкоксона\n",
    "    stat, p_value = wilcoxon(profit_diff, alternative=\"greater\")\n",
    "    \n",
    "    # Выводим результаты\n",
    "    print(f\"Статистика: {stat}, p-значение: {p_value}\")\n",
    "    \n",
    "    alpha = 0.05\n",
    "    if p_value < alpha:\n",
    "        print(f\"Отвергаем нулевую гипотезу. Средняя месячная прибыль стратегии вероятно больше {null_hypothesis} долларов.\")\n",
    "    else:\n",
    "        print(f\"Не можем отвергнуть нулевую гипотезу. Недостаточно данных для утверждения, что средняя прибыль стратегии больше {null_hypothesis} долларов.\")"
   ]
  },
  {
   "cell_type": "code",
   "execution_count": 4,
   "id": "4fe41a98",
   "metadata": {},
   "outputs": [],
   "source": [
    "# пример использования\n",
    "data = {\n",
    "    'sum_of_deals': [-20, 4, 11, 11, 11, 11, 11, 11]\n",
    "}\n",
    "\n",
    "df = pd.DataFrame(data)"
   ]
  },
  {
   "cell_type": "code",
   "execution_count": 21,
   "id": "e8ed05cc",
   "metadata": {},
   "outputs": [
    {
     "name": "stdout",
     "output_type": "stream",
     "text": [
      "Статистика: [4122.], p-значение: [0.09878884]\n",
      "Не можем отвергнуть нулевую гипотезу. Недостаточно данных для утверждения, что средняя прибыль стратегии больше 380 долларов.\n"
     ]
    }
   ],
   "source": [
    "check_profit_hypothesis_3(df, 380)"
   ]
  },
  {
   "cell_type": "markdown",
   "id": "cf1121c8",
   "metadata": {},
   "source": [
    "# Параметрический тест"
   ]
  },
  {
   "cell_type": "code",
   "execution_count": 6,
   "id": "9ad0452f",
   "metadata": {},
   "outputs": [],
   "source": [
    "def check_profit_hypothesis(profits: pd.DataFrame, target_profit=1.0, alpha=0.05, desired_power=0.8):\n",
    "    \"\"\"\n",
    "    Проверяет гипотезу о том, что средняя прибыль стратегии больше target_profit.\n",
    "    Возвращает результаты статистического анализа, такие как t-статистика, p-значение,\n",
    "    статистическая мощность, и необходимый размер выборки для заданной мощности и уровня значимости.\n",
    "    \n",
    "    :param profits: массив прибылей\n",
    "    :param target_profit: значение прибыли, которое мы хотим проверить (по умолчанию 1.0)\n",
    "    :param alpha: порог статистической значимости (по умолчанию 0.05)\n",
    "    :param desired_power: желаемая статистическая мощность (по умолчанию 0.8)\n",
    "    :return: результаты статистического анализа, включая t-статистику, p-значение, \n",
    "    статистическую мощность, и необходимый размер выборки для заданной мощности и уровня значимости\n",
    "    \"\"\"\n",
    "    print('------------------------------------------------------------------')\n",
    "    \n",
    "    # функция изначально написана для массива, так что если на вход подаётся датафрейм, то преобразуем в массив\n",
    "    if isinstance(profits, pd.DataFrame):\n",
    "        profits = profits.iloc[:, 0].values\n",
    "        \n",
    "        \n",
    "    # Рассчитываем среднюю прибыль, стандартное отклонение и количество сделок\n",
    "    mean_profit = np.mean(profits)\n",
    "    std_profit = np.std(profits, ddof=1)\n",
    "    num_trades = len(profits)\n",
    "\n",
    "    # Рассчитываем t-статистику и p-значение\n",
    "    t_stat, p_value = stats.ttest_1samp(profits, target_profit)\n",
    "\n",
    "    # Проверяем статистическую значимость для новых гипотез\n",
    "    if p_value < alpha and t_stat > 0:\n",
    "        print(\"Отвергаем нулевую гипотезу: прибыль стратегии больше {} долларов (p-value = {:.4f})\".format(target_profit, p_value))\n",
    "    else:\n",
    "        print(\"Не можем отвергнуть нулевую гипотезу: прибыль стратегии меньше {} долларов (p-value = {:.4f})\".format(target_profit, p_value))\n",
    "\n",
    "    # Рассчитываем статистическую мощность (используя среднее и стандартное отклонение)\n",
    "    effect_size = (mean_profit - target_profit) / std_profit\n",
    "#     effect_size = abs((mean_profit - target_profit) / std_profit)\n",
    "    power = TTestPower().power(effect_size, num_trades, alpha, alternative=\"larger\")\n",
    "\n",
    "    print(\"Статистическая мощность: {:.4f}\".format(power))\n",
    "\n",
    "    # Рассчитываем необходимый размер выборки для заданной мощности и уровня знач\n",
    "    # Рассчитываем необходимый размер выборки для заданной мощности и уровня значимости\n",
    "    desired_power = 0.8\n",
    "    required_num_trades = smp.TTestPower().solve_power(effect_size, power=desired_power, alpha=alpha, alternative=\"larger\")\n",
    "    print(f'Размер эффекта: {effect_size}')\n",
    "    print(\"Необходимый размер выборки для статистической мощности 0.8 и порога статистической значимости {}:  {}\".format(alpha, np.ceil(required_num_trades).astype(int)))\n",
    "    print('------------------------------------------------------------------')\n"
   ]
  },
  {
   "cell_type": "code",
   "execution_count": 7,
   "id": "4ce64e07",
   "metadata": {},
   "outputs": [],
   "source": [
    "data = [263.9632526,\n",
    "242.1856214,\n",
    "354.7278898,\n",
    "200.5701441,\n",
    "399.5358386,\n",
    "340.3437055,\n",
    "376.4985407,\n",
    "294.341567,\n",
    "301.5415408,\n",
    "450.1187703,\n",
    "330.3628297,\n",
    "514.9764508,\n",
    "354.0658617,\n",
    "313.33531,\n",
    "284.6854019,\n",
    "217.1951426,\n",
    "287.62086,\n",
    "379.1342482,\n",
    "367.5893078,\n",
    "204.9784654,\n",
    "430.914587,\n",
    "230.0239687,\n",
    "442.982582,\n",
    "295.1034924,\n",
    "311.4906711,\n",
    "306.8834013,\n",
    "398.9855183,\n",
    "243.7390359,\n",
    "223.5010473,\n",
    "233.1678062,\n",
    "411.0953008,\n",
    "228.3137828,\n",
    "293.9017508,\n",
    "251.716526,\n",
    "466.7383072,\n",
    "349.5177312,\n",
    "331.2043047,\n",
    "146.237697,\n",
    "365.4343315,\n",
    "320.9653823,\n",
    "559.5132397,\n",
    "572.8930288,\n",
    "594.0681978,\n",
    "569.7323218,\n",
    "410.1125859,\n",
    "601.7105946,\n",
    "486.7173697,\n",
    "592.0652467,\n",
    "583.7014518,\n",
    "228.1833295,\n",
    "511.5600732,\n",
    "476.2689442,\n",
    "297.2625113,\n",
    "575.2037047,\n",
    "697.7293154,\n",
    "407.8271821,\n",
    "303.2012545,\n",
    "331.7896747,\n",
    "415.8580836,\n",
    "375.708425,\n",
    "332.1002477,\n",
    "536.7043136,\n",
    "396.8725388,\n",
    "433.356469,\n",
    "499.0323618,\n",
    "589.4502121,\n",
    "368.978932,\n",
    "647.8966839,\n",
    "278.8070863,\n",
    "372.1478713,\n",
    "408.1745617,\n",
    "445.5184188,\n",
    "372.5970919,\n",
    "734.361613,\n",
    "501.807779,\n",
    "486.6549355,\n",
    "356.1427776,\n",
    "436.8771003,\n",
    "726.435871,\n",
    "471.8337568,\n",
    "356.9197213,\n",
    "511.1320115,\n",
    "405.9101536,\n",
    "381.4739281,\n",
    "434.4072723,\n",
    "470.9962244,\n",
    "199.8011422,\n",
    "392.3605564,\n",
    "526.678396,\n",
    "403.0758225,\n",
    "394.3523339,\n",
    "195.9487037,\n",
    "391.9150582,\n",
    "385.6438115,\n",
    "359.1089052,\n",
    "332.416634,\n",
    "515.0194144,\n",
    "524.3838912,\n",
    "207.1852234,\n",
    "445.862201,\n",
    "294.5767041,\n",
    "422.5341908,\n",
    "374.4263491,\n",
    "429.5693153,\n",
    "316.2265974,\n",
    "431.8561814,\n",
    "344.1393147,\n",
    "443.8997122,\n",
    "542.0021318,\n",
    "601.8873627,\n",
    "303.0128818,\n",
    "318.9263794,\n",
    "426.0102853,\n",
    "567.3114481,\n",
    "364.5696773,\n",
    "366.7456617,\n",
    "468.281671,\n",
    "427.3980869,\n",
    "437.2640111,\n",
    "404.8522004]"
   ]
  },
  {
   "cell_type": "code",
   "execution_count": 8,
   "id": "365abd45",
   "metadata": {},
   "outputs": [],
   "source": [
    "# пример использования\n",
    "data = {\n",
    "    'sum_of_deals': data\n",
    "}\n",
    "\n",
    "df = pd.DataFrame(data)"
   ]
  },
  {
   "cell_type": "code",
   "execution_count": 12,
   "id": "9d28560f",
   "metadata": {},
   "outputs": [
    {
     "data": {
      "text/plain": [
       "sum_of_deals    398.888556\n",
       "dtype: float64"
      ]
     },
     "execution_count": 12,
     "metadata": {},
     "output_type": "execute_result"
    }
   ],
   "source": [
    "df.mean()"
   ]
  },
  {
   "cell_type": "code",
   "execution_count": 22,
   "id": "80f27580",
   "metadata": {},
   "outputs": [
    {
     "name": "stdout",
     "output_type": "stream",
     "text": [
      "------------------------------------------------------------------\n",
      "Не можем отвергнуть нулевую гипотезу: прибыль стратегии меньше 380 долларов (p-value = 0.0852)\n",
      "Статистическая мощность: 0.5322\n",
      "Размер эффекта: 0.15844293125174524\n",
      "Необходимый размер выборки для статистической мощности 0.8 и порога статистической значимости 0.05:  248\n",
      "------------------------------------------------------------------\n"
     ]
    }
   ],
   "source": [
    "check_profit_hypothesis(df, target_profit=380)"
   ]
  },
  {
   "cell_type": "markdown",
   "id": "40adc4c2",
   "metadata": {},
   "source": [
    "# Расчёт коэффициентов и метрик"
   ]
  },
  {
   "cell_type": "code",
   "execution_count": 9,
   "id": "46fc4804",
   "metadata": {},
   "outputs": [
    {
     "name": "stdout",
     "output_type": "stream",
     "text": [
      "           0\n",
      "0   500.0000\n",
      "1  -315.0000\n",
      "2  1018.5000\n",
      "3  -224.0700\n",
      "4   439.1772\n"
     ]
    }
   ],
   "source": [
    "# эту функцию я использую, чтобы преобразовывать ряд с доходностями в процентах в ряд с доходами в долларах\n",
    "# так удобнее задавать примеры \n",
    "def calculate_monthly_income(percentages, initial_capital):\n",
    "    monthly_incomes = []\n",
    "    current_capital = initial_capital\n",
    "\n",
    "    for percentage in percentages:\n",
    "        income = current_capital * (percentage / 100)\n",
    "        monthly_incomes.append(income)\n",
    "        current_capital += income\n",
    "\n",
    "    return pd.DataFrame(monthly_incomes)\n",
    "\n",
    "\n",
    "# Пример использования функции\n",
    "percentages = [5, -3, 10, -2, 4] # Процентная доходность за каждый месяц\n",
    "initial_capital = 10000 # Начальный капитал\n",
    "\n",
    "monthly_incomes = calculate_monthly_income(percentages, initial_capital)\n",
    "print(monthly_incomes)"
   ]
  },
  {
   "cell_type": "markdown",
   "id": "abd4aa25",
   "metadata": {},
   "source": [
    "# GHPR"
   ]
  },
  {
   "cell_type": "code",
   "execution_count": 10,
   "id": "b7f96519",
   "metadata": {},
   "outputs": [],
   "source": [
    "def calc_GHPR(initial_value: float, final_value: float, num_deals: float):\n",
    "    '''\n",
    "    initial_value - сумма на старте торговли\n",
    "    final_value - сумма по окончании торговли\n",
    "    num_deals - количество месяцев торговли\n",
    "    \n",
    "    absolute - среднее геометрическое за сделку\n",
    "    '''\n",
    "    absolute = 100*((final_value / initial_value) ** (1 / num_deals) - 1) # в процетнах\n",
    "    \n",
    "    return absolute  # в процентах"
   ]
  },
  {
   "cell_type": "code",
   "execution_count": 11,
   "id": "a4acafea",
   "metadata": {},
   "outputs": [
    {
     "name": "stdout",
     "output_type": "stream",
     "text": [
      "0.6955550056718884\n"
     ]
    }
   ],
   "source": [
    "# Пример использования функции\n",
    "initial_value = 1000  # Начальная сумма инвестиций\n",
    "final_value = 2000    # Конечная сумма инвестиций\n",
    "num_deals = 100    # Количество месяцев\n",
    "\n",
    "cagr_value = calc_GHPR(initial_value, final_value, num_deals)\n",
    "print(cagr_value)"
   ]
  },
  {
   "cell_type": "markdown",
   "id": "8624f2d2",
   "metadata": {},
   "source": [
    "# AHPR"
   ]
  },
  {
   "cell_type": "code",
   "execution_count": 12,
   "id": "535eb15a",
   "metadata": {},
   "outputs": [],
   "source": [
    "def calc_AHPR(dataframe: pd.DataFrame, initial_sum: float):\n",
    "    '''\n",
    "    initial_sum - сумма на старте торговли\n",
    "    dataframe - датафрейм со всеми профитами в долларах (можно скинуть сгруппированный по периодам, тогда на выходе будет средний за период)\n",
    "    relative_expectation - средний доход на сделку в долларах\n",
    "    absolute_expectation - срединй доход на сделку в процентах\n",
    "    '''\n",
    "    relative_expectation = dataframe.values.mean() # в долларах \n",
    "    \n",
    "    dataframe['Equity'] = dataframe.cumsum()\n",
    "    dataframe['Equity'] = dataframe['Equity'] + initial_sum\n",
    "    returns = []\n",
    "    returns.append((dataframe['Equity'][0] / initial_sum - 1)*100) # доходность за первый месяц\n",
    "    \n",
    "    # доходности за последующие месяцы\n",
    "    for i in range(1,len(dataframe)):\n",
    "        returns.append((dataframe['Equity'][i] / dataframe['Equity'][i-1] - 1)*100)\n",
    "    dataframe['Returns'] = returns   \n",
    "    \n",
    "#     print(dataframe['Returns'])\n",
    "    \n",
    "    absolute_expectation = dataframe['Returns'].values.mean() # в процетнах\n",
    "    \n",
    "    \n",
    "    \n",
    "    return [absolute_expectation, relative_expectation] # в процентах, в долларах"
   ]
  },
  {
   "cell_type": "code",
   "execution_count": 13,
   "id": "9645ab70",
   "metadata": {},
   "outputs": [],
   "source": [
    "# Пример использования функции\n",
    "percentages = [5, -3, 100, -2, 4, 3, 3, 2, -5, 4, 7, -9] # Процентная доходность за каждый месяц\n",
    "initial_capital = 1000 # Начальный капитал\n",
    "monthly_incomes = calculate_monthly_income(percentages, initial_capital)\n",
    "df = pd.DataFrame(monthly_incomes)"
   ]
  },
  {
   "cell_type": "code",
   "execution_count": 14,
   "id": "68b85b67",
   "metadata": {},
   "outputs": [
    {
     "data": {
      "text/plain": [
       "[9.083333333333334, 96.77173468717781]"
      ]
     },
     "execution_count": 14,
     "metadata": {},
     "output_type": "execute_result"
    }
   ],
   "source": [
    "calc_AHPR(df, initial_capital)"
   ]
  },
  {
   "cell_type": "markdown",
   "id": "a6dcd557",
   "metadata": {},
   "source": [
    "# CAGR"
   ]
  },
  {
   "cell_type": "code",
   "execution_count": 15,
   "id": "488da4a7",
   "metadata": {},
   "outputs": [],
   "source": [
    "def calc_cagr(initial_value: float, final_value: float, num_periods: float):\n",
    "    '''\n",
    "    initial_value - сумма на старте торговли\n",
    "    final_value - сумма по окончании торговли\n",
    "    num_periods - количество месяцев торговли\n",
    "    \n",
    "    absolute - среднее геометрическое за месяц\n",
    "    '''\n",
    "    absolute = 100*((final_value / initial_value) ** (1 / num_periods) - 1) # в процентах\n",
    "    \n",
    "    return absolute"
   ]
  },
  {
   "cell_type": "code",
   "execution_count": 16,
   "id": "c63de291",
   "metadata": {},
   "outputs": [],
   "source": [
    "# Пример использования функции\n",
    "initial_value = 1000  # Начальная сумма инвестиций\n",
    "final_value = 2000    # Конечная сумма инвестиций\n",
    "num_periods = 2      # Количество месяцев\n",
    "\n",
    "cagr_value = calc_cagr(initial_value, final_value, num_periods)"
   ]
  },
  {
   "cell_type": "code",
   "execution_count": 17,
   "id": "ca605042",
   "metadata": {},
   "outputs": [
    {
     "data": {
      "text/plain": [
       "41.42135623730952"
      ]
     },
     "execution_count": 17,
     "metadata": {},
     "output_type": "execute_result"
    }
   ],
   "source": [
    "cagr_value"
   ]
  },
  {
   "cell_type": "markdown",
   "id": "2e64c164",
   "metadata": {},
   "source": [
    "# Max DD"
   ]
  },
  {
   "cell_type": "code",
   "execution_count": 18,
   "id": "06e4e315",
   "metadata": {},
   "outputs": [],
   "source": [
    "import pandas as pd\n",
    "import matplotlib.pyplot as plt\n",
    "def max_drawdown(data: pd.DataFrame, initial_sum, plot=False):\n",
    "    \"\"\"\n",
    "    Функция для расчета максимальной просадки в заданном временном ряду.\n",
    "\n",
    "    :param data: list, массив результатов сделок или временной ряд.\n",
    "    :return: float, максимальная просадка в процентах.\n",
    "    \"\"\"\n",
    "\n",
    "    # Преобразуем список в pandas.DataFrame, чтобы использовать встроенные методы\n",
    "    df = pd.DataFrame(data.values, columns=[\"result\"])\n",
    "    \n",
    "    df['result'] = df.result.cumsum()\n",
    "    df['result'] = df['result'] + initial_investment\n",
    "    \n",
    "    # Создаем новый датафрейм с одним значением 1000\n",
    "    initial_value = pd.DataFrame({'result': [initial_sum]})\n",
    "\n",
    "    # Добавляем значение initial_sum в начало столбца 'Profits' чтобы капитал менялся с нулевого месяца\n",
    "    df = pd.concat([initial_value, df], ignore_index=True)\n",
    "\n",
    "    \n",
    "    # Рассчитываем кумулятивный максимум на каждом шаге\n",
    "    cummax = df[\"result\"].cummax()\n",
    "#     print(cummax)\n",
    "\n",
    "    if plot == True:\n",
    "        plt.plot(df[\"result\"])\n",
    "#         plt.plot(cummax)\n",
    "        plt.show()\n",
    "    # Рассчитываем текущую просадку на каждом шаге\n",
    "    drawdown = (cummax - df[\"result\"]) / cummax\n",
    "    \n",
    "    if plot == True:\n",
    "        plt.plot(-100*drawdown)\n",
    "\n",
    "    # Находим максимальную просадку и возвращаем ее значение\n",
    "    max_dd = drawdown.max()\n",
    "    return max_dd*100"
   ]
  },
  {
   "cell_type": "markdown",
   "id": "99200db0",
   "metadata": {},
   "source": [
    "# Sortino ratio"
   ]
  },
  {
   "cell_type": "code",
   "execution_count": 19,
   "id": "2ae58e5d",
   "metadata": {},
   "outputs": [],
   "source": [
    "def sortino_ratio(dataframe: pd.DataFrame, risk_free_rate: float, initial_investment: float):\n",
    "        \n",
    "    '''\n",
    "    dataframe - датафрейм размером Nx1,где N - количество торговых месяцев. В этом датафрейме должны быть записаны \n",
    "                профиты по паре активов за каждую сделку, СГРУППИРОВАННЫЕ ПО МЕСЯЦАМ ТОРГОВЛИ. Без учета начального капитала.\n",
    "                То есть все сделки, которые совершены в первый месяц, суммируются и записываются в [0] ячейку, второй месяц - [1]\n",
    "                ячейку и т.д.\n",
    "    risk_free_rate - процент доходости в месяц, который предполагается заработать без риска (например, гос. облигации)\n",
    "    initial_investment - сумма инвестиций на момент запуска торговли\n",
    "    '''\n",
    "    dataframe['Equity'] = dataframe.cumsum()\n",
    "    dataframe['Equity'] = dataframe['Equity'] + initial_investment\n",
    "    returns = []\n",
    "    returns.append((dataframe['Equity'][0] / initial_investment - 1)*100) # доходность за первый месяц\n",
    "    \n",
    "    # доходности за последующие месяцы\n",
    "    for i in range(1,len(dataframe)):\n",
    "        returns.append((dataframe['Equity'][i] / dataframe['Equity'][i-1] - 1)*100)\n",
    "    dataframe['Returns'] = returns  \n",
    "#     print(dataframe['Returns'])\n",
    "    \n",
    "    # Вычисляем избыточную доходность за каждый месяц\n",
    "    dataframe['excess_return'] = dataframe['Returns'] - risk_free_rate\n",
    "\n",
    "    # Вычисляем среднюю избыточную доходность\n",
    "    mean_excess_return = np.mean(dataframe['excess_return'])\n",
    "    \n",
    "    # Вычисляем ниже порога (безрисковая ставка) стандартное отклонение\n",
    "    downside_deviation = np.sqrt(np.mean(np.square(np.minimum(0, dataframe['excess_return']))))\n",
    "    \n",
    "    # Вычисляем Sortino Ratio\n",
    "    sortino = mean_excess_return / downside_deviation\n",
    "    \n",
    "    return sortino # значение коэффициента (не в процентах)"
   ]
  },
  {
   "cell_type": "code",
   "execution_count": 20,
   "id": "294e291e",
   "metadata": {},
   "outputs": [
    {
     "name": "stdout",
     "output_type": "stream",
     "text": [
      "Sortino Ratio: 0.4285\n"
     ]
    }
   ],
   "source": [
    "# пример использования\n",
    "data = {\n",
    "    'sum_of_deals': [400, -500, 300, -100, 200]\n",
    "}\n",
    "\n",
    "df = pd.DataFrame(data)\n",
    "mar = 2 # Минимальный порог, сколько мы хотим, чтобы стратегия зарабатывала в месяц\n",
    "initial_investment = 1000 # Начальная сумма инвестиций\n",
    "\n",
    "sortino = sortino_ratio(df, mar, initial_investment)\n",
    "print(f\"Sortino Ratio: {sortino:.4f}\")"
   ]
  },
  {
   "cell_type": "markdown",
   "id": "c4dfc226",
   "metadata": {},
   "source": [
    "# Sharp Rario"
   ]
  },
  {
   "cell_type": "code",
   "execution_count": 21,
   "id": "6570a4a6",
   "metadata": {},
   "outputs": [],
   "source": [
    "import pandas as pd\n",
    "import numpy as np\n",
    "\n",
    "def sharp_ratio(dataframe: pd.DataFrame, risk_free_rate: float, initial_investment: float):\n",
    "    '''\n",
    "    dataframe - датафрейм размером Nx1,где N - количество торговых месяцев. В этом датафрейме должны быть записаны \n",
    "                профиты по паре активов за каждую сделку, СГРУППИРОВАННЫЕ ПО МЕСЯЦАМ ТОРГОВЛИ. Без учета начального капитала.\n",
    "                То есть все сделки, которые совершены в первый месяц, суммируются и записываются в [0] ячейку, второй месяц - [1]\n",
    "                ячейку и т.д.\n",
    "    risk_free_rate - процент доходости в месяц, который предполагается заработать без риска (например, гос. облигации)\n",
    "    initial_investment - сумма инвестиций на момент запуска торговли\n",
    "    '''\n",
    "        \n",
    "    dataframe['Equity'] = dataframe.cumsum()\n",
    "    dataframe['Equity'] = dataframe['Equity'] + initial_investment\n",
    "    returns = []\n",
    "    returns.append((dataframe['Equity'][0] / initial_investment - 1)*100)\n",
    "    for i in range(1,len(dataframe)):\n",
    "        returns.append((dataframe['Equity'][i] / dataframe['Equity'][i-1] - 1)*100)\n",
    "        \n",
    "    dataframe['Returns'] = returns    \n",
    "    mean_returns = dataframe['Returns'].mean()\n",
    "    std_returns = dataframe['Returns'].std()\n",
    "\n",
    "    \n",
    "    # Вычисляем Sharp Ratio\n",
    "    sortino = (mean_returns - risk_free_rate) / std_returns\n",
    "    \n",
    "    return sortino # значение коэффициента (не в процентах)"
   ]
  },
  {
   "cell_type": "code",
   "execution_count": 22,
   "id": "e979bc9c",
   "metadata": {},
   "outputs": [
    {
     "name": "stdout",
     "output_type": "stream",
     "text": [
      "Sharp Ratio: 0.6812\n"
     ]
    }
   ],
   "source": [
    "data = {\n",
    "    'sum_of_deals': [200, -100, 300]\n",
    "}\n",
    "\n",
    "df = pd.DataFrame(data)\n",
    "mar = 0.165 # Минимальный порог, сколько мы хотим, чтобы стратегия зарабатывала в месяц\n",
    "initial_investment = 1000 # Начальная сумма инвестиций\n",
    "\n",
    "sortino = sharp_ratio(df, mar, initial_investment)\n",
    "print(f\"Sharp Ratio: {sortino:.4f}\")\n"
   ]
  },
  {
   "cell_type": "markdown",
   "id": "d8f09e6f",
   "metadata": {},
   "source": [
    "# Calmar ratio"
   ]
  },
  {
   "cell_type": "code",
   "execution_count": 23,
   "id": "1e2714f8",
   "metadata": {},
   "outputs": [],
   "source": [
    "import pandas as pd\n",
    "import numpy as np\n",
    "\n",
    "def calmar_ratio(dataframe: pd.DataFrame, initial_investment: float):\n",
    "    \n",
    "    df = pd.DataFrame(dataframe.values, columns=[\"result\"])\n",
    "    \n",
    "    df['Equity'] = df.result.cumsum()\n",
    "    df['Equity'] = df['Equity'] + initial_investment\n",
    "    \n",
    "    cagr = calc_cagr(initial_investment, df['Equity'].values[-1], len(df['Equity']))\n",
    "    max_dd = max_drawdown(df.result, initial_investment)\n",
    "    \n",
    "#     print(cagr)\n",
    "#     print(max_dd)\n",
    "    \n",
    "    # Вычисляем коэффициент Кальмара   \n",
    "    calmar = cagr / max_dd\n",
    "    \n",
    "    return calmar"
   ]
  },
  {
   "cell_type": "code",
   "execution_count": 24,
   "id": "e05895a3",
   "metadata": {},
   "outputs": [
    {
     "name": "stdout",
     "output_type": "stream",
     "text": [
      "2.0005517197618508\n"
     ]
    }
   ],
   "source": [
    "data = {\n",
    "    'sum_of_deals': [400, -100, 300, 150, 200]\n",
    "}\n",
    "\n",
    "df = pd.DataFrame(data)\n",
    "initial_investment = 1000  # Начальная сумма инвестиций\n",
    "\n",
    "calmar = calmar_ratio(df, initial_investment)\n",
    "print(calmar)"
   ]
  },
  {
   "cell_type": "markdown",
   "id": "4245a162",
   "metadata": {},
   "source": [
    "# Омега"
   ]
  },
  {
   "cell_type": "code",
   "execution_count": 25,
   "id": "94706b97",
   "metadata": {},
   "outputs": [],
   "source": [
    "import pandas as pd\n",
    "import numpy as np\n",
    "\n",
    "def omega_ratio(dataframe: pd.DataFrame, risk_free_rate: float, initial_investment: float):\n",
    "        \n",
    "    '''\n",
    "    dataframe - датафрейм размером Nx1, где N - количество торговых месяцев. В этом датафрейме должны быть записаны \n",
    "                профиты по паре активов за каждую сделку, СГРУППИРОВАННЫЕ ПО МЕСЯЦАМ ТОРГОВЛИ. Без учета начального капитала.\n",
    "                То есть все сделки, которые совершены в первый месяц, суммируются и записываются в [0] ячейку, второй месяц - [1]\n",
    "                ячейку и т.д.\n",
    "    risk_free_rate - процент доходости в месяц, который предполагается заработать без риска (например, гос. облигации)\n",
    "    initial_investment - сумма инвестиций на момент запуска торговли\n",
    "    '''\n",
    "    \n",
    "    dataframe['Equity'] = dataframe.cumsum()\n",
    "    dataframe['Equity'] = dataframe['Equity'] + initial_investment\n",
    "    returns = []\n",
    "    returns.append((dataframe['Equity'][0] / initial_investment - 1)*100) # доходность за первый месяц\n",
    "    \n",
    "    # доходности за последующие месяцы\n",
    "    for i in range(1,len(dataframe)):\n",
    "        returns.append((dataframe['Equity'][i] / dataframe['Equity'][i-1] - 1)*100)\n",
    "    dataframe['Returns'] = returns  \n",
    "    \n",
    "#     print(dataframe['Returns'])\n",
    "\n",
    "    # Вычисляем избыточную доходность за каждый месяц\n",
    "    dataframe['excess_return'] = dataframe['Returns'] - risk_free_rate\n",
    "\n",
    "    # Вычисляем положительную и отрицательную избыточную доходность\n",
    "    positive_excess_return = dataframe['excess_return'][dataframe['excess_return'] > 0].sum()\n",
    "    negative_excess_return = abs(dataframe['excess_return'][dataframe['excess_return'] < 0].sum())\n",
    "\n",
    "    # Вычисляем Omega Ratio\n",
    "    omega = positive_excess_return / negative_excess_return\n",
    "    \n",
    "    return omega # значение коэффициента (не в процентах)\n"
   ]
  },
  {
   "cell_type": "code",
   "execution_count": 26,
   "id": "c2c7750a",
   "metadata": {},
   "outputs": [
    {
     "name": "stdout",
     "output_type": "stream",
     "text": [
      "1.7549857549857548\n"
     ]
    }
   ],
   "source": [
    "data = {\n",
    "    'sum_of_deals': [400, -1000, -300, 150, 200]\n",
    "}\n",
    "\n",
    "df = pd.DataFrame(data)\n",
    "initial_investment = 1000  # Начальная сумма инвестиций\n",
    "mar = 2\n",
    "\n",
    "omega = omega_ratio(df, mar, initial_investment)\n",
    "print(omega)"
   ]
  },
  {
   "cell_type": "markdown",
   "id": "6d05ec7b",
   "metadata": {},
   "source": [
    "# Profit factor "
   ]
  },
  {
   "cell_type": "code",
   "execution_count": 27,
   "id": "9aa99925",
   "metadata": {},
   "outputs": [],
   "source": [
    "import pandas as pd\n",
    "import numpy as np\n",
    "\n",
    "def profit_factor(dataframe: pd.DataFrame):\n",
    "    '''\n",
    "    dataframe - датафрейм размером со всеми сделками.\n",
    "    '''\n",
    "    # Вычисляем сумму прибыльных и убыточных сделок\n",
    "    profits = dataframe[dataframe > 0].sum()\n",
    "    losses = dataframe[dataframe < 0].sum()\n",
    "\n",
    "    # Вычисляем коэффициент Profit Factor\n",
    "    profit_factor = profits / abs(losses)\n",
    "\n",
    "    return profit_factor[0]"
   ]
  },
  {
   "cell_type": "code",
   "execution_count": 28,
   "id": "84a59bfe",
   "metadata": {},
   "outputs": [
    {
     "name": "stdout",
     "output_type": "stream",
     "text": [
      "0.5769230769230769\n"
     ]
    }
   ],
   "source": [
    "data = {\n",
    "    'sum_of_deals': [400, -1000, -300, 150, 200]\n",
    "}\n",
    "\n",
    "df = pd.DataFrame(data)\n",
    "\n",
    "pf = profit_factor(df)\n",
    "print(pf)"
   ]
  },
  {
   "cell_type": "markdown",
   "id": "d24fdc08",
   "metadata": {},
   "source": [
    "# Z-index"
   ]
  },
  {
   "cell_type": "code",
   "execution_count": 29,
   "id": "56665f2b",
   "metadata": {},
   "outputs": [],
   "source": [
    "def calculate_z(df: pd.DataFrame):\n",
    "    '''\n",
    "    df: Массив с профитами сделок\n",
    "    Z: z-index\n",
    "    '''\n",
    "    # Convert profits to wins (1) and losses (-1)\n",
    "    trade_outcomes = np.sign(df.values)\n",
    "    \n",
    "    # Count wins and losses\n",
    "    W = (trade_outcomes == 1).sum()\n",
    "    L = (trade_outcomes == -1).sum()\n",
    "    \n",
    "    # Calculate total number of trades\n",
    "    N = len(trade_outcomes)\n",
    "    \n",
    "    # Calculate number of win/loss streaks\n",
    "    changes = (trade_outcomes[:-1] != trade_outcomes[1:]).sum()\n",
    "    R = changes + 1\n",
    "\n",
    "    # Calculate P\n",
    "    P = 2.0 * W * L\n",
    "\n",
    "    # Calculate Z score\n",
    "    numerator = (N * (R - 0.5) - P)\n",
    "    denominator = np.sqrt((P * (P - N)) / (N - 1))\n",
    "    Z = numerator / denominator\n",
    "\n",
    "    return Z"
   ]
  },
  {
   "cell_type": "code",
   "execution_count": 30,
   "id": "1d8d3e9f",
   "metadata": {},
   "outputs": [
    {
     "name": "stdout",
     "output_type": "stream",
     "text": [
      "-3.4142776200342393\n"
     ]
    }
   ],
   "source": [
    "# Test the function\n",
    "profits = pd.DataFrame([+10, +10, +10, +10, +10, -10, -10, -10, -10, -10, -10, +10, -10, +10, +10, +10,+10, +10, +10, +10, -10, -10, -10, -10, -10, -10, -10, -10, -10, +10, +10, +10])\n",
    "print(calculate_z(profits))"
   ]
  },
  {
   "cell_type": "code",
   "execution_count": 31,
   "id": "87be88a0",
   "metadata": {},
   "outputs": [
    {
     "name": "stdout",
     "output_type": "stream",
     "text": [
      "-1.5138251770487459\n"
     ]
    }
   ],
   "source": [
    "# Test the function\n",
    "profits = pd.DataFrame([+10, +10, +10, -10, -10, -10, +10, +10, +10, -10, -10, -10])\n",
    "print(calculate_z(profits))"
   ]
  },
  {
   "cell_type": "code",
   "execution_count": 32,
   "id": "0c585f2e",
   "metadata": {},
   "outputs": [
    {
     "name": "stdout",
     "output_type": "stream",
     "text": [
      "0.19820624179302299\n"
     ]
    }
   ],
   "source": [
    "# Test the function\n",
    "profits = pd.DataFrame([+10, +10, +10, +10, +10, -10, +10, +10, +10, +10, +10, -10])\n",
    "print(calculate_z(profits))"
   ]
  },
  {
   "cell_type": "code",
   "execution_count": 33,
   "id": "7241b7d1",
   "metadata": {},
   "outputs": [
    {
     "name": "stdout",
     "output_type": "stream",
     "text": [
      "0.1091089451179962\n"
     ]
    }
   ],
   "source": [
    "data = {\n",
    "    'sum_of_deals': [400, -1000, -300, 150, 200]\n",
    "}\n",
    "\n",
    "df = pd.DataFrame(data)\n",
    "\n",
    "print(calculate_z(df))"
   ]
  },
  {
   "cell_type": "markdown",
   "id": "297c73b9",
   "metadata": {},
   "source": [
    "# Linear regression"
   ]
  },
  {
   "cell_type": "markdown",
   "id": "2e1c0107",
   "metadata": {},
   "source": [
    "Линейная регрессия и расчет SSE (сумма квадратов ошибок) могут быть полезными инструментами при анализе доходности торговой стратегии.\n",
    "\n",
    "- Линейная регрессия: Регрессионный анализ может помочь установить, есть ли линейная зависимость между временем и доходностью торговой стратегии. Если есть такая зависимость, это может указывать на стабильность или рост доходности стратегии. Если же нет, это может говорить о том, что доходность колеблется вокруг среднего значения, и нет явного тренда роста или снижения.\n",
    "\n",
    "- SSE: Сумма квадратов ошибок (SSE) - это мера того, насколько линейная регрессионная модель отклоняется от фактических данных. Она показывает, насколько хорошо линия регрессии соответствует данным. Меньшее значение SSE указывает на лучшее соответствие и, следовательно, на большую стабильность доходности. Большое значение SSE может указывать на большую волатильность или нестабильность доходности.\n",
    "\n",
    "Однако стоит заметить, что использование линейной регрессии и SSE в данном контексте имеет смысл только если предполагается, что доходность торговой стратегии имеет линейный тренд. Если тренд нелинейный или отсутствует, эти метрики могут дать искаженное представление о стабильности или эффективности стратегии."
   ]
  },
  {
   "cell_type": "code",
   "execution_count": 56,
   "id": "693ea2f8",
   "metadata": {},
   "outputs": [],
   "source": [
    "from sklearn.linear_model import LinearRegression\n",
    "from sklearn.metrics import mean_squared_error\n",
    "\n",
    "def linear_regression(df):\n",
    "    # df - датафрейм с результатами сделок \n",
    "#     df = df.reset_index()\n",
    "    df['Equity'] = df.cumsum()\n",
    "    # Зададим модель линейной регрессии\n",
    "    model = LinearRegression()\n",
    "\n",
    "    # Обучим модель\n",
    "    x = np.array(df.index).reshape(-1, 1)\n",
    "    y = df['Equity']\n",
    "    model.fit(x, y)\n",
    "\n",
    "    # Сделаем предсказания\n",
    "    y_pred = model.predict(x)\n",
    "\n",
    "    # Посчитаем ошибку SSE\n",
    "    residuals = y - y_pred\n",
    "    sse = np.sum(residuals**2)\n",
    "    print(f\"SSE: {sse}\")\n",
    "\n",
    "    # Построим график\n",
    "    plt.figure(figsize=(12, 6))\n",
    "    plt.plot(x, y, color='blue')\n",
    "    plt.plot(x, y_pred, color='red', linewidth=2)\n",
    "    plt.xlabel('Index')\n",
    "    plt.ylabel('Equity')\n",
    "    plt.title('Linear Regression and Capital Change')\n",
    "    plt.show()\n",
    "\n",
    "    return model, sse"
   ]
  },
  {
   "cell_type": "code",
   "execution_count": 57,
   "id": "f01fe5c7",
   "metadata": {},
   "outputs": [],
   "source": [
    "data = {\n",
    "    'sum_of_deals': [0, 10, 20, -5, 7, 8]\n",
    "}\n",
    "\n",
    "df = pd.DataFrame(data)"
   ]
  },
  {
   "cell_type": "code",
   "execution_count": 58,
   "id": "d15807f0",
   "metadata": {},
   "outputs": [],
   "source": [
    "to_test = calculate_monthly_income(scenario_3,1000)"
   ]
  },
  {
   "cell_type": "code",
   "execution_count": 59,
   "id": "de953573",
   "metadata": {},
   "outputs": [
    {
     "name": "stdout",
     "output_type": "stream",
     "text": [
      "SSE: 105956.24508385184\n"
     ]
    },
    {
     "data": {
      "image/png": "[encoded data removed]",
      "text/plain": [
       "<Figure size 1200x600 with 1 Axes>"
      ]
     },
     "metadata": {},
     "output_type": "display_data"
    },
    {
     "data": {
      "text/plain": [
       "(LinearRegression(), 105956.24508385184)"
      ]
     },
     "execution_count": 59,
     "metadata": {},
     "output_type": "execute_result"
    }
   ],
   "source": [
    "linear_regression(to_test)"
   ]
  },
  {
   "cell_type": "code",
   "execution_count": 62,
   "id": "312ff0b6",
   "metadata": {},
   "outputs": [
    {
     "name": "stdout",
     "output_type": "stream",
     "text": [
      "SSE: 1525788.3695226107\n"
     ]
    },
    {
     "data": {
      "image/png": "[encoded data removed]",
      "text/plain": [
       "<Figure size 1200x600 with 1 Axes>"
      ]
     },
     "metadata": {},
     "output_type": "display_data"
    },
    {
     "data": {
      "text/plain": [
       "(LinearRegression(), 1525788.3695226107)"
      ]
     },
     "execution_count": 62,
     "metadata": {},
     "output_type": "execute_result"
    }
   ],
   "source": [
    "to_test = calculate_monthly_income(scenario_14,1000)\n",
    "linear_regression(to_test)"
   ]
  },
  {
   "cell_type": "code",
   "execution_count": 69,
   "id": "93b0a73a",
   "metadata": {},
   "outputs": [
    {
     "name": "stdout",
     "output_type": "stream",
     "text": [
      "SSE: 1416846.3382962337\n"
     ]
    },
    {
     "data": {
      "image/png": "[encoded data removed]",
      "text/plain": [
       "<Figure size 1200x600 with 1 Axes>"
      ]
     },
     "metadata": {},
     "output_type": "display_data"
    },
    {
     "data": {
      "text/plain": [
       "(LinearRegression(), 1416846.3382962337)"
      ]
     },
     "execution_count": 69,
     "metadata": {},
     "output_type": "execute_result"
    }
   ],
   "source": [
    "to_test = calculate_monthly_income([14,15,16,17,18,19,20,21,22,24],1000)\n",
    "linear_regression(to_test)"
   ]
  },
  {
   "cell_type": "code",
   "execution_count": null,
   "id": "761dd40c",
   "metadata": {},
   "outputs": [],
   "source": []
  },
  {
   "cell_type": "markdown",
   "id": "84678c53",
   "metadata": {},
   "source": [
    "# Запуск всех "
   ]
  },
  {
   "cell_type": "code",
   "execution_count": 34,
   "id": "0cb3a7a0",
   "metadata": {},
   "outputs": [],
   "source": [
    "data = {\n",
    "    'sum_of_deals': [400, -1000, -300, 150, 200]\n",
    "}\n",
    "\n",
    "df = pd.DataFrame(data)\n",
    "initial_investment = 1000  # Начальная сумма инвестиций\n",
    "mar = 2\n",
    "initial_sum = 1000"
   ]
  },
  {
   "cell_type": "code",
   "execution_count": 35,
   "id": "2d78c867",
   "metadata": {},
   "outputs": [
    {
     "name": "stdout",
     "output_type": "stream",
     "text": [
      "Profit factor:  0.5769230769230769\n",
      "CMRG:  -14.760184159617417 %\n",
      "Sortino ratio:  0.505087775105181\n"
     ]
    }
   ],
   "source": [
    "print('Profit factor: ', profit_factor(df))\n",
    "print('CMRG: ', calc_cagr(initial_sum, initial_sum+df.values.sum(), len(df)), '%')\n",
    "print('Sortino ratio: ', sortino_ratio(df, 1, initial_sum))\n"
   ]
  },
  {
   "cell_type": "code",
   "execution_count": null,
   "id": "006d8a1e",
   "metadata": {},
   "outputs": [],
   "source": []
  },
  {
   "cell_type": "code",
   "execution_count": null,
   "id": "d3d7a14c",
   "metadata": {},
   "outputs": [],
   "source": []
  },
  {
   "cell_type": "code",
   "execution_count": null,
   "id": "7904be56",
   "metadata": {},
   "outputs": [],
   "source": []
  },
  {
   "cell_type": "code",
   "execution_count": 36,
   "id": "3ab9931d",
   "metadata": {},
   "outputs": [],
   "source": [
    "def coeffs(data, initial_sum):\n",
    "    \n",
    "    data = calculate_monthly_income(data, initial_sum)\n",
    "\n",
    "    df = data.copy()\n",
    "    max_drawdown(df, initial_sum, True)\n",
    "\n",
    "    df = data.copy()\n",
    "    print('Profit factor: ', profit_factor(df))\n",
    "\n",
    "    df = data.copy()\n",
    "    print('CMRG: ', calc_cagr(initial_sum, initial_sum+df.values.sum(), len(df)), '%')\n",
    "    \n",
    "    df = data.copy()\n",
    "    print('GHPR: ', calc_GHPR(initial_sum, initial_sum+df.values.sum(), len(df)), '%')\n",
    "    \n",
    "    df = data.copy()\n",
    "    ahpr = calc_AHPR(df, initial_sum)\n",
    "    print('AHPR (Expectation): ', ahpr[0], '%, ', ahpr[1], '$')\n",
    "    \n",
    "    df = data.copy()\n",
    "    print('Deviation: ',df.values.std(), '$')\n",
    "    \n",
    "    df = data.copy()\n",
    "    print('Z-index: ', calculate_z(df))\n",
    "\n",
    "    df = data.copy()\n",
    "    print('Omega: ', omega_ratio(df, 1, initial_sum))\n",
    "    \n",
    "    df = data.copy()\n",
    "    print('Sortino ratio: ', sortino_ratio(df, 1, initial_sum))\n",
    "\n",
    "    df = data.copy()\n",
    "    print('Sharp ratio: ', sharp_ratio(df, 1, initial_sum))\n",
    "\n",
    "    df = data.copy()\n",
    "    print('Calmar ratio: ', calmar_ratio(df, initial_sum))\n",
    "\n",
    "    df = data.copy()\n",
    "    m = max_drawdown(df, initial_sum, False)\n",
    "    print('Max drawdown: ', m, '%')"
   ]
  },
  {
   "cell_type": "markdown",
   "id": "7187360c",
   "metadata": {},
   "source": [
    "# Сценарии"
   ]
  },
  {
   "cell_type": "code",
   "execution_count": 37,
   "id": "8745ee4f",
   "metadata": {},
   "outputs": [],
   "source": [
    "cagr_1 = [4, -9, 7, -8, 3, 16, -3]\n",
    "cagr_2 = [4, -3, 4, -3, 4, -3, 4]"
   ]
  },
  {
   "cell_type": "code",
   "execution_count": 106,
   "id": "b22aede1",
   "metadata": {},
   "outputs": [],
   "source": [
    "# Стабильный рост\n",
    "scenario_1 = [2] * 24\n",
    "scenario_1_1 = [3] * 24\n",
    "scenario_1_1_2 = [30] * 24\n",
    "scenario_1_2 = [1, 2, 1, 2, 1, 2, 1, 2, 1, 2, 1, 2, 1, 2, 1, 2, 1, 2, 1, 2, 1, 2, 1, 2]\n",
    "\n",
    "# Циклический рост\n",
    "scenario_2 = [7, -3, 7, -3, 7, -3, 7, -3, 7, -3, 7, -3, 7, -3, 7 -3, 7, -3, 7, -3, 7 -3, 7, -3]\n",
    "scenario_2_1 = [10, -3, 10, -3, 10, -3, 10, -3, 10, -3, 10, -3, 10, -3, 10 -3, 10, -3, 10, -3, 10, -3, 10, -3]\n",
    "\n",
    "# Высокий рост с высокой волатильностью\n",
    "scenario_3 = [10, -5, 12, -7, 15, -10, 8, -5, 11, -4, 9, -6, 14, -8, 13, -9, 12, -5, 10, -5, 15, -7, 8, -4]\n",
    "\n",
    "# Случайная доходность в пределах от -5% до 10%\n",
    "scenario_6 = [random.uniform(-5, 10) for _ in range(24)]\n",
    "\n",
    "# Разворот тренда\n",
    "scenario_8 = [-3, -3, -3, -3, -3, -3, -3, -3, -3, -3, -3, -3, 4, 4, 4, 4, 4, 4, 4, 4, 4, 4, 4, 4]\n",
    "\n",
    "# Более реалистичный сценарий с разной доходностью\n",
    "scenario_9 = [2, 3, -1, 1, 5, -2, 3, 4, -3, 2, 3, 4, -1, 2, 5, -4, 3, 2, -2, 1, 4, 3, -1, 2]\n",
    "\n",
    "# Резкий спад с последующим восстановлением\n",
    "scenario_10 = [-20, 3, 3, 3, 3, 3, 3, 3, 3, 3, 3, 3, 3, 3, 3, 2, 2, 2, 2, 2, 2, 2, 2, 2]\n",
    "\n",
    "# Стабильный рост, резкий спад, стабильный рост\n",
    "scenario_11 = [3, 3, 3, 3, 3, 3, 3, 3, 3, 3, -15, 3, 3, 3, 3, 2, 2, 2, 2, 2, 2, 2, 2, 2]\n",
    "\n",
    "\n",
    "# Медленный спад с последующим резким восстановлением\n",
    "scenario_12 = [-2, -2, -2, -2, -2, -2, -2, -2, -2, -2, -2, -2, 10, 10, 10, 10, 10, 10, 10, 10, 10, 10, 10, 10]\n",
    "\n",
    "\n",
    "# Случайные скачки с экстремальными значениями\n",
    "scenario_13 = [random.uniform(-20, 23) for _ in range(24)]\n",
    "\n",
    "# Разброс доходности с экстремальными значениями\n",
    "scenario_14 = [30, 25, 5, -10, 20, -15, 10, -5, 15, -20, 25, 10, 5, -15, 20, -5, 10, 20, 15, -25, 30, -10, 5, -15]\n",
    "\n",
    "strategy1 = [1.5, 2, -10, 2.5, 1, 15, 1.5, 1, -5, 1.5, 0.5, 2, 2.5, 1.5, 0.5, 1, 12, 2, 2, -8, 1.5, 1, 0.5, 1]\n",
    "strategy2 = [0.8, 0.9, 1.1, 0.7, 0.8, 1.2, 0.9, 1, 1.1, 0.9, 0.8, 0.7, 0.9, 1, 0.8, 1.1, 1.2, 0.9, 0.8, 0.7, 1.1, 1, 0.8, 0.9]\n",
    "\n",
    "scenario1 = [0.5, 1, 1.5, 2, 1, 0.8, 20, 1.5, 1, 0.5, 1, 1, 1, 0.5, 1, 1, 1, 2, 0.5, 1, 1, 0.5, 1, 1]\n",
    "scenario2 = [1, 1.2, 1.3, 1.1, 1, -1, 1.3, 1.2, 1.1, 1, 1.2, 1.1, 1, 1.2, 1.1, 1.3, 1, 1.1, 1.2, 1, 1.1, 1.2, 1, 1.1]\n",
    "scenario3 = [1, -1, 2, -2, 1, 1, -1, 1, 2, 1, -1, 2, 1, 1, 2, 1, -1, 2, 1, 1, -1, 1, 2, 1]\n",
    "\n",
    "\n",
    "scenario_15 = [4, -1, 4, -1, 4, -1, 4, -1, 4, -1, 4, -1, 4, -1, 4, -1, 4, -1, 4, -1, 4, -1, 4, -1]\n",
    "scenario_16 = [1, -1, 4, -1, 4, -1, 4, -1, 4, -1, 4, -7, 4, -1, 4, -1, 4, -1, 4, -1, 4, -1, 4, -1]\n",
    "\n",
    "scenario_17 = [1, 2, 1, 2, 1, 2, 1, 2, 1, 2, -2, 2, 1, 2, 1, 2, 1, 2, 1, 2, 1, 2, 1, 2]\n",
    "scenario_18 = [1, 1, 1, 1, 1, 1, 1, 1, 1, 1, 1, 1, 1, 1, 1, 1, 1, 1, 1, 1, 1, 1, 1, 2]\n",
    "\n",
    "scenario_19 = [0, 4, 5, 6, 1, -2, 3, -2, -1, 2, 3, 4, -2, 4, -2, -2, 3, -2, -1, 2, 3, 4, -2, 4, -2, 4, 8, 9, 10]\n",
    "\n",
    "\n",
    "cagr_1 = [4, -9, 7, -8, 3, 16, -3.5]\n",
    "cagr_2 = [4, -3, 4, -3, 4, -3, 4]\n",
    "sharp = [8, -5, 3, -4, 4, 3.2]\n"
   ]
  },
  {
   "cell_type": "code",
   "execution_count": 39,
   "id": "ac8f3581",
   "metadata": {},
   "outputs": [],
   "source": [
    "cagr_1 = [10, 9, 8, 7, 6, 1, 2, 3, 4, 5, 6, -1, -2, -3, -4]\n",
    "cagr_2 = [8, 8, 8, 8, 8, 1, 2, 3, 4, 5, 6, -4, -4, -4, -4]\n",
    "\n",
    "# cagr_2 = [4, -3, 4, -3, 4, -3, 4]\n",
    "# cagr_3 = [8, -5, 3, -4, 4, 3]"
   ]
  },
  {
   "cell_type": "code",
   "execution_count": 40,
   "id": "bb84246d",
   "metadata": {},
   "outputs": [],
   "source": [
    "z1 = [-10, 10, -10, 10, -10, 10, -10, 10, -10, 10, -10, 10, -10, 10]\n",
    "z2 = [-10, -10, -10, 10, -10, -10, -10, -10, -10, 10, -10, -10, -10, -10]\n",
    "z3 = [+10, +10, +10, +10, +10, -10, -10, -10, -10, -10, -10, +10, -10, +10, +10, +10,+10, +10, +10, +10, -10, -10, -10, -10, -10, -10, -10, -10, -10, +10, +10, +10]"
   ]
  },
  {
   "cell_type": "code",
   "execution_count": null,
   "id": "e9080f63",
   "metadata": {},
   "outputs": [],
   "source": []
  },
  {
   "cell_type": "code",
   "execution_count": null,
   "id": "cb461100",
   "metadata": {},
   "outputs": [],
   "source": []
  },
  {
   "cell_type": "code",
   "execution_count": 41,
   "id": "3b13dee8",
   "metadata": {},
   "outputs": [],
   "source": [
    "scenario_14 = [random.uniform(-20, 25) for _ in range(24)]"
   ]
  },
  {
   "cell_type": "code",
   "execution_count": 42,
   "id": "296cba5f",
   "metadata": {},
   "outputs": [],
   "source": [
    "scenario_13 = [random.uniform(-20, 25) for _ in range(24)]"
   ]
  },
  {
   "cell_type": "code",
   "execution_count": 43,
   "id": "acbdf633",
   "metadata": {},
   "outputs": [],
   "source": [
    "scenario_12 = [random.uniform(-20, 25) for _ in range(24)]"
   ]
  },
  {
   "cell_type": "code",
   "execution_count": 44,
   "id": "e626e62f",
   "metadata": {},
   "outputs": [],
   "source": [
    "# scenario_11 = [random.uniform(-20, 21) for _ in range(240)]"
   ]
  },
  {
   "cell_type": "markdown",
   "id": "d57a87d1",
   "metadata": {},
   "source": [
    "# Обработка результатов"
   ]
  },
  {
   "cell_type": "markdown",
   "id": "681a98c6",
   "metadata": {},
   "source": [
    "Стат тест"
   ]
  },
  {
   "cell_type": "code",
   "execution_count": 141,
   "id": "4ac47160",
   "metadata": {},
   "outputs": [
    {
     "name": "stdout",
     "output_type": "stream",
     "text": [
      "29\n"
     ]
    }
   ],
   "source": [
    "s = scenario_19\n",
    "# s = scenario_3\n",
    "print(len(s))"
   ]
  },
  {
   "cell_type": "code",
   "execution_count": 109,
   "id": "a748af42",
   "metadata": {},
   "outputs": [],
   "source": [
    "to_test = np.array(calculate_monthly_income(s,1000))"
   ]
  },
  {
   "cell_type": "code",
   "execution_count": 130,
   "id": "719476f0",
   "metadata": {},
   "outputs": [
    {
     "name": "stdout",
     "output_type": "stream",
     "text": [
      "27.531242343537883\n"
     ]
    },
    {
     "data": {
      "image/png": "[encoded data removed]",
      "text/plain": [
       "<Figure size 640x480 with 1 Axes>"
      ]
     },
     "metadata": {},
     "output_type": "display_data"
    }
   ],
   "source": [
    "plt.plot(to_test) # профит за каждую сделку\n",
    "print(np.mean(to_test))"
   ]
  },
  {
   "cell_type": "code",
   "execution_count": 131,
   "id": "60a31d6b",
   "metadata": {},
   "outputs": [
    {
     "name": "stdout",
     "output_type": "stream",
     "text": [
      "262.21551464721466\n"
     ]
    },
    {
     "data": {
      "image/png": "[encoded data removed]",
      "text/plain": [
       "<Figure size 640x480 with 1 Axes>"
      ]
     },
     "metadata": {},
     "output_type": "display_data"
    }
   ],
   "source": [
    "plt.plot(to_test.cumsum())\n",
    "print(np.mean(to_test.cumsum()))"
   ]
  },
  {
   "cell_type": "code",
   "execution_count": 127,
   "id": "5f080efe",
   "metadata": {},
   "outputs": [
    {
     "name": "stdout",
     "output_type": "stream",
     "text": [
      "Статистика: [295.], p-значение: [0.04816589]\n",
      "Отвергаем нулевую гипотезу. Средняя месячная прибыль стратегии вероятно больше 11 долларов.\n"
     ]
    }
   ],
   "source": [
    "# средняя прибыль каждой сделки (или каждого месяца)\n",
    "check_profit_hypothesis_3(to_test, 11)"
   ]
  },
  {
   "cell_type": "code",
   "execution_count": null,
   "id": "0b785db5",
   "metadata": {},
   "outputs": [],
   "source": []
  },
  {
   "cell_type": "code",
   "execution_count": 140,
   "id": "c8a5fcde",
   "metadata": {},
   "outputs": [
    {
     "name": "stdout",
     "output_type": "stream",
     "text": [
      "Статистика: 300.0, p-значение: 0.03799443319439888\n",
      "Отвергаем нулевую гипотезу. Средняя месячная прибыль стратегии вероятно больше 202 долларов.\n"
     ]
    }
   ],
   "source": [
    "# статистически значимая прибыль СТРАТЕГИИ\n",
    "check_profit_hypothesis_3(to_test.cumsum(), 202)"
   ]
  },
  {
   "cell_type": "code",
   "execution_count": 50,
   "id": "d435e9c0",
   "metadata": {},
   "outputs": [],
   "source": [
    "# check_profit_hypothesis(pd.DataFrame(to_test),0)"
   ]
  },
  {
   "cell_type": "markdown",
   "id": "b21969d4",
   "metadata": {},
   "source": [
    "Коэффициенты"
   ]
  },
  {
   "cell_type": "code",
   "execution_count": 51,
   "id": "d8ee6028",
   "metadata": {
    "scrolled": false
   },
   "outputs": [
    {
     "data": {
      "image/png": "[encoded data removed]",
      "text/plain": [
       "<Figure size 640x480 with 1 Axes>"
      ]
     },
     "metadata": {},
     "output_type": "display_data"
    },
    {
     "name": "stdout",
     "output_type": "stream",
     "text": [
      "Profit factor:  1.8306167325155218\n",
      "CMRG:  4.2005122240831305 %\n",
      "GHPR:  4.2005122240831305 %\n",
      "AHPR (Expectation):  5.04740002838662 %,  70.19086993194794 $\n",
      "Deviation:  262.67567949718523 $\n",
      "Z-index:  1.8980806165967428\n",
      "Omega:  1.9689422202723796\n",
      "Sortino ratio:  0.5289248441980231\n",
      "Sharp ratio:  0.30337987273279876\n",
      "Calmar ratio:  0.1465922328835448\n",
      "Max drawdown:  28.65439826829082 %\n"
     ]
    },
    {
     "data": {
      "image/png": "[encoded data removed]",
      "text/plain": [
       "<Figure size 640x480 with 1 Axes>"
      ]
     },
     "metadata": {},
     "output_type": "display_data"
    }
   ],
   "source": [
    "coeffs(s, 1000)"
   ]
  },
  {
   "cell_type": "code",
   "execution_count": null,
   "id": "36d2c24c",
   "metadata": {},
   "outputs": [],
   "source": []
  },
  {
   "cell_type": "code",
   "execution_count": null,
   "id": "dfb046c0",
   "metadata": {},
   "outputs": [],
   "source": []
  },
  {
   "cell_type": "code",
   "execution_count": null,
   "id": "6cfb3cc4",
   "metadata": {},
   "outputs": [],
   "source": []
  },
  {
   "cell_type": "code",
   "execution_count": null,
   "id": "0662e77e",
   "metadata": {},
   "outputs": [],
   "source": []
  }
 ],
 "metadata": {
  "kernelspec": {
   "display_name": "Python 3 (ipykernel)",
   "language": "python",
   "name": "python3"
  },
  "language_info": {
   "codemirror_mode": {
    "name": "ipython",
    "version": 3
   },
   "file_extension": ".py",
   "mimetype": "text/x-python",
   "name": "python",
   "nbconvert_exporter": "python",
   "pygments_lexer": "ipython3",
   "version": "3.11.4"
  }
 },
 "nbformat": 4,
 "nbformat_minor": 5
}
